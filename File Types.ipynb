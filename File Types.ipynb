{
 "cells": [
  {
   "cell_type": "markdown",
   "id": "d9c6764e",
   "metadata": {},
   "source": [
    "# (1) API"
   ]
  },
  {
   "cell_type": "markdown",
   "id": "d45e1126",
   "metadata": {},
   "source": [
    "**Application Programming Interface is a set of rules and protocols for building and interacting with software applications**\n",
    "\n",
    "API defines the methods and data formats that developers should use to communicate with API, whether it be from a web server, a database, or software components.\n",
    "\n",
    "APIs work as an intermediary layer between an application or server and the end user without exposing the underlying implementation details."
   ]
  },
  {
   "cell_type": "markdown",
   "id": "2218449a",
   "metadata": {},
   "source": [
    "##### Types of APIs: \n",
    "    Web APIs, Operating System APIs, Database APIs, Hardware APIs"
   ]
  },
  {
   "cell_type": "markdown",
   "id": "c1317977",
   "metadata": {},
   "source": [
    "##### Key Components: \n",
    "\n",
    "1. **End Points**: A specific URL where the API can be accessed by a client application\n",
    "\n",
    "2. **Methods**: Define methods that perform specific actions using verbs such as GET,  POST, etc., in the context of web APIs.\n",
    "    \n",
    "3. **Payloads**: Data sent with the request, often in JSON or XML format.\n",
    "    \n",
    "4. **Authentication and Authorization**: Many APIs require credentials to verify the identity of the requestor and ensure they have permission to access the data or functions they are requesting."
   ]
  },
  {
   "cell_type": "markdown",
   "id": "eb75b8a6",
   "metadata": {},
   "source": [
    "# (2) .yaml/.yml"
   ]
  },
  {
   "cell_type": "markdown",
   "id": "2a4e7c12",
   "metadata": {},
   "source": [
    "Documents written in YAML (YAML Ain't Markup Language or Yet Another Markup Language 标记语言), a human eadable data serialization(序列化) standard that can be used in conjunction with all programming languages and is often used to write configuration files."
   ]
  },
  {
   "cell_type": "markdown",
   "id": "4ef6be90",
   "metadata": {},
   "source": [
    "##### Key Features:\n",
    "    Human readable, Structured Date, Flexible Data Types, Support for Comments, Minimal Syntax."
   ]
  },
  {
   "cell_type": "markdown",
   "id": "6af631cb",
   "metadata": {},
   "source": [
    "##### Basic Syntax and Examples:\n",
    "\n",
    "**Scalars**: representing  single values such as strings, integers and booleans\n",
    "\n",
    "    Example:   \n",
    "        name: Chromatix\\\n",
    "        age: 24\\\n",
    "        boolean: true\n",
    "**Lists**: denoted by a leading dash: '-'\n",
    "\n",
    "    Example:\n",
    "        Fruits:\n",
    "          - Apple\n",
    "          - Orange\n",
    "**Dictionary**: Sets of key-value pairs\n",
    "\n",
    "    Example:\n",
    "       address:\n",
    "         street: 12 Main St\n",
    "         zip: 34798\n",
    "**Nested Structures**: Nesting of dictionaries and lists\n",
    "\n",
    "    Example:\n",
    "       name: Ziyi Xiong\n",
    "       address:\n",
    "          street: 12 Main St\n",
    "          zip: 34879\n",
    "       children:\n",
    "         - name: dff\n",
    "         - age: 32"
   ]
  },
  {
   "cell_type": "markdown",
   "id": "02483ed7",
   "metadata": {},
   "source": [
    "##### Commom Uses:\n",
    "\n",
    "1. **Configuration Files**: Used for configuration files in various applications and frameworks.\n",
    "\n",
    "2. **Data Serialization**: Serialize data for storage and transmission.\n",
    "\n",
    "3. **File-Based Communication**: Exchange data between different systems or components. "
   ]
  },
  {
   "cell_type": "markdown",
   "id": "3e764968",
   "metadata": {},
   "source": [
    "# (3) .md"
   ]
  },
  {
   "cell_type": "markdown",
   "id": "a40ebc47",
   "metadata": {},
   "source": [
    "Documents written in Markdown"
   ]
  },
  {
   "cell_type": "markdown",
   "id": "8b2fa463",
   "metadata": {},
   "source": [
    "# (4) .css"
   ]
  },
  {
   "cell_type": "markdown",
   "id": "e38c5351",
   "metadata": {},
   "source": [
    "**Cascading Style Sheets** files used in web development to control the presentation, formatting, and layout of HTML documents, provides the visual and aural layout for users"
   ]
  },
  {
   "cell_type": "markdown",
   "id": "134b8927",
   "metadata": {},
   "source": [
    "##### Key Features:\n",
    "\n",
    "    Separation of Content and Design, Cascading Rules, Selective Styling, Responsive Design."
   ]
  },
  {
   "cell_type": "markdown",
   "id": "481b39c1",
   "metadata": {},
   "source": [
    "##### Components of CSS:\n",
    "\n",
    "CSS consists of rulesets where each ruleset includes a selector and a declaration block.\n",
    "\n",
    "    Selector specifies the HTML elements to be styled.\n",
    "    \n",
    "    Declaration Block contains one or more declarations separated by semicolons. Each declaration includes a CSS property name and a value, separated by a colon.\n",
    "    \n",
    "    Example:\n",
    "        p {\n",
    "           color: blue;\n",
    "           text_align: center;\n",
    "           }\n",
    "    where p is a selector and color, text_align are declarations."
   ]
  },
  {
   "cell_type": "markdown",
   "id": "ef354d19",
   "metadata": {},
   "source": [
    "##### Usage of CSS:\n",
    "1. External Stylesheets: Stored in separated '.css' files (most commom). \n",
    "2. Internal Styling: CSS rules are included in a 'style' tag whithin the HTML document's 'head'\n",
    "3. Inline Style: Directly applied to HTML elements via the 'style' attribute."
   ]
  },
  {
   "cell_type": "markdown",
   "id": "1727031a",
   "metadata": {},
   "source": [
    "# (5) .gitignore"
   ]
  },
  {
   "cell_type": "markdown",
   "id": "30410124",
   "metadata": {},
   "source": [
    ".gitignore is a crucial tool used in Git, the popular version control system. It specifies intentionally untracked files that Git should ignore. Files already tracked by Git are not affected; it only affects untracked files."
   ]
  },
  {
   "cell_type": "markdown",
   "id": "f8aa1ab6",
   "metadata": {},
   "source": [
    "##### Purposes:\n",
    "    Exclusion of Temporary Files, Prevention of Publishing Sensitive Data, Reduction of Clutter, Improvement of Performance."
   ]
  },
  {
   "cell_type": "markdown",
   "id": "04e87672",
   "metadata": {},
   "source": [
    "##### How it Works\n",
    "\n",
    "The file contains rules that are checked against file namnes at each commit to determine whether they should be ignored.\n",
    "\n",
    "**Location**: Typically, a .gitignore file is placed in the root directory of a Git repository, but you can place it in any subdirectory to apply rules locally.\n",
    "\n",
    "    Example:\n",
    "        *.tet  # ignore all .txt files\n",
    "        \n",
    "        !todo.txt  # but track todo.txt, even if previously ignored\n",
    "        \n",
    "        temp/  # ignore all files in any directory named temp\n",
    "        \n",
    "        doc/*.pdf  # ignore all .pdf files in the doc/ directory (but not in subdir doc/server/)\n",
    "        \n",
    "        /log/*.log  # ignore all .log files in the log directory (non_recursive)"
   ]
  },
  {
   "cell_type": "markdown",
   "id": "3b44e5c7",
   "metadata": {},
   "source": [
    "# (6) .toml"
   ]
  },
  {
   "cell_type": "markdown",
   "id": "ce129251",
   "metadata": {},
   "source": [
    "Files written in TOML format, which stands for Tom's Obviou, Minimal Language. TOML is a serialization language intended for configuration files"
   ]
  },
  {
   "cell_type": "markdown",
   "id": "b06cd966",
   "metadata": {},
   "source": [
    "##### Key Features:\n",
    "    Clear Syntax, Well-defined Standards, Hierarchical Structure, Strong Typing"
   ]
  },
  {
   "cell_type": "markdown",
   "id": "281d945a",
   "metadata": {},
   "source": [
    "##### Basic Syntax:\n",
    "**Key/Value Pairs**: Basic building blocks of TOML configurations\\\n",
    "**Tables**: Denoted by square brackets '[ ]'. Nested tables are created by deeper levels of brackets.\n",
    "**Arrays**: Enclosed in square brackets and support multiple types, including nested arrays.\n",
    "\n",
    "    Example:\n",
    "       title = \"TOML Example\"\n",
    "       \n",
    "       [owner]\n",
    "       name = \"John Doe\"\n",
    "       \n",
    "       [database]\n",
    "       server = \"192.168.1.1\"\n",
    "       ports = [8001,8001,8002]\n",
    "       enable = true\n",
    "       \n",
    "       [server]\n",
    "          \n",
    "          [servers.alpha]\n",
    "          ip = \"10.0.0.1\"\n",
    "          dc = \"eqdc10\"\n",
    "          \n",
    "       [clients]\n",
    "       data = [[\"gamma\", \"delta\"], [1, 2]]"
   ]
  }
 ],
 "metadata": {
  "kernelspec": {
   "display_name": "Python 3 (ipykernel)",
   "language": "python",
   "name": "python3"
  },
  "language_info": {
   "codemirror_mode": {
    "name": "ipython",
    "version": 3
   },
   "file_extension": ".py",
   "mimetype": "text/x-python",
   "name": "python",
   "nbconvert_exporter": "python",
   "pygments_lexer": "ipython3",
   "version": "3.11.7"
  }
 },
 "nbformat": 4,
 "nbformat_minor": 5
}
