{
 "cells": [
  {
   "cell_type": "markdown",
   "id": "aa86d613",
   "metadata": {},
   "source": [
    "# **Chapter 1: Introduction**"
   ]
  },
  {
   "cell_type": "markdown",
   "id": "d15302d7-7bd3-436c-90d8-9364169bec55",
   "metadata": {},
   "source": [
    "# **Chapter 2: Project Source Code**"
   ]
  },
  {
   "cell_type": "markdown",
   "id": "74915b6e",
   "metadata": {},
   "source": [
    "## **Package 1: Data**"
   ]
  },
  {
   "cell_type": "markdown",
   "id": "25c8c679",
   "metadata": {},
   "source": [
    "### **Module 1: objects**"
   ]
  },
  {
   "cell_type": "markdown",
   "id": "155b6d43-a261-4755-97b4-93dd0b1870dd",
   "metadata": {},
   "source": [
    "The following code aims to define the various types of patterns and images that can be generated using the Chromatix library. The authors of this library have implemented three functions that facilitate the creation of specific visual outputs: radial patterns, phase patterns, and grayscale images."
   ]
  },
  {
   "cell_type": "markdown",
   "id": "5dd2b786",
   "metadata": {
    "tags": []
   },
   "source": [
    "#### **Imports**"
   ]
  },
  {
   "cell_type": "markdown",
   "id": "6540d05a",
   "metadata": {},
   "source": [
    "*Source Code*"
   ]
  },
  {
   "cell_type": "code",
   "execution_count": 4,
   "id": "d70cc101",
   "metadata": {},
   "outputs": [],
   "source": [
    "import imageio\n",
    "import jax.numpy as jnp\n",
    "import matplotlib.pyplot as plt\n",
    "from skimage import img_as_ubyte"
   ]
  },
  {
   "cell_type": "markdown",
   "id": "cef7731a",
   "metadata": {},
   "source": [
    "*Explanation*"
   ]
  },
  {
   "cell_type": "markdown",
   "id": "f6a5a4f4-5165-45fc-a171-edd4678d8bcc",
   "metadata": {},
   "source": [
    "To create the necessary functions, four key libraries are imported:\n",
    "\n",
    "1. `imageio`: A versatile tool for reading (input) and saving (output) images in various formats. When an image is read using ' imageio ', it is stored as an array, allowing for easy manipulation and processing.\n",
    "2. `jax.numpy`: Part of the JAX library, this module extends NumPy by enabling automatic differentiation and allows code execution on GPUs and TPUs. It's ideal for performing array operations while leveraging the power of automatic differentiation.\n",
    "3. `matplotlib.pyplot`: A widely used plotting library in Python that provides a Matlab-like interface for creating static, animated, and interactive visualizations.\n",
    "4. `img_as_ubyte` (from `skimage`): A function that converts images to an unsigned byte format (0-255). This is essential for ensuring your data is in the correct format for display or saving."
   ]
  },
  {
   "cell_type": "markdown",
   "id": "e2313fb1-a443-4b43-9576-77a5d5c77b80",
   "metadata": {
    "tags": []
   },
   "source": [
    "#### **Function 1: creat_radial_pattern**"
   ]
  },
  {
   "cell_type": "markdown",
   "id": "de874cf7",
   "metadata": {},
   "source": [
    "*Source Code*"
   ]
  },
  {
   "cell_type": "code",
   "execution_count": 5,
   "id": "0dee40e5",
   "metadata": {},
   "outputs": [],
   "source": [
    "def create_radial_pattern(shape):\n",
    "    \"\"\"\n",
    "    Create a basic radial pattern image.\n",
    "\n",
    "    Args:\n",
    "        shape (tuple): Shape of the image (height, width).\n",
    "\n",
    "    Returns:\n",
    "        jnp.ndarray: Radial pattern image.\n",
    "    \"\"\"\n",
    "    # Create a grid of coordinates\n",
    "    y, x = jnp.indices(shape)\n",
    "\n",
    "    # Calculate the center of the image\n",
    "    center_y, center_x = shape[0] // 2, shape[1] // 2\n",
    "\n",
    "    # Compute the distances from the center\n",
    "    distances = jnp.sqrt((x - center_x) ** 2 + (y - center_y) ** 2)\n",
    "\n",
    "    # Normalize distances to range [0, 2*pi] for phase pattern\n",
    "    max_distance = jnp.sqrt(center_x**2 + center_y**2)\n",
    "    phase_pattern = (distances / max_distance) * 2 * jnp.pi\n",
    "\n",
    "    return phase_pattern"
   ]
  },
  {
   "cell_type": "markdown",
   "id": "b0c6e5aa",
   "metadata": {},
   "source": [
    "*Explanation*"
   ]
  },
  {
   "cell_type": "markdown",
   "id": "5e320a39-fc2e-4625-9de4-16723f8cfd8b",
   "metadata": {},
   "source": [
    "In Python, the keyword `def` is used to define a function, which is a reusable block of code designed to perform a specific task. In this context, the author defines a function named `create_radial_pattern` with an argument `shape` that can be passed when calling the function.\n",
    "\n",
    "The docstring, located between the two sets of triple quotation marks, explains the purpose, arguments, and return value of this function. It indicates that the function is used to create a basic radial pattern image, and the return value (output) will be an array.\n",
    "\n",
    "The argument `shape` is expected to be a tuple with two elements. A tuple is a built-in data structure in Python used to store an ordered collection of items, defined by placing a comma-separated sequence of elements within parentheses. Tuples are immutable, meaning that once they are created, their elements cannot be changed, added, or removed."
   ]
  },
  {
   "cell_type": "code",
   "execution_count": 6,
   "id": "dc7f4b1c-5114-4841-a514-131a915216e4",
   "metadata": {
    "tags": []
   },
   "outputs": [],
   "source": [
    "# Example:\n",
    "shape = (4, 6) # height is 4, and width is 6"
   ]
  },
  {
   "cell_type": "markdown",
   "id": "a8c70fad-5943-483e-a650-1c26f37d0bd4",
   "metadata": {},
   "source": [
    "The first line of this function creats a grid of coordinate indices using `y, x = jnp.indices(shape)`. This function returns two arrays named $y$ and $x$ respectively."
   ]
  },
  {
   "cell_type": "code",
   "execution_count": 7,
   "id": "739598bb-2df9-4b75-bcd0-7eef21bb5450",
   "metadata": {
    "tags": []
   },
   "outputs": [
    {
     "name": "stdout",
     "output_type": "stream",
     "text": [
      "y= [[0 0 0 0 0 0]\n",
      " [1 1 1 1 1 1]\n",
      " [2 2 2 2 2 2]\n",
      " [3 3 3 3 3 3]]\n",
      "x= [[0 1 2 3 4 5]\n",
      " [0 1 2 3 4 5]\n",
      " [0 1 2 3 4 5]\n",
      " [0 1 2 3 4 5]]\n"
     ]
    }
   ],
   "source": [
    "# Example\n",
    "y, x = jnp.indices(shape) # shape = (4, 6)\n",
    "\n",
    "print('y=', y)\n",
    "print('x=', x)"
   ]
  },
  {
   "cell_type": "markdown",
   "id": "f02c6791-648c-40b8-b9f8-6a2e651ff136",
   "metadata": {
    "tags": []
   },
   "source": [
    "In this context, the $y$ array corresponds to the row indices (e.g., 4 rows: 0, 1, 2, 3), and the $x$ array corresponds to the column indices (e.g., 6 columns: 0, 1, 2, 3, 4, 5).\n",
    "\n",
    "Since the function's purpose is to create radial patterns, it's necessary to determine the center of the coordinate grid. The author calculates the center's indices using `shape[0]//2` and `shape[1]//2`. \n",
    "\n",
    "Here, `shape[0]` and `shape[1]` return the first and second elements of the shape tuple, respectively. The operator `$//$` is used for floor division, which means it divides the number and then rounds down to the nearest integer. Thus, for our example, `center_y` and `center_x` would be 2 and 3, respectively.\n",
    "\n",
    "To normalize the distance to range [0, $2\\pi$], the code first calculates the distances between all points and the center using `jnp.sqrt()`, which returns the square roots of the input values. The mathematical equation used here is: \n",
    "\n",
    "$$ distance=\\sqrt{(x-x_{center})^2+(y-y_{center})^2} \\tag{2.1.1}$$\n",
    "\n",
    "Since both $x$ and $y$ are arrays, the resulting $distance$ is also an array. This array contains the distances from each point in the grid to the center, which will be used to generate the radial pattern."
   ]
  },
  {
   "cell_type": "code",
   "execution_count": 8,
   "id": "f38c476e-aedc-40b4-b96e-c189e55fc98c",
   "metadata": {
    "tags": []
   },
   "outputs": [
    {
     "name": "stdout",
     "output_type": "stream",
     "text": [
      "distance =\n",
      " [[3.6055512 2.828427  2.236068  2.        2.236068  2.828427 ]\n",
      " [3.1622777 2.236068  1.4142135 1.        1.4142135 2.236068 ]\n",
      " [3.        2.        1.        0.        1.        2.       ]\n",
      " [3.1622777 2.236068  1.4142135 1.        1.4142135 2.236068 ]]\n"
     ]
    }
   ],
   "source": [
    "# Calculate the position of the center.\n",
    "center_y, center_x = shape[0]//2, shape[1]//2 \n",
    "\n",
    "# Calculate the distances between all other points and the center.\n",
    "distance = jnp.sqrt((x - center_x)**2 + (y - center_y)**2) \n",
    "\n",
    "print('distance =\\n', distance)"
   ]
  },
  {
   "cell_type": "markdown",
   "id": "77cb60e4-3b85-48e8-bae8-5f2b0e6d2bb1",
   "metadata": {},
   "source": [
    "As observed in the result above, the calculated center isn't exactly at the geometric center of the coordinate grid due to the use of floor division. This rounding down places the center slightly off from the true midpoint. However, with larger height and width values, this discrepancy becomes negligible.\n",
    "\n",
    "Next, the code calculates `max_distance`, which represents the distance from the center to the origin of the coordinate grid (i.e., the top-left corner at (0, 0)). This value serves as a reference for normalizing other distances within the grid.\n",
    "\n",
    "Finally, the `phase_pattern` is calculated using the equation: \n",
    "\n",
    "$$phase=2\\pi \\times \\frac{distance}{maxdistance} \\tag{2.1.2}$$\n",
    "\n",
    "By applying this equation, the function generates an array where each element represents the phase at that point in the grid, normalized to the range $[0, 2\\pi]$. This array is the output of the function."
   ]
  },
  {
   "cell_type": "code",
   "execution_count": 9,
   "id": "bf4acd41-0398-4c11-8b9b-8a9a7d6aebb3",
   "metadata": {
    "tags": []
   },
   "outputs": [
    {
     "name": "stdout",
     "output_type": "stream",
     "text": [
      "max_distance= 3.6055512\n",
      "phase_pattern =\n",
      " [[6.2831855 4.928936  3.8966663 3.4852843 3.8966663 4.928936 ]\n",
      " [5.5107183 3.8966663 2.464468  1.7426422 2.464468  3.8966663]\n",
      " [5.2279267 3.4852843 1.7426422 0.        1.7426422 3.4852843]\n",
      " [5.5107183 3.8966663 2.464468  1.7426422 2.464468  3.8966663]]\n"
     ]
    }
   ],
   "source": [
    "# Calculate the maximal distance which is from the center to the left-top point.\n",
    "max_distance = jnp.sqrt(center_x**2 + center_y**2) \n",
    "\n",
    "# Normalize the distance to the range [0, 2*pi].\n",
    "phase_pattern = (distance / max_distance) * 2 * jnp.pi \n",
    "\n",
    "print('max_distance=', max_distance)\n",
    "print('phase_pattern =\\n', phase_pattern)"
   ]
  },
  {
   "cell_type": "markdown",
   "id": "31303007-d557-47dd-85fa-33a4a79f4587",
   "metadata": {},
   "source": [
    "As observed in the results above, the first element ' 6.2831855 ' corresponds to $2\\pi$, while all other elements are values smaller than $2\\pi$ and larger than 0. This confirms that all elements in the array are normalized within the range $[0, 2\\pi]$"
   ]
  },
  {
   "cell_type": "markdown",
   "id": "5b611cb3-007f-4d28-8230-c73258b4c1b2",
   "metadata": {},
   "source": [
    "#### **Function 2: save_phase_pattern**"
   ]
  },
  {
   "cell_type": "markdown",
   "id": "e92e9bbb",
   "metadata": {},
   "source": [
    "*Source Code*"
   ]
  },
  {
   "cell_type": "code",
   "execution_count": 10,
   "id": "bec231b6",
   "metadata": {},
   "outputs": [],
   "source": [
    "def save_phase_pattern():\n",
    "    # Create the radial pattern\n",
    "    shape = (512, 512)\n",
    "    radial_pattern = create_radial_pattern(shape)\n",
    "\n",
    "    # Save the pattern as a PNG file\n",
    "    plt.imshow(radial_pattern, cmap=\"hsv\")\n",
    "    plt.colorbar()\n",
    "    plt.title(\"Radial Phase Pattern\")\n",
    "    plt.axis(\"off\")  # Hide the axis\n",
    "    plt.savefig(\"data/radial_pattern.png\", bbox_inches=\"tight\", pad_inches=0)\n",
    "    plt.show()"
   ]
  },
  {
   "cell_type": "markdown",
   "id": "1a2f82e4",
   "metadata": {},
   "source": [
    "*Explanation*"
   ]
  },
  {
   "cell_type": "markdown",
   "id": "91cc8810-9a7b-4727-895c-3f3960d50e10",
   "metadata": {},
   "source": [
    "As the name suggests, this function is designed to save and output the phase pattern generated by the first function.\n",
    "\n",
    "The line `shape = (512, 512)` defines the dimensions of the pattern. Then, the line `radial_pattern = create_radial_pattern(shape)` calls the first function to create a radial phase pattern. This pattern is stored in the variable `radial_pattern` as a 512×512 array."
   ]
  },
  {
   "cell_type": "code",
   "execution_count": 11,
   "id": "102c0bce-9ecb-4b9f-8f1b-c63a3b796b37",
   "metadata": {
    "tags": []
   },
   "outputs": [
    {
     "name": "stdout",
     "output_type": "stream",
     "text": [
      "radial_pattern =\n",
      " [[6.2831855 6.2709255 6.25869   ... 6.246479  6.25869   6.2709255]\n",
      " [6.2709255 6.2586417 6.246382  ... 6.2341466 6.246382  6.2586417]\n",
      " [6.25869   6.246382  6.234098  ... 6.2218385 6.234098  6.246382 ]\n",
      " ...\n",
      " [6.246479  6.2341466 6.2218385 ... 6.209554  6.2218385 6.2341466]\n",
      " [6.25869   6.246382  6.234098  ... 6.2218385 6.234098  6.246382 ]\n",
      " [6.2709255 6.2586417 6.246382  ... 6.2341466 6.246382  6.2586417]]\n"
     ]
    }
   ],
   "source": [
    "# Set the height and width as 512.\n",
    "shape = (512, 512) \n",
    "\n",
    "# Call the function 'creat_radial_pattern()' to creat a redial pattern according the defined shape.\n",
    "radial_pattern = create_radial_pattern(shape) \n",
    "\n",
    "print('radial_pattern =\\n', radial_pattern)"
   ]
  },
  {
   "cell_type": "markdown",
   "id": "1326ce76-1e17-4a86-961a-92d951a099ac",
   "metadata": {
    "tags": []
   },
   "source": [
    "Then, to save and show the image, the library `matplotlib.pyplot` is applied.\n",
    "\n",
    "`plt.imshow()` is a versatile tool for image visualization in Python. It converts scalar data in an array into colors based on a specified colormap, allowing for the visual representation of scalar values.\n",
    "\n",
    "For instance, the line `plt.imshow(radial_pattern, cmap=\"hsv\")` converts the scalar values in the `radial_pattern` array into a 2D image using the `hsv` colormap, which maps the data to hues corresponding to the HSV (Hue, Saturation, Value) color model. Besides `hsv`, there are many other colormaps available, such as `gray`, `coolwarm`, and more.\n",
    "\n",
    "Additionally, `plt.imshow()` offers various parameters to customize the image, including options for interpolation, aspect ratio, transparency (`alpha`), and more, as shown in the code below. These parameters provide flexibility in how the data is visually presented.\n",
    "\n",
    "Furthermore, you can enhance the figure by adding a colorbar, title, and controlling the axis using the commands `plt.colorbar()`, `plt.title()`, and `plt.axis()`.\n",
    "\n",
    "To save the figure, the `plt.savefig()` function is used. The argument `data/radial_pattern.png` specifies the filename, format, and location where the file will be saved. The parameter ` \\bbox_inches=\"tight\"` ensures that the bounding box of the figure is tightly fitted around the actual content, minimizing any extra whitespace. Additionally, `pad_inches=0` specifies that no padding will be added around the figure, ensuring a clean and compact output.\n",
    "\n",
    "Finally, `plt.show()` is required to display the figure on the screen. Without this command, the figure won't appear in script or non-interactive environments. It ensures that the visualization is rendered and visible to the user."
   ]
  },
  {
   "cell_type": "code",
   "execution_count": 12,
   "id": "3ea2637d-541c-46db-b5a0-87377bad4108",
   "metadata": {
    "tags": []
   },
   "outputs": [
    {
     "data": {
      "image/png": "[encoded data removed]",
      "text/plain": [
       "<Figure size 640x480 with 2 Axes>"
      ]
     },
     "metadata": {},
     "output_type": "display_data"
    }
   ],
   "source": [
    "# Creat a figure of the array 'radial_pattern' according to the colormap \"hsv\", \n",
    "# setting interpolation as \"nearest\", aspect ratio as 1:1, and no transparency.\n",
    "plt.imshow(radial_pattern, cmap=\"hsv\", interpolation=\"nearest\", aspect=\"equal\", alpha=1)\n",
    "plt.colorbar() # Show colorbar.\n",
    "plt.title(\"Radial Phase Pattern\") # Set a title.\n",
    "plt.axis(\"off\") # Hide the axis\n",
    "# Save the figure as .png file in the folder 'data' without any extra whitespace\n",
    "plt.savefig(\"data/radial_pattern.png\", bbox_inches=\"tight\", pad_inches=0) \n",
    "plt.show() # Show the figure"
   ]
  },
  {
   "cell_type": "markdown",
   "id": "3c57a051-0e0e-4950-96d0-6bda0ffb69ae",
   "metadata": {
    "tags": []
   },
   "source": [
    "#### **Function 3: normalize_grayscale_image**"
   ]
  },
  {
   "cell_type": "markdown",
   "id": "f0ff3349",
   "metadata": {},
   "source": [
    "*Source Code*"
   ]
  },
  {
   "cell_type": "code",
   "execution_count": 13,
   "id": "1ff8c1f6",
   "metadata": {},
   "outputs": [],
   "source": [
    "def normalize_grayscale_image(input_path, output_path):\n",
    "    # Read the image\n",
    "    img = imageio.imread(input_path)\n",
    "\n",
    "    # Normalize the grayscale image\n",
    "    normalized_img = img / img.max()\n",
    "\n",
    "    # Convert the normalized image to 8-bit unsigned integer format\n",
    "    normalized_img_ubyte = img_as_ubyte(normalized_img)\n",
    "\n",
    "    # Save the normalized grayscale image as a PNG\n",
    "    imageio.imsave(output_path, normalized_img_ubyte)"
   ]
  },
  {
   "cell_type": "markdown",
   "id": "a903a463",
   "metadata": {},
   "source": [
    "*Explanation*"
   ]
  },
  {
   "cell_type": "markdown",
   "id": "3d487141-4e61-4d98-b119-6d311715cf7a",
   "metadata": {},
   "source": [
    "This function takes the following inputs:\n",
    "1. `input_path` : The path to the input image file which should be a string.\n",
    "2. `output_path` : The path to the output image file where the processed image should be saved, should be a string.\n",
    "\n",
    "This function reads an image from a specified path, storing it as an array of values. The values are then normalized to the range $[0, 1]$ and converted to an unsigned byte format (0-255). Finally, the processed image is saved to another specified path. \n",
    "\n",
    "The line `img = imageio.imread(input_path)` reads an image from `input_path`. By narmalizing it, an array of values in the range $[0, 1]$ is output:"
   ]
  },
  {
   "cell_type": "code",
   "execution_count": 14,
   "id": "69044ab1-4ef2-47c1-bcc6-5d7b8050ffd5",
   "metadata": {
    "scrolled": true,
    "tags": []
   },
   "outputs": [
    {
     "name": "stdout",
     "output_type": "stream",
     "text": [
      "normalized_img =\n",
      " [[[0.04526749 0.04526749 0.04938272]\n",
      "  [0.04526749 0.04526749 0.04938272]\n",
      "  [0.04526749 0.04526749 0.04938272]\n",
      "  ...\n",
      "  [0.04526749 0.04526749 0.04938272]\n",
      "  [0.04526749 0.04526749 0.04938272]\n",
      "  [0.04526749 0.04526749 0.04938272]]\n",
      "\n",
      " [[0.04526749 0.04526749 0.04938272]\n",
      "  [0.0781893  0.08230453 0.08230453]\n",
      "  [0.07407407 0.07407407 0.0781893 ]\n",
      "  ...\n",
      "  [0.90946502 0.90946502 0.90946502]\n",
      "  [0.88065844 0.88065844 0.88477366]\n",
      "  [0.85596708 0.8600823  0.8600823 ]]\n",
      "\n",
      " [[0.04526749 0.04526749 0.04938272]\n",
      "  [0.07407407 0.07407407 0.07407407]\n",
      "  [0.07407407 0.07407407 0.07407407]\n",
      "  ...\n",
      "  [0.93415638 0.93415638 0.9382716 ]\n",
      "  [0.91358025 0.91358025 0.91358025]\n",
      "  [0.88888889 0.88888889 0.88888889]]\n",
      "\n",
      " ...\n",
      "\n",
      " [[0.04526749 0.04526749 0.04938272]\n",
      "  [0.91358025 0.91358025 0.91358025]\n",
      "  [0.9382716  0.9382716  0.94238683]\n",
      "  ...\n",
      "  [0.06584362 0.06584362 0.06584362]\n",
      "  [0.06995885 0.06995885 0.07407407]\n",
      "  [0.07407407 0.07407407 0.07407407]]\n",
      "\n",
      " [[0.04526749 0.04526749 0.04938272]\n",
      "  [0.91769547 0.91769547 0.9218107 ]\n",
      "  [0.94238683 0.94238683 0.94238683]\n",
      "  ...\n",
      "  [0.06584362 0.06584362 0.06584362]\n",
      "  [0.06995885 0.06995885 0.06995885]\n",
      "  [0.06995885 0.06995885 0.07407407]]\n",
      "\n",
      " [[0.04526749 0.04526749 0.04938272]\n",
      "  [0.88888889 0.88888889 0.88888889]\n",
      "  [0.91358025 0.91358025 0.91358025]\n",
      "  ...\n",
      "  [0.06995885 0.06995885 0.07407407]\n",
      "  [0.07407407 0.07407407 0.07407407]\n",
      "  [0.07407407 0.07407407 0.07407407]]]\n"
     ]
    },
    {
     "name": "stderr",
     "output_type": "stream",
     "text": [
      "C:\\Users\\shown\\AppData\\Local\\Temp\\ipykernel_4180\\2356471255.py:5: DeprecationWarning: Starting with ImageIO v3 the behavior of this function will switch to that of iio.v3.imread. To keep the current behavior (and make this warning disappear) use `import imageio.v2 as imageio` or call `imageio.v2.imread` directly.\n",
      "  img = imageio.imread(input_path)\n"
     ]
    }
   ],
   "source": [
    "# The path leads to a grayscale image.\n",
    "input_path = 'data/grayscale image.png' \n",
    "\n",
    "# Read the image as an array.\n",
    "img = imageio.imread(input_path) \n",
    "\n",
    "# Normalized the array of the image to the range [0, 1].\n",
    "normalized_img = img / img.max() \n",
    "\n",
    "print('normalized_img =\\n', normalized_img)"
   ]
  },
  {
   "cell_type": "markdown",
   "id": "877065a2",
   "metadata": {},
   "source": [
    "As abserved, the values are all normalized to the range $[0, 1]$ as expected."
   ]
  },
  {
   "cell_type": "code",
   "execution_count": 15,
   "id": "a96c8708-ada9-47cd-a231-36537b222e59",
   "metadata": {
    "scrolled": true,
    "tags": []
   },
   "outputs": [
    {
     "name": "stdout",
     "output_type": "stream",
     "text": [
      "normalized_img_ubyte =\n",
      " [[[ 12  12  13]\n",
      "  [ 12  12  13]\n",
      "  [ 12  12  13]\n",
      "  ...\n",
      "  [ 12  12  13]\n",
      "  [ 12  12  13]\n",
      "  [ 12  12  13]]\n",
      "\n",
      " [[ 12  12  13]\n",
      "  [ 20  21  21]\n",
      "  [ 19  19  20]\n",
      "  ...\n",
      "  [232 232 232]\n",
      "  [225 225 226]\n",
      "  [218 219 219]]\n",
      "\n",
      " [[ 12  12  13]\n",
      "  [ 19  19  19]\n",
      "  [ 19  19  19]\n",
      "  ...\n",
      "  [238 238 239]\n",
      "  [233 233 233]\n",
      "  [227 227 227]]\n",
      "\n",
      " ...\n",
      "\n",
      " [[ 12  12  13]\n",
      "  [233 233 233]\n",
      "  [239 239 240]\n",
      "  ...\n",
      "  [ 17  17  17]\n",
      "  [ 18  18  19]\n",
      "  [ 19  19  19]]\n",
      "\n",
      " [[ 12  12  13]\n",
      "  [234 234 235]\n",
      "  [240 240 240]\n",
      "  ...\n",
      "  [ 17  17  17]\n",
      "  [ 18  18  18]\n",
      "  [ 18  18  19]]\n",
      "\n",
      " [[ 12  12  13]\n",
      "  [227 227 227]\n",
      "  [233 233 233]\n",
      "  ...\n",
      "  [ 18  18  19]\n",
      "  [ 19  19  19]\n",
      "  [ 19  19  19]]]\n"
     ]
    }
   ],
   "source": [
    "# Convert the normalized image to 8-bit unsigned integer format(0-255).\n",
    "normalized_img_ubyte = img_as_ubyte(normalized_img) \n",
    "\n",
    "print('normalized_img_ubyte =\\n', normalized_img_ubyte)"
   ]
  },
  {
   "cell_type": "markdown",
   "id": "f49efb98-39f0-499e-843d-8eda0618db0c",
   "metadata": {},
   "source": [
    "At the end, the line `imageio.imsave(output_path, normalized_img_ubyte)` saves the last array to a new path specified by the variable `output_path`."
   ]
  },
  {
   "cell_type": "markdown",
   "id": "f5347869-c50d-4d5b-932a-23b9719bea54",
   "metadata": {},
   "source": [
    "### **Module 2: permittivity_tensors**"
   ]
  },
  {
   "cell_type": "markdown",
   "id": "8feb5574",
   "metadata": {},
   "source": [
    "This part introduces a series of functions to create permittivity tensor, scattering potential and so on."
   ]
  },
  {
   "cell_type": "markdown",
   "id": "446870aa-994b-456a-9e5f-c79af23dec50",
   "metadata": {},
   "source": [
    "#### **Imports**"
   ]
  },
  {
   "cell_type": "markdown",
   "id": "6f9fe0d9",
   "metadata": {},
   "source": [
    "*Source Code*"
   ]
  },
  {
   "cell_type": "code",
   "execution_count": 16,
   "id": "369194c3",
   "metadata": {},
   "outputs": [],
   "source": [
    "# %% Imports\n",
    "from typing import Optional, Tuple\n",
    "import imageio\n",
    "import jax\n",
    "import jax.numpy as jnp"
   ]
  },
  {
   "cell_type": "markdown",
   "id": "a71a3b63",
   "metadata": {},
   "source": [
    "*Explanation*"
   ]
  },
  {
   "cell_type": "markdown",
   "id": "aa52da50-aa76-4ee6-a6a7-1a735e418ed4",
   "metadata": {},
   "source": [
    "1. `typing` : A powerful tool to support type hints that allow developers to indicate the expected types of variables, function parameters, and return values in their code. It's beneficial in large projects, where it can prevent bugs and make the code easier to understand. `Optional` is one of the type hints which is used to indicate that a value could either be of a specific type or `none `. `Tuple` is used to specify the types of elements in a tuple. A tuple is an immutable sequence of elements that can be of different types.\n",
    "2. `imageio` : A versatile tool for reading (input) and saving (output) images in various formats. When an image is read using `imageio`, it is stored as an array, allowing for easy manipulation and processing.\n",
    "3. `jax` : A library designed to facilitate high-performance numerical computing, particularly for machine learning and scientific computing applications. `JAX` enables automatic differentiation, just-in-time (JIT) compilation, and efficient parallelization on both CPUs and GPUs. Additionally, it offers a Numpy-like API (`jax.numpy`)."
   ]
  },
  {
   "cell_type": "markdown",
   "id": "aa5bf058-9954-4ab6-a8fa-9a967a365054",
   "metadata": {},
   "source": [
    "#### **Function 1: generate_permittivity_tensor**"
   ]
  },
  {
   "cell_type": "markdown",
   "id": "b01e1210",
   "metadata": {},
   "source": [
    "*Source Code*"
   ]
  },
  {
   "cell_type": "code",
   "execution_count": 17,
   "id": "2a14bd70",
   "metadata": {},
   "outputs": [],
   "source": [
    "def generate_permittivity_tensor(\n",
    "    n_o: float, n_e: float, extraordinary_axis: Optional[str] = \"x\"\n",
    "):\n",
    "    \"\"\"\n",
    "    Generate the permittivity tensor for a uniaxial anisotropic material.\n",
    "\n",
    "    Args:\n",
    "        n_o (float): Ordinary refractive index\n",
    "        n_e (float): Extraordinary refractive index\n",
    "        extraordinary_axis (str): Axis which is extraordinary ('x', 'y', or 'z')\n",
    "\n",
    "    Returns:\n",
    "        jnp.ndarray: Permittivity tensor with the order of axes as zyx\n",
    "    \"\"\"\n",
    "    epsilon_o = n_o**2\n",
    "    epsilon_e = n_e**2\n",
    "    if extraordinary_axis == \"z\":\n",
    "        epsilon_tensor = jnp.array(\n",
    "            [[epsilon_e, 0, 0], [0, epsilon_o, 0], [0, 0, epsilon_o]]\n",
    "        )\n",
    "    elif extraordinary_axis == \"y\":\n",
    "        epsilon_tensor = jnp.array(\n",
    "            [[epsilon_o, 0, 0], [0, epsilon_e, 0], [0, 0, epsilon_o]]\n",
    "        )\n",
    "    elif extraordinary_axis == \"x\":\n",
    "        epsilon_tensor = jnp.array(\n",
    "            [[epsilon_o, 0, 0], [0, epsilon_o, 0], [0, 0, epsilon_e]]\n",
    "        )\n",
    "    else:\n",
    "        raise ValueError(\"extraordinary_axis must be one of 'x', 'y', or 'z'\")\n",
    "    return epsilon_tensor"
   ]
  },
  {
   "cell_type": "markdown",
   "id": "7cfd754b",
   "metadata": {},
   "source": [
    "*Explanation*"
   ]
  },
  {
   "cell_type": "markdown",
   "id": "5fffed86-630a-4d73-be05-f70fe7ff9d96",
   "metadata": {},
   "source": [
    "This function creates a permittivity tensor for an anisotropic material with the following inputs: \n",
    "1. `n_o` : $n_o=\\sqrt{\\varepsilon_0}$ for ordinary refractive index. \n",
    "2. `n_e` : $n_e=\\sqrt{\\varepsilon_e}$ ' for extraordinary refractive index.\n",
    "3. `extraordinary_axis`: A string indicating the axis that is extraordinary in the material. It can be either $z$, $y$, or $x$, depending on the desired extraordinary axis and permittivity tensor.\n",
    "\n",
    "For example, if we set `n_o = 1.2`, `n_e = 1.5`, and `extraordinary_axis = 'z'`, the permittivity tensor will have the following form:"
   ]
  },
  {
   "cell_type": "code",
   "execution_count": 18,
   "id": "6b4c7fc8",
   "metadata": {},
   "outputs": [
    {
     "name": "stdout",
     "output_type": "stream",
     "text": [
      "[[2.25 0.   0.  ]\n",
      " [0.   1.44 0.  ]\n",
      " [0.   0.   1.44]]\n"
     ]
    }
   ],
   "source": [
    "n_o, n_e = 1.2, 1.5\n",
    "extraordinary_axis = 'z'\n",
    "\n",
    "# call the function to create the permittivity tensor\n",
    "permittivity_tensor = generate_permittivity_tensor(n_o, n_e, extraordinary_axis)\n",
    "\n",
    "print(permittivity_tensor)"
   ]
  },
  {
   "cell_type": "markdown",
   "id": "17715d3e",
   "metadata": {},
   "source": [
    "Permittivity, denoted by $\\varepsilon$ is a crucial parameter in electromagenetism. It's a property of material describing how the material respond to an electric field and a measure of the electric polarizability of a dielectric material. A material with high permittivity polarizes more in response to an applied electric field than a material with low permittivity, thereby storing more energy in the material [@Permittivity]. In vacuum, the vacuum permittivity (also called electric constant) $\\varepsilon_0$ is approximately $8.854 \\times 10^{12} F/m$. \n",
    "\n",
    "By the way, there is permeability which is the measure of magnetization produced in a material in response to an applied magnetic field. Permeability is typically represented by $\\mu$. The magnetic permeability of vacuum (also called magnetic constant) $\\mu_0$ is approximately $4 \\times 10^{-7} H/m$ [@Permeability]. By the way, the speed of light in vacuum $c$ is related to the magnetic constant and the electric constant by the equation: \n",
    "\n",
    "$$c = \\frac{1}{\\sqrt{\\mu_0 \\epsilon_0}} \\approx 299,792,458 m/s \\tag{2.1.3}$$\n",
    "\n",
    "The reason for using a tensor to represent the permittivity is that in an anisotropic material (particularly crystals), the atoms have a periodic distribution with different symmetries in different directions. This results in different permittivities along different axes. Since the electric field in Cartesian coordinates also has three components, the permittivity tensor must be a $3 \\times 3$ matrix.\n",
    "\n",
    "However, in general, anisotropic media can be characterized by three independent permittivity elements in the principle coordinate system [@FoMO_Script]:\n",
    "\n",
    "$$(\\varepsilon_{ij}) = \\begin{bmatrix} \\varepsilon_1(\\omega) & 0 & 0 \\\\\n",
    "                                        0 & \\varepsilon_2(\\omega) & 9 \\\\\n",
    "                                        0 & 0 & \\varepsilon_3(\\omega) \\end{bmatrix} \\tag{2.1.4}$$\n",
    "\n",
    "where $\\omega$ is the angular frequency of the electromagnetic wave, $\\varepsilon_1(\\omega)$, $\\varepsilon_2(\\omega)$, and $\\varepsilon_3(\\omega)$ are the permittivities along the $z$, $y$, and $x$ axes, respectively.\n",
    "\n",
    "A uniaxial crystal has two crystallographically equivalent directions, which means that two of the permittivity elements are equal. These are called the ordinary dielectric constants, $\\epsilon_o$. The third permittivity element, which is different, is called the extraordinary dielectric constant, $\\epsilon_e$. Correspondingly, the crystal has ordinary axes and an extraordinary axis, also known as the optical axis."
   ]
  },
  {
   "cell_type": "markdown",
   "id": "c8a1e385",
   "metadata": {},
   "source": [
    "#### **Function 2: create_homogeneous_phantom**"
   ]
  },
  {
   "cell_type": "markdown",
   "id": "9e048d2c",
   "metadata": {},
   "source": [
    "*Source Code*"
   ]
  },
  {
   "cell_type": "code",
   "execution_count": 19,
   "id": "6cb95a0f",
   "metadata": {},
   "outputs": [],
   "source": [
    "def create_homogeneous_phantom(\n",
    "    shape: Tuple[int, int, int],\n",
    "    n_o: float,\n",
    "    n_e: float,\n",
    "    extraordinary_axis: Optional[str] = \"x\",\n",
    "):\n",
    "    \"\"\"\n",
    "    Create a homogeneous uniaxial anisotropic phantom.\n",
    "\n",
    "    Args:\n",
    "        shape (tuple): Shape of the phantom (z, y, x)\n",
    "        n_o (float): Ordinary refractive index\n",
    "        n_e (float): Extraordinary refractive index\n",
    "        extraordinary_axis (str): Axis which is extraordinary ('x', 'y', or 'z')\n",
    "\n",
    "    Returns:\n",
    "        jnp.ndarray: 4D array representing the phantom with the\n",
    "                    permittivity tensor at each voxel\n",
    "    \"\"\"\n",
    "    epsilon_tensor = generate_permittivity_tensor(n_o, n_e, extraordinary_axis)\n",
    "    phantom = jnp.tile(epsilon_tensor, (*shape, 1, 1))\n",
    "    return phantom"
   ]
  },
  {
   "cell_type": "markdown",
   "id": "432a0d73",
   "metadata": {},
   "source": [
    "*Explanation*"
   ]
  },
  {
   "cell_type": "markdown",
   "id": "4838c6ca",
   "metadata": {},
   "source": [
    "The code within this function is responsible for creating a homogeneous uniaxial anisotropic phantom, represented by a 4D array that holds the permittivity tensor at each voxel in a 3D volume. A voxel is a term derived from ' volumetric pixel ', representing a value on a regular grid in three-dimensional space, and it is the smallest unit of a 3D space.\n",
    "\n",
    "The function takes the following inputs:\n",
    "1. `shape` : A tuple representing the shape of the phantom (z, y, x). The number (Integer) of voxels in each dimension is given by `shape[0]`, `shape[1]`, and `shape[2]`, respectively.\n",
    "2. `n_o` : The ordinary refractive index of the material.\n",
    "3. `n_e` : The extraordinary refractive index of the material.\n",
    "4. `extraordinary_axis` : A string representing the axis that is extraordinary in the material\n",
    "\n",
    "The line `epsilon_tensor = generate_permittivity_tensor(n_o, n_e, extraordinary_axis)` calls the Function 1 to generate a permittivity tensor based on the given inputs. \n",
    "\n",
    "Next, the line `phantom = jnp.tile(epsilon_tensor, (*shape, 1, 1))` creates a 4D array called `phantom` by replicating the `epsilon_tensor` across the 3D shape specified by `shape` (the `*` operator is used to unpack the `shape` tuple and pass its elements as separate arguments to `jnp.tile()`). As a result, each voxel in the 3D space is assigned the same 3 $\\times$ 3 permittivity tensor, making the material homogeneous. The resulting array has a shape of `(z, y, x, 3, 3)`. \n",
    "\n",
    "The reason this resulting array is referred to as a 4D array rather than a 5D array is that the last two dimensions `(3, 3)`, which represent the permittivity tensor, are typically interpreted as a single entity associated with each voxel rather than as independent dimensions. Therefore, while the array is technically stored in memory as a 5D array, it's treated as a 4D array conceptually.\n",
    "\n",
    "To make it more clear, the `jnp.tile(A, reps)` function is used to replicate the array `A` along specific dimensions, with the argument `reps` being a tuple that specifies the number of repetitions for each dimension. In our case, `epsilon_tensor` is the array to be replicated, and `(*shape, 1, 1)` indicates that the array should be repeated `z`, `y`, and `x` times along the first three dimensions, and 1 time along the fourth and fifth dimensions (This ensures that the 3 $\\times$ 3 structure of `epsilon_tensor` is preserved).\n",
    "\n",
    "For example, if we set `shape = (1, 2, 3)`, `n_0 = 1.2`, `n_e = 1.5`, `extraordinary_axis = 'z'`, the resulting phantom will have the following shape:"
   ]
  },
  {
   "cell_type": "code",
   "execution_count": 20,
   "id": "b82fccd0",
   "metadata": {},
   "outputs": [
    {
     "name": "stdout",
     "output_type": "stream",
     "text": [
      "shape of the phantom = (1, 2, 3, 3, 3)\n",
      "phantom = \n",
      " [[[[[2.25 0.   0.  ]\n",
      "    [0.   1.44 0.  ]\n",
      "    [0.   0.   1.44]]\n",
      "\n",
      "   [[2.25 0.   0.  ]\n",
      "    [0.   1.44 0.  ]\n",
      "    [0.   0.   1.44]]\n",
      "\n",
      "   [[2.25 0.   0.  ]\n",
      "    [0.   1.44 0.  ]\n",
      "    [0.   0.   1.44]]]\n",
      "\n",
      "\n",
      "  [[[2.25 0.   0.  ]\n",
      "    [0.   1.44 0.  ]\n",
      "    [0.   0.   1.44]]\n",
      "\n",
      "   [[2.25 0.   0.  ]\n",
      "    [0.   1.44 0.  ]\n",
      "    [0.   0.   1.44]]\n",
      "\n",
      "   [[2.25 0.   0.  ]\n",
      "    [0.   1.44 0.  ]\n",
      "    [0.   0.   1.44]]]]]\n"
     ]
    }
   ],
   "source": [
    "shape = (1, 2, 3)\n",
    "n_o, n_e = 1.2, 1.5\n",
    "extraordinary_axis = 'z'\n",
    "\n",
    "# call the function to create the homogeneous phantom\n",
    "phantom = create_homogeneous_phantom(shape, n_o, n_e, extraordinary_axis)\n",
    "\n",
    "print('shape of the phantom =', phantom.shape)\n",
    "print('phantom = \\n', phantom)"
   ]
  },
  {
   "cell_type": "markdown",
   "id": "dc1fdbe3",
   "metadata": {},
   "source": [
    "#### **Function 3: create_calcite_crystal**"
   ]
  },
  {
   "cell_type": "markdown",
   "id": "8dead68c",
   "metadata": {},
   "source": [
    "*Source Code*"
   ]
  },
  {
   "cell_type": "code",
   "execution_count": 21,
   "id": "71b321f4",
   "metadata": {},
   "outputs": [],
   "source": [
    "def create_calcite_crystal(\n",
    "    shape: Tuple[int, int, int], extraordinary_axis: Optional[str] = \"z\"\n",
    "):\n",
    "    \"\"\"\n",
    "    Create a calcite crystal phantom.\n",
    "\n",
    "    Args:\n",
    "        shape (tuple): Shape of the phantom (z, y, x)\n",
    "        extraordinary_axis (str): Axis which is extraordinary ('x', 'y', or 'z')\n",
    "\n",
    "    Returns:\n",
    "        jnp.ndarray: 4D array representing the phantom with the\n",
    "                    permittivity tensor at each voxel\n",
    "    \"\"\"\n",
    "    n_o = 1.658\n",
    "    n_e = 1.486\n",
    "    return create_homogeneous_phantom(shape, n_o, n_e, extraordinary_axis)"
   ]
  },
  {
   "cell_type": "markdown",
   "id": "2f42ef16",
   "metadata": {},
   "source": [
    "*Explanation*"
   ]
  },
  {
   "cell_type": "markdown",
   "id": "c76e1272",
   "metadata": {},
   "source": [
    "This function creates a calcite crystal phantom by calling the function `create_homogeneous_phantom` and based on the given inputs:\n",
    "1. `shape` : A tuple representing the shape of the phantom (z, y, x). The number (Integer) of voxels in each dimension is given by `shape[0]`, `shape[1]`, and `shape[2]`, respectively.\n",
    "2. `extraordinary_axis` : A string representing the axis that is extraordinary in the material.\n",
    "The function uses the given ordinary refractive index `n_o` and extraordinary refractive index `n_e` to generate the phantom by simply calling the `create_homogeneous_phantom` function.\n",
    "\n",
    "Let's create a calcite crystal phantom with a shape of (2, 2, 2), and an extraordinary axis of 'z':"
   ]
  },
  {
   "cell_type": "code",
   "execution_count": 22,
   "id": "2fdd5bb1",
   "metadata": {},
   "outputs": [
    {
     "name": "stdout",
     "output_type": "stream",
     "text": [
      "shape of the calcite crystal phantom = (2, 2, 2, 3, 3)\n",
      "calcite_crystal =\n",
      " [[[[[2.208196 0.       0.      ]\n",
      "    [0.       2.748964 0.      ]\n",
      "    [0.       0.       2.748964]]\n",
      "\n",
      "   [[2.208196 0.       0.      ]\n",
      "    [0.       2.748964 0.      ]\n",
      "    [0.       0.       2.748964]]]\n",
      "\n",
      "\n",
      "  [[[2.208196 0.       0.      ]\n",
      "    [0.       2.748964 0.      ]\n",
      "    [0.       0.       2.748964]]\n",
      "\n",
      "   [[2.208196 0.       0.      ]\n",
      "    [0.       2.748964 0.      ]\n",
      "    [0.       0.       2.748964]]]]\n",
      "\n",
      "\n",
      "\n",
      " [[[[2.208196 0.       0.      ]\n",
      "    [0.       2.748964 0.      ]\n",
      "    [0.       0.       2.748964]]\n",
      "\n",
      "   [[2.208196 0.       0.      ]\n",
      "    [0.       2.748964 0.      ]\n",
      "    [0.       0.       2.748964]]]\n",
      "\n",
      "\n",
      "  [[[2.208196 0.       0.      ]\n",
      "    [0.       2.748964 0.      ]\n",
      "    [0.       0.       2.748964]]\n",
      "\n",
      "   [[2.208196 0.       0.      ]\n",
      "    [0.       2.748964 0.      ]\n",
      "    [0.       0.       2.748964]]]]]\n"
     ]
    }
   ],
   "source": [
    "shape = (2, 2, 2)\n",
    "extraordinary_axis = 'z'\n",
    "\n",
    "# call the function to create the calcite crystal phantom\n",
    "calcite_crystal = create_calcite_crystal(shape, extraordinary_axis)\n",
    "\n",
    "print('shape of the calcite crystal phantom =', calcite_crystal.shape)\n",
    "print('calcite_crystal =\\n', calcite_crystal)"
   ]
  },
  {
   "cell_type": "markdown",
   "id": "ed71b61d",
   "metadata": {},
   "source": [
    "#### **Function 4: create_scattering_potential**"
   ]
  },
  {
   "cell_type": "markdown",
   "id": "cf1d8d12",
   "metadata": {},
   "source": [
    "*Source Code*"
   ]
  },
  {
   "cell_type": "code",
   "execution_count": 23,
   "id": "79f2bd00",
   "metadata": {},
   "outputs": [],
   "source": [
    "def create_scattering_potential(permittivity_tensor, background_permittivity):\n",
    "    \"\"\"\n",
    "    Create the scattering potential from the permittivity tensor.\n",
    "\n",
    "    Args:\n",
    "        permittivity_tensor (jnp.ndarray): The permittivity tensor of the material.\n",
    "        background_permittivity (float): The permittivity of the background medium.\n",
    "\n",
    "    Returns:\n",
    "        jnp.ndarray: The scattering potential.\n",
    "    \"\"\"\n",
    "    # Calculate the permittivity contrast\n",
    "    contrast = permittivity_tensor - background_permittivity\n",
    "\n",
    "    # Scattering potential is proportional to the permittivity contrast\n",
    "    scattering_potential = contrast / background_permittivity\n",
    "\n",
    "    return scattering_potential"
   ]
  },
  {
   "cell_type": "markdown",
   "id": "264afb6d",
   "metadata": {},
   "source": [
    "*Explanation*"
   ]
  },
  {
   "cell_type": "markdown",
   "id": "3b31d418",
   "metadata": {},
   "source": [
    "This function is designed to calculate the scattering potential for a given phantom taking the inputs: `permittivity_tensor` and `background_permittivity`. The `permittivity_tensor`, which can be generated by Function 1, should be provided as an array.\n",
    "\n",
    "The code is straightforward. It begins by calculating the `permittivity_contrast`, which is obtained by subtracting the `background_permittivity` from the `permittivity_tensor`. Next, the `scattering_potential` is determined by dividing the `permittivity_contrast` by the `permittivity_tensor`:"
   ]
  },
  {
   "cell_type": "code",
   "execution_count": 24,
   "id": "b2a3e886",
   "metadata": {},
   "outputs": [
    {
     "name": "stdout",
     "output_type": "stream",
     "text": [
      "scatteriing potential =\n",
      " [[ 1.0454545  -1.         -1.        ]\n",
      " [-1.          0.30909094 -1.        ]\n",
      " [-1.         -1.          0.30909094]]\n"
     ]
    }
   ],
   "source": [
    "n_o, n_e = 1.2, 1.5\n",
    "extraordinary_axis = 'z'\n",
    "\n",
    "# call the function to create the permittivity tensor\n",
    "permittivity_tensor = generate_permittivity_tensor(n_o, n_e, extraordinary_axis)\n",
    "\n",
    "background_permittivity = 1.1 # Define the background_permittivity\n",
    "\n",
    "# Call the function to create the scattering potential\n",
    "scattering_potential = create_scattering_potential(permittivity_tensor, background_permittivity)\n",
    "\n",
    "print('scatteriing potential =\\n', scattering_potential)"
   ]
  },
  {
   "cell_type": "markdown",
   "id": "0b19825b",
   "metadata": {},
   "source": [
    "Let's dive into the physical background of the code. \n",
    "\n",
    "The permittivity contrast here is straightforward, it is the difference between the actual permittivity of the material and the background permittivity. The scattering potential, on the other hand, is a concept used in wave theory to describe how an inhomogeneity or a discontinuity in a medium scatters an incoming wave. \n",
    "\n",
    "To derive the methematical expression for the scattering potential, we have to start from Maxwell's equations. We consider a monochromatic electromagnetic field with time dependence $exp(-i \\omega t)$, incident on a linear, isotropic, nonmagnetic medium occupying a finite domain with no sources [@Principles_of_Optics]. Then, the Maxwell's equation reads:\n",
    "\n",
    "$$\\nabla \\times \\textbf{E(r)} = i \\omega \\textbf{B(r)} \\tag{2.1.5} $$  \n",
    "$$\\nabla \\cdot \\textbf{D(r)} = 0 \\tag{2.1.6} $$\n",
    "$$\\nabla \\times \\textbf{H(r)} = -i \\omega \\textbf{D(r)} \\tag{2.1.7}$$\n",
    "$$\\nabla \\cdot \\textbf{B(r)} = 0 \\tag{2.1.8}$$\n",
    "\n",
    "Where $\\textbf{E(r)}$ and $\\textbf{H(r)}$ are the electric and magnetic fields, respectively, $\\textbf{D(r)} = \\varepsilon_0 \\varepsilon(r) \\textbf{E(r)}$ is the electric flux density (also called the electric displacement field), and $\\textbf{B(r)} = \\mu_0 \\textbf{H(r)}$ is the magnetic flux density.\n",
    "\n",
    "By taking the curl of the first equation, we get:\n",
    "\n",
    "$$\\nabla \\times (\\nabla \\times \\textbf{E(r)}) = i \\omega \\mu_0 \\nabla \\times \\textbf{H(r)} \\tag{2.1.9}$$\n",
    "\n",
    "Using the vector identity:\n",
    "\n",
    "$$\\nabla \\times (\\nabla \\times \\textbf{E(r)}) = \\nabla(\\nabla \\cdot \\textbf{E(r)}) - \\nabla^2 \\textbf{E(r)} \\tag{2.1.10}$$\n",
    "\n",
    "And:\n",
    "\n",
    "$$\\nabla \\times \\textbf{H(r)} = -i \\omega \\textbf{D(r)} = -i \\omega \\varepsilon_0 \\varepsilon(r) \\textbf{E(r)} \\tag{2.1.11}$$\n",
    "\n",
    "$$\\nabla \\cdot \\textbf{D(r)} = \\varepsilon_0 \\varepsilon(r) \\nabla \\cdot \\textbf{E(r)} + \\varepsilon_0 \\textbf{E(r)} \\nabla \\varepsilon(r) = 0 \\tag{2.1.12}$$\n",
    "\n",
    "We can get the following equation:\n",
    "\n",
    "$$\\nabla^2 \\textbf{E(r)} + \\frac{\\omega^2}{c^2} \\varepsilon(r) \\textbf{E(r)} + \\nabla \\{ \\frac{\\nabla \\varepsilon(r)}{\\varepsilon(r)} \\cdot \\textbf{E(r)} \\} = 0 \\tag{2.1.13}$$\n",
    "\n",
    "Where $c$ is the speed of light in free space ($1/c^2 = \\mu_0 \\varepsilon_0$), and the wavenumber $k = \\omega / c$.\n",
    "\n",
    "We note that the last term on the left of the equation(13) couples the Cartesian components of the electric field. For this reason, the treatment of scattering based on this equation is rather complicated. The equation can be simplified if we assume that the dielectric constant (permittivity) $\\varepsilon(r)$ varies so slowly with position that it is effectively constant over distances of the order of the wavelength $\\lambda = 2 \\pi / k = 2 \\pi c / \\omega$. Under these circumstances, the last term on the left-hand side of the equation(13) may be neglected. We then obtain the equation [@Principles_of_Opticas]:\n",
    "\n",
    "$$\\nabla^2 \\textbf{E(r)} + k^2 \\varepsilon(r) \\textbf{E(r)} = 0 \\tag{2.1.14}$$\n",
    "\n",
    "Next, we can express the permittivity as the sum of a background permittivity $\\varepsilon_B$ and a contrast $\\Delta \\varepsilon(r)$:\n",
    "\n",
    "$$\\Delta \\varepsilon(r) = \\varepsilon(r) - \\varepsilon_B \\tag{2.1.15}$$\n",
    "\n",
    "Thus, we have:\n",
    "\n",
    "$$k^2 \\varepsilon(r) = k^2(\\varepsilon_B + \\Delta \\varepsilon(r)) = k^2 \\varepsilon_B(1 + \\frac{\\Delta \\varepsilon(r)}{\\varepsilon_B}) \\tag{2.1.16}$$\n",
    "\n",
    "It will be convenient to re-write equation(14) in the form:\n",
    "\n",
    "$$\\nabla^2 \\textbf{E(r)} + k^2 \\varepsilon_B \\textbf{E(r)} = - k^2 \\frac{\\Delta \\varepsilon(r)}{\\varepsilon_B} \\textbf{E(r)} = - F(r) \\textbf{E(r)} \\tag{2.1.17}$$\n",
    "\n",
    "The function $F(r)$ is usually called the $\\textbf{scattering potential}$ of the medium. Since $k$ is constant for a monochromatic wave, calculating the $\\Delta \\varepsilon(r) / \\varepsilon_B$ is sufficient to determine the scattering potential. This is why the code includes the line: `scattering_potential = contrast / background_permittivity`."
   ]
  },
  {
   "cell_type": "markdown",
   "id": "ca17d4fd",
   "metadata": {},
   "source": [
    "#### **Function 5: permittivity_tensor_from_pixel**"
   ]
  },
  {
   "cell_type": "markdown",
   "id": "a23b7354",
   "metadata": {},
   "source": [
    "*Source Code*"
   ]
  },
  {
   "cell_type": "code",
   "execution_count": 25,
   "id": "bde760fc",
   "metadata": {},
   "outputs": [],
   "source": [
    "def permittivity_tensor_from_pixel(\n",
    "    pixel_value, n_o_base=1.55, n_e_base=1.55, scale=0.5\n",
    "):\n",
    "    # The difference between n_o and n_e increases with the pixel value\n",
    "    n_o = n_o_base + scale * pixel_value\n",
    "    n_e = n_e_base - scale * pixel_value\n",
    "    return generate_permittivity_tensor(n_o, n_e)"
   ]
  },
  {
   "cell_type": "markdown",
   "id": "033e63a1",
   "metadata": {},
   "source": [
    "*Explanation*"
   ]
  },
  {
   "cell_type": "markdown",
   "id": "729a6123",
   "metadata": {},
   "source": [
    "The function is designed to calculate the ordinary and extraordinary refractive indices `n_o` and `n_e` based on a pixel value and then generates the corresponding permittivity tensor. The function takes the following inputs:\n",
    "1. `pixel_value` : Represents the pixel intensity value(a measure of brightness or color in an image), which modifies the ordinary refractive index `n_o` and extraoedinary refractive index `n_e` of the material. The pixel value should be first normalized to a range between 0 and 1.\n",
    "2. `n_o_base` : The base ordinary refractive index, which is default to 1.55.\n",
    "3. `n_e_base` : The base extraordinary refractive index, which is also default to 1.55.\n",
    "4. `scale` : A scaling factor that determines how the refractive indices change with the pixel value.\n",
    "\n",
    "Ordinarily, in a grayscale image, each pixel has a single value representing the intensity of light at that pixel. The value typically ranges from 0 (black) to 255 (white) in 8-bit images. In color images, each pixel consists of multiple values (usually 3 for RGB images), with each value representing the intensity of the Red, Green, and Blue color channels. Each channel’s intensity is typically in the 0-255 range for 8-bit images. However, since refractive indices cannot be very large or negative, we need to normalize the pixel values to a range between 0 and 1.\n",
    "\n",
    "The line `n_o = n_o_base + scale * pixel_value` calculates the ordinary refractive index, which increases with pixel value. Similarly, the line `n_e = n_e_base + scale * pixel_value` calculates the extraordinary refractive index, which decreases with pixel value. Therefore, an ordinary wave will experience more refraction and an extraordinary wave will experience less refraction.\n",
    "\n",
    "The function finally call the function `generate_permittivity_tensor` to genearate a permittivity tensor based on a pixel value. For example, if we set the pixel value as 0.78, we will have:"
   ]
  },
  {
   "cell_type": "code",
   "execution_count": 26,
   "id": "d615697a",
   "metadata": {},
   "outputs": [
    {
     "name": "stdout",
     "output_type": "stream",
     "text": [
      "tensor_from_pixel = \n",
      " <function permittivity_tensor_from_pixel at 0x0000023D306449A0>\n"
     ]
    }
   ],
   "source": [
    "pixel_value = 0.78\n",
    "n_o_base, n_e_base = 1.55, 1.55\n",
    "scale = 0.5\n",
    "\n",
    "n_o = n_o_base + scale * pixel_value\n",
    "n_e = n_e_base - scale * pixel_value\n",
    "\n",
    "tensor_from_pixel = generate_permittivity_tensor(n_o, n_e)\n",
    "\n",
    "print('tensor_from_pixel = \\n', permittivity_tensor_from_pixel)"
   ]
  },
  {
   "cell_type": "markdown",
   "id": "2388ede8",
   "metadata": {},
   "source": [
    "#### **Function 6: vectorized_permittivity_tensor_from_pixel**"
   ]
  },
  {
   "cell_type": "markdown",
   "id": "00bae2e5",
   "metadata": {},
   "source": [
    "*Source Code*"
   ]
  },
  {
   "cell_type": "code",
   "execution_count": 27,
   "id": "cec0bacd",
   "metadata": {},
   "outputs": [],
   "source": [
    "def vectorized_permittivity_tensor_from_pixel(\n",
    "    img, n_o_base=1.55, n_e_base=1.55, scale=0.5\n",
    "):\n",
    "    vmap_func = jax.vmap(\n",
    "        lambda pixel: permittivity_tensor_from_pixel(pixel, n_o_base, n_e_base, scale)\n",
    "    )\n",
    "    return jax.vmap(vmap_func)(img)"
   ]
  },
  {
   "cell_type": "markdown",
   "id": "9eb1f182",
   "metadata": {},
   "source": [
    "*Explanation*"
   ]
  },
  {
   "cell_type": "markdown",
   "id": "6c83bdb2",
   "metadata": {},
   "source": [
    "This function aims to vectorize the `permittivity_tensor_from_pixel` function to operate on an entire 2D image using the `jax.vmap` function, where each pixel in the image is treated as an individual scalar value that is passed to the `permittivity_tensor_from_pixel` function. The function takes the following inputs:\n",
    "1. `img`: An normalized array which can be read from an image using `imageio.imread()`.\n",
    "2. `n_o_base` : The base ordinary refractive index, which is default to 1.55.\n",
    "3. `n_e_base` : The base extraordinary refractive index, which is also default to 1.55.\n",
    "4. `scale` : A scaling factor that determines how the refractive indices change with the pixel value.\n",
    "\n",
    "In the code, a new function `jax.vmap` is used. It's a function in the JAX library that allows you to vectorize a function, meaning it can automatically apply a function over arrays in a batched manner. Instead of manually writing loops to apply a function to every element of an array, `jax.vmap` helps you apply the function efficiently to each element or batch of elements in parallel.\n",
    "\n",
    "For example, we define a function that adds one to the input and call it to do a simple test:"
   ]
  },
  {
   "cell_type": "code",
   "execution_count": 28,
   "id": "9e9ffb15",
   "metadata": {},
   "outputs": [
    {
     "name": "stdout",
     "output_type": "stream",
     "text": [
      "x = 1\n"
     ]
    }
   ],
   "source": [
    "# Define a function that returns 1 if x >= 0, otherwise 0\n",
    "def threshold_func(x):\n",
    "    return jnp.where(x >=0, 1, 0)\n",
    "\n",
    "# Call the function\n",
    "x = threshold_func(1)\n",
    "\n",
    "print('x =', x)"
   ]
  },
  {
   "cell_type": "markdown",
   "id": "5de17d27",
   "metadata": {},
   "source": [
    "Now, we apply this function to each element of an array using `jax.vmap` and use the vectorized function to do a test:"
   ]
  },
  {
   "cell_type": "code",
   "execution_count": 29,
   "id": "44b2b3d0",
   "metadata": {},
   "outputs": [
    {
     "name": "stdout",
     "output_type": "stream",
     "text": [
      "[0 1 0 1 0]\n"
     ]
    }
   ],
   "source": [
    "# Define an array\n",
    "x_array = jnp.array([-1, 2, -3, 4, -5])\n",
    "\n",
    "# Vectorizing the function with vmap:\n",
    "vectorized_threshold = jax.vmap(threshold_func)\n",
    "# Call the vectorized function\n",
    "result_vectorized = vectorized_threshold(x_array)\n",
    "\n",
    "print(result_vectorized)"
   ]
  },
  {
   "cell_type": "markdown",
   "id": "cfa2a0f0",
   "metadata": {},
   "source": [
    "`lambda pixel: permittivity_tensor_from_pixel(pixel, n_o_base, n_e_base, scale)` is an anonymous function (lambda function) that takes a single argument `pixel`. For each pixel, it calls `permittivity_tensor_from_pixel(pixel, n_o_base, n_e_base, scale)`, which means it computes the permittivity tensor for specific pixels using the provided values (n_o_base, n_e_base, scale) and passing in the `pixel` value.\n",
    "\n",
    "The `lambda` function in Python is a way to create small, nameless functions. It's often used when you need a simple function for a short operation, without formally defining it using the `def` keyword. The general syntax of a lambda function is `lambda arguments: expression`. For example, we can create a lambda function that adds 1 to a number:"
   ]
  },
  {
   "cell_type": "code",
   "execution_count": 30,
   "id": "d3cfb202",
   "metadata": {},
   "outputs": [
    {
     "name": "stdout",
     "output_type": "stream",
     "text": [
      "add_one = 2\n"
     ]
    }
   ],
   "source": [
    "# Create a lambda function that adds one to the input\n",
    "add_one = lambda x: x + 1\n",
    "print('add_one =', add_one(1))"
   ]
  },
  {
   "cell_type": "markdown",
   "id": "c2de0185",
   "metadata": {},
   "source": [
    "The first `jax.vmap()` in the source code wraps the lambda function which operates on a single pixel, and transforms it into a vectorized function `vamap_func` that can handle a row of pixels at once. \n",
    "\n",
    "The second one, namely, `jax.vmap(vmap_func)(img)` creates a vectorized version of the function `vmap_func`. Since `vmap_func` is already a function that processes a 1D array of pixels, `jax.vmap(vmap_func)` transforms it into a new function that processes a 2D array(e.g. an entire image). The second set of parentheses applies the vectorized function to the input data `img`.\n",
    "\n",
    "Let's calculate the permittivity tensors supposing we have a 2 $\\times$ 2 image `img` like this:"
   ]
  },
  {
   "cell_type": "code",
   "execution_count": 31,
   "id": "fbd5a93e",
   "metadata": {},
   "outputs": [
    {
     "name": "stdout",
     "output_type": "stream",
     "text": [
      "tensor =\n",
      " [[2.25 0.   0.  ]\n",
      " [0.   1.44 0.  ]\n",
      " [0.   0.   1.44]]\n"
     ]
    }
   ],
   "source": [
    "# Create an array of a 2x2 image\n",
    "img = jnp.array([[0.28, 0.33], \n",
    "                 [0.77, 0.66]])\n",
    "\n",
    "# Call the vectorized function to the image\n",
    "tensor = vectorized_permittivity_tensor_from_pixel(img)\n",
    "\n",
    "print('tensor =\\n', permittivity_tensor)"
   ]
  },
  {
   "cell_type": "markdown",
   "id": "870ca231",
   "metadata": {},
   "source": [
    "The result is a 4D array of shape `(2, 2, 3, 3)`, since each pixel is converted into a `3x3` tensor. The first and second `2` represent the number of rows and columns in the original image respectively, and the first and second `3` represent the first and second dimension of the 3x3 permittivity tensor respectively for each pixel."
   ]
  },
  {
   "cell_type": "markdown",
   "id": "57d99f20",
   "metadata": {},
   "source": [
    "#### **Function 7: create_homogeneous_scattering_potential** "
   ]
  },
  {
   "cell_type": "markdown",
   "id": "e12c0890",
   "metadata": {},
   "source": [
    "*Source Code*"
   ]
  },
  {
   "cell_type": "code",
   "execution_count": 32,
   "id": "2f6bbb3d",
   "metadata": {},
   "outputs": [],
   "source": [
    "def create_homogeneous_scattering_potential(\n",
    "    shape: Tuple[int, int, int], n_o: float, n_e: float, background_permittivity: float\n",
    "):\n",
    "    \"\"\"\n",
    "    Create a homogeneous uniaxial anisotropic scattering potential.\n",
    "\n",
    "    Args:\n",
    "        shape (tuple): Shape of the phantom (z, y, x)\n",
    "        n_o (float): Ordinary refractive index\n",
    "        n_e (float): Extraordinary refractive index\n",
    "        background_permittivity (float): Background permittivity\n",
    "\n",
    "    Returns:\n",
    "        jnp.ndarray: 4D array representing the scattering potential\n",
    "    \"\"\"\n",
    "    permittivity_tensor = create_homogeneous_phantom(shape, n_o, n_e)\n",
    "    scattering_potential = create_scattering_potential(\n",
    "        permittivity_tensor, background_permittivity\n",
    "    )\n",
    "    return scattering_potential"
   ]
  },
  {
   "cell_type": "markdown",
   "id": "7276dffa",
   "metadata": {},
   "source": [
    "*Explanation*"
   ]
  },
  {
   "cell_type": "markdown",
   "id": "911a4e93",
   "metadata": {},
   "source": [
    "This function aims to generate a homogeneous unaxial anisotropic scattering potential for a given 3D shape by simply calling the defined functions `create_homogeneous_phantom` and `create_scattering_potential`. The function takes the following inputs:\n",
    "1. `shape` : A tuple representing the shape of the phantom (z, y, x). The number (Integer) of voxels in each dimension is given by `shape[0]`, `shape[1]`, and `shape[2]`, respectively.\n",
    "2. `n_o` : The ordinary refractive index of the material.\n",
    "3. `n_e` : The extraordinary refractive index of the material.\n",
    "4. `background_permittivity` : Background permittivity of the medium. The scattering potential is calculated based on the difference between the permittivity of the material and the background permittivity.\n",
    "\n",
    "For example:"
   ]
  },
  {
   "cell_type": "code",
   "execution_count": 33,
   "id": "77f5a4c8",
   "metadata": {},
   "outputs": [
    {
     "name": "stdout",
     "output_type": "stream",
     "text": [
      "scattering_potential =\n",
      " [[[[[ 0.30208328 -1.         -1.        ]\n",
      "    [-1.          0.30208328 -1.        ]\n",
      "    [-1.         -1.          1.0020832 ]]\n",
      "\n",
      "   [[ 0.30208328 -1.         -1.        ]\n",
      "    [-1.          0.30208328 -1.        ]\n",
      "    [-1.         -1.          1.0020832 ]]\n",
      "\n",
      "   [[ 0.30208328 -1.         -1.        ]\n",
      "    [-1.          0.30208328 -1.        ]\n",
      "    [-1.         -1.          1.0020832 ]]]\n",
      "\n",
      "\n",
      "  [[[ 0.30208328 -1.         -1.        ]\n",
      "    [-1.          0.30208328 -1.        ]\n",
      "    [-1.         -1.          1.0020832 ]]\n",
      "\n",
      "   [[ 0.30208328 -1.         -1.        ]\n",
      "    [-1.          0.30208328 -1.        ]\n",
      "    [-1.         -1.          1.0020832 ]]\n",
      "\n",
      "   [[ 0.30208328 -1.         -1.        ]\n",
      "    [-1.          0.30208328 -1.        ]\n",
      "    [-1.         -1.          1.0020832 ]]]]]\n"
     ]
    }
   ],
   "source": [
    "shape = (1, 2, 3)\n",
    "n_o, n_e = 1.25, 1.55\n",
    "background_permittivity = 1.2\n",
    "\n",
    "# Call the function to create the homogeneous scattering potential\n",
    "scattering_potential = create_homogeneous_scattering_potential(shape, n_o, n_e, background_permittivity)\n",
    "\n",
    "print('scattering_potential =\\n', scattering_potential)"
   ]
  },
  {
   "cell_type": "markdown",
   "id": "3931be36",
   "metadata": {},
   "source": [
    "As the result shows, the function returns an array with a shape of `(1, 2, 3, 3, 3)`. The dimensions `1`, `2`, `3` represent the number of voxels along $z$, $y$, and $x$ directions respectively. The two trailing `3`s correspond to the two dimensions of the permittivity tensors for each voxel. In other words, each voxel in the `shape` is converted to a 2D array representing its permittivity tensor."
   ]
  },
  {
   "cell_type": "markdown",
   "id": "22fc0d8f",
   "metadata": {},
   "source": [
    "#### **Function 8: process_image_to_epsilon_r**"
   ]
  },
  {
   "cell_type": "markdown",
   "id": "1c794262",
   "metadata": {},
   "source": [
    "*Source Code*"
   ]
  },
  {
   "cell_type": "code",
   "execution_count": 34,
   "id": "c0d4a372",
   "metadata": {},
   "outputs": [],
   "source": [
    "def process_image_to_epsilon_r(input_path, n_o=1.658, n_e=1.486):\n",
    "    img = imageio.imread(input_path)\n",
    "    img = img / img.max()\n",
    "    jax_img = jnp.array(img)\n",
    "\n",
    "    n_avg = (n_o + n_e) / 2\n",
    "    scale = (n_o - n_e) / 2\n",
    "    epsilon_img = vectorized_permittivity_tensor_from_pixel(\n",
    "        jax_img, n_avg, n_avg, scale\n",
    "    )\n",
    "\n",
    "    # Tile the epsilon tensor\n",
    "    epsilon_r = jnp.tile(epsilon_img, (10, 1, 1, 1, 1))\n",
    "\n",
    "    return epsilon_r"
   ]
  },
  {
   "cell_type": "markdown",
   "id": "a2d7a9b2",
   "metadata": {},
   "source": [
    "*Explanation*"
   ]
  },
  {
   "cell_type": "markdown",
   "id": "a4316848",
   "metadata": {},
   "source": [
    "The function is designed to process an image and convert it into an array of permittivity tensors for further calculations such as being calculated as background permittivity. The function takes three inputs:\n",
    "1. `input_path` : The file path of the image to be processed.\n",
    "2. `n_o` : The ordinary refractive index (default = 1.658).\n",
    "3. `n_e` : The extraordinary refractive index (default = 1.486).\n",
    "\n",
    "To process an image to `epsilon_r`, the image is first read from `input_path` using `imageio.imread` as an array of pixel values (normally, 0-255). These pixel values are then nromalized by dividing them by the maximum value in the image (`img = img / img.max()`), which results in an array of values scaled between 0 and 1. And the normalized image is converted into a JAX array (`jax_img = jnp.array(img)`).\n",
    "\n",
    "Then, the code calculates the average refractive index (`n_avg`) and the scaling factor (`scale`) based on the given ordinary and extraordinary refractive index. Next, the code calls the function `vectorized_permittivity_tensor_from_pixel` to apply to the `jax_img` array, using the calculated `n_avg` and `scale`, which convertes the pixel values into permittivity tensors for each pixel.\n",
    "\n",
    "Finally, the code tiles the epsilon tensor by repeating it 10 times along the first dimension using `jax.tile()`. As the first dimenstion is $z$ direction, the tiling is actually adding depth to the image. And the other dimensions `(1, 1, 1, 1)` indicates that no tiling is done along other dimensions which is $y$, $x$, and the $3 \\times 3$ tensor elements.\n",
    "\n",
    "Suppose we have a normalized $2 \\times 2$ array representing a grayscale image with only 4 pixels, and then calculate the `epsilon_img` and `epsilon_r`:"
   ]
  },
  {
   "cell_type": "code",
   "execution_count": 35,
   "id": "98824e03",
   "metadata": {},
   "outputs": [
    {
     "name": "stdout",
     "output_type": "stream",
     "text": [
      "epsilon_img =\n",
      " [[[[2.5675511 0.        0.       ]\n",
      "   [0.        2.5675511 0.       ]\n",
      "   [0.        0.        2.3766603]]\n",
      "\n",
      "  [[2.686865  0.        0.       ]\n",
      "   [0.        2.686865  0.       ]\n",
      "   [0.        0.        2.2645257]]]\n",
      "\n",
      "\n",
      " [[[2.5170903 0.        0.       ]\n",
      "   [0.        2.5170903 0.       ]\n",
      "   [0.        0.        2.4257004]]\n",
      "\n",
      "  [[2.7154164 0.        0.       ]\n",
      "   [0.        2.7154164 0.       ]\n",
      "   [0.        0.        2.2384589]]]]\n"
     ]
    }
   ],
   "source": [
    "# Crear a 2 x 2 image array.\n",
    "jax_img = jnp.array([[0.353, 0.781], [0.169, 0.882]])\n",
    "\n",
    "# Calculate n_avg and scale.\n",
    "n_o, n_e = 1.658, 1.486\n",
    "n_avg = (n_o + n_e) / 2\n",
    "scale = (n_o - n_e) / 2\n",
    "\n",
    "# Call the Function 6 to create the epsilon tensor.\n",
    "epsilon_img = vectorized_permittivity_tensor_from_pixel(jax_img, n_avg, n_avg, scale)\n",
    "\n",
    "print('epsilon_img =\\n', epsilon_img)"
   ]
  },
  {
   "cell_type": "code",
   "execution_count": 36,
   "id": "7d647d26",
   "metadata": {},
   "outputs": [
    {
     "name": "stdout",
     "output_type": "stream",
     "text": [
      "shape of epsilon_r = (10, 2, 2, 3, 3)\n",
      "epsilon_r =\n",
      " [[[[[2.5675511 0.        0.       ]\n",
      "    [0.        2.5675511 0.       ]\n",
      "    [0.        0.        2.3766603]]\n",
      "\n",
      "   [[2.686865  0.        0.       ]\n",
      "    [0.        2.686865  0.       ]\n",
      "    [0.        0.        2.2645257]]]\n",
      "\n",
      "\n",
      "  [[[2.5170903 0.        0.       ]\n",
      "    [0.        2.5170903 0.       ]\n",
      "    [0.        0.        2.4257004]]\n",
      "\n",
      "   [[2.7154164 0.        0.       ]\n",
      "    [0.        2.7154164 0.       ]\n",
      "    [0.        0.        2.2384589]]]]\n",
      "\n",
      "\n",
      "\n",
      " [[[[2.5675511 0.        0.       ]\n",
      "    [0.        2.5675511 0.       ]\n",
      "    [0.        0.        2.3766603]]\n",
      "\n",
      "   [[2.686865  0.        0.       ]\n",
      "    [0.        2.686865  0.       ]\n",
      "    [0.        0.        2.2645257]]]\n",
      "\n",
      "\n",
      "  [[[2.5170903 0.        0.       ]\n",
      "    [0.        2.5170903 0.       ]\n",
      "    [0.        0.        2.4257004]]\n",
      "\n",
      "   [[2.7154164 0.        0.       ]\n",
      "    [0.        2.7154164 0.       ]\n",
      "    [0.        0.        2.2384589]]]]\n",
      "\n",
      "\n",
      "\n",
      " [[[[2.5675511 0.        0.       ]\n",
      "    [0.        2.5675511 0.       ]\n",
      "    [0.        0.        2.3766603]]\n",
      "\n",
      "   [[2.686865  0.        0.       ]\n",
      "    [0.        2.686865  0.       ]\n",
      "    [0.        0.        2.2645257]]]\n",
      "\n",
      "\n",
      "  [[[2.5170903 0.        0.       ]\n",
      "    [0.        2.5170903 0.       ]\n",
      "    [0.        0.        2.4257004]]\n",
      "\n",
      "   [[2.7154164 0.        0.       ]\n",
      "    [0.        2.7154164 0.       ]\n",
      "    [0.        0.        2.2384589]]]]\n",
      "\n",
      "\n",
      "\n",
      " [[[[2.5675511 0.        0.       ]\n",
      "    [0.        2.5675511 0.       ]\n",
      "    [0.        0.        2.3766603]]\n",
      "\n",
      "   [[2.686865  0.        0.       ]\n",
      "    [0.        2.686865  0.       ]\n",
      "    [0.        0.        2.2645257]]]\n",
      "\n",
      "\n",
      "  [[[2.5170903 0.        0.       ]\n",
      "    [0.        2.5170903 0.       ]\n",
      "    [0.        0.        2.4257004]]\n",
      "\n",
      "   [[2.7154164 0.        0.       ]\n",
      "    [0.        2.7154164 0.       ]\n",
      "    [0.        0.        2.2384589]]]]\n",
      "\n",
      "\n",
      "\n",
      " [[[[2.5675511 0.        0.       ]\n",
      "    [0.        2.5675511 0.       ]\n",
      "    [0.        0.        2.3766603]]\n",
      "\n",
      "   [[2.686865  0.        0.       ]\n",
      "    [0.        2.686865  0.       ]\n",
      "    [0.        0.        2.2645257]]]\n",
      "\n",
      "\n",
      "  [[[2.5170903 0.        0.       ]\n",
      "    [0.        2.5170903 0.       ]\n",
      "    [0.        0.        2.4257004]]\n",
      "\n",
      "   [[2.7154164 0.        0.       ]\n",
      "    [0.        2.7154164 0.       ]\n",
      "    [0.        0.        2.2384589]]]]\n",
      "\n",
      "\n",
      "\n",
      " [[[[2.5675511 0.        0.       ]\n",
      "    [0.        2.5675511 0.       ]\n",
      "    [0.        0.        2.3766603]]\n",
      "\n",
      "   [[2.686865  0.        0.       ]\n",
      "    [0.        2.686865  0.       ]\n",
      "    [0.        0.        2.2645257]]]\n",
      "\n",
      "\n",
      "  [[[2.5170903 0.        0.       ]\n",
      "    [0.        2.5170903 0.       ]\n",
      "    [0.        0.        2.4257004]]\n",
      "\n",
      "   [[2.7154164 0.        0.       ]\n",
      "    [0.        2.7154164 0.       ]\n",
      "    [0.        0.        2.2384589]]]]\n",
      "\n",
      "\n",
      "\n",
      " [[[[2.5675511 0.        0.       ]\n",
      "    [0.        2.5675511 0.       ]\n",
      "    [0.        0.        2.3766603]]\n",
      "\n",
      "   [[2.686865  0.        0.       ]\n",
      "    [0.        2.686865  0.       ]\n",
      "    [0.        0.        2.2645257]]]\n",
      "\n",
      "\n",
      "  [[[2.5170903 0.        0.       ]\n",
      "    [0.        2.5170903 0.       ]\n",
      "    [0.        0.        2.4257004]]\n",
      "\n",
      "   [[2.7154164 0.        0.       ]\n",
      "    [0.        2.7154164 0.       ]\n",
      "    [0.        0.        2.2384589]]]]\n",
      "\n",
      "\n",
      "\n",
      " [[[[2.5675511 0.        0.       ]\n",
      "    [0.        2.5675511 0.       ]\n",
      "    [0.        0.        2.3766603]]\n",
      "\n",
      "   [[2.686865  0.        0.       ]\n",
      "    [0.        2.686865  0.       ]\n",
      "    [0.        0.        2.2645257]]]\n",
      "\n",
      "\n",
      "  [[[2.5170903 0.        0.       ]\n",
      "    [0.        2.5170903 0.       ]\n",
      "    [0.        0.        2.4257004]]\n",
      "\n",
      "   [[2.7154164 0.        0.       ]\n",
      "    [0.        2.7154164 0.       ]\n",
      "    [0.        0.        2.2384589]]]]\n",
      "\n",
      "\n",
      "\n",
      " [[[[2.5675511 0.        0.       ]\n",
      "    [0.        2.5675511 0.       ]\n",
      "    [0.        0.        2.3766603]]\n",
      "\n",
      "   [[2.686865  0.        0.       ]\n",
      "    [0.        2.686865  0.       ]\n",
      "    [0.        0.        2.2645257]]]\n",
      "\n",
      "\n",
      "  [[[2.5170903 0.        0.       ]\n",
      "    [0.        2.5170903 0.       ]\n",
      "    [0.        0.        2.4257004]]\n",
      "\n",
      "   [[2.7154164 0.        0.       ]\n",
      "    [0.        2.7154164 0.       ]\n",
      "    [0.        0.        2.2384589]]]]\n",
      "\n",
      "\n",
      "\n",
      " [[[[2.5675511 0.        0.       ]\n",
      "    [0.        2.5675511 0.       ]\n",
      "    [0.        0.        2.3766603]]\n",
      "\n",
      "   [[2.686865  0.        0.       ]\n",
      "    [0.        2.686865  0.       ]\n",
      "    [0.        0.        2.2645257]]]\n",
      "\n",
      "\n",
      "  [[[2.5170903 0.        0.       ]\n",
      "    [0.        2.5170903 0.       ]\n",
      "    [0.        0.        2.4257004]]\n",
      "\n",
      "   [[2.7154164 0.        0.       ]\n",
      "    [0.        2.7154164 0.       ]\n",
      "    [0.        0.        2.2384589]]]]]\n"
     ]
    }
   ],
   "source": [
    "# Calculate epsilon_r\n",
    "epsilon_r = jnp.tile(epsilon_img, (10, 1, 1, 1, 1))\n",
    "\n",
    "print('shape of epsilon_r =', epsilon_r.shape)\n",
    "print('epsilon_r =\\n', epsilon_r)"
   ]
  },
  {
   "cell_type": "markdown",
   "id": "0c93b4f5",
   "metadata": {},
   "source": [
    "As the result shows, the shape of `epsilon_r` is `(10, 2, 2, 3, 3)`. The shape indicates that there are ten `epsilon_img`s in the `epsilon_r` along $z$ direction, each `epsilon_ing` consists of two rows and two columns of tensors, and each tensor consists of three rows and three columns of values."
   ]
  },
  {
   "cell_type": "markdown",
   "id": "96d3eff6",
   "metadata": {},
   "source": [
    "#### **Function 9: calc_scattering_potential**"
   ]
  },
  {
   "cell_type": "markdown",
   "id": "57afd64d",
   "metadata": {},
   "source": [
    "*Source Code*"
   ]
  },
  {
   "cell_type": "code",
   "execution_count": 37,
   "id": "2e6e7523",
   "metadata": {},
   "outputs": [],
   "source": [
    "def calc_scattering_potential(epsilon_r, refractive_index, wavelength):\n",
    "    \"\"\"\n",
    "    Create the scattering potential from the permittivity tensor.\n",
    "\n",
    "    Args:\n",
    "        epsilon_r (jnp.ndarray): The permittivity tensor of the material.\n",
    "        refractive_index (float): The refractive index of the background medium.\n",
    "        wavelength (float): The wavelength of the light (microns).\n",
    "\n",
    "    Returns:\n",
    "        jnp.ndarray: The scattering potential.\n",
    "    \"\"\"\n",
    "    k_0 = 2 * jnp.pi / wavelength\n",
    "    vol_shape = epsilon_r.shape[:3]\n",
    "    epsilon_m = jnp.tile(jnp.eye(3) * refractive_index**2, (*vol_shape, 1, 1))\n",
    "    scattering_potential = k_0**2 * (epsilon_m - epsilon_r)\n",
    "    return scattering_potential"
   ]
  },
  {
   "cell_type": "markdown",
   "id": "05078a66",
   "metadata": {},
   "source": [
    "*Explanation*"
   ]
  },
  {
   "cell_type": "markdown",
   "id": "a6845a73",
   "metadata": {},
   "source": [
    "The function calculates the scattering potential from a given permittivity tensor (`epsilon_r`), refractive index, and wavelength:\n",
    "1. `epsilon_r` : The permittivity tensor of the material, which should be a 3D JAX array where each voxel contains a $3 \\times 3$ matrix.\n",
    "2. `refractive_index` : The refractive index of the medium.\n",
    "3. `wavelength` : The wavelength of the incident light, in microns.\n",
    "\n",
    "`k_0 = 2 * jnp.pi / wavelength` aims to calculate the wavenumber $k_0$ according to the equation:\n",
    "$$\n",
    "k_0 = \\frac{\\omega}{c} = \\frac{2 \\pi c}{\\lambda} \\cdot \\frac{1}{c} = \\frac{2 \\pi}{\\lambda}\\tag{2.1.18}\n",
    "$$\n",
    "In the physical science, the wavenumber, also known as repetency is the spatial frequency of a wave, measured in cycles per unit distance (ordinary wavenumber, $1/\\lambda$) or radians per unit distance (angular distance, $2 \\pi /\\lambda$).[@Wavenumber]\n",
    "\n",
    "The line `vol_shape = epsilon_r.shape[:3]` extracts the spatial dimensions of `epsilon_r`, which has the shape `(z, y, x, 3, 3)`, because we then need to create an array of background permittivity `epsilon_m`, with matching spatial dimensions, ensuring it has the same shape as volume represented by `epsilon_r`.\n",
    "\n",
    "`epsilon_r.shape` creates an array returns the shape of the `epsilon_r` array. `epsilon_r.shape[:3]` selects only the first three dimensions of the array shape, which is `z`, `y`, `x`. For example, if the `epsilon_r` has a shape `(4, 5, 6, 3, 3)`:"
   ]
  },
  {
   "cell_type": "code",
   "execution_count": 38,
   "id": "028d3a55",
   "metadata": {},
   "outputs": [
    {
     "name": "stdout",
     "output_type": "stream",
     "text": [
      "vol_shape = (4, 5, 6)\n"
     ]
    }
   ],
   "source": [
    "# Define a shape of the epsilon_r tensor.\n",
    "epsilon_r_shape = (4, 5, 6, 3, 3)\n",
    "\n",
    "#Extract the volume shape from the tensor\n",
    "vol_shape = epsilon_r_shape[:3]\n",
    "\n",
    "print('vol_shape =', vol_shape)"
   ]
  },
  {
   "cell_type": "markdown",
   "id": "6badb19e",
   "metadata": {},
   "source": [
    "Similarly, we can select any dimensions from the shape:"
   ]
  },
  {
   "cell_type": "code",
   "execution_count": 39,
   "id": "77ff2b1a",
   "metadata": {},
   "outputs": [
    {
     "name": "stdout",
     "output_type": "stream",
     "text": [
      "permittivity_shape = (3, 3)\n",
      "middle_shape = (5, 6, 3)\n"
     ]
    }
   ],
   "source": [
    "# Select the last two dimensions of the shape.\n",
    "permittivity_shape = epsilon_r_shape[3:]\n",
    "print('permittivity_shape =', permittivity_shape)\n",
    "\n",
    "# Select the three dimensions in the middle of the shape.\n",
    "middle_shape = epsilon_r_shape[1:4]\n",
    "print('middle_shape =', middle_shape)"
   ]
  },
  {
   "cell_type": "markdown",
   "id": "0ddcca3a",
   "metadata": {},
   "source": [
    "The line `epsilon_m = jnp.tile(jnp.eye(3) * refractive_index**2, (*vol.shape, 1, 1))` create an array of background permittivity tensor using the function `jnp.tile()` in a volume of a given shape (`vol.shape`).\n",
    "\n",
    "`jnp.eye(3)` generates a 3 $\\times$ 3 identity matrix, which is then scaled by the square of the refractive index. This operation produces a diagonal matrix where each diagonal element is equal to `refractive_index**2`: "
   ]
  },
  {
   "cell_type": "code",
   "execution_count": 42,
   "id": "f9196077",
   "metadata": {},
   "outputs": [
    {
     "name": "stdout",
     "output_type": "stream",
     "text": [
      "diag_matrix =\n",
      " [[1.7689 0.     0.    ]\n",
      " [0.     1.7689 0.    ]\n",
      " [0.     0.     1.7689]]\n"
     ]
    }
   ],
   "source": [
    "refractive_index = 1.33\n",
    "\n",
    "diag_matrix = jnp.eye(3) * refractive_index**2\n",
    "\n",
    "print('diag_matrix =\\n', diag_matrix)"
   ]
  },
  {
   "cell_type": "markdown",
   "id": "80b6c281",
   "metadata": {},
   "source": [
    "Next, `jnp.tile()` is employed to replicate the matrix throughout the volume defined by `vol_shape`, resulting in a tensor with the shape `(*vol_shape, 3, 3)`.\n",
    "\n",
    "In the end, the `scattering_potential` is calculated based on a slightly different definition:\n",
    "$$\n",
    "F(r) = k_0^2 (\\varepsilon_B - \\varepsilon_r) \\tag{2.1.19}\n",
    "$$\n"
   ]
  },
  {
   "cell_type": "markdown",
   "id": "3e68f739",
   "metadata": {},
   "source": [
    "#### **Function 10: expand_potential_dims**"
   ]
  },
  {
   "cell_type": "markdown",
   "id": "5649765f",
   "metadata": {},
   "source": [
    "*Source Code*"
   ]
  },
  {
   "cell_type": "code",
   "execution_count": 40,
   "id": "51d6028a",
   "metadata": {},
   "outputs": [],
   "source": [
    "def expand_potential_dims(tensor):\n",
    "    potential = jnp.expand_dims(tensor, axis=(1, 4))\n",
    "    return potential"
   ]
  },
  {
   "cell_type": "markdown",
   "id": "c34dd2d9",
   "metadata": {},
   "source": [
    "*Explanation*"
   ]
  },
  {
   "cell_type": "markdown",
   "id": "74471486",
   "metadata": {},
   "source": [
    "The code defines a function which expands the dimension of the input tensor using `jnp.expand_dims()`. This function inserts two additional dimensions into the input `tensor` at the positions specified by the `axis`.\n",
    "\n",
    "The expression `axis=(1, 4)` indicates that two new dimensions will be inserted at axis 1 (second position) and axis 4 (fifth position). For instance, consider the variable `phantom` in Function 2, which has the shape `(1, 2, 3, 3, 3)`. Let's insert two additional dimensions into it:"
   ]
  },
  {
   "cell_type": "code",
   "execution_count": 49,
   "id": "1d3629e9",
   "metadata": {},
   "outputs": [
    {
     "name": "stdout",
     "output_type": "stream",
     "text": [
      "shape of the tensor = (1, 2, 3, 3, 3)\n",
      "shape of the potential = (1, 1, 2, 3, 1, 3, 3)\n"
     ]
    }
   ],
   "source": [
    "# Assign the phantom tensor to the variable `tensor`\n",
    "tensor = phantom\n",
    "print('shape of the tensor =', tensor.shape)\n",
    "\n",
    "# Expand the dimensions of the tensor\n",
    "potential = jnp.expand_dims(tensor, axis=(1, 4))\n",
    "print('shape of the potential =', potential.shape)"
   ]
  },
  {
   "cell_type": "markdown",
   "id": "cdc56eb9",
   "metadata": {},
   "source": [
    "It's clear that the function returns the modified tensor, which now has two singleton dimensions at the second and fifth position of the modified tensor."
   ]
  },
  {
   "cell_type": "markdown",
   "id": "bfcf5968",
   "metadata": {},
   "source": [
    "#### **Function 11: generate_dummy_potential**"
   ]
  },
  {
   "cell_type": "markdown",
   "id": "f575cc15",
   "metadata": {},
   "source": [
    "*Source Code*"
   ]
  },
  {
   "cell_type": "code",
   "execution_count": 41,
   "id": "fc1152f8",
   "metadata": {},
   "outputs": [],
   "source": [
    "def generate_dummy_potential(vol_shape):\n",
    "    potential = expand_potential_dims(jnp.ones((*vol_shape, 3, 3)))\n",
    "    return potential"
   ]
  },
  {
   "cell_type": "markdown",
   "id": "8a8a9ec4",
   "metadata": {},
   "source": [
    "*Explanation*"
   ]
  },
  {
   "cell_type": "markdown",
   "id": "452e4233",
   "metadata": {},
   "source": [
    "The function is employed to create a tensor filled with ones, having a shape based on the input `vol_shape`, and then expands its dimensions using the previously defined `expand_potential_dims` function.\n",
    "\n",
    "The input `vol_shape` should be a tuple defining the 3D dimensions. `3, 3` adds two additional dimensions for a 3 $\\times$ 3 matrix at each point in the volume. The function `jnp.ones()` generates a tensor filled with ones. Suppose `vol_shape = (1, 2, 3)`, then:"
   ]
  },
  {
   "cell_type": "code",
   "execution_count": 50,
   "id": "da422f01",
   "metadata": {},
   "outputs": [
    {
     "name": "stdout",
     "output_type": "stream",
     "text": [
      "shape of the potential = (1, 1, 2, 3, 1, 3, 3)\n",
      "potential =\n",
      " [[[[[[[1. 1. 1.]\n",
      "      [1. 1. 1.]\n",
      "      [1. 1. 1.]]]\n",
      "\n",
      "\n",
      "    [[[1. 1. 1.]\n",
      "      [1. 1. 1.]\n",
      "      [1. 1. 1.]]]\n",
      "\n",
      "\n",
      "    [[[1. 1. 1.]\n",
      "      [1. 1. 1.]\n",
      "      [1. 1. 1.]]]]\n",
      "\n",
      "\n",
      "\n",
      "   [[[[1. 1. 1.]\n",
      "      [1. 1. 1.]\n",
      "      [1. 1. 1.]]]\n",
      "\n",
      "\n",
      "    [[[1. 1. 1.]\n",
      "      [1. 1. 1.]\n",
      "      [1. 1. 1.]]]\n",
      "\n",
      "\n",
      "    [[[1. 1. 1.]\n",
      "      [1. 1. 1.]\n",
      "      [1. 1. 1.]]]]]]]\n"
     ]
    }
   ],
   "source": [
    "# Define the shape of the volume.\n",
    "vol_shape = (1, 2, 3)\n",
    "\n",
    "# Call the function to generate the dummy potential.\n",
    "potential = expand_potential_dims(jnp.ones((*vol_shape, 3, 3)))\n",
    "print('shape of the potential =', potential.shape)\n",
    "print('potential =\\n', potential)"
   ]
  },
  {
   "cell_type": "markdown",
   "id": "d0725a8e",
   "metadata": {},
   "source": [
    "## **Package 2: Elements**"
   ]
  },
  {
   "cell_type": "markdown",
   "id": "a9c5bcc1",
   "metadata": {},
   "source": [
    "This package defines a lot of classes wrapping corresponding functions in the Functional package to simulated elements in an optical system (such as lens, sensor, amplitude mask and so on) under a neural network framework using libraries like JAX, and Flax.\n",
    "\n",
    "In machine learning, a neural network (also artificial neural network or neural net, abbreviated ANN or NN) is a model inspired by the structure and function of biological neural networks in animal brains.[@Neural_network]\n",
    "\n",
    "An ANN consists of connected units or nodes called artificial neurons, which loosely model the neurons in the brain. These are connected by edges, which model the synapses in the brain. Each artificial neuron receives signals from connected neurons, then processes them and sends a signal to other connected neurons. The \"signal\" is a real number, and the output of each neuron is computed by some non-linear function of the sum of its inputs, called the activation function. The strength of the signal at each connection is determined by a weight, which adjusts during the learning process.[@Neural_network]\n",
    "\n",
    "For example, if we have neuron with two inputs and one output as shown below:[@Neuron]\n",
    "\n",
    "[<center><img src=\"Neuron.jpg\" width=\"500\"></center>](attachment:Neuron.jpg)\n",
    "\n",
    "First, each input is multiplied by a weight $w_1$ and $w_2$:\n",
    "\n",
    "$$x_1 \\rightarrow x_1 \\cdot w_1 \\tag{2.2.1}$$\n",
    "$$x_2 \\rightarrow x_2 \\cdot w_2 \\tag{2.2.2}$$\n",
    "\n",
    "Then, the sum of the two weighted inputs is added with a bias b:\n",
    "\n",
    "$$sum = x_1 \\cdot w_1 + x_2 \\cdot w_2 +b \\tag{2.2.3}$$\n",
    "\n",
    "Finally, the sum is passed through an activation function:\n",
    "\n",
    "$$output = f(sum) \\tag{2.2.4}$$\n",
    "\n",
    "The activation function is used to turn an unbounded input into an output that has a nice, predictable form.[@Neuron]\n",
    "\n",
    "In Jax and Flax, there are several commonly used activation functions such as Sigmoid, ReLU, Softmax.\n",
    "\n",
    "Typically, neurons are aggregated into layers. Different layers may perform different transformations on their inputs. Signals travel from the first layer (the input layer) to the last layer (the output layer), possibly passing through multiple intermediate layers (hidden layers). A network is typically called a deep neural network if it has at least two hidden layers.[@Neural_network]\n"
   ]
  },
  {
   "cell_type": "markdown",
   "id": "5179c514",
   "metadata": {},
   "source": [
    "### **Module 1: init**"
   ]
  },
  {
   "cell_type": "markdown",
   "id": "f8a936a7",
   "metadata": {},
   "source": [
    "#### **Imports**"
   ]
  },
  {
   "cell_type": "markdown",
   "id": "f3d19c3e",
   "metadata": {},
   "source": [
    "*Souce Code*"
   ]
  },
  {
   "cell_type": "code",
   "execution_count": null,
   "id": "8496d7b5",
   "metadata": {},
   "outputs": [],
   "source": [
    "from .amplitude_masks import *\n",
    "from .convenience import *\n",
    "from .lenses import *\n",
    "from .phase_masks import *\n",
    "from .propagation import *\n",
    "from .samples import *\n",
    "from .sensors import *\n",
    "from .sources import *\n",
    "from .utils import trainable"
   ]
  },
  {
   "cell_type": "markdown",
   "id": "0445e72e",
   "metadata": {},
   "source": [
    "*Explanation*"
   ]
  },
  {
   "cell_type": "markdown",
   "id": "20f0b8c6",
   "metadata": {},
   "source": [
    "This module is used to mark files in this directory as a package and initialize this package. Besides, it aggregates all modules in this package into a single namespace, so that users can import elements from this package without needing to know the internal structure. \n",
    "\n",
    "The import syntax `from .module_name import *` used in the code, is to bring in all modules, functions, or classes from a package or module located within the same project. These modules are going to be presented in the following parts.\n",
    "\n",
    "The dot `.` indicates a relative import, signifying that the `module_name` is part of the same package as the current module. Additionally, `..` refers to the parent package, while `...` refers to the grandparent package, and so on.\n",
    "\n",
    "The asterisk `*` acts as a wildcard instructing Python to import all functions, classes, variables, etc. from `module_name`. To control what is imported when using `*`, a special variable `__all__` can be applied to define a list of functions, classes, variables, etc. that the module explicitly exports and makes available for import. Alternatively, specific functions or classes can be imported by replacing the `*` with the exact names of the desired items. "
   ]
  },
  {
   "cell_type": "markdown",
   "id": "7a67f486",
   "metadata": {},
   "source": [
    "### **Module 2: amplitude_masks**"
   ]
  },
  {
   "cell_type": "markdown",
   "id": "fcbd5ae0",
   "metadata": {},
   "source": [
    "#### **Imports**"
   ]
  },
  {
   "cell_type": "markdown",
   "id": "f292e615",
   "metadata": {},
   "source": [
    "*Source Code*"
   ]
  },
  {
   "cell_type": "code",
   "execution_count": null,
   "id": "82e91147",
   "metadata": {},
   "outputs": [],
   "source": [
    "from typing import Callable, Tuple, Union\n",
    "\n",
    "from chex import Array, PRNGKey\n",
    "from flax import linen as nn\n",
    "\n",
    "from chromatix.elements.utils import register\n",
    "\n",
    "from ..field import Field\n",
    "from ..functional.amplitude_masks import amplitude_change\n",
    "from ..ops import binarize\n",
    "\n",
    "__all__ = [\"AmplitudeMask\"]"
   ]
  },
  {
   "cell_type": "markdown",
   "id": "50ac6e9a",
   "metadata": {},
   "source": [
    "*Explanation*"
   ]
  },
  {
   "cell_type": "markdown",
   "id": "7122f852",
   "metadata": {},
   "source": [
    "1. `typing`\n",
    "\n",
    "In Python, `typing` is a standard module that allows you to use type hints to indicate the expected types of variables, function arguments, and return values. `typing` enables developers to specify the types for better code clarity, documentation, and static type checking.\n",
    "\n",
    "`Callable` is used in type annotations to indicate that a particular variable or function parameter is a function or an object that can be called like a function. For example:"
   ]
  },
  {
   "cell_type": "code",
   "execution_count": 4,
   "id": "807ee8e4",
   "metadata": {},
   "outputs": [
    {
     "name": "stdout",
     "output_type": "stream",
     "text": [
      "7\n"
     ]
    }
   ],
   "source": [
    "from typing import Callable\n",
    "\n",
    "# Define a function that takes a callable as an argument.\n",
    "def afunc(func: Callable[[int, int], int], a: int, b: int):\n",
    "    return func(a, b)\n",
    "\n",
    "def add(x: int, y: int):\n",
    "    return x + y\n",
    "\n",
    "print(afunc(add, 3, 4))"
   ]
  },
  {
   "cell_type": "markdown",
   "id": "0773c832",
   "metadata": {},
   "source": [
    "In this example, `func` is a callable that takes two integers (int, int) as input and returns an integer (int). And `apply_func` accepts func, an `a`, and `b`, and applies the callable to `a` and `b`.  \n",
    "\n",
    "By the way, Python is a dynamically typed language, meaning that types are not strictly enforced at runtime. The int and Callable in type annotations are simply type hints, used to indicate that the variables are expected to be of a certain type (e.g., int or a callable function). However, these type hints are not mandatory, and Python will not raise an error if variables of other types, such as float, are passed in. \n",
    "\n",
    "A `tuple` in Python is a collection of ordered, immutable elements. This means that once a tuple is created, its elements cannot be changed or updated. Unlike `list`, which is typically used for homogenous collections (elements of the same type), `tuple` can hold elements of different types, making it useful for grouping different kinds of data together.\n",
    "\n",
    "The `Union` is used to specify that a value can be one of multiple specific types at a given time. But it does not mean that the value can hold more than one type at the same time."
   ]
  },
  {
   "cell_type": "markdown",
   "id": "65e9a1e3",
   "metadata": {},
   "source": [
    "2. `chex`\n",
    "\n",
    "`Chex` is a library that provides a collection of utilities for JAX and NumPy. It is designed to assist in writing reliable and testable code when working with JAX transformations like `jit`, `grad`, and `vmap`.\n",
    "\n",
    "The imported `Array` is a type alias provided by Chex that represents a JAX array (`jnp.ndarray`), which is similar to a NumPy array but optimized for JAX's transformations and hardware acceleration.\n",
    "\n",
    "`PRNGKey` is a type alias for JAX's pseudo-random number generator key, represented as a JAX array with a specific shape (`jnp.ndarray` of `shape (2,)` and `dtype` `uint32`). It is used to manage random number generation in a reproducible way. The first step for using `PRNGKey` is creating a PRNG key using `jax.random.PRNGKey(seed)`, then the PRNG key can be passed into JAX random number functions like  `jax.random.uniform` and `jax.random.normal`. For example:"
   ]
  },
  {
   "cell_type": "code",
   "execution_count": 10,
   "id": "28757f85",
   "metadata": {},
   "outputs": [
    {
     "name": "stdout",
     "output_type": "stream",
     "text": [
      "key1 = [ 0 20]\n",
      "key2 = [ 0 60]\n",
      "random_number1 = 0.22824931\n",
      "random_number2 = 0.00786821\n"
     ]
    }
   ],
   "source": [
    "import jax.numpy as jnp\n",
    "import jax.random\n",
    "\n",
    "# Create two PRNG keys with different seeds\n",
    "key1 = jax.random.PRNGKey(20)\n",
    "key2 = jax.random.PRNGKey(60)\n",
    "\n",
    "# Generate a random numbers with key1 using `jax.random.uniform`\n",
    "random_number1 = jax.random.uniform(key1)\n",
    "\n",
    "# Generate a random number with key2 using `jax.random.normal`\n",
    "random_number2 = jax.random.normal(key2)\n",
    "\n",
    "print('key1 =', key1)\n",
    "print('key2 =', key2)\n",
    "print('random_number1 =', random_number1)\n",
    "print('random_number2 =', random_number2)"
   ]
  },
  {
   "cell_type": "markdown",
   "id": "997f045c",
   "metadata": {},
   "source": [
    "`jax.random.PRNGKey(seed)` generates a deterministic pseudo-random number generator (PRNG) key based on the given seed. The seed ensures that the random numbers generated with this key will be the same every time.\n",
    "\n",
    "`jax.random.uniform(key)` generates a random floating-point number uniformly distributed between 0 and 1 using the given PRNG key.`jax.random.normal(key)` generates a random floating-point number from a standard normal distribution (mean 0, standard deviation 1) using the given PRNG key.\n",
    "\n",
    "`chex.PRNGKey` is simply a type hint when defining functions that expect a PRNG key as input, instead of being used to generate a PRNG key. \n",
    "\n",
    "For example:"
   ]
  },
  {
   "cell_type": "code",
   "execution_count": 11,
   "id": "f5367052",
   "metadata": {},
   "outputs": [
    {
     "name": "stdout",
     "output_type": "stream",
     "text": [
      "random_number = 0.22824931\n"
     ]
    }
   ],
   "source": [
    "import chex\n",
    "\n",
    "# Define a function that returns a random number with a PRNG key.\n",
    "def random_func(key: chex.PRNGKey):\n",
    "    return jax.random.uniform(key)\n",
    "\n",
    "key = jax.random.PRNGKey(20)\n",
    "\n",
    "random_number = random_func(key)\n",
    "print('random_number =', random_number)"
   ]
  },
  {
   "cell_type": "markdown",
   "id": "b9db4191",
   "metadata": {},
   "source": [
    "As we can see, the code above use a slightly different way to generate a random number, but the PRNG key is the same, so the code outputs the same random number."
   ]
  },
  {
   "cell_type": "markdown",
   "id": "c17437e1",
   "metadata": {},
   "source": [
    "3. `flax`\n",
    "\n",
    "`flax` is a high-performance, JAX-based neural network library which provides a flexible interface to define and train neural networks using JAX’s underlying transformations, such as `jit`, `grad`, and `vmap`. `linen` is the core module of `flax`, providing utilities to define and compose neural network layers and models.\n",
    "\n",
    "4. Others\n",
    "\n",
    "The function `register` will be introduced in the module `utils` of the package `elements` under the project. It is responsible for the registration of attribute in a `Flax` module as either parametrs (trainable) or state variables (non-trainable). \n",
    "\n",
    "The class `Field` will be introduced in the module `field` directly under the project. \n",
    "\n",
    "The function `amplitude_change` will be introduces in the module `amplitude_masks` of the package `functional` under the project. \n",
    "\n",
    "The function `binarize` will be introduced in the module `quantization` of the package `ops` under the project."
   ]
  },
  {
   "cell_type": "markdown",
   "id": "d4f45e94",
   "metadata": {},
   "source": [
    "#### **Class 1: AmplitudeMask**"
   ]
  },
  {
   "cell_type": "markdown",
   "id": "dc126042",
   "metadata": {},
   "source": [
    "*Source Code*"
   ]
  },
  {
   "cell_type": "code",
   "execution_count": null,
   "id": "f3ec79a4",
   "metadata": {},
   "outputs": [],
   "source": [
    "class AmplitudeMask(nn.Module):\n",
    "    \"\"\"\n",
    "    Applies an ``amplitude`` mask to an incoming ``Field``.\n",
    "\n",
    "    This element can be placed after any element that returns a ``Field`` or\n",
    "    before any element that accepts a ``Field``.\n",
    "\n",
    "    The ``amplitude`` can be learned (pixel by pixel) by using\n",
    "    ``chromatix.utils.trainable``.\n",
    "\n",
    "    Attributes:\n",
    "        amplitude: The amplitude to be applied. Should have shape `(H W)`.\n",
    "        is_binary: binarize the amplitude mask if True.\n",
    "    \"\"\"\n",
    "\n",
    "    amplitude: Union[Array, Callable[[PRNGKey, Tuple[int, int]], Array]]\n",
    "    is_binary: bool\n",
    "\n",
    "    @nn.compact\n",
    "    def __call__(self, field: Field) -> Field:\n",
    "        \"\"\"Applies ``amplitude`` mask to incoming ``Field``.\"\"\"\n",
    "        amplitude = register(self, \"amplitude\", field.spatial_shape)\n",
    "        if self.is_binary:\n",
    "            amplitude = binarize(amplitude)\n",
    "        return amplitude_change(field, amplitude)"
   ]
  },
  {
   "cell_type": "markdown",
   "id": "655da230",
   "metadata": {},
   "source": [
    "*Explanation*"
   ]
  },
  {
   "cell_type": "markdown",
   "id": "afd7661a",
   "metadata": {},
   "source": [
    "1. class\n",
    "\n",
    "Unlike `def`, which is a function used to only encapsulate a block of code that performs a specific task, `class` is a blueprint for creating objects. It's used to define objects and model real-world entities, and it allows for grouping data (attributes) and behaviors (methods) together, enabling object-oriented programming. \n",
    "\n",
    "Besides, `class` supports inheritance, which functions don't. Inheritance is core feature of object-oriented programming. Developers can creat a new class that inherit properties and mothods from parent classes by putting the parent class in the parentheses after the class name.\n",
    "\n",
    "Calling a `class` will create an instance or object of that class. This is done by using the class name followed by parentheses, like calling a function. The parentheses can contain arguments if the class's `__init__` method requires them. \n",
    "\n",
    "For example:"
   ]
  },
  {
   "cell_type": "code",
   "execution_count": 9,
   "id": "bde91870",
   "metadata": {},
   "outputs": [
    {
     "name": "stdout",
     "output_type": "stream",
     "text": [
      "sum = 7\n"
     ]
    }
   ],
   "source": [
    "class add_two_numbers:\n",
    "    def __init__(self, number1, number2):\n",
    "        #Initialize the attributes\n",
    "        self.number1 = number1\n",
    "        self.number2 = number2\n",
    "    \n",
    "    #Define a method to add two numbers\n",
    "    def add(self):\n",
    "        return self.number1 + self.number2\n",
    "\n",
    "# Create an instance of the class    \n",
    "sum_instance = add_two_numbers(3, 4)\n",
    "print('sum =', sum_instance.add())"
   ]
  },
  {
   "cell_type": "markdown",
   "id": "e74468c4",
   "metadata": {},
   "source": [
    "2. initialization\n",
    "\n",
    "In this example, the code has no parentheses after the class name, since it's not a subclass of any parent class. And the code first defines a function named `__init__` which is called method here. The `__init__` method is commonly (but not necessary) used to accept and initialize attributes (number1, number2) of the class. It is a constructor that is used to set up the initial state of the object. But if no special initialization is needed, you can create classes without the `__init__` method. For example:"
   ]
  },
  {
   "cell_type": "code",
   "execution_count": 1,
   "id": "24a55e1f",
   "metadata": {},
   "outputs": [
    {
     "name": "stdout",
     "output_type": "stream",
     "text": [
      "sum = 11\n"
     ]
    }
   ],
   "source": [
    "class add_two_numbers:\n",
    "    def add(self, number1, number2):\n",
    "        return number1 + number2\n",
    "    \n",
    "sum_instance = add_two_numbers()\n",
    "print('sum =', sum_instance.add(5, 6))"
   ]
  },
  {
   "cell_type": "markdown",
   "id": "1d487343",
   "metadata": {},
   "source": [
    "Beside the `__init__` method, another difference is that the arguments can't be paased into `sum_instance = add_two_numbers()`. This is because the second `add_two_numbers` class has no `__init__` method, which is responsible for accepting and initializing arguments. And the attributes `number1` and `number2` are not part of the class's state until they are explicitly used in the `add` method. However, when using a class with the `__init__` method to create an instance (`sum_instance = add_two_numbers(3, 4)`), the arguments must be passed to match the `__init__` method's signature.\n",
    "\n",
    "3. self\n",
    "\n",
    "Another interesting point is that there is still a keyword `self` in the second `add_two_numbers` class even though it doesn't appear in the rest of the code. This is because that the keyword `self` is used to refer to the instance of the class that is being created or manipulated. And it allows you to access and modify the object's and attributes and methods like `self.number1` and `sum_instance.add()` in the previous example. Without `self`, it's not possible to store values in the attributes of the class and make the attrbutes available to the methods in the class."
   ]
  },
  {
   "cell_type": "markdown",
   "id": "f75b6b69",
   "metadata": {},
   "source": [
    "4. nn.Module\n",
    "\n",
    "Now, let's look at the source code. It creates a class `AmplitudeMask` as a subclass of `nn.Module`, meaning it inherits from `nn.Module`.\n",
    "\n",
    "The `nn.Module` is a base class in the Flax library and a core building block for defining custom neural network components such as layer or entire models. Every time you create a new layer or model (subclasses) in Flax, you create a new `nn.Module`.\n",
    "\n",
    "5. attributes\n",
    "\n",
    "The source code then annotates the types of the attributes `amplitude` and `is_binary` as `Union[Array, Callable[[PRNGKey, Tuple[int, int]], Array]]` and `bool`. This means that the `amplitude` can be either an array or a callable that takes a PRNG key and a tuple of two integers as input and returns an array, and the `is_binary` is boolean indicating whether the amplitude should be binarized or not. \n",
    "\n",
    "6. @nn.compact\n",
    "\n",
    "Next, the developer uses a keyword `@nn.compact`. It is the most commomly used *decorator* in Flax used to define layers and opertions directly within the *forward pass* method `__call__` of a Flax module.\n",
    "\n",
    "The forward pass means the process of passing input data through the layers of the neural network to compute an output. This is the key operation in neural networks used in training.\n",
    "\n",
    "A decorator in Python is a function that wraps around another function or method, adding extra behavior to it without modifying its structure. Decorators are used by prefixing a function or method definition with an `@` symbol followed by the name of the decorator like the source code shows.\n",
    "\n",
    "With `@nn.compact`, developers are allowed to create instances of layers directly in the forward pass (`__call__` method), and Flax will automatically handle initialization and caching. Without `@nn.compact`, developers need to used a `setup` method to define the layers as attributes and then use those attributes in the `__call__` method.\n",
    "\n",
    "For example："
   ]
  },
  {
   "cell_type": "code",
   "execution_count": 2,
   "id": "be0404b0",
   "metadata": {},
   "outputs": [],
   "source": [
    "from flax import linen as nn\n",
    "# Without `@nn.compact`\n",
    "class Net(nn.Module):\n",
    "    def setup(self):\n",
    "        self.dense = nn.dense(feature=10)\n",
    "\n",
    "    def __call__(self, x):\n",
    "        x = self.dense(x)\n",
    "        return x"
   ]
  },
  {
   "cell_type": "code",
   "execution_count": 5,
   "id": "bbe546b9",
   "metadata": {},
   "outputs": [],
   "source": [
    "# With `@nn.compact`\n",
    "class Net(nn.Module):\n",
    "    @nn.compact\n",
    "    def __call__(self, x):\n",
    "        x = nn.dense(feature=10)(x)\n",
    "        return x"
   ]
  },
  {
   "cell_type": "markdown",
   "id": "a980330f",
   "metadata": {},
   "source": [
    "The code above defines a forward pass which takes `x` as the input passed to the model. `x = nn.dense(feature=10)(x)` defines a fully connected (dense) layer in the neural network with 10 output units. It applies a linear transformation to the input: $y = wx + b$, where $w$ is the weight matrix and $b$ is the bias.\n",
    "\n",
    "7. call method\n",
    "\n",
    "The `__call__` method is written with the decorator `@nn.compact` meaning that the method is the core functionality of the module. It accepts a `Field` as input and is responsible for applying the amplitude mask to the `Field` to modify the amplitude of the `Field`. In Chromatix, the `Field` is defined in a module as a container that describes the chromatic light field with complex values at a 2D plane. \n",
    "\n",
    "The line `amplitude = register(self, \"amplitude\", field.spatial_shape)` calls the `register` function built in Chromatix, passing three arguments: `self`, `\"amplitude\"`, and `field.spatial_shape`. `self` refers to the current instance of the` AmplitudeMask` class, which is a subclass of `nn.Module`. `\"amplitude\"` is the name of the parameter that we want to register, namely amplitude mask. `field.spatial_shape` extracts the spatial shape the `Field` as the shape of the amplitude mask.\n",
    "\n",
    "In short words, the `register` function registers the `\"amplitude\"` attributes as a Flax parameter, which is trainable and will be optimized during training or a Flax variable, which is not trainable and will be treated as a fixed state variable.\n",
    "\n",
    "Then, the `if` sentence will judge whether the `is_binary` attrubute of the instance is `True`. If it is, the `amplitude` will be binarized by the function `binarize` meaning that the values are converted into values of 0 or 1.\n",
    "\n",
    "Finally, the `amplitude_change` funtion, which is also defined in Chromatix, modifies the incoming `Field` based on the `amplitude` mask. This operation results in a new field with a modified amplitude, which can be then passed ti possible subsequent elements."
   ]
  },
  {
   "cell_type": "markdown",
   "id": "6346936b",
   "metadata": {},
   "source": [
    "### **Module 3：convenience**"
   ]
  },
  {
   "cell_type": "markdown",
   "id": "4901a622",
   "metadata": {},
   "source": [
    "#### **Imports**"
   ]
  },
  {
   "cell_type": "markdown",
   "id": "f900082d",
   "metadata": {},
   "source": [
    "*Source Code*"
   ]
  },
  {
   "cell_type": "code",
   "execution_count": null,
   "id": "7316c1ab",
   "metadata": {},
   "outputs": [],
   "source": [
    "from typing import Optional, Tuple, Union\n",
    "\n",
    "import flax.linen as nn\n",
    "import jax.numpy as jnp\n",
    "from chex import Array\n",
    "\n",
    "from ..field import Field\n",
    "from ..ops import binarize, quantize\n",
    "\n",
    "__all__ = [\"Flip\", \"ScaleAndBias\", \"Binarize\", \"Quantize\"]"
   ]
  },
  {
   "cell_type": "markdown",
   "id": "8f706293",
   "metadata": {},
   "source": [
    "*Explanation*"
   ]
  },
  {
   "cell_type": "markdown",
   "id": "6ba5470f",
   "metadata": {},
   "source": [
    "The first line imports `Optional`, `Tuple`, and `Union` from the `typing`. Since `Tuple` and `Union` have been introduced before, let's look at the other one `Optional`. `Optional` is similar to `Union`, it is used when a value can either be of a certain type or `None`. Therefore, `Optional[X]` is shorthand for `Union[X, None]`, in which, `X` could be types such as `int`, `float`, etc.\n",
    "\n",
    "The function `quantize` is defined in the module `quantization` under the package `ops` of Chromatix. It adjusts the input `x` to a specific `bit_depth`, using a surrogate gradient approach.\n",
    "\n",
    "The last line indicates that the classes `Flip`, `ScaleAndBias`, and `Binarize` can be exported and made available for use."
   ]
  },
  {
   "cell_type": "markdown",
   "id": "c23cbd3d",
   "metadata": {},
   "source": [
    "#### **Class 1: Flip**"
   ]
  },
  {
   "cell_type": "markdown",
   "id": "4ac7ddd6",
   "metadata": {},
   "source": [
    "*Source Code*"
   ]
  },
  {
   "cell_type": "code",
   "execution_count": null,
   "id": "2fc0970d",
   "metadata": {},
   "outputs": [],
   "source": [
    "class Flip(nn.Module):\n",
    "    \"\"\"\n",
    "    This element flips the incoming ``Field`` upside down.\n",
    "\n",
    "    This is useful for situations where an upside down image is formed.\n",
    "    \"\"\"\n",
    "\n",
    "    @nn.compact\n",
    "    def __call__(self, field: Field) -> Field:\n",
    "        # TODO: Add in support for both axes?\n",
    "        return field.replace(u=jnp.flip(field.u, axis=field.spatial_dims[0]))"
   ]
  },
  {
   "cell_type": "markdown",
   "id": "cb99873d",
   "metadata": {},
   "source": [
    "*Explanation*"
   ]
  },
  {
   "cell_type": "markdown",
   "id": "6b771a11",
   "metadata": {},
   "source": [
    "As the source code writes, the `Flip` class defines a module that flips an incoming `Field` object upside down along one spatial axis. This class also inherites from `nn.Module` and uses the `@nn.compact` decorator to define the forward pass.\n",
    "\n",
    "The `__call__` method takes a `Field` object as input and returns the flipped `Field`，by using the following functions:\n",
    "1. `jnp.flip(array, axis)`: In this function, the first variable is the array which needs to be flipped, and the second variable is the axis along which the array needs to be flipped. For example:"
   ]
  },
  {
   "cell_type": "code",
   "execution_count": null,
   "id": "1e343b2d",
   "metadata": {},
   "outputs": [
    {
     "name": "stdout",
     "output_type": "stream",
     "text": [
      "upside down flipped array =\n",
      " [[7 8 9]\n",
      " [4 5 6]\n",
      " [1 2 3]]\n",
      "left to right flipped array =\n",
      " [[3 2 1]\n",
      " [6 5 4]\n",
      " [9 8 7]]\n"
     ]
    }
   ],
   "source": [
    "import jax.numpy as jnp\n",
    "\n",
    "# Create a 3x3 array\n",
    "array = jnp.array([[1, 2, 3],\n",
    "                  [4, 5, 6],\n",
    "                  [7, 8, 9]])\n",
    "\n",
    "# Flip the array upside down along axis 0 (vertical axis)\n",
    "flipped_array0 = jnp.flip(array, axis=0)\n",
    "\n",
    "# Flip the array left to right along axis 1 (horizontal axis)\n",
    "flipped_array1 = jnp.flip(array, axis=1)\n",
    "\n",
    "print('upside down flipped array =\\n', flipped_array0)\n",
    "print('left to right flipped array =\\n', flipped_array1)"
   ]
  },
  {
   "cell_type": "markdown",
   "id": "384bc1c2",
   "metadata": {},
   "source": [
    "The source code of `field.spatial.dim` returns the height and width of the field:"
   ]
  },
  {
   "cell_type": "code",
   "execution_count": 3,
   "id": "56051894",
   "metadata": {},
   "outputs": [],
   "source": [
    "def spatial_dims(self) -> Tuple[int, int]:\n",
    "    \"\"\"Dimensions representing the height and width of the complex field.\"\"\"\n",
    "    return (-4, -3)"
   ]
  },
  {
   "cell_type": "markdown",
   "id": "c1df6335",
   "metadata": {},
   "source": [
    "Because the shape of the field is `(B... H W C [1 | 3])`, and when Python denotes sequence numbers from right end to left end, it starts from `-1`, the `-4` refers to the dimension of height (`H`) and `-3` refers to the dimension of width (`W`).\n",
    "\n",
    "Therefore, `field.spatial_dims` refers to a tuple that represents the indices of the spatial dimensions within the shape of the `Field` object. And `field.spatial.dim[0]` refers to the index of the first spatial dimension, which also meas the vertical axis along which the data in `field.u` is flipped.\n",
    "\n",
    "4. `field.replace()`: The method `replace()` is not actually defined in the class `Field`, but in its parent class `struct.PyTreeeNode`. Since the class `Field` inherits from its parent class `struct.PyTreeNode`, `Field` also get this method and doesn't need to create a new one. The `replace` method is avaliable to create a new instance of the class with updated attributes and leave all other attributes unchanged, preserving the immutability of the object."
   ]
  },
  {
   "cell_type": "markdown",
   "id": "00b4eb6d",
   "metadata": {},
   "source": [
    "#### **Class 2: ScaleAndBias**"
   ]
  },
  {
   "cell_type": "markdown",
   "id": "f5775d3b",
   "metadata": {},
   "source": [
    "*Source Code*"
   ]
  },
  {
   "cell_type": "code",
   "execution_count": null,
   "id": "da9ee084",
   "metadata": {},
   "outputs": [],
   "source": [
    "class ScaleAndBias(nn.Module):\n",
    "    \"\"\"\n",
    "    This element applies a ``scale`` and ``bias`` to the incoming ``Field``.\n",
    "\n",
    "    The ``scale`` and ``bias`` can either be scalars or ``Array``s\n",
    "    broadcastable to the shape of the incoming ``Field``.\n",
    "    \"\"\"\n",
    "\n",
    "    bias: Union[float, Array]\n",
    "    scale: Union[float, Array]\n",
    "\n",
    "    @nn.compact\n",
    "    def __call__(self, field: Field) -> Field:\n",
    "        return (field + self.bias) * self.scale"
   ]
  },
  {
   "cell_type": "markdown",
   "id": "39b9b6bb",
   "metadata": {},
   "source": [
    "*Explanation*"
   ]
  },
  {
   "cell_type": "markdown",
   "id": "c70de1f1",
   "metadata": {},
   "source": [
    "This class simply adds a`bias` to the incoming `field` and multiplies the sum by a `scale`. `bias` and `scale` could be either `float` or `Array`.\n",
    "\n",
    "Suppose we have a `field` object:"
   ]
  },
  {
   "cell_type": "code",
   "execution_count": null,
   "id": "aeaa3fe8",
   "metadata": {},
   "outputs": [],
   "source": [
    "from chromatix import Field\n",
    "import jax\n",
    "\n",
    "# Create an instance of the Field class\n",
    "field = Field(u=jnp.array([[1, 2 ,3], [4, 5, 6], [7, 8, 9]]), # Field data\n",
    "              _dx=jnp.array([1.0, 1.0]), # Spacing of the samples\n",
    "              _spectrum=jnp.array([550]), # Wavelengths\n",
    "              _spectral_density=jnp.array([1.0]) # Spectral density of the field\n",
    "              )"
   ]
  },
  {
   "cell_type": "markdown",
   "id": "40888dce",
   "metadata": {},
   "source": [
    "Then, let's create an instance of the `ScaleAndbias` class and apply it to get an output:"
   ]
  },
  {
   "cell_type": "code",
   "execution_count": null,
   "id": "a5f5b9cc",
   "metadata": {},
   "outputs": [
    {
     "name": "stdout",
     "output_type": "stream",
     "text": [
      "Old field = [[1 2 3]\n",
      " [4 5 6]\n",
      " [7 8 9]]\n",
      "New field = [[ 3.  5.  7.]\n",
      " [ 9. 11. 13.]\n",
      " [15. 17. 19.]]\n"
     ]
    }
   ],
   "source": [
    "# Create an instance of the class ScaleAndBias\n",
    "scale_and_bias = ScaleAndBias(bias=0.5, scale=2.0)\n",
    "key = jax.random.PRNGKey(0)\n",
    "variables = scale_and_bias.init(key, field)\n",
    "\n",
    "new_field = scale_and_bias.apply(variables, field)\n",
    "\n",
    "print('Old field =', field.u)\n",
    "print('New field =', new_field.u)"
   ]
  },
  {
   "cell_type": "markdown",
   "id": "9fc4f938",
   "metadata": {},
   "source": [
    "#### **Class 3: Binarize**"
   ]
  },
  {
   "cell_type": "markdown",
   "id": "4abaf457",
   "metadata": {},
   "source": [
    "*Source Code*"
   ]
  },
  {
   "cell_type": "code",
   "execution_count": null,
   "id": "6138c027",
   "metadata": {},
   "outputs": [],
   "source": [
    "class Binarize(nn.Module):\n",
    "    \"\"\"\n",
    "    This element binarizes the incoming ``Field``.\n",
    "\n",
    "    See ``chromatix.ops.quantization.binarize`` for more details.\n",
    "    \"\"\"\n",
    "\n",
    "    threshold: float = 0.5\n",
    "\n",
    "    @nn.compact\n",
    "    def __call__(self, field: Field) -> Field:\n",
    "        return field.replace(u=binarize(field.u, self.threshold))"
   ]
  },
  {
   "cell_type": "markdown",
   "id": "311c675b",
   "metadata": {},
   "source": [
    "*Explanation*"
   ]
  },
  {
   "cell_type": "markdown",
   "id": "5cd10a63",
   "metadata": {},
   "source": [
    "This class aims to binarize the incoming `Field` by calling the function `binarize` from `chromatix.ops.quantization`. This function simply converts the input `Field` to a binary format based on a specified threshold. The threshold is set to 0.5 by default, any value bigger than the threshold will be set to 1, and any value smaller than the threshold will be set to 0."
   ]
  },
  {
   "cell_type": "markdown",
   "id": "c8c640c7",
   "metadata": {},
   "source": [
    "#### **Class 4: Quantize**"
   ]
  },
  {
   "cell_type": "markdown",
   "id": "25a3a4f2",
   "metadata": {},
   "source": [
    "*Source Code*"
   ]
  },
  {
   "cell_type": "code",
   "execution_count": null,
   "id": "0a2fe6bd",
   "metadata": {},
   "outputs": [],
   "source": [
    "class Quantize(nn.Module):\n",
    "    \"\"\"\n",
    "    This element quantizes the incoming ``Field`` to the given ``bit_depth``.\n",
    "\n",
    "    See ``chromatix.ops.quantization.quantize`` for more details.\n",
    "    \"\"\"\n",
    "\n",
    "    bit_depth: int\n",
    "    range: Optional[Tuple[int, int]] = None\n",
    "\n",
    "    @nn.compact\n",
    "    def __call__(self, field: Field) -> Field:\n",
    "        return field.replace(u=quantize(field.u, self.bit_depth, self.range))"
   ]
  },
  {
   "cell_type": "markdown",
   "id": "c7163774",
   "metadata": {},
   "source": [
    "*Explanation*"
   ]
  },
  {
   "cell_type": "markdown",
   "id": "9dae0010",
   "metadata": {},
   "source": [
    "This class applies the `quantize` function from `chromatix.ops.quantization` to the incoming `Field` to quantize the data to a specific bit depth. \n",
    "\n",
    "The class takes two attributes. The `bit_depth` attribute determines the number of bits used to represent the values in the `Field`. This controls how many levels the data is quantized into. For example, if `bit_depth` is 8, the values in the `Field` will be quantized to 8-bit, 256 levels as $2^8 = 256$\n",
    "\n",
    "The `range` attribute is optional meaning that it could be a `Tuple` or `None`. If a `range` is provided (`Tuple`), the function uses the provided minimum and maximum values. If a `range` is not provided (`None`), the minimum value of the range will be set to the minimum value of the input `Field`, and the maximum value will be set to $x_{max} = max(x - x_{min})$"
   ]
  },
  {
   "cell_type": "markdown",
   "id": "5c5abd7a",
   "metadata": {},
   "source": [
    "### **Module 4：lenses**"
   ]
  },
  {
   "attachments": {
    "Focal Length.png": {
     "image/png": "[encoded data removed]"
    }
   },
   "cell_type": "markdown",
   "id": "52a671f5",
   "metadata": {},
   "source": [
    "As the name of this module suggests, this module defines three different types of lenses: thin lens, FFlens, and DFlens by focal length, refractive index, and numerical aperture (NA) of the lens.\n",
    "\n",
    "In optics, a thin lens is a lens with a thickness (distance along the optical axis between the two surfaces of the lens) that is negligible compared to the radii of curvature of the lens surfaces. Lenses whose thickness is not negligible are sometimes called thick lenses.[@Thin_Lens]\n",
    "\n",
    "The thin lens approximation ignores optical effects due to the thickness of lenses and simplifies ray tracing calculations. It is often combined with the paraxial approximation in techniques such as ray transfer matrix analysis.[@Thin_Lens]\n",
    "\n",
    "The focal length of an optical system is a measure of how strongly the system converges or diverges light; it is the inverse of the system's optical power. A positive focal length indicates that a system converges light, while a negative focal length indicates that the system diverges light. A system with a shorter focal length bends the rays more sharply, bringing them to a focus in a shorter distance or diverging them more quickly as shown in the figure below. [@Focal_Length]\n",
    "\n",
    "![Focal Length.png](<attachment:Focal Length.png>)\n",
    "\n",
    "For the special case of a thin lens in air, a positive focal length is the distance over which initially collimated (parallel) rays are brought to a focus, or alternatively a negative focal length indicates how far in front of the lens a point source must be located to form a collimated beam. For more general optical systems, the focal length has no intuitive meaning; it is simply the inverse of the system's optical power.[@Focal_Length]\n",
    "\n",
    "\n",
    "\n",
    "In optics, the refractive index (or refraction index) of an optical medium is a dimensionless number that gives the indication of the light bending ability of that medium.[@Refractive_Index] The refractive index, n, of a material is defined as $n=c/v$ where c is the speed of light in a vacuum and v is the speed of light in the medium.\n",
    "\n",
    "In optics, the numerical aperture (NA) of an optical system is a dimensionless number that characterizes the range of angles over which the system can accept or emit light. By incorporating index of refraction in its definition, NA has the property that it is constant for a beam as it goes from one material to another. In most areas of optics, and especially in microscopy, the numerical aperture of an optical system such as an objective lens is defined by:[@Numerical_Aperture]\n",
    "\n",
    "$$NA = n \\cdot \\sin\\theta \\tag{2.2.5}$$"
   ]
  },
  {
   "cell_type": "markdown",
   "id": "9c3db6e9",
   "metadata": {},
   "source": [
    "#### **Imports**"
   ]
  },
  {
   "cell_type": "markdown",
   "id": "4305a937",
   "metadata": {},
   "source": [
    "*Source Code*"
   ]
  },
  {
   "cell_type": "code",
   "execution_count": null,
   "id": "0145b8ba",
   "metadata": {},
   "outputs": [],
   "source": [
    "from typing import Callable, Optional, Union\n",
    "\n",
    "import flax.linen as nn\n",
    "from chex import PRNGKey\n",
    "\n",
    "from chromatix.elements.utils import register\n",
    "\n",
    "from .. import functional as cf\n",
    "from ..field import Field\n",
    "\n",
    "__all__ = [\"ThinLens\", \"FFLens\", \"DFLens\"]"
   ]
  },
  {
   "cell_type": "markdown",
   "id": "d99d893e",
   "metadata": {},
   "source": [
    "*Explanation*"
   ]
  },
  {
   "cell_type": "markdown",
   "id": "24e6730f",
   "metadata": {},
   "source": [
    "Here imports a new package `functional` from `chromatix`. Inside this package is a collection of functions that are designed to help build classes in the modules of the package `elements`."
   ]
  },
  {
   "cell_type": "markdown",
   "id": "761fada7",
   "metadata": {},
   "source": [
    "#### **Class 1: Thinlens**"
   ]
  },
  {
   "cell_type": "markdown",
   "id": "3a1a7ebb",
   "metadata": {},
   "source": [
    "*Source Code*"
   ]
  },
  {
   "cell_type": "code",
   "execution_count": null,
   "id": "667eaa77",
   "metadata": {},
   "outputs": [],
   "source": [
    "class ThinLens(nn.Module):\n",
    "    \"\"\"\n",
    "    Applies a thin lens placed directly after the incoming ``Field``.\n",
    "    This element returns the ``Field`` directly after the lens.\n",
    "\n",
    "    This element can be placed after any element that returns a ``Field`` or\n",
    "    before any element that accepts a ``Field``.\n",
    "\n",
    "    The attributes ``f``, ``n``, and ``NA`` can be learned by using\n",
    "    ``chromatix.utils.trainable``.\n",
    "\n",
    "    Attributes:\n",
    "        f: Focal length of the lens.\n",
    "        n: Refractive index of the lens.\n",
    "        NA: If provided, the NA of the lens. By default, no pupil is applied\n",
    "            to the incoming ``Field``.\n",
    "    \"\"\"\n",
    "\n",
    "    f: Union[float, Callable[[PRNGKey], float]]\n",
    "    n: Union[float, Callable[[PRNGKey], float]]\n",
    "    NA: Optional[Union[float, Callable[[PRNGKey], float]]] = None\n",
    "\n",
    "    @nn.compact\n",
    "    def __call__(self, field: Field) -> Field:\n",
    "        f = register(self, \"f\")\n",
    "        n = register(self, \"n\")\n",
    "        NA = register(self, \"NA\")\n",
    "        return cf.thin_lens(field, f, n, NA)"
   ]
  },
  {
   "cell_type": "markdown",
   "id": "c81c5cde",
   "metadata": {},
   "source": [
    "*Explanation*"
   ]
  },
  {
   "cell_type": "markdown",
   "id": "50057200",
   "metadata": {},
   "source": [
    "This code defines a `THinlens` class, which is also a neural network class like the classes in the previous modules. It models the behavior of a thin lens in an optical system by taking the three attributes: `f` for focal length, `n` for refractive index, and `NA` for numerical aperture (optionally) to apply the effect of a thin lens to an incoming `Field` and returns the modified `Field`.\n",
    "\n",
    "The attributes `f` and `n` can either be a fixed value (`float`) or a callable that generates a value for dynamic training scenarios. For `NA`, if it's not provided, no pupil is applied to the incoming `Field` and `NA` is `None`, if it is provided, it can also be a fixed value (`float`) or a callable that generates a value for dynamic training scenarios.\n",
    "\n",
    "The thin lens effect is applied to the input `Field` by the `__call__` method. The `register` function is responsible for the registration of attribute in a `Flax` module as either parameters (trainable) or state variables (non-trainable). \n",
    "\n",
    "Trainable refers to attributes of the module that can be updated or learned during training. Parameters are the values that the model learns during training, like weights or biases in neural networks. And state variables are non-trainable values that can change during inference but aren't updated by the optimizer.\n",
    "\n",
    "Finally, the `cf.thin_lens` function applies the thin lens effect to the input `Field` and outputs the modified field."
   ]
  },
  {
   "cell_type": "markdown",
   "id": "293d4d30",
   "metadata": {},
   "source": [
    "#### **Class 2: FFlens**"
   ]
  },
  {
   "cell_type": "markdown",
   "id": "e76f5c06",
   "metadata": {},
   "source": [
    "*Source Code*"
   ]
  },
  {
   "cell_type": "code",
   "execution_count": null,
   "id": "321c182d",
   "metadata": {},
   "outputs": [],
   "source": [
    "class FFLens(nn.Module):\n",
    "    \"\"\"\n",
    "    Applies a thin lens placed a distance ``f`` after the incoming ``Field``.\n",
    "    This element returns the ``Field`` a distance ``f`` after the lens.\n",
    "\n",
    "    This element can be placed after any element that returns a ``Field`` or\n",
    "    before any element that accepts a ``Field``.\n",
    "\n",
    "    The attributes ``f``, ``n``, and ``NA`` can be learned by using\n",
    "    ``chromatix.utils.trainable``.\n",
    "\n",
    "    Attributes:\n",
    "        f: Focal length of the lens.\n",
    "        n: Refractive index of the lens.\n",
    "        NA: If provided, the NA of the lens. By default, no pupil is applied\n",
    "            to the incoming ``Field``.\n",
    "        inverse: Whether to use IFFT (default is False, which uses FFT).\n",
    "    \"\"\"\n",
    "\n",
    "    f: Union[float, Callable[[PRNGKey], float]]\n",
    "    n: Union[float, Callable[[PRNGKey], float]]\n",
    "    NA: Optional[Union[float, Callable[[PRNGKey], float]]] = None\n",
    "    inverse: bool = False\n",
    "\n",
    "    @nn.compact\n",
    "    def __call__(self, field: Field) -> Field:\n",
    "        f = register(self, \"f\")\n",
    "        n = register(self, \"n\")\n",
    "        NA = register(self, \"NA\")\n",
    "        return cf.ff_lens(field, f, n, NA, inverse=self.inverse)"
   ]
  },
  {
   "cell_type": "markdown",
   "id": "6420b50d",
   "metadata": {},
   "source": [
    "*Explanation*"
   ]
  },
  {
   "cell_type": "markdown",
   "id": "aee2c464",
   "metadata": {},
   "source": [
    "This class is used to simulate the case that a field propagates through a thin lens and then a distance `f` after the lens. This means that if the incoming field is a plane wave, the field will converge to a point at the distance `f` from the thin lens.\n",
    "\n",
    "Besides the attribute `f`, `n`, and `NA`, this class also includes the attribute `inverse` to determine whether to use the Inverse Fast Fourier Transform (IFFT) or the Fast Fourier Transform (FFT). If `inverse = False`, FFT will be applied, which means the field propagates normally. If `inverse = True`, IFFT will be applied, which means the field propagates backwards (`f` is negative).\n",
    "\n",
    "Finally, in the `__call__` method, the code call the function `cf.ff_lens`. First the function applies a numerical aperture to the field if provided, and then it propagates the field over a distance `f` of `-f` (if inverse) using FFT or IFFT and outputs the modified field."
   ]
  },
  {
   "cell_type": "markdown",
   "id": "158c8dd4",
   "metadata": {},
   "source": [
    "#### **Class 3: DFlens**"
   ]
  },
  {
   "cell_type": "markdown",
   "id": "23b10287",
   "metadata": {},
   "source": [
    "*Source Code*"
   ]
  },
  {
   "cell_type": "code",
   "execution_count": null,
   "id": "5e60e549",
   "metadata": {},
   "outputs": [],
   "source": [
    "class DFLens(nn.Module):\n",
    "    \"\"\"\n",
    "    Applies a thin lens placed a distance ``d`` after the incoming ``Field``.\n",
    "    This element returns the ``Field`` a distance ``f`` after the lens.\n",
    "\n",
    "    This element can be placed after any element that returns a ``Field`` or\n",
    "    before any element that accepts a ``Field``.\n",
    "\n",
    "    The attributes ``d``, ``f``, ``n``, and ``NA`` can be learned by using\n",
    "    ``chromatix.utils.trainable``.\n",
    "\n",
    "    Attributes:\n",
    "        d: Distance from the incoming ``Field`` to the lens.\n",
    "        f: Focal length of the lens.\n",
    "        n: Refractive index of the lens.\n",
    "        NA: If provided, the NA of the lens. By default, no pupil is applied\n",
    "            to the incoming ``Field``.\n",
    "        inverse: Whether to use IFFT (default is False, which uses FFT).\n",
    "    \"\"\"\n",
    "\n",
    "    d: Union[float, Callable[[PRNGKey], float]]\n",
    "    f: Union[float, Callable[[PRNGKey], float]]\n",
    "    n: Union[float, Callable[[PRNGKey], float]]\n",
    "    NA: Optional[Union[float, Callable[[PRNGKey], float]]] = None\n",
    "    inverse: bool = False\n",
    "\n",
    "    @nn.compact\n",
    "    def __call__(self, field: Field) -> Field:\n",
    "        d = register(self, \"d\")\n",
    "        f = register(self, \"f\")\n",
    "        n = register(self, \"n\")\n",
    "        NA = register(self, \"NA\")\n",
    "        return cf.df_lens(field, d, f, n, NA, inverse=self.inverse)"
   ]
  },
  {
   "cell_type": "markdown",
   "id": "f6d15866",
   "metadata": {},
   "source": [
    "*Explanation*"
   ]
  },
  {
   "cell_type": "markdown",
   "id": "81f2c1c9",
   "metadata": {},
   "source": [
    "This class is totally the same with the `FFlens` class, but it models the case that a field propagates through a thin lens and then a distance `d` after the lens."
   ]
  },
  {
   "cell_type": "markdown",
   "id": "b70b7ccf",
   "metadata": {},
   "source": [
    "### **Module 5: phase_masks**"
   ]
  },
  {
   "cell_type": "markdown",
   "id": "86cac296",
   "metadata": {},
   "source": [
    "#### **Imports**"
   ]
  },
  {
   "cell_type": "markdown",
   "id": "d538ef7a",
   "metadata": {},
   "source": [
    "*Source Code*"
   ]
  },
  {
   "cell_type": "code",
   "execution_count": null,
   "id": "a21c9638",
   "metadata": {},
   "outputs": [],
   "source": [
    "from typing import Callable, Optional, Tuple, Union\n",
    "import jax.numpy as jnp\n",
    "from chex import Array, PRNGKey\n",
    "from flax import linen as nn\n",
    "from jax.scipy.ndimage import map_coordinates\n",
    "from chromatix.field import Field\n",
    "from chromatix.functional import wrap_phase, phase_change\n",
    "from chromatix.utils import seidel_aberrations, zernike_aberrations\n",
    "from chromatix.ops import quantize\n",
    "from chromatix.elements.utils import register\n",
    "\n",
    "__all__ = [\n",
    "    \"PhaseMask\",\n",
    "    \"SpatialLightModulator\",\n",
    "    \"SeidelAberrations\",\n",
    "    \"ZernikeAberrations\",\n",
    "]"
   ]
  },
  {
   "cell_type": "markdown",
   "id": "67b542de",
   "metadata": {},
   "source": [
    "*Explanation*"
   ]
  },
  {
   "cell_type": "markdown",
   "id": "3b4aa165",
   "metadata": {},
   "source": [
    "1. `from jax.scipy.ndimage import map_coordinates`: \n",
    "    \n",
    "This line imports a JAX-compatible `map_coordinates` function of the module `ndimage` from `jax.scipy`. It takes an `input` array and a set of `coordinates` (floating point indices indicating locations) and interpolates the values at those coordinates using a given interpolation `order`. For example:"
   ]
  },
  {
   "cell_type": "code",
   "execution_count": 12,
   "id": "7cd53189",
   "metadata": {},
   "outputs": [
    {
     "name": "stdout",
     "output_type": "stream",
     "text": [
      "interpolate_values = [4.   3.75]\n"
     ]
    }
   ],
   "source": [
    "import jax.numpy as jnp\n",
    "from jax.scipy.ndimage import map_coordinates\n",
    "\n",
    "data = jnp.array([[1.0, 2.0, 3.0], \n",
    "                   [4.0, 5.0, 6.0], \n",
    "                   [7.0, 8.0, 9.0]])\n",
    "\n",
    "coordinates = jnp.array([[0.5, 1.5],\n",
    "                         [1.5, 2.5]])\n",
    "\n",
    "interpolate_values = map_coordinates(data, coordinates, order=1)\n",
    "\n",
    "print('interpolate_values =', interpolate_values)"
   ]
  },
  {
   "attachments": {
    "zernike_aberrations_table.jpg": {
     "image/jpeg": "[encoded data removed]"
    }
   },
   "cell_type": "markdown",
   "id": "753ebb9c",
   "metadata": {},
   "source": [
    "Here is how the interpolation works: Each pair of values in the `coordinates` array corresponds to a point in the `data` array at which `map_coordinates` will interpolate. The shape of `coordinates` is `(2, 2)` which means that there are two points needing interpolation, the first point corresponds to the value at `(0.5, 1.5)` in the `data` array, and the second point corresponds to the value at `(1.5, 2.5)` in the `data` array. \n",
    "\n",
    "For the first coordinate `(0.5, 1.5)`, it means that the point in the `data` array is between the first and second rows, the second and third columns. It's thus surrounded by `data[0, 1] = 2`, `data[0, 2] = 3`, `data[1, 1] = 5`, and `data[1, 2] = 6`. \n",
    "\n",
    "As for interpolation, `map_coordinates` first does row interpolation. For row 0.5, the interpolation is done between row 0 and row 1 for both columns 1 and 2. For column 1, the interpolation happens between `data[0, 1] = 2` and `data[1, 1] = 5` with weights 0.5, since the points are at the middle of the rows and columns:\n",
    "\n",
    "$$ interpolatedcol1 = 2 \\times 0.5 + 5 \\times 0.5 = 3.5 \\tag{2.2.6}$$\n",
    "\n",
    "For column 2, the interpolation happens between `data[0, 2] = 3` and `data[1, 2] = 6` with weights 0.5 and 0.5:\n",
    "\n",
    "$$ interpolatedcol1 = 3 \\times 0.5 + 6 \\times 0.5 = 4.5 \\tag{2.2.7}$$\n",
    "\n",
    "Then, the function does column interpolation between the row-interpolated values along the column axis:\n",
    "\n",
    "$$ finalvalue = 3.5 \\times 0.5 + 4.5 \\times 0.5 = 4 \\tag{2.2.8}$$\n",
    "\n",
    "The second point is at `(1.5, 2.5)`, which means it's surrounded by `data[1, 2]`, `data[1, 3]`, `data[2, 2]`. However, `data[2, 3]` and `data[1, 3]` are out of the `data` array. For making interpolations possible, the function handles the out-of-bounds points using `constant` mode by default, which means it sets `data[1, 3] = 0` and `data[2, 3] = 0` by default. Then the final inerpolated value is calculated in the same way as described above.\n",
    "\n",
    "2. `from chromatix.functional import wrap_phase, phase_change`:\n",
    "\n",
    "This line imports the `wrap_phase` and `phase_change` functions from the `phase_masks` module of the `chromatix_functional` package. `phase_change` perturbs a field by a phase and returns a modified field. `wrap_phase` wraps values of a phase to a given limit.\n",
    "\n",
    "3. `from chromatix.utils import seidel_aberrations, zernike_aberrations`:\n",
    "\n",
    "This line imports the functions `seidel_aberrations` and `zernike_aberrations` from the module `initializers` of the `chromatix.utils` package. `seidel_aberrations` is responsible for generating Seidel aberration phase masks, and `zernike_aberrations` is responsible for generating Zernike aberration phase masks.\n",
    "\n",
    "4. Seidel Aberration:\n",
    "\n",
    "In optics, aberration is a property of optical systems, such as lenses, that causes light to be spread out over some region of space rather than focused to a point. Aberrations cause the image formed by a lens to be blurred or distorted, with the nature of the distortion depending on the type of aberration. Aberration can be defined as a departure of the performance of an optical system from the predictions of paraxial optics.[@Optical_Aberration]\n",
    "\n",
    "The most commom types of aberrations are monochromatic aberrations, including tilt, defocus, spherical aberration, coma, astigmatism, field curvature, distortion, and chromatic aberrations, including axial chromatix aberration, lateral chromatix aberration.\n",
    "\n",
    "Seidel aberrations are known as primary or third-order aberrations, including spherical aberration, coma, astigmatism, field curvature, and distortion. These five Seidel can be mathematically expressed using polynomial expansions of the wavefront aberration function in polar coordinates:\n",
    "\n",
    "$$W(\\rho, \\theta) = W_s(\\rho) + W_c(\\rho, \\theta) + W_a(\\rho, \\theta) + W_f(\\rho) + W_d(\\rho) \\tag{2.2.9}$$\n",
    "\n",
    "Where $W$ is the total wavefront, $W_s$ represents spherical aberration, $W_c$ represents coma, $W_a$ represents astigmatism, $W_f$ represents field curvature, and $W_d$ represents distortion.\n",
    "\n",
    "5. Zernike Aberration:\n",
    "\n",
    "Zernike aberrations are a set of orthogonal polynomials used to describe wavefront aberrations in optical systems using polar coordinates. Each Zernike polynomial is defined by the radial order $n$ and the azimuthal frequency $m$:\n",
    "\n",
    "$$Z^m_n(\\rho, \\theta) = R^m_n(\\rho) \\cdot \\cos(m\\theta) \\tag{2.2.10}$$\n",
    "\n",
    "$$Z^{-m}_n(\\rho, \\theta) = R^m_n(\\rho) \\cdot \\sin(m\\theta) \\tag{2.2.11}$$\n",
    "\n",
    "$$R^m_n(\\rho) = \\sum^{(n-m)/2}_{k=0}\\frac{(-1)^k \\cdot (n-k)!}{k! \\cdot (\\frac{n+m}{2}-k)! \\cdot (\\frac{n-m}{2}-k)!} \\cdot \\rho^{n-2k} \\tag{2.2.12}$$\n",
    "\n",
    "Then, the Zernike polynomials can be used to express different types of aberrations:\n",
    "\n",
    "![zernike_aberrations_table.jpg](attachment:zernike_aberrations_table.jpg)\n",
    "\n",
    "And the total wavefront aberration is expressed as a sum of Zernike aberrations:\n",
    "\n",
    "$$W(\\rho, \\theta) = \\sum_{n,m}c^m_nZ^m_n(\\rho, \\theta) \\tag{2.2.13}"
   ]
  },
  {
   "cell_type": "markdown",
   "id": "223cca1b",
   "metadata": {},
   "source": [
    "#### **Class 1: PhaseMask**"
   ]
  },
  {
   "cell_type": "markdown",
   "id": "75361c2f",
   "metadata": {},
   "source": [
    "*Source Code*"
   ]
  },
  {
   "cell_type": "code",
   "execution_count": null,
   "id": "ce4196a1",
   "metadata": {},
   "outputs": [],
   "source": [
    "class PhaseMask(nn.Module):\n",
    "    \"\"\"\n",
    "    Applies a ``phase`` mask to an incoming ``Field``.\n",
    "\n",
    "    This element can be placed after any element that returns a ``Field`` or\n",
    "    before any element that accepts a ``Field``.\n",
    "\n",
    "    This element handles multi-wavelength ``Field``s by assuming that the first\n",
    "    wavelength in the ``spectrum`` of the ``Field`` is the central wavelength\n",
    "    for which the ``phase`` was calculated, and modulates the ``phase`` by the\n",
    "    ratio of other wavelengths in the ``spectrum`` to the central wavelength\n",
    "    appropriately.\n",
    "\n",
    "    The ``phase`` can be learned (pixel by pixel) by using\n",
    "    ``chromatix.utils.trainable``.\n",
    "\n",
    "    Since phase mask initializations might require information about the\n",
    "    pupil of a system, the extra parameters ``n``, ``f``, and ``NA`` can\n",
    "    be specified. These will be passed as arguments to the phase mask\n",
    "    initialization function if ``phase`` is trainable. Note that if any of\n",
    "    these is None, none of them will be passed to the initialization function\n",
    "    and you will get an error.\n",
    "\n",
    "    Attributes:\n",
    "        phase: The phase to be applied. Should have shape `(H W)`.\n",
    "        f: Focal length of the system's objective. Defaults to None.\n",
    "        n: Refractive index of the system's objective. Defaults to None.\n",
    "        NA: The numerical aperture of the system's objective. Defaults to None.\n",
    "    \"\"\"\n",
    "\n",
    "    phase: Union[Array, Callable[[PRNGKey, Tuple[int, int], float, float], Array]]\n",
    "    f: Optional[float] = None\n",
    "    n: Optional[float] = None\n",
    "    NA: Optional[float] = None\n",
    "\n",
    "    @nn.compact\n",
    "    def __call__(self, field: Field) -> Field:\n",
    "        \"\"\"Applies ``phase`` mask to incoming ``Field``.\"\"\"\n",
    "        if all(x is not None for x in [self.n, self.f, self.NA]):\n",
    "            pupil_args = (self.n, self.f, self.NA)\n",
    "        else:\n",
    "            pupil_args = ()\n",
    "\n",
    "        phase = register(\n",
    "            self,\n",
    "            \"phase\",\n",
    "            field.spatial_shape,\n",
    "            field.dx[..., 0, 0].squeeze(),\n",
    "            field.spectrum[..., 0, 0].squeeze(),\n",
    "            *pupil_args,\n",
    "        )\n",
    "\n",
    "        return phase_change(field, phase)"
   ]
  },
  {
   "cell_type": "markdown",
   "id": "20c01b7b",
   "metadata": {},
   "source": [
    "*Explanation*"
   ]
  },
  {
   "cell_type": "markdown",
   "id": "d3853a1c",
   "metadata": {},
   "source": [
    "The code above defines a class `PhaseMask` that inherits from `nn.Module`, indicating it's a neural network class. It's responsible for applying a phase mask to an incoming field and return a modified field. It takes four attributes, `phase`, `f`, `n`, and `NA`. \n",
    "\n",
    "1. Attributes:\n",
    "\n",
    "`f`, `n`, and `NA` are optional and have default values of `None`, meaning that they are often not considered unless a pupil exists and needs to be specified. `phase` could either be a normal 2D array to represent the phase mask directly, or a callable that returns a 2D array. If `phase` is a callable, it can be learned by using `chromatix.utils.trainable` to generate the phase mask for possible optimization.\n",
    "\n",
    "2. Method:\n",
    "\n",
    "Then, as usual, the code defines the `__call__` method, which makes the class callable like a function. The method takes a `Field` object which represents the incoming field and returns a phase-modified `Field`. In the method, an if-clause is applied to check if all the optional attributes `n`, `f`, and `NA` are provided. If provided, it creates a tuple `pupil_args` that contains these values. Otherwise, it assigns an empty tuple to `pupil_arg`， ensuring that the function only passes these arguments if all are defined.\n",
    "\n",
    "Then the code calls a `register` function to initialize or retrieve the `phase` mask depending on whether it's trainable or fixed. The result from this function is the phase mask and stored in the `phase` variable, which will be applied to the `Field`. \n",
    "\n",
    "In the `register` function, `self` is the current instance of `PhaseMask`, `\"phase\"` is the name of the parameter to register, and `field.spatial_shape` calls the method `spatial_shape` in the class `Field` to provide the shape of the field.\n",
    "\n",
    "`field.dx` and `field.spectrum` are the two attributes in the class `Field`. `field.dx` is the spacing of the sample in `field.u` (the complex field) in order to discretizing a continues field, and has a shape of `(2 B... H W C [1 | 3])`. `field.spectrum` is the wavelength sampled by the field with a shape of `(B... H W C [1 | 3])` \n",
    "\n",
    "`[..., 0, 0]` means that the preceding dimensions will be taken as they are, and from the last two dimensions, only the elements at position `[0, 0]` will be taken. For example, the first four dimensions (`(2 B... H W)`) of `field.dx` will be taken wholly, and from the fifth and sixth dimensions (`(C [1 | 3])`), only the first elements (`[0, 0]`) of the two dimensions will be taken.\n",
    "\n",
    "`.squeeze()` is applied to remove any singleton dimensions that might result after indexing `field.dx[..., 0, 0]` and `field.spectrum[..., 0, 0]`, ensuring that the unnecessary extra dimensions are removed. \n",
    "\n",
    "For example:"
   ]
  },
  {
   "cell_type": "code",
   "execution_count": 5,
   "id": "ae1e54df",
   "metadata": {},
   "outputs": [
    {
     "name": "stdout",
     "output_type": "stream",
     "text": [
      "shape of the input array: (1, 2, 3)\n",
      "input array = \n",
      " [[[1 2 3]\n",
      "  [4 5 6]]]\n",
      "shape of the output array: (2, 3)\n",
      "output array =\n",
      " [[1 2 3]\n",
      " [4 5 6]]\n"
     ]
    }
   ],
   "source": [
    "import numpy as np\n",
    "\n",
    "#Create a 3D array\n",
    "input_array = np.array([[[1, 2, 3], [4, 5, 6]]])\n",
    "\n",
    "print('shape of the input array:', input_array.shape)\n",
    "print('input array = \\n', input_array)\n",
    "\n",
    "#Squeeze the 3D array\n",
    "output_array = np.squeeze(input_array)\n",
    "\n",
    "print('shape of the output array:', output_array.shape)\n",
    "print('output array =\\n', output_array)"
   ]
  },
  {
   "cell_type": "markdown",
   "id": "db7e49f1",
   "metadata": {},
   "source": [
    "As shown above, the singleton dimension of the `input_array` is removed by `np.squeeze()`, converting the 3D array into a 2D array.\n",
    "\n",
    "`*pupil_args` returns an unpacked `pupil_args` tuple, since `register` needs individual arguments, but `pupil_args` can only be passed as a single argument."
   ]
  },
  {
   "cell_type": "code",
   "execution_count": 4,
   "id": "1625386b",
   "metadata": {},
   "outputs": [
    {
     "name": "stdout",
     "output_type": "stream",
     "text": [
      "unpacked pupil_args =\n",
      " 1.2 3.5 12\n"
     ]
    }
   ],
   "source": [
    "pupil_args = (1.2, 3.5 , 12)\n",
    "\n",
    "print('unpacked pupil_args =\\n', *pupil_args)"
   ]
  },
  {
   "cell_type": "markdown",
   "id": "92d3ee04",
   "metadata": {},
   "source": [
    "Finally, the phase mask is applied to the field using `phase_change` which modifies the phase of the field based on the phase mask."
   ]
  },
  {
   "cell_type": "markdown",
   "id": "f3cdcf84",
   "metadata": {},
   "source": [
    "#### **Class 2: SpatialLightModulator**"
   ]
  },
  {
   "cell_type": "markdown",
   "id": "b157b645",
   "metadata": {},
   "source": [
    "*Source Code*"
   ]
  },
  {
   "cell_type": "code",
   "execution_count": null,
   "id": "1ff151af",
   "metadata": {},
   "outputs": [],
   "source": [
    "class SpatialLightModulator(nn.Module):\n",
    "    \"\"\"\n",
    "    Simulates a spatial light modulator (SLM) applied to an incoming ``Field``.\n",
    "\n",
    "    This element can be placed after any element that returns a ``Field`` or\n",
    "    before any element that accepts a ``Field``.\n",
    "\n",
    "    This means that this element acts as if the SLM is phase only and transmits\n",
    "    a ``Field``, rather than reflecting it.\n",
    "\n",
    "    This element handles multi-wavelength ``Field``s by assuming that the first\n",
    "    wavelength in the ``spectrum`` of the ``Field`` is the central wavelength\n",
    "    for which the ``phase`` was calculated, and modulates the ``phase`` by the\n",
    "    ratio of other wavelengths in the ``spectrum`` to the central wavelength\n",
    "    appropriately.\n",
    "\n",
    "    This element also handles the limited phase modulation range of an SLM,\n",
    "    controlled by ``phase_range``.\n",
    "\n",
    "    This element also roughly handles the simulation of the surface of\n",
    "    the SLM by interpolating the phase with the given ``shape`` (which\n",
    "    can be the number of pixels in the SLM) to the shape of the incoming\n",
    "    ``Field``, which is assumed to have a shape larger than the given SLM\n",
    "    ``shape``. The order of the interpolation performed can be controlled with\n",
    "    ``interpolation_order``, but currently only orders of 0 (nearest neighbor)\n",
    "    and 1 (linear interpolation) are supported.\n",
    "\n",
    "    The ``phase`` of the SLM can be learned (pixel by pixel) by using\n",
    "    ``chromatix.utils.trainable``.\n",
    "\n",
    "    Attributes:\n",
    "        phase: The phase to be applied. Should have shape `(H W)`.\n",
    "        shape: The shape of the SLM, provided as (H W).\n",
    "        spacing: The pitch of the SLM pixels.\n",
    "        phase_range: The phase range that the SLM can simulate, provided as\n",
    "            (min, max).\n",
    "        num_bits: The number of bits of precision the phase pixels should be\n",
    "            quantized to. Defaults to None, in which case no quantization is\n",
    "            applied. Otherwise, the phase will be quantized to have\n",
    "            ``2.0 ** num_bits`` values within ``phase_range``.\n",
    "        interpolation_order: The order of interpolation for the SLM pixels to\n",
    "            the shape of the incoming ``Field``. Can be 0 or 1. Defaults to 0.\n",
    "        f: Focal length of the system's objective. Defaults to None.\n",
    "        n: Refractive index of the system's objective. Defaults to None.\n",
    "        NA: The numerical aperture of the system's objective. Defaults to None.\n",
    "    \"\"\"\n",
    "\n",
    "    phase: Union[Array, Callable[[PRNGKey, Tuple[int, int], float, float], Array]]\n",
    "    shape: Tuple[int, int]\n",
    "    spacing: float\n",
    "    phase_range: Tuple[float, float]\n",
    "    num_bits: Optional[Union[int, float]] = None\n",
    "    interpolation_order: int = 0\n",
    "    f: Optional[float] = None\n",
    "    n: Optional[float] = None\n",
    "    NA: Optional[float] = None\n",
    "\n",
    "    @nn.compact\n",
    "    def __call__(self, field: Field) -> Field:\n",
    "        \"\"\"Applies simulated SLM ``phase`` mask to incoming ``Field``.\"\"\"\n",
    "        if all(x is not None for x in [self.n, self.f, self.NA]):\n",
    "            pupil_args = (self.n, self.f, self.NA)\n",
    "        else:\n",
    "            pupil_args = ()\n",
    "\n",
    "        phase = register(\n",
    "            self,\n",
    "            \"phase\",\n",
    "            self.shape,\n",
    "            self.spacing,\n",
    "            field.spectrum[..., 0, 0].squeeze(),\n",
    "            *pupil_args,\n",
    "        )\n",
    "        assert (\n",
    "            phase.shape == self.shape\n",
    "        ), \"Provided phase shape should match provided SLM shape\"\n",
    "        phase = wrap_phase(phase, self.phase_range)\n",
    "        if self.num_bits is not None:\n",
    "            phase = quantize(phase, 2.0**self.num_bits, range=self.phase_range)\n",
    "        field_pixel_grid = jnp.meshgrid(\n",
    "            jnp.linspace(0, self.shape[0] - 1, num=field.spatial_shape[0]) + 0.5,\n",
    "            jnp.linspace(0, self.shape[1] - 1, num=field.spatial_shape[1]) + 0.5,\n",
    "            indexing=\"ij\",\n",
    "        )\n",
    "        phase = map_coordinates(phase, field_pixel_grid, self.interpolation_order)\n",
    "\n",
    "        return phase_change(field, phase)"
   ]
  },
  {
   "cell_type": "markdown",
   "id": "4427ffdd",
   "metadata": {},
   "source": [
    "*Explanation*"
   ]
  },
  {
   "cell_type": "markdown",
   "id": "81d0b8ff",
   "metadata": {},
   "source": [
    "This class simulates spatial light modulator. A spatial light modulator is a device used to control the intensity, phase, or polarization of light. In this case, the code only simulates the modulation of phase.\n",
    "\n",
    "Compared to the class `PhaseMask`, besides the same attributes `phase`, `f`, `n`, and `NA` which act as the same role, this class takes five more attributes, namely, `shape`, `spacing`, `phase_range`, `num_bits`, and `interpolation_order`. \n",
    "\n",
    "`shape` and `spacing` define the size and structure of a spatial light modulator. `shape` is defined as a tuple `(H, W)` representing the size of the spatial light modulator, where H and W are the number of pixels in the height and width directions, respectively. `spacing` defines the pitch, meaning the distance between two pixels.\n",
    "\n",
    "`phase_range` and `num_bits` defines how will the spatial light modulator modulate the phase of the incoming field. `phase_range` is also defined as a tuple, and it defines the range within which the spatial light modulator can modulate the phase. Because the period of a wave is $2\\pi$, the range is usually set between 0 and $2\\pi$, or $-\\pi$ and $\\pi$. `num_bits` is used to quantize the `phase_range`, controlling the precision of phase, namely, the number of discrete phase levels that the spatial light modulator can apply to the incoming field.\n",
    "\n",
    "`interpolation_order` indicates what kind of interpolation the `map_coordinates` should apply. `order = 0` means that `map_coordiantes` applies nearest_neighbor interpolation, which rounds each coordinate to its nearest integer value.\n",
    "\n",
    "For example:"
   ]
  },
  {
   "cell_type": "code",
   "execution_count": 14,
   "id": "b67a1010",
   "metadata": {},
   "outputs": [
    {
     "name": "stdout",
     "output_type": "stream",
     "text": [
      "interpolate_values = [6. 0.]\n"
     ]
    }
   ],
   "source": [
    "data = jnp.array([[1.0, 2.0, 3.0], \n",
    "                   [4.0, 5.0, 6.0], \n",
    "                   [7.0, 8.0, 9.0]])\n",
    "\n",
    "coordinates = jnp.array([[0.5, 1.5],\n",
    "                         [1.5, 2.5]])\n",
    "\n",
    "interpolated_values = map_coordinates(data, coordinates, order=0)\n",
    "\n",
    "print('interpolate_values =', interpolated_values)"
   ]
  },
  {
   "cell_type": "markdown",
   "id": "f8b9caeb",
   "metadata": {},
   "source": [
    "In this example, the `coordinates` is rounded to `[1, 2]` and `[2, 3]` as `order=0`. Accordingly, the `interpolate_value` becomes `data[1, 2] = 6` and `data[2, 3] = 0` (The boundary mode is `constant` by default which means out-of-array values are set to 0).\n",
    "\n",
    "`__call__` method defines what happens when the spatial light modulator is applied to an incoming field. The if-clause and `register` function do the same thing as in the `PhaseMask`. Apart from them, the method then uses clauses to achieve its goal.\n",
    "\n",
    "First, it applies a `assert` statement. The `assert` statement in Python is used as a debugging aid. It tests whether a given condition is `True`, if it is `False`, an `AssertionError` will be raised like this:"
   ]
  },
  {
   "cell_type": "code",
   "execution_count": 17,
   "id": "d6d66305",
   "metadata": {},
   "outputs": [
    {
     "ename": "AssertionError",
     "evalue": "",
     "output_type": "error",
     "traceback": [
      "\u001b[1;31m---------------------------------------------------------------------------\u001b[0m",
      "\u001b[1;31mAssertionError\u001b[0m                            Traceback (most recent call last)",
      "Cell \u001b[1;32mIn[17], line 3\u001b[0m\n\u001b[0;32m      1\u001b[0m x \u001b[38;5;241m=\u001b[39m \u001b[38;5;241m5\u001b[39m\n\u001b[0;32m      2\u001b[0m \u001b[38;5;28;01massert\u001b[39;00m(x\u001b[38;5;241m==\u001b[39m\u001b[38;5;241m5\u001b[39m)\n\u001b[1;32m----> 3\u001b[0m \u001b[38;5;28;01massert\u001b[39;00m(x\u001b[38;5;241m==\u001b[39m\u001b[38;5;241m1\u001b[39m)\n",
      "\u001b[1;31mAssertionError\u001b[0m: "
     ]
    }
   ],
   "source": [
    "x = 5\n",
    "assert(x==5)\n",
    "assert(x==1)"
   ]
  },
  {
   "cell_type": "markdown",
   "id": "d4312ed1",
   "metadata": {},
   "source": [
    "Second, it wraps `phase` within the `phase_range` which is typically $(0, 2\\pi)$ or $(-\\pi, \\pi)$ and then quantizes it `num_bits` is provided.\n",
    "\n",
    "Third, it creates `field_pixel_grid` with functions `jnp.meshgrid()` and `jnp.linspace()` in order to generate a grid of pixel coordinates, which is crucial when interpolating values to a field.\n",
    "\n",
    "`jnp.meshgrid()` constructs N-dimensional grid arrays from N 1-dimensional vectors and returns a length-N list of grid arrays.\n",
    "\n",
    "For example:"
   ]
  },
  {
   "cell_type": "code",
   "execution_count": 2,
   "id": "0906a0ad",
   "metadata": {},
   "outputs": [
    {
     "name": "stdout",
     "output_type": "stream",
     "text": [
      "X grid = [[0 0 0 0 0 0 0]\n",
      " [1 1 1 1 1 1 1]\n",
      " [2 2 2 2 2 2 2]\n",
      " [3 3 3 3 3 3 3]\n",
      " [4 4 4 4 4 4 4]\n",
      " [5 5 5 5 5 5 5]]\n",
      "Y grid = [[0 1 2 3 4 5 6]\n",
      " [0 1 2 3 4 5 6]\n",
      " [0 1 2 3 4 5 6]\n",
      " [0 1 2 3 4 5 6]\n",
      " [0 1 2 3 4 5 6]\n",
      " [0 1 2 3 4 5 6]]\n"
     ]
    }
   ],
   "source": [
    "import jax.numpy as jnp\n",
    "\n",
    "x = jnp.array([0, 1, 2, 3, 4, 5])\n",
    "y = jnp.array([0, 1, 2, 3, 4, 5, 6])\n",
    "\n",
    "X, Y = jnp.meshgrid(x, y, indexing = 'ij')\n",
    "\n",
    "print('X grid =', X)\n",
    "print('Y grid =', Y)"
   ]
  },
  {
   "cell_type": "markdown",
   "id": "9b9f2b54",
   "metadata": {},
   "source": [
    "`indexing = 'ij'` means the output uses matrix indexing. `indexing = 'xy'` means the output uses cartesian indexing (default).\n",
    "\n",
    "`jnp.linspace()` generates evenly spaced numbers between parameters `start` and `stop`. `num` is the number of points in the output array.\n",
    "\n",
    "For example:"
   ]
  },
  {
   "cell_type": "code",
   "execution_count": 15,
   "id": "48ccda26",
   "metadata": {},
   "outputs": [
    {
     "name": "stdout",
     "output_type": "stream",
     "text": [
      "a =  [0.  0.5 1.  1.5 2.  2.5 3.  3.5 4.  4.5 5. ]\n"
     ]
    }
   ],
   "source": [
    "# Create a 1D array starting from 0, stopping at 5 with 11 elements\n",
    "a = jnp.linspace(0, 5, 11)\n",
    "print('a = ', a)"
   ]
  },
  {
   "cell_type": "markdown",
   "id": "f756cd45",
   "metadata": {},
   "source": [
    "As the output shows, the difference between two neighboring elements is:\n",
    "\n",
    "$$ dif = \\frac{stop - start}{num - 1} \\tag{2.2.14}$$\n",
    "\n",
    "In the source code, `jnp.linspace(0, self.shape[0]-1, sum=field.spatial_shape[0])` creates a 1D array according to the height of the spatial light modulator (`self.shape[0]`), and the height of the incoming field (`field.spatial_shape[0]`). `+ 0.5` term shifts the generated values by half a unit for centering the coordinates within each pixel. This makes the coordinate to the center of each pixel rather than the edge, which is important when interpolating.\n",
    "\n",
    "Finally, the code applies `phase_change()` to apply the calculated phase modulation to the incoming field."
   ]
  },
  {
   "cell_type": "markdown",
   "id": "06877ea3",
   "metadata": {},
   "source": [
    "#### **Class 3: SeidelAberrations**"
   ]
  },
  {
   "cell_type": "markdown",
   "id": "cdeaf39b",
   "metadata": {},
   "source": [
    "*Source Code*"
   ]
  },
  {
   "cell_type": "code",
   "execution_count": null,
   "id": "9124835c",
   "metadata": {},
   "outputs": [],
   "source": [
    "class SeidelAberrations(nn.Module):\n",
    "    \"\"\"\n",
    "    Applies Seidel phase polynomial to an incoming ``Field``.\n",
    "\n",
    "    This element can be placed after any element that returns a ``Field`` or\n",
    "    before any element that accepts a ``Field``.\n",
    "\n",
    "    This element handles multi-wavelength ``Field``s by assuming that the first\n",
    "    wavelength in the ``spectrum`` of the ``Field`` is the central wavelength\n",
    "    for which the ``phase`` was calculated, and modulates the ``phase`` by the\n",
    "    ratio of other wavelengths in the ``spectrum`` to the central wavelength\n",
    "    appropriately.\n",
    "\n",
    "    The ``coefficients`` can be learned by using ``chromatix.utils.trainable``.\n",
    "\n",
    "    Attributes:\n",
    "        coefficients: The Seidel coefficients. Should have shape `[5,]`.\n",
    "        f: The focal length.\n",
    "        n: The refractive index.\n",
    "        NA: The numerical aperture. The applied phase will be 0 outside NA.\n",
    "        u: The horizontal position of the object field point\n",
    "        v: The vertical position of the object field point\n",
    "    \"\"\"\n",
    "\n",
    "    coefficients: Union[Array, Callable[[PRNGKey], Array]]\n",
    "    f: float\n",
    "    n: float\n",
    "    NA: float\n",
    "    u: float\n",
    "    v: float\n",
    "\n",
    "    @nn.compact\n",
    "    def __call__(self, field: Field) -> Field:\n",
    "        \"\"\"Applies ``phase`` mask to incoming ``Field``.\"\"\"\n",
    "        coefficients = register(self, \"coefficients\")\n",
    "        phase = seidel_aberrations(\n",
    "            field.spatial_shape,\n",
    "            field.dx[..., 0, 0].squeeze(),\n",
    "            field.spectrum[..., 0, 0].squeeze(),\n",
    "            self.n,\n",
    "            self.f,\n",
    "            self.NA,\n",
    "            coefficients,\n",
    "            self.u,\n",
    "            self.v,\n",
    "        )\n",
    "\n",
    "        return phase_change(field, phase)"
   ]
  },
  {
   "cell_type": "markdown",
   "id": "403621fa",
   "metadata": {},
   "source": [
    "*Explanation*"
   ]
  },
  {
   "cell_type": "markdown",
   "id": "6d547166",
   "metadata": {},
   "source": [
    "This class simulates Seidel aberration and applies a Seidel phase polynomial to a `Field` object. Seidel aberrations are low order optical aberrations that describe how light rays deviate due to imperfection in optical systems. They can be expressed as polynomials.\n",
    "\n",
    "The class takes the following attributes. `coefficients` is a set of coefficients that represent the Seidel aberration terms. Each coefficient corresponds to a specific type of aberration. It could be either an `Array` or `Callable`. When it's a `Callable`, it can be trained in neural network. `f`, `n`, and `NA` represent focal length, refractive index, and numerical aperture respectively. `u` and `v` describe the horizontal and vertical positions of an object field, since aberrations are spatially various causing phase changes vary depending on the positions of object points. They are crucial to calculate Seidel polynomials.\n",
    "\n",
    "In the `__call__` method, the code first registers the `coefficient` as a Flax parameter or variable depending on whether it's trainable. Then, it calls the function `seidel_aberrations` to compute the phase mask on the field's spatial shape, spacing, wavelength, and the object's refractive index, focal length, numerical aperture, Seidel coefficients. Finally, the code applies the phase mask to the incoming field."
   ]
  },
  {
   "cell_type": "markdown",
   "id": "9cac1253",
   "metadata": {},
   "source": [
    "#### **Class 4: ZernikeAberrations**"
   ]
  },
  {
   "cell_type": "markdown",
   "id": "98bd915d",
   "metadata": {},
   "source": [
    "*Source Code*"
   ]
  },
  {
   "cell_type": "code",
   "execution_count": null,
   "id": "b6231e32",
   "metadata": {},
   "outputs": [],
   "source": [
    "class ZernikeAberrations(nn.Module):\n",
    "    \"\"\"\n",
    "    Applies Zernike aberrations to an incoming ``Field``.\n",
    "\n",
    "    This element can be placed after any element that returns a ``Field`` or\n",
    "    before any element that accepts a ``Field``.\n",
    "\n",
    "    This element handles multi-wavelength ``Field``s by assuming that the first\n",
    "    wavelength in the ``spectrum`` of the ``Field`` is the central wavelength\n",
    "    for which the ``phase`` was calculated, and modulates the ``phase`` by the\n",
    "    ratio of other wavelengths in the ``spectrum`` to the central wavelength\n",
    "    appropriately.\n",
    "\n",
    "    Attributes:\n",
    "        coefficients: The Zernike coefficients as a 1D array.\n",
    "        f: The focal length.\n",
    "        n: The refractive index.\n",
    "        NA: The numerical aperture. The applied phase will be 0 outside NA.\n",
    "        ansi_indices: Indices of Zernike polynomials (ANSI indexing). Should\n",
    "            have same length as coefficients.\n",
    "    \"\"\"\n",
    "\n",
    "    coefficients: Union[Array, Callable[[PRNGKey], Array]]\n",
    "    f: float\n",
    "    n: float\n",
    "    NA: float\n",
    "    ansi_indices: Array\n",
    "\n",
    "    @nn.compact\n",
    "    def __call__(self, field: Field) -> Field:\n",
    "        \"\"\"Applies ``phase`` mask to incoming ``Field``.\"\"\"\n",
    "        coefficients = register(self, \"coefficients\")\n",
    "\n",
    "        phase = zernike_aberrations(\n",
    "            field.spatial_shape,\n",
    "            field.dx[..., 0, 0].squeeze(),\n",
    "            field.spectrum[..., 0, 0].squeeze(),\n",
    "            self.n,\n",
    "            self.f,\n",
    "            self.NA,\n",
    "            self.ansi_indices,\n",
    "            coefficients,\n",
    "        )\n",
    "\n",
    "        return phase_change(field, phase)"
   ]
  },
  {
   "cell_type": "markdown",
   "id": "87077df4",
   "metadata": {},
   "source": [
    "*Explanation*"
   ]
  },
  {
   "cell_type": "markdown",
   "id": "1de629fb",
   "metadata": {},
   "source": [
    "This class applies Zernike aberrations to an incoming field. Zernike aberrations are a series of polynomials used to express optical aberrations mathematically.\n",
    "\n",
    "Compared to the `SeidelAberrations` class, this class is extremely similar, apart from that this one takes an `ansi_indices` attributes. ANSI is short for American National Standards Institute. The OSA/ANSI indices for Zernike circle polynomials were initially developed by an OSA Standards Taskforce in 1999 to reach consensus recommendations on definitions, conventions, and standards for reporting of optical aberrations of human eyes. It was later standardized in ANSI Z80.28 and ISO 24157 and adopted in some commercial software, such as COMSOL Ray Optics Module.[@Zernike_polynomials_and_their_applications]\n",
    "\n",
    "The Zernike circle polynomials in the OSA/ANSI indices are defined as:[@Zernike_polynomials_and_their_applications]\n",
    "\n",
    "$$Z_j(\\rho, \\theta)=Z_n^m(\\rho, \\theta)=\\begin{cases}\n",
    "                                         N^m_nR_n^{\\lvert m \\rvert}(\\rho)\\cos(m\\theta), & m \\geq 0 \\\\\n",
    "                                         N^m_nR_n^{\\lvert m \\rvert}(\\rho)\\sin(\\lvert m \\rvert\\theta), & m < 0\n",
    "                                        \\end{cases} \\tag{2.2.15}$$\n",
    "\n",
    "Where $n$ is a non-negative integer, $m$ is an integer, $n-\\lvert m \\rvert \\geq 0$ and is even, $j$ is a mode-ordering number starting from 0. The radial polynomial $R_n^m(\\rho)$ is defined as:[@Zernike_polynomials_and_their_applications]\n",
    "\n",
    "$$R^{\\lvert m \\rvert}_n(\\rho) = \\sum^{(n-m)/2}_{s=0}\\frac{(-1)^s \\cdot (n-s)!}{s! \\cdot (\\frac{n+m}{2}-s)! \\cdot (\\frac{n-m}{2}-s)!} \\cdot \\rho^{n-2s} \\tag{2.2.16}$$\n",
    "\n",
    "The normalization factor $N^m_n$ can be written as:[@Zernike_polynomials_and_their_applications]\n",
    "\n",
    "$$N^m_n=\\sqrt{\\frac{2(n+1)}{1+\\delta_{m0}} \\tag{2.2.17}}$$\n",
    "\n",
    "The Zernike circle polynomials under OSA/ANSI indices can be sorted by either the single index $j$, or the double indices $n$ and $m$. To achieve conversion among these indices, one can use the following relations:[@Zernike_polynomials_and_their_applications]\n",
    "\n",
    "$$ j=\\frac{n(n+2)+m}{2} \\tag{2.2.18} $$\n",
    "$$ n=\\lceil \\frac{-3+\\sqrt{9+8j}}{2} \\rceil \\tag{2.2.19} $$\n",
    "$$ m=2j-n(n+2) \\tag{2.2.20} $$\n",
    "\n",
    "Where $\\lceil x \\rceil$ denotes the ceiling function that gives as output the least integer greater than or equal to $x$.\n",
    "\n",
    "The `__call__` method is used when the `ZernikeAberration` object is applied to a `Field` object. It calculates the Zernike phase aberration mask and applies it to the `Field` object"
   ]
  },
  {
   "cell_type": "markdown",
   "id": "3668c814",
   "metadata": {},
   "source": [
    "### **Module 6: propagation**"
   ]
  },
  {
   "cell_type": "markdown",
   "id": "e4acc5bb",
   "metadata": {},
   "source": [
    "#### **Imports** "
   ]
  },
  {
   "cell_type": "markdown",
   "id": "d3fd2f31",
   "metadata": {},
   "source": [
    "*Source Code*"
   ]
  },
  {
   "cell_type": "code",
   "execution_count": null,
   "id": "60bcc607",
   "metadata": {},
   "outputs": [],
   "source": [
    "from typing import Callable, Literal, Optional, Tuple, Union\n",
    "\n",
    "import flax.linen as nn\n",
    "from chex import Array, PRNGKey\n",
    "\n",
    "from chromatix.elements.utils import Trainable, register\n",
    "from chromatix.field import crop, pad\n",
    "\n",
    "from ..field import Field\n",
    "from ..functional import (\n",
    "    asm_propagate,\n",
    "    compute_asm_propagator,\n",
    "    compute_exact_propagator,\n",
    "    compute_transfer_propagator,\n",
    "    exact_propagate,\n",
    "    kernel_propagate,\n",
    "    transfer_propagate,\n",
    "    transform_propagate,\n",
    ")\n",
    "\n",
    "__all__ = [\"Propagate\"]"
   ]
  },
  {
   "cell_type": "markdown",
   "id": "82f76599",
   "metadata": {},
   "source": [
    "*Explanation*"
   ]
  },
  {
   "cell_type": "markdown",
   "id": "71a4368f",
   "metadata": {},
   "source": [
    "Some new modules or packages that are imported in this module:\n",
    "\n",
    "1. `Literal`: This is used to specify that a variable or parameter must be one of a specific set of values. However, because Python is a dynamically typed language, which means type hints like `Literal` are not enforced at runtime, we have to install a type-checking tool like `mypy` to make `Literal` effective.\n",
    "\n",
    "2. `Trainable`: This class is a wrapper class to signal to a `Chromatix` element that a particular value (`val`) should be the initialization for a trainable parameter when used in the context of a neural network model in the `Chromatix` library.\n",
    "\n",
    "3. `crop`: This function is used to remove a specific number of pixels from the edges of the field along the spatial dimensions.\n",
    "\n",
    "4. `pad`: This function pads the field with a specific number of pixels along the spatial dimensions of the field.\n",
    "\n",
    "5. `asm_propagate`: This function is in the `functional` package, which is designed to simulate angular spectrum method (ASM) for wave propagation in an optical system. It handles the propagation of a given field over a specific distance without removing evanescent waves. This function returns the propagated field.\n",
    "\n",
    "6. `compute_asm_propagator`: This function calculates the propagation kernel (propagator) of the ASM without removing evanescent waves and Fresnel approximation for the `asm_propagate` to call. The core idea of the ASM is first transforming the field into angular spectrum by Fourier transform, then multiplying the transformed field by a propagation term which makes phase changes, finally, transforming the propagated field back into spatial domain by Inverse Fourier transform. This process is a well-known technique to numerically simulate wave propagation over a certain distance. In `Chromatix`, such a propagator is also called a propagation kernel.\n",
    "\n",
    "7. `exact_propagate`: This function also simulates the propagation of an incoming field over a specific distance and returns the propagated field, but using the exact propagator which removes the evanescent waves. Evanescent waves are components of the wave that decay exponentially and do not contribute to the far field propagation.\n",
    "\n",
    "8. `compute_exact_propagator`: This function calculates the exact propagation kernel without the Fresnel approximation and removes evanescent waves in the ASM way.\n",
    "\n",
    "9. `transfer_propogate`: This function is used to simulate the Fresnel propagation, which is also ASM, but under Fresnel approximation and returns the propagated field. Fresnel approximation is a common tool used to simplify the cases that the propagation distance is many orders of magnitude larger than the wavelength of the field.\n",
    "\n",
    "10. `compute_transfer_propagator`: As other propagator, this function also computes propagation kernel for Fresnel propagation and returns an array that can be multiplied with the Fourier transform of the incoming field, that is performed by `kernel_propagation`.\n",
    "\n",
    "11. `kernel_propagate`: This function applies a propagation kernel (propagator) to an incoming field. It's responsible for applying Fourier transform to the incoming field, and multiplying the field by a propagator, then applying the inverse Fourier transform to the propagated field, finally, returning the propagated field. Therefore, it's this function which performs the whole ASM process with a given propagator. This function works together with the propogators and `pad`, `crop` to achieve a whole propagation process.\n",
    "\n",
    "12. `transform_propagate`: Rather than using ASM, this function uses a method called single-FFT (SFT-FR) under Fresnel approximation to propagate the field over a specific distance. For the single Fourier transform method, only one Fourier transform is used to calculate the Fresnel diffraction; the sampling interval and sampling range of the output field vary with the propagation distance.[@Single_Fourier_Transform] This is useful in some cases such as a single-lens system, where physically a single lens could be regarded as a Fourier transformer. For example, the Fourier transform of a plane wave (expressed as a constant) is a spot (Delta function mathematically), which is the same as how a convex lens converges a plane incoming wave into a spot at the focal plane."
   ]
  },
  {
   "cell_type": "markdown",
   "id": "da8c9872",
   "metadata": {},
   "source": [
    "#### **Class 1: Propagate** "
   ]
  },
  {
   "cell_type": "markdown",
   "id": "80eadc4e",
   "metadata": {},
   "source": [
    "*Source Code*"
   ]
  },
  {
   "cell_type": "code",
   "execution_count": null,
   "id": "fc9cf172",
   "metadata": {},
   "outputs": [],
   "source": [
    "class Propagate(nn.Module):\n",
    "    \"\"\"\n",
    "    Free space propagation that can be placed after or between other elements.\n",
    "\n",
    "    This element takes a ``Field`` as input and outputs a ``Field`` that has\n",
    "    been propagated by a distance ``z``. Optionally, the index of refraction of\n",
    "    the propagation medium can be learned.\n",
    "\n",
    "    For example, if this element is constructed as:\n",
    "\n",
    "    ```python\n",
    "    from chromatix.elements import Propagate\n",
    "    Propagate(n=1.33, method='transfer', mode='same')\n",
    "    ```\n",
    "\n",
    "    then this element has no trainable parameters, but if this element is\n",
    "    constructed as:\n",
    "\n",
    "    ```python\n",
    "    from chromatix.elements import Propagate\n",
    "    from chromatix.utils import trainable\n",
    "    Propagate(n=trainable(1.33), method='transfer', mode='same')\n",
    "    ```\n",
    "\n",
    "    then this element has a trainable refractive index, initialized to 1.33.\n",
    "\n",
    "    !!! warning\n",
    "        By default this element caches the propagation kernel using the option\n",
    "        ``cache_propagator``. Please be aware that this kernel gets placed\n",
    "        inside the variables dict when initialising the model, so you'll have to\n",
    "        split the dictionary into trainable parameters and non-trainable state.\n",
    "        See the documentation Training Chromatix Models for more information on\n",
    "        how to do this. If you would like to have a trainable propagation kernel\n",
    "        with your own initialisation, see ``KernelPropagate`` which accepts a\n",
    "        trainable ``propagator``.\n",
    "\n",
    "    Attributes:\n",
    "        z: Distance(s) to propagate.\n",
    "        n: Refractive index.\n",
    "        N_pad: The padding for propagation (will be used as both height and\n",
    "            width padding). To automatically calculate the padding, use padding\n",
    "            calculation functions from  ``chromatix.functional``. This must be\n",
    "            passesd outside of a ``jax.jit``. Defaults to 0 (no padding), which\n",
    "            will cause circular convolutions (edge artifacts) when propagating.\n",
    "        cval: The value to pad with if ``N_pad`` is greater than 0. Defaults\n",
    "            to 0.\n",
    "        kykx: If provided, defines the orientation of the propagation. Should\n",
    "            be an array of shape `[2,]` in the format [ky, kx].\n",
    "        method: The propagation method, which can be \"transform\", \"transfer\",\n",
    "            \"exact\", or \"asm.\" Defaults to \"exact\", which is propagation\n",
    "            without the Fresnel approximation and with evanescent waves\n",
    "            cancelled.\n",
    "        mode: Defines the cropping of the output if the method is \"transfer\" or\n",
    "            \"exact\". Defaults to \"same\", which returns a ``Field`` of the same\n",
    "            shape, unlike the functional methods.\n",
    "        cache_propagator: Whether to compute and store the propagation kernel\n",
    "            or not. If True, ``z`` and ``n`` cannot be trainable. Defaults\n",
    "            to True.\n",
    "    \"\"\"\n",
    "\n",
    "    z: Union[float, Array, Callable[[PRNGKey], Array]]\n",
    "    n: Union[float, Callable[[PRNGKey], Array]]\n",
    "    N_pad: int = 0\n",
    "    cval: float = 0\n",
    "    kykx: Union[Array, Tuple[float, float]] = (0.0, 0.0)\n",
    "    method: Literal[\"transform\", \"transfer\", \"exact\", \"asm\"] = \"exact\"\n",
    "    mode: Literal[\"full\", \"same\"] = \"same\"\n",
    "    cache_propagator: bool = True\n",
    "\n",
    "    @nn.compact\n",
    "    def __call__(self, field: Field) -> Field:\n",
    "        if self.cache_propagator and (\n",
    "            isinstance(self.z, Trainable) or isinstance(self.n, Trainable)\n",
    "        ):\n",
    "            raise ValueError(\"Cannot cache propagation kernel if z or n are trainable.\")\n",
    "        if self.cache_propagator and self.method not in [\"transfer\", \"exact\", \"asm\"]:\n",
    "            raise ValueError(\n",
    "                \"Can only cache kernel for 'transfer', 'exact', or 'asm' methods.\"\n",
    "            )\n",
    "        z = register(self, \"z\")\n",
    "        n = register(self, \"n\")\n",
    "        if self.cache_propagator:\n",
    "            field = pad(field, self.N_pad, cval=self.cval)\n",
    "            propagator_args = (\n",
    "                field,\n",
    "                z,\n",
    "                n,\n",
    "                self.kykx,\n",
    "            )\n",
    "            if self.method == \"transfer\":\n",
    "                propagator = self.variable(\n",
    "                    \"state\",\n",
    "                    \"kernel\",\n",
    "                    lambda: compute_transfer_propagator(*propagator_args),\n",
    "                )\n",
    "            elif self.method == \"exact\":\n",
    "                propagator = self.variable(\n",
    "                    \"state\",\n",
    "                    \"kernel\",\n",
    "                    lambda: compute_exact_propagator(*propagator_args),\n",
    "                )\n",
    "            elif self.method == \"asm\":\n",
    "                propagator = self.variable(\n",
    "                    \"state\",\n",
    "                    \"kernel\",\n",
    "                    lambda: compute_asm_propagator(*propagator_args),\n",
    "                )\n",
    "            field = kernel_propagate(field, propagator.value)\n",
    "            if self.mode == \"same\":\n",
    "                field = crop(field, self.N_pad)\n",
    "            return field\n",
    "        if self.method == \"transform\":\n",
    "            return transform_propagate(\n",
    "                field,\n",
    "                z,\n",
    "                n,\n",
    "                N_pad=self.N_pad,\n",
    "                cval=self.cval,\n",
    "            )\n",
    "        elif self.method == \"transfer\":\n",
    "            return transfer_propagate(\n",
    "                field,\n",
    "                z,\n",
    "                n,\n",
    "                N_pad=self.N_pad,\n",
    "                cval=self.cval,\n",
    "                kykx=self.kykx,\n",
    "                mode=self.mode,\n",
    "            )\n",
    "        elif self.method == \"exact\":\n",
    "            return exact_propagate(\n",
    "                field,\n",
    "                z,\n",
    "                n,\n",
    "                N_pad=self.N_pad,\n",
    "                cval=self.cval,\n",
    "                kykx=self.kykx,\n",
    "                mode=self.mode,\n",
    "            )\n",
    "        elif self.method == \"asm\":\n",
    "            return asm_propagate(\n",
    "                field,\n",
    "                z,\n",
    "                n,\n",
    "                N_pad=self.N_pad,\n",
    "                cval=self.cval,\n",
    "                kykx=self.kykx,\n",
    "                mode=self.mode,\n",
    "            )\n",
    "        else:\n",
    "            raise NotImplementedError(\n",
    "                \"Method must be one of 'transform', 'transfer', or 'exact'.\"\n",
    "            )"
   ]
  },
  {
   "cell_type": "markdown",
   "id": "1f22bdcf",
   "metadata": {},
   "source": [
    "*Explanation*"
   ]
  },
  {
   "cell_type": "markdown",
   "id": "eb5ee7aa",
   "metadata": {},
   "source": [
    "The code above creates a `Propagate` class, which simulates free-space propagation over a distance `z` and is defined by functions in the `functional` package. It takes a `Field` object as input and outputs a propagated field. Besides, it takes several attributes, in which, `z` represents the distance to propagate that could be either a `float`, `array`, or `callable`, and it's trainable when it's a `callable`; `n` is refractive index that could be either a `float`, or a `callable`, it's trainable when it's a `callable`; `N_pad` should be an integer, it's to calculate and add paddings to incoming fields for preventing edge errors during the Fourier transforms; `cval` should be a `float`, which is the background value to use when padding the field with if `N_pad` is greater than 0, and it defaults 0 for zero padding; `kykx`, an array of shape `[2, ]`, means the wavevector $(\\overrightarrow{k})$ along $x$ direction $(\\overrightarrow{k_x})$ and $y$ direction $(\\overrightarrow{k_y})$, which specifies the orientation of propagation; `method` allows you to choose a propagation method from the four defined functions; `mode` defines the cropping of the output if the method is `transfer` or `exact`, and defaults to `same`, which means no cropping; `cache_propagator` is a boolean, which decides whether to cache the computed propagation kernel for efficiency.\n",
    "\n",
    "Within the `__call__` method, the code first uses two if-clauses to judge if caching propagation is disallowed. The first condition check raises a `ValueError` and outputs a hint when `cache_propagator = True` and both or one of `z` and `n` is trainable. `isinstance` is a built-in Python function that checks whether an object is an instance of a specific class or a variable is a specific data type and returns a `True` or `False`. \n",
    "\n",
    "For example:"
   ]
  },
  {
   "cell_type": "code",
   "execution_count": 5,
   "id": "0e88f306",
   "metadata": {},
   "outputs": [
    {
     "name": "stdout",
     "output_type": "stream",
     "text": [
      "True\n"
     ]
    }
   ],
   "source": [
    "# Check if a variable is an integer\n",
    "x = 1\n",
    "print(isinstance(x, int))"
   ]
  },
  {
   "cell_type": "code",
   "execution_count": 6,
   "id": "a38a2064",
   "metadata": {},
   "outputs": [
    {
     "name": "stdout",
     "output_type": "stream",
     "text": [
      "False\n"
     ]
    }
   ],
   "source": [
    "# Check if a variable is a string\n",
    "y = 1\n",
    "print(isinstance(y, str))"
   ]
  },
  {
   "cell_type": "markdown",
   "id": "11f3b470",
   "metadata": {},
   "source": [
    "Similarly, the second condition check raises a `ValueError` and outputs a hint when `cache_propagator = True` and the `method` is not `transfer`, `exact`, or `asm`.\n",
    "\n",
    "Then, for making this class trainable, `z` and `n` are registered.\n",
    "\n",
    "The third if-clause is designed to cache the propagators according to the method you choose. It first checks if `cache.propagator` is true, if it is, then the input field gets padded. And for simplicity, the code groups the necessary inputs (`field`, `z`, `n`, `self.kykx`) for the propagation computing functions into a tuple, so that, these inputs can easily be passed into any propagator computing functions.\n",
    "\n",
    "After the steps above, the code caches the propagator according to the method you choose. For example, if we choose `transfer`, it will assign the result of `self.variable()` to the variable `propagtor`. `self` refers to the current instance of this class, but `variable` is inherited from the parent class `nn.module`. \n",
    "\n",
    "The first argument within `variable` must be a `string`, which represents the name of the collection where the variable will be stored. If it's `state`, it typically indicates that it's where non-trainable variables are stored. The second argument is the name of the variable being stored within the `state` collection, and this name enables you to access the variable later. \n",
    "\n",
    "The third argument is an initialization function, which is a `lambda` function here, and it's called only when no variables are stored in the collection. A `lambda` function takes no arguments, it's used to defer `compute_transfer_propagator(*propagator_args)`, making it executed only when it's invoked. The kernel that this `lambda` function calculates will be stored in the `state`.\n",
    "\n",
    "Next, after computing and caching the propagators, the code calls the `kernel_propagate` function to calculate the propagated field from the input field. The argument `propagator.value` retrieves the current value of the variable stored in the `state` collection under the name `kernel`. Finally, the propagated field gets cropped according to the chose `mode` and returned.\n",
    "\n",
    "The last if-clause is quite straightforward, it simply calls different functions to propagate the incoming fields according to the chosen `method`. And if the inputs of `method` don't match any of the strings given, an error and a hint will be raised."
   ]
  },
  {
   "cell_type": "markdown",
   "id": "7a8e22ce",
   "metadata": {},
   "source": [
    "#### **Class 2: KernelPropagate** "
   ]
  },
  {
   "cell_type": "markdown",
   "id": "d66af91f",
   "metadata": {},
   "source": [
    "*Source Code*"
   ]
  },
  {
   "cell_type": "code",
   "execution_count": null,
   "id": "6b56c826",
   "metadata": {},
   "outputs": [],
   "source": [
    "class KernelPropagate(nn.Module):\n",
    "    \"\"\"\n",
    "    Free space propagation with a precomputed propagation kernel.\n",
    "\n",
    "    This element takes a ``Field`` as input and outputs a ``Field`` that has\n",
    "    been propagated by a distance that is already defined by a propagation\n",
    "    kernel. Optionally, this kernel can be a learned parameter using\n",
    "    ``chromatix.utils.trainable``.\n",
    "\n",
    "    All attributes other than the ``propagator`` and ``mode`` will be\n",
    "    sent as arguments to the propagation kernel initialization function if\n",
    "    ``propagator`` is trainable.\n",
    "\n",
    "    Attributes:\n",
    "        propagator: The propagation kernel to use. Can be trainable.\n",
    "        z: Distance(s) to propagate. Defaults to None.\n",
    "        n: Refractive index. Defaults to None.\n",
    "        N_pad: The padding for propagation (will be used as both height and\n",
    "            width padding). To automatically calculate the padding, use padding\n",
    "            calculation functions from  ``chromatix.functional``. This must be\n",
    "            passesd outside of a ``jax.jit``. Defaults to 0 (no padding), which\n",
    "            will cause circular convolutions (edge artifacts) when propagating.\n",
    "        cval: The value to pad with if ``N_pad`` is greater than 0. Defaults\n",
    "            to 0.\n",
    "        kykx: If provided, defines the orientation of the propagation. Should\n",
    "            be an array of shape `[2,]` in the format [ky, kx].\n",
    "        mode: Defines the cropping of the output if the method is \"transfer\" or\n",
    "            \"exact\". Defaults to \"same\", which returns a ``Field`` of the same\n",
    "            shape, unlike the functional methods.\n",
    "    \"\"\"\n",
    "\n",
    "    propagator: Union[Array, Callable[[PRNGKey], Array]]\n",
    "    z: Optional[Union[float, Array]] = None\n",
    "    n: Optional[float] = None\n",
    "    N_pad: int = 0\n",
    "    cval: float = 0\n",
    "    kykx: Union[Array, Tuple[float, float]] = (0.0, 0.0)\n",
    "    mode: Literal[\"full\", \"same\"] = \"same\"\n",
    "\n",
    "    @nn.compact\n",
    "    def __call__(self, field: Field) -> Field:\n",
    "        field = pad(field, self.N_pad, cval=self.cval)\n",
    "        propagator = register(\n",
    "            self,\n",
    "            \"propagator\",\n",
    "            field,\n",
    "            self.z,\n",
    "            self.n,\n",
    "            self.kykx,\n",
    "        )\n",
    "\n",
    "        field = kernel_propagate(field, propagator)\n",
    "        if self.mode == \"same\":\n",
    "            field = crop(field, self.N_pad)\n",
    "        return field"
   ]
  },
  {
   "cell_type": "markdown",
   "id": "00439429",
   "metadata": {},
   "source": [
    "*Explanation*"
   ]
  },
  {
   "cell_type": "markdown",
   "id": "6a4ea46d",
   "metadata": {},
   "source": [
    "This class performs free space propagation using a precomputed propagation kernel (propagator) to propagate an incoming field.\n",
    "\n",
    "Unlike the `Propagate` class, in which `z` and `n` is trainable, in this case, only the argument `propagator` could be either trainable and predefined as an array. `z` could be either a float, an array, or `None`, and `n` could be a float or `None`, since they might not be need if they are included in the precomputed kernel. The other four arguments are defined as the same as in the `Propagate`.\n",
    "\n",
    "Then, the `__call__` method first pads the input field as usual, and then registers `propagator` for retrieving the trained `propagator`. Next, the propagated field is computed by calling `kernel_propagate` and cropped and returned."
   ]
  },
  {
   "cell_type": "markdown",
   "id": "ed86d1d5",
   "metadata": {},
   "source": [
    "### **Module 7: samples**"
   ]
  },
  {
   "cell_type": "markdown",
   "id": "cf58191f",
   "metadata": {},
   "source": [
    "#### **Imports**"
   ]
  },
  {
   "cell_type": "markdown",
   "id": "31bb8f40",
   "metadata": {},
   "source": [
    "*Source Code*"
   ]
  },
  {
   "cell_type": "code",
   "execution_count": null,
   "id": "e8095ceb",
   "metadata": {},
   "outputs": [],
   "source": [
    "from typing import Callable, Union\n",
    "\n",
    "import flax.linen as nn\n",
    "from chex import Array, PRNGKey\n",
    "\n",
    "from ..field import ScalarField\n",
    "from ..functional.samples import thin_sample\n",
    "from .utils import register\n",
    "\n",
    "__all__ = [\"ThinSample\"]"
   ]
  },
  {
   "cell_type": "markdown",
   "id": "2d1c8b02",
   "metadata": {},
   "source": [
    "*Explanation*"
   ]
  },
  {
   "cell_type": "markdown",
   "id": "a8a1a5f8",
   "metadata": {},
   "source": [
    "A new function is imported here which is `thin_sample` from the package `functional`. This function returns a perturbed scalar field. Suppose we have a thin sample with properties like absorption (denoted as $A$), refractive index change ($\\Delta n$), and thickness ($d$), then the perturbation ($P$) under thin sample approximation can be expressed as:\n",
    "\n",
    "$$ P = exp(i \\cdot \\frac{2\\pi \\cdot d (\\Delta n + A \\cdot i)}{\\lambda}) \\tag{2.2.21} $$\n",
    "\n",
    "where, $i$ is imaginary number, $\\lambda$ is the wavelength. So, this function simulates how a field would behave after passing through a thin sample and returns a perturbed field, which is the product of field times `P`. Furthermore, according to the equation above, it's clearly that the perturbed field contains both phase shift and amplitude attenuation."
   ]
  },
  {
   "cell_type": "markdown",
   "id": "b6916606",
   "metadata": {},
   "source": [
    "#### **Class 1: ThinSample**"
   ]
  },
  {
   "cell_type": "markdown",
   "id": "fcd2b663",
   "metadata": {},
   "source": [
    "*Source Code*"
   ]
  },
  {
   "cell_type": "code",
   "execution_count": null,
   "id": "ecf653c7",
   "metadata": {},
   "outputs": [],
   "source": [
    "class ThinSample(nn.Module):\n",
    "    \"\"\"\n",
    "    Perturbs an incoming ``ScalarField`` as if it went through a thin sample\n",
    "    object with a given ``absorption``, refractive index change ``dn`` and of\n",
    "    a given ``thickness`` in the same units as the spectrum of the incoming\n",
    "    ``ScalarField``.\n",
    "\n",
    "    The sample is supposed to follow the thin sample approximation, so the\n",
    "    sample perturbation is calculated as:\n",
    "    ``exp(1j * 2 * pi * (dn + 1j * absorption) * thickness / lambda)``.\n",
    "\n",
    "    Returns a ``ScalarField`` with the result of the perturbation.\n",
    "\n",
    "    Attributes:\n",
    "        field: The complex field to be perturbed.\n",
    "        absorption: The sample absorption defined as ``(B... H W 1 1)`` array\n",
    "        dn: Sample refractive index change ``(B... H W 1 1)`` array\n",
    "        thickness: Thickness at each sample location as array broadcastable\n",
    "            to ``(B... H W 1 1)``\n",
    "    \"\"\"\n",
    "\n",
    "    absorption: Union[Array, Callable[[PRNGKey], Array]]\n",
    "    dn: Union[Array, Callable[[PRNGKey], Array]]\n",
    "    thickness: Union[Array, Callable[[PRNGKey], Array]]\n",
    "\n",
    "    @nn.compact\n",
    "    def __call__(self, field: ScalarField) -> ScalarField:\n",
    "        absorption = register(self, \"absorption\")\n",
    "        dn = register(self, \"dn\")\n",
    "        thickness = register(self, \"thickness\")\n",
    "        return thin_sample(field, absorption, dn, thickness)"
   ]
  },
  {
   "cell_type": "markdown",
   "id": "d51de153",
   "metadata": {},
   "source": [
    "*Explanation*"
   ]
  },
  {
   "cell_type": "markdown",
   "id": "beea0504",
   "metadata": {},
   "source": [
    "This class is basically a wrapper that wraps the function `thin_sample` for training. All the three attributes it takes could be either predefined as an array or a callable for training.\n",
    "\n",
    "In the `__call__` method, the three attributes are registered for retrieving the trained arrays. Next, the function `thin_sample` is called to calculate the perturbed field, which is then returned."
   ]
  },
  {
   "cell_type": "markdown",
   "id": "dbe06798",
   "metadata": {},
   "source": [
    "### **Module 8: sensors**"
   ]
  },
  {
   "cell_type": "markdown",
   "id": "b77a0fca",
   "metadata": {},
   "source": [
    "#### **Import**"
   ]
  },
  {
   "cell_type": "markdown",
   "id": "a610cf8a",
   "metadata": {},
   "source": [
    "*Source Code*"
   ]
  },
  {
   "cell_type": "code",
   "execution_count": null,
   "id": "191a1411",
   "metadata": {},
   "outputs": [],
   "source": [
    "from typing import Literal, Optional, Tuple, Union\n",
    "\n",
    "import flax.linen as nn\n",
    "import jax.numpy as jnp\n",
    "from chex import Array\n",
    "from jax import vmap\n",
    "\n",
    "from ..field import Field\n",
    "from ..functional import basic_sensor\n",
    "from ..ops import init_plane_resample\n",
    "\n",
    "__all__ = [\"BasicSensor\"]"
   ]
  },
  {
   "cell_type": "markdown",
   "id": "7b8266a4",
   "metadata": {},
   "source": [
    "*Explanation*"
   ]
  },
  {
   "cell_type": "markdown",
   "id": "54331b07",
   "metadata": {},
   "source": [
    "`jax.vmap`: `vmap` is short for vectorizing map. This function creates a function which maps the input function over argument axes, allowing you to apply a function over a batch of inputs like a loop. It often takes three arguments: `fun`, which is the input function to be vectorized, `in_axes`, which could be an integer, None, or a sequence of values specifying which input array axes to map over. `out_axes` could also be an integer, None, or a sequence of values as a tuple or list.\n",
    "\n",
    "For example:"
   ]
  },
  {
   "cell_type": "code",
   "execution_count": 9,
   "id": "c8ab1e3e",
   "metadata": {},
   "outputs": [
    {
     "name": "stdout",
     "output_type": "stream",
     "text": [
      "Without jax.vmp:\n",
      " [[ 5 12]\n",
      " [21 32]]\n",
      "With jax.vmp:\n",
      " [[[ 5 12]\n",
      "  [ 7 16]]\n",
      "\n",
      " [[15 24]\n",
      "  [21 32]]]\n"
     ]
    }
   ],
   "source": [
    "import jax\n",
    "import jax.numpy as jnp\n",
    "\n",
    "# Create a function named times to multiply two arrays\n",
    "def times(x, y):\n",
    "    return x * y\n",
    "\n",
    "x = jnp.array([[1, 2], \n",
    "               [3, 4]])\n",
    "y = jnp.array([[5, 6], \n",
    "               [7, 8]]) \n",
    "\n",
    "# Create a vectorized version of times to map over the \n",
    "# first dimension of `x` but keep `y` constant for each application \n",
    "batched_times = jax.vmap(times, in_axes=(0, None))\n",
    "\n",
    "result = batched_times(x, y)\n",
    "print('Without jax.vmp:\\n', times(x, y))\n",
    "print('With jax.vmp:\\n', result)"
   ]
  },
  {
   "cell_type": "markdown",
   "id": "8cd79f57",
   "metadata": {},
   "source": [
    "In this case, `jax.vmp` is called to vectorize the `times` function. `in_axes=(0, None)` indicates that the batch axis for `x` is the zeroth axis, namely the rows, so `jax.vmp` will iterate over each row in `x`. And `None` for `y` specifies that `y` remains unchanged. Therefore, the `times` function will be replicated over each row of `x` with `y`, returning two results: `times([1, 2], [[5, 6], [7, 8]])` and `times([3, 4], [[5, 6]. [7, 8]])`."
   ]
  },
  {
   "cell_type": "markdown",
   "id": "62f4c14b",
   "metadata": {},
   "source": [
    "`basic_sensor`: This function comes from the module `sensors` in the package `functional`. It's to create an intensity image from an incoming field or an intensity array and add shot noise to the image."
   ]
  },
  {
   "cell_type": "markdown",
   "id": "b3e41558",
   "metadata": {},
   "source": [
    "`init_plane_resample`: This function returns a function named `op` depending on the chosen method. And the `op` resamples 2D planes to the specific output shape and spacing."
   ]
  },
  {
   "cell_type": "markdown",
   "id": "b4f0066c",
   "metadata": {},
   "source": [
    "#### **Class 1: Basic Sensor**"
   ]
  },
  {
   "cell_type": "markdown",
   "id": "893ca1fe",
   "metadata": {},
   "source": [
    "*Source Code*"
   ]
  },
  {
   "cell_type": "code",
   "execution_count": null,
   "id": "82853e50",
   "metadata": {},
   "outputs": [],
   "source": [
    "class BasicSensor(nn.Module):\n",
    "    \"\"\"\n",
    "    Produces an intensity image from an incoming ``Field`` with shot noise.\n",
    "    Optionally, can also accept an intensity Array if ``input_spacing`` is\n",
    "    specified.\n",
    "\n",
    "    Attributes:\n",
    "        shape: The shape in pixels of the sensor. Should be of the form `(H W)`.\n",
    "        spacing: The pitch of the sensor pixels.\n",
    "        shot_noise_mode: What type of shot noise simulation to use. Defaults to\n",
    "            None, in which case no shot noise is simulated.\n",
    "        resampling_method: What kind of sampling to use when resampling the\n",
    "            incoming ``Field`` to the pitch of the sensor. Can be either\n",
    "            `'pooling'` which uses sum pooling (for downsampling only) or any\n",
    "            method supported by ``jax.image.scale_and_translate`` (`'linear'`,\n",
    "            `'cubic'`, `'lanczos3'`, or `'lanczos5'`). If ``None``, then no\n",
    "            resampling will occur.\n",
    "        reduce_axis: If provided, the result will be summed along this\n",
    "            dimension.\n",
    "        reduce_parallel_axis_name: If provided, psum along the axis with this\n",
    "            name.\n",
    "    \"\"\"\n",
    "\n",
    "    shape: Tuple[int, int]\n",
    "    spacing: Union[float, Array]\n",
    "    shot_noise_mode: Optional[Literal[\"approximate\", \"poisson\"]] = None\n",
    "    resampling_method: Optional[str] = \"linear\"\n",
    "    reduce_axis: Optional[int] = None\n",
    "    reduce_parallel_axis_name: Optional[str] = None\n",
    "\n",
    "    def setup(self):\n",
    "        if self.resampling_method is not None:\n",
    "            self.resample_fn = init_plane_resample(\n",
    "                self.shape, self.spacing, self.resampling_method\n",
    "            )\n",
    "\n",
    "    def __call__(\n",
    "        self,\n",
    "        sensor_input: Union[Field, Array],\n",
    "        input_spacing: Optional[Union[float, Array]] = None,\n",
    "        resample: bool = True,\n",
    "    ) -> Array:\n",
    "        \"\"\"\n",
    "        Resample the given ``sensor_input`` to the pixels of the sensor and\n",
    "        potentially reduce the result and add shot noise.\n",
    "\n",
    "        Args:\n",
    "            sensor_input: The incoming ``Field`` or intensity ``Array``.\n",
    "            input_spacing: The spacing of the input, only required if resampling\n",
    "                is required and the input is an ``Array``.\n",
    "            resample: Whether to perform resampling or not. Only matters if\n",
    "                ``resampling_method`` is ``None``. Defaults to ``True``.\n",
    "        \"\"\"\n",
    "        if isinstance(sensor_input, Field):\n",
    "            # WARNING(dd): @copypaste(Microscope) Assumes that field has same\n",
    "            # spacing at all wavelengths when calculating intensity!\n",
    "            input_spacing = sensor_input.dx[..., 0, 0].squeeze()\n",
    "        input_spacing = jnp.atleast_1d(input_spacing)\n",
    "        if resample and self.resampling_method is not None:\n",
    "            resample_fn = self.resample_fn\n",
    "        else:\n",
    "            resample_fn = None\n",
    "        if self.shot_noise_mode is not None:\n",
    "            noise_key = self.make_rng(\"noise\")\n",
    "        else:\n",
    "            noise_key = None\n",
    "        return basic_sensor(\n",
    "            sensor_input,\n",
    "            self.shot_noise_mode,\n",
    "            resample_fn,\n",
    "            self.reduce_axis,\n",
    "            self.reduce_parallel_axis_name,\n",
    "            input_spacing=input_spacing,\n",
    "            noise_key=noise_key,\n",
    "        )\n",
    "\n",
    "    def resample(self, resample_input: Array, input_spacing: float) -> Array:\n",
    "        \"\"\"\n",
    "        Resample the given ``resample_input`` to the pixels of the sensor.\n",
    "\n",
    "        Args:\n",
    "            resample_input: The ``Array`` to resample of shape ``(B... H W 1 1)``\n",
    "            input_spacing: The spacing of the input\n",
    "        \"\"\"\n",
    "        if self.resampling_method is not None:\n",
    "            resample_fn = self.resample_fn\n",
    "            for i in range(resample_input.ndim - 4):\n",
    "                resample_fn = vmap(resample_fn, in_axes=(0, None))\n",
    "            return resample_fn(resample_input, input_spacing)\n",
    "        else:\n",
    "            return resample_input"
   ]
  },
  {
   "cell_type": "markdown",
   "id": "b360192a",
   "metadata": {},
   "source": [
    "*Explanantion*"
   ]
  },
  {
   "cell_type": "markdown",
   "id": "92c96872",
   "metadata": {},
   "source": [
    "This newly defined class `BasiceSensor` also inherits from `nn.Module` as usual for neural network. The aim is to produce an image representing the intensity of the incoming field with optional shot noise. This class includes three methods, when an object of this class is called, only the methods `setup` and `__call__` will be invoked directly since they perform the main work of the class.But he `resample` method only runs when it's specifically called to provide optional functionality.\n",
    "\n",
    "1. Attributes:\n",
    "\n",
    "This class takes six attributes in total. The first two attributes `shape` and `spacing` indicate the size of the sensor (the number of pixels in $x$ and $y$ direction), which should be of shape `(H, W)`, and the spacing between pixels (pitch), which could be a float or an array if the spacing varies. \n",
    "\n",
    "Then, `shot_noise_mode` allows the user to specify the type of noise which should be added to the intensity image. The choices are `approximate` which is Gaussian noise, `poisson` which is Poisson noise, and `None` which means no noise is added to the intensity image. The approximate noise refers to any noise that approximates real-world noise, and it's often modeled by Gaussian noise. The Poisson noise is a type of statistical noise that arises naturally when measuring low-intensity light and governed by Poisson distribution.\n",
    "\n",
    "Next, `resampling_method` allows you to choose a resampling approach (`linear`, `None`) to adjust the incoming data to fit. Finally, if `reduce_axis` and `reduce_parallel_axis_name` are provided, they specify axes for summing.\n",
    "\n",
    "2. `setup` Method:\n",
    "\n",
    "Unlike the previous classes which use `@compact` to do initialization, this method chooses the `setup` method for creating and configuring any attributes that depend on other parameters or conditions. This method runs when the class is instantiated.\n",
    "\n",
    "Here, this method uses an if-clause to check if `self.resampling_method` is set. If it's set, the method will create and initialize a new attribute `self.resample_fn` by calling an imported function `init_plane_resample` which reshapes the sensor (object of this class) and adjusts the pitch according to the chose resample method. Therefore, `self.resample_fn` expects an input of the shape `[H, W, spacing, method]`\n",
    "\n",
    "3. `__call__` Method:\n",
    "\n",
    "This method takes three inputs to perform the main operation of the `BasicSensor`. `sensor_input` could either be an object of the class `Field` or a self-defined `Array` which represents the intensity. `input_spacing` is an optional parameter specifying the spacing of the input samples. It's only required when resampling is required and the input is an array. `resample` is a boolean that determines whether resampling is applied. \\\n",
    "\n",
    "To perform the main operation, this method first handles the `input_spacing`. Therefore, it first checks if the input is a field by calling `isinstance(object, classinfo)`. This function only returns `True` and `False`. If the input `object` is of the class or type indicated by `classinfo`, it returns `True`, instead, it returns `False`. Then, Suppose the input is a field, the spacing of the field `sensor_input.dx[..., 0, 0]` will be squeezed (removes any singleton dimensions) and then assigned to `input_spacing`.\n",
    "\n",
    "The `input_spacing` will be checked if it's at least one-dimensional by the function `jnp.atleast_1d()`. This function will return the original input array, if it has at least one dimension, otherwise, it converts the input into a one_dimensional array. For example:"
   ]
  },
  {
   "cell_type": "code",
   "execution_count": 2,
   "id": "12856988",
   "metadata": {},
   "outputs": [
    {
     "name": "stdout",
     "output_type": "stream",
     "text": [
      "arr = [1 2 3]\n",
      "a = [1]\n"
     ]
    }
   ],
   "source": [
    "import jax.numpy as jnp\n",
    "\n",
    "arr = jnp.array([1, 2, 3])\n",
    "a = 1\n",
    "\n",
    "print('arr =', jnp.atleast_1d(arr))\n",
    "print('a =', jnp.atleast_1d(a))"
   ]
  },
  {
   "cell_type": "markdown",
   "id": "06a13e6c",
   "metadata": {},
   "source": [
    "Then, this method handles the resampling. At first, it checks if the argument `resample` is `True` and if the attribute `reampling_method` is not `None` (meaning `self.resample_fn` is initialized in `setup`). When both conditions are satisfied, `self.resample_fn`, which is the resampling function initialized in `setup`, will be assigned to the local variable `resample_fn`. Otherwise, there will be no resampling function.\n",
    "\n",
    "Next, it's the turn of the shot noise. If `self.shot_noise_mode` is checked as not `None`, meaning that it's `\"appraoximate\"` or `\"poisson\"`, the method generates a `noise_key` by calling the function `self.make_rng(\"noise\")`. This function is inherited from `nn.Module` to generate a reproducible random key. If `shot_noise_mode` is `None`, then `noise_key` is set to `None`.\n",
    "\n",
    "Finally, after setting the three arguments, the method calls the external function to return the intensity image.\n",
    "\n",
    "4. `resample` Method:\n",
    "\n",
    "This method is designed to adjust the spatial resolution of an input array (`resample_input`) based on the input spacing (`input_spacing`). This is necessary when the input data has a different resolution than the sensor's pixels.\n",
    "\n",
    "The resampling only works when the `self.resampling_method` is not set to `None`. When a resampling method is set, the method assigns `self.resample_fn`, which is initialized in `setup` to `resample_fn`\n",
    "\n",
    "Then, since `resample_input` has a shape of `(B... H W 1 1)`, the loop `for i in range(resample_input.ndim - 4)` only iterates over batch dimensions (`B...`). Therefore, the loop will apply the function `resample_fn` to each `H x W` slice across the batch dimension, meaning that `resample_fn` is now able to handle multidimensional inputs. Next, the vectorized `resample_fn` can be called to resample the `resample_input`."
   ]
  },
  {
   "cell_type": "markdown",
   "id": "39751bd7",
   "metadata": {},
   "source": [
    "### **Module 9: Sources**"
   ]
  },
  {
   "cell_type": "markdown",
   "id": "3c1daafe",
   "metadata": {},
   "source": [
    "#### **Imports**"
   ]
  },
  {
   "cell_type": "markdown",
   "id": "c88df79c",
   "metadata": {},
   "source": [
    "*Source Code*"
   ]
  },
  {
   "cell_type": "code",
   "execution_count": null,
   "id": "081f0e72",
   "metadata": {},
   "outputs": [],
   "source": [
    "from typing import Callable, Optional, Tuple, Union\n",
    "import numpy as np\n",
    "import flax.linen as nn\n",
    "from chex import Array, PRNGKey\n",
    "from chromatix.elements.utils import register\n",
    "from chromatix.field import Field\n",
    "from chromatix.functional.sources import (\n",
    "    generic_field,\n",
    "    objective_point_source,\n",
    "    plane_wave,\n",
    "    point_source,\n",
    ")\n",
    "\n",
    "__all__ = [\"PointSource\", \"ObjectivePointSource\", \"PlaneWave\", \"GenericField\"]"
   ]
  },
  {
   "cell_type": "markdown",
   "id": "3b472cd6",
   "metadata": {},
   "source": [
    "*Explanation*"
   ]
  },
  {
   "cell_type": "markdown",
   "id": "cc3c4553",
   "metadata": {},
   "source": [
    "`numpy`: This package `numpy` is short for Numerical Python. It's a powerful library for numerical and scientific computing and the foundation for many scientific and machine learning libraries like SciPy and JAX. It offers all kinds of functions to help create arrays like `np.array()`, `np.arange()`, and `np.ones()` and do calculations like `sum()`, `mean()`. Besides, it can handle linear algebra operations by the module `np.linalg` such as determinant calculation and eigenvalue computations.\n",
    " \n",
    "`generic_field`: This function generates an optical field with given amplitude, spectrum, spectral density, phase, and pupil. It supports the creation of scalar and vector fields with optional pupil.\n",
    "\n",
    "`objective_point_source`: This function models the optical field generated by a point source located at a defocused position relative to the focal plane of an objective lens with focal length and numerical aperture. It produces a field after passing through the lens, accounting for the point source's offset and lens parameters.\n",
    "\n",
    "`plane_wave`: As the name suggests, this function models a plane wave with the given shape, wavelength, amplitude, wavevector, and pupil. With pupil and wavevector, it allows the control of the angle of the plane wave.\n",
    "\n",
    "`point_source`: This function models the optical field generated by a point source at a certain distance from the observation plane, factoring in the medium's refractive index and optional modifications through a pipil function. This is typically to be used to create spherical wavefront emanating from a point source."
   ]
  },
  {
   "cell_type": "markdown",
   "id": "f531c38d",
   "metadata": {},
   "source": [
    "#### **Class 1:PointSource**"
   ]
  },
  {
   "cell_type": "markdown",
   "id": "7db6440a",
   "metadata": {},
   "source": [
    "*Source Code*"
   ]
  },
  {
   "cell_type": "code",
   "execution_count": null,
   "id": "fe4e11b1",
   "metadata": {},
   "outputs": [],
   "source": [
    "class PointSource(nn.Module):\n",
    "    \"\"\"\n",
    "    Generates field due to point source a distance ``z`` away.\n",
    "\n",
    "    Can also be given ``pupil``.\n",
    "\n",
    "    The attributes ``z``, ``n``, ``power``, and ``amplitude`` can be learned by\n",
    "    using ``chromatix.utils.trainable``.\n",
    "\n",
    "    Attributes:\n",
    "        shape: The shape (height and width) of the ``Field`` to be created.\n",
    "        dx: The spacing of the samples of the ``Field``.\n",
    "        spectrum: The wavelengths included in the ``Field`` to be created.\n",
    "        spectral_density: The weights of each wavelength in the ``Field`` to\n",
    "            be created.\n",
    "        z: The distance of the point source.\n",
    "        n: Refractive index.\n",
    "        power: The total power that the result should be normalized to,\n",
    "            defaults to 1.0.\n",
    "        amplitude: The amplitude of the electric field. For ``ScalarField`` this\n",
    "            doesnt do anything, but it is required for ``VectorField`` to set\n",
    "            the polarization.\n",
    "        pupil: If provided, will be called on the field to apply a pupil.\n",
    "        scalar: Whether the result should be ``ScalarField`` (if True) or\n",
    "            ``VectorField`` (if False). Defaults to True.\n",
    "        epsilon: Value added to denominators for numerical stability.\n",
    "    \"\"\"\n",
    "\n",
    "    shape: Tuple[int, int]\n",
    "    dx: Union[float, Array]\n",
    "    spectrum: Union[float, Array]\n",
    "    spectral_density: Union[float, Array]\n",
    "    z: Union[float, Callable[[PRNGKey], float]]\n",
    "    n: Union[float, Callable[[PRNGKey], float]]\n",
    "    power: Union[float, Callable[[PRNGKey], float]] = 1.0\n",
    "    amplitude: Union[float, Array, Callable[[PRNGKey], Array]] = 1.0\n",
    "    pupil: Optional[Callable[[Field], Field]] = None\n",
    "    scalar: bool = True\n",
    "    epsilon: float = np.finfo(np.float32).eps,\n",
    "\n",
    "    @nn.compact\n",
    "    def __call__(self) -> Field:\n",
    "        power = register(self, \"power\")\n",
    "        z = register(self, \"z\")\n",
    "        n = register(self, \"n\")\n",
    "        amplitude = register(self, \"amplitude\")\n",
    "        return point_source(\n",
    "            self.shape,\n",
    "            self.dx,\n",
    "            self.spectrum,\n",
    "            self.spectral_density,\n",
    "            z,\n",
    "            n,\n",
    "            power,\n",
    "            amplitude,\n",
    "            self.pupil,\n",
    "            self.scalar,\n",
    "            self.epsilon\n",
    "        )"
   ]
  },
  {
   "cell_type": "markdown",
   "id": "b5a40af9",
   "metadata": {},
   "source": [
    "*Explanation*"
   ]
  },
  {
   "cell_type": "markdown",
   "id": "66cd796c",
   "metadata": {},
   "source": [
    "This `PointSource` class extends from `nn.Module` and acts as a learnable version of the `point_source` function allowing some attributes to be learned. There are totally eleven attributes are defined to design the class:\n",
    "\n",
    "`shape` and `dx` specifies the size and the grid spacing for the output field. `spectrum` and `spectrum_density` indicate the wavelength and the weighting of each wavelength. Among the other attributes, `z` which represents the spatial distance for the point source, `n` which represents the refractive index, `power` which specifies the desired total power, `amplitude` which means the amplitude of the field, could be either a fixed value or a trainable value to be learned. \n",
    "\n",
    "Besides, `pupil` which applies a pupil modulation to the field, is a callable that needs to be provided. In other words, it's a function that takes a `Field` object as input and returns a modifies `Field` object. Therefore, to apply such a pupil to the object of `PointSource`, a function that describes this pupil is needed.\n",
    "\n",
    "For example:"
   ]
  },
  {
   "cell_type": "code",
   "execution_count": 1,
   "id": "96f76932",
   "metadata": {},
   "outputs": [],
   "source": [
    "import numpy as np\n",
    "\n",
    "def circular_pupil(field: np.ndarray, radius: float) -> np.ndarray:\n",
    "    \"\"\"\n",
    "    Applies a circular pupil mask to the field.\n",
    "\n",
    "    Args:\n",
    "        field (np.ndarray): The input field represented as a 2D array.\n",
    "        radius (float): Radius of the pupil in units consistent with field dimensions.\n",
    "    \n",
    "    Returns:\n",
    "        np.ndarray: The modified field with the circular pupil applied.\n",
    "    \"\"\"\n",
    "    height, width = field.shape\n",
    "    \n",
    "    # Create index grids for x and y\n",
    "    y, x = np.ogrid[:height, :width]\n",
    "    center = (height // 2, width // 2)\n",
    "    radii = np.sqrt((y - center[0])**2 + (x - center[1])**2)\n",
    "    \n",
    "    # Create a boolean mask based on the distance\n",
    "    mask = radii <= radius\n",
    "\n",
    "    # Apply mask by multiplication\n",
    "    return field * mask"
   ]
  },
  {
   "cell_type": "markdown",
   "id": "61550a94",
   "metadata": {},
   "source": [
    "`scalar` determines whether the result is scalar (if True), or vectorial (if False). `epsilon` is a small value added for numerical stability to avoid division by zero.\n",
    "\n",
    "`epsilon: float` suggests that `epsilon` should be of type `float`. `np.finfo(np.float32).eps` represents the smallest positive number for the `np.float32` type. `np.finfo(np.float32)` is used to get information about the properties of the 32-bit floating-point type like:"
   ]
  },
  {
   "cell_type": "code",
   "execution_count": 2,
   "id": "86ef5f1f",
   "metadata": {},
   "outputs": [
    {
     "name": "stdout",
     "output_type": "stream",
     "text": [
      "Machine parameters for float32\n",
      "---------------------------------------------------------------\n",
      "precision =   6   resolution = 1.0000000e-06\n",
      "machep =    -23   eps =        1.1920929e-07\n",
      "negep =     -24   epsneg =     5.9604645e-08\n",
      "minexp =   -126   tiny =       1.1754944e-38\n",
      "maxexp =    128   max =        3.4028235e+38\n",
      "nexp =        8   min =        -max\n",
      "smallest_normal = 1.1754944e-38   smallest_subnormal = 1.4012985e-45\n",
      "---------------------------------------------------------------\n",
      "\n"
     ]
    }
   ],
   "source": [
    "import numpy as np\n",
    "print(np.finfo(np.float32))"
   ]
  },
  {
   "cell_type": "markdown",
   "id": "5d5845dc",
   "metadata": {},
   "source": [
    "Therefore, `np.finfo(float32.eps).eps` is:"
   ]
  },
  {
   "cell_type": "code",
   "execution_count": 5,
   "id": "2c443909",
   "metadata": {},
   "outputs": [
    {
     "name": "stdout",
     "output_type": "stream",
     "text": [
      "epsilon = 1.1920929e-07\n"
     ]
    }
   ],
   "source": [
    "print(\"epsilon =\", np.finfo(np.float32).eps)"
   ]
  },
  {
   "cell_type": "markdown",
   "id": "0125811d",
   "metadata": {},
   "source": [
    "The `__call__` method is a compact function that defines how the point source generates a field when invoked. Inside the method, it registers `power`, `z`, `n`, and `amplitude` for making them be trained. Then, the core functionality is handled by calling the `point_source()` function. This function takes in the attributes of the class and returns a modified field.\n",
    "\n",
    "To integrate the `pupil` into an object of `PointSource`, you can use a lambda function to pass the `circular_pupil` function as the `pupil` argument:"
   ]
  },
  {
   "cell_type": "code",
   "execution_count": null,
   "id": "194139c0",
   "metadata": {},
   "outputs": [],
   "source": [
    "point_source = PointSource(\n",
    "    shape = (512, 512),\n",
    "    dx = 0.1,\n",
    "    spectrum = 0.55,\n",
    "    spectral_density = 1.0,\n",
    "    z = 100.0,\n",
    "    n = 1.33,\n",
    "    power = 1.0,\n",
    "    amplitude = 1.0,\n",
    "    pupil = lambda field: circular_pupil(field, radius = 50),\n",
    "    scalar = True)"
   ]
  },
  {
   "cell_type": "markdown",
   "id": "a28fc470",
   "metadata": {},
   "source": [
    "#### **Class 2:ObjectivePointSource**"
   ]
  },
  {
   "cell_type": "markdown",
   "id": "72187ad3",
   "metadata": {},
   "source": [
    "*Source Code*"
   ]
  },
  {
   "cell_type": "code",
   "execution_count": null,
   "id": "b15204cc",
   "metadata": {},
   "outputs": [],
   "source": [
    "class ObjectivePointSource(nn.Module):\n",
    "    \"\"\"\n",
    "    Generates field due to a point source defocused by an amount ``z`` away from\n",
    "    the focal plane, just after passing through a lens with focal length ``f``\n",
    "    and numerical aperture ``NA``.\n",
    "\n",
    "    The attributes ``f``, ``n``, ``NA``, and ``power`` can be learned by using\n",
    "    ``chromatix.utils.trainable``.\n",
    "\n",
    "    Attributes:\n",
    "        shape: The shape (height and width) of the ``Field`` to be created.\n",
    "        dx: The spacing of the samples of the ``Field``.\n",
    "        spectrum: The wavelengths included in the ``Field`` to be created.\n",
    "        spectral_density: The weights of each wavelength in the ``Field`` to\n",
    "            be created.\n",
    "        f: Focal length of the objective lens.\n",
    "        n: Refractive index.\n",
    "        NA: The numerical aperture of the objective lens.\n",
    "        power: The total power that the result should be normalized to,\n",
    "            defaults to 1.0.\n",
    "        amplitude: The amplitude of the electric field. For ``ScalarField`` this\n",
    "            doesnt do anything, but it is required for ``VectorField`` to set\n",
    "            the polarization.\n",
    "        offset: The offset (y and x) in spatial coordinates of the point source.\n",
    "            Defaults to (0, 0) for no offset (a centered point source).\n",
    "        scalar: Whether the result should be ``ScalarField`` (if True) or\n",
    "            ``VectorField`` (if False). Defaults to True.\n",
    "    \"\"\"\n",
    "\n",
    "    shape: Tuple[int, int]\n",
    "    dx: Union[float, Array]\n",
    "    spectrum: Union[float, Array]\n",
    "    spectral_density: Union[float, Array]\n",
    "    f: Union[float, Callable[[PRNGKey], float]]\n",
    "    n: Union[float, Callable[[PRNGKey], float]]\n",
    "    NA: Union[float, Callable[[PRNGKey], float]]\n",
    "    power: Union[float, Callable[[PRNGKey], float]] = 1.0\n",
    "    amplitude: Union[float, Array, Callable[[PRNGKey], Array]] = 1.0\n",
    "    offset: Union[Array, Tuple[float, float]] = (0.0, 0.0)\n",
    "    scalar: bool = True\n",
    "\n",
    "    @nn.compact\n",
    "    def __call__(self, z: float) -> Field:\n",
    "        f = register(self, \"f\")\n",
    "        n = register(self, \"n\")\n",
    "        NA = register(self, \"NA\")\n",
    "        power = register(self, \"power\")\n",
    "        amplitude = register(self, \"amplitude\")\n",
    "        offset = register(self, \"offset\")\n",
    "\n",
    "        return objective_point_source(\n",
    "            self.shape,\n",
    "            self.dx,\n",
    "            self.spectrum,\n",
    "            self.spectral_density,\n",
    "            z,\n",
    "            f,\n",
    "            n,\n",
    "            NA,\n",
    "            power,\n",
    "            amplitude,\n",
    "            offset,\n",
    "            self.scalar,\n",
    "        )"
   ]
  },
  {
   "cell_type": "markdown",
   "id": "7ddca203",
   "metadata": {},
   "source": [
    "*Explanation*"
   ]
  },
  {
   "cell_type": "markdown",
   "id": "b6869dd3",
   "metadata": {},
   "source": [
    "This class is designed with the defined function `object_point_source` to simulate a field in the image space of a lens from a point source in the object space of the lens, and the point source is positioned a distance `z` away from the focal plane in the object space. In other words, if `z = 0`, the point source is at the focal plane in the object space of the lens, and the returned field by this class is a plane wave.\n",
    "\n",
    "Compared to the `PointSource` class, this class has the same structure and takes similar attributes. In this class, `z` represents the distance between the position of the point source and the focal plane of the lens, and it's passed as an argument to the `__call__` method rather than an attribute of the class, so that it's not trainable now, but it can be varied dynamically without changing the whole object. Additionally, the `pupil` attribute in the last class is replaced by `NA` which is the Numerical Aperture of the lens. NA is a dimensionless number which characterizes the range of angles over which the system can accept. It is defined by:\n",
    "\n",
    "$$ NA = n \\cdot \\sin(\\theta) \\tag{2.2.22}$$\n",
    "\n",
    "Where $n$ is the refractive index and $\\theta$ is the half angle of the maximun cane of light as shown in the figure below:\n",
    "\n",
    "[<center><img src=\"Numerical_aperture.jpg\" width=\"400\"/></center>](attachment:Numerical_aperture.jpg)\n",
    "\n",
    "`NA` could be either learned from a model training or a fixed value. And this class has a new attribute `offset`. It represents the offset of the point source in $x-y$ plane, allowing the lens to be illuminated by the point source from all angles. Besides, other attributes remain the same as in the last class.\n",
    "\n",
    "The `__call__` method in this class takes the additional `z` as input and registers `f`, `n`, `NA`, `power`, `amplitude`, and `offset` as trainable parameters, indicating that the can be learned to optimize. Finally, It calls the function `objective_point_source` to compute and output the output field."
   ]
  },
  {
   "cell_type": "markdown",
   "id": "79981cb1",
   "metadata": {},
   "source": [
    "#### **Class 3:PlaneWave**"
   ]
  },
  {
   "cell_type": "markdown",
   "id": "00b95aa9",
   "metadata": {},
   "source": [
    "*Source Code*"
   ]
  },
  {
   "cell_type": "code",
   "execution_count": null,
   "id": "d597faf8",
   "metadata": {},
   "outputs": [],
   "source": [
    "class PlaneWave(nn.Module):\n",
    "    \"\"\"\n",
    "    Generates plane wave of given ``phase`` and ``power``.\n",
    "\n",
    "    Can also be given ``pupil`` and ``kykx`` vector to control the angle of the\n",
    "    plane wave.\n",
    "\n",
    "    The attributes ``kykx``, ``power``, and ``amplitude`` can be learned by\n",
    "    using ``chromatix.utils.trainable``.\n",
    "\n",
    "    Attributes:\n",
    "        shape: The shape (height and width) of the ``Field`` to be created.\n",
    "        dx: The spacing of the samples of the ``Field``.\n",
    "        spectrum: The wavelengths included in the ``Field`` to be created.\n",
    "        spectral_density: The weights of each wavelength in the ``Field`` to\n",
    "            be created.\n",
    "        power: The total power that the result should be normalized to,\n",
    "            defaults to 1.0.\n",
    "        amplitude: The amplitude of the electric field. For ``ScalarField`` this\n",
    "            doesnt do anything, but it is required for ``VectorField`` to set\n",
    "            the polarization.\n",
    "        kykx: Defines the orientation of the plane wave. Should be an\n",
    "            array of shape `[2,]` in the format [ky, kx].\n",
    "        pupil: If provided, will be called on the field to apply a pupil.\n",
    "        scalar: Whether the result should be ``ScalarField`` (if True) or\n",
    "            ``VectorField`` (if False). Defaults to True.\n",
    "    \"\"\"\n",
    "\n",
    "    shape: Tuple[int, int]\n",
    "    dx: Union[float, Array]\n",
    "    spectrum: Union[float, Array]\n",
    "    spectral_density: Union[float, Array]\n",
    "    power: Union[float, Callable[[PRNGKey], float]] = 1.0\n",
    "    amplitude: Union[float, Array, Callable[[PRNGKey], Array]] = 1.0\n",
    "    kykx: Union[Array, Tuple[float, float]] = (0.0, 0.0)\n",
    "    pupil: Optional[Callable[[Field], Field]] = None\n",
    "    scalar: bool = True\n",
    "\n",
    "    @nn.compact\n",
    "    def __call__(self) -> Field:\n",
    "        kykx = register(self, \"kykx\")\n",
    "        power = register(self, \"power\")\n",
    "        amplitude = register(self, \"amplitude\")\n",
    "        return plane_wave(\n",
    "            self.shape,\n",
    "            self.dx,\n",
    "            self.spectrum,\n",
    "            self.spectral_density,\n",
    "            power,\n",
    "            amplitude,\n",
    "            kykx,\n",
    "            self.pupil,\n",
    "            self.scalar,\n",
    "        )"
   ]
  },
  {
   "cell_type": "markdown",
   "id": "ed48d0d0",
   "metadata": {},
   "source": [
    "*Explanation*"
   ]
  },
  {
   "cell_type": "markdown",
   "id": "7bf456dd",
   "metadata": {},
   "source": [
    "This class is defined to simulate a plane wave with given attributes and the function `plane_wave`. It takes nine attributes in total, in which, `kykx` represents the wavevector of the plane wave, indicating the wave's orientation, other attributes are the same as their counterparts in the class `PointSource`.\n",
    "\n",
    "Typically, a plane wave in Cartesian coordinates can be expressed as:\n",
    "\n",
    "$$ E(x, y, z) = E_0 \\cdot exp[i(k_xx+k_yy+k_zz)] \\tag{2.2.23}$$\n",
    "$$ \\vec{k} = \\vec{k_x} + \\vec{k_y} + \\vec{k_z} \\tag{2.2.24}$$\n",
    "$$ k = \\sqrt{(k_x^2 + k_y^2 + k_z^2)} \\tag{2.2.25}$$\n",
    "\n",
    "where $E_0$ represents the amplitude of this plane wave. $exp[i(k_xx+k_yy+k_zz)]$ represent the phase of this plane wave. Since $z$ direction is the propagation direction of the wave, by changing $k_x$ and $k_y$, one can change the orientation of the wave.\n",
    "\n",
    "Then, the `__call__` method registers `kykx`, `power`, and `amplitude`, so that they can be optimized and learned during training process. The method finally calls the `plane_wave` function to generate the field."
   ]
  },
  {
   "cell_type": "markdown",
   "id": "d02f6e69",
   "metadata": {},
   "source": [
    "#### **Class 4: GenericField**"
   ]
  },
  {
   "cell_type": "markdown",
   "id": "40103a00",
   "metadata": {},
   "source": [
    "*Source Code*"
   ]
  },
  {
   "cell_type": "code",
   "execution_count": null,
   "id": "1fc4b128",
   "metadata": {},
   "outputs": [],
   "source": [
    "class GenericField(nn.Module):\n",
    "    \"\"\"\n",
    "    Generates field with arbitrary ``phase`` and ``amplitude``.\n",
    "\n",
    "    Can also be given ``pupil``.\n",
    "\n",
    "    The attributes ``amplitude``, ``phase``, and ``power`` can be learned by\n",
    "    using ``chromatix.utils.trainable``.\n",
    "\n",
    "    Attributes:\n",
    "        dx: The spacing of the samples of the ``Field``.\n",
    "        spectrum: The wavelengths included in the ``Field`` to be created.\n",
    "        spectral_density: The weights of each wavelength in the ``Field`` to\n",
    "            be created.\n",
    "        amplitude: The amplitude of the field with shape `(B... H W C [1 | 3])`.\n",
    "        phase: The phase of the field with shape `(B... H W C [1 | 3])`.\n",
    "        power: The total power that the result should be normalized to,\n",
    "            defaults to 1.0.\n",
    "        pupil: If provided, will be called on the field to apply a pupil.\n",
    "        scalar: Whether the result should be ``ScalarField`` (if True) or\n",
    "            ``VectorField`` (if False). Defaults to True.\n",
    "    \"\"\"\n",
    "\n",
    "    dx: Union[float, Array]\n",
    "    spectrum: Union[float, Array]\n",
    "    spectral_density: Union[float, Array]\n",
    "    amplitude: Union[Array, Callable[[PRNGKey], Array]]\n",
    "    phase: Union[Array, Callable[[PRNGKey], Array]]\n",
    "    power: Union[float, Callable[[PRNGKey], float]] = 1.0\n",
    "    pupil: Optional[Callable[[Field], Field]] = None\n",
    "    scalar: bool = True\n",
    "\n",
    "    @nn.compact\n",
    "    def __call__(self) -> Field:\n",
    "        amplitude = register(self, \"amplitude\")\n",
    "        phase = register(self, \"phase\")\n",
    "        power = register(self, \"power\")\n",
    "\n",
    "        return generic_field(\n",
    "            self.dx,\n",
    "            self.spectrum,\n",
    "            self.spectral_density,\n",
    "            amplitude,\n",
    "            phase,\n",
    "            power,\n",
    "            self.pupil,\n",
    "            self.scalar,\n",
    "        )"
   ]
  },
  {
   "cell_type": "markdown",
   "id": "e4bb5f02",
   "metadata": {},
   "source": [
    "*Explanation*"
   ]
  },
  {
   "cell_type": "markdown",
   "id": "7b2276ad",
   "metadata": {},
   "source": [
    "This is a class built upon the `generic_field` function that can be used to generate an electromagnetic field with arbitrary amplitude and phase. Among the attributes, `amplitude`, `phase`, and `power` are trainable, thus, these values can be optimized during a learning process. \n",
    "\n",
    "Because this generic field is based on the arbitrary `phase` and `amplitude` which means that the shape of the field is also determined by the `phase` and `amplitude`, the parameter `shape` is inferred from the dimensions of the `phase` and `amplitude` rather than given as an attribute. Other attributes work as the same as their counterpart in the `PointSource` class. \n",
    "\n",
    "The `__call__` method takes charge to register `amplitude`, `phase`, `power` and call the `generic_field` function to generate fields."
   ]
  },
  {
   "cell_type": "markdown",
   "id": "dff01318",
   "metadata": {},
   "source": [
    "### **Module 10: utils**"
   ]
  },
  {
   "cell_type": "markdown",
   "id": "5f653771",
   "metadata": {},
   "source": [
    "This module contains a class and several functions that are frequently used or called in the previous modules. They essential for training attributes in the previous classes."
   ]
  },
  {
   "cell_type": "markdown",
   "id": "fb1abde8",
   "metadata": {},
   "source": [
    "#### **Imports**"
   ]
  },
  {
   "cell_type": "markdown",
   "id": "b3300259",
   "metadata": {},
   "source": [
    "*Source Code*"
   ]
  },
  {
   "cell_type": "code",
   "execution_count": 4,
   "id": "93842030",
   "metadata": {},
   "outputs": [],
   "source": [
    "from dataclasses import dataclass\n",
    "from typing import Any, Callable\n",
    "\n",
    "from chex import Array, PRNGKey\n",
    "from flax import linen as nn"
   ]
  },
  {
   "cell_type": "markdown",
   "id": "7050d4ba",
   "metadata": {},
   "source": [
    "*Explanation*"
   ]
  },
  {
   "cell_type": "markdown",
   "id": "d084f5f1",
   "metadata": {},
   "source": [
    "`from dataclasses import dataclass` imports a special function `dataclass` which is also called a decorator. A decorator is a special kind of function that takes another function or method as input, wraps it in additional functionality without changing the input function's core functionality, and then returns the modified function. `@decorator_name` is used as a syntactic shortcut to apply decorators.\n",
    "\n",
    "For example:"
   ]
  },
  {
   "cell_type": "code",
   "execution_count": 5,
   "id": "dc7c1b1e",
   "metadata": {},
   "outputs": [
    {
     "name": "stdout",
     "output_type": "stream",
     "text": [
      "This output is from the decorator\n",
      "Sum = 3\n",
      "We are added functionality\n"
     ]
    }
   ],
   "source": [
    "def a_decorator(func):\n",
    "    def wrap(x, y):\n",
    "        print(\"This output is from the decorator\")\n",
    "        func(x, y)\n",
    "        print(\"We are added functionality\")\n",
    "    return wrap\n",
    "\n",
    "@a_decorator\n",
    "def add_output(x, y):\n",
    "    return print(\"Sum =\",x + y)\n",
    "\n",
    "add_output(1, 2)"
   ]
  },
  {
   "cell_type": "markdown",
   "id": "775e2073",
   "metadata": {},
   "source": [
    "In this example, the function `a_decorator` is the decorator function that takes a function as input and returns a wrapped function `wrap`. The `wrap` function that defined inside the `a_decorator` function is responsible for adding extra functionality to the input function. Therefore, this `wrap` function is actually the modified function that is going to be returned by the `a_decorator` function.\n",
    "\n",
    "Then, a new function `add_output(x, y)` is created with the decorator by adding `@a_decorator` above the `add_output(x, y)` function. Now, when we call the `add_output(x, y)`, what we actually call is `wrap(x, y)`. Therefore, the function defined inside a decorator function (`wrap(x, y)` in this case) must have the same arguments as the function that is decorated (`add_output(x, y)` in this case).\n",
    "\n",
    "`dataclass` is such a decorated function that is provided by the module `dataclasses`. The `dataclasses` module is part of the standard library in Python. It only offers one decorator which is `dataclass` and several functions for automatically adding generated special methods such as `__init__`, `__repr__`, and `__eq__` by default.\n",
    "\n",
    "The benefit of using `@dataclass` is that it simplifies the creation of classes. For example, this is a class created in a traditional way:"
   ]
  },
  {
   "cell_type": "code",
   "execution_count": null,
   "id": "118e5874",
   "metadata": {},
   "outputs": [
    {
     "name": "stdout",
     "output_type": "stream",
     "text": [
      "AddClass(x=1, y=2)\n",
      "3\n"
     ]
    }
   ],
   "source": [
    "class AddClass:\n",
    "    # Constructor Method\n",
    "    def __init__(self, x, y):\n",
    "        self.x = x\n",
    "        self.y = y\n",
    "\n",
    "    # Representation Method\n",
    "    def __repr__(self):\n",
    "        return f\"AddClass(x={self.x}, y={self.y})\" # An f-string represting a object\n",
    "    \n",
    "    # Equality Method\n",
    "    def __eq__(self, other):\n",
    "        if isinstance(other, AddClass):\n",
    "            return self.x == other.x and self.y == other.y\n",
    "        return False\n",
    "\n",
    "    def add(self):\n",
    "       return self.x + self.y\n",
    "    \n",
    "# Create an object of AddClass\n",
    "add_class = AddClass(1, 2)\n",
    "print(add_class)\n",
    "print(add_class.add())"
   ]
  },
  {
   "cell_type": "markdown",
   "id": "b90d389c",
   "metadata": {},
   "source": [
    "In this example, a class named `AddClass` is created. It includes four methods. The first method `__init__` is a constructor method for initializing object attributes. This method is automatically called whenever a new `AddClass` object is created. Inside this method, `self.x = x` and `self.y = y` assign the values of `x` and `y` to the object attributes `self.x` and `self.y`, so that when the object is created like `add_class = AddClass(1, 2)`, the method sets `self.x = 1` and `self.y = 2`.\n",
    "\n",
    "The second method `__repr__` is the representation method which is to return a string to represent the object. `f\"AddClass(x={self.x}, y={self.y})\"` is an f-string that formats the output to `a` and `b` values inside the string. Then, when you print an object like `print(add_class)`, the object's string representation will be output like `AddClass(x=1, y=2)`.\n",
    "\n",
    "The third method `__eq__` is the equality method, which does equality comparison based on attribute values. `other` is another object of this class or another class which is being compared to the current object represented as `self`. In this case, only when the two objects have the same attributes and are of the same class, the method will return `Ture`. For example:"
   ]
  },
  {
   "cell_type": "code",
   "execution_count": 2,
   "id": "20742a71",
   "metadata": {},
   "outputs": [
    {
     "name": "stdout",
     "output_type": "stream",
     "text": [
      "add_class=add_class1 is: True\n",
      "add_class=add_class2 is: False\n"
     ]
    }
   ],
   "source": [
    "add_class1 = AddClass(1, 2)\n",
    "add_class2 = AddClass(3, 4)\n",
    "\n",
    "print(\"add_class=add_class1 is:\", add_class == add_class1)\n",
    "print(\"add_class=add_class2 is:\", add_class == add_class2)"
   ]
  },
  {
   "cell_type": "markdown",
   "id": "24c2d850",
   "metadata": {},
   "source": [
    "Thanks to the decorator `@dataclass`, we don't need to write all the three methods line by line, but add the decorator above this class like this:"
   ]
  },
  {
   "cell_type": "code",
   "execution_count": 2,
   "id": "e14559be",
   "metadata": {},
   "outputs": [
    {
     "name": "stdout",
     "output_type": "stream",
     "text": [
      "AddClass1(x=1, y=2)\n",
      "add_class_1 = add_class_2 is: False\n",
      "result of add_class_1.add() = 3\n"
     ]
    }
   ],
   "source": [
    "from dataclasses import dataclass\n",
    "\n",
    "@dataclass\n",
    "class AddClass1:\n",
    "    # It's necessary to define the type of the attributes\n",
    "    # Otherwise, a name error will be raised\n",
    "    x: int\n",
    "    y: int\n",
    "    def add(self):\n",
    "        return self.x + self.y\n",
    "    \n",
    "add_class_1 = AddClass1(1, 2)\n",
    "add_class_2 = AddClass1(3, 4)\n",
    "print(add_class_1)\n",
    "print(\"add_class_1 = add_class_2 is:\", add_class_1 == add_class_2)\n",
    "print(\"result of add_class_1.add() =\", add_class_1.add())"
   ]
  },
  {
   "cell_type": "markdown",
   "id": "d7d82322",
   "metadata": {},
   "source": [
    "As the code shows, the decorator `@dataclass` simplifies the code by eliminating the need for boilerplate.\n",
    "\n",
    "The `Any` type means literally any type. Once a variable or parameter is indicated as `Any`, it can be any type like `str`, `int`, `float`, `array`, etc."
   ]
  },
  {
   "cell_type": "markdown",
   "id": "982e64df",
   "metadata": {},
   "source": [
    "#### **Class 1: Trainable**"
   ]
  },
  {
   "cell_type": "markdown",
   "id": "49743d60",
   "metadata": {},
   "source": [
    "*Source Code*"
   ]
  },
  {
   "cell_type": "code",
   "execution_count": 5,
   "id": "234e9240",
   "metadata": {},
   "outputs": [],
   "source": [
    "@dataclass\n",
    "class Trainable:\n",
    "    \"\"\"\n",
    "    Wrapper class to signal to a Chromatix element that ``val`` should be the\n",
    "    initialization for a trainable parameter.\n",
    "    \"\"\"\n",
    "\n",
    "    val: Any"
   ]
  },
  {
   "cell_type": "markdown",
   "id": "2b04f600",
   "metadata": {},
   "source": [
    "*Explanation*"
   ]
  },
  {
   "cell_type": "markdown",
   "id": "73d7de13",
   "metadata": {},
   "source": [
    "This `Trainable` class is used to mark and store a value (`val`) as a trainable parameter which should be learned and optimized. The `Any` type makes this `val` flexible to be any type. It can be easily used like:"
   ]
  },
  {
   "cell_type": "code",
   "execution_count": 6,
   "id": "3122f45d",
   "metadata": {},
   "outputs": [
    {
     "name": "stdout",
     "output_type": "stream",
     "text": [
      "a = Trainable(val=0.1)\n"
     ]
    }
   ],
   "source": [
    "# Mark `a` as a trainable parameter and initialize it to 0.1\n",
    "a = Trainable(0.1)\n",
    "\n",
    "print(\"a =\", a)"
   ]
  },
  {
   "cell_type": "markdown",
   "id": "d876cdd7",
   "metadata": {},
   "source": [
    "#### **Function 1: trainable**"
   ]
  },
  {
   "cell_type": "markdown",
   "id": "8bcb2fd9",
   "metadata": {},
   "source": [
    "*Source Code*"
   ]
  },
  {
   "cell_type": "code",
   "execution_count": null,
   "id": "50a6367c",
   "metadata": {},
   "outputs": [],
   "source": [
    "def trainable(x: Any, rng: bool = True) -> Trainable:\n",
    "    \"\"\"\n",
    "    Returns ``x`` wrapped in a ``Trainable`` object to signal to a\n",
    "    Chromatix element that ``x`` should be used to initialize a trainable\n",
    "    parameter. If ``x`` is already a function, then this function will be\n",
    "    used as the initializer. If ``x`` is a function that does not accept a\n",
    "    ``jax.random.PRNGKey``, then setting ``rng`` to ``False`` will wrap ``x``\n",
    "    so that the arguments for ``x`` are accepted after the ``PRNGKey`` argument.\n",
    "    This is useful since many Chromatix functions you might want to use as\n",
    "    initialization functions don't accept ``PRNGKey`` arguments. Note that this\n",
    "    argument does not matter if ``x`` is already an ``Array`` that can be used\n",
    "    as an initialization directly.\n",
    "\n",
    "    When a supported Chromatix element is constructed with this wrapper as its\n",
    "    attribute, it will automatically turn that attribute into a parameter to\n",
    "    be optimized. Thus, this function is a convenient way to set the attribute\n",
    "    of an optical element in Chromatix as a trainable parameter initialized\n",
    "    to the value defined by ``x``. Any element that has potentially trainable\n",
    "    parameters will be documented as such.\n",
    "\n",
    "    For example, we can initialize a trainable phase mask (allowing for the\n",
    "    optimization of the pixels of the phase mask for arbitrary tasks) with this\n",
    "    function in two different ways:\n",
    "\n",
    "    ```python\n",
    "    from chromatix.utils import trainable\n",
    "    from chromatix.functional import potato_chip\n",
    "    from chromatix.elements import PhaseMask\n",
    "\n",
    "    phase_mask = PhaseMask(\n",
    "        phase=trainable(\n",
    "            potato_chip(\n",
    "                shape=(3840, 3840),\n",
    "                spacing=0.3,\n",
    "                wavelength=0.5,\n",
    "                n=1.33,\n",
    "                f=100,\n",
    "                NA=0.8\n",
    "            )\n",
    "        )\n",
    "    )\n",
    "    params = phase_mask.init()\n",
    "    ```\n",
    "\n",
    "    This example directly calls ``potato_chip`` to create a trainable phase\n",
    "    mask with the given shape. If there is a mismatch between the shape of an\n",
    "    incoming ``Field`` and the shape of the ``phase``, then an error will occur\n",
    "    at runtime. For many applications, the shape of the ``Field`` will be known\n",
    "    and fixed, so this style of initialization is convenient. The second way is\n",
    "    slightly more complex but also more robust to these shape issues, and does\n",
    "    not require declaring the shapes twice:\n",
    "\n",
    "    ```python\n",
    "    from chromatix.utils import trainable\n",
    "    from chromatix.functional import potato_chip\n",
    "    from chromatix.elements import PhaseMask\n",
    "    from functools import partial\n",
    "\n",
    "    phase_mask = PhaseMask(\n",
    "        phase=trainable(\n",
    "            partial(\n",
    "                potato_chip, spacing=0.3, wavelength=0.5, n=1.33, f=100, NA=0.8\n",
    "            ),\n",
    "            rng=False\n",
    "        )\n",
    "    )\n",
    "    ```\n",
    "\n",
    "    When ``PhaseMask`` initializes its parameters, it automatically passes\n",
    "    a ``jax.random.PRNGKey`` and the spatial shape of the input ``Field``,\n",
    "    which were ignored in the previous example because the initial ``phase``\n",
    "    was an ``Array`` constructed by ``potato_chip``. This example uses\n",
    "    ``functools.partial`` to create a phase mask initialization function that\n",
    "    only accepts a shape, which is wrapped by ``trainable`` to also accept\n",
    "    a ``jax.random.PRNGKey`` as its first argument. Now, when ``PhaseMask``\n",
    "    initializes its parameters, it will call this initialization function,\n",
    "    which uses the shape of the input ``Field`` to calculate the initial phase.\n",
    "    This matches the signature of the common ``jax.nn.initializers``, which\n",
    "    also accept a ``jax.random.PRNGKey`` and a shape.\n",
    "\n",
    "    Args:\n",
    "        x: The value that will be used to initialize the trainable\n",
    "            parameter.\n",
    "        rng: Whether the initializer function ``x`` needs a ``PRNGKey`` or not.\n",
    "            If ``True``, assumes that the function ``x`` has a ``PRNGKey`` as\n",
    "            its first argument, and does not modify ``x``. If ``False``, wraps\n",
    "            the initializer function ``x`` to ignore the ``PRNGKey`` argument\n",
    "            passed by Flax. If ``x`` is not callable, then this argument doesn't\n",
    "            matter and is ignored. Defaults to ``True``.\n",
    "\n",
    "    Returns:\n",
    "        A function that takes a ``jax.random.PRNGKey`` as its first parameter.\n",
    "    \"\"\"\n",
    "    init = x\n",
    "    if callable(x) and not rng:\n",
    "\n",
    "        def no_rng_x(key: PRNGKey, *args, **kwargs) -> Array:\n",
    "            return x(*args, **kwargs)\n",
    "\n",
    "        init = no_rng_x\n",
    "    return Trainable(init)"
   ]
  },
  {
   "cell_type": "markdown",
   "id": "800bb1d4",
   "metadata": {},
   "source": [
    "*Explanation*"
   ]
  },
  {
   "cell_type": "markdown",
   "id": "0a6c9df0",
   "metadata": {},
   "source": [
    "This function wraps an input `x` into a `Trainable` object to signal to a `Chromatix` element (lenses, sensors and so on, defined in the previous modules) that `x` should be used to initialize a trainable parameter.\n",
    "\n",
    "Depending on the type of `x`, the `trainable` function handle it differently. If `x` is an array or a direct value, it will be stored in an object of `Trainable` class and assigned to a parameter to initialize the parameter. \n",
    "\n",
    "When `x` is a function (a callable), it acts as an initializer function which produces an initial value to initialize a parameter based on its inputs like the `potato_chip` function displayed in the source code. \n",
    "\n",
    "The second input `rng` of the `trainable` function is to determine whether `x` requires a `PRNGKey` when it's an initializer function. When `rng=False`, the `no_rng_x` function defined inside the if-clause will be called to remove `PRNGKey` from `x`'s inputs. Then, this `no_rng_x` will be assigned to `init` and returned as an attribute of a `Trainable` object. "
   ]
  },
  {
   "cell_type": "markdown",
   "id": "87146fbb",
   "metadata": {},
   "source": [
    "#### **Function 2: register**"
   ]
  },
  {
   "cell_type": "markdown",
   "id": "a58b1234",
   "metadata": {},
   "source": [
    "*Source Code*"
   ]
  },
  {
   "cell_type": "code",
   "execution_count": 7,
   "id": "f8b95ef9",
   "metadata": {},
   "outputs": [],
   "source": [
    "def register(\n",
    "    module: nn.Module,\n",
    "    name: str,\n",
    "    *args,\n",
    ") -> Any:\n",
    "    \"\"\"\n",
    "    Registers the attribute `module.{name}` as a Flax parameter or variable\n",
    "    depending on whether the attribute is of type `Trainable`. Only for internal\n",
    "    use in Chromatix elements.\n",
    "\n",
    "    The name of the parameter becomes `_{name}` in the Flax variable dictionary\n",
    "    (either under `\"params\"` or `\"state\"`). Supports initializing both with\n",
    "    callables (*args are passed as arguments) and fixed values.\n",
    "    \"\"\"\n",
    "    try:\n",
    "        init = getattr(module, name)\n",
    "    except AttributeError:\n",
    "        print(\"Variable does not exist.\")\n",
    "\n",
    "    if isinstance(init, Trainable):\n",
    "        return module.param(f\"_{name}\", parse_init(init.val), *args)\n",
    "    else:\n",
    "        return module.variable(\n",
    "            \"state\",\n",
    "            f\"_{name}\",\n",
    "            parse_init(init),\n",
    "            *args,\n",
    "        ).value\n"
   ]
  },
  {
   "cell_type": "markdown",
   "id": "443d09a9",
   "metadata": {},
   "source": [
    "*Explanation*"
   ]
  },
  {
   "cell_type": "markdown",
   "id": "b4623c93",
   "metadata": {},
   "source": [
    "This function is most frequently used in the previous classes, since it's used to register attributes of a Flax module, namely the classes defined with `nn.Module` after the class name, as trainable parameters or fixed state variables. This function is intended to integrate those classes with `nn.Module` into the Flax framework.\n",
    "\n",
    "The parameter `module: nn.Module` means this input should be an object of a Flax module such as an object of the `PointSource` class. `name` represents the name of the attribute to be registered. `*args` is additional arguments that may be needed for initialization. Therefore, to register an attribute inside a subclass of `nn.Module`, you just type `register(self, attribute_name)`, where `self` in the class represents the object of this class.\n",
    "\n",
    "The `try` and `except` keywords are part of Python's exception handling mechanism. Inside the `try` block, you can put the code that might raise an error. If the code inside `try` block does raise an error, the code inside the `except` block will be executed. For example:"
   ]
  },
  {
   "cell_type": "code",
   "execution_count": 22,
   "id": "bddf79ba",
   "metadata": {},
   "outputs": [
    {
     "name": "stdout",
     "output_type": "stream",
     "text": [
      "Error\n",
      "a = 1.0\n"
     ]
    }
   ],
   "source": [
    "for i in range(2):    \n",
    "    try:\n",
    "        a = 1 / i\n",
    "        print(\"a =\", a)\n",
    "    except:\n",
    "        print(\"Error\")"
   ]
  },
  {
   "cell_type": "markdown",
   "id": "9bcc0964",
   "metadata": {},
   "source": [
    "The `getattr(module, name)` retrieves the attribute from the given module (an object of a class) like this:"
   ]
  },
  {
   "cell_type": "code",
   "execution_count": 27,
   "id": "bb72ed83",
   "metadata": {},
   "outputs": [
    {
     "name": "stdout",
     "output_type": "stream",
     "text": [
      "The retrieved attribute = 2\n"
     ]
    }
   ],
   "source": [
    "from dataclasses import dataclass\n",
    "\n",
    "@dataclass\n",
    "class AddClass1:\n",
    "    # It's necessary to define the type of the attributes\n",
    "    # Otherwise, a name error will be raised\n",
    "    x: int\n",
    "    y: int\n",
    "    def add(self):\n",
    "        return self.x + self.y\n",
    "\n",
    "add_class_attr = AddClass1(2, 3)\n",
    "attr = getattr(add_class_attr, 'x')\n",
    "print(\"The retrieved attribute =\", attr)"
   ]
  },
  {
   "cell_type": "markdown",
   "id": "8382d85e",
   "metadata": {},
   "source": [
    "Therefore, the `try`-`except` part is responsible for retrieving attributes from the given module, if the attribute does not exist, then raises an error. The retrieve attribute is then assigned to `init`.\n",
    "\n",
    "Next an if-clause is applied to judge whether the `init` is a `Trainable` or not. If it's trainable, then `module.param()` will be called to register this trainable parameter under `\"params\"` collection within Flax's internal dictionary. Those registered attributes will be optimized during training by Flax. \n",
    "\n",
    "In the source code, the first input `f\"_{name}\"` means that the name of this parameter will be `_{name}` like `_attr`. The second input is `parse_init(init.val)`. This function returns a function that returns `init.val` if `init.val` is not a function, if `init.val` is a function, then it will be returned directly. `*args` is additionally needed arguments.\n",
    "\n",
    "If the attribute is not a `Trainable`, it is treated as a non-trainable state variable by calling `module.variable()`.\n",
    "\n",
    "`module.variable()` works similarly to `module.param()`. It registers the attribute as a state variable under `\"state\"` collection. The variable is not going to be trained. The `.value` is used to access the value of the variable. Therefore, in this case, the return is not the registered state variable, but just the value it holds."
   ]
  },
  {
   "cell_type": "markdown",
   "id": "efb0e7dd",
   "metadata": {},
   "source": [
    "#### **Function 3: parse_init**"
   ]
  },
  {
   "cell_type": "markdown",
   "id": "78d40eae",
   "metadata": {},
   "source": [
    "*Source Code*"
   ]
  },
  {
   "cell_type": "code",
   "execution_count": null,
   "id": "4da075b9",
   "metadata": {},
   "outputs": [],
   "source": [
    "def parse_init(x: Any) -> Callable:\n",
    "    \"\"\"\n",
    "    Returns a function that returns ``x`` if ``x`` is not a function, otherwise\n",
    "    simply returns the function ``x``.\n",
    "\n",
    "    Args:\n",
    "        x: The value or function that initializes a variable.\n",
    "\n",
    "    Returns:\n",
    "        A function that will be used as an initializer to a variable.\n",
    "    \"\"\"\n",
    "\n",
    "    def init(*args) -> Any:\n",
    "        return x\n",
    "\n",
    "    return x if callable(x) else init"
   ]
  },
  {
   "cell_type": "markdown",
   "id": "b36a2f9d",
   "metadata": {},
   "source": [
    "*Explanation*"
   ]
  },
  {
   "cell_type": "markdown",
   "id": "e77a35c4",
   "metadata": {},
   "source": [
    "This function simply defines an inner function `init()` to turn `x` into an initializer function when `x` is not a function.\n",
    "\n",
    "Therefore, regardless of whether `x` is a value or a function, the return is always a function that is used as an initializer in the `register` function."
   ]
  },
  {
   "cell_type": "markdown",
   "id": "a4ab00fe",
   "metadata": {},
   "source": [
    "## **Package 3: Functional**"
   ]
  },
  {
   "cell_type": "markdown",
   "id": "fcad1c06",
   "metadata": {},
   "source": [
    "This package is tightly connected to the Elements package. This package provides the building blocks (low-level functions) to construct elements (high-level components) in the Element package. Meanwhile, this package offers greater control and flexibility for custom configurations and possible improvements.\n",
    "\n",
    "These low-level functions are responsible for performing individual operations like computations and transformations for high-level components. The high-level components encapsulate certain low-level functions to become specific component like lenses, phase masks, and propagation mentioned in the last package. These components can have trainable attributes to make them possible for training and optimization in a neural network"
   ]
  },
  {
   "cell_type": "markdown",
   "id": "f12fddeb",
   "metadata": {},
   "source": [
    "### **Module 1: init**"
   ]
  },
  {
   "cell_type": "markdown",
   "id": "db9ac579",
   "metadata": {},
   "source": [
    "#### **Imports**"
   ]
  },
  {
   "cell_type": "markdown",
   "id": "bb8fb546",
   "metadata": {},
   "source": [
    "*Source Code*"
   ]
  },
  {
   "cell_type": "code",
   "execution_count": null,
   "id": "df94d028",
   "metadata": {},
   "outputs": [],
   "source": [
    "from .amplitude_masks import *\n",
    "from .convenience import optical_fft\n",
    "from .lenses import *\n",
    "from .phase_masks import *\n",
    "from .polarizers import *\n",
    "from .propagation import *\n",
    "from .pupils import *\n",
    "from .samples import *\n",
    "from .sensors import *\n",
    "from .sources import *"
   ]
  },
  {
   "cell_type": "markdown",
   "id": "6cc37952",
   "metadata": {},
   "source": [
    "*Explanation*"
   ]
  },
  {
   "cell_type": "markdown",
   "id": "2ce68143",
   "metadata": {},
   "source": [
    "Like the `__init__` module of the Element package, this `__init__` is also for package initialization, function aggregation and namespace management.\n",
    "\n",
    "This module tells Python that the directory should be treated as a package so that the modules and functions can be imported correctly. It also allows users to import this package simply by typing `import chromatix.functional` rather than import every function with corresponding commands. Besides, it simplifies imports by letting users can import functions without knowing the structure. For example, a user can directly import a function by typing: \n",
    "\n",
    "`from chromatix.functional import amplitude_change` \n",
    "\n",
    "instead of: \n",
    "\n",
    "`from chromatix.functional.amplitude_mask import amplitude_change`\n"
   ]
  },
  {
   "cell_type": "markdown",
   "id": "1016ef7a",
   "metadata": {},
   "source": [
    "### **Module 2: amplitude_masks**"
   ]
  },
  {
   "cell_type": "markdown",
   "id": "94ee7048",
   "metadata": {},
   "source": [
    "#### **Imports**"
   ]
  },
  {
   "cell_type": "markdown",
   "id": "6eae0dcb",
   "metadata": {},
   "source": [
    "*Source Code*"
   ]
  },
  {
   "cell_type": "code",
   "execution_count": null,
   "id": "5faa63b7",
   "metadata": {},
   "outputs": [],
   "source": [
    "import jax.numpy as jnp\n",
    "from chex import Array, assert_rank\n",
    "\n",
    "from ..field import Field\n",
    "from ..utils.shapes import _broadcast_2d_to_spatial\n",
    "\n",
    "__all__ = [\"amplitude_change\"]"
   ]
  },
  {
   "cell_type": "markdown",
   "id": "c7c6d25c",
   "metadata": {},
   "source": [
    "*Explanation*"
   ]
  },
  {
   "cell_type": "markdown",
   "id": "f2bc7501",
   "metadata": {},
   "source": [
    "`chex.Array` is kind of different from normal `Array`. `chex.Array` is designed to work within the JAX ecosystem, so, to create a `chex.Array`, it's better to use `jax.numpy` rather than `numpy`.\n",
    "\n",
    "`chex.assert_rank(array, rank)` ensures that an array has a specific rank (number of dimensions). If the `array`'s rank is not equal to `rank`, then an `AssertionError` will be returned:"
   ]
  },
  {
   "cell_type": "code",
   "execution_count": 40,
   "id": "324f5d13",
   "metadata": {},
   "outputs": [],
   "source": [
    "from chex import Array, assert_rank\n",
    "import jax.numpy as jnp\n",
    "\n",
    "an_array = jnp.array([[1, 2, 3], [4, 5, 6], [7, 8, 9]])\n",
    "\n",
    "assert_rank(an_array, 2)"
   ]
  },
  {
   "cell_type": "markdown",
   "id": "e7d0f6fb",
   "metadata": {},
   "source": [
    "`Field` is a container describing the chromatic light field at a 2D plane. It's defined as a class with four attributes which are `u` representing the complex field, `_dx` representing the spacing of the sample in `u` to discretizing a continuous field, `_spectrum` representing the wavelengths, and `_spectral_density` representing the weights of the wavelengths.\n",
    "\n",
    "The function `_broadcast_2d_to_spatial(x, ndim)` is used to broadcast the input 2D array `x` to an array with `ndim` dimensions. The additional dimensions are added as `1`s."
   ]
  },
  {
   "cell_type": "markdown",
   "id": "09c12561",
   "metadata": {},
   "source": [
    "#### **Function 1: amplitude_change**"
   ]
  },
  {
   "cell_type": "markdown",
   "id": "f79c8d76",
   "metadata": {},
   "source": [
    "*Source Code*"
   ]
  },
  {
   "cell_type": "code",
   "execution_count": 41,
   "id": "74600eae",
   "metadata": {},
   "outputs": [],
   "source": [
    "def amplitude_change(field: Field, amplitude: Array) -> Field:\n",
    "    \"\"\"\n",
    "    Perturbs ``field`` by ``amplitude``.\n",
    "\n",
    "    Returns a new ``Field`` with the result of the perturbation.\n",
    "\n",
    "    Args:\n",
    "        field: The complex field to be perturbed.\n",
    "        amplitude: The amplitude to apply.\n",
    "    \"\"\"\n",
    "    amplitude = _broadcast_2d_to_spatial(amplitude, field.ndim)\n",
    "    assert_rank(\n",
    "        amplitude,\n",
    "        field.ndim,\n",
    "        custom_message=\"Amplitude must have same ndim as incoming ``Field``.\",\n",
    "    )\n",
    "    return field * amplitude.astype(jnp.complex64)"
   ]
  },
  {
   "cell_type": "markdown",
   "id": "a96ec968",
   "metadata": {},
   "source": [
    "*Explanation*"
   ]
  },
  {
   "cell_type": "markdown",
   "id": "644ca51c",
   "metadata": {},
   "source": [
    "This function perturbs a `Field` object by a given `amplitude`. To perturb a `field` by a `amplitude`, you only need to multiply the `field` by the `amplitude` elements by elements. However, in Python, only when the two arrays have the same rank, the element-wise multiplication can be performed.\n",
    "\n",
    "A `field` has the shape of `(B... H W C [1 | 3])`, but a `amplitude`'s shape is `(H W)`. Therefore, they have different ranks, and the `amplitude` should be broadcast to the same rank as the `field` by calling the function `_broadcast_2d_to_spatial()`.\n",
    "\n",
    "Then, the function `assert_rank()` is called to make sure the broadcast `amplitude` has the same rank as the `field`. Finally, the perturbation is performed by multiplying `field` by the `amplitude`. `amplitude.astype(jnp.complex)` casts the `amplitude` array to a complex type `(jnp.complex64)` to match the type of `field`.\n",
    "\n",
    "Suppose we have a `field` and a `amplitude` like this:"
   ]
  },
  {
   "cell_type": "code",
   "execution_count": null,
   "id": "694b2c3a",
   "metadata": {},
   "outputs": [
    {
     "name": "stdout",
     "output_type": "stream",
     "text": [
      "The number of dimensions of the field = 5\n",
      "shape of field = (1, 3, 3, 1, 1)\n",
      "shape of amplitude = (3, 3)\n",
      "shape of broadcast_amp = (1, 3, 3, 1, 1)\n",
      "broadcast_amp of the type jnp.complex64 =\n",
      " [[[[[0.9+0.j]]\n",
      "\n",
      "   [[0.8+0.j]]\n",
      "\n",
      "   [[0.7+0.j]]]\n",
      "\n",
      "\n",
      "  [[[0.6+0.j]]\n",
      "\n",
      "   [[0.5+0.j]]\n",
      "\n",
      "   [[0.4+0.j]]]\n",
      "\n",
      "\n",
      "  [[[0.3+0.j]]\n",
      "\n",
      "   [[0.2+0.j]]\n",
      "\n",
      "   [[0.1+0.j]]]]]\n"
     ]
    }
   ],
   "source": [
    "from chromatix.utils import _broadcast_2d_to_spatial\n",
    "from chromatix.field import Field\n",
    "import jax.numpy as jnp\n",
    "\n",
    "# Create a 2D complex array (H, W)\n",
    "u_hw = jnp.array([[1 + 1j, 2 + 2j, 3 + 3j], \n",
    "                  [4 + 4j, 5 + 5j, 6 + 6j], \n",
    "                  [7 + 7j, 8 + 8j, 9 + 9j]])\n",
    "\n",
    "# Reshape to (1, H, W, 1, 1)\n",
    "u = u_hw[jnp.newaxis, :, :, jnp.newaxis, jnp.newaxis]\n",
    "\n",
    "field = Field(\n",
    "    u = u,\n",
    "    _dx = jnp.array([[0.01], [0.01]]),# Shape of _dx: (2, 1)\n",
    "    _spectrum = jnp.array([0.55]),\n",
    "    _spectral_density = jnp.array([1.0])\n",
    ")\n",
    "print(\"The number of dimensions of the field =\", field.ndim)\n",
    "print(\"shape of field =\", field.shape)\n",
    "\n",
    "# Define the amplitude\n",
    "amplitude = jnp.array([[0.9, 0.8, 0.7], [0.6, 0.5, 0.4], [0.3, 0.2, 0.1]])\n",
    "print(\"shape of amplitude =\", amplitude.shape)\n",
    "\n",
    "# Try _broadcast_2d_to_spatial\n",
    "broadcast_amp = _broadcast_2d_to_spatial(amplitude, field.ndim)\n",
    "print(\"shape of broadcast_amp =\", broadcast_amp.shape)\n",
    "print(\"broadcast_amp of the type jnp.complex64 =\\n\", broadcast_amp.astype(jnp.complex64))\n"
   ]
  },
  {
   "cell_type": "markdown",
   "id": "52502fe8",
   "metadata": {},
   "source": [
    "Then apply the `amplitude_mask` to the `field`:"
   ]
  },
  {
   "cell_type": "code",
   "execution_count": 42,
   "id": "3feab4ad",
   "metadata": {},
   "outputs": [
    {
     "name": "stdout",
     "output_type": "stream",
     "text": [
      "shape of the perturbed_field = (1, 3, 3, 1, 1)\n",
      "perturbed_field =\n",
      " Field(u=Array([[[[[0.9       +0.9j       ]],\n",
      "\n",
      "         [[1.6       +1.6j       ]],\n",
      "\n",
      "         [[2.1       +2.1j       ]]],\n",
      "\n",
      "\n",
      "        [[[2.4       +2.4j       ]],\n",
      "\n",
      "         [[2.5       +2.5j       ]],\n",
      "\n",
      "         [[2.4       +2.4j       ]]],\n",
      "\n",
      "\n",
      "        [[[2.1000001 +2.1000001j ]],\n",
      "\n",
      "         [[1.6       +1.6j       ]],\n",
      "\n",
      "         [[0.90000004+0.90000004j]]]]], dtype=complex64), _dx=Array([[0.01],\n",
      "       [0.01]], dtype=float32), _spectrum=Array([0.55], dtype=float32), _spectral_density=Array([1.], dtype=float32))\n"
     ]
    }
   ],
   "source": [
    "perturbed_field = amplitude_change(field, amplitude)\n",
    "print(\"shape of the perturbed_field =\", perturbed_field.shape)\n",
    "print(\"perturbed_field =\\n\", perturbed_field)"
   ]
  },
  {
   "cell_type": "markdown",
   "id": "f706c40f",
   "metadata": {},
   "source": [
    "`[2.1000001 +2.1000001j ]` and `[0.90000004+0.90000004j]` are due to floating-point precision limitations inherent in numerical computing, especially when working with 32-bit floats like `float32` and `complex64`.\n",
    "\n",
    "As the result shows, the `field` is perturbed. However, both the real part and the imaginary part of the field is modified which is wrong because only the real part represents the amplitude and the imaginary part represents the phase of the field."
   ]
  },
  {
   "cell_type": "markdown",
   "id": "ca97cabe",
   "metadata": {},
   "source": [
    "*Correction*"
   ]
  },
  {
   "cell_type": "markdown",
   "id": "63d77ad3",
   "metadata": {},
   "source": [
    "Since the original version of the `amplitude_change` perturbed both the amplitude and the phase of the field, it's necessary to do some revision:"
   ]
  },
  {
   "cell_type": "code",
   "execution_count": 43,
   "id": "f7ea2a9b",
   "metadata": {},
   "outputs": [],
   "source": [
    "def amplitude_change_revised(field: Field, amplitude: Array):\n",
    "    \"\"\"\n",
    "    Perturbs only the ``amplitude`` of the field with ``amplitude.\n",
    "\n",
    "    Returns a perturbed ``field`` with modified amplitude and original phase.\n",
    "\n",
    "    Args:\n",
    "        field: an object of the class ``Field`` with the complex ``field.u`` to be perturbed.\n",
    "        amplitude: An array representing the amplitude to apply\n",
    "    \"\"\"\n",
    "\n",
    "    # Broadcast the ``amplitude`` to the same rank as the ``field``\n",
    "    amplitude = _broadcast_2d_to_spatial(amplitude, field.ndim)\n",
    "    assert_rank(\n",
    "        amplitude,\n",
    "        field.ndim,\n",
    "        custom_message=\"Amplitude must have the same ndim as the input ``field``.\")\n",
    "    \n",
    "    # Extract the real part and imaginary part from the input ``field``\n",
    "    amp_field = jnp.real(field.u)\n",
    "    phase_field = jnp.imag(field.u)\n",
    "\n",
    "    # Compute the perturbed ``field``\n",
    "    perturbed_field = amp_field * amplitude + 1j * phase_field\n",
    "\n",
    "    return Field(\n",
    "        u = perturbed_field,\n",
    "        _dx = field._dx,\n",
    "        _spectrum = field._spectrum,\n",
    "        _spectral_density = field._spectral_density\n",
    "    )"
   ]
  },
  {
   "cell_type": "markdown",
   "id": "742338f0",
   "metadata": {},
   "source": [
    "Let's try this revised function:"
   ]
  },
  {
   "cell_type": "code",
   "execution_count": 44,
   "id": "553f24d4",
   "metadata": {},
   "outputs": [
    {
     "name": "stdout",
     "output_type": "stream",
     "text": [
      "field =\n",
      " Field(u=Array([[[[[1.+1.j]],\n",
      "\n",
      "         [[2.+2.j]],\n",
      "\n",
      "         [[3.+3.j]]],\n",
      "\n",
      "\n",
      "        [[[4.+4.j]],\n",
      "\n",
      "         [[5.+5.j]],\n",
      "\n",
      "         [[6.+6.j]]],\n",
      "\n",
      "\n",
      "        [[[7.+7.j]],\n",
      "\n",
      "         [[8.+8.j]],\n",
      "\n",
      "         [[9.+9.j]]]]], dtype=complex64), _dx=Array([[0.01],\n",
      "       [0.01]], dtype=float32), _spectrum=Array([0.55], dtype=float32), _spectral_density=Array([1.], dtype=float32))\n",
      "amplitude =\n",
      " [[0.9 0.8 0.7]\n",
      " [0.6 0.5 0.4]\n",
      " [0.3 0.2 0.1]]\n"
     ]
    }
   ],
   "source": [
    "print(\"field =\\n\", field)\n",
    "print(\"amplitude =\\n\", amplitude)"
   ]
  },
  {
   "cell_type": "code",
   "execution_count": 45,
   "id": "fbef61f9",
   "metadata": {},
   "outputs": [
    {
     "name": "stdout",
     "output_type": "stream",
     "text": [
      "perturbed_field =\n",
      " Field(u=Array([[[[[0.9       +1.j]],\n",
      "\n",
      "         [[1.6       +2.j]],\n",
      "\n",
      "         [[2.1       +3.j]]],\n",
      "\n",
      "\n",
      "        [[[2.4       +4.j]],\n",
      "\n",
      "         [[2.5       +5.j]],\n",
      "\n",
      "         [[2.4       +6.j]]],\n",
      "\n",
      "\n",
      "        [[[2.1000001 +7.j]],\n",
      "\n",
      "         [[1.6       +8.j]],\n",
      "\n",
      "         [[0.90000004+9.j]]]]], dtype=complex64), _dx=Array([[0.01],\n",
      "       [0.01]], dtype=float32), _spectrum=Array([0.55], dtype=float32), _spectral_density=Array([1.], dtype=float32))\n"
     ]
    }
   ],
   "source": [
    "perturbed_field = amplitude_change_revised(field, amplitude)\n",
    "print(\"perturbed_field =\\n\", perturbed_field)"
   ]
  },
  {
   "cell_type": "markdown",
   "id": "9791ca29",
   "metadata": {},
   "source": [
    "As the result shows, this revised function successfully perturbs the input `field`' amplitude. However, in the class `AmplitudeMask`, a `amplitude` is first binarized and then applied to perturb a `field`. In this case, `amplitude_change` and `amplitude_change_revised` will give two different results: "
   ]
  },
  {
   "cell_type": "code",
   "execution_count": 46,
   "id": "a39c5891",
   "metadata": {},
   "outputs": [
    {
     "name": "stdout",
     "output_type": "stream",
     "text": [
      "binarized amplitude =\n",
      " [[1. 1. 1.]\n",
      " [1. 0. 0.]\n",
      " [0. 0. 0.]]\n",
      "perturbed field using original function =\n",
      " Field(u=Array([[[[[1.+1.j]],\n",
      "\n",
      "         [[2.+2.j]],\n",
      "\n",
      "         [[3.+3.j]]],\n",
      "\n",
      "\n",
      "        [[[4.+4.j]],\n",
      "\n",
      "         [[0.+0.j]],\n",
      "\n",
      "         [[0.+0.j]]],\n",
      "\n",
      "\n",
      "        [[[0.+0.j]],\n",
      "\n",
      "         [[0.+0.j]],\n",
      "\n",
      "         [[0.+0.j]]]]], dtype=complex64), _dx=Array([[0.01],\n",
      "       [0.01]], dtype=float32), _spectrum=Array([0.55], dtype=float32), _spectral_density=Array([1.], dtype=float32))\n"
     ]
    }
   ],
   "source": [
    "from chromatix.ops import binarize\n",
    "\n",
    "binarized_amp = binarize(amplitude)\n",
    "print(\"binarized amplitude =\\n\", binarized_amp)\n",
    "\n",
    "perturbed_field1 = amplitude_change(field, binarized_amp)\n",
    "perturbed_field2 = amplitude_change_revised(field, binarized_amp)\n",
    "\n",
    "print(\"perturbed field using original function =\\n\", perturbed_field1)"
   ]
  },
  {
   "cell_type": "code",
   "execution_count": 54,
   "id": "f713ce95",
   "metadata": {},
   "outputs": [
    {
     "name": "stdout",
     "output_type": "stream",
     "text": [
      "perturbed field using revised function =\n",
      " Field(u=Array([[[[[1.+1.j]],\n",
      "\n",
      "         [[2.+2.j]],\n",
      "\n",
      "         [[3.+3.j]]],\n",
      "\n",
      "\n",
      "        [[[4.+4.j]],\n",
      "\n",
      "         [[0.+5.j]],\n",
      "\n",
      "         [[0.+6.j]]],\n",
      "\n",
      "\n",
      "        [[[0.+7.j]],\n",
      "\n",
      "         [[0.+8.j]],\n",
      "\n",
      "         [[0.+9.j]]]]], dtype=complex64), _dx=Array([0.01, 0.01], dtype=float32), _spectrum=Array([0.55], dtype=float32), _spectral_density=Array([1.], dtype=float32))\n"
     ]
    }
   ],
   "source": [
    "print(\"perturbed field using revised function =\\n\", perturbed_field2)"
   ]
  },
  {
   "cell_type": "markdown",
   "id": "b8c9e900",
   "metadata": {},
   "source": [
    "As the results show, the `phase` of the perturbed fields is different. Therefore, in the case that the binarized amplitude is applied and the phase matters, it's better to use the `amplitude_change`. If the amplitude is not binarized and the phase matters, then `amplitude_change_revised` would be better to use."
   ]
  },
  {
   "cell_type": "markdown",
   "id": "2b7a7698",
   "metadata": {},
   "source": [
    "### **Module 3: convenience**"
   ]
  },
  {
   "cell_type": "markdown",
   "id": "fc467bfd",
   "metadata": {},
   "source": [
    "#### **Imports**"
   ]
  },
  {
   "cell_type": "markdown",
   "id": "6dca7c25",
   "metadata": {},
   "source": [
    "*Source Code*"
   ]
  },
  {
   "cell_type": "code",
   "execution_count": 55,
   "id": "3f6e4265",
   "metadata": {},
   "outputs": [],
   "source": [
    "import jax.numpy as jnp\n",
    "\n",
    "from chromatix import Field\n",
    "from chromatix.utils import _squeeze_grid_to_2d\n",
    "from chromatix.utils.fft import fft"
   ]
  },
  {
   "cell_type": "markdown",
   "id": "34e5b0b9",
   "metadata": {},
   "source": [
    "*Explanation*"
   ]
  },
  {
   "cell_type": "markdown",
   "id": "fd5448dc",
   "metadata": {},
   "source": [
    "`_squeeze_grid_to_2d` is a function to take a higher-dimensional array like `(2 B... H W C [1 | 3])` to 2D array of shape `(2 C)` where `C` is the channel dimension. It's useful for vectorial ops on grids.\n",
    "\n",
    "`fft` function is defined to perform a 2D Fast Fourier Transform (FFT) on an input array. The Fourier Transform is a mathematical tool that decomposes a function into its constituent frequencies or spatial frequencies. In the context of wave propagation, FT transforms a function between spatial domain and frequency domain. In Photonics, the Fourier Transform is done by:\n",
    "\n",
    "$$ F(u, v) = \\int_{-\\infin}^{\\infin}f(x, y)e^{-i2\\pi (ux+vy)}dxdy \\tag{2.3.5} $$\n",
    "\n",
    "Where, $F(u, v)$ represents a field in spatial frequency domain and $f(x, y)$ represents a field in space domain. And also, there is inverse Fourier Transform:\n",
    "\n",
    "$$ f(x, y) = \\int_{-\\infin}^{\\infin}F(u, v)e^{i2\\pi (ux+vy)}dudv \\tag{2.3.5} $$\n",
    "\n",
    "A Fast Fourier Transform is an algorithm that computes the Discrete Fourier Transform. It reduces the computational complexity fron $O(N^2)$ to $O(NlogN)$, where N is the number of data points. In other words, FFT increases the efficiency of the computation. For example, there is 1D period function: $f(x \\pm L) = f(x)$. Let's discretize $x$ into a set of discrete points with period $L$ and step size $\\Delta x$:\n",
    "\n",
    "$$\\{x\\} = \\{0, \\Delta x, 2\\Delta x, ..., (N-1)\\Delta x\\} \\tag{2.3.3} $$\n",
    "\n",
    "In the spatial frequency domain, $u$ is discretized into a set of discrete frequencies:\n",
    "\n",
    "$$\\{u\\} = \\{ 0, 1\\cdot \\frac{1}{L}, 2 \\cdot \\frac{1}{L}, ..., [N-1]\\frac{1}{L} \\} \\tag{2.3.4} $$ \n",
    "\n",
    "For Fourier transform calculations, it's common to include the interval beyond the last sample. Thus, we have $\\frac{L}{\\Delta x} = N$, $u = p \\cdot \\Delta u = \\frac {p}{N\\Delta x} (0\\le n \\le N-1 )$, and $x = n\\cdot \\Delta x$. Then, by discretizing the integral, the Discrete (Fast) Fourier transform can be expressed as:\n",
    "\n",
    "$$ F(p\\Delta u) = \\sum_{n=0}^{N-1} e^{-i2\\pi \\frac{np}{N}}f(n\\Delta x)\\Delta x \\tag{2.3.5} $$\n",
    "\n",
    "And inverse Discrete (Fast) Fourier Transform:\n",
    "\n",
    "$$ f(n\\Delta x)= \\sum_{p=0}^{P-1} e^{i2\\pi \\frac{np}{N}} F(p\\Delta u)\\Delta u \\tag{2.3.6}$$\n",
    "\n",
    "This can be extended into 2D FFT and IFFT::\n",
    "\n",
    "$$ F(p\\Delta u, q\\Delta v) = \\Delta x\\Delta y\\sum_{n=0}^{N-1}\\sum_{m=0}^{M-1} e^{-i2\\pi (\\frac{np}{N}+\\frac{mq}{M})}f(n\\Delta x, m\\Delta y) \\tag{2.3.7} $$\n",
    "$$ f(n\\Delta x, m\\Delta y)= \\Delta u\\Delta v\\sum_{p=0}^{P-1}\\sum_{q=0}^{Q-1} e^{i2\\pi (\\frac{np}{N}+\\frac{mq}{M})} F(p\\Delta u, q\\Delta y) \\tag{2.3.8}$$"
   ]
  },
  {
   "cell_type": "markdown",
   "id": "6900240e",
   "metadata": {},
   "source": [
    "#### **Function 1: optical_fft**"
   ]
  },
  {
   "cell_type": "markdown",
   "id": "08546895",
   "metadata": {},
   "source": [
    "*Source Code*"
   ]
  },
  {
   "cell_type": "code",
   "execution_count": null,
   "id": "976234a4",
   "metadata": {},
   "outputs": [],
   "source": [
    "def optical_fft(field: Field, z: float, n: float) -> Field:\n",
    "    \"\"\"\n",
    "    Computes the optical ``fft`` or ``ifft`` on an incoming ``Field`` propagated\n",
    "    by ``z``, depending on the sign of ``z`` (which is a scalar value that may\n",
    "    be positive or negative). If ``z`` is positive an ``fft```will be performed,\n",
    "    otherwise an ``ifft`` (due to the ``1 / (lambda * z)`` term in the single\n",
    "    Fourier transform Fresnel propagation, which requires this behavior).\n",
    "    The ``ifft`` is calculated in terms of the conjugate of the ``fft`` with\n",
    "    appropriate normalization applied so that propagating forwards and then\n",
    "    backwards yields the same ``Field`` up to numerical precision. This function\n",
    "    also appropriately changes the sampling of the ``Field`` that is output\n",
    "    (after propagating to some distance ``z``).\n",
    "    Args:\n",
    "        field: The ``Field`` to be propagated by ``fft``.\n",
    "        z: The distance the ``Field`` will be propagated.\n",
    "        n: Refractive index of the propagation medium.\n",
    "    Returns:\n",
    "        The propagated ``Field``, transformed by ``fft``/``ifft``.\n",
    "    \"\"\"\n",
    "    L_sq = field.spectrum * z / n\n",
    "    du = field.dk * jnp.abs(L_sq)\n",
    "    # Forward transform normalization for z >= 0\n",
    "    norm_fft = (z >= 0) * -1j * jnp.prod(field.dx, axis=0, keepdims=False) / L_sq\n",
    "    # Inverse transform normalization for z < 0\n",
    "    norm_ifft = (\n",
    "        (z < 0)\n",
    "        * -1j  # Sign change because we take the conjugate of the input\n",
    "        * (L_sq / jnp.prod(du, axis=0, keepdims=False))  # Inverse length scale\n",
    "        / jnp.prod(\n",
    "            jnp.array(field.shape)  # Due to a different norm factor for fft and ifft\n",
    "        )\n",
    "    )\n",
    "    # Inverse transform input needs to use the conjugate\n",
    "    fft_input = (norm_fft * field.u) + (norm_ifft * field.conj.u)\n",
    "    fft_output = fft(fft_input, axes=field.spatial_dims, shift=True)\n",
    "    u = (z >= 0) * fft_output + (z < 0) * jnp.conj(fft_output)\n",
    "    return field.replace(u=u, _dx=_squeeze_grid_to_2d(du, field.ndim))"
   ]
  },
  {
   "cell_type": "markdown",
   "id": "c7e95238",
   "metadata": {},
   "source": [
    "*Explanation*"
   ]
  },
  {
   "cell_type": "markdown",
   "id": "316121bc",
   "metadata": {},
   "source": [
    "1. Fresnel Propagation\n",
    "\n",
    "This `optical_fft` function performs a Fresnel propagation on a Field object using a Fast Fourier Transform (FFT) or Inverse Fast Fourier Transform (IFFT) depending on the propagation direction.\n",
    "\n",
    "Suppose there is a field at $z=0$, now, we want to calculate the field which has been propagated by a distance $z$ as the figure below shows:\n",
    "\n",
    "[<center><img src=\"Diffraction_geometry.jpg\"> </center>](attachment:Diffraction_geometry.jpg)\n",
    "\n",
    "Under the Fresnel approximation, the field after the propagation of a distance $z$ is given by the convolution of the initial field $u_0(x', y', 0)$ and the response function:\n",
    "\n",
    "$$ h_F(x, y; z) = -\\frac{ike^{ikz}}{2\\pi z} \\exp\\frac{ik}{2z}(x^2 + y^2) = \\frac{e^{ikz}}{i\\lambda z} \\exp[\\frac{i\\pi}{\\lambda z}(x^2 + y^2)] \\tag{2.3.9} $$\n",
    "\n",
    "By doing the convolution, the propagated field $u_F(x, y, z)$ can be expressed as:\n",
    "\n",
    "$$u_F(x, y, z) = \\frac{e^{ikz}}{i\\lambda z} \\iint_{-\\infty}^{\\infty} u_0(x', y', 0) \\exp\\lbrace \\frac{i\\pi}{\\lambda z} \\left[ (x - x')^2 + (y - y')^2 \\right] \\rbrace \\, dx' \\, dy' \\tag{2.3.10} $$\n",
    "\n",
    "Then, we can get rid of the parentheses:\n",
    "\n",
    "$$ (x - x')^2 + (y - y')^2 = x^2 + y^2 -2(xx' + yy') + x'^2 + y'^2 \\tag{2.3.11} $$\n",
    "\n",
    "in which, $x^2+y^2$ can be moved out of the integral, thus we will get:\n",
    "\n",
    "$$u_F(x, y, z) = \\frac{e^{ikz}}{i\\lambda z} e^{\\frac{i\\pi}{\\lambda z}(x^2 + y^2)} \\iint_{-\\infty}^{\\infty} u_0(x', y', 0) e^{\\frac{i \\pi}{\\lambda z} (x'^2 + y'^2)} e^{-i 2\\pi \\left( \\frac{x}{\\lambda z} x' + \\frac{y}{\\lambda z} y' \\right)} \\, dx' \\, dy' \\tag{2.3.12} $$\n",
    "\n",
    "The terms $e^{\\frac{i\\pi}{\\lambda z}(x^2 + y^2)}$ and $e^{\\frac{i \\pi}{\\lambda z} (x'^2 + y'^2)}$ can be interpreted as the quadratic phase factor at the output plane and the input plane.\n",
    "\n",
    "Now, by regarding $ \\frac{x}{\\lambda z}$ and $ \\frac{y}{\\lambda z}$ as $f_x$ and $f_y$, we will have: \n",
    "\n",
    "$$u_F(x, y, z) = \\frac{e^{ikz}}{i \\lambda z} e^{\\frac{i \\pi}{\\lambda z} (x^2 + y^2)} \\mathcal{F} \\left\\{ u_0(x', y', 0) e^{\\frac{i \\pi}{\\lambda z} (x'^2 + y'^2)} \\right\\} \\bigg|_{f_x = \\frac{x}{\\lambda z}, \\; f_y = \\frac{y}{\\lambda z}} \\tag{2.3.13} $$\n",
    "\n",
    "This Fresnel integral describes free space propagation, which means that the refractive index $n_{eff}=1$. If the propagation happens in a medium, the wavelength $\\lambda$ should become $\\lambda/n_{eff}$, since the speed of light in the medium is $v=c/n_{eff}$. Therefore, a more general fresnel integral should be:\n",
    "\n",
    "$$u_F(x, y, z) = \\frac{n_{eff}e^{ikz}}{i \\lambda z} e^{\\frac{i \\pi n_{eff}}{\\lambda z} (x^2 + y^2)} \\mathcal{F} \\left\\{ u_0(x', y', 0) e^{\\frac{i \\pi n_{eff}}{\\lambda z} (x'^2 + y'^2)} \\right\\} \\bigg|_{f_x = \\frac{n_{eff}x}{\\lambda z}, \\; f_y = \\frac{n_{eff}y}{\\lambda z}} \\tag{2.3.14} $$\n",
    "\n",
    "Where $e^{ikz}$ represents the propagation phase factor over a distance $z$, the term $\\frac{1}{i \\lambda z}$ represents the scaling factor due to the propagation distance. Most importantly, $f_x = \\frac{n_{eff}x}{\\lambda z}$ and $f_y = \\frac{n_{eff}y}{\\lambda z}$ represents the spatial frequency coordinates in the Fourier transform and from this we can derive the spatial coordinates of the field $u_F$ as $x=\\frac{f_x\\lambda z}{n_{eff}}$ and $y=\\frac{f_y\\lambda z}{n_{eff}}$ which means the spatial coordinates is scaled with the distance $z$.\n",
    "\n",
    "In the FFT algorithm, taking only the $x$ coordinate as an example, if the spatial coordinates of the initial field is:\n",
    "\n",
    "$$\\{x'\\} = \\{0, \\Delta x', 2\\Delta x', ..., (N-1)\\Delta x'\\} \\tag{2.3.15} $$\n",
    "\n",
    "Including the interval beyond the last sample, we have $N$ samples with the total length of $N\\Delta x'$ in this case. Then in the spatial frequency domain:\n",
    "\n",
    "$$\\{f_x\\} = \\{0, \\frac{1}{N\\Delta x'}, \\frac{2}{N\\Delta x'}, ..., \\frac{N-1}{N\\Delta x'}\\} \\tag{2.3.16} $$\n",
    "\n",
    "Now, according to $x=\\frac{f_x\\lambda z}{n_{eff}}$, we can get the $x$ coordinates of the field $u_F$:\n",
    "\n",
    "$$\\{x\\} = \\{0, \\frac{\\lambda z}{n_{eff}N\\Delta x'}, \\frac{2\\lambda z}{n_{eff}N\\Delta x'}, ..., \\frac{(N-1)\\lambda z}{n_{eff}N\\Delta x'} \\} \\tag{2.3.17} $$\n",
    "\n",
    "And the interval becomes:\n",
    "\n",
    "$$\\Delta x = \\frac{\\lambda z}{n_{eff}N\\Delta x'} \\tag{2.3.18} $$\n",
    "\n",
    "Look back into the source code. `field.spectrum` returns the wavelengths sampled by the complex field, so `L_sp` is the factor $\\frac{\\lambda z}{n_{eff}}$, `field.dk` returns the spatial frequency domain sampling interval, which is mathematically $\\frac{1}{N\\Delta x'}$, and `du` is thus the new spatial sampling interval at the propagated field, namely the $\\Delta x$.\n",
    "\n",
    "Rather than directly calculating the new spatial coordinates, the code calculates the spatial sampling interval at the propagated field, because the samples are discrete on grids and frequencies are implicitly determined by the sampling intervals and the number of data points, and most importantly, scaling frequencies directly is not straightforward and would require resampling or interpolating the frequency bins, which can introduce errors and is inefficient.\n",
    "\n",
    "1. Transform Normalization\n",
    "\n",
    "Next, depending on the direction of $z$, the code calculates the forward transform normalization `norm_fft` and the inverse transform normalization `norm_ifft`.\n",
    "\n",
    "`(z >= 0)` is a boolean expression that evaluates to `True`(1), when $z\\geqslant 0$. `1j` is the imaginary unit. The `jnp.prod()` function calculates the product of array elements over a specified axis. For Example:"
   ]
  },
  {
   "cell_type": "code",
   "execution_count": 53,
   "id": "51c297c4",
   "metadata": {},
   "outputs": [
    {
     "name": "stdout",
     "output_type": "stream",
     "text": [
      "Shape of the complex field = (1, 10, 10, 1, 1)\n",
      "Spatial sampling intervals dx =\n",
      " [[[[[[0.01]]]]]\n",
      "\n",
      "\n",
      "\n",
      "\n",
      " [[[[[0.01]]]]]]\n",
      "Product of the spatial sampling intervals = [[[[[0.0001]]]]]\n"
     ]
    }
   ],
   "source": [
    "from chromatix.field import Field\n",
    "import jax.numpy as jnp\n",
    "import jax.random as jran\n",
    "\n",
    "# Create random keys\n",
    "key1 = jran.PRNGKey(10)\n",
    "key2 = jran.PRNGKey(20)\n",
    "\n",
    "# Create random complex field with shape (10, 10)\n",
    "u_amp = jran.uniform(key1, shape=(10, 10))\n",
    "u_phase = jran.uniform(key2, shape=(10, 10))\n",
    "u = u_amp + 1j * u_phase\n",
    "u = u.reshape(1, 10, 10, 1, 1)\n",
    "\n",
    "# Create a Field object\n",
    "field = Field(\n",
    "    u = u,\n",
    "    _dx = jnp.array([[0.01], [0.01]]), # Shape of _dx: (2, 1), 2 rows and 1 column\n",
    "    _spectrum = jnp.array([0.55]),\n",
    "    _spectral_density = jnp.array([1.0]),\n",
    ")\n",
    "\n",
    "print(\"Shape of the complex field =\", field.u.shape)\n",
    "\n",
    "print(\"Spatial sampling intervals dx =\\n\", field.dx)\n",
    "\n",
    "prod_dx = jnp.prod(field.dx, axis=0, keepdims=False)\n",
    "print(\"Product of the spatial sampling intervals =\", prod_dx)\n"
   ]
  },
  {
   "cell_type": "markdown",
   "id": "86da8f34",
   "metadata": {},
   "source": [
    "`Field.dx` is the spacing of the samples in `u` discretizing a continuous field, it's defined as an array of shape `(2 1... 1 1 C 1)`. Thus, the function `jnp.prod()` calculates $\\Delta x' \\cdot \\Delta y'$, which means the area of a single pixel. Therefore, the `norm_fft` is mathematically:\n",
    "\n",
    "$$ \\text{norm\\_ fft} = \\frac{-i\\Delta x \\Delta y}{\\lambda z} = \\frac{\\Delta x \\Delta y}{i\\lambda z} \\tag{2.3.19} $$\n",
    "\n",
    "It's easy to notice that the `norm_fft` is the product of the FFT's coefficient and the Fresnel propagation coefficient ignoring the exponential terms.\n",
    "\n",
    "In terms of the `norm_ifft`, it's computed in a similar way to `norm_fft`. `(z < 0)` has the same logic with the `(z >= 0)` mentioned before, ensuring that the `norm_ifft` is applied only in the case of backward propagation. Since the code only uses the forward FFT for both forward and inverse transforms (`fft_output = fft(fft_input, axes=field.spatial_dims, shift=True`), it's needed to take the conjugate of the forward FFT input and output to simulate the inverse FFT:\n",
    "\n",
    "$$ \\mathcal{F^{-1}}(f) = \\frac{1}{N}(\\mathcal{F}(f^*))^* \\tag{2.3.20} $$\n",
    "\n",
    "Where $N$ is the total number of samples. The conjugate operation flips the sign of the imaginary part, so, to adjust the phase accordingly, the code multiply `(z < 0)` with `-1j` instead of `1j`. Then for recovering the sampling interval, `du`, which is `\\Delta x` mentioned in 2.3.18, divides the factor `L_sq` and is divide by the total number of samples $N$ (`jnp.prod(jnp.array(field.shape))`) resulting in $\\Delta x'$.\n",
    "\n",
    "3. Applying FFT\n",
    "\n",
    "Finally, the function `fft` is called to perform the FFT on the product of the input field and the normalization term to figure out the propagated field. \n",
    "\n",
    "By the way, all the exponential term $e^{ikz}$, $\\exp{[\\frac{i \\pi n_{eff}}{\\lambda z} (x^2 + y^2)]}$, and $\\exp{[\\frac{-i \\pi n_{eff}}{\\lambda z} (x'^2 + y'^2)]}$ inside the Fourier Transform are ignored, this is because that ordinarily, we only care about the intensity distribution of a field. When calculating the intensity distribution, these three terms won't change the distribution of the intensities.\n",
    "\n",
    "Therefore, this function only applies a simplified version of Fresnel propagation:\n",
    "\n",
    "$$u_F(x, y, z) = \\mathcal{F} \\left\\{ \\frac{n_{eff}}{i \\lambda z} u_0(x', y', 0)\\right\\} \\bigg|_{f_x = \\frac{n_{eff}x}{\\lambda z}, \\; f_y = \\frac{n_{eff}y}{\\lambda z}} \\tag{2.3.21} $$\n",
    "\n",
    "The function `field.replace()` is inherited from the class `Field`'s parent class `struct`. `field.replace(u=u, _dx=_squeeze_grid_to_2d(du, field.ndim))` creates a new `Field` object with the updated `u` attribute and the new `_dx` squeezed into 2D. \n",
    "\n",
    "4. Limitation of Fresnel Propagation\n",
    "\n",
    "The Fresnel propagation formula (2.3.13 and 2.3.14) are derived under Fresnel (paraxial) approximation which can be applied when the wavelength of the field is many orders of magnitude smaller than the relevant physical dimensions like the distance of the propagation ($\\lambda << z$). To determine whether the Fresnel propagation should be applied, Fresnel number is very useful:\n",
    "\n",
    "$$ N_F = \\frac{a^2}{\\lambda z} \\tag{2.3.22} $$\n",
    "\n",
    "Where a is for example radius of the field if the field has a circular shape, and $z$ is the distance of propagation. The Fresnel approximation works well when $N_F \\approx 1$ "
   ]
  },
  {
   "cell_type": "markdown",
   "id": "1a765d6a",
   "metadata": {},
   "source": [
    "### **Module 4: lenses**"
   ]
  },
  {
   "cell_type": "markdown",
   "id": "92096844",
   "metadata": {},
   "source": [
    "#### **Imports**"
   ]
  },
  {
   "cell_type": "markdown",
   "id": "94df83bf",
   "metadata": {},
   "source": [
    "*Source Code*"
   ]
  },
  {
   "cell_type": "code",
   "execution_count": null,
   "id": "307e04f5",
   "metadata": {},
   "outputs": [],
   "source": [
    "from typing import Optional\n",
    "\n",
    "import jax.numpy as jnp\n",
    "\n",
    "from chromatix.functional.convenience import optical_fft\n",
    "\n",
    "from ..field import Field\n",
    "from ..utils import l2_sq_norm\n",
    "from .pupils import circular_pupil"
   ]
  },
  {
   "cell_type": "markdown",
   "id": "4ab9c1f9",
   "metadata": {},
   "source": [
    "*Explanation*"
   ]
  },
  {
   "cell_type": "markdown",
   "id": "ffe41854",
   "metadata": {},
   "source": [
    "The function `l2_sq_norm` returns the sums of squares of the elements in an input array along a certain axis, like $x^2 + y^2 + z^2...$. For exapmle:"
   ]
  },
  {
   "cell_type": "code",
   "execution_count": 13,
   "id": "b8dd7a2d",
   "metadata": {},
   "outputs": [
    {
     "name": "stdout",
     "output_type": "stream",
     "text": [
      "a =   [[1 2 3]\n",
      " [4 5 6]\n",
      " [7 8 9]]\n",
      "L2 squared norm along axis 0 = [ 66  93 126]\n",
      "L2 squared norm along axis 1 = [ 14  77 194]\n"
     ]
    }
   ],
   "source": [
    "from chromatix.utils import l2_sq_norm\n",
    "import numpy as np\n",
    "\n",
    "a = np.array([[1, 2, 3],\n",
    "             [4, 5, 6],\n",
    "             [7, 8, 9]])\n",
    "print(\"a =  \", a)\n",
    "sq_a0 = l2_sq_norm(a, axis=0)\n",
    "sq_a1 = l2_sq_norm(a, axis=1)\n",
    "\n",
    "print(\"L2 squared norm along axis 0 =\", sq_a0)\n",
    "print(\"L2 squared norm along axis 1 =\", sq_a1)"
   ]
  },
  {
   "cell_type": "markdown",
   "id": "c33dd6e0",
   "metadata": {},
   "source": [
    "In Python, axis 0 means the \"row\" axis, Specifying `axis=0` means that the operation will be applied down the rows, effectively working column-wise. `axis=1` means working row-wise.\n",
    "\n",
    "`circular_pupil` applies a circular mask with a radius $w$ as an input to a field by element-wise multiplication. The regions outside the circular mask are zeroed out leaving only the values within the circle."
   ]
  },
  {
   "cell_type": "markdown",
   "id": "14ad7a36",
   "metadata": {},
   "source": [
    "#### **Function 1: thin_lens**"
   ]
  },
  {
   "cell_type": "markdown",
   "id": "1e4b8422",
   "metadata": {},
   "source": [
    "*Source Code*"
   ]
  },
  {
   "cell_type": "code",
   "execution_count": null,
   "id": "7aadbd27",
   "metadata": {},
   "outputs": [],
   "source": [
    "def thin_lens(field: Field, f: float, n: float, NA: Optional[float] = None) -> Field:\n",
    "    \"\"\"\n",
    "    Applies a thin lens placed directly after the incoming ``Field``.\n",
    "\n",
    "    Args:\n",
    "        field: The ``Field`` to which the lens will be applied.\n",
    "        f: Focal length of the lens.\n",
    "        n: Refractive index of the lens.\n",
    "        NA: If provided, the NA of the lens. By default, no pupil is applied\n",
    "            to the incoming ``Field``.\n",
    "\n",
    "    Returns:\n",
    "        The ``Field`` directly after the lens.\n",
    "    \"\"\"\n",
    "    L = jnp.sqrt(field.spectrum * f / n)\n",
    "    phase = -jnp.pi * l2_sq_norm(field.grid) / L**2\n",
    "\n",
    "    if NA is not None:\n",
    "        D = 2 * f * NA / n  # Expression for NA yields width of pupil\n",
    "        field = circular_pupil(field, D)\n",
    "\n",
    "    return field * jnp.exp(1j * phase)"
   ]
  },
  {
   "cell_type": "markdown",
   "id": "8593aeb0",
   "metadata": {},
   "source": [
    "*Explanation*"
   ]
  },
  {
   "cell_type": "markdown",
   "id": "2981816a",
   "metadata": {},
   "source": [
    "This function is to calculate the field after passing a thin lens. In optics, a thin lens has a negligible thickness compared to the radius curvature of the surface, thus, the optical effects due to the thickness of lens can be ignored. In physical optics, by definition, a thin lens transforms a spherical wave into a plane wave. Under paraxial approximation, the response function that transform a spherical wave into a plane wave is:\n",
    "\n",
    "$$ t_L(x, y)=\\exp[-i\\frac{n_{eff}\\pi}{\\lambda f}(x^2+y^2)] \\tag{2.3.23} $$\n",
    "\n",
    "Suppose there is a field $u_-(x, y)$, after it passes through the thin lens, it becomes:\n",
    "\n",
    "$$ u_+(x, y) = u_-(x, y)\\exp[-i\\frac{n_{eff}\\pi}{\\lambda f}(x^2+y^2)] \\tag{2.3.24} $$\n",
    "\n",
    "Where $n_{eff}$ is the refractive index, and $f$ is the focal length of the thin lens. The equation above also means that the thin lens adds a phase to the incoming field.\n",
    "\n",
    "This function takes four arguments, in which, `field` represents a field that is going to pass a thin lens, `n` as well as `f` are used to define the thin lens, and `NA` is short for numerical aperture which is a pupil if provided.\n",
    "\n",
    "`field.spectrum` returns the wavelength of the field, so `L` is equal to $\\sqrt{\\lambda f/n_{eff} }$. `field.grid` returns $x$ and $y$ grid respectively. This grid assumes that the center of the field is the origin and that the elements are sampling from the center:"
   ]
  },
  {
   "cell_type": "code",
   "execution_count": 15,
   "id": "4ef8ddf9",
   "metadata": {},
   "outputs": [
    {
     "name": "stdout",
     "output_type": "stream",
     "text": [
      "The wavelength of the field [[[[[0.55]]]]]\n",
      "The shape of the grid= (2, 1, 5, 5, 1, 1)\n",
      "The squeezed grid of the field =\n",
      " [[[-0.25 -0.25 -0.25 -0.25 -0.25]\n",
      "  [-0.15 -0.15 -0.15 -0.15 -0.15]\n",
      "  [-0.05 -0.05 -0.05 -0.05 -0.05]\n",
      "  [ 0.05  0.05  0.05  0.05  0.05]\n",
      "  [ 0.15  0.15  0.15  0.15  0.15]]\n",
      "\n",
      " [[-0.25 -0.15 -0.05  0.05  0.15]\n",
      "  [-0.25 -0.15 -0.05  0.05  0.15]\n",
      "  [-0.25 -0.15 -0.05  0.05  0.15]\n",
      "  [-0.25 -0.15 -0.05  0.05  0.15]\n",
      "  [-0.25 -0.15 -0.05  0.05  0.15]]]\n"
     ]
    }
   ],
   "source": [
    "from chromatix.field import Field\n",
    "import jax.numpy as jnp\n",
    "import jax.random as jran\n",
    "\n",
    "key = jran.PRNGKey(10)\n",
    "u = jran.uniform(key, shape=(1, 5, 5, 1, 1))\n",
    "\n",
    "field = Field(\n",
    "    u=u,\n",
    "    _dx=jnp.array([[0.1], [0.1]]),\n",
    "    _spectrum=jnp.array([0.55]),\n",
    "    _spectral_density=jnp.array([1.0])\n",
    ")\n",
    "\n",
    "print(\"The wavelength of the field\", field.spectrum)\n",
    "\n",
    "print(\"The shape of the grid=\", field.grid.shape)\n",
    "# For better display, the grid of the field is squeezed\n",
    "print(\"The squeezed grid of the field =\\n\", field.grid.squeeze())"
   ]
  },
  {
   "cell_type": "markdown",
   "id": "1b4f22c0",
   "metadata": {},
   "source": [
    "The first array is the $y$ grid, each row has the same $y$ value. The second array is the $x$ grid, each column has the same $x$ value.\n",
    "\n",
    "`l2_sq_norm(field.grid)` compute the $x[i,j]^2+y[i,j]^2$ at each point on the fields grid representing the distance from the center:"
   ]
  },
  {
   "cell_type": "code",
   "execution_count": null,
   "id": "b46043db",
   "metadata": {},
   "outputs": [
    {
     "name": "stdout",
     "output_type": "stream",
     "text": [
      "The distances =\n",
      " [[0.125 0.085 0.065 0.065 0.085]\n",
      " [0.085 0.045 0.025 0.025 0.045]\n",
      " [0.065 0.025 0.005 0.005 0.025]\n",
      " [0.065 0.025 0.005 0.005 0.025]\n",
      " [0.085 0.045 0.025 0.025 0.045]]\n"
     ]
    }
   ],
   "source": [
    "from chromatix.utils import l2_sq_norm\n",
    "\n",
    "# axis=0 by default, the calculation is applie along batches\n",
    "distances = l2_sq_norm(field.grid.squeeze())\n",
    "print(\"The distances =\\n\", distances)"
   ]
  },
  {
   "cell_type": "markdown",
   "id": "32e07b80",
   "metadata": {},
   "source": [
    "As a result, together with `jnp.pi` and `L**2`, the phase shift as each point is figured out:\n",
    "\n",
    "$$ \\text{phase} = -\\frac{\\pi}{L^2}(x[i, j]^2 + y[i, j]^2) \\tag{2.3.25} $$\n",
    "\n",
    "If `NA` is provided, the diameter `D` of the pupil will be calculated from the `NA`:\n",
    "\n",
    "$$ NA = n_{eff}sin(\\theta) = n_{eff}\\frac{D}{2f} \\tag{2.3.26} $$\n",
    "\n",
    "By calling the function `circular_pupil()`, any values outside this pupil will be set as zero. Finally, this function returns a field with shifted phase."
   ]
  },
  {
   "cell_type": "markdown",
   "id": "5914d441",
   "metadata": {},
   "source": [
    "#### **Function 2: ff_lens**"
   ]
  },
  {
   "cell_type": "markdown",
   "id": "f107b785",
   "metadata": {},
   "source": [
    "*Source Code*"
   ]
  },
  {
   "cell_type": "code",
   "execution_count": null,
   "id": "a27a0d7c",
   "metadata": {},
   "outputs": [],
   "source": [
    "def ff_lens(\n",
    "    field: Field,\n",
    "    f: float,\n",
    "    n: float,\n",
    "    NA: Optional[float] = None,\n",
    "    inverse: bool = False,\n",
    ") -> Field:\n",
    "    \"\"\"\n",
    "    Applies a thin lens placed a distance ``f`` after the incoming ``Field``.\n",
    "\n",
    "    Args:\n",
    "        field: The ``Field`` to which the lens will be applied.\n",
    "        f: Focal length of the lens.\n",
    "        n: Refractive index of the lens.\n",
    "        NA: If provided, the NA of the lens. By default, no pupil is applied\n",
    "            to the incoming ``Field``.\n",
    "\n",
    "    Returns:\n",
    "        The ``Field`` propagated a distance ``f`` after the lens.\n",
    "    \"\"\"\n",
    "    # Pupil\n",
    "    if NA is not None:\n",
    "        D = 2 * f * NA / n  # Expression for NA yields width of pupil\n",
    "        field = circular_pupil(field, D)\n",
    "    if inverse:\n",
    "        # if inverse, propagate over negative distance\n",
    "        f = -f\n",
    "    return optical_fft(field, f, n)"
   ]
  },
  {
   "cell_type": "markdown",
   "id": "0f5a5a82",
   "metadata": {},
   "source": [
    "*Explanation*"
   ]
  },
  {
   "cell_type": "markdown",
   "id": "247db086",
   "metadata": {},
   "source": [
    "The function takes `field`, `f`, `n` and `NA` as arguments, these arguments works as the same as their counterparts in the `thin_lens` function. An additional argument `inverse` is a boolean which determines the direction of propagation. This Finally it returns the field at the focal plane.\n",
    "\n",
    "This function simulates a situation where a field propagates a distance $f$ to a thin lens, then it passes through the thin lens and then propagates another distance $f$ to the focal plane of the lens. This is a typical $2f$ setup:\n",
    "\n",
    "[<center> <img src=\"2f-setup.jpg\"> </center>](attachment:2f-setup.jpg)\n",
    "\n",
    "To figure out the field $u(x,y,2f)$, we can directly apply the following formula[@FoMO_Script]:\n",
    "\n",
    "$$ u(x, y, 2f)=\\frac{n_{eff}}{i\\lambda f}exp(2ikf)U_0(f_x, f_y) \\bigg|_{f_x = \\frac{n_{eff}x}{\\lambda f}, \\; f_y = \\frac{n_{eff}y}{\\lambda f}} \\tag{2.3.27} $$\n",
    "\n",
    "where $U_0$ is the Fourier transform of the initial field $u_0$, $f$ is the focal length of the thin lens, $n_{eff}$ is the refractive index, and $k=2\\pi/\\lambda$ is the wavenumber.\n",
    "\n",
    "With the help of the formula, the code becomee simple. It uses two if-clause to determine whether add a pupil and the direction of the propagation. Then it calls the function `optical_fft()` to do Fourier transform to work out the field at the focal plane."
   ]
  },
  {
   "cell_type": "markdown",
   "id": "519fba9b",
   "metadata": {},
   "source": [
    "#### **Function 3: df_lens**"
   ]
  },
  {
   "cell_type": "markdown",
   "id": "28e70b40",
   "metadata": {},
   "source": [
    "*Source Code*"
   ]
  },
  {
   "cell_type": "code",
   "execution_count": null,
   "id": "bf200d14",
   "metadata": {},
   "outputs": [],
   "source": [
    "def df_lens(\n",
    "    field: Field,\n",
    "    d: float,\n",
    "    f: float,\n",
    "    n: float,\n",
    "    NA: Optional[float] = None,\n",
    "    inverse: bool = False,\n",
    ") -> Field:\n",
    "    \"\"\"\n",
    "    Applies a thin lens placed a distance ``d`` after the incoming ``Field``.\n",
    "\n",
    "    Args:\n",
    "        field: The ``Field`` to which the lens will be applied.\n",
    "        d: Distance from the incoming ``Field`` to the lens.\n",
    "        f: Focal length of the lens.\n",
    "        n: Refractive index of the lens.\n",
    "        NA: If provided, the NA of the lens. By default, no pupil is applied\n",
    "            to the incoming ``Field``.\n",
    "\n",
    "    Returns:\n",
    "        The ``Field`` propagated a distance ``f`` after the lens.\n",
    "    \"\"\"\n",
    "    if NA is not None:\n",
    "        D = 2 * f * NA / n  # Expression for NA yields width of pupil\n",
    "        field = circular_pupil(field, D)\n",
    "\n",
    "    if inverse:\n",
    "        # if inverse, propagate over negative distance\n",
    "        f = -d\n",
    "        d = -f\n",
    "    field = optical_fft(field, f, n)\n",
    "\n",
    "    # Phase factor due to distance d from lens\n",
    "    L = jnp.sqrt(jnp.complex64(field.spectrum * f / n))  # Lengthscale L\n",
    "    phase = jnp.pi * (1 - d / f) * l2_sq_norm(field.grid) / jnp.abs(L) ** 2\n",
    "    return field * jnp.exp(1j * phase)"
   ]
  },
  {
   "cell_type": "markdown",
   "id": "225e8578",
   "metadata": {},
   "source": [
    "*Explanation*"
   ]
  },
  {
   "cell_type": "markdown",
   "id": "874045c9",
   "metadata": {},
   "source": [
    "This function simulates a more general case of $2f$ setup, where the first $f$ becomes $d$ meaning that the initial field starts from any distance before the thin lens:\n",
    "\n",
    "[<center> <img src=\"d-f-setup.jpg\" width = \"400\"> </center>](attachment:d-f-setup.jpg)\n",
    "\n",
    "\n",
    "The solution to calculate the field at the focal plane is given by Prof. Joseph Wilfred Goodman in his book <em>Introduction to Fourier Optics</em>:\n",
    "\n",
    "$$u_F(x, y, d+f)=\\frac{n_{eff}}{i\\lambda f}exp[i\\frac{n_{eff}\\pi}{\\lambda f}(1-\\frac{d}{f})(x^2+y^2)]U_0(f_x, f_y) \\bigg|_{f_x=\\frac{n_{eff}x}{\\lambda f}, f_y=\\frac{n_{eff}y}{\\lambda f}} \\tag{2.3.28} $$\n",
    "\n",
    "Compared to the formula in the `ff_lens` function, there is an additional phase term. Therefore, besides the same code to do Fourier transform, `phase` is calculated to modify the field:\n",
    "\n",
    "$$\\text{phase} = \\pi(1-\\frac{d}{f})\\frac{x^2+y^2}{\\frac{\\lambda f}{n_{eff}}} = \\frac{n_{eff}\\pi}{\\lambda f}(1-\\frac{d}{f})(x^2+y^2) \\tag{2.3.29}$$"
   ]
  },
  {
   "cell_type": "markdown",
   "id": "a02b517d",
   "metadata": {},
   "source": [
    "### **Module 5: phase_masks**"
   ]
  },
  {
   "cell_type": "markdown",
   "id": "3269cc23",
   "metadata": {},
   "source": [
    "#### **Imports**"
   ]
  },
  {
   "cell_type": "markdown",
   "id": "e263d284",
   "metadata": {},
   "source": [
    "*Source Code*"
   ]
  },
  {
   "cell_type": "code",
   "execution_count": null,
   "id": "8b8f8f98",
   "metadata": {},
   "outputs": [],
   "source": [
    "from typing import Tuple\n",
    "import jax\n",
    "import jax.numpy as jnp\n",
    "from chex import Array, assert_rank\n",
    "from chromatix.field import Field\n",
    "from chromatix.utils.shapes import _broadcast_2d_to_spatial"
   ]
  },
  {
   "cell_type": "markdown",
   "id": "5a79830c",
   "metadata": {},
   "source": [
    "*Explanation*"
   ]
  },
  {
   "cell_type": "markdown",
   "id": "4b1a1f16",
   "metadata": {},
   "source": [
    "`chex.assert_rank(array, rank)` ensures that an array has a specific rank (number of dimensions). If the `array`'s rank is not equal to `rank`, then an `AssertionError` will be returned.\n",
    "\n",
    "The function `_broadcast_2d_to_spatial(x, ndim)` is used to broadcast the input 2D array `x` to an array with `ndim` dimensions. The additional dimensions are added as `1`s. For example:"
   ]
  },
  {
   "cell_type": "code",
   "execution_count": 20,
   "id": "8d83e3d6",
   "metadata": {},
   "outputs": [
    {
     "name": "stdout",
     "output_type": "stream",
     "text": [
      "Dimensions of the broadcast array = 5\n",
      "Shape of the broadcast array = (1, 3, 3, 1, 1)\n",
      "The broadcast array =\n",
      " [[[[[1]]\n",
      "\n",
      "   [[2]]\n",
      "\n",
      "   [[3]]]\n",
      "\n",
      "\n",
      "  [[[4]]\n",
      "\n",
      "   [[5]]\n",
      "\n",
      "   [[6]]]\n",
      "\n",
      "\n",
      "  [[[7]]\n",
      "\n",
      "   [[8]]\n",
      "\n",
      "   [[9]]]]]\n"
     ]
    }
   ],
   "source": [
    "from chromatix.utils import _broadcast_2d_to_spatial\n",
    "import jax.numpy as jnp\n",
    "\n",
    "arr = jnp.array([[1, 2, 3],\n",
    "                 [4, 5, 6],\n",
    "                 [7, 8, 9]])\n",
    "\n",
    "bc_arr = _broadcast_2d_to_spatial(arr, ndim=5)\n",
    "print(\"Dimensions of the broadcast array =\", bc_arr.ndim)\n",
    "print(\"Shape of the broadcast array =\", bc_arr.shape)\n",
    "print(\"The broadcast array =\\n\", bc_arr)"
   ]
  },
  {
   "cell_type": "markdown",
   "id": "b1a0fc17",
   "metadata": {},
   "source": [
    "#### **Function 1: spectrally_modulate_phase**"
   ]
  },
  {
   "cell_type": "markdown",
   "id": "60afc0b0",
   "metadata": {},
   "source": [
    "*Source Code*"
   ]
  },
  {
   "cell_type": "code",
   "execution_count": null,
   "id": "c870148a",
   "metadata": {},
   "outputs": [],
   "source": [
    "def spectrally_modulate_phase(phase: Array, field: Field) -> Array:\n",
    "    \"\"\"Spectrally modulates a given ``phase`` for multiple wavelengths.\"\"\"\n",
    "    central_wavelength = field.spectrum[..., 0, 0].squeeze()\n",
    "    spectral_modulation = central_wavelength / field.spectrum\n",
    "    return phase * spectral_modulation"
   ]
  },
  {
   "cell_type": "markdown",
   "id": "d5c78beb",
   "metadata": {},
   "source": [
    "*Explanation*"
   ]
  },
  {
   "cell_type": "markdown",
   "id": "2bd958a4",
   "metadata": {},
   "source": [
    "This function ensures accurate modeling of optical systems involving multiple wavelengths, since the phase response varies with wavelength when propagating. In optics, the phase shift $\\phi$ introduced by an optical path difference $\\Delta L$ is given by:\n",
    "\n",
    "$$\\phi(\\lambda)=\\frac{2\\pi}{\\lambda}\\Delta L \\tag{2.3.30} $$\n",
    "\n",
    "If the phase shift of a central wavelength $\\lambda_0$ is known, then the phase at any other wavellength $\\lambda$ can be expressed as:\n",
    "\n",
    "$$\\phi(\\lambda)=\\phi_0 \\cdot \\frac{\\lambda_0}{\\lambda} \\tag{2.3.31}$$\n",
    "\n",
    "This scaling accounts for the fact that shorter wavelengths accumulate more phase shift over the same optical path difference compared to longer wavelengths.\n",
    "\n",
    "Therefore, to modulate phases, the function first calculate the `central_wavelength` $\\lambda_0$ by calling `field.spectrum[..., 0, 0].squeeze()`. The ellipsis `...` represents all preceding dimensions, it selects all elements along the spectral dimensions in this context. `0, 0` selects the element at the first position along the dimensions. The `squeeze()` removes any singleton dimensions from the array. For example:"
   ]
  },
  {
   "cell_type": "code",
   "execution_count": 3,
   "id": "e1ff6025",
   "metadata": {},
   "outputs": [
    {
     "name": "stdout",
     "output_type": "stream",
     "text": [
      "The spectrum of the field =\n",
      " [[0.55]\n",
      " [0.63]\n",
      " [0.71]]\n",
      "The central wavelength of the field = 0.55\n"
     ]
    }
   ],
   "source": [
    "from chromatix.field import Field\n",
    "import jax.numpy as jnp\n",
    "\n",
    "field = Field(\n",
    "    u = jnp.array([[1, 2, 3],\n",
    "                   [4, 5, 6],\n",
    "                   [7, 8, 9]]),\n",
    "    _dx = jnp.array([[0.1], [0.1]]),\n",
    "    _spectrum = jnp.array([0.55, 0.63, 0.71]),\n",
    "    _spectral_density = jnp.array([1.0, 1.0, 1.0]),\n",
    ")\n",
    "\n",
    "print(\"The spectrum of the field =\\n\", field.spectrum)\n",
    "print(\"The central wavelength of the field =\", field.spectrum[..., 0, 0].squeeze())"
   ]
  },
  {
   "cell_type": "markdown",
   "id": "bb2a391b",
   "metadata": {},
   "source": [
    "Then, the next line creates an array of modulation factors (`spectral modulation`) for each wavelength component. Finally, the function returns the product of the input phase and the modulation factor."
   ]
  },
  {
   "cell_type": "markdown",
   "id": "569e303a",
   "metadata": {},
   "source": [
    "#### **Function 2: phase_change**"
   ]
  },
  {
   "cell_type": "markdown",
   "id": "68d548fc",
   "metadata": {},
   "source": [
    "*Source Code*"
   ]
  },
  {
   "cell_type": "code",
   "execution_count": null,
   "id": "f88cca69",
   "metadata": {},
   "outputs": [],
   "source": [
    "def phase_change(field: Field, phase: Array, spectrally_modulate: bool = True) -> Field:\n",
    "    \"\"\"\n",
    "    Perturbs ``field`` by ``phase`` (given in radians).\n",
    "\n",
    "    Returns a new ``Field`` with the result of the perturbation.\n",
    "\n",
    "    Args:\n",
    "        field: The complex field to be perturbed.\n",
    "        phase: The phase to apply.\n",
    "    \"\"\"\n",
    "    phase = _broadcast_2d_to_spatial(phase, field.ndim)\n",
    "    assert_rank(\n",
    "        phase,\n",
    "        field.ndim,\n",
    "        custom_message=\"Phase must have same ndim as incoming ``Field``.\",\n",
    "    )\n",
    "    if spectrally_modulate:\n",
    "        phase = spectrally_modulate_phase(phase, field)\n",
    "    return field * jnp.exp(1j * phase)"
   ]
  },
  {
   "cell_type": "markdown",
   "id": "b09cff0f",
   "metadata": {},
   "source": [
    "*Explanation*"
   ]
  },
  {
   "cell_type": "markdown",
   "id": "bd41d220",
   "metadata": {},
   "source": [
    "This function aims to perturb the input `field` by an input `phase` array. To make sure that the multiplication is performed correctly, the `phase` array is broadcast to the same dimension with the input `field` and the function `assert_rank` is used to ensure than the broadcast is right.\n",
    "\n",
    "Then, if the input `spectrally_modulate` is `True`, the `phase` array is modulated according the wavelengths of the `field` by calling the function `spectrally_modulate_phase`. In the end, the function returns the perturbed field."
   ]
  },
  {
   "cell_type": "markdown",
   "id": "3f88594a",
   "metadata": {},
   "source": [
    "#### **Function 3: wrap_phase**"
   ]
  },
  {
   "cell_type": "markdown",
   "id": "8ba424fb",
   "metadata": {},
   "source": [
    "*Source Code*"
   ]
  },
  {
   "cell_type": "code",
   "execution_count": null,
   "id": "2e598cd3",
   "metadata": {},
   "outputs": [],
   "source": [
    "@wrap_phase.defjvp\n",
    "def wrap_phase_jvp(primals: Tuple, tangents: Tuple) -> Tuple:\n",
    "    return wrap_phase(*primals), tangents[0]\n",
    "\n",
    "@jax.custom_jvp\n",
    "def wrap_phase(phase: Array, limits: Tuple[float, float] = (-jnp.pi, jnp.pi)) -> Array:\n",
    "    \"\"\"\n",
    "    Wraps values of ``phase`` to the range given by ``limits``.\n",
    "\n",
    "    Args:\n",
    "        phase: The phase mask to wrap (in radians).\n",
    "        limits: A tuple defining the minimum and maximum value that ``phase``\n",
    "            will be wrapped to.\n",
    "    \"\"\"\n",
    "    phase_min, phase_max = limits\n",
    "    phase = jnp.where(\n",
    "        phase < phase_min,\n",
    "        phase + 2 * jnp.pi * (1 + (phase_min - phase) // (2 * jnp.pi)),\n",
    "        phase,\n",
    "    )\n",
    "    phase = jnp.where(\n",
    "        phase > phase_max,\n",
    "        phase - 2 * jnp.pi * (1 + (phase - phase_max) // (2 * jnp.pi)),\n",
    "        phase,\n",
    "    )\n",
    "    return phase"
   ]
  },
  {
   "cell_type": "markdown",
   "id": "4125e655",
   "metadata": {},
   "source": [
    "*Explanation*"
   ]
  },
  {
   "cell_type": "markdown",
   "id": "3bb82815",
   "metadata": {},
   "source": [
    "`@jax.custom_jvp` is a decorator from JAX to define a function with a custom Jacobian-vector product (JVP) rule. `@wrap_phase.defjvp` is used to define the custom JVP (`wrap_phase_jvp`) for the `wrap_phase` function that has been decorated with `@jax.custom_jvp`. \n",
    "\n",
    "After decorating `wrap_phase` with `@jax.custom_jvp`, the function gains the custom JVP which is defined as the function `wrap_phase_jvp` with `@wrap_phase.defjvp`.\n",
    "\n",
    "The function `wrap_phase_jvp` accepts `primals` and `tangents`. `primals` is a tuple containing the original inputs to `wrap_phase`, namely, `phase` and `limits`. `tangents` is also a tuple containing the tangents (derivatives) of the inputs. This function returns `wrap_phase(*primals)` which is the result of the original `wrap_phase` function applied to the inputs and `tangent[0]`, which is the derivative with respect to the first input (`phase`).\n",
    "\n",
    "`@jax.custom_jvp` can be very useful when the function includes operations that are not differentiable like wrapping, the default automatic differentiation might fail or gives incorrect gradients.\n",
    "\n",
    "The `wrap_phase` function serves to adjust phase values so that they fall within a specified range $(-\\pi, \\pi)$. Wrapping the phase values back ensures continuity and correct interpretation.\n",
    "\n",
    "`phase_min` and `phase_max` retrieve the lower bound ($-\\pi$) and upper bound ($\\pi$) from the `limit`. `jnp.where(condition, x, y)` can efficiently apply element-wise conditional operations without explicit if-clauses and loops. It returns `x` when `condition` is `True`, and `y` when `condition` is `False`.\n",
    "\n",
    "Thus, the first `jnp.where()` adjusts phase values that are less than the `phase_min` to fall within the desired range by adding multiples of $2\\pi$. The floor division ($//$), computes how many full $2\\pi$ cycles fit into the difference, adding $1$ is to ensure that the adjusted phase exceeds `phase_min` after wrapping. It can be expressed as:\n",
    "\n",
    "$$\\text{phase} \\leftarrow \\text{phase}+2\\pi \\times \\lparen 1+\\lfloor \\frac{\\text{phase}_{min} - \\text{phase}}{2\\pi} \\rfloor \\rparen \\tag{2.3.32} $$\n",
    "\n",
    "Similarly, the second `jnp.where()` adjusts phase values that are greater than `phase_max` to fall within the desired range by subtracting multiples of $2\\pi$:\n",
    "\n",
    "$$\\text{phase} \\leftarrow \\text{phase}-2\\pi \\times \\lparen 1+\\lfloor \\frac{\\text{phase} - \\text{phase}_{max}}{2\\pi} \\rfloor \\rparen \\tag{2.3.33} $$\n",
    "\n",
    "For example:"
   ]
  },
  {
   "cell_type": "code",
   "execution_count": 16,
   "id": "5e7cb9ad",
   "metadata": {},
   "outputs": [
    {
     "name": "stdout",
     "output_type": "stream",
     "text": [
      "The number of pi: [-5.  -4.5 -4.  -3.5 -3.  -2.5 -2.  -1.5 -1.  -0.5  0.   0.5  1.   1.5\n",
      "  2.   2.5  3.   3.5  4.   4.5  5. ]\n",
      "Phase array = [-15.70796327 -14.13716694 -12.56637061 -10.99557429  -9.42477796\n",
      "  -7.85398163  -6.28318531  -4.71238898  -3.14159265  -1.57079633\n",
      "   0.           1.57079633   3.14159265   4.71238898   6.28318531\n",
      "   7.85398163   9.42477796  10.99557429  12.56637061  14.13716694\n",
      "  15.70796327]\n",
      "Wrapped phase array = [ 3.1415927 -1.5707964  0.         1.5707964  3.1415927 -1.5707964\n",
      "  0.         1.5707964 -3.1415927 -1.5707964  0.         1.5707964\n",
      "  3.1415927 -1.5707965  0.         1.570796   3.1415925 -1.570797\n",
      "  0.         1.570796   3.141592 ]\n"
     ]
    }
   ],
   "source": [
    "import numpy as np\n",
    "\n",
    "n_pi = np.linspace(-5, 5, 21)\n",
    "print(\"The number of pi:\", n_pi)\n",
    "\n",
    "phase = np.pi * n_pi\n",
    "print(\"Phase array =\", phase)\n",
    "\n",
    "phase_min, phase_max = -np.pi, np.pi\n",
    "phase = jnp.where(\n",
    "    phase < phase_min,\n",
    "    phase + 2 * jnp.pi * (1 + (phase_min - phase) // (2 * jnp.pi)),\n",
    "    phase,\n",
    ")\n",
    "phase = jnp.where(\n",
    "    phase > phase_max,\n",
    "    phase - 2 * jnp.pi * (1 + (phase - phase_max) // (2 * jnp.pi)),\n",
    "    phase,\n",
    ")\n",
    "\n",
    "print(\"Wrapped phase array =\", phase)"
   ]
  },
  {
   "cell_type": "markdown",
   "id": "e7cf4789",
   "metadata": {},
   "source": [
    "### **Module 6: polarizers**"
   ]
  },
  {
   "cell_type": "markdown",
   "id": "fcd7fa18",
   "metadata": {},
   "source": [
    "#### **Imports**"
   ]
  },
  {
   "cell_type": "code",
   "execution_count": null,
   "id": "8160a236",
   "metadata": {},
   "outputs": [],
   "source": [
    "from typing import Union\n",
    "\n",
    "import jax.numpy as jnp\n",
    "from chex import Array\n",
    "\n",
    "from chromatix.utils.utils import matvec\n",
    "\n",
    "from ..field import VectorField"
   ]
  },
  {
   "cell_type": "markdown",
   "id": "8a6e8f01",
   "metadata": {},
   "source": [
    "*Explanation*"
   ]
  },
  {
   "cell_type": "markdown",
   "id": "653e5c4a",
   "metadata": {},
   "source": [
    "The function `matvec` performs batched matrix-vector multiplication in a way that's compatible with broadcasting rules in JAX.\n",
    "\n",
    "The class `VectorField` is a subclass of `Field` and specializes in handling vectorial electromagnetic fields. The object of this class models vectorial electromagnetic fields where the direction and magnitude of the electric field are significant."
   ]
  },
  {
   "cell_type": "markdown",
   "id": "f0488f2b",
   "metadata": {},
   "source": [
    "#### **Function 1: jones_vector**"
   ]
  },
  {
   "cell_type": "markdown",
   "id": "4939c205",
   "metadata": {},
   "source": [
    "*Source Code*"
   ]
  },
  {
   "cell_type": "code",
   "execution_count": null,
   "id": "87fe044a",
   "metadata": {},
   "outputs": [],
   "source": [
    "def jones_vector(theta: float, beta: float) -> Array:\n",
    "    \"\"\"Generates a Jones vector given by [cos(theta), sin(theta)exp(1j*beta)].\n",
    "\n",
    "    Args:\n",
    "        theta (float): Polarization angle.\n",
    "        beta (float): Relative delay between components.\n",
    "\n",
    "    Returns:\n",
    "        Array: Jones vector.\n",
    "    \"\"\"\n",
    "\n",
    "    # Generates a Jones vector with a given beta = alpha_y - alpha_x.\n",
    "    # Assumes alpha_x=0.\n",
    "    return jnp.array(\n",
    "        [0, jnp.sin(theta) * jnp.exp(1j * beta), jnp.cos(theta)], dtype=jnp.complex64\n",
    "    )"
   ]
  },
  {
   "cell_type": "markdown",
   "id": "a5d75f98",
   "metadata": {},
   "source": [
    "*Explanation*"
   ]
  },
  {
   "cell_type": "markdown",
   "id": "4dcbbdbd",
   "metadata": {},
   "source": [
    "This function creates a Jones vector with the inputs `theta` and `beta`, where `theta` is the polarization angle and `beta` is the phase delay between the two components of an electromagnetic wave. The function returns a Jones vector:\n",
    "\n",
    "$$ \\text{\\textbf{J}} = \\begin{bmatrix}\n",
    "                          0\\\\\n",
    "                          \\sin(\\theta)e^{i\\beta}\\\\\n",
    "                          \\cos(\\theta)\n",
    "                          \\end{bmatrix} \\tag{2.3.34} $$\n",
    "\n",
    "The Jones vector describes the polarization of light in free space or another homogeneous isotropic non-attenuating medium, where the light can be properly described as transverse waves[@Jones_calculus]. Setting the propagation direction as the positive $z$-direction, the complex amplitude of the electric field of a wave can be expressed as:\n",
    "\n",
    "$$ \\begin{bmatrix} E_x(t)\\\\ E_y(t)\\\\ 0 \\end{bmatrix}= \\begin{bmatrix} E_{0x}e^{i\\phi_x}\\\\ E_{0y}e^{i\\phi_y} \\\\ 0 \\end{bmatrix} e^{i(kz-wt)} \\tag{2.3.35}$$\n",
    "\n",
    "Since $E_z$ can always be seen as $0$, extracting the part that matters, we can obtain the typical Jones vector:\n",
    "\n",
    "$$ \\textbf{J}=\\begin{bmatrix} E_{0x}e^{i\\phi_x} \\\\ E_{0y}e^{i\\phi_y} \\end{bmatrix} \\tag{2.3.36}$$\n",
    "\n",
    "Furthermore, ordinarily, the angle between $\\textbf{E}$ and $E_x$ is denoted as $\\theta$ like the figure below shows:\n",
    "\n",
    "[<center> <img src=\"Jonesvector.jpg\" > </center>](attachment:Jonesvector.jpg)\n",
    "\n",
    "and the relative phase delay $\\beta = \\phi_y - \\phi_x$ is of interest, so the Jones vector can be further simplied as:\n",
    "\n",
    "$$\\textbf{J}= E_0\\begin{bmatrix} \\cos{\\theta} \\\\ \\sin{\\theta}e^{i\\beta} \\end{bmatrix} \\rightarrow \\begin{bmatrix} \\cos{\\theta} \\\\ \\sin{\\theta}e^{i\\beta} \\end{bmatrix} \\tag{2.3.37} $$\n",
    "\n",
    "However, the Jones vector returned by this function has an extra $0$ element, and the sequence is inverted, which is not standard for Jones vectors. This is for matching the order $zyx$ and the Jones vector of the class `VectorField`."
   ]
  },
  {
   "cell_type": "markdown",
   "id": "4010c975",
   "metadata": {},
   "source": [
    "#### **Function 2: linear**"
   ]
  },
  {
   "cell_type": "markdown",
   "id": "9b8ac6a7",
   "metadata": {},
   "source": [
    "*Source Code*"
   ]
  },
  {
   "cell_type": "code",
   "execution_count": null,
   "id": "e691d865",
   "metadata": {},
   "outputs": [],
   "source": [
    "def linear(theta: float) -> Array:\n",
    "    \"\"\"Generates a Jones vector for linearly polarized\n",
    "    light with an angle $\\theta$ w.r.t. to the horizontal.\n",
    "\n",
    "    Args:\n",
    "        theta (float): Angle w.r.t horizontal.\n",
    "\n",
    "    Returns:\n",
    "        Array: Linearly polarized Jones vector.\n",
    "    \"\"\"\n",
    "    return jones_vector(theta, 0)"
   ]
  },
  {
   "cell_type": "markdown",
   "id": "f96b8e93",
   "metadata": {},
   "source": [
    "*Explanation*"
   ]
  },
  {
   "cell_type": "markdown",
   "id": "5fda2ba3",
   "metadata": {},
   "source": [
    "This function is for generating a Jones vector for linearly polarized light with an angle $\\theta$ relative to the horizontal axis by calling the function `jones_vector`.\n",
    "\n",
    "Linearly polarized light means that the electric field oscillates in a straight line[@Polarization]:\n",
    "\n",
    "[<center><img src=\"Linear Polarizations.png\" width = \"500\"></center>](<attachment:Linear Polarizations.png>)\n",
    "\n",
    "The phase delay between the two orthogonal components of the field is $0$. Thus, the function returns a Jones vector:\n",
    "\n",
    "$$ \\textbf{J} = \\begin{bmatrix} \\cos(\\theta) \\\\ \\sin(\\theta) \\end{bmatrix} \\tag{2.3.38} $$\n"
   ]
  },
  {
   "cell_type": "markdown",
   "id": "afdb9e55",
   "metadata": {},
   "source": [
    "#### **Function 3: left_circular**"
   ]
  },
  {
   "cell_type": "markdown",
   "id": "46ecde1b",
   "metadata": {},
   "source": [
    "*Source Code*"
   ]
  },
  {
   "cell_type": "code",
   "execution_count": null,
   "id": "f775f750",
   "metadata": {},
   "outputs": [],
   "source": [
    "def left_circular() -> Array:\n",
    "    \"\"\"Generates a Jones vector for left circularly polarized\n",
    "    light.\n",
    "\n",
    "    Returns:\n",
    "        Array: Left circularly polarized Jones vector.\n",
    "    \"\"\"\n",
    "    return jones_vector(jnp.pi / 4, jnp.pi / 2)"
   ]
  },
  {
   "cell_type": "markdown",
   "id": "eead0e85",
   "metadata": {},
   "source": [
    "*Explanation*"
   ]
  },
  {
   "cell_type": "markdown",
   "id": "6aa09d9f",
   "metadata": {},
   "source": [
    "This function generates a Jones vector for left-hand circularly polarized light by calling `jones_vector` with $\\theta = \\frac{\\pi}{4}$ and $\\beta = \\frac{\\pi}{2}$:\n",
    "\n",
    "$$ \\textbf{J} = \\frac{1}{\\sqrt{2}}\\begin{bmatrix} 1 \\\\ -i \\end{bmatrix} \\tag{2.3.39}$$\n",
    "\n",
    "Circular polarization occures when the two orthogonal electric field component vectors are of equal magnitude and are out of phase by exactly $90^\\circ$, or one-quarter wavelength[@Circular_Polarization]. A counterclockwise rotation refers to left-hand circular polarization state and a phase shift of $\\pi/2$, a clockwise rotation corresponds to a right-hand circular polarization state and a phase shift of $-\\pi/2$\n",
    "\n",
    "Here is a figure that shows left-circularly polarized light:\n",
    "\n",
    "[<center><img src=\"Left-Circularly Polarized Light.jpg\" width = \"400\"></center>](<attachment:Left-Circularly Polarized Light.jpg>)"
   ]
  },
  {
   "cell_type": "markdown",
   "id": "8b860329",
   "metadata": {},
   "source": [
    "#### **Function 4: right_circular**"
   ]
  },
  {
   "cell_type": "markdown",
   "id": "919402c1",
   "metadata": {},
   "source": [
    "*Source Code*"
   ]
  },
  {
   "cell_type": "code",
   "execution_count": null,
   "id": "e6205870",
   "metadata": {},
   "outputs": [],
   "source": [
    "def right_circular() -> Array:\n",
    "    \"\"\"Generates a Jones vector for right circularly polarized\n",
    "    light.\n",
    "\n",
    "    Returns:\n",
    "        Array: Right circularly polarized Jones vector.\n",
    "    \"\"\"\n",
    "    return jones_vector(jnp.pi / 4, -jnp.pi / 2)"
   ]
  },
  {
   "cell_type": "markdown",
   "id": "7a9fe597",
   "metadata": {},
   "source": [
    "*Explanation*"
   ]
  },
  {
   "cell_type": "markdown",
   "id": "bee7dbd6",
   "metadata": {},
   "source": [
    "As mentioned in the last function, right-hand circular polarization has a phase shift of $-\\pi/2$. Therefore, the Jones vector generated by this function is:\n",
    "\n",
    "$$ \\textbf{J} = \\frac{1}{\\sqrt{2}}\\begin{bmatrix} 1 \\\\ i \\end{bmatrix} \\tag{2.3.40}$$\n",
    "\n",
    "The right-hand circular polarization looks like:\n",
    "\n",
    "[<center><img src=\"Right-Circularly Polarized Light.jpg\" width = \"400\"></center>](<attachment:Right-Circularly Polarized Light.jpg>)"
   ]
  },
  {
   "cell_type": "markdown",
   "id": "d989e6d2",
   "metadata": {},
   "source": [
    "#### **Function 5: polarizer**"
   ]
  },
  {
   "cell_type": "markdown",
   "id": "fb60fa56",
   "metadata": {},
   "source": [
    "*Source Code*"
   ]
  },
  {
   "cell_type": "code",
   "execution_count": null,
   "id": "0e9826cf",
   "metadata": {},
   "outputs": [],
   "source": [
    "def polarizer(\n",
    "    field: VectorField,\n",
    "    J00: Union[float, complex, Array],\n",
    "    J01: Union[float, complex, Array],\n",
    "    J10: Union[float, complex, Array],\n",
    "    J11: Union[float, complex, Array],\n",
    ") -> VectorField:\n",
    "    \"\"\"Applies a Jones matrix with given components to the field.\n",
    "    Note that the components here refer to the common choice of coordinate\n",
    "    system and are inverted by us - i.e. J00 refers to Jxx.\n",
    "\n",
    "    Args:\n",
    "        field (VectorField): field to apply polarization to.\n",
    "        J00 (Union[float, complex, Array]): _description_\n",
    "        J01 (Union[float, complex, Array]): _description_\n",
    "        J10 (Union[float, complex, Array]): _description_\n",
    "        J11 (Union[float, complex, Array]): _description_\n",
    "\n",
    "    Returns:\n",
    "        VectorField: Field after polarizer.\n",
    "    \"\"\"\n",
    "    # Invert the axes as our order is zyx\n",
    "    LP = jnp.array([[0, 0, 0], [0, J11, J10], [0, J01, J00]])\n",
    "    LP = LP / jnp.linalg.norm(LP)\n",
    "    return field.replace(u=matvec(LP, field.u))"
   ]
  },
  {
   "cell_type": "markdown",
   "id": "f47132b3",
   "metadata": {},
   "source": [
    "*Explanation*"
   ]
  },
  {
   "cell_type": "markdown",
   "id": "c6d4f20a",
   "metadata": {},
   "source": [
    "This function is deigned to simulate polarizers such as linear polarizer, left circular polarizer, and right circular polarizer according to the values of the inputs `J00`, `J01`, `J10`, and `J11`. These four values constitute a matrix called Jones matrix, applying this matrix to an input vectorial field will polarize the field.\n",
    "\n",
    "Jones matrix is defined as a $2 \\times 2$ complex matrix describing the modification of the polarization state (Jones vector) of a wave:\n",
    "\n",
    "$$\\begin{bmatrix}E'_x\\\\ E'_y\\end{bmatrix} = \\begin{bmatrix}J_{xx}&J_{xy} \\\\ J_{yx}&j_{yy}\\end{bmatrix}\\begin{bmatrix}E_x\\\\ E_y\\end{bmatrix} \\tag{2.3.41} $$\n",
    "\n",
    "`J00`, `J01`, `J10`, and `J11` correspond to $J_{xx}$, $J_{xy}$, $J_{yx}$, and $J_{yy}$ respectively. However, since the coordinate system use $zyx$ order, and it's necessary to pad the Jones matrix with $0$s for accurate calculation, this function generates the Jones matrix `LP` in another way:\n",
    "\n",
    "$$ \\textbf{J} = \\begin{bmatrix}\n",
    "                    0 & 0 & 0 \\\\\n",
    "                    0 & J_{yy} & J_{yx}\\\\\n",
    "                    0 & J_{xy} & J_{xx}\\end{bmatrix} \\tag{2.3.41}$$\n",
    "\n",
    "`jnp.linalg.norm(LP)` computes Frobenius norm of the matrix `LP`. Frobenius norm calculate the root of the sun of the squares of all matrix elements:\n",
    "\n",
    "$$ {\\lVert A \\rVert}_F = \\sqrt{\\sum_{i=1}^m\\sum_{j=1}^{n}{\\lvert a_{ij}\\rvert}^2} \\tag{2.3.42}$$\n",
    "\n",
    "By dividing each element if `LP` by this norm, the `LP` is normalised to ensure that the matrix doen not introduce unintended scaling to the field's amplitude.\n",
    "\n",
    "The function `matvet()` performs batched matrix-vector multiplication of the `LP` and the complex field `field.u` of the object of `VectorField`. Therefore, a new polarized `VectorField` instance is returned in the end.  "
   ]
  },
  {
   "cell_type": "markdown",
   "id": "f6b8a18f",
   "metadata": {},
   "source": [
    "#### **Function 6: linear_polarizer**"
   ]
  },
  {
   "cell_type": "markdown",
   "id": "fcff549d",
   "metadata": {},
   "source": [
    "*Source Code*"
   ]
  },
  {
   "cell_type": "code",
   "execution_count": null,
   "id": "1741717a",
   "metadata": {},
   "outputs": [],
   "source": [
    "def linear_polarizer(field: VectorField, angle: float) -> VectorField:\n",
    "    \"\"\"Applies a linear polarizer with a given angle to the incoming field.\n",
    "\n",
    "    Args:\n",
    "        field (VectorField): incoming field.\n",
    "        angle (float): angle w.r.t to the horizontal.\n",
    "\n",
    "    Returns:\n",
    "        VectorField: outgoing field.\n",
    "    \"\"\"\n",
    "\n",
    "    c, s = jnp.cos(angle), jnp.sin(angle)\n",
    "    J00 = c**2\n",
    "    J11 = s**2\n",
    "    J01 = s * c\n",
    "    J10 = J01\n",
    "    return polarizer(field, J00, J01, J10, J11)"
   ]
  },
  {
   "cell_type": "markdown",
   "id": "9d500520",
   "metadata": {},
   "source": [
    "*Explanation*"
   ]
  },
  {
   "cell_type": "markdown",
   "id": "b07388d3",
   "metadata": {},
   "source": [
    "This function applies a linear polarizer to the input `field` at a given `angle` with respect to the horizontal. A linear polarizer is a polarizer that only allows light in a specific polarization state to pass through. The Jones matrix for a linear polarizer with axis of transmission angle $\\alpha$ from the horizontal is[@Jones_calculus]\n",
    "\n",
    "$$ \\textbf{J} = \\begin{bmatrix} \\cos^2(\\alpha) & \\cos(\\alpha)\\sin(\\alpha)\\\\\n",
    "                 \\cos(\\alpha)\\sin(\\alpha) & \\sin^2(\\alpha)\\end{bmatrix} \\tag{2.3.43}$$\n",
    "\n",
    "Light with any kind of polarization state will be linearly polarized at the angle $\\alpha$ with respect to the horizontal like the figure shows:\n",
    "\n",
    "[<center><img src=\"linear polarizer.png\"></center>](<attachment:linear polarizer.png>)\n",
    "\n",
    "This code of the function `linear_polarizer` simply calculates the four terms of the Jones matrix and passes them to the function `polarizer` to generate the linearly polarized field."
   ]
  },
  {
   "cell_type": "markdown",
   "id": "05f39b04",
   "metadata": {},
   "source": [
    "#### **Function 7: left_circular_polarizer**"
   ]
  },
  {
   "cell_type": "markdown",
   "id": "17aeb962",
   "metadata": {},
   "source": [
    "*Source Code*"
   ]
  },
  {
   "cell_type": "code",
   "execution_count": null,
   "id": "ea65684d",
   "metadata": {},
   "outputs": [],
   "source": [
    "def left_circular_polarizer(field: VectorField) -> VectorField:\n",
    "    \"\"\"Applies a left circular polarizer to the incoming field.\n",
    "\n",
    "    Args:\n",
    "        field (VectorField): incoming field.\n",
    "\n",
    "    Returns:\n",
    "        VectorField: outgoing field.\n",
    "    \"\"\"\n",
    "    J00 = 1\n",
    "    J11 = 1\n",
    "    J01 = -1j\n",
    "    J10 = 1j\n",
    "    return polarizer(field, J00, J01, J10, J11)"
   ]
  },
  {
   "cell_type": "markdown",
   "id": "b839d9c8",
   "metadata": {},
   "source": [
    "*Explanation*"
   ]
  },
  {
   "cell_type": "markdown",
   "id": "8a3b80a0",
   "metadata": {},
   "source": [
    "This function applies a left circular polarizer to the incoming field in the same way as the `linear_polarizer` function. The Jones matrix for left circular polarizer is[@Jones_calculus]:\n",
    "\n",
    "$$ \\textbf{J} = \\begin{bmatrix} 1 & -i\\\\ i & 1 \\end{bmatrix} \\tag{2.3.44}$$"
   ]
  },
  {
   "cell_type": "markdown",
   "id": "4d51fc71",
   "metadata": {},
   "source": [
    "#### **Function 8: right_circular_polarizer**"
   ]
  },
  {
   "cell_type": "markdown",
   "id": "825099e3",
   "metadata": {},
   "source": [
    "*Source Code*"
   ]
  },
  {
   "cell_type": "code",
   "execution_count": null,
   "id": "ed4fc197",
   "metadata": {},
   "outputs": [],
   "source": [
    "def right_circular_polarizer(field: VectorField) -> VectorField:\n",
    "    \"\"\"\n",
    "    Applies a thin RCP polarizer to the incoming ``Field``.\n",
    "\n",
    "    Args:\n",
    "        field: The ``Field`` to which the polarizer will be applied.\n",
    "\n",
    "    Returns:\n",
    "        The ``Field`` directly after the polarizer.\n",
    "    \"\"\"\n",
    "    J00 = 1\n",
    "    J11 = 1\n",
    "    J01 = 1j\n",
    "    J10 = -1j\n",
    "    return polarizer(field, J00, J01, J10, J11)"
   ]
  },
  {
   "cell_type": "markdown",
   "id": "b5a26aba",
   "metadata": {},
   "source": [
    "*Explanation*"
   ]
  },
  {
   "cell_type": "markdown",
   "id": "9009c132",
   "metadata": {},
   "source": [
    "The only difference between this function and the `left_circular_polarizer` is the Jones matrix. The Jones matrix for right circular polarizer is[@Jones_calculus]:\n",
    "\n",
    "$$ \\textbf{J} = \\begin{bmatrix} 1 & i\\\\ -i & 1 \\end{bmatrix} \\tag{2.3.45}$$"
   ]
  },
  {
   "cell_type": "markdown",
   "id": "da1049fc",
   "metadata": {},
   "source": [
    "#### **Function 9: phase_retarder**"
   ]
  },
  {
   "cell_type": "markdown",
   "id": "db3cf795",
   "metadata": {},
   "source": [
    "*Source Code*"
   ]
  },
  {
   "cell_type": "code",
   "execution_count": null,
   "id": "da6dd43f",
   "metadata": {},
   "outputs": [],
   "source": [
    "def phase_retarder(\n",
    "    field: VectorField, theta: float, eta: float, phi: float\n",
    ") -> VectorField:\n",
    "    \"\"\"Applies a general purpose retardation matrix with angle w.r.t horizontal theta,\n",
    "    relative phase change eta and circularity phi.\n",
    "\n",
    "    Args:\n",
    "        field (VectorField): incoming field.\n",
    "        theta (float): angle w.r.t horizonal axis.\n",
    "        eta (float): relative phase retardation.\n",
    "        phi (float): circularity.\n",
    "\n",
    "    Returns:\n",
    "        VectorField: outgoing field.\n",
    "    \"\"\"\n",
    "    s, c = jnp.sin(theta), jnp.cos(theta)\n",
    "    scale = jnp.exp(-1j * eta / 2)\n",
    "    J00 = scale * (c**2 + jnp.exp(1j * eta) * s**2)\n",
    "    J11 = scale * (s**2 + jnp.exp(1j * eta) * c**2)\n",
    "    J01 = scale * (1 - jnp.exp(1j * eta)) * jnp.exp(-1j * phi) * s * c\n",
    "    J10 = scale * (1 - jnp.exp(1j * eta)) * jnp.exp(1j * phi) * s * c\n",
    "    return polarizer(field, J00, J01, J10, J11)"
   ]
  },
  {
   "cell_type": "markdown",
   "id": "c7f9a710",
   "metadata": {},
   "source": [
    "*Explanation*"
   ]
  },
  {
   "cell_type": "markdown",
   "id": "d16726d2",
   "metadata": {},
   "source": [
    "This simulates a phase retarder by applying a general phase retarder Jones matrix to the input field to modify its polarization state. `theta` is the orientation angle of the retarder with respect to the horizontal axis, `phi` is a circularity parameter, representing an additional phase difference that introduces ellipticity, and `eta` is the phase retardation between the fast and slow axes of the retarder.\n",
    "\n",
    "Fast and slow axes exist in birefringent uniaxial crystals. Uniaxial crystals have one crystal axis that is different the other two crystal axes ($n_i \\neq n_j = n_k$). This unique axis is called extraordinary axis or optical axis. The unique axis has different refractive index with the other axes. The axis with smaller refractive index is called fast axis, since light speed is higher along this axis ($v = c/n$), and vice versa. Because of this effect, the orthogonal components of the light experience different phase change($\\eta$) as they exit the uniaxial:\n",
    "\n",
    "$$ \\eta = \\frac{2\\pi}{\\lambda}(n_{slow}-n_{fast})d \\tag{2.3.46}$$\n",
    "\n",
    "where $D$ is the distance that light passes in the crystal. Phase retarders are usually made out of this kind of crystals. \n",
    "\n",
    "Phase retarder can also be represented by Jone matrix. The Jones matrix of this function represents the phase retarder of arbitrary birefringent material[@Jone_calculus]:\n",
    "\n",
    "$$ \\textbf{J} = e^{-\\frac{i \\eta}{2}}\n",
    "\\begin{bmatrix}\n",
    "\\cos^2 \\theta + e^{i \\eta} \\sin^2 \\theta & (1 - e^{i \\eta}) e^{-i \\phi} \\cos \\theta \\sin \\theta \\\\\n",
    "(1 - e^{i \\eta}) e^{i \\phi} \\cos \\theta \\sin \\theta & \\sin^2 \\theta + e^{i \\eta} \\cos^2 \\theta\n",
    "\\end{bmatrix} \\tag{2.3.47}$$\n"
   ]
  },
  {
   "cell_type": "markdown",
   "id": "b4c76a90",
   "metadata": {},
   "source": [
    "#### **Function 9: wave_plate**"
   ]
  },
  {
   "cell_type": "markdown",
   "id": "075e1ac4",
   "metadata": {},
   "source": [
    "*Source Code*"
   ]
  },
  {
   "cell_type": "code",
   "execution_count": null,
   "id": "dc1872b3",
   "metadata": {},
   "outputs": [],
   "source": [
    "def wave_plate(field: VectorField, theta: float, eta: float) -> VectorField:\n",
    "    \"\"\"Applies a general waveplate with angle theta and delay eta to the field.\n",
    "\n",
    "    Args:\n",
    "        field (VectorField): incoming field.\n",
    "        theta (float): angle w.r.t horizontal.\n",
    "        eta (float): relative delay between components.\n",
    "\n",
    "    Returns:\n",
    "        VectorField: outgoing field.\n",
    "    \"\"\"\n",
    "    return phase_retarder(field, theta, eta, phi=0)"
   ]
  },
  {
   "cell_type": "markdown",
   "id": "4ef07502",
   "metadata": {},
   "source": [
    "*Explanation*"
   ]
  },
  {
   "cell_type": "markdown",
   "id": "fc24d7f3",
   "metadata": {},
   "source": [
    "This function simulates a general wave plate, also known as linear phase retarder by calling the `phase_retarder` function but setting `phi=0`. The Jones matrix of the wave plate can be written as:\n",
    "\n",
    "$$ \\textbf{J} = e^{-\\frac{i \\eta}{2}}\n",
    "\\begin{bmatrix}\n",
    "\\cos^2 \\theta + e^{i \\eta} \\sin^2 \\theta & (1 - e^{i \\eta})  \\cos \\theta \\sin \\theta \\\\\n",
    "(1 - e^{i \\eta})  \\cos \\theta \\sin \\theta & \\sin^2 \\theta + e^{i \\eta} \\cos^2 \\theta\n",
    "\\end{bmatrix} \\tag{2.3.47}$$"
   ]
  },
  {
   "cell_type": "markdown",
   "id": "6d41bdb3",
   "metadata": {},
   "source": [
    "#### **Function 10: halfwave_plate**"
   ]
  },
  {
   "cell_type": "markdown",
   "id": "409ce796",
   "metadata": {},
   "source": [
    "*Source Code*"
   ]
  },
  {
   "cell_type": "code",
   "execution_count": null,
   "id": "5ae763d7",
   "metadata": {},
   "outputs": [],
   "source": [
    "def halfwave_plate(field: VectorField, theta: float) -> VectorField:\n",
    "    \"\"\"Applies a halfwave plate with angle theta to the incoming field.\n",
    "\n",
    "    Args:\n",
    "        field (VectorField): incoming field.\n",
    "        theta (float): angle w.r.t. horizontal.\n",
    "\n",
    "    Returns:\n",
    "        VectorField: outgoing field.\n",
    "    \"\"\"\n",
    "    return phase_retarder(field, theta, eta=jnp.pi, phi=0)"
   ]
  },
  {
   "cell_type": "markdown",
   "id": "24aea83b",
   "metadata": {},
   "source": [
    "*Explanation*"
   ]
  },
  {
   "cell_type": "markdown",
   "id": "873d2134",
   "metadata": {},
   "source": [
    "Halfwave plate makes the light's orthogonal components have a phase difference of $\\pi$ (half a wave) after the light passer through the phase retarder. Therefore, the `eta` should be set as $\\pi$. Then, the Jones matrix of the halfwave plate becomes:\n",
    "\n",
    "$$ \\textbf{J} = i\n",
    "\\begin{bmatrix}\n",
    "\\cos^2 \\theta - \\sin^2 \\theta & 2 \\cos \\theta \\sin \\theta \\\\\n",
    "2 \\cos \\theta \\sin \\theta & \\sin^2 \\theta -  \\cos^2 \\theta\n",
    "\\end{bmatrix} \\tag{2.3.47}$$"
   ]
  },
  {
   "cell_type": "markdown",
   "id": "7623373a",
   "metadata": {},
   "source": [
    "#### **Function 11: quarterwave_plate**"
   ]
  },
  {
   "cell_type": "markdown",
   "id": "b451d095",
   "metadata": {},
   "source": [
    "*Source Code*"
   ]
  },
  {
   "cell_type": "code",
   "execution_count": null,
   "id": "09889b2f",
   "metadata": {},
   "outputs": [],
   "source": [
    "def quarterwave_plate(field: VectorField, theta: float) -> VectorField:\n",
    "    \"\"\"Applies a quarterwave plate with angle theta to the incoming field.\n",
    "\n",
    "    Args:\n",
    "        field (VectorField): incoming field.\n",
    "        theta (float): angle w.r.t. horizontal.\n",
    "\n",
    "    Returns:\n",
    "        VectorField: outgoing field.\n",
    "    \"\"\"\n",
    "    return phase_retarder(field, theta, eta=jnp.pi / 2, phi=0)"
   ]
  },
  {
   "cell_type": "markdown",
   "id": "82b01424",
   "metadata": {},
   "source": [
    "*Explanation*"
   ]
  },
  {
   "cell_type": "markdown",
   "id": "f7a51773",
   "metadata": {},
   "source": [
    "Like the halfwave plate, quarterwave plate makes the light's orthogonal components have a phase difference of $\\pi/2$ after the light passer through the phase retarder. Therefore, the `eta` should be set as $\\pi/2$. Then, the Jones matrix of the quarterwave plate becomes:\n",
    "\n",
    "$$ \\textbf{J} = \\frac{i}{\\sqrt{2}}\n",
    "\\begin{bmatrix}\n",
    "\\cos^2 \\theta + i \\sin^2 \\theta & (1-i) \\cos \\theta \\sin \\theta \\\\\n",
    "(1-i) \\cos \\theta \\sin \\theta & \\sin^2 \\theta + i \\cos^2 \\theta\n",
    "\\end{bmatrix} \\tag{2.3.47}$$"
   ]
  },
  {
   "cell_type": "markdown",
   "id": "90a4e418",
   "metadata": {},
   "source": [
    "#### **Function 12: universal_compensator**"
   ]
  },
  {
   "cell_type": "markdown",
   "id": "777e6d38",
   "metadata": {},
   "source": [
    "*Source Code*"
   ]
  },
  {
   "cell_type": "code",
   "execution_count": null,
   "id": "d36c4d75",
   "metadata": {},
   "outputs": [],
   "source": [
    "def universal_compensator(field: VectorField, retA: float, retB: float) -> VectorField:\n",
    "    \"\"\"Applies the Universal Polarizer for the LC-PolScope to the incoming field.\n",
    "\n",
    "    Args:\n",
    "        field (VectorField): incoming field.\n",
    "        retA (float): retardance induced at a 45 deg angle.\n",
    "        retB (float): retardance induced at a 0 deg angle.\n",
    "\n",
    "    Returns:\n",
    "        VectorField: outgoing field.\n",
    "    \"\"\"\n",
    "    field_LP = linear_polarizer(field, 0)\n",
    "    field_retA = wave_plate(field_LP, -jnp.pi / 4, retA)\n",
    "    field_retB = wave_plate(field_retA, 0, retB)\n",
    "    return field_retB"
   ]
  },
  {
   "cell_type": "markdown",
   "id": "79d81b72",
   "metadata": {},
   "source": [
    "*Explanation*"
   ]
  },
  {
   "cell_type": "markdown",
   "id": "35da2efe",
   "metadata": {},
   "source": [
    "The LC-PolScope is short for Liquid Crystal polarizing microscope. It is commonly used for birefringence imaging, analyzing the spatial and temporal variations of the differential phase delay in ordered and transparent materials[@mehta2013polarized]. The LC-PolScope uses a universal polarizer with liquid crystal devices to produce various state of polarization.\n",
    "\n",
    "A universal compensator, also known as universal polarizer, can be used to generate any polarization, from circular to elliptical to linear polarization of any orientation. It's composed of one linear polarizer and two variable retarders.\n",
    "\n",
    "This function simulates the effect of such a universal compensator on an incoming light field. The argument `field` is an object of `VectorField`. `retA` and `retB` are retardance value (phase shift) introduced by a retarder A with an orientation angle $-\\pi/4$ and a retarder B with an orientation angle $0$.\n",
    "\n",
    "The `field` first passes through a linear polarizer which is placed with an angle $0$ with respect to the horizontal axis. This is simulated by the previously defined function `linear polarizer(field, 0)`. Then it passes two retarders A and B with two `wave_plate()` functions. The result of the process is returned in the end. "
   ]
  },
  {
   "cell_type": "markdown",
   "id": "3beb03b6",
   "metadata": {},
   "source": [
    "### **Module 7: propagation**"
   ]
  },
  {
   "cell_type": "markdown",
   "id": "fd97d6ca",
   "metadata": {},
   "source": [
    "#### **Imports**"
   ]
  },
  {
   "cell_type": "markdown",
   "id": "d067c5df",
   "metadata": {},
   "source": [
    "*Source Code*"
   ]
  },
  {
   "cell_type": "code",
   "execution_count": null,
   "id": "0e171f68",
   "metadata": {},
   "outputs": [],
   "source": [
    "from typing import Literal, Tuple, Union\n",
    "\n",
    "import jax\n",
    "import jax.numpy as jnp\n",
    "import numpy as np\n",
    "from chex import Array\n",
    "\n",
    "from chromatix.field import crop, pad\n",
    "from chromatix.functional.convenience import optical_fft\n",
    "from chromatix.utils.fft import fft, ifft\n",
    "\n",
    "from ..field import Field\n",
    "from ..utils import _broadcast_1d_to_grid, _broadcast_1d_to_innermost_batch, l2_sq_norm"
   ]
  },
  {
   "cell_type": "markdown",
   "id": "d39484fc",
   "metadata": {},
   "source": [
    "*Explanation*"
   ]
  },
  {
   "cell_type": "markdown",
   "id": "f58ada22",
   "metadata": {},
   "source": [
    "The `Literal` from `typing` is used to specify that a variable or parameter must be one of a specific set of values. However, because Python is a dynamically typed language, which means type hints like `Literal` are not enforced at runtime, we have to install a type-checking tool like `mypy` to make `Literal` effective.\n",
    "\n",
    "The `crop` function is used to remove a specific number of pixels from the edges of the field along the spatial dimensions. And the `pad` function pads the field with a specific number of pixels along the spatial dimensions of the field.\n",
    "\n",
    "The `optical_fft` function multiplies the incoming field with a normalization factor $\\frac{n_{eff}}{i\\lambda z}$ and the calls the `fft` or `ifft` function to compute the Fourier transformation of the field depending on the field's propagation direction. \n",
    "\n",
    "The function `_broadcast_1d_to_grid` 1D array of size `2` to `(2 B... H W C 1)`:"
   ]
  },
  {
   "cell_type": "code",
   "execution_count": 7,
   "id": "cb046d7c",
   "metadata": {},
   "outputs": [
    {
     "name": "stdout",
     "output_type": "stream",
     "text": [
      "Dimension of the arr array: 1\n",
      "The shape of arr= (2,)\n",
      "The shape of bc_arr: (2, 1, 1, 1, 1, 1)\n",
      "Dimension of the broadcasted array: 6\n",
      "The broadcast array = [[[[[[1]]]]]\n",
      "\n",
      "\n",
      "\n",
      "\n",
      " [[[[[2]]]]]]\n"
     ]
    }
   ],
   "source": [
    "from chromatix.utils import _broadcast_1d_to_grid\n",
    "import jax.numpy as jnp\n",
    "\n",
    "# Create a 1D array with 2 elements\n",
    "arr = jnp.array([1, 2]) \n",
    "print(\"Dimension of the arr array:\", arr.ndim)\n",
    "print(\"The shape of arr=\", arr.shape)\n",
    "\n",
    "# Broadcast the 1D array\n",
    "bc_arr = _broadcast_1d_to_grid(arr, ndim=5)\n",
    "print(\"The shape of bc_arr:\", bc_arr.shape)\n",
    "print(\"Dimension of the broadcasted array:\", bc_arr.ndim)\n",
    "print(\"The broadcast array =\", bc_arr)"
   ]
  },
  {
   "cell_type": "markdown",
   "id": "41558758",
   "metadata": {},
   "source": [
    "The function `_broadcast_1d_to_innermost_batch` broadcast a 1D array of size `b` to left of `(H W)` in `(B... H W C [1 | 3])`:"
   ]
  },
  {
   "cell_type": "code",
   "execution_count": 10,
   "id": "976efb9a",
   "metadata": {},
   "outputs": [
    {
     "name": "stdout",
     "output_type": "stream",
     "text": [
      "Dimension of the arr array: 1\n",
      "The shape of arr= (3,)\n",
      "The shape of bc_arr: (1, 1, 1, 3, 1, 1, 1, 1)\n",
      "Dimension of the broadcasted array: 8\n",
      "The broadcast array = [[[[[[[[1]]]]\n",
      "\n",
      "\n",
      "\n",
      "    [[[[2]]]]\n",
      "\n",
      "\n",
      "\n",
      "    [[[[3]]]]]]]]\n"
     ]
    }
   ],
   "source": [
    "from chromatix.utils import _broadcast_1d_to_innermost_batch\n",
    "import jax.numpy as jnp\n",
    "\n",
    "# Create a 1D array with 3 elements\n",
    "arr = jnp.array([1, 2, 3]) \n",
    "print(\"Dimension of the arr array:\", arr.ndim)\n",
    "print(\"The shape of arr=\", arr.shape)\n",
    "\n",
    "# Broadcast the 1D array\n",
    "bc_arr = _broadcast_1d_to_innermost_batch(arr, ndim=8)\n",
    "print(\"The shape of bc_arr:\", bc_arr.shape)\n",
    "print(\"Dimension of the broadcasted array:\", bc_arr.ndim)\n",
    "print(\"The broadcast array =\", bc_arr)"
   ]
  },
  {
   "cell_type": "markdown",
   "id": "8709461c",
   "metadata": {},
   "source": [
    "The function `l2_sq_norm` returns the sums of squares of the elements in an input array along a certain axis, like $x^2 + y^2 + z^2...$."
   ]
  },
  {
   "cell_type": "markdown",
   "id": "882c1de5",
   "metadata": {},
   "source": [
    "#### **Function 1: transform_propagate**"
   ]
  },
  {
   "cell_type": "markdown",
   "id": "acf96ed8",
   "metadata": {},
   "source": [
    "*Source Code*"
   ]
  },
  {
   "cell_type": "code",
   "execution_count": null,
   "id": "1163beba",
   "metadata": {},
   "outputs": [],
   "source": [
    "def transform_propagate(\n",
    "    field: Field,\n",
    "    z: float,\n",
    "    n: float,\n",
    "    N_pad: Union[int, Tuple[int, int]],\n",
    "    cval: float = 0,\n",
    "    skip_initial_phase: bool = False,\n",
    "    skip_final_phase: bool = False,\n",
    ") -> Field:\n",
    "    \"\"\"\n",
    "    Fresnel propagate ``field`` for a distance ``z`` using transform method.\n",
    "    This method is also called the single-FFT (SFT-FR) Fresnel propagation\n",
    "    method. Note that this method changes the sampling of the resulting field.\n",
    "    If the distance is negative, the field is propagated back to the source\n",
    "    inverting essentially performing an inverse.\n",
    "\n",
    "    Args:\n",
    "        field: ``Field`` to be propagated.\n",
    "        z: Distance to propagate.\n",
    "        n: A float that defines the refractive index of the medium.\n",
    "        N_pad: A keyword argument integer defining the pad length for\n",
    "            the propagation FFT. Use padding calculator utilities from\n",
    "            ``chromatix.functional.propagation`` to compute the padding.\n",
    "            !!! warning\n",
    "                The pad value hould not be a Jax array, otherwise a\n",
    "                ConcretizationError will arise when traced!\n",
    "        cval: The background value to use when padding the Field. Defaults to 0\n",
    "            for zero padding.\n",
    "        skip_initial_phase: Whether to skip the input phase change (before\n",
    "            Fourier transforming). Defaults to False, in which case the input\n",
    "            phase change is not skipped.\n",
    "        skip_final_phase: Whether to skip the output phase change (after Fourier\n",
    "            transforming). Defaults to False, in which case the output phase\n",
    "            change is not skipped.\n",
    "    \"\"\"\n",
    "    field = pad(field, N_pad, cval=cval)\n",
    "    # Fourier normalization factor\n",
    "    L_sq = field.spectrum * z / n\n",
    "    # New field is optical_fft minus -1j factor\n",
    "    if not skip_initial_phase:\n",
    "        # Calculating input phase change (defining Q1)\n",
    "        input_phase = (jnp.pi / L_sq) * l2_sq_norm(field.grid)\n",
    "        field = field * jnp.exp(1j * input_phase)\n",
    "    field = 1j * optical_fft(field, z, n)\n",
    "    # Calculating output phase change (defining Q2)\n",
    "    if not skip_final_phase:\n",
    "        output_phase = (jnp.pi / L_sq) * l2_sq_norm(field.grid)\n",
    "        field = field * jnp.exp(1j * output_phase)\n",
    "    return crop(field, N_pad)"
   ]
  },
  {
   "cell_type": "markdown",
   "id": "890369fc",
   "metadata": {},
   "source": [
    "*Explanation*"
   ]
  },
  {
   "cell_type": "markdown",
   "id": "63336912",
   "metadata": {},
   "source": [
    "This function performs Fresnel propagation of an optical field over a specific distance using the Single-FFT Fresnel Propagation Method (SFT-FR). This method changes the sampling after propagation due to Single-FFT. If the initial sampling rate is:\n",
    "\n",
    "$$\\{x'\\} = \\{0, \\Delta x', 2\\Delta x', ..., (N-1)\\Delta x'\\} \\tag{2.3.48} $$\n",
    "\n",
    "After propagation, the sampling rate becomes:\n",
    "\n",
    "$$\\{x\\} = \\{0, \\frac{\\lambda z}{n_{eff}N\\Delta x'}, \\frac{2\\lambda z}{n_{eff}N\\Delta x'}, ..., \\frac{(N-1)\\lambda z}{n_{eff}N\\Delta x'} \\} \\tag{2.3.49} $$\n",
    "\n",
    "The `field` is an object of the class `Field`, representing a field that is going to be propagated, `z` and `n` representing the propagation distance and the refractive index of the medium.\n",
    "\n",
    "`N_pad` is the padding size for padding the field and `cval` is the constant value used to pad the field. Padding the field before performing FFT can minimize the edge effects and improve the accuracy of FFT.\n",
    "\n",
    "`skip_initial_phase` and `skip_final_phase` decide whether the initial phase and final phase will be skipped when doing FFT. The two arguments exist because the complete Fresnel propagation formula is:\n",
    "\n",
    "$$u_F(x, y, z) = \\frac{n_{eff}e^{ikz}}{i \\lambda z} e^{\\frac{i \\pi n_{eff}}{\\lambda z} (x^2 + y^2)} \\mathcal{F} \\left\\{ u_0(x', y', 0) e^{\\frac{i \\pi n_{eff}}{\\lambda z} (x'^2 + y'^2)} \\right\\} \\bigg|_{f_x = \\frac{n_{eff}x}{\\lambda z}, \\; f_y = \\frac{n_{eff}y}{\\lambda z}} \\tag{2.3.50} $$\n",
    "\n",
    "but `optical_fft` only performs:\n",
    "\n",
    "$$u_F(x, y, z) = \\mathcal{F} \\left\\{ \\frac{n_{eff}}{i \\lambda z} u_0(x', y', 0)\\right\\} \\bigg|_{f_x = \\frac{n_{eff}x}{\\lambda z}, \\; f_y = \\frac{n_{eff}y}{\\lambda z}} \\tag{2.3.51} $$\n",
    "\n",
    "The initial and final quadratic phase factors $\\frac{ \\pi n_{eff}}{\\lambda z} (x'^2 + y'^2)$ and $\\frac{\\pi n_{eff}}{\\lambda z} (x^2 + y^2)$ are ignored since they only describe the wavefront won't influence the intensity distribution. Therefore, when phase doesn't matter, `skip_initial_phase` and `skip_final_phase` can be `True` to simplify the computation."
   ]
  }
 ],
 "metadata": {
  "celltoolbar": "Edit Metadata",
  "kernelspec": {
   "display_name": "Python 3",
   "language": "python",
   "name": "python3"
  },
  "language_info": {
   "codemirror_mode": {
    "name": "ipython",
    "version": 3
   },
   "file_extension": ".py",
   "mimetype": "text/x-python",
   "name": "python",
   "nbconvert_exporter": "python",
   "pygments_lexer": "ipython3",
   "version": "3.12.1"
  },
  "toc-autonumbering": false,
  "toc-showcode": false,
  "toc-showmarkdowntxt": false,
  "toc-showtags": false
 },
 "nbformat": 4,
 "nbformat_minor": 5
}
