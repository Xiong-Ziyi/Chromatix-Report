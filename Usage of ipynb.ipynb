{
 "cells": [
  {
   "cell_type": "markdown",
   "id": "c9bd623a",
   "metadata": {},
   "source": [
    "# Shortcuts"
   ]
  },
  {
   "cell_type": "markdown",
   "id": "a9ae7190",
   "metadata": {},
   "source": [
    "### Command Mode"
   ]
  },
  {
   "cell_type": "markdown",
   "id": "65abce22",
   "metadata": {},
   "source": [
    "**Enter Command Mode**: Esc\n",
    "\n",
    "**Run the Cell**: Ctrl + Enter\n",
    "\n",
    "**Insert A Cell Above**: a\n",
    "\n",
    "**Insert A Cell After**: b\n",
    "\n",
    "**Switch Cell To Markdown**: m\n",
    "\n",
    "**Switch Cell to Code**: y\n",
    "\n",
    "**Delete The Cell**: d+d"
   ]
  },
  {
   "cell_type": "markdown",
   "id": "73fc24c4",
   "metadata": {},
   "source": [
    "### Edit Mode"
   ]
  },
  {
   "cell_type": "markdown",
   "id": "0523dbdc",
   "metadata": {},
   "source": [
    "**Enter Edit Mode**: Enter\n",
    "\n"
   ]
  }
 ],
 "metadata": {
  "kernelspec": {
   "display_name": "Python 3 (ipykernel)",
   "language": "python",
   "name": "python3"
  },
  "language_info": {
   "codemirror_mode": {
    "name": "ipython",
    "version": 3
   },
   "file_extension": ".py",
   "mimetype": "text/x-python",
   "name": "python",
   "nbconvert_exporter": "python",
   "pygments_lexer": "ipython3",
   "version": "3.11.7"
  }
 },
 "nbformat": 4,
 "nbformat_minor": 5
}
