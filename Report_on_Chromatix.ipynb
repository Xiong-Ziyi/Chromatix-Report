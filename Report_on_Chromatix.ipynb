{
 "cells": [
  {
   "cell_type": "markdown",
   "id": "aa86d613",
   "metadata": {},
   "source": [
    "# **Chapter 1: Introduction**"
   ]
  },
  {
   "cell_type": "markdown",
   "id": "a9b14634",
   "metadata": {},
   "source": [
    "## **Introduction to Chromatix**"
   ]
  },
  {
   "cell_type": "markdown",
   "id": "5d9b73a3",
   "metadata": {},
   "source": [
    "### **Contributors and Features**"
   ]
  },
  {
   "cell_type": "markdown",
   "id": "5ceee75a",
   "metadata": {},
   "source": [
    "`chromatix` is a differentiable wave optics library started by Diptodip Deb (@diptodip), Gert-Jan Both (@GJBoth), and Srinivas C. Turaga (@srinituraga) at HHMI Janelia Research Campus, along with contributions by: Amey Chaware (@isildur7), Amit Kohli (@apsk14), Cédric Allier (@allierc), Changjia Cai (@caichangjia), Geneva Schlafly (@gschlafly), Guanghan Meng(@guanghanmeng), Hoss Eybposh (@hosseybposh), Magdalena Schneider (@schneidermc), Xi Yang (@nicolexi) and published on GitHub with MIT license: https://github.com/chromatix-team/chromatix\n",
    "\n",
    "`chromatix` is built with the help of `jax` which combines JIT-compilation, (multi-)GPU support, and automatic differentiation with a convenient programming style inspired by deep learning libraries. This makes `chromatix` a great fit for inverse problems in optics. \n",
    "\n",
    "`chromatix` provides a set of optical element \"building blocks\" that can be composed together in a style similar to neural network layers. Besides, `chromatix` supports simulating optical phenomena across different wavelengths and polarization states and includes tools for simulating noise and sensor characteristics."
   ]
  },
  {
   "cell_type": "markdown",
   "id": "99fa1d00",
   "metadata": {},
   "source": [
    "### **Composition and Structure**"
   ]
  },
  {
   "cell_type": "markdown",
   "id": "adcd7409",
   "metadata": {},
   "source": [
    "The source code of this library defined  is divided into six packages (`data`, `elements`, `functional`, `ops`, `systems`, and `utils`) and two modules (`__init__.py`, and `field.py`):\n",
    "\n",
    "<img src=\"Figures\\Source Code Directory.png\" alt=\"Neuron\" width=\"90%\" style=\"display: block; margin: 0 auto;\">\n",
    "\n",
    "The contributors of this library defined 28 classes and 95 functions in total. The `data` focuses on creating and manipulating optical objects (patterns and images) and permittivity tensors:\n",
    "\n",
    "<img src=\"Figures\\data.png\" alt=\"Neuron\" width=\"90%\" style=\"display: block; margin: 0 auto;\">\n",
    "\n",
    "The `elements` package is a comprehensive collection of the so-called building blocks essential for constructing and simulating optical systems. It contains a wide range of classes for different optical elements such as lenses, mirrors, wavefront sensors, and other optical components. Each of them are designed to be modular and trainable, so that these classes can be trained and optimized with the most well-known optimization libraries `Optax` and `Jaxopt`. Besides, these elements can be used directly or combined to create complex optical systems:\n",
    "\n",
    "<img src=\"Figures\\elements.png\" alt=\"Neuron\" width=\"90%\" style=\"display: block; margin: 0 auto;\">\n",
    "\n",
    "The `elements` package is mainly responsible for optimization, training and composing an optical system but not for simulating and calculating how different elements manipulate incoming fields. This part is done by the `functional` package which contains functions to calculate how fields are manipulated when passing elements and functions to simulate samples, sensors, sources. So the names of the modules in the `elements` package and the `functional` package are highly matched:\n",
    "\n",
    "<img src=\"Figures\\functional.png\" alt=\"Neuron\" width=\"90%\" style=\"display: block; margin: 0 auto;\">\n",
    "\n",
    "The `system` package offers ready-to-use microscope system and 4-f system in the `microscopes.py` and a class `OpticalSystem` in `optical_system.py` to combine a sequence of elements into an optical system which can also be trained and optimized:: \n",
    "\n",
    "<img src=\"Figures\\systems.png\" alt=\"Neuron\" width=\"90%\" style=\"display: block; margin: 0 auto;\">\n",
    "\n",
    "The `ops` package provides tools for image processing like Gaussian filter, noise, quantization and resample:\n",
    "\n",
    "<img src=\"Figures\\ops.png\" alt=\"Neuron\" width=\"90%\" style=\"display: block; margin: 0 auto;\">\n",
    "\n",
    "The `utils` package is mainly written as auxiliary to contribute to the functions defined in the other packages. It contains functions which do things like Fourier transform, reshaping, initializing and so on:\n",
    "\n",
    "<img src=\"Figures\\utils.png\" alt=\"Neuron\" width=\"90%\" style=\"display: block; margin: 0 auto;\">\n",
    "\n",
    "Finally, the module `field.py` includes a `Field` class which is container that describe the chromatic light field at a 2D plane. And it also includes two subclasses of the `Field` class which are `ScalarField` and `VectorField`. Additionally, there are three functions `pad`, `crop` and `shift` defined in the module for modifying the complex field. \n",
    "\n",
    "Therefore, we can roughly draw such a picture to show the structure of the source code to show the connections of the packages:\n",
    "\n",
    "<img src=\"Figures\\structure.png\" alt=\"Neuron\" width=\"80%\" style=\"display: block; margin: 0 auto;\">\n"
   ]
  },
  {
   "cell_type": "markdown",
   "id": "cc607622",
   "metadata": {},
   "source": [
    "### **Usage**"
   ]
  },
  {
   "cell_type": "markdown",
   "id": "51e62f2a",
   "metadata": {},
   "source": [
    "Here is an example offered by Chromatix of using three optical elements to compose an optical system:"
   ]
  },
  {
   "cell_type": "code",
   "execution_count": null,
   "id": "eb26f37b",
   "metadata": {},
   "outputs": [],
   "source": [
    "import chromatix\n",
    "import chromatix.elements\n",
    "import jax\n",
    "import jax.numpy as jnp\n",
    "shape = (512, 512) # number of pixels in simulated field\n",
    "spacing = 0.3 # spacing of pixels for the final PSF, microns\n",
    "spectrum = 0.532 # microns\n",
    "spectral_density = 1.0\n",
    "f = 100.0 # focal length, microns\n",
    "n = 1.33 # refractive index of medium\n",
    "NA = 0.8 # numerical aperture of objective\n",
    "optical_model = chromatix.OpticalSystem(\n",
    "    [\n",
    "        chromatix.elements.ObjectivePointSource(shape, spacing, spectrum, spectral_density, f, n, NA),\n",
    "        chromatix.elements.PhaseMask(jnp.ones(shape)),\n",
    "        chromatix.elements.FFLens(f, n)\n",
    "    ]\n",
    ")\n",
    "# Calculate widefield PSF at multiple defocuses in parallel.\n",
    "# We first have to initialize any parameters or state of the system:\n",
    "variables = optical_model.init(jax.random.PRNGKey(4), jnp.linspace(-5, 5, num=11))\n",
    "widefield_psf = optical_model.apply(variables, jnp.linspace(-5, 5, num=11)).intensity"
   ]
  },
  {
   "cell_type": "markdown",
   "id": "055a9456",
   "metadata": {},
   "source": []
  },
  {
   "cell_type": "markdown",
   "id": "b49fb0c7",
   "metadata": {},
   "source": [
    "## **Introduction to this Report**"
   ]
  },
  {
   "cell_type": "markdown",
   "id": "d15302d7-7bd3-436c-90d8-9364169bec55",
   "metadata": {},
   "source": [
    "# **Chapter 2: Project Source Code**"
   ]
  },
  {
   "cell_type": "markdown",
   "id": "bdb9992b",
   "metadata": {},
   "source": [
    "## **Module: field**"
   ]
  },
  {
   "cell_type": "markdown",
   "id": "9690a39d",
   "metadata": {},
   "source": [
    "### **Imports**"
   ]
  },
  {
   "cell_type": "markdown",
   "id": "717fa505",
   "metadata": {},
   "source": [
    "*Source Code*"
   ]
  },
  {
   "cell_type": "code",
   "execution_count": null,
   "id": "e5f2d1f9",
   "metadata": {},
   "outputs": [],
   "source": [
    "from __future__ import annotations\n",
    "\n",
    "from numbers import Number\n",
    "from typing import Any, Optional, Tuple, Union\n",
    "\n",
    "import jax.numpy as jnp\n",
    "from chex import Array, assert_equal_shape, assert_rank\n",
    "from einops import rearrange\n",
    "from flax import struct\n",
    "\n",
    "from .utils.shapes import (\n",
    "    _broadcast_1d_to_channels,\n",
    "    _broadcast_1d_to_grid,\n",
    "    _broadcast_2d_to_grid,\n",
    ")"
   ]
  },
  {
   "cell_type": "markdown",
   "id": "57365948",
   "metadata": {},
   "source": [
    "1. The `__future__` module is used to inherit new features that will be available in the new Python versions. The `annotation` feature changes how annotations are stored and processed. With `from __future__ import annotations`, all type hints are stored as strings (deferred evaluation). Starting from Python 3.11, deferred annotations become the default behavior, so it's no longer needed to explicitly import `annotation`.\n",
    "\n",
    "2. The `Number` is the abstract base class (ABC) from Python's `number` module providing a way to test whether an object is a numeric type like `int`, `float`, `complex`.\n",
    "\n"
   ]
  },
  {
   "cell_type": "code",
   "execution_count": 5,
   "id": "b6bd99ff",
   "metadata": {},
   "outputs": [
    {
     "name": "stdout",
     "output_type": "stream",
     "text": [
      "True\n"
     ]
    }
   ],
   "source": [
    "from numbers import Number\n",
    "\n",
    "# Here is how to use `Number`\n",
    "print(isinstance(5, Number))"
   ]
  },
  {
   "cell_type": "markdown",
   "id": "39475bc7",
   "metadata": {},
   "source": [
    "3. The `Any` represents any type of object disabling type checking for variables annotated as `Any`. `Union` represents a type that can be one of multiple types. `Optional` represents a value that can either be of a specific type or `None` and is shorthand for `Union[Type, None]`. The `Tuple` are used to store multiple items in a single variable and a tuple is collection which is ordered and unchangeable.\n",
    "\n",
    "4. The `jax.numpy` is provided by the JAX library which is a high-performance numerical computing library that supports automatic differentiation, GPU/TPU acceleration, and a functional programming paradigm. The `jax.numpy` module is designed to be compatible with the `numpy` API, making it easier for users familiar with NumPy to transition to JAX. \n",
    "\n",
    "5. The `Array` from `chex` is a type alias for NumPy-like arrays used for type annotations. The function `assert_equal_shape` checks if multiple arrays have the same shape. The function `assert_equal_rank` checks if multiple arrays have the same rank:"
   ]
  },
  {
   "cell_type": "code",
   "execution_count": 7,
   "id": "c2b8d70d",
   "metadata": {},
   "outputs": [],
   "source": [
    "from chex import assert_equal_shape, assert_rank\n",
    "import jax.numpy as jnp\n",
    "\n",
    "arr1 = jnp.ones((3, 3))\n",
    "arr2 = jnp.full((3, 3), 2)\n",
    "arr3 = jnp.zeros((2, 2))\n",
    "\n",
    "assert_equal_shape([arr1, arr2])\n",
    "assert_rank(arr1, 2)"
   ]
  },
  {
   "cell_type": "markdown",
   "id": "9a1d1afc",
   "metadata": {},
   "source": [
    "6. The `rearrange` function from the `Einops` library reshapes, permutes, or manipulates the axes of arrays using a descriptive string syntax:"
   ]
  },
  {
   "cell_type": "code",
   "execution_count": 11,
   "id": "a84f7000",
   "metadata": {},
   "outputs": [
    {
     "name": "stdout",
     "output_type": "stream",
     "text": [
      "The shape of the rearranged array is:  (3, 4, 2)\n"
     ]
    }
   ],
   "source": [
    "from einops import rearrange\n",
    "import numpy as np\n",
    "\n",
    "# 3D array of shape (2, 3, 4)\n",
    "arr = np.random.rand(2, 3, 4)\n",
    "\n",
    "# Rearrange the array from (batch, height, width) to (height, width, batch)\n",
    "rearranged_arr = rearrange(arr, \"b h w -> h w b\")\n",
    "print(\"The shape of the rearranged array is: \", rearranged_arr.shape)"
   ]
  },
  {
   "cell_type": "markdown",
   "id": "9da8ca64",
   "metadata": {},
   "source": [
    "7. The Flax is a lightweight library for building neural networks in JAX. The `flax.struct` provides a decorator for creating immutable dataclasses by default. It's similar to Python's built-in `dataclasses` but is tailored to work seamlessly with JAX transformations like `jit` and `grad`.\n",
    "\n",
    "8. The last part imports three functions from the Chromatix library itself. All of them are used to broadcast an array to a specific shape. The `_broadcast_1d_to_channels` broadcasts 1D array of size `C` to `(B... H W C [1 | 3])`. The `_broadcast_2_to_grid` broadcasts 1D array of size `2` to `(2 B... H W C 1)`. And the `_broadcast_2d_to_grid` broadcasts 2D array of shape `2 C` to `(2 B... H W C [1 | 3])`."
   ]
  },
  {
   "cell_type": "markdown",
   "id": "003c2d52",
   "metadata": {},
   "source": [
    "### **Class 1: Field**"
   ]
  },
  {
   "cell_type": "markdown",
   "id": "bcc9cf61",
   "metadata": {},
   "source": [
    "This `Field` class contains four attributes and thirty methods totally."
   ]
  },
  {
   "cell_type": "markdown",
   "id": "42320914",
   "metadata": {},
   "source": [
    "#### **Attributes**"
   ]
  },
  {
   "cell_type": "markdown",
   "id": "88ca24ad",
   "metadata": {},
   "source": [
    "*Source Code*"
   ]
  },
  {
   "cell_type": "code",
   "execution_count": null,
   "id": "3f6cf998",
   "metadata": {},
   "outputs": [],
   "source": [
    "class Field(struct.PyTreeNode):\n",
    "    \"\"\"\n",
    "    A container that describes the chromatic light field at a 2D plane.\n",
    "\n",
    "    ``Field`` objects track various attributes of a complex-valued field (in\n",
    "    addition to the field itself for each wavelength): the spacing of the\n",
    "    samples along the field, the wavelengths in the spectrum, and the density\n",
    "    of the wavelengths. This information can be used, for example, to calculate\n",
    "    the intensity of a field at a plane, appropriately weighted by the spectrum.\n",
    "    ``Field`` objects also provide various grids for convenience, as well\n",
    "    as allow elementwise operations with any broadcastable values, including\n",
    "    scalars, arrays, or other ``Field`` objects. These operations include: `+`,\n",
    "    `-` (including negation), `*`, `/`, `+=`, `-=`, `*=`, `/=`.\n",
    "\n",
    "    The shape of a ``Field`` object is `(B... H W C [1 | 3])`, where B... is\n",
    "    an arbitrary number of batch dimensions, H and W are height and width,\n",
    "    and C is the channel dimension, which we use for different wavelengths in\n",
    "    the spectrum of a ``Field``. The final dimension has size either 1 for a\n",
    "    scalar approximation ``ScalarField`` or 3 for the full vectorial case of\n",
    "    ``VectorField``. Any function in Chromatix that deals with ``Field``s can\n",
    "    work with either ``ScalarField``s or ``VectorField``s, unless otherwise\n",
    "    stated.\n",
    "\n",
    "    The (potentially more than 1) batch dimensions can be used for any purpose,\n",
    "    such as different samples, depth, or time. Any Chromatix functions that\n",
    "    produce multiple depths (e.g. propagation to multiple z values) will\n",
    "    broadcast to the innermost batch dimension. If more dimensions are required,\n",
    "    we encourage the use of ``jax.vmap``, ``jax.pmap``, or a combination of\n",
    "    the two. We intend for this to be a compromise between not having too many\n",
    "    dimensions when they are not required, and also not having to litter a\n",
    "    program with ``jax.vmap`` transformations for common simulations in 3D or 3D\n",
    "    over time.\n",
    "\n",
    "    Due to this shape, in order to ensure that attributes of ``Field``\n",
    "    objects broadcast appropriately, attributes which could be 1D arrays are\n",
    "    ensured to have extra singleton dimensions. In order to make the creation\n",
    "    of ``Field`` objects more convenient, we provide the class methods\n",
    "    ``ScalarField.create()`` and ``VectorField.create()`` (detailed below),\n",
    "    which accepts scalar or 1D array arguments for the various attributes\n",
    "    (e.g. if a single wavelength is desired, a scalar value can be used, but if\n",
    "    multiple wavelengths are desired, a 1D array can be used for the value of\n",
    "    ``spectrum``). These methods appropriately reshapes the attributes provided\n",
    "    to the correct shapes.\n",
    "\n",
    "    Attributes:\n",
    "        u: The complex field of shape ``(B... H W C [1 | 3])``.\n",
    "        _dx: The spacing of the samples in ``u`` discretizing a continuous\n",
    "            field. Defined as a 2D array of shape ``(2 C)`` specifying the spacing\n",
    "            in the y and x directions respectively (can be the same for y and\n",
    "            x for the common case of square pixels). Spacing is the same per\n",
    "            wavelength for all entries in a batch. Not intended to be publicly\n",
    "            accessed, because the shape of this attribute does not dynamically\n",
    "            adapt to the ``ndim`` of the ``Field``. Instead, use the ``dx``\n",
    "            property.\n",
    "        _spectrum: The wavelengths sampled by the field, in any units specified.\n",
    "            Should be a 1D array. Not intended to be publicly accessed, because\n",
    "            the shape of this attribute does not dynamically adapt to the\n",
    "            ``ndim`` of the ``Field``. Instead, use the ``spectrum`` property.\n",
    "        _spectral_density: The weights of the wavelengths in the spectrum.\n",
    "            Shouldbe a 1D array of same length as ``_spectrum``. Must sum to\n",
    "            1.0. Not intended to be publicly accessed, because the shape of\n",
    "            this attribute does not dynamically adapt to the ``ndim`` of the\n",
    "            ``Field``. Instead, use the ``spectral_density`` property.\n",
    "    \"\"\"\n",
    "\n",
    "    u: Array  # (B... H W C [1 | 3])\n",
    "    _dx: Array = struct.field(pytree_node=False)  # (2 B... H W C [1 | 3])\n",
    "    _spectrum: Array = struct.field(pytree_node=False)  # (B... H W C [1 | 3])\n",
    "    _spectral_density: Array = struct.field(pytree_node=False)  # (B... H W C [1 | 3])"
   ]
  },
  {
   "cell_type": "markdown",
   "id": "f7849ec1",
   "metadata": {},
   "source": [
    "*Explanation*"
   ]
  },
  {
   "cell_type": "markdown",
   "id": "d4229bb2",
   "metadata": {},
   "source": [
    "This part of the whole code of the `Field` class declares the class `Field` with `struct.PytreeNode` which means that this class inherits from the `struct.PytreeNode` of Flax. This is to make the `Field` compatible with JAX's PyTree system so that it can be used with JAX transformations like `jit`, `grad` and `vmap`.\n",
    "\n",
    "The class has four attributes: `u` for the complex field with shape of `(B... H W C [1 | 3])`, `_dx` for the spacing in the $y$ and $x$ direction of the samples with the shape of `(2 C)`, `_spectrum` for the wavelengths which should be a 1D array, and `_spectral_density` for the weights of the wavelengths which should also be a 1D array.\n",
    "\n",
    "In the shape `(B... H W C [1 | 3])`, the `B...` is batch dimensions, the `H` and `W` are spatial height and width of the field, the `C` indicates the number of channels for different wavelengths, and the `[1 | 3]` indicates whether the field is scalar (`1`) or vectorial (`3`).\n",
    "\n",
    "The `= struct.field(pytree_node=False)` indicates that `_dx`, `_spectrum`, and `_spectral_density` are not considered a PyTree node and the JAX's PyTree machinery will skip over these attributes when performing operations like `jit`, `grad`, `vmap` and `pmap`.\n",
    "\n",
    "Here is an example of creating an object of the `Field` class:"
   ]
  },
  {
   "cell_type": "code",
   "execution_count": 2,
   "id": "271a1d53",
   "metadata": {},
   "outputs": [
    {
     "name": "stdout",
     "output_type": "stream",
     "text": [
      "The complex field =\n",
      " [[[[[0.35051298+0.30479467j]]\n",
      "\n",
      "   [[0.8267368 +0.44940782j]]\n",
      "\n",
      "   [[0.7855103 +0.9713398j ]]\n",
      "\n",
      "   ...\n",
      "\n",
      "   [[0.6167021 +0.85646856j]]\n",
      "\n",
      "   [[0.86696625+0.86117053j]]\n",
      "\n",
      "   [[0.5938593 +0.21392274j]]]\n",
      "\n",
      "\n",
      "  [[[0.5727085 +0.227772j  ]]\n",
      "\n",
      "   [[0.59718156+0.20199919j]]\n",
      "\n",
      "   [[0.12977612+0.59595704j]]\n",
      "\n",
      "   ...\n",
      "\n",
      "   [[0.9034728 +0.12821138j]]\n",
      "\n",
      "   [[0.46423852+0.7093947j ]]\n",
      "\n",
      "   [[0.24644053+0.7136097j ]]]\n",
      "\n",
      "\n",
      "  [[[0.48129582+0.84687304j]]\n",
      "\n",
      "   [[0.49443495+0.9792794j ]]\n",
      "\n",
      "   [[0.36579728+0.21341515j]]\n",
      "\n",
      "   ...\n",
      "\n",
      "   [[0.526353  +0.07219374j]]\n",
      "\n",
      "   [[0.8659599 +0.79313946j]]\n",
      "\n",
      "   [[0.20055795+0.34966683j]]]\n",
      "\n",
      "\n",
      "  ...\n",
      "\n",
      "\n",
      "  [[[0.9477707 +0.6258478j ]]\n",
      "\n",
      "   [[0.22746027+0.13303328j]]\n",
      "\n",
      "   [[0.8629681 +0.9115486j ]]\n",
      "\n",
      "   ...\n",
      "\n",
      "   [[0.54853666+0.38148844j]]\n",
      "\n",
      "   [[0.06248915+0.68744457j]]\n",
      "\n",
      "   [[0.5536046 +0.3634454j ]]]\n",
      "\n",
      "\n",
      "  [[[0.82575834+0.48492908j]]\n",
      "\n",
      "   [[0.08894229+0.83244276j]]\n",
      "\n",
      "   [[0.6838074 +0.68836546j]]\n",
      "\n",
      "   ...\n",
      "\n",
      "   [[0.5871117 +0.3954003j ]]\n",
      "\n",
      "   [[0.05258799+0.40582347j]]\n",
      "\n",
      "   [[0.5766274 +0.50485003j]]]\n",
      "\n",
      "\n",
      "  [[[0.84573495+0.07150781j]]\n",
      "\n",
      "   [[0.8832011 +0.512777j  ]]\n",
      "\n",
      "   [[0.6880157 +0.451164j  ]]\n",
      "\n",
      "   ...\n",
      "\n",
      "   [[0.20239127+0.18389022j]]\n",
      "\n",
      "   [[0.12720907+0.81522834j]]\n",
      "\n",
      "   [[0.9268527 +0.568769j  ]]]]]\n"
     ]
    }
   ],
   "source": [
    "from chromatix.field import Field\n",
    "import jax.numpy as jnp\n",
    "import jax.random as jran\n",
    "\n",
    "# Create two random keys\n",
    "key1 = jran.PRNGKey(10)\n",
    "key2 = jran.PRNGKey(20)\n",
    "\n",
    "# Create a random complex field of shape (1, 256, 256, 1, 1)\n",
    "# with random amplitude and phase\n",
    "\n",
    "# Create random numbers representing the real part with a range [0, 1]\n",
    "u_real = jran.uniform(key1, (1, 256, 256, 1, 1))\n",
    "\n",
    "# Create random numbers representing the imaginary part with a range [0, 1]\n",
    "u_im = jran.uniform(key2, (1, 256, 256, 1, 1))\n",
    "\n",
    "u = u_real + u_im * 1j # The complex field\n",
    "\n",
    "# Create a Field object\n",
    "field = Field(\n",
    "    u = u,\n",
    "    _dx = jnp.array([[0.1], [0.1]]), # shape = (2, 1)\n",
    "    _spectrum = jnp.array([0.55]), # shape = (1,)\n",
    "    _spectral_density = jnp.array([1.0]) # shape = (1,)\n",
    ")\n",
    "\n",
    "print(\"The complex field =\\n\", field.u)"
   ]
  },
  {
   "cell_type": "markdown",
   "id": "a68f9b19",
   "metadata": {},
   "source": [
    "#### **Method 1: grid**"
   ]
  },
  {
   "cell_type": "markdown",
   "id": "852d2df9",
   "metadata": {},
   "source": [
    "*Source Code*"
   ]
  },
  {
   "cell_type": "code",
   "execution_count": null,
   "id": "db3ebef0",
   "metadata": {},
   "outputs": [],
   "source": [
    "@property\n",
    "def grid(self) -> Array:\n",
    "    \"\"\"\n",
    "    The grid for each spatial dimension as an array of shape `(2 B... H W\n",
    "    C 1)`. The 2 entries along the first dimension represent the y and x\n",
    "    grids, respectively. This grid assumes that the center of the ``Field``\n",
    "    is the origin and that the elements are sampling from the center, not\n",
    "    the corner.\n",
    "    \"\"\"\n",
    "    # We must use meshgrid instead of mgrid here in order to be jittable\n",
    "    N_y, N_x = self.spatial_shape\n",
    "    grid = jnp.meshgrid(\n",
    "        jnp.linspace(0, (N_y - 1), N_y) - N_y / 2,\n",
    "        jnp.linspace(0, (N_x - 1), N_x) - N_x / 2,\n",
    "        indexing=\"ij\",\n",
    "    )\n",
    "    grid = rearrange(grid, \"d h w -> d \" + (\"1 \" * (self.ndim - 4)) + \"h w 1 1\")\n",
    "    return self.dx * grid"
   ]
  },
  {
   "cell_type": "markdown",
   "id": "0f427b7e",
   "metadata": {},
   "source": [
    "*Explanation*"
   ]
  },
  {
   "cell_type": "markdown",
   "id": "54d24e4e",
   "metadata": {},
   "source": [
    "This method returns $y$ and $x$ coordinate grids representing the coordinate values for every pixel along $y$ and $x$ axes. The first dimension `2` of the shape corresponds to the two spatial dimensions.\n",
    "\n",
    "The `@property` is a decorator making this method behave like a read-only attribute. So, when accessing `object.grid`, it calls this method and returns the $y$ and $x$ grids directly like:"
   ]
  },
  {
   "cell_type": "code",
   "execution_count": 8,
   "id": "6dede103",
   "metadata": {},
   "outputs": [
    {
     "name": "stdout",
     "output_type": "stream",
     "text": [
      "The shape of the grid =\n",
      " (2, 1, 256, 256, 1, 1)\n"
     ]
    }
   ],
   "source": [
    "grids = field.grid\n",
    "print(\"The shape of the grid =\\n\", grids.shape)"
   ]
  },
  {
   "cell_type": "markdown",
   "id": "82ff29b8",
   "metadata": {},
   "source": [
    "The `spatial_shape` is another method in the class which returns the height and width of the field. Thus, `N_y` and `N_x` are the number of pixels along the $y$ and $x$ axes respectively.\n",
    "\n",
    "The two `jnp.linspace()` functions return two 1D arrays representing the coordinates vectors and shift them so that the center is around $0$. The `jnp.meshgrid()` is used to create coordinate arrays from the coordinates vectors. \n",
    "\n",
    "Suppose that `N_y` and `N_x` are 10:"
   ]
  },
  {
   "cell_type": "code",
   "execution_count": 11,
   "id": "393687d8",
   "metadata": {},
   "outputs": [
    {
     "name": "stdout",
     "output_type": "stream",
     "text": [
      "The x_vector = [-5. -4. -3. -2. -1.  0.  1.  2.  3.  4.]\n",
      "The grid =\n",
      " [Array([[-5., -5., -5., -5., -5., -5., -5., -5., -5., -5.],\n",
      "       [-4., -4., -4., -4., -4., -4., -4., -4., -4., -4.],\n",
      "       [-3., -3., -3., -3., -3., -3., -3., -3., -3., -3.],\n",
      "       [-2., -2., -2., -2., -2., -2., -2., -2., -2., -2.],\n",
      "       [-1., -1., -1., -1., -1., -1., -1., -1., -1., -1.],\n",
      "       [ 0.,  0.,  0.,  0.,  0.,  0.,  0.,  0.,  0.,  0.],\n",
      "       [ 1.,  1.,  1.,  1.,  1.,  1.,  1.,  1.,  1.,  1.],\n",
      "       [ 2.,  2.,  2.,  2.,  2.,  2.,  2.,  2.,  2.,  2.],\n",
      "       [ 3.,  3.,  3.,  3.,  3.,  3.,  3.,  3.,  3.,  3.],\n",
      "       [ 4.,  4.,  4.,  4.,  4.,  4.,  4.,  4.,  4.,  4.]], dtype=float32), Array([[-5., -4., -3., -2., -1.,  0.,  1.,  2.,  3.,  4.],\n",
      "       [-5., -4., -3., -2., -1.,  0.,  1.,  2.,  3.,  4.],\n",
      "       [-5., -4., -3., -2., -1.,  0.,  1.,  2.,  3.,  4.],\n",
      "       [-5., -4., -3., -2., -1.,  0.,  1.,  2.,  3.,  4.],\n",
      "       [-5., -4., -3., -2., -1.,  0.,  1.,  2.,  3.,  4.],\n",
      "       [-5., -4., -3., -2., -1.,  0.,  1.,  2.,  3.,  4.],\n",
      "       [-5., -4., -3., -2., -1.,  0.,  1.,  2.,  3.,  4.],\n",
      "       [-5., -4., -3., -2., -1.,  0.,  1.,  2.,  3.,  4.],\n",
      "       [-5., -4., -3., -2., -1.,  0.,  1.,  2.,  3.,  4.],\n",
      "       [-5., -4., -3., -2., -1.,  0.,  1.,  2.,  3.,  4.]], dtype=float32)]\n"
     ]
    }
   ],
   "source": [
    "import jax.numpy as jnp\n",
    "N_y, N_x = 10, 10\n",
    "\n",
    "x_vector = jnp.linspace(0, (N_x - 1), N_x) - N_x / 2\n",
    "y_vector = jnp.linspace(0, (N_y - 1), N_y) - N_y / 2\n",
    "\n",
    "print(\"The x_vector =\", x_vector)\n",
    "\n",
    "grid = jnp.meshgrid(x_vector, y_vector, indexing=\"ij\")\n",
    "print(\"The grid =\\n\", grid)"
   ]
  },
  {
   "cell_type": "markdown",
   "id": "08a7d92c",
   "metadata": {},
   "source": [
    "The function `rearrange()` from the module `einop` reshapes and permutes the `grid` from the shape `\"d h w\"` to `\"d\"` and then plus `(\"1 \" * (self.ndim - 4))` and `\"h w 1 1\"`. Therefore, this operation actually adds two trailing singleton dimensions after `w` and `(self.ndim - 4)` singleton dimensions between `d` and `h`.\n",
    "\n",
    "The `ndim` is also a method of this class, returning the number of dimensions of the field. Since the shape of the field is `(B... H W C [1 | 3])`, the `self.ndim - 4` is actually the number of batch dimensions.\n",
    "\n",
    "This method finally returns `self.dx * grid` where the `dx` is the method returning spacing between samples. Therefore, it scales the dimensionless coordinates by the physical sample spacing so that it can represent the real grids.\n"
   ]
  },
  {
   "cell_type": "markdown",
   "id": "3838729e",
   "metadata": {},
   "source": [
    "#### **Method 2: k_grid**"
   ]
  },
  {
   "cell_type": "markdown",
   "id": "477b01e4",
   "metadata": {},
   "source": [
    "*Source Code*"
   ]
  },
  {
   "cell_type": "code",
   "execution_count": null,
   "id": "06be4436",
   "metadata": {},
   "outputs": [],
   "source": [
    "@property\n",
    "def k_grid(self) -> Array:\n",
    "    \"\"\"\n",
    "    The frequency grid for each spatial dimension as an array of shape `(2\n",
    "    B... H W C 1)`. The 2 entries along the first dimension represent the\n",
    "    y and x grids, respectively. This grid assumes that the center of the\n",
    "    ``Field`` is the origin and that the elements are sampling from the\n",
    "    center, not the corner.\n",
    "    \"\"\"\n",
    "    N_y, N_x = self.spatial_shape\n",
    "    grid = jnp.meshgrid(\n",
    "        jnp.fft.fftshift(jnp.fft.fftfreq(N_y)),\n",
    "        jnp.fft.fftshift(jnp.fft.fftfreq(N_x)),\n",
    "        indexing=\"ij\",\n",
    "    )\n",
    "    grid = rearrange(grid, \"d h w -> d \" + (\"1 \" * (self.ndim - 4)) + \"h w 1 1\")\n",
    "    return grid / self.dx"
   ]
  },
  {
   "cell_type": "markdown",
   "id": "94991ec0",
   "metadata": {},
   "source": [
    "*Explanation*"
   ]
  },
  {
   "cell_type": "markdown",
   "id": "f0ae074a",
   "metadata": {},
   "source": [
    "This method returns the frequency grids for $y$ and $x$ axes. Suppose that there is a coordinate vector in spatial domain along $x$ direction sampled at discrete points with an interval of $\\Delta x$ and total length of $N\\Delta x$:\n",
    "\n",
    "$$\\text{x} = \\{0, \\Delta x , 2\\Delta x, ..., (N-1)\\Delta x\\} \\tag{2.1.1} $$\n",
    "\n",
    "Then, in the frequecy domain, the coordinate vector should be:\n",
    "\n",
    "$$ \\text{f} = \\{0, \\frac{1}{N\\Delta x}, \\frac{2}{N\\Delta x}, ..., (N-1)\\frac{1}{N\\Delta x}\\} \\tag{2.1.2} $$\n",
    "\n",
    "And the interval is $\\frac{1}{N\\Delta x}$, the total length is $\\frac{1}{\\Delta x}$. The method is designed to create a frequency grid generated by such coordinates vectors.\n",
    "\n",
    "The function `jnp.fft.fftfreq(N)` creates such a coordinate vector assuming $\\Delta x = 1$ in the frequency domain from 0 to $2/N$ and the negative frequencies. So, in the end, the frequency grid must be scaled by a factor $1/\\Delta x$ to become a right grid. The function `jnp.fft.fftshift()` shifts a 1D array circularly so that the elements at the beginning to the center:"
   ]
  },
  {
   "cell_type": "code",
   "execution_count": 13,
   "id": "20360d20",
   "metadata": {},
   "outputs": [
    {
     "name": "stdout",
     "output_type": "stream",
     "text": [
      "The coordinate vector = [ 0.   0.1  0.2  0.3  0.4 -0.5 -0.4 -0.3 -0.2 -0.1]\n",
      "The shifted coordinate vector = [-0.5 -0.4 -0.3 -0.2 -0.1  0.   0.1  0.2  0.3  0.4]\n"
     ]
    }
   ],
   "source": [
    "import jax.numpy as jnp\n",
    "\n",
    "N = 10\n",
    "vector = jnp.fft.fftfreq(N)\n",
    "print(\"The coordinate vector =\", vector)\n",
    "print(\"The shifted coordinate vector =\", jnp.fft.fftshift(vector))"
   ]
  },
  {
   "cell_type": "markdown",
   "id": "da0f9146",
   "metadata": {},
   "source": [
    "#### **Method 3: dx**"
   ]
  },
  {
   "cell_type": "markdown",
   "id": "047b0411",
   "metadata": {},
   "source": [
    "*Source Code*"
   ]
  },
  {
   "cell_type": "code",
   "execution_count": null,
   "id": "dd5269c6",
   "metadata": {},
   "outputs": [],
   "source": [
    "@property\n",
    "def dx(self) -> Array:\n",
    "    \"\"\"\n",
    "    The spacing of the samples in ``u`` discretizing a continuous field.\n",
    "    Defined as an array of shape ``(2 1... 1 1 C 1)`` specifying the spacing\n",
    "    in the y and x directions respectively (can be the same for y and x for\n",
    "    the common case of square pixels). Spacing is the same per wavelength\n",
    "    for all entries in a batch.\n",
    "    \"\"\"\n",
    "    return _broadcast_2d_to_grid(self._dx, self.ndim)"
   ]
  },
  {
   "cell_type": "markdown",
   "id": "73651d2b",
   "metadata": {},
   "source": [
    "*Explanation*"
   ]
  },
  {
   "cell_type": "markdown",
   "id": "bb338847",
   "metadata": {},
   "source": [
    "This method simply broadcasts the attribute `_dx` to match the dimension of the field for performing the right computation."
   ]
  },
  {
   "cell_type": "code",
   "execution_count": 18,
   "id": "62ffb369",
   "metadata": {},
   "outputs": [
    {
     "name": "stdout",
     "output_type": "stream",
     "text": [
      "The original spacing array =\n",
      " [[1.]\n",
      " [1.]]\n",
      "The shape of the original spacing array =\n",
      " (2, 1)\n",
      "The broadcast spacing array =\n",
      " [[[[[[1.]]]]]\n",
      "\n",
      "\n",
      "\n",
      "\n",
      " [[[[[1.]]]]]]\n",
      "The shape of the broadcast spacing array =\n",
      " (2, 1, 1, 1, 1, 1)\n"
     ]
    }
   ],
   "source": [
    "print(\"The original spacing array =\\n\", field._dx)\n",
    "print(\"The shape of the original spacing array =\\n\", field._dx.shape)\n",
    "print(\"The broadcast spacing array =\\n\", field.dx)\n",
    "print(\"The shape of the broadcast spacing array =\\n\", field.dx.shape)"
   ]
  },
  {
   "cell_type": "markdown",
   "id": "99d03dfb",
   "metadata": {},
   "source": [
    "#### **Method 4: dk**"
   ]
  },
  {
   "cell_type": "markdown",
   "id": "086bf8f4",
   "metadata": {},
   "source": [
    "*Source Code*"
   ]
  },
  {
   "cell_type": "code",
   "execution_count": null,
   "id": "211fb6bf",
   "metadata": {},
   "outputs": [],
   "source": [
    "@property\n",
    "def dk(self) -> Array:\n",
    "    \"\"\"\n",
    "    The frequency spacing of the samples in the frequency space of ``u``.\n",
    "    Defined as an array of shape ``(2 1... 1 1 C 1)`` specifying the spacing\n",
    "    in the y and x directions respectively (can be the same for y and x for\n",
    "    the common case of square pixels). Spacing is the same per wavelength\n",
    "    for all entries in a batch.\n",
    "    \"\"\"\n",
    "    shape = jnp.array(self.spatial_shape)\n",
    "    shape = _broadcast_1d_to_grid(shape, self.ndim)\n",
    "    return 1 / (self.dx * shape)"
   ]
  },
  {
   "cell_type": "markdown",
   "id": "c1ad6aae",
   "metadata": {},
   "source": [
    "*Explanation*"
   ]
  },
  {
   "cell_type": "markdown",
   "id": "26c2b7e2",
   "metadata": {},
   "source": [
    "This method returns the frequency spacing along the $y$ and $x$ directions: $(\\frac{1}{N_y \\Delta y}, \\frac{1}{N_x \\Delta x})$\n",
    "\n",
    "The `shape` is the array representing the $(N_y, N_x)$ and is broadcast to the array with the same number of dimensions as the `field` since the `field.dx` also has the same number of dimensions:"
   ]
  },
  {
   "cell_type": "code",
   "execution_count": 36,
   "id": "213d8805",
   "metadata": {},
   "outputs": [
    {
     "name": "stdout",
     "output_type": "stream",
     "text": [
      "The shape of the field = [256 256]\n"
     ]
    }
   ],
   "source": [
    "import jax.numpy as jnp\n",
    "\n",
    "shape = jnp.array(field.spatial_shape)\n",
    "print(\"The shape of the field =\", shape)"
   ]
  },
  {
   "cell_type": "markdown",
   "id": "199e845b",
   "metadata": {},
   "source": [
    "Therefore, the `(self.dx * shape)` is the $(N_y\\Delta y, N_x\\Delta x)$:"
   ]
  },
  {
   "cell_type": "code",
   "execution_count": 38,
   "id": "f50698f2",
   "metadata": {},
   "outputs": [
    {
     "name": "stdout",
     "output_type": "stream",
     "text": [
      "The broadcasted shape = [[[[[[256]]]]]\n",
      "\n",
      "\n",
      "\n",
      "\n",
      " [[[[[256]]]]]]\n",
      "The broadcasted spacing of sample = [[[[[[0.1]]]]]\n",
      "\n",
      "\n",
      "\n",
      "\n",
      " [[[[[0.1]]]]]]\n",
      "The length of the field along x and y = [[[[[[25.6]]]]]\n",
      "\n",
      "\n",
      "\n",
      "\n",
      " [[[[[25.6]]]]]]\n"
     ]
    }
   ],
   "source": [
    "from chromatix.utils import _broadcast_1d_to_grid\n",
    "\n",
    "shape = _broadcast_1d_to_grid(shape, field.ndim)\n",
    "\n",
    "print(\"The broadcasted shape =\", shape)\n",
    "print(\"The broadcasted spacing of sample =\", field.dx)\n",
    "print(\"The length of the field along x and y =\", field.dx * shape)\n"
   ]
  },
  {
   "cell_type": "markdown",
   "id": "c2bc4c11",
   "metadata": {},
   "source": [
    "So, by `1 / (self.dx * shape)`, the method returns the frequency spacing."
   ]
  },
  {
   "cell_type": "markdown",
   "id": "9a8e792d",
   "metadata": {},
   "source": [
    "#### **Method 5: surface_area**"
   ]
  },
  {
   "cell_type": "markdown",
   "id": "d1f0903f",
   "metadata": {},
   "source": [
    "*Source Code*"
   ]
  },
  {
   "cell_type": "code",
   "execution_count": null,
   "id": "5775f242",
   "metadata": {},
   "outputs": [],
   "source": [
    "@property\n",
    "def surface_area(self) -> Array:\n",
    "    \"\"\"\n",
    "    The surface area of the field in microns. Defined as an array of\n",
    "    shape ``(2 1... 1 1 C 1)`` specifying the surface area in the y and x\n",
    "    dimensions respectively.\n",
    "    \"\"\"\n",
    "    shape = jnp.array(self.spatial_shape)\n",
    "    shape = _broadcast_1d_to_grid(shape, self.ndim)\n",
    "    return self.dx * shape"
   ]
  },
  {
   "cell_type": "markdown",
   "id": "0b3ca4ec",
   "metadata": {},
   "source": [
    "*Explanation*"
   ]
  },
  {
   "cell_type": "markdown",
   "id": "30e2ea9f",
   "metadata": {},
   "source": [
    "This method returns the length along $y$ and $x$ of the field:"
   ]
  },
  {
   "cell_type": "code",
   "execution_count": 39,
   "id": "5f31443d",
   "metadata": {},
   "outputs": [
    {
     "name": "stdout",
     "output_type": "stream",
     "text": [
      "The surface area of the field = [[[[[[25.6]]]]]\n",
      "\n",
      "\n",
      "\n",
      "\n",
      " [[[[[25.6]]]]]]\n"
     ]
    }
   ],
   "source": [
    "print(\"The surface area of the field =\", field.surface_area)"
   ]
  },
  {
   "cell_type": "markdown",
   "id": "9f6c243e",
   "metadata": {},
   "source": [
    "#### **Method 6: spectrum**"
   ]
  },
  {
   "cell_type": "markdown",
   "id": "d47dba1b",
   "metadata": {},
   "source": [
    "*Source Code*"
   ]
  },
  {
   "cell_type": "code",
   "execution_count": null,
   "id": "f9b02d01",
   "metadata": {},
   "outputs": [],
   "source": [
    "@property\n",
    "def spectrum(self) -> Array:\n",
    "    \"\"\"\n",
    "    Wavelengths sampled by the complex field, shape ``(1... 1 1 C 1)``.\n",
    "    \"\"\"\n",
    "    return _broadcast_1d_to_channels(self._spectrum, self.ndim)"
   ]
  },
  {
   "cell_type": "markdown",
   "id": "32c86a9b",
   "metadata": {},
   "source": [
    "*Explanation*"
   ]
  },
  {
   "cell_type": "markdown",
   "id": "aa0a0619",
   "metadata": {},
   "source": [
    "This method simply returns the broadcast `_spectrum`:"
   ]
  },
  {
   "cell_type": "code",
   "execution_count": 41,
   "id": "002e441d",
   "metadata": {},
   "outputs": [
    {
     "name": "stdout",
     "output_type": "stream",
     "text": [
      "The original spectrum array =\n",
      " [0.55]\n",
      "The broadcast spectrum array =\n",
      " [[[[[0.55]]]]]\n",
      "The shape of the broadcast spectrum array =\n",
      " (1, 1, 1, 1, 1)\n"
     ]
    }
   ],
   "source": [
    "print(\"The original spectrum array =\\n\", field._spectrum)\n",
    "print(\"The broadcast spectrum array =\\n\", field.spectrum)\n",
    "print(\"The shape of the broadcast spectrum array =\\n\", field.spectrum.shape)"
   ]
  },
  {
   "cell_type": "markdown",
   "id": "75997a3a",
   "metadata": {},
   "source": [
    "#### **Method 7: spectral_density**"
   ]
  },
  {
   "cell_type": "markdown",
   "id": "4d954b30",
   "metadata": {},
   "source": [
    "*Source Code*"
   ]
  },
  {
   "cell_type": "code",
   "execution_count": null,
   "id": "5ee4ac97",
   "metadata": {},
   "outputs": [],
   "source": [
    "def spectral_density(self) -> Array:\n",
    "    \"\"\"\n",
    "    Weights of wavelengths sampled by the complex field, shape ``(1... 1 1\n",
    "    C 1)``.\n",
    "    \"\"\"\n",
    "    return _broadcast_1d_to_channels(self._spectral_density, self.ndim)"
   ]
  },
  {
   "cell_type": "markdown",
   "id": "f2c51539",
   "metadata": {},
   "source": [
    "*Explanation*"
   ]
  },
  {
   "cell_type": "markdown",
   "id": "9973ca12",
   "metadata": {},
   "source": [
    "This method simply returns the broadcast `_spectral_density`:"
   ]
  },
  {
   "cell_type": "code",
   "execution_count": 42,
   "id": "8b0c35ca",
   "metadata": {},
   "outputs": [
    {
     "name": "stdout",
     "output_type": "stream",
     "text": [
      "The original spectral density array =\n",
      " [1.]\n",
      "The broadcast spectral density array =\n",
      " [[[[[1.]]]]]\n",
      "The shape of the broadcast spectral density array =\n",
      " (1, 1, 1, 1, 1)\n"
     ]
    }
   ],
   "source": [
    "print(\"The original spectral density array =\\n\", field._spectral_density)\n",
    "print(\"The broadcast spectral density array =\\n\", field.spectral_density)\n",
    "print(\"The shape of the broadcast spectral density array =\\n\", field.spectral_density.shape)"
   ]
  },
  {
   "cell_type": "markdown",
   "id": "dad75e15",
   "metadata": {},
   "source": [
    "#### **Method 8: phase**"
   ]
  },
  {
   "cell_type": "markdown",
   "id": "aab554dd",
   "metadata": {},
   "source": [
    "*Source Code*"
   ]
  },
  {
   "cell_type": "code",
   "execution_count": null,
   "id": "9765cb4b",
   "metadata": {},
   "outputs": [],
   "source": [
    "@property\n",
    "def phase(self) -> Array:\n",
    "    \"\"\"\n",
    "    Phase of the complex field, shape `(B... H W C [1 | 3])`.\n",
    "    \"\"\"\n",
    "    return jnp.angle(self.u)"
   ]
  },
  {
   "cell_type": "markdown",
   "id": "186fcd11",
   "metadata": {},
   "source": [
    "*Explanation*"
   ]
  },
  {
   "cell_type": "markdown",
   "id": "42f64242",
   "metadata": {},
   "source": [
    "This one returns the phase of the complex field:"
   ]
  },
  {
   "cell_type": "code",
   "execution_count": 44,
   "id": "b4321467",
   "metadata": {},
   "outputs": [
    {
     "name": "stdout",
     "output_type": "stream",
     "text": [
      "The phase of the complex field =\n",
      " [[[[[0.71574485]]\n",
      "\n",
      "   [[0.4979104 ]]\n",
      "\n",
      "   [[0.89078057]]\n",
      "\n",
      "   ...\n",
      "\n",
      "   [[0.9467389 ]]\n",
      "\n",
      "   [[0.7820444 ]]\n",
      "\n",
      "   [[0.3457544 ]]]\n",
      "\n",
      "\n",
      "  [[[0.37853083]]\n",
      "\n",
      "   [[0.3261728 ]]\n",
      "\n",
      "   [[1.3563828 ]]\n",
      "\n",
      "   ...\n",
      "\n",
      "   [[0.14096825]]\n",
      "\n",
      "   [[0.99132365]]\n",
      "\n",
      "   [[1.2382758 ]]]\n",
      "\n",
      "\n",
      "  [[[1.0539958 ]]\n",
      "\n",
      "   [[1.103239  ]]\n",
      "\n",
      "   [[0.5281426 ]]\n",
      "\n",
      "   ...\n",
      "\n",
      "   [[0.1363079 ]]\n",
      "\n",
      "   [[0.74153477]]\n",
      "\n",
      "   [[1.0500383 ]]]\n",
      "\n",
      "\n",
      "  ...\n",
      "\n",
      "\n",
      "  [[[0.58360755]]\n",
      "\n",
      "   [[0.5292156 ]]\n",
      "\n",
      "   [[0.8127681 ]]\n",
      "\n",
      "   ...\n",
      "\n",
      "   [[0.6076763 ]]\n",
      "\n",
      "   [[1.4801449 ]]\n",
      "\n",
      "   [[0.5809361 ]]]\n",
      "\n",
      "\n",
      "  [[[0.530994  ]]\n",
      "\n",
      "   [[1.4643552 ]]\n",
      "\n",
      "   [[0.78871995]]\n",
      "\n",
      "   ...\n",
      "\n",
      "   [[0.59269565]]\n",
      "\n",
      "   [[1.441931  ]]\n",
      "\n",
      "   [[0.7191256 ]]]\n",
      "\n",
      "\n",
      "  [[[0.08435047]]\n",
      "\n",
      "   [[0.5260245 ]]\n",
      "\n",
      "   [[0.58040446]]\n",
      "\n",
      "   ...\n",
      "\n",
      "   [[0.73753947]]\n",
      "\n",
      "   [[1.4160036 ]]\n",
      "\n",
      "   [[0.55040044]]]]]\n"
     ]
    }
   ],
   "source": [
    "import jax.numpy as jnp\n",
    "print(\"The phase of the complex field =\\n\", jnp.angle(field.u))"
   ]
  },
  {
   "cell_type": "markdown",
   "id": "c33669c3",
   "metadata": {},
   "source": [
    "The function `jnp.angle()` returns the phase angle of a complex number in radians by default:"
   ]
  },
  {
   "cell_type": "code",
   "execution_count": 48,
   "id": "3545a736",
   "metadata": {},
   "outputs": [
    {
     "name": "stdout",
     "output_type": "stream",
     "text": [
      "The phase angle of the complex number in radians = 0.7853982\n",
      "The phase angle of the complex number in degrees = 45.0\n"
     ]
    }
   ],
   "source": [
    "import jax.numpy as jnp\n",
    "\n",
    "num = 2 + 2*1j\n",
    "print(\"The phase angle of the complex number in radians =\", jnp.angle(num))\n",
    "print(\"The phase angle of the complex number in degrees =\", jnp.angle(num, deg = True))"
   ]
  },
  {
   "cell_type": "markdown",
   "id": "3f4800a5",
   "metadata": {},
   "source": [
    "#### **Module 9: amplitude**"
   ]
  },
  {
   "cell_type": "markdown",
   "id": "6a949d9c",
   "metadata": {},
   "source": [
    "*Source Code*"
   ]
  },
  {
   "cell_type": "code",
   "execution_count": null,
   "id": "0b6c1007",
   "metadata": {},
   "outputs": [],
   "source": [
    "@property\n",
    "def amplitude(self) -> Array:\n",
    "    \"\"\"\n",
    "    Amplitude of the complex field, shape `(B... H W C [1 | 3])`. This is\n",
    "    actually what is called the \"magnitude\".\n",
    "    \"\"\"\n",
    "    return jnp.abs(self.u)"
   ]
  },
  {
   "cell_type": "markdown",
   "id": "dab61442",
   "metadata": {},
   "source": [
    "*Explanation*"
   ]
  },
  {
   "cell_type": "markdown",
   "id": "2ec5ab5d",
   "metadata": {},
   "source": [
    "This method returns the amplitude of the complex field:"
   ]
  },
  {
   "cell_type": "code",
   "execution_count": 49,
   "id": "2a7bae9b",
   "metadata": {},
   "outputs": [
    {
     "name": "stdout",
     "output_type": "stream",
     "text": [
      "The amplitude of the complex field =\n",
      " [[[[[0.4644988 ]]\n",
      "\n",
      "   [[0.94098943]]\n",
      "\n",
      "   [[1.2492107 ]]\n",
      "\n",
      "   ...\n",
      "\n",
      "   [[1.0553956 ]]\n",
      "\n",
      "   [[1.221984  ]]\n",
      "\n",
      "   [[0.6312146 ]]]\n",
      "\n",
      "\n",
      "  [[[0.6163401 ]]\n",
      "\n",
      "   [[0.63042   ]]\n",
      "\n",
      "   [[0.6099234 ]]\n",
      "\n",
      "   ...\n",
      "\n",
      "   [[0.91252464]]\n",
      "\n",
      "   [[0.84779614]]\n",
      "\n",
      "   [[0.75496477]]]\n",
      "\n",
      "\n",
      "  [[[0.97408396]]\n",
      "\n",
      "   [[1.0970206 ]]\n",
      "\n",
      "   [[0.42350167]]\n",
      "\n",
      "   ...\n",
      "\n",
      "   [[0.5312809 ]]\n",
      "\n",
      "   [[1.1742898 ]]\n",
      "\n",
      "   [[0.40310097]]]\n",
      "\n",
      "\n",
      "  ...\n",
      "\n",
      "\n",
      "  [[[1.1357617 ]]\n",
      "\n",
      "   [[0.2635072 ]]\n",
      "\n",
      "   [[1.255243  ]]\n",
      "\n",
      "   ...\n",
      "\n",
      "   [[0.6681511 ]]\n",
      "\n",
      "   [[0.6902789 ]]\n",
      "\n",
      "   [[0.66224664]]]\n",
      "\n",
      "\n",
      "  [[[0.9576185 ]]\n",
      "\n",
      "   [[0.83718085]]\n",
      "\n",
      "   [[0.97027814]]\n",
      "\n",
      "   ...\n",
      "\n",
      "   [[0.7078429 ]]\n",
      "\n",
      "   [[0.40921655]]\n",
      "\n",
      "   [[0.76640236]]]\n",
      "\n",
      "\n",
      "  [[[0.84875256]]\n",
      "\n",
      "   [[1.0212661 ]]\n",
      "\n",
      "   [[0.8227482 ]]\n",
      "\n",
      "   ...\n",
      "\n",
      "   [[0.27345538]]\n",
      "\n",
      "   [[0.82509357]]\n",
      "\n",
      "   [[1.087453  ]]]]]\n"
     ]
    }
   ],
   "source": [
    "import jax.numpy as jnp\n",
    "print(\"The amplitude of the complex field =\\n\", jnp.abs(field.u))"
   ]
  },
  {
   "cell_type": "markdown",
   "id": "fff8fc9e",
   "metadata": {},
   "source": [
    "The function `jnp.abs()` returns the absolute value of a complex number:"
   ]
  },
  {
   "cell_type": "code",
   "execution_count": 50,
   "id": "ce50e968",
   "metadata": {},
   "outputs": [
    {
     "name": "stdout",
     "output_type": "stream",
     "text": [
      "The absolute value of the complex number = 2.828427\n"
     ]
    }
   ],
   "source": [
    "import jax.numpy as jnp\n",
    "\n",
    "num = 2 + 2*1j\n",
    "print(\"The absolute value of the complex number =\", jnp.abs(num))"
   ]
  },
  {
   "cell_type": "markdown",
   "id": "cbfeb576",
   "metadata": {},
   "source": [
    "#### **Module 10: intensity**"
   ]
  },
  {
   "cell_type": "markdown",
   "id": "45e2d0c7",
   "metadata": {},
   "source": [
    "*Source Code*"
   ]
  },
  {
   "cell_type": "code",
   "execution_count": null,
   "id": "725b4405",
   "metadata": {},
   "outputs": [],
   "source": [
    "@property\n",
    "def intensity(self) -> Array:\n",
    "    \"\"\"Intensity of the complex field, shape `(B... H W 1 1)`.\"\"\"\n",
    "    return jnp.sum(\n",
    "        self.spectral_density * jnp.abs(self.u) ** 2, axis=(-2, -1), keepdims=True\n",
    "    )"
   ]
  },
  {
   "cell_type": "markdown",
   "id": "b006330a",
   "metadata": {},
   "source": [
    "*Explanation*"
   ]
  },
  {
   "cell_type": "markdown",
   "id": "6cab32ce",
   "metadata": {},
   "source": [
    "This method calculates the intensity of the samples of the complex field which is defined by the sum of the squares amplitude of each sample times the `spectral density`. The `axis=(-2, -1)` specifies that it sums over the second last (`C`) and the last dimension (`[1 | 3]`) of the field."
   ]
  },
  {
   "cell_type": "code",
   "execution_count": 53,
   "id": "bd15d523",
   "metadata": {},
   "outputs": [
    {
     "name": "stdout",
     "output_type": "stream",
     "text": [
      "The shape of the intensity of the field = (1, 256, 256, 1, 1)\n",
      "The intensity of the field = [[[[[0.21575913]]\n",
      "\n",
      "   [[0.8854611 ]]\n",
      "\n",
      "   [[1.5605274 ]]\n",
      "\n",
      "   ...\n",
      "\n",
      "   [[1.1138599 ]]\n",
      "\n",
      "   [[1.493245  ]]\n",
      "\n",
      "   [[0.3984319 ]]]\n",
      "\n",
      "\n",
      "  [[[0.37987512]]\n",
      "\n",
      "   [[0.3974294 ]]\n",
      "\n",
      "   [[0.3720066 ]]\n",
      "\n",
      "   ...\n",
      "\n",
      "   [[0.8327012 ]]\n",
      "\n",
      "   [[0.7187583 ]]\n",
      "\n",
      "   [[0.5699718 ]]]\n",
      "\n",
      "\n",
      "  [[[0.94883955]]\n",
      "\n",
      "   [[1.2034543 ]]\n",
      "\n",
      "   [[0.17935367]]\n",
      "\n",
      "   ...\n",
      "\n",
      "   [[0.28225937]]\n",
      "\n",
      "   [[1.3789566 ]]\n",
      "\n",
      "   [[0.16249038]]]\n",
      "\n",
      "\n",
      "  ...\n",
      "\n",
      "\n",
      "  [[[1.2899548 ]]\n",
      "\n",
      "   [[0.06943604]]\n",
      "\n",
      "   [[1.5756348 ]]\n",
      "\n",
      "   ...\n",
      "\n",
      "   [[0.44642586]]\n",
      "\n",
      "   [[0.47648495]]\n",
      "\n",
      "   [[0.43857062]]]\n",
      "\n",
      "\n",
      "  [[[0.91703314]]\n",
      "\n",
      "   [[0.70087177]]\n",
      "\n",
      "   [[0.9414397 ]]\n",
      "\n",
      "   ...\n",
      "\n",
      "   [[0.50104153]]\n",
      "\n",
      "   [[0.16745819]]\n",
      "\n",
      "   [[0.5873726 ]]]\n",
      "\n",
      "\n",
      "  [[[0.7203809 ]]\n",
      "\n",
      "   [[1.0429845 ]]\n",
      "\n",
      "   [[0.6769146 ]]\n",
      "\n",
      "   ...\n",
      "\n",
      "   [[0.07477785]]\n",
      "\n",
      "   [[0.6807794 ]]\n",
      "\n",
      "   [[1.182554  ]]]]]\n"
     ]
    }
   ],
   "source": [
    "print(\"The shape of the intensity of the field =\", field.intensity.shape)\n",
    "print(\"The intensity of the field =\", field.intensity)"
   ]
  },
  {
   "cell_type": "markdown",
   "id": "ebfba6a8",
   "metadata": {},
   "source": [
    "#### **Module 11: power**"
   ]
  },
  {
   "cell_type": "markdown",
   "id": "aa57cc86",
   "metadata": {},
   "source": [
    "*Source Code*"
   ]
  },
  {
   "cell_type": "code",
   "execution_count": null,
   "id": "12ebd0f5",
   "metadata": {},
   "outputs": [],
   "source": [
    "@property\n",
    "def power(self) -> Array:\n",
    "    \"\"\"Power of the complex field, shape `(B... 1 1 1)`.\"\"\"\n",
    "    area = jnp.prod(self.dx, axis=0, keepdims=False)\n",
    "    return jnp.sum(self.intensity, axis=(-4, -3), keepdims=True) * area"
   ]
  },
  {
   "cell_type": "markdown",
   "id": "2310e27f",
   "metadata": {},
   "source": [
    "*Explanation*"
   ]
  },
  {
   "cell_type": "markdown",
   "id": "d4dfe9a7",
   "metadata": {},
   "source": [
    "This method returns the power of complex field defined by the sum of intensities of each sample over the area of the complex field:\n",
    "\n",
    "$$ \\text{Power} = \\iint I(y, x)dydx \\approx \\left(\\sum_{i=1}^{N_y}\\sum_{j=1}^{N_x} I(y_i, x_i) \\right) \\Delta y \\Delta x \\tag{2.1.3} $$\n",
    "\n",
    "The function `jnp.prod()` calculates the product of the values along a specified axis:"
   ]
  },
  {
   "cell_type": "code",
   "execution_count": 56,
   "id": "82430b0f",
   "metadata": {},
   "outputs": [
    {
     "name": "stdout",
     "output_type": "stream",
     "text": [
      "The spacing of the complex field = [[[[[[0.1]]]]]\n",
      "\n",
      "\n",
      "\n",
      "\n",
      " [[[[[0.1]]]]]]\n",
      "The area of a single pixel = [[[[[0.01]]]]]\n"
     ]
    }
   ],
   "source": [
    "import jax.numpy as jnp\n",
    "\n",
    "print(\"The spacing of the complex field =\", field.dx)\n",
    "print(\"The area of a single pixel =\", jnp.prod(field.dx, axis=0, keepdims=False))"
   ]
  },
  {
   "cell_type": "markdown",
   "id": "43287fad",
   "metadata": {},
   "source": [
    "The sum of the intensities is:"
   ]
  },
  {
   "cell_type": "code",
   "execution_count": 55,
   "id": "27551462",
   "metadata": {},
   "outputs": [
    {
     "name": "stdout",
     "output_type": "stream",
     "text": [
      "The sum of the intensities = [[[[[43692.387]]]]]\n"
     ]
    }
   ],
   "source": [
    "print(\"The sum of the intensities =\", jnp.sum(field.intensity, axis=(-4, -3), keepdims=True))"
   ]
  },
  {
   "cell_type": "markdown",
   "id": "c77a251b",
   "metadata": {},
   "source": [
    "#### **Module 12: shape**"
   ]
  },
  {
   "cell_type": "markdown",
   "id": "fca2b39b",
   "metadata": {},
   "source": [
    "*Source Code*"
   ]
  },
  {
   "cell_type": "code",
   "execution_count": null,
   "id": "ff30df2a",
   "metadata": {},
   "outputs": [],
   "source": [
    "@property\n",
    "def shape(self) -> Tuple[int, ...]:\n",
    "    \"\"\"Shape of the complex field.\"\"\"\n",
    "    return self.u.shape"
   ]
  },
  {
   "cell_type": "markdown",
   "id": "c4e2b9a1",
   "metadata": {},
   "source": [
    "*Explanation*"
   ]
  },
  {
   "cell_type": "markdown",
   "id": "d892557d",
   "metadata": {},
   "source": [
    "This method returns the shape of the complex field:"
   ]
  },
  {
   "cell_type": "code",
   "execution_count": 57,
   "id": "428631a3",
   "metadata": {},
   "outputs": [
    {
     "name": "stdout",
     "output_type": "stream",
     "text": [
      "The shape of the complex field = (1, 256, 256, 1, 1)\n"
     ]
    }
   ],
   "source": [
    "print(\"The shape of the complex field =\", field.shape)"
   ]
  },
  {
   "cell_type": "markdown",
   "id": "47d32db4",
   "metadata": {},
   "source": [
    "#### **Module 13: spatial_shape**"
   ]
  },
  {
   "cell_type": "markdown",
   "id": "b05e509f",
   "metadata": {},
   "source": [
    "*Source Code*"
   ]
  },
  {
   "cell_type": "code",
   "execution_count": null,
   "id": "dec0d826",
   "metadata": {},
   "outputs": [],
   "source": [
    "@property\n",
    "def spatial_shape(self) -> Tuple[int, int]:\n",
    "    \"\"\"Only the height and width of the complex field.\"\"\"\n",
    "    return self.u.shape[self.spatial_dims[0] : self.spatial_dims[1] + 1]"
   ]
  },
  {
   "cell_type": "markdown",
   "id": "6f2536d0",
   "metadata": {},
   "source": [
    "*Explanation*"
   ]
  },
  {
   "cell_type": "markdown",
   "id": "d160ac36",
   "metadata": {},
   "source": [
    "This method returns only the height and width of the complex field"
   ]
  },
  {
   "cell_type": "code",
   "execution_count": 64,
   "id": "936cd916",
   "metadata": {},
   "outputs": [
    {
     "name": "stdout",
     "output_type": "stream",
     "text": [
      "The dimensions representing the height and width = (-4, -3)\n",
      "The shape of the complex field = (1, 256, 256, 1, 1)\n",
      "The first element of `field.spatial_dims` = -4\n",
      "The second element of `field.spatial_dims` = -3\n",
      "(256, 256)\n"
     ]
    }
   ],
   "source": [
    "print(\"The dimensions representing the height and width =\", field.spatial_dims)\n",
    "print(\"The shape of the complex field =\", field.u.shape)\n",
    "print(\"The first element of `field.spatial_dims` =\", field.spatial_dims[0])\n",
    "print(\"The second element of `field.spatial_dims` =\", field.spatial_dims[1])\n",
    "print(field.u.shape[-4: -2])"
   ]
  },
  {
   "cell_type": "markdown",
   "id": "d109590d",
   "metadata": {},
   "source": [
    "#### **Module 14: spatial_dims**"
   ]
  },
  {
   "cell_type": "markdown",
   "id": "f03464aa",
   "metadata": {},
   "source": [
    "*Source Code*"
   ]
  },
  {
   "cell_type": "code",
   "execution_count": null,
   "id": "3677e5ee",
   "metadata": {},
   "outputs": [],
   "source": [
    "@property\n",
    "def spatial_dims(self) -> Tuple[int, int]:\n",
    "    \"\"\"Dimensions representing the height and width of the complex field.\"\"\"\n",
    "    return (-4, -3)"
   ]
  },
  {
   "cell_type": "markdown",
   "id": "ccd92103",
   "metadata": {},
   "source": [
    "*Explanation*"
   ]
  },
  {
   "cell_type": "markdown",
   "id": "9bc1542d",
   "metadata": {},
   "source": [
    "This one simple returns `(-4, -3)` because the dimension representing the height and dimension representing the width of the complex field are the fourth last and third last of the shape of the field (`(B... H W C [1 | 3])`)."
   ]
  },
  {
   "cell_type": "markdown",
   "id": "d1d86c16",
   "metadata": {},
   "source": [
    "#### **Module 15: ndim**"
   ]
  },
  {
   "cell_type": "markdown",
   "id": "9f0373a6",
   "metadata": {},
   "source": [
    "*Source Code*"
   ]
  },
  {
   "cell_type": "code",
   "execution_count": null,
   "id": "e3986894",
   "metadata": {},
   "outputs": [],
   "source": [
    "@property\n",
    "def ndim(self) -> int:\n",
    "    \"\"\"Number of dimensions (the rank) of the complex field.\"\"\"\n",
    "    return self.u.ndim"
   ]
  },
  {
   "cell_type": "markdown",
   "id": "77e39bf2",
   "metadata": {},
   "source": [
    "*Explanation*"
   ]
  },
  {
   "cell_type": "markdown",
   "id": "46008b6b",
   "metadata": {},
   "source": [
    "This method returns the number of dimensions of the field"
   ]
  },
  {
   "cell_type": "code",
   "execution_count": 66,
   "id": "df11c754",
   "metadata": {},
   "outputs": [
    {
     "name": "stdout",
     "output_type": "stream",
     "text": [
      "The number of dimensions of the field = 5\n"
     ]
    }
   ],
   "source": [
    "print(\"The number of dimensions of the field =\", field.ndim)"
   ]
  },
  {
   "cell_type": "markdown",
   "id": "834a404e",
   "metadata": {},
   "source": [
    "#### **Module 16: conj**"
   ]
  },
  {
   "cell_type": "markdown",
   "id": "46339704",
   "metadata": {},
   "source": [
    "*Source Code*"
   ]
  },
  {
   "cell_type": "code",
   "execution_count": null,
   "id": "514790e8",
   "metadata": {},
   "outputs": [],
   "source": [
    "@property\n",
    "def conj(self) -> Array:\n",
    "    \"\"\"conjugate of the complex field, as a field of the same shape.\"\"\"\n",
    "    return self.replace(u=jnp.conj(self.u))"
   ]
  },
  {
   "cell_type": "markdown",
   "id": "04518736",
   "metadata": {},
   "source": [
    "*Explanation*"
   ]
  },
  {
   "cell_type": "markdown",
   "id": "a2ba50c3",
   "metadata": {},
   "source": [
    "This method returns the conjugate of the complex field. The function `jnp.conj()` returns the conjugate of a complex number:"
   ]
  },
  {
   "cell_type": "code",
   "execution_count": 68,
   "id": "fd7233d4",
   "metadata": {},
   "outputs": [
    {
     "name": "stdout",
     "output_type": "stream",
     "text": [
      "The conjugate of the complex number = (2-2j)\n"
     ]
    }
   ],
   "source": [
    "import jax.numpy as jnp\n",
    "\n",
    "num = 2 + 2*1j\n",
    "print(\"The conjugate of the complex number =\", jnp.conj(num))"
   ]
  },
  {
   "cell_type": "markdown",
   "id": "a921037e",
   "metadata": {},
   "source": [
    "The `replace` method replaces the original complex field with the new complex field."
   ]
  },
  {
   "cell_type": "markdown",
   "id": "cdeaa4a7",
   "metadata": {},
   "source": [
    "#### **Module 17: \\_\\_add\\_\\_**"
   ]
  },
  {
   "cell_type": "markdown",
   "id": "afcd484c",
   "metadata": {},
   "source": [
    "*Source Code*"
   ]
  },
  {
   "cell_type": "code",
   "execution_count": null,
   "id": "d43999ef",
   "metadata": {},
   "outputs": [],
   "source": [
    "def __add__(self, other: Union[Number, jnp.ndarray, Field]) -> Field:\n",
    "    if isinstance(other, jnp.ndarray) or isinstance(other, Number):\n",
    "        return self.replace(u=self.u + other)\n",
    "    elif isinstance(other, Field):\n",
    "        return self.replace(u=self.u + other.u)\n",
    "    else:\n",
    "        return NotImplemented"
   ]
  },
  {
   "cell_type": "markdown",
   "id": "4b8ace2d",
   "metadata": {},
   "source": [
    "*Explanation*"
   ]
  },
  {
   "cell_type": "markdown",
   "id": "61b55ffe",
   "metadata": {},
   "source": [
    "This method is without the `@property` decorator. It allows the object of this class to be added by another object of this class or an object of `jnp.array` or `Number`.\n",
    "\n",
    "This is because that in Python, the `+` operator is not inherently defined for user-defined classes. And to enable the `+` operator for user-defined class objects, the `__add__` method must be explicitly defined in the class. This is a feature called operator overloading. The benefit of this is that it allows the users to customize the behavior of an operator. All the rest of the methods in this class are for the same purpose as the `+` operator.\n",
    "\n",
    "Without this `__add__` method, Python will raise a `TypeError` when using the `+` operator:"
   ]
  },
  {
   "cell_type": "code",
   "execution_count": 12,
   "id": "c21f7b93",
   "metadata": {},
   "outputs": [
    {
     "name": "stdout",
     "output_type": "stream",
     "text": [
      "The shape of the comples field = (1, 256, 256, 1, 1)\n"
     ]
    },
    {
     "ename": "TypeError",
     "evalue": "unsupported operand type(s) for +: 'FieldWithoutAdd' and 'jaxlib.xla_extension.ArrayImpl'",
     "output_type": "error",
     "traceback": [
      "\u001b[1;31m---------------------------------------------------------------------------\u001b[0m",
      "\u001b[1;31mTypeError\u001b[0m                                 Traceback (most recent call last)",
      "Cell \u001b[1;32mIn[12], line 24\u001b[0m\n\u001b[0;32m     21\u001b[0m arr \u001b[38;5;241m=\u001b[39m jnp\u001b[38;5;241m.\u001b[39mzeros((\u001b[38;5;241m1\u001b[39m, \u001b[38;5;241m256\u001b[39m, \u001b[38;5;241m256\u001b[39m, \u001b[38;5;241m1\u001b[39m, \u001b[38;5;241m1\u001b[39m))\n\u001b[0;32m     22\u001b[0m \u001b[38;5;28mprint\u001b[39m(\u001b[38;5;124m\"\u001b[39m\u001b[38;5;124mThe shape of the comples field =\u001b[39m\u001b[38;5;124m\"\u001b[39m, field\u001b[38;5;241m.\u001b[39mu\u001b[38;5;241m.\u001b[39mshape)\n\u001b[1;32m---> 24\u001b[0m \u001b[38;5;28msum\u001b[39m \u001b[38;5;241m=\u001b[39m \u001b[43mfield_without_add\u001b[49m\u001b[43m \u001b[49m\u001b[38;5;241;43m+\u001b[39;49m\u001b[43m \u001b[49m\u001b[43marr\u001b[49m\n",
      "\u001b[1;31mTypeError\u001b[0m: unsupported operand type(s) for +: 'FieldWithoutAdd' and 'jaxlib.xla_extension.ArrayImpl'"
     ]
    }
   ],
   "source": [
    "import jax.numpy as jnp\n",
    "from flax import struct\n",
    "from chex import Array\n",
    "\n",
    "class FieldWithoutAdd(struct.PyTreeNode):\n",
    "    u: Array  # (B... H W C [1 | 3])\n",
    "    _dx: Array = struct.field(pytree_node=False)  # (2 B... H W C [1 | 3])\n",
    "    _spectrum: Array = struct.field(pytree_node=False)  # (B... H W C [1 | 3])\n",
    "    _spectral_density: Array = struct.field(pytree_node=False)  # (B... H W C [1 | 3])\n",
    "\n",
    "u = jnp.zeros((1, 256, 256, 1, 1))\n",
    "u = u.astype(jnp.complex64)\n",
    "\n",
    "field_without_add = FieldWithoutAdd(\n",
    "    u = u,\n",
    "    _dx = jnp.array([[0.1], [0.1]]), # shape = (2, 1)\n",
    "    _spectrum = jnp.array([0.55]), # shape = (1,)\n",
    "    _spectral_density = jnp.array([0.55]), # shape = (1,)\n",
    ")\n",
    "\n",
    "arr = jnp.zeros((1, 256, 256, 1, 1))\n",
    "print(\"The shape of the comples field =\", field.u.shape)\n",
    "\n",
    "sum = field_without_add + arr"
   ]
  },
  {
   "cell_type": "markdown",
   "id": "40a1f04e",
   "metadata": {},
   "source": [
    "The `isinstance()` checks if an object is of a specific class and returns `True` if the object is or `False` it the object is not. If the `other` is not one of the objects of the `Field`, `jnp.ndarray` and `Number`, the method returns `NotImplemented` and Python will try the reverse operation `__radd__`. \n",
    "\n",
    "More specifically, `field + arr` tries `field.__add__(arr)` first. If the `arr` is not an object of the three classes, Python tries the reverse operation `arr.__radd__(field)`. If the `__radd__` doesn't exist in the `arr`'s class or also returns `NotImplemented`, Python raises a `TypeError`."
   ]
  },
  {
   "cell_type": "markdown",
   "id": "c05a9f8c",
   "metadata": {},
   "source": [
    "#### **Module 18: \\_\\_radd\\_\\_**"
   ]
  },
  {
   "cell_type": "markdown",
   "id": "49f297af",
   "metadata": {},
   "source": [
    "*Source Code*"
   ]
  },
  {
   "cell_type": "code",
   "execution_count": null,
   "id": "5cfe454f",
   "metadata": {},
   "outputs": [],
   "source": [
    "def __radd__(self, other: Any) -> Field:\n",
    "    return self + other"
   ]
  },
  {
   "cell_type": "markdown",
   "id": "33cc2f12",
   "metadata": {},
   "source": [
    "*Explanation*"
   ]
  },
  {
   "cell_type": "markdown",
   "id": "1beb94b1",
   "metadata": {},
   "source": [
    "This is the reverse operation mentioned in the last method allowing the object of this class to be added by any the `other` of any type."
   ]
  },
  {
   "cell_type": "markdown",
   "id": "560377b6",
   "metadata": {},
   "source": [
    "#### **Module 19: \\_\\_sub\\_\\_**"
   ]
  },
  {
   "cell_type": "markdown",
   "id": "61fdb606",
   "metadata": {},
   "source": [
    "*Source Code*"
   ]
  },
  {
   "cell_type": "code",
   "execution_count": null,
   "id": "f3c48bc5",
   "metadata": {},
   "outputs": [],
   "source": [
    "def __sub__(self, other: Union[Number, jnp.ndarray, Field]) -> Field:\n",
    "    if isinstance(other, jnp.ndarray) or isinstance(other, Number):\n",
    "        return self.replace(u=self.u - other)\n",
    "    elif isinstance(other, Field):\n",
    "        return self.replace(u=self.u - other.u)\n",
    "    else:\n",
    "        return NotImplemented"
   ]
  },
  {
   "cell_type": "markdown",
   "id": "68809b84",
   "metadata": {},
   "source": [
    "*Explanation*"
   ]
  },
  {
   "cell_type": "markdown",
   "id": "0ed0d8ce",
   "metadata": {},
   "source": [
    "Enable the `-` operator for this class like the `__add__` operator"
   ]
  },
  {
   "cell_type": "markdown",
   "id": "3dbc4290",
   "metadata": {},
   "source": [
    "#### **Module 20: \\_\\_rsub\\_\\_**"
   ]
  },
  {
   "cell_type": "markdown",
   "id": "d787b21b",
   "metadata": {},
   "source": [
    "*Source Code*"
   ]
  },
  {
   "cell_type": "code",
   "execution_count": null,
   "id": "5f3ff98b",
   "metadata": {},
   "outputs": [],
   "source": [
    "def __rsub__(self, other: Any) -> Field:\n",
    "    return (-1 * self) + other"
   ]
  },
  {
   "cell_type": "markdown",
   "id": "b4e4ada2",
   "metadata": {},
   "source": [
    "*Explanation*"
   ]
  },
  {
   "cell_type": "markdown",
   "id": "908889d5",
   "metadata": {},
   "source": [
    "The reverse operation of `-` operator like the `__radd__` operator"
   ]
  },
  {
   "cell_type": "markdown",
   "id": "533d72cc",
   "metadata": {},
   "source": [
    "#### **Module 21: \\_\\_mul\\_\\_**"
   ]
  },
  {
   "cell_type": "markdown",
   "id": "6c6c0dc0",
   "metadata": {},
   "source": [
    "*Source Code*"
   ]
  },
  {
   "cell_type": "code",
   "execution_count": null,
   "id": "046a9c8a",
   "metadata": {},
   "outputs": [],
   "source": [
    "def __mul__(self, other: Union[Number, jnp.ndarray, Field]) -> Field:\n",
    "    if isinstance(other, jnp.ndarray) or isinstance(other, Number):\n",
    "        return self.replace(u=self.u * other)\n",
    "    elif isinstance(other, Field):\n",
    "        return self.replace(u=self.u * other.u)\n",
    "    else:\n",
    "        return NotImplemented"
   ]
  },
  {
   "cell_type": "markdown",
   "id": "4130ca28",
   "metadata": {},
   "source": [
    "*Explanation*"
   ]
  },
  {
   "cell_type": "markdown",
   "id": "77eed2c8",
   "metadata": {},
   "source": [
    "Enable the element-wise multiplication operator `*` for this class like the `__add__` operator"
   ]
  },
  {
   "cell_type": "markdown",
   "id": "7b70ef37",
   "metadata": {},
   "source": [
    "#### **Module 22: \\_\\_rmul\\_\\_**"
   ]
  },
  {
   "cell_type": "markdown",
   "id": "37e77331",
   "metadata": {},
   "source": [
    "*Source Code*"
   ]
  },
  {
   "cell_type": "code",
   "execution_count": null,
   "id": "666ad506",
   "metadata": {},
   "outputs": [],
   "source": [
    "def __rmul__(self, other: Any) -> Field:\n",
    "    return self * other"
   ]
  },
  {
   "cell_type": "markdown",
   "id": "b4432414",
   "metadata": {},
   "source": [
    "*Explanation*"
   ]
  },
  {
   "cell_type": "markdown",
   "id": "87722db8",
   "metadata": {},
   "source": [
    "The reverse operation of element-wise multiplication like the `__radd__` operator"
   ]
  },
  {
   "cell_type": "markdown",
   "id": "5a34b573",
   "metadata": {},
   "source": [
    "#### **Module 23: \\_\\_matmul\\_\\_**"
   ]
  },
  {
   "cell_type": "markdown",
   "id": "e68d92cf",
   "metadata": {},
   "source": [
    "*Source Code*"
   ]
  },
  {
   "cell_type": "code",
   "execution_count": null,
   "id": "6ec78e38",
   "metadata": {},
   "outputs": [],
   "source": [
    "def __matmul__(self, other: jnp.array) -> Field:\n",
    "    return self.replace(u=jnp.matmul(self.u, other))"
   ]
  },
  {
   "cell_type": "markdown",
   "id": "187c4df5",
   "metadata": {},
   "source": [
    "*Explanation*"
   ]
  },
  {
   "cell_type": "markdown",
   "id": "0dbb94df",
   "metadata": {},
   "source": [
    "Enable the matrix multiplication operation `jnp.matmul()` for this class like the `__add__` operator, but the `other` can only be a `jnp.array`."
   ]
  },
  {
   "cell_type": "markdown",
   "id": "99166f1c",
   "metadata": {},
   "source": [
    "#### **Module 24: \\_\\_rmatmul\\_\\_**"
   ]
  },
  {
   "cell_type": "markdown",
   "id": "20990fd5",
   "metadata": {},
   "source": [
    "*Source Code*"
   ]
  },
  {
   "cell_type": "code",
   "execution_count": null,
   "id": "a52a8ce9",
   "metadata": {},
   "outputs": [],
   "source": [
    "def __rmatmul__(self, other: jnp.array) -> Field:\n",
    "    return self.replace(u=jnp.matmul(other, self.u.squeeze()))"
   ]
  },
  {
   "cell_type": "markdown",
   "id": "27e0932b",
   "metadata": {},
   "source": [
    "*Explanation*"
   ]
  },
  {
   "cell_type": "markdown",
   "id": "bd4ca583",
   "metadata": {},
   "source": [
    "The reverse operation of matrix multiplication like the `__radd__` operator. The `.squeeze()` is to eliminate the singleton dimensions of the complex field. "
   ]
  },
  {
   "cell_type": "markdown",
   "id": "c0d9c9a2",
   "metadata": {},
   "source": [
    "#### **Module 25: \\_\\_truediv\\_\\_**"
   ]
  },
  {
   "cell_type": "markdown",
   "id": "9310af44",
   "metadata": {},
   "source": [
    "*Source Code*"
   ]
  },
  {
   "cell_type": "code",
   "execution_count": null,
   "id": "751c5567",
   "metadata": {},
   "outputs": [],
   "source": [
    "def __truediv__(self, other: Union[Number, jnp.ndarray, Field]) -> Field:\n",
    "    if isinstance(other, jnp.ndarray) or isinstance(other, Number):\n",
    "        return self.replace(u=self.u / other)\n",
    "    elif isinstance(other, Field):\n",
    "        return self.replace(u=self.u / other.u)\n",
    "    else:\n",
    "        return NotImplemented"
   ]
  },
  {
   "cell_type": "markdown",
   "id": "bf8da441",
   "metadata": {},
   "source": [
    "*Explanation*"
   ]
  },
  {
   "cell_type": "markdown",
   "id": "294345b8",
   "metadata": {},
   "source": [
    "Enable the `/` operator for this class like the `__add__` operator."
   ]
  },
  {
   "cell_type": "markdown",
   "id": "bb01d5f8",
   "metadata": {},
   "source": [
    "#### **Module 26: \\_\\_rtruediv\\_\\_**"
   ]
  },
  {
   "cell_type": "markdown",
   "id": "fd2fb878",
   "metadata": {},
   "source": [
    "*Source Code*"
   ]
  },
  {
   "cell_type": "code",
   "execution_count": null,
   "id": "44498fff",
   "metadata": {},
   "outputs": [],
   "source": [
    "def __rtruediv__(self, other: Any) -> Field:\n",
    "    return self.replace(u=other / self.u)"
   ]
  },
  {
   "cell_type": "markdown",
   "id": "eea92ecc",
   "metadata": {},
   "source": [
    "*Explanation*"
   ]
  },
  {
   "cell_type": "markdown",
   "id": "9cbbdf88",
   "metadata": {},
   "source": [
    "The reverse operation of `/` operator like the `__radd__` operator."
   ]
  },
  {
   "cell_type": "markdown",
   "id": "c7df7222",
   "metadata": {},
   "source": [
    "#### **Module 27: \\_\\_floordiv\\_\\_**"
   ]
  },
  {
   "cell_type": "markdown",
   "id": "1d274f77",
   "metadata": {},
   "source": [
    "*Source Code*"
   ]
  },
  {
   "cell_type": "code",
   "execution_count": null,
   "id": "91e82036",
   "metadata": {},
   "outputs": [],
   "source": [
    "def __floordiv__(self, other: Union[Number, jnp.ndarray, Field]) -> Field:\n",
    "    if isinstance(other, jnp.ndarray) or isinstance(other, Number):\n",
    "        return self.replace(u=self.u // other)\n",
    "    elif isinstance(other, Field):\n",
    "        return self.replace(u=self.u // other.u)\n",
    "    else:\n",
    "        return NotImplemented"
   ]
  },
  {
   "cell_type": "markdown",
   "id": "00b8a972",
   "metadata": {},
   "source": [
    "*Explanation*"
   ]
  },
  {
   "cell_type": "markdown",
   "id": "4bcfdd7c",
   "metadata": {},
   "source": [
    "Enable the `//` operator for this class like the `__add__` operator. This floor division divides `a` by `b` and rounds down to the nearest integer:"
   ]
  },
  {
   "cell_type": "code",
   "execution_count": 2,
   "id": "0595c950",
   "metadata": {},
   "outputs": [
    {
     "name": "stdout",
     "output_type": "stream",
     "text": [
      "The division of a and b = 2.5\n",
      "The floor division of a and b = 2\n",
      "The floor division of -a and b = -3\n"
     ]
    }
   ],
   "source": [
    "a, b = 5, 2\n",
    "print(\"The division of a and b =\", a / b)\n",
    "print(\"The floor division of a and b =\", a // b)\n",
    "print(\"The floor division of -a and b =\", -a // b)"
   ]
  },
  {
   "cell_type": "markdown",
   "id": "98162e9e",
   "metadata": {},
   "source": [
    "#### **Module 28: \\_\\_rfloordiv\\_\\_**"
   ]
  },
  {
   "cell_type": "markdown",
   "id": "b2e3e220",
   "metadata": {},
   "source": [
    "*Source Code*"
   ]
  },
  {
   "cell_type": "code",
   "execution_count": null,
   "id": "c58ef964",
   "metadata": {},
   "outputs": [],
   "source": [
    "def __rfloordiv__(self, other: Any) -> Field:\n",
    "    return self.replace(u=other // self.u)"
   ]
  },
  {
   "cell_type": "markdown",
   "id": "2c875bca",
   "metadata": {},
   "source": [
    "*Explanation*"
   ]
  },
  {
   "cell_type": "markdown",
   "id": "e87bdce6",
   "metadata": {},
   "source": [
    "The reverse operation of `//` operator like the `__radd__` operator"
   ]
  },
  {
   "cell_type": "markdown",
   "id": "e6d47fa4",
   "metadata": {},
   "source": [
    "#### **Module 29: \\_\\_mod\\_\\_**"
   ]
  },
  {
   "cell_type": "markdown",
   "id": "87c8c12d",
   "metadata": {},
   "source": [
    "*Source Code*"
   ]
  },
  {
   "cell_type": "code",
   "execution_count": null,
   "id": "2f92dee7",
   "metadata": {},
   "outputs": [],
   "source": [
    "def __mod__(self, other: Union[Number, jnp.ndarray, Field]) -> Field:\n",
    "    if isinstance(other, jnp.ndarray) or isinstance(other, Number):\n",
    "        return self.replace(u=self.u % other)\n",
    "    elif isinstance(other, Field):\n",
    "        return self.replace(u=self.u % other.u)\n",
    "    else:\n",
    "            return NotImplemented"
   ]
  },
  {
   "cell_type": "markdown",
   "id": "c8e1aab7",
   "metadata": {},
   "source": [
    "*Explanation*"
   ]
  },
  {
   "cell_type": "markdown",
   "id": "6447af09",
   "metadata": {},
   "source": [
    "Enable the modulus operator `%` for this class like the `__add__` operator. The `%` operator returns the remainder of the division between two numbers:"
   ]
  },
  {
   "cell_type": "code",
   "execution_count": 4,
   "id": "511c9e0d",
   "metadata": {},
   "outputs": [
    {
     "name": "stdout",
     "output_type": "stream",
     "text": [
      "The modulus of a and b = 2\n"
     ]
    }
   ],
   "source": [
    "a, b = 10, 4\n",
    "print(\"The modulus of a and b =\", a % b)"
   ]
  },
  {
   "cell_type": "markdown",
   "id": "5d090426",
   "metadata": {},
   "source": [
    "#### **Module 30: \\_\\_rmod\\_\\_**"
   ]
  },
  {
   "cell_type": "markdown",
   "id": "c4a56851",
   "metadata": {},
   "source": [
    "*Source Code*"
   ]
  },
  {
   "cell_type": "code",
   "execution_count": null,
   "id": "927e40d9",
   "metadata": {},
   "outputs": [],
   "source": [
    "def __rmod__(self, other: Any) -> Field:\n",
    "    return self.replace(u=other % self.u)"
   ]
  },
  {
   "cell_type": "markdown",
   "id": "6537d6a3",
   "metadata": {},
   "source": [
    "*Explanation*"
   ]
  },
  {
   "cell_type": "markdown",
   "id": "a68ac59d",
   "metadata": {},
   "source": [
    "The reverse operation of `%` operator like the `__radd__` operator"
   ]
  },
  {
   "cell_type": "markdown",
   "id": "693c6cb5",
   "metadata": {},
   "source": [
    "### **Class 2: ScalarField**"
   ]
  },
  {
   "cell_type": "markdown",
   "id": "ee8f97a3",
   "metadata": {},
   "source": [
    "*Source Code*"
   ]
  },
  {
   "cell_type": "code",
   "execution_count": null,
   "id": "3f268f5a",
   "metadata": {},
   "outputs": [],
   "source": [
    "class ScalarField(Field):\n",
    "    @classmethod\n",
    "    def create(\n",
    "        cls,\n",
    "        dx: Union[float, Array],\n",
    "        spectrum: Union[float, Array],\n",
    "        spectral_density: Union[float, Array],\n",
    "        u: Optional[Array] = None,\n",
    "        shape: Optional[Tuple[int, int]] = None,\n",
    "    ) -> Field:\n",
    "        \"\"\"\n",
    "        Create a scalar approximation ``Field`` object in a convenient way.\n",
    "\n",
    "        This class function appropriately reshapes the given values of\n",
    "        attributes to the necessary shapes, allowing a ``Field`` to be created\n",
    "        with scalar or 1D array values for the spectrum and spectral density,\n",
    "        as desired.\n",
    "\n",
    "        Args:\n",
    "            dx: The spacing of the samples in ``u`` discretizing a continuous\n",
    "                field. Can either be a 1D array with the same size as the\n",
    "                number of wavelengths in the spectrum of shape (C), specifying\n",
    "                a square spacing per wavelength, or a 2D array of shape (2 C)\n",
    "                specifying the spacing in the y and x directions respectively\n",
    "                for non-square pixels. A float can also be specified to use the\n",
    "                same square spacing for all wavelengths. Spacing will be the\n",
    "                same per wavelength for all entries in a batch.\n",
    "            spectrum: The wavelengths sampled by the field, in any units\n",
    "                specified. Should be a 1D array containing each wavelength, or\n",
    "                a float for a single wavelength.\n",
    "            spectral_density: The weights of the wavelengths in the spectrum.\n",
    "                Will be scaled to sum to 1.0 over all wavelengths. Should be a\n",
    "                1D array containing the weight of each wavelength, or a float\n",
    "                for a single wavelength.\n",
    "            u: The scalar field of shape `(B... H W C 1)`. If not given,\n",
    "                the ``Field`` is allocated with uninitialized values of the\n",
    "                given ``shape`` as `(1 H W C 1)`.\n",
    "            shape: A tuple defining the shape of only the spatial\n",
    "                dimensions of the ``Field`` of the form `(H W)`. Not required\n",
    "                if ``u`` is provided. If ``u`` is not provided, then ``shape``\n",
    "                must be provided.\n",
    "        \"\"\"\n",
    "        dx: Array = jnp.atleast_1d(dx)\n",
    "        spectrum: Array = jnp.atleast_1d(spectrum)\n",
    "        spectral_density: Array = jnp.atleast_1d(spectral_density)\n",
    "        if u is None:\n",
    "            assert shape is not None, \"Must specify shape if u is None\"\n",
    "            u = jnp.empty((1, *shape, spectrum.size, 1), dtype=jnp.complex64)\n",
    "        ndim = len(u.shape)\n",
    "        assert (\n",
    "            ndim >= 5\n",
    "        ), \"Field must be Array with at least 5 dimensions: (B... H W C 1).\"\n",
    "        assert u.shape[-1] == 1, \"Last dimension must be 1 for scalar fields.\"\n",
    "        assert_equal_shape([spectrum, spectral_density])\n",
    "        spectral_density = spectral_density / jnp.sum(spectral_density)\n",
    "        if dx.ndim == 1:\n",
    "            dx = jnp.stack([dx, dx])\n",
    "        assert_rank(dx, 2)  # dx should have shape (2, C) here\n",
    "        return cls(u, dx, spectrum, spectral_density)"
   ]
  },
  {
   "cell_type": "markdown",
   "id": "71f83476",
   "metadata": {},
   "source": [
    "*Explanation*"
   ]
  },
  {
   "cell_type": "markdown",
   "id": "1ae7acd4",
   "metadata": {},
   "source": [
    "The code above defines a new class `ScalarField` that inherits from its parent class `Field`. Therefore, it has all methods defined in the `Field` class. This class is used to create scalar `Field` objects which has a shape of `(B... H W C 1)`.\n",
    "\n",
    "The only method `create` is decorated by `@classmethod`, which means that it's transformed into a class method. Unlike the regular methods which receive the object (`self`) as the argument, class methods receive the class (`cls`) itself as the argument allowing class methods to access and modify class state that applies across all objects.\n",
    "\n",
    "Besides the `cls`, the `create` has five arguments where `dx`, `spectrum`, and `spectral_density` are `Union` which means that they must be provided as `float` or `Array`, and `u` and `shape` are `Optional` meaning that they could be `None` or `Array` for `u` and `Tuple[int, int]` for `shape` respectively.\n",
    "\n",
    "The function `jnp.atleast_1d()` is used to ensure that `dx`, `spectrum` and `spectral_density` are at least one dimensional JAX array if they are `float`:"
   ]
  },
  {
   "cell_type": "code",
   "execution_count": 6,
   "id": "6a8fd348",
   "metadata": {},
   "outputs": [
    {
     "name": "stdout",
     "output_type": "stream",
     "text": [
      "Transform a into a 1D array = [2]\n",
      "The shape of the 1D array = (1,)\n"
     ]
    }
   ],
   "source": [
    "import jax.numpy as jnp\n",
    "\n",
    "a = 2\n",
    "arr = jnp.atleast_1d(a)\n",
    "print(\"Transform a into a 1D array =\", arr)\n",
    "print(\"The shape of the 1D array =\", arr.shape)"
   ]
  },
  {
   "cell_type": "markdown",
   "id": "ca827603",
   "metadata": {},
   "source": [
    "The following if-clause is used to ensure that if the `u` is not provided, the `shape` should be provided and create the `u` according to the `shape`.\n",
    "\n",
    "The `*` is to unpack the `shape` since it's a `Tuple` and the `*shape` returns the height and width (`(H W)`). Therefore, the `jnp.empty()` creates an array with shape of `(1, H, W, spectrum.size, 1)` and full of 0: "
   ]
  },
  {
   "cell_type": "code",
   "execution_count": 10,
   "id": "4314074f",
   "metadata": {},
   "outputs": [
    {
     "name": "stdout",
     "output_type": "stream",
     "text": [
      "The shape of the empty u = (1, 5, 5, 3, 1)\n"
     ]
    }
   ],
   "source": [
    "shape = (5, 5)\n",
    "spectrum = jnp.array([0.55, 0.65, 0.75])\n",
    "\n",
    "u = jnp.empty((1, *shape, spectrum.size, 1))\n",
    "print(\"The shape of the empty u =\", u.shape)"
   ]
  },
  {
   "cell_type": "markdown",
   "id": "3ce70373",
   "metadata": {},
   "source": [
    "The `len(u.shape)` returns the length of the shape of the `u` meaning the number of dimensions of the `u`. This is for ensuring the number of dimension is at least 5 by `assert( ndim >= 5)` later.\n",
    "\n",
    "The `assert u.shape[-1] == 1` ensures that the last dimension of `u` is 1 for matching the definition of scalar field. And for vectorial fields, it should be 3.\n",
    "\n",
    "The `assert_equal_shape([spectrum, spectral_density])` ensures that the `spectrum` and `spectral_density` have the same shape since they are arrays of wavelengths and their corresponding weights, and they must align in length.\n",
    "\n",
    "`spectral_density = spectral_density / jnp.sum(spectral_density)` Normalizes `spectral_density` so that its elements sum to 1.0. This ensures the weights form a proper distribution across wavelengths.\n",
    "\n",
    "The next if-clause turns the `dx` into a 2D array by stacking it twice if the `dx` was 1D:"
   ]
  },
  {
   "cell_type": "code",
   "execution_count": 13,
   "id": "66a7d066",
   "metadata": {},
   "outputs": [
    {
     "name": "stdout",
     "output_type": "stream",
     "text": [
      "The new dx = [[0.1]\n",
      " [0.1]]\n",
      "The shape of the new dx = (2, 1)\n"
     ]
    }
   ],
   "source": [
    "dx = jnp.array([0.1])\n",
    "dx_new = jnp.stack([dx, dx])\n",
    "print(\"The new dx =\", dx_new)\n",
    "print(\"The shape of the new dx =\", dx_new.shape)"
   ]
  },
  {
   "cell_type": "markdown",
   "id": "6e7ab929",
   "metadata": {},
   "source": [
    "Then, the `assert(dx, 2)` checks that the `dx` does have rank 2 now.\n",
    "\n",
    "Finally, the method returns a new `ScalarField` object. The `cls()` calls the parent `Field` class to create an object with provided parameters.\n",
    "\n",
    "Here is an example of calling the `ScalarField` class to create a scalar field:"
   ]
  },
  {
   "cell_type": "code",
   "execution_count": 21,
   "id": "2f986247",
   "metadata": {},
   "outputs": [
    {
     "name": "stdout",
     "output_type": "stream",
     "text": [
      "The shape of the scalar field = (1, 10, 10, 3, 1)\n"
     ]
    }
   ],
   "source": [
    "from chromatix.field import ScalarField\n",
    "import jax.numpy as jnp\n",
    "\n",
    "scalar_field = ScalarField.create(\n",
    "    dx=0.1,\n",
    "    spectrum=jnp.array([0.432, 0.550, 0.632,]),\n",
    "    spectral_density=jnp.array([0.1, 0.2, 0.3]),\n",
    "    shape=(10, 10)\n",
    ")\n",
    "\n",
    "#print(\"The scalar field =\\n\", scalar_field.u)\n",
    "print(\"The shape of the scalar field =\", scalar_field.u.shape)"
   ]
  },
  {
   "cell_type": "markdown",
   "id": "443831ca",
   "metadata": {},
   "source": [
    "### **Class 3: VectorField**"
   ]
  },
  {
   "cell_type": "markdown",
   "id": "f35d4090",
   "metadata": {},
   "source": [
    "*Source Code*"
   ]
  },
  {
   "cell_type": "code",
   "execution_count": null,
   "id": "4663b519",
   "metadata": {},
   "outputs": [],
   "source": [
    "class VectorField(Field):\n",
    "    @classmethod\n",
    "    def create(\n",
    "        cls,\n",
    "        dx: Union[float, Array],\n",
    "        spectrum: Union[float, Array],\n",
    "        spectral_density: Union[float, Array],\n",
    "        u: Optional[Array] = None,\n",
    "        shape: Optional[Tuple[int, int]] = None,\n",
    "    ) -> Field:\n",
    "        \"\"\"\n",
    "        Create a vectorial ``Field`` object in a convenient way.\n",
    "\n",
    "        This class function appropriately reshapes the given values of\n",
    "        attributes to the necessary shapes, allowing a ``Field`` to be created\n",
    "        with scalar or 1D array values for the spectrum and spectral density,\n",
    "        as desired.\n",
    "\n",
    "        Args:\n",
    "            dx: The spacing of the samples in ``u`` discretizing a continuous\n",
    "                field. Can either be a 1D array with the same size as the\n",
    "                number of wavelengths in the spectrum of shape (C), specifying\n",
    "                a square spacing per wavelength, or a 2D array of shape (2 C)\n",
    "                specifying the spacing in the y and x directions respectively\n",
    "                for non-square pixels. A float can also be specified to use the\n",
    "                same square spacing for all wavelengths. Spacing will be the\n",
    "                same per wavelength for all entries in a batch.\n",
    "            spectrum: The wavelengths sampled by the field, in any units\n",
    "                specified. Should be a 1D array containing each wavelength, or\n",
    "                a float for a single wavelength.\n",
    "            spectral_density: The weights of the wavelengths in the spectrum.\n",
    "                Will be scaled to sum to 1.0 over all wavelengths. Should be a\n",
    "                1D array containing the weight of each wavelength, or a float\n",
    "                for a single wavelength.\n",
    "            u: The vectorial field of shape `(B... H W C 3)`. If not given,\n",
    "                the ``Field`` is allocated with uninitialized values of the\n",
    "                given ``shape`` as `(1 H W C 3)`.\n",
    "            shape: A tuple defining the shape of only the spatial\n",
    "                dimensions of the ``Field`` of the form `(H W)`. Not required\n",
    "                if ``u`` is provided. If ``u`` is not provided, then ``shape``\n",
    "                must be provided.\n",
    "        \"\"\"\n",
    "        dx: Array = jnp.atleast_1d(dx)\n",
    "        spectrum: Array = jnp.atleast_1d(spectrum)\n",
    "        spectral_density: Array = jnp.atleast_1d(spectral_density)\n",
    "        if u is None:\n",
    "            assert shape is not None, \"Must specify shape if u is None\"\n",
    "            u = jnp.empty((1, *shape, spectrum.size, 3), dtype=jnp.complex64)\n",
    "        ndim = len(u.shape)\n",
    "        assert (\n",
    "            ndim >= 5\n",
    "        ), \"Field must be Array with at least 5 dimensions: (B... H W C 3).\"\n",
    "        assert u.shape[-1] == 3, \"Last dimension must be 3 for vectorial fields.\"\n",
    "        assert_equal_shape([spectrum, spectral_density])\n",
    "        spectral_density = spectral_density / jnp.sum(spectral_density)\n",
    "        if dx.ndim == 1:\n",
    "            dx = jnp.stack([dx, dx])\n",
    "        assert_rank(dx, 2)  # dx should have shape (2, C) here\n",
    "        return cls(u, dx, spectrum, spectral_density)\n",
    "\n",
    "    @property\n",
    "    def jones_vector(self) -> Array:\n",
    "        \"\"\"Return Jones vector of field.\"\"\"\n",
    "        norm = jnp.linalg.norm(self.u, axis=-1, keepdims=True)\n",
    "        norm = jnp.where(norm == 0, 1, norm)  # set to 1 to avoid division by zero\n",
    "        return self.u / norm"
   ]
  },
  {
   "cell_type": "markdown",
   "id": "895f7e32",
   "metadata": {},
   "source": [
    "*Explanation*"
   ]
  },
  {
   "cell_type": "markdown",
   "id": "d354e44c",
   "metadata": {},
   "source": [
    "The code above defines a class `VectorField` in the same way as the code of `ScalarField` except for the last dimension of the vectorial field. In this case, the last dimension of the vectorial field is set to 3 for matching the definition of vectorial fields.\n",
    "\n",
    "Additionally, since this class is to create vectorial fields, it's necessary to define a method `jones_vector` to return the Jones vector representing the fields. And a Jones vector in this case is expressed as: \n",
    "\n",
    "$$ \\text{J}= \\begin{pmatrix} J_z \\\\ J_y \\\\ J_x \\end{pmatrix} \\tag{2.1.4} $$\n",
    "\n",
    "where $J_z = u_z/\\|u\\|$, $J_y = u_y/\\|u\\|$ and $J_x = u_x/\\|u\\|$\n",
    "\n",
    "Suppose that there is an object `vectorial_field` of the `VectorField` class, then `vectorial_field.u =[u_z, u_y, u_x]`. And the `u_z` is `vectorial_field.u[..., 0]`, `u_y` is  `vectorial_field.u[..., 1]` and `u_x` is `vectorial_field.u[..., 2]`.\n",
    "\n",
    "The `jnp.linalg.norm` computes the vector norm ($\\|u\\|$):"
   ]
  },
  {
   "cell_type": "code",
   "execution_count": 28,
   "id": "3dc0427c",
   "metadata": {},
   "outputs": [
    {
     "name": "stdout",
     "output_type": "stream",
     "text": [
      "The shape of the norm = (1, 3, 3, 1, 1)\n",
      "The norm of the vectorial field = [[[[[1.7320508]]\n",
      "\n",
      "   [[1.7320508]]\n",
      "\n",
      "   [[1.7320508]]]\n",
      "\n",
      "\n",
      "  [[[1.7320508]]\n",
      "\n",
      "   [[1.7320508]]\n",
      "\n",
      "   [[1.7320508]]]\n",
      "\n",
      "\n",
      "  [[[1.7320508]]\n",
      "\n",
      "   [[1.7320508]]\n",
      "\n",
      "   [[1.7320508]]]]]\n"
     ]
    }
   ],
   "source": [
    "import jax.numpy as jnp\n",
    "\n",
    "# Suppose this is a vectorial field with 27 elements\n",
    "# Every 3 * 3 elements compose a component along the three axes\n",
    "u = jnp.ones((1, 3, 3, 1, 3))\n",
    "\n",
    "norm = jnp.linalg.norm(u, axis=-1, keepdims=True)\n",
    "print(\"The shape of the norm =\", norm.shape)\n",
    "print(\"The norm of the vectorial field =\", norm)"
   ]
  },
  {
   "cell_type": "markdown",
   "id": "3d9c611c",
   "metadata": {},
   "source": [
    "Since each sample point has a vector (1, 1, 1) representing $u_z=1$, $u_y=1$ and $u_x=1$ of this point, the norm of the vector of this point is calculated by $\\|u\\| = \\sqrt{1^2 + 1^2 + 1^2} \\approx 1.732$.\n",
    "\n",
    "The `jnp.where(norm==0, 1, norm)` replaces `0`s in the `norm` with `1`s to avoid division by $0$. Finally, the method returns the normalized vector of the field."
   ]
  },
  {
   "cell_type": "code",
   "execution_count": 29,
   "id": "06974fc7",
   "metadata": {},
   "outputs": [
    {
     "name": "stdout",
     "output_type": "stream",
     "text": [
      "The shape of the jones_vector = (1, 3, 3, 1, 3)\n",
      "The jones_vector of the vectorial field = [[[[[0.57735026 0.57735026 0.57735026]]\n",
      "\n",
      "   [[0.57735026 0.57735026 0.57735026]]\n",
      "\n",
      "   [[0.57735026 0.57735026 0.57735026]]]\n",
      "\n",
      "\n",
      "  [[[0.57735026 0.57735026 0.57735026]]\n",
      "\n",
      "   [[0.57735026 0.57735026 0.57735026]]\n",
      "\n",
      "   [[0.57735026 0.57735026 0.57735026]]]\n",
      "\n",
      "\n",
      "  [[[0.57735026 0.57735026 0.57735026]]\n",
      "\n",
      "   [[0.57735026 0.57735026 0.57735026]]\n",
      "\n",
      "   [[0.57735026 0.57735026 0.57735026]]]]]\n"
     ]
    }
   ],
   "source": [
    "jones_vector = u/norm\n",
    "print(\"The shape of the jones_vector =\", jones_vector.shape)\n",
    "print(\"The jones_vector of the vectorial field =\", jones_vector)"
   ]
  },
  {
   "cell_type": "markdown",
   "id": "3f66ed7f",
   "metadata": {},
   "source": [
    "Here is an example of creating a `vectorial_field` with the `VectorField` class:"
   ]
  },
  {
   "cell_type": "code",
   "execution_count": 34,
   "id": "a3d29606",
   "metadata": {},
   "outputs": [
    {
     "name": "stdout",
     "output_type": "stream",
     "text": [
      "The shape of the vectorial_field = (1, 3, 3, 1, 3)\n",
      "The jones vector of the vectorial field = [[[[[0.+0.j 0.+0.j 0.+0.j]]\n",
      "\n",
      "   [[0.+0.j 0.+0.j 0.+0.j]]\n",
      "\n",
      "   [[0.+0.j 0.+0.j 0.+0.j]]]\n",
      "\n",
      "\n",
      "  [[[0.+0.j 0.+0.j 0.+0.j]]\n",
      "\n",
      "   [[0.+0.j 0.+0.j 0.+0.j]]\n",
      "\n",
      "   [[0.+0.j 0.+0.j 0.+0.j]]]\n",
      "\n",
      "\n",
      "  [[[0.+0.j 0.+0.j 0.+0.j]]\n",
      "\n",
      "   [[0.+0.j 0.+0.j 0.+0.j]]\n",
      "\n",
      "   [[0.+0.j 0.+0.j 0.+0.j]]]]]\n"
     ]
    }
   ],
   "source": [
    "from chromatix.field import VectorField\n",
    "import jax.numpy as jnp\n",
    "\n",
    "vectorial_field = VectorField.create(\n",
    "    dx=0.1,\n",
    "    spectrum=0.55,\n",
    "    spectral_density= 1.0,\n",
    "    shape=(3, 3)\n",
    ")\n",
    "\n",
    "print(\"The shape of the vectorial_field =\", vectorial_field.u.shape)\n",
    "print(\"The jones vector of the vectorial field =\", vectorial_field.jones_vector)"
   ]
  },
  {
   "cell_type": "markdown",
   "id": "c608e6e2",
   "metadata": {},
   "source": [
    "### **Function 1: pad**"
   ]
  },
  {
   "cell_type": "markdown",
   "id": "4755c350",
   "metadata": {},
   "source": [
    "*Source Code*"
   ]
  },
  {
   "cell_type": "code",
   "execution_count": null,
   "id": "6cd56786",
   "metadata": {},
   "outputs": [],
   "source": [
    "def pad(field: Field, pad_width: Union[int, Tuple[int, int]], cval: float = 0) -> Field:\n",
    "    \"\"\"\n",
    "    Pad the `field` with zeros in one or two dimensions.\n",
    "    Args:\n",
    "        field: The field to pad.\n",
    "        pad_width: The number of pixels to pad the field with.\n",
    "        cval: The value to pad the field with (defauls is zero).\n",
    "    \"\"\"\n",
    "    if isinstance(pad_width, int):\n",
    "        pad_width = (pad_width, pad_width)\n",
    "    u = jnp.pad(\n",
    "        field.u,\n",
    "        [(n, n) for n in (0,) * (field.ndim - 4) + (*pad_width, 0, 0)],\n",
    "        constant_values=cval,\n",
    "    )\n",
    "    return field.replace(u=u)"
   ]
  },
  {
   "cell_type": "markdown",
   "id": "ab3298d3",
   "metadata": {},
   "source": [
    "*Explanation*"
   ]
  },
  {
   "cell_type": "markdown",
   "id": "668b1a57",
   "metadata": {},
   "source": [
    "This function is to pad a `field` with a constant value (`cval`), and the `pad_width` could be a `int` for padding the field with the same pad width along $x$ and $y$ axes or a `tuple` indicating the pad width along each axis.\n",
    "\n",
    "The if-clause checks if the `pad_width` is a `int`, if it is, the `pad_width` is transformed into a tuple `(pad_width, pad_width)`.\n",
    "\n",
    "The `jnp.pad` function is used to pad the `field.u` with `cval` along the specified axes. The `(0,) * (field.ndim - 4) + (*pad_width, 0, 0)` concatenates the two tuples `(0,) * (field.ndim - 4)` and `(*pad_width, 0, 0)`. If the `field.ndim = 5` and `pad_width = 1`, it becomes `(0, 1, 1, 0, 0)`, so that the `pad_width` corresponds to the height and width `(H W)` of the field. The `(n, n) for n in...` transforms the values in the tuple into tuples since the `jnp.pad` expects a list of tuples."
   ]
  },
  {
   "cell_type": "code",
   "execution_count": 67,
   "id": "5d097e17",
   "metadata": {},
   "outputs": [
    {
     "name": "stdout",
     "output_type": "stream",
     "text": [
      "The list of tuples = [(0, 0), (1, 1), (2, 2), (0, 0), (0, 0)]\n",
      "The padded u =\n",
      " [[0. 0. 0. 0. 0. 0. 0.]\n",
      " [0. 0. 1. 1. 1. 0. 0.]\n",
      " [0. 0. 1. 1. 1. 0. 0.]\n",
      " [0. 0. 1. 1. 1. 0. 0.]\n",
      " [0. 0. 0. 0. 0. 0. 0.]]\n"
     ]
    }
   ],
   "source": [
    "import jax.numpy as jnp\n",
    "\n",
    "pad_width = (1, 2)\n",
    "u = jnp.ones((1, 3, 3, 1, 1))\n",
    "pad_list = [(n, n) for n in (0,) * (u.ndim - 4) + (*pad_width, 0, 0)]\n",
    "print(\"The list of tuples =\", pad_list)\n",
    "\n",
    "pad_u = jnp.pad(u, pad_list, constant_values=0)\n",
    "print(\"The padded u =\\n\", pad_u.squeeze())"
   ]
  },
  {
   "cell_type": "markdown",
   "id": "f22c2b0f",
   "metadata": {},
   "source": [
    "Finally, the original `u` is replaced by the padded `u` and the padded `u` is returned."
   ]
  },
  {
   "cell_type": "markdown",
   "id": "e8f00aac",
   "metadata": {},
   "source": [
    "### **Function 2: crop**"
   ]
  },
  {
   "cell_type": "markdown",
   "id": "cf9eaaf0",
   "metadata": {},
   "source": [
    "*Source Code*"
   ]
  },
  {
   "cell_type": "code",
   "execution_count": null,
   "id": "5105a342",
   "metadata": {},
   "outputs": [],
   "source": [
    "def crop(field: Field, crop_width: Union[int, Tuple[int, int]]) -> Field:\n",
    "    \"\"\"\n",
    "    Crop the `field` by removing pixels from the edges.\n",
    "    Args:\n",
    "        field: The field to crop.\n",
    "        crop_width: The number of pixels to remove from the edges.\n",
    "    \"\"\"\n",
    "    if isinstance(crop_width, int):\n",
    "        crop_width = (crop_width, crop_width)\n",
    "    crop = [\n",
    "        slice(n, size - n)\n",
    "        for size, n in zip(field.shape, (0,) * (field.ndim - 4) + (*crop_width, 0, 0))\n",
    "    ]\n",
    "    return field.replace(u=field.u[tuple(crop)])\n"
   ]
  },
  {
   "cell_type": "markdown",
   "id": "67d066d7",
   "metadata": {},
   "source": [
    "*Explanation*"
   ]
  },
  {
   "cell_type": "markdown",
   "id": "818f6316",
   "metadata": {},
   "source": [
    "This function is foe cropping a field. Ordinarily, it's necessary to pad a field before performing Fast Fourier Transform (FFT) for avoiding artifacts, thus, after iFFT, the field needs to be cropped to the original size.\n",
    "\n",
    "The if-clause behaves in the same way as its counterpart in the `pad` function. If `crop_width` was given as a single integer, convert it to a tuple `(crop_width, crop_width)` so that both the height and width will be cropped by the same amount.\n",
    "\n",
    "The function `zip` an iterator of tuples, where the i-th tuple contains the i-th element from each of the input iterables:"
   ]
  },
  {
   "cell_type": "code",
   "execution_count": 9,
   "id": "29d84461",
   "metadata": {},
   "outputs": [
    {
     "name": "stdout",
     "output_type": "stream",
     "text": [
      "The iterators = <zip object at 0x0000021A482D7FC0>\n",
      "The list of iterators = [(1, 0), (5, 1), (5, 1), (1, 0), (1, 0)]\n"
     ]
    }
   ],
   "source": [
    "from chromatix.field import ScalarField\n",
    "import jax.numpy as jnp\n",
    "\n",
    "u = jnp.array([[1, 2, 3, 4 ,5],\n",
    "                   [6, 7, 8, 9, 10],\n",
    "                   [11, 12, 13, 14, 15],\n",
    "                   [16, 17, 18, 19, 20],\n",
    "                   [21, 22, 23, 24, 25]])\n",
    "u =u.reshape((1, 5, 5, 1, 1))\n",
    "\n",
    "field = ScalarField.create(\n",
    "    dx=0.1,\n",
    "    spectrum=0.55,\n",
    "    spectral_density=1.0,\n",
    "    u = u\n",
    ")\n",
    "\n",
    "crop_width = (1, 1)\n",
    "iterators = zip(field.shape, (0,) * (field.ndim - 4) + (*crop_width, 0, 0))\n",
    "print(\"The iterators =\", iterators)\n",
    "i_list = list(iterators)\n",
    "print(\"The list of iterators =\", i_list)"
   ]
  },
  {
   "cell_type": "markdown",
   "id": "6d4e02bd",
   "metadata": {},
   "source": [
    "Each tuple is a `(size, n)` tuple, and for each `(size, n)` tuple, an object of `slice` is created. Thus, the `crop` becomes:"
   ]
  },
  {
   "cell_type": "code",
   "execution_count": 10,
   "id": "1d77b1b9",
   "metadata": {},
   "outputs": [
    {
     "name": "stdout",
     "output_type": "stream",
     "text": [
      "The crop is: [slice(0, 1, None), slice(1, 4, None), slice(1, 4, None), slice(0, 1, None), slice(0, 1, None)]\n"
     ]
    }
   ],
   "source": [
    "crop = [\n",
    "        slice(n, size - n)\n",
    "        for size, n in zip(field.shape, (0,) * (field.ndim - 4) + (*crop_width, 0, 0))\n",
    "    ]\n",
    "\n",
    "print(\"The crop is:\", crop)"
   ]
  },
  {
   "cell_type": "markdown",
   "id": "ed5df32a",
   "metadata": {},
   "source": [
    "This means that in each dimension, the slicing begins from the index `n` and ends at the index `size-n` removing `n` pixels from both ends of that dimension.\n",
    "\n",
    "Finally, we apply the slicing `field.u[tuple(crop)]` to the field’s data. The `field.replace(u=...)` method returns a new `Field` object that’s identical to `field`, except the `u` array is now cropped according to the specified `crop_width`:"
   ]
  },
  {
   "cell_type": "code",
   "execution_count": 11,
   "id": "53bd9e86",
   "metadata": {},
   "outputs": [
    {
     "name": "stdout",
     "output_type": "stream",
     "text": [
      "The cropped u =\n",
      " [[ 7  8  9]\n",
      " [12 13 14]\n",
      " [17 18 19]]\n"
     ]
    }
   ],
   "source": [
    "cropped_u = field.u[tuple(crop)]\n",
    "print(\"The cropped u =\\n\", cropped_u.squeeze())"
   ]
  },
  {
   "cell_type": "markdown",
   "id": "ce62dcf0",
   "metadata": {},
   "source": [
    "### **Function 3: shift**"
   ]
  },
  {
   "cell_type": "markdown",
   "id": "fd782ddd",
   "metadata": {},
   "source": [
    "*Source Code*"
   ]
  },
  {
   "cell_type": "code",
   "execution_count": null,
   "id": "4236d517",
   "metadata": {},
   "outputs": [],
   "source": [
    "def shift(field: Field, shiftby: Union[int, Tuple[int, int]]) -> Field:\n",
    "    \"\"\"\n",
    "    Shift the `field` by an integer number of pixels in one or two dimensions.\n",
    "    Args:\n",
    "        field: The field to shift.\n",
    "        shiftby: The number of pixels to shift the field by.\n",
    "\n",
    "    See also shift_ft for subpixel shifts.\n",
    "    \"\"\"\n",
    "    if isinstance(shiftby, int):\n",
    "        shiftby = (shiftby, shiftby)\n",
    "\n",
    "    crop = [\n",
    "        (slice(n, dsize) if (n > 0) else slice(0, dsize + n))\n",
    "        for dsize, n in zip(field.shape, (0,) * (field.ndim - 4) + (*shiftby, 0, 0))\n",
    "    ]\n",
    "\n",
    "    pads = [\n",
    "        ((0, n) if (n > 0) else (-n, 0))\n",
    "        for n in ((0,) * (field.ndim - 4) + (*shiftby, 0, 0))\n",
    "    ]\n",
    "    u = jnp.pad(field.u[tuple(crop)], pads)\n",
    "\n",
    "    return field.replace(u=u)"
   ]
  },
  {
   "cell_type": "markdown",
   "id": "93a20b94",
   "metadata": {},
   "source": [
    "*Explanation*"
   ]
  },
  {
   "cell_type": "markdown",
   "id": "1ed38bf4",
   "metadata": {},
   "source": [
    "This code implements an integer pixel shift of a multidimensional field array. The way how the shift is implemented is cropping the array along one or two directions and then padding the cropped array along the opposite directions with zeros to maintain the original shape.\n",
    "\n",
    "The `shiftby` could also be a `Tuple` or a `int`, so the `shiftby` is converted to a tuple `(shiftby, shiftby)` when it was a `int`.\n",
    "\n",
    "The `crop` list is created by creating a slice for each dimension of the field's shape. The slice starts from index `n` and ends at index `dsize - n`, where `dsize` is the dimension size and `n` is the number of pixels to shift. If `n` is positive, the slice starts from index `n`, otherwise it starts from index `0` and ends at `dsize + n`. For example:"
   ]
  },
  {
   "cell_type": "code",
   "execution_count": 27,
   "id": "dc40d42d",
   "metadata": {},
   "outputs": [
    {
     "name": "stdout",
     "output_type": "stream",
     "text": [
      "The squeezed field_arr =\n",
      " [[ 9  7  5  2  5]\n",
      " [ 4  7  3  5  3]\n",
      " [ 6  1 10  9  4]\n",
      " [ 0  9  2  2  6]\n",
      " [ 8  4  6  0  1]]\n",
      "The crop is: [slice(0, 1, None), slice(0, 4, None), slice(1, 5, None), slice(0, 1, None), slice(0, 1, None)]\n",
      "The cropped field_arr =\n",
      " [[ 7  5  2  5]\n",
      " [ 7  3  5  3]\n",
      " [ 1 10  9  4]\n",
      " [ 9  2  2  6]]\n"
     ]
    }
   ],
   "source": [
    "import jax.numpy as jnp\n",
    "import jax.random as jran\n",
    "\n",
    "key = jran.PRNGKey(10)\n",
    "field_arr = jran.uniform(key, (1, 5, 5, 1, 1)) * 10\n",
    "field_arr = jnp.round(field_arr, decimals = 0).astype(jnp.int32)\n",
    "print(\"The squeezed field_arr =\\n\", field_arr.squeeze())\n",
    "\n",
    "shiftby = (-1, 1)\n",
    "crop = [\n",
    "        (slice(n, dsize) if (n > 0) else slice(0, dsize + n))\n",
    "        for dsize, n in zip(field_arr.shape, (0,) * (field_arr.ndim - 4) + (*shiftby, 0, 0))\n",
    "    ]\n",
    "\n",
    "print(\"The crop is:\", crop)\n",
    "field_arr_cropped = field_arr[tuple(crop)]\n",
    "print(\"The cropped field_arr =\\n\", field_arr_cropped.squeeze())"
   ]
  },
  {
   "cell_type": "markdown",
   "id": "1c0c9143",
   "metadata": {},
   "source": [
    "As the example shows, if `shiftby = (-1, 1)`, the first column and the last row are cropped which mean the `field_arr` shift one pixel toward the left and one pixel downward if we pad rightward and upward one pixel like this:"
   ]
  },
  {
   "cell_type": "code",
   "execution_count": 28,
   "id": "c9e8354f",
   "metadata": {},
   "outputs": [
    {
     "name": "stdout",
     "output_type": "stream",
     "text": [
      "The pads are: [(0, 0), (1, 0), (0, 1), (0, 0), (0, 0)]\n",
      "The shifted field_arr =\n",
      " [[ 0  0  0  0  0]\n",
      " [ 7  5  2  5  0]\n",
      " [ 7  3  5  3  0]\n",
      " [ 1 10  9  4  0]\n",
      " [ 9  2  2  6  0]]\n"
     ]
    }
   ],
   "source": [
    "pads = pads = [\n",
    "        ((0, n) if (n > 0) else (-n, 0))\n",
    "        for n in ((0,) * (field_arr.ndim - 4) + (*shiftby, 0, 0))\n",
    "    ]\n",
    "print(\"The pads are:\", pads)\n",
    "\n",
    "field_arr = jnp.pad(field_arr[tuple(crop)], pads)\n",
    "print(\"The shifted field_arr =\\n\", field_arr.squeeze())"
   ]
  },
  {
   "cell_type": "markdown",
   "id": "ce92d48d",
   "metadata": {},
   "source": [
    "Finally, the complex field `u` is replaced by the shifted `u` and returned."
   ]
  },
  {
   "cell_type": "markdown",
   "id": "1eeafe0f",
   "metadata": {},
   "source": [
    "## **Package: data**"
   ]
  },
  {
   "cell_type": "markdown",
   "id": "ce504b02",
   "metadata": {},
   "source": [
    "### **Module 1: objects**"
   ]
  },
  {
   "cell_type": "markdown",
   "id": "74574169",
   "metadata": {},
   "source": [
    "The following code aims to define the various types of patterns and images that can be generated using the Chromatix library. The authors of this library have implemented three functions that facilitate the creation of specific visual outputs: radial patterns, phase patterns, and grayscale images."
   ]
  },
  {
   "cell_type": "markdown",
   "id": "fcad2d41",
   "metadata": {},
   "source": [
    "#### **Imports**"
   ]
  },
  {
   "cell_type": "markdown",
   "id": "96db1873",
   "metadata": {},
   "source": [
    "*Source Code*"
   ]
  },
  {
   "cell_type": "code",
   "execution_count": null,
   "id": "8e5eb423",
   "metadata": {},
   "outputs": [],
   "source": [
    "import imageio\n",
    "import jax.numpy as jnp\n",
    "import matplotlib.pyplot as plt\n",
    "from skimage import img_as_ubyte"
   ]
  },
  {
   "cell_type": "markdown",
   "id": "b6e24424",
   "metadata": {},
   "source": [
    "*Explanation*"
   ]
  },
  {
   "cell_type": "markdown",
   "id": "49b92836",
   "metadata": {},
   "source": [
    "To create the necessary functions, four key libraries are imported:\n",
    "\n",
    "1. `imageio`: A versatile tool for reading (input) and saving (output) images in various formats. When an image is read using ' imageio ', it is stored as an array, allowing for easy manipulation and processing.\n",
    "2. `jax.numpy`: Part of the JAX library, this module extends NumPy by enabling automatic differentiation and allows code execution on GPUs and TPUs. It's ideal for performing array operations while leveraging the power of automatic differentiation.\n",
    "3. `matplotlib.pyplot`: A widely used plotting library in Python that provides a Matlab-like interface for creating static, animated, and interactive visualizations.\n",
    "4. `img_as_ubyte` (from `skimage`): A function that converts images to an unsigned byte format (0-255). This is essential for ensuring your data is in the correct format for display or saving."
   ]
  },
  {
   "cell_type": "markdown",
   "id": "05991d9a",
   "metadata": {},
   "source": [
    "#### **Function 1: creat_radial_pattern**"
   ]
  },
  {
   "cell_type": "markdown",
   "id": "537622b3",
   "metadata": {},
   "source": [
    "*Source Code*"
   ]
  },
  {
   "cell_type": "code",
   "execution_count": null,
   "id": "66b6b5f4",
   "metadata": {},
   "outputs": [],
   "source": [
    "def create_radial_pattern(shape):\n",
    "    \"\"\"\n",
    "    Create a basic radial pattern image.\n",
    "\n",
    "    Args:\n",
    "        shape (tuple): Shape of the image (height, width).\n",
    "\n",
    "    Returns:\n",
    "        jnp.ndarray: Radial pattern image.\n",
    "    \"\"\"\n",
    "    # Create a grid of coordinates\n",
    "    y, x = jnp.indices(shape)\n",
    "\n",
    "    # Calculate the center of the image\n",
    "    center_y, center_x = shape[0] // 2, shape[1] // 2\n",
    "\n",
    "    # Compute the distances from the center\n",
    "    distances = jnp.sqrt((x - center_x) ** 2 + (y - center_y) ** 2)\n",
    "\n",
    "    # Normalize distances to range [0, 2*pi] for phase pattern\n",
    "    max_distance = jnp.sqrt(center_x**2 + center_y**2)\n",
    "    phase_pattern = (distances / max_distance) * 2 * jnp.pi\n",
    "\n",
    "    return phase_pattern"
   ]
  },
  {
   "cell_type": "markdown",
   "id": "1c2f5f15",
   "metadata": {},
   "source": [
    "*Explanation*"
   ]
  },
  {
   "cell_type": "markdown",
   "id": "544dc987",
   "metadata": {},
   "source": [
    "In Python, the keyword `def` is used to define a function, which is a reusable block of code designed to perform a specific task. In this context, the author defines a function named `create_radial_pattern` with an argument `shape` that can be passed when calling the function.\n",
    "\n",
    "The docstring, located between the two sets of triple quotation marks, explains the purpose, arguments, and return value of this function. It indicates that the function is used to create a basic radial pattern image, and the return value (output) will be an array.\n",
    "\n",
    "The argument `shape` is expected to be a tuple with two elements. A tuple is a built-in data structure in Python used to store an ordered collection of items, defined by placing a comma-separated sequence of elements within parentheses. Tuples are immutable, meaning that once they are created, their elements cannot be changed, added, or removed."
   ]
  },
  {
   "cell_type": "code",
   "execution_count": null,
   "id": "18f74f4b",
   "metadata": {},
   "outputs": [],
   "source": [
    "# Example:\n",
    "shape = (4, 6) # height is 4, and width is 6"
   ]
  },
  {
   "cell_type": "markdown",
   "id": "2f97bc14",
   "metadata": {},
   "source": [
    "The first line of this function creats a grid of coordinate indices using `y, x = jnp.indices(shape)`. This function returns two arrays named $y$ and $x$ respectively."
   ]
  },
  {
   "cell_type": "code",
   "execution_count": null,
   "id": "df518ee5",
   "metadata": {},
   "outputs": [
    {
     "name": "stdout",
     "output_type": "stream",
     "text": [
      "y= [[0 0 0 0 0 0]\n",
      " [1 1 1 1 1 1]\n",
      " [2 2 2 2 2 2]\n",
      " [3 3 3 3 3 3]]\n",
      "x= [[0 1 2 3 4 5]\n",
      " [0 1 2 3 4 5]\n",
      " [0 1 2 3 4 5]\n",
      " [0 1 2 3 4 5]]\n"
     ]
    }
   ],
   "source": [
    "# Example\n",
    "y, x = jnp.indices(shape) # shape = (4, 6)\n",
    "\n",
    "print('y=', y)\n",
    "print('x=', x)"
   ]
  },
  {
   "cell_type": "markdown",
   "id": "b1aa49f0",
   "metadata": {},
   "source": [
    "In this context, the $y$ array corresponds to the row indices (e.g., 4 rows: 0, 1, 2, 3), and the $x$ array corresponds to the column indices (e.g., 6 columns: 0, 1, 2, 3, 4, 5).\n",
    "\n",
    "Since the function's purpose is to create radial patterns, it's necessary to determine the center of the coordinate grid. The author calculates the center's indices using `shape[0]//2` and `shape[1]//2`. \n",
    "\n",
    "Here, `shape[0]` and `shape[1]` return the first and second elements of the shape tuple, respectively. The operator `$//$` is used for floor division, which means it divides the number and then rounds down to the nearest integer. Thus, for our example, `center_y` and `center_x` would be 2 and 3, respectively.\n",
    "\n",
    "To normalize the distance to range [0, $2\\pi$], the code first calculates the distances between all points and the center using `jnp.sqrt()`, which returns the square roots of the input values. The mathematical equation used here is: \n",
    "\n",
    "$$ distance=\\sqrt{(x-x_{center})^2+(y-y_{center})^2} \\tag{2.2.1}$$\n",
    "\n",
    "Since both $x$ and $y$ are arrays, the resulting $distance$ is also an array. This array contains the distances from each point in the grid to the center, which will be used to generate the radial pattern."
   ]
  },
  {
   "cell_type": "code",
   "execution_count": null,
   "id": "bb3d84e0",
   "metadata": {},
   "outputs": [
    {
     "name": "stdout",
     "output_type": "stream",
     "text": [
      "distance =\n",
      " [[3.6055512 2.828427  2.236068  2.        2.236068  2.828427 ]\n",
      " [3.1622777 2.236068  1.4142135 1.        1.4142135 2.236068 ]\n",
      " [3.        2.        1.        0.        1.        2.       ]\n",
      " [3.1622777 2.236068  1.4142135 1.        1.4142135 2.236068 ]]\n"
     ]
    }
   ],
   "source": [
    "# Calculate the position of the center.\n",
    "center_y, center_x = shape[0]//2, shape[1]//2 \n",
    "\n",
    "# Calculate the distances between all other points and the center.\n",
    "distance = jnp.sqrt((x - center_x)**2 + (y - center_y)**2) \n",
    "\n",
    "print('distance =\\n', distance)"
   ]
  },
  {
   "cell_type": "markdown",
   "id": "5c940a03",
   "metadata": {},
   "source": [
    "As observed in the result above, the calculated center isn't exactly at the geometric center of the coordinate grid due to the use of floor division. This rounding down places the center slightly off from the true midpoint. However, with larger height and width values, this discrepancy becomes negligible.\n",
    "\n",
    "Next, the code calculates `max_distance`, which represents the distance from the center to the origin of the coordinate grid (i.e., the top-left corner at (0, 0)). This value serves as a reference for normalizing other distances within the grid.\n",
    "\n",
    "Finally, the `phase_pattern` is calculated using the equation: \n",
    "\n",
    "$$phase=2\\pi \\times \\frac{distance}{maxdistance} \\tag{2.2.2}$$\n",
    "\n",
    "By applying this equation, the function generates an array where each element represents the phase at that point in the grid, normalized to the range $[0, 2\\pi]$. This array is the output of the function."
   ]
  },
  {
   "cell_type": "code",
   "execution_count": null,
   "id": "19f2a80c",
   "metadata": {},
   "outputs": [
    {
     "name": "stdout",
     "output_type": "stream",
     "text": [
      "max_distance= 3.6055512\n",
      "phase_pattern =\n",
      " [[6.2831855 4.928936  3.8966663 3.4852843 3.8966663 4.928936 ]\n",
      " [5.5107183 3.8966663 2.464468  1.7426422 2.464468  3.8966663]\n",
      " [5.2279267 3.4852843 1.7426422 0.        1.7426422 3.4852843]\n",
      " [5.5107183 3.8966663 2.464468  1.7426422 2.464468  3.8966663]]\n"
     ]
    }
   ],
   "source": [
    "# Calculate the maximal distance which is from the center to the left-top point.\n",
    "max_distance = jnp.sqrt(center_x**2 + center_y**2) \n",
    "\n",
    "# Normalize the distance to the range [0, 2*pi].\n",
    "phase_pattern = (distance / max_distance) * 2 * jnp.pi \n",
    "\n",
    "print('max_distance=', max_distance)\n",
    "print('phase_pattern =\\n', phase_pattern)"
   ]
  },
  {
   "cell_type": "markdown",
   "id": "faf7adac",
   "metadata": {},
   "source": [
    "As observed in the results above, the first element ' 6.2831855 ' corresponds to $2\\pi$, while all other elements are values smaller than $2\\pi$ and larger than 0. This confirms that all elements in the array are normalized within the range $[0, 2\\pi]$"
   ]
  },
  {
   "cell_type": "markdown",
   "id": "18ebb222",
   "metadata": {},
   "source": [
    "#### **Function 2: save_phase_pattern**"
   ]
  },
  {
   "cell_type": "markdown",
   "id": "53c9b076",
   "metadata": {},
   "source": [
    "*Source Code*"
   ]
  },
  {
   "cell_type": "code",
   "execution_count": null,
   "id": "4ded24d0",
   "metadata": {},
   "outputs": [],
   "source": [
    "def save_phase_pattern():\n",
    "    # Create the radial pattern\n",
    "    shape = (512, 512)\n",
    "    radial_pattern = create_radial_pattern(shape)\n",
    "\n",
    "    # Save the pattern as a PNG file\n",
    "    plt.imshow(radial_pattern, cmap=\"hsv\")\n",
    "    plt.colorbar()\n",
    "    plt.title(\"Radial Phase Pattern\")\n",
    "    plt.axis(\"off\")  # Hide the axis\n",
    "    plt.savefig(\"data/radial_pattern.png\", bbox_inches=\"tight\", pad_inches=0)\n",
    "    plt.show()"
   ]
  },
  {
   "cell_type": "markdown",
   "id": "35cca2e2",
   "metadata": {},
   "source": [
    "*Explanation*"
   ]
  },
  {
   "cell_type": "markdown",
   "id": "28f5ca82",
   "metadata": {},
   "source": [
    "As the name suggests, this function is designed to save and output the phase pattern generated by the first function.\n",
    "\n",
    "The line `shape = (512, 512)` defines the dimensions of the pattern. Then, the line `radial_pattern = create_radial_pattern(shape)` calls the first function to create a radial phase pattern. This pattern is stored in the variable `radial_pattern` as a 512×512 array."
   ]
  },
  {
   "cell_type": "code",
   "execution_count": null,
   "id": "fac00b70",
   "metadata": {},
   "outputs": [
    {
     "name": "stdout",
     "output_type": "stream",
     "text": [
      "radial_pattern =\n",
      " [[6.2831855 6.2709255 6.25869   ... 6.246479  6.25869   6.2709255]\n",
      " [6.2709255 6.2586417 6.246382  ... 6.2341466 6.246382  6.2586417]\n",
      " [6.25869   6.246382  6.234098  ... 6.2218385 6.234098  6.246382 ]\n",
      " ...\n",
      " [6.246479  6.2341466 6.2218385 ... 6.209554  6.2218385 6.2341466]\n",
      " [6.25869   6.246382  6.234098  ... 6.2218385 6.234098  6.246382 ]\n",
      " [6.2709255 6.2586417 6.246382  ... 6.2341466 6.246382  6.2586417]]\n"
     ]
    }
   ],
   "source": [
    "# Set the height and width as 512.\n",
    "shape = (512, 512) \n",
    "\n",
    "# Call the function 'creat_radial_pattern()' to creat a redial pattern according the defined shape.\n",
    "radial_pattern = create_radial_pattern(shape) \n",
    "\n",
    "print('radial_pattern =\\n', radial_pattern)"
   ]
  },
  {
   "cell_type": "markdown",
   "id": "742376a5",
   "metadata": {},
   "source": [
    "Then, to save and show the image, the library `matplotlib.pyplot` is applied.\n",
    "\n",
    "`plt.imshow()` is a versatile tool for image visualization in Python. It converts scalar data in an array into colors based on a specified colormap, allowing for the visual representation of scalar values.\n",
    "\n",
    "For instance, the line `plt.imshow(radial_pattern, cmap=\"hsv\")` converts the scalar values in the `radial_pattern` array into a 2D image using the `hsv` colormap, which maps the data to hues corresponding to the HSV (Hue, Saturation, Value) color model. Besides `hsv`, there are many other colormaps available, such as `gray`, `coolwarm`, and more.\n",
    "\n",
    "Additionally, `plt.imshow()` offers various parameters to customize the image, including options for interpolation, aspect ratio, transparency (`alpha`), and more, as shown in the code below. These parameters provide flexibility in how the data is visually presented.\n",
    "\n",
    "Furthermore, you can enhance the figure by adding a colorbar, title, and controlling the axis using the commands `plt.colorbar()`, `plt.title()`, and `plt.axis()`.\n",
    "\n",
    "To save the figure, the `plt.savefig()` function is used. The argument `data/radial_pattern.png` specifies the filename, format, and location where the file will be saved. The parameter ` \\bbox_inches=\"tight\"` ensures that the bounding box of the figure is tightly fitted around the actual content, minimizing any extra whitespace. Additionally, `pad_inches=0` specifies that no padding will be added around the figure, ensuring a clean and compact output.\n",
    "\n",
    "Finally, `plt.show()` is required to display the figure on the screen. Without this command, the figure won't appear in script or non-interactive environments. It ensures that the visualization is rendered and visible to the user."
   ]
  },
  {
   "cell_type": "code",
   "execution_count": null,
   "id": "ff1df7fa",
   "metadata": {},
   "outputs": [
    {
     "data": {
      "image/png": "[encoded data removed]",
      "text/plain": [
       "<Figure size 640x480 with 2 Axes>"
      ]
     },
     "metadata": {},
     "output_type": "display_data"
    }
   ],
   "source": [
    "# Creat a figure of the array 'radial_pattern' according to the colormap \"hsv\", \n",
    "# setting interpolation as \"nearest\", aspect ratio as 1:1, and no transparency.\n",
    "plt.imshow(radial_pattern, cmap=\"hsv\", interpolation=\"nearest\", aspect=\"equal\", alpha=1)\n",
    "plt.colorbar() # Show colorbar.\n",
    "plt.title(\"Radial Phase Pattern\") # Set a title.\n",
    "plt.axis(\"off\") # Hide the axis\n",
    "# Save the figure as .png file in the folder 'data' without any extra whitespace\n",
    "plt.savefig(\"data/radial_pattern.png\", bbox_inches=\"tight\", pad_inches=0) \n",
    "plt.show() # Show the figure"
   ]
  },
  {
   "cell_type": "markdown",
   "id": "1182c95c",
   "metadata": {},
   "source": [
    "#### **Function 3: normalize_grayscale_image**"
   ]
  },
  {
   "cell_type": "markdown",
   "id": "90ab1b87",
   "metadata": {},
   "source": [
    "*Source Code*"
   ]
  },
  {
   "cell_type": "code",
   "execution_count": null,
   "id": "fe5934dd",
   "metadata": {},
   "outputs": [],
   "source": [
    "def normalize_grayscale_image(input_path, output_path):\n",
    "    # Read the image\n",
    "    img = imageio.imread(input_path)\n",
    "\n",
    "    # Normalize the grayscale image\n",
    "    normalized_img = img / img.max()\n",
    "\n",
    "    # Convert the normalized image to 8-bit unsigned integer format\n",
    "    normalized_img_ubyte = img_as_ubyte(normalized_img)\n",
    "\n",
    "    # Save the normalized grayscale image as a PNG\n",
    "    imageio.imsave(output_path, normalized_img_ubyte)"
   ]
  },
  {
   "cell_type": "markdown",
   "id": "e4d39aef",
   "metadata": {},
   "source": [
    "*Explanation*"
   ]
  },
  {
   "cell_type": "markdown",
   "id": "84cad42f",
   "metadata": {},
   "source": [
    "This function takes the following inputs:\n",
    "1. `input_path` : The path to the input image file which should be a string.\n",
    "2. `output_path` : The path to the output image file where the processed image should be saved, should be a string.\n",
    "\n",
    "This function reads an image from a specified path, storing it as an array of values. The values are then normalized to the range $[0, 1]$ and converted to an unsigned byte format (0-255). Finally, the processed image is saved to another specified path. \n",
    "\n",
    "The line `img = imageio.imread(input_path)` reads an image from `input_path`. By narmalizing it, an array of values in the range $[0, 1]$ is output:"
   ]
  },
  {
   "cell_type": "code",
   "execution_count": null,
   "id": "f2fd35ac",
   "metadata": {},
   "outputs": [
    {
     "name": "stdout",
     "output_type": "stream",
     "text": [
      "normalized_img =\n",
      " [[[0.04526749 0.04526749 0.04938272]\n",
      "  [0.04526749 0.04526749 0.04938272]\n",
      "  [0.04526749 0.04526749 0.04938272]\n",
      "  ...\n",
      "  [0.04526749 0.04526749 0.04938272]\n",
      "  [0.04526749 0.04526749 0.04938272]\n",
      "  [0.04526749 0.04526749 0.04938272]]\n",
      "\n",
      " [[0.04526749 0.04526749 0.04938272]\n",
      "  [0.0781893  0.08230453 0.08230453]\n",
      "  [0.07407407 0.07407407 0.0781893 ]\n",
      "  ...\n",
      "  [0.90946502 0.90946502 0.90946502]\n",
      "  [0.88065844 0.88065844 0.88477366]\n",
      "  [0.85596708 0.8600823  0.8600823 ]]\n",
      "\n",
      " [[0.04526749 0.04526749 0.04938272]\n",
      "  [0.07407407 0.07407407 0.07407407]\n",
      "  [0.07407407 0.07407407 0.07407407]\n",
      "  ...\n",
      "  [0.93415638 0.93415638 0.9382716 ]\n",
      "  [0.91358025 0.91358025 0.91358025]\n",
      "  [0.88888889 0.88888889 0.88888889]]\n",
      "\n",
      " ...\n",
      "\n",
      " [[0.04526749 0.04526749 0.04938272]\n",
      "  [0.91358025 0.91358025 0.91358025]\n",
      "  [0.9382716  0.9382716  0.94238683]\n",
      "  ...\n",
      "  [0.06584362 0.06584362 0.06584362]\n",
      "  [0.06995885 0.06995885 0.07407407]\n",
      "  [0.07407407 0.07407407 0.07407407]]\n",
      "\n",
      " [[0.04526749 0.04526749 0.04938272]\n",
      "  [0.91769547 0.91769547 0.9218107 ]\n",
      "  [0.94238683 0.94238683 0.94238683]\n",
      "  ...\n",
      "  [0.06584362 0.06584362 0.06584362]\n",
      "  [0.06995885 0.06995885 0.06995885]\n",
      "  [0.06995885 0.06995885 0.07407407]]\n",
      "\n",
      " [[0.04526749 0.04526749 0.04938272]\n",
      "  [0.88888889 0.88888889 0.88888889]\n",
      "  [0.91358025 0.91358025 0.91358025]\n",
      "  ...\n",
      "  [0.06995885 0.06995885 0.07407407]\n",
      "  [0.07407407 0.07407407 0.07407407]\n",
      "  [0.07407407 0.07407407 0.07407407]]]\n"
     ]
    },
    {
     "name": "stderr",
     "output_type": "stream",
     "text": [
      "C:\\Users\\shown\\AppData\\Local\\Temp\\ipykernel_4180\\2356471255.py:5: DeprecationWarning: Starting with ImageIO v3 the behavior of this function will switch to that of iio.v3.imread. To keep the current behavior (and make this warning disappear) use `import imageio.v2 as imageio` or call `imageio.v2.imread` directly.\n",
      "  img = imageio.imread(input_path)\n"
     ]
    }
   ],
   "source": [
    "# The path leads to a grayscale image.\n",
    "input_path = 'data/grayscale image.png' \n",
    "\n",
    "# Read the image as an array.\n",
    "img = imageio.imread(input_path) \n",
    "\n",
    "# Normalized the array of the image to the range [0, 1].\n",
    "normalized_img = img / img.max() \n",
    "\n",
    "print('normalized_img =\\n', normalized_img)"
   ]
  },
  {
   "cell_type": "markdown",
   "id": "d580f497",
   "metadata": {},
   "source": [
    "As abserved, the values are all normalized to the range $[0, 1]$ as expected."
   ]
  },
  {
   "cell_type": "code",
   "execution_count": null,
   "id": "98316ffb",
   "metadata": {},
   "outputs": [
    {
     "name": "stdout",
     "output_type": "stream",
     "text": [
      "normalized_img_ubyte =\n",
      " [[[ 12  12  13]\n",
      "  [ 12  12  13]\n",
      "  [ 12  12  13]\n",
      "  ...\n",
      "  [ 12  12  13]\n",
      "  [ 12  12  13]\n",
      "  [ 12  12  13]]\n",
      "\n",
      " [[ 12  12  13]\n",
      "  [ 20  21  21]\n",
      "  [ 19  19  20]\n",
      "  ...\n",
      "  [232 232 232]\n",
      "  [225 225 226]\n",
      "  [218 219 219]]\n",
      "\n",
      " [[ 12  12  13]\n",
      "  [ 19  19  19]\n",
      "  [ 19  19  19]\n",
      "  ...\n",
      "  [238 238 239]\n",
      "  [233 233 233]\n",
      "  [227 227 227]]\n",
      "\n",
      " ...\n",
      "\n",
      " [[ 12  12  13]\n",
      "  [233 233 233]\n",
      "  [239 239 240]\n",
      "  ...\n",
      "  [ 17  17  17]\n",
      "  [ 18  18  19]\n",
      "  [ 19  19  19]]\n",
      "\n",
      " [[ 12  12  13]\n",
      "  [234 234 235]\n",
      "  [240 240 240]\n",
      "  ...\n",
      "  [ 17  17  17]\n",
      "  [ 18  18  18]\n",
      "  [ 18  18  19]]\n",
      "\n",
      " [[ 12  12  13]\n",
      "  [227 227 227]\n",
      "  [233 233 233]\n",
      "  ...\n",
      "  [ 18  18  19]\n",
      "  [ 19  19  19]\n",
      "  [ 19  19  19]]]\n"
     ]
    }
   ],
   "source": [
    "# Convert the normalized image to 8-bit unsigned integer format(0-255).\n",
    "normalized_img_ubyte = img_as_ubyte(normalized_img) \n",
    "\n",
    "print('normalized_img_ubyte =\\n', normalized_img_ubyte)"
   ]
  },
  {
   "cell_type": "markdown",
   "id": "f05db764",
   "metadata": {},
   "source": [
    "At the end, the line `imageio.imsave(output_path, normalized_img_ubyte)` saves the last array to a new path specified by the variable `output_path`."
   ]
  },
  {
   "cell_type": "markdown",
   "id": "2f07e445",
   "metadata": {},
   "source": [
    "### **Module 2: permittivity_tensors**"
   ]
  },
  {
   "cell_type": "markdown",
   "id": "b959bf15",
   "metadata": {},
   "source": [
    "This part introduces a series of functions to create permittivity tensor, scattering potential and so on."
   ]
  },
  {
   "cell_type": "markdown",
   "id": "5a0da8dd",
   "metadata": {},
   "source": [
    "#### **Imports**"
   ]
  },
  {
   "cell_type": "markdown",
   "id": "678ef4c3",
   "metadata": {},
   "source": [
    "*Source Code*"
   ]
  },
  {
   "cell_type": "code",
   "execution_count": null,
   "id": "fcbc7bab",
   "metadata": {},
   "outputs": [],
   "source": [
    "# %% Imports\n",
    "from typing import Optional, Tuple\n",
    "import imageio\n",
    "import jax\n",
    "import jax.numpy as jnp"
   ]
  },
  {
   "cell_type": "markdown",
   "id": "3fe6b3da",
   "metadata": {},
   "source": [
    "*Explanation*"
   ]
  },
  {
   "cell_type": "markdown",
   "id": "9f8b9606",
   "metadata": {},
   "source": [
    "1. `typing` : A powerful tool to support type hints that allow developers to indicate the expected types of variables, function parameters, and return values in their code. It's beneficial in large projects, where it can prevent bugs and make the code easier to understand. `Optional` is one of the type hints which is used to indicate that a value could either be of a specific type or `none `. `Tuple` is used to specify the types of elements in a tuple. A tuple is an immutable sequence of elements that can be of different types.\n",
    "2. `imageio` : A versatile tool for reading (input) and saving (output) images in various formats. When an image is read using `imageio`, it is stored as an array, allowing for easy manipulation and processing.\n",
    "3. `jax` : A library designed to facilitate high-performance numerical computing, particularly for machine learning and scientific computing applications. `JAX` enables automatic differentiation, just-in-time (JIT) compilation, and efficient parallelization on both CPUs and GPUs. Additionally, it offers a Numpy-like API (`jax.numpy`)."
   ]
  },
  {
   "cell_type": "markdown",
   "id": "760fd525",
   "metadata": {},
   "source": [
    "#### **Function 1: generate_permittivity_tensor**"
   ]
  },
  {
   "cell_type": "markdown",
   "id": "72ac72d5",
   "metadata": {},
   "source": [
    "*Source Code*"
   ]
  },
  {
   "cell_type": "code",
   "execution_count": null,
   "id": "6d8723c0",
   "metadata": {},
   "outputs": [],
   "source": [
    "def generate_permittivity_tensor(\n",
    "    n_o: float, n_e: float, extraordinary_axis: Optional[str] = \"x\"\n",
    "):\n",
    "    \"\"\"\n",
    "    Generate the permittivity tensor for a uniaxial anisotropic material.\n",
    "\n",
    "    Args:\n",
    "        n_o (float): Ordinary refractive index\n",
    "        n_e (float): Extraordinary refractive index\n",
    "        extraordinary_axis (str): Axis which is extraordinary ('x', 'y', or 'z')\n",
    "\n",
    "    Returns:\n",
    "        jnp.ndarray: Permittivity tensor with the order of axes as zyx\n",
    "    \"\"\"\n",
    "    epsilon_o = n_o**2\n",
    "    epsilon_e = n_e**2\n",
    "    if extraordinary_axis == \"z\":\n",
    "        epsilon_tensor = jnp.array(\n",
    "            [[epsilon_e, 0, 0], [0, epsilon_o, 0], [0, 0, epsilon_o]]\n",
    "        )\n",
    "    elif extraordinary_axis == \"y\":\n",
    "        epsilon_tensor = jnp.array(\n",
    "            [[epsilon_o, 0, 0], [0, epsilon_e, 0], [0, 0, epsilon_o]]\n",
    "        )\n",
    "    elif extraordinary_axis == \"x\":\n",
    "        epsilon_tensor = jnp.array(\n",
    "            [[epsilon_o, 0, 0], [0, epsilon_o, 0], [0, 0, epsilon_e]]\n",
    "        )\n",
    "    else:\n",
    "        raise ValueError(\"extraordinary_axis must be one of 'x', 'y', or 'z'\")\n",
    "    return epsilon_tensor"
   ]
  },
  {
   "cell_type": "markdown",
   "id": "a4c760c0",
   "metadata": {},
   "source": [
    "*Explanation*"
   ]
  },
  {
   "cell_type": "markdown",
   "id": "5f3c359c",
   "metadata": {},
   "source": [
    "This function creates a permittivity tensor for an anisotropic material with the following inputs: \n",
    "1. `n_o` : $n_o=\\sqrt{\\varepsilon_0}$ for ordinary refractive index. \n",
    "2. `n_e` : $n_e=\\sqrt{\\varepsilon_e}$ ' for extraordinary refractive index.\n",
    "3. `extraordinary_axis`: A string indicating the axis that is extraordinary in the material. It can be either $z$, $y$, or $x$, depending on the desired extraordinary axis and permittivity tensor.\n",
    "\n",
    "For example, if we set `n_o = 1.2`, `n_e = 1.5`, and `extraordinary_axis = 'z'`, the permittivity tensor will have the following form:"
   ]
  },
  {
   "cell_type": "code",
   "execution_count": null,
   "id": "d43aa323",
   "metadata": {},
   "outputs": [
    {
     "name": "stdout",
     "output_type": "stream",
     "text": [
      "[[2.25 0.   0.  ]\n",
      " [0.   1.44 0.  ]\n",
      " [0.   0.   1.44]]\n"
     ]
    }
   ],
   "source": [
    "n_o, n_e = 1.2, 1.5\n",
    "extraordinary_axis = 'z'\n",
    "\n",
    "# call the function to create the permittivity tensor\n",
    "permittivity_tensor = generate_permittivity_tensor(n_o, n_e, extraordinary_axis)\n",
    "\n",
    "print(permittivity_tensor)"
   ]
  },
  {
   "cell_type": "markdown",
   "id": "5b8e8915",
   "metadata": {},
   "source": [
    "Permittivity, denoted by $\\varepsilon$ is a crucial parameter in electromagenetism. It's a property of material describing how the material respond to an electric field and a measure of the electric polarizability of a dielectric material. A material with high permittivity polarizes more in response to an applied electric field than a material with low permittivity, thereby storing more energy in the material [@Permittivity]. In vacuum, the vacuum permittivity (also called electric constant) $\\varepsilon_0$ is approximately $8.854 \\times 10^{12} F/m$. \n",
    "\n",
    "By the way, there is permeability which is the measure of magnetization produced in a material in response to an applied magnetic field. Permeability is typically represented by $\\mu$. The magnetic permeability of vacuum (also called magnetic constant) $\\mu_0$ is approximately $4 \\times 10^{-7} H/m$ [@Permeability]. By the way, the speed of light in vacuum $c$ is related to the magnetic constant and the electric constant by the equation: \n",
    "\n",
    "$$c = \\frac{1}{\\sqrt{\\mu_0 \\epsilon_0}} \\approx 299,792,458 m/s \\tag{2.2.3}$$\n",
    "\n",
    "The reason for using a tensor to represent the permittivity is that in an anisotropic material (particularly crystals), the atoms have a periodic distribution with different symmetries in different directions. This results in different permittivities along different axes. Since the electric field in Cartesian coordinates also has three components, the permittivity tensor must be a $3 \\times 3$ matrix.\n",
    "\n",
    "However, in general, anisotropic media can be characterized by three independent permittivity elements in the principle coordinate system [@FoMO_Script]:\n",
    "\n",
    "$$(\\varepsilon_{ij}) = \\begin{bmatrix} \\varepsilon_1(\\omega) & 0 & 0 \\\\\n",
    "                                        0 & \\varepsilon_2(\\omega) & 9 \\\\\n",
    "                                        0 & 0 & \\varepsilon_3(\\omega) \\end{bmatrix} \\tag{2.2.4}$$\n",
    "\n",
    "where $\\omega$ is the angular frequency of the electromagnetic wave, $\\varepsilon_1(\\omega)$, $\\varepsilon_2(\\omega)$, and $\\varepsilon_3(\\omega)$ are the permittivities along the $z$, $y$, and $x$ axes, respectively.\n",
    "\n",
    "A uniaxial crystal has two crystallographically equivalent directions, which means that two of the permittivity elements are equal. These are called the ordinary dielectric constants, $\\epsilon_o$. The third permittivity element, which is different, is called the extraordinary dielectric constant, $\\epsilon_e$. Correspondingly, the crystal has ordinary axes and an extraordinary axis, also known as the optical axis."
   ]
  },
  {
   "cell_type": "markdown",
   "id": "feebe9e6",
   "metadata": {},
   "source": [
    "#### **Function 2: create_homogeneous_phantom**"
   ]
  },
  {
   "cell_type": "markdown",
   "id": "5ce67bab",
   "metadata": {},
   "source": [
    "*Source Code*"
   ]
  },
  {
   "cell_type": "code",
   "execution_count": null,
   "id": "692c86c3",
   "metadata": {},
   "outputs": [],
   "source": [
    "def create_homogeneous_phantom(\n",
    "    shape: Tuple[int, int, int],\n",
    "    n_o: float,\n",
    "    n_e: float,\n",
    "    extraordinary_axis: Optional[str] = \"x\",\n",
    "):\n",
    "    \"\"\"\n",
    "    Create a homogeneous uniaxial anisotropic phantom.\n",
    "\n",
    "    Args:\n",
    "        shape (tuple): Shape of the phantom (z, y, x)\n",
    "        n_o (float): Ordinary refractive index\n",
    "        n_e (float): Extraordinary refractive index\n",
    "        extraordinary_axis (str): Axis which is extraordinary ('x', 'y', or 'z')\n",
    "\n",
    "    Returns:\n",
    "        jnp.ndarray: 4D array representing the phantom with the\n",
    "                    permittivity tensor at each voxel\n",
    "    \"\"\"\n",
    "    epsilon_tensor = generate_permittivity_tensor(n_o, n_e, extraordinary_axis)\n",
    "    phantom = jnp.tile(epsilon_tensor, (*shape, 1, 1))\n",
    "    return phantom"
   ]
  },
  {
   "cell_type": "markdown",
   "id": "18dca391",
   "metadata": {},
   "source": [
    "*Explanation*"
   ]
  },
  {
   "cell_type": "markdown",
   "id": "701765bf",
   "metadata": {},
   "source": [
    "The code within this function is responsible for creating a homogeneous uniaxial anisotropic phantom, represented by a 4D array that holds the permittivity tensor at each voxel in a 3D volume. A voxel is a term derived from ' volumetric pixel ', representing a value on a regular grid in three-dimensional space, and it is the smallest unit of a 3D space.\n",
    "\n",
    "The function takes the following inputs:\n",
    "1. `shape` : A tuple representing the shape of the phantom (z, y, x). The number (Integer) of voxels in each dimension is given by `shape[0]`, `shape[1]`, and `shape[2]`, respectively.\n",
    "2. `n_o` : The ordinary refractive index of the material.\n",
    "3. `n_e` : The extraordinary refractive index of the material.\n",
    "4. `extraordinary_axis` : A string representing the axis that is extraordinary in the material\n",
    "\n",
    "The line `epsilon_tensor = generate_permittivity_tensor(n_o, n_e, extraordinary_axis)` calls the Function 1 to generate a permittivity tensor based on the given inputs. \n",
    "\n",
    "Next, the line `phantom = jnp.tile(epsilon_tensor, (*shape, 1, 1))` creates a 4D array called `phantom` by replicating the `epsilon_tensor` across the 3D shape specified by `shape` (the `*` operator is used to unpack the `shape` tuple and pass its elements as separate arguments to `jnp.tile()`). As a result, each voxel in the 3D space is assigned the same 3 $\\times$ 3 permittivity tensor, making the material homogeneous. The resulting array has a shape of `(z, y, x, 3, 3)`. \n",
    "\n",
    "The reason this resulting array is referred to as a 4D array rather than a 5D array is that the last two dimensions `(3, 3)`, which represent the permittivity tensor, are typically interpreted as a single entity associated with each voxel rather than as independent dimensions. Therefore, while the array is technically stored in memory as a 5D array, it's treated as a 4D array conceptually.\n",
    "\n",
    "To make it more clear, the `jnp.tile(A, reps)` function is used to replicate the array `A` along specific dimensions, with the argument `reps` being a tuple that specifies the number of repetitions for each dimension. In our case, `epsilon_tensor` is the array to be replicated, and `(*shape, 1, 1)` indicates that the array should be repeated `z`, `y`, and `x` times along the first three dimensions, and 1 time along the fourth and fifth dimensions (This ensures that the 3 $\\times$ 3 structure of `epsilon_tensor` is preserved).\n",
    "\n",
    "For example, if we set `shape = (1, 2, 3)`, `n_0 = 1.2`, `n_e = 1.5`, `extraordinary_axis = 'z'`, the resulting phantom will have the following shape:"
   ]
  },
  {
   "cell_type": "code",
   "execution_count": null,
   "id": "6f9bdfc5",
   "metadata": {},
   "outputs": [
    {
     "name": "stdout",
     "output_type": "stream",
     "text": [
      "shape of the phantom = (1, 2, 3, 3, 3)\n",
      "phantom = \n",
      " [[[[[2.25 0.   0.  ]\n",
      "    [0.   1.44 0.  ]\n",
      "    [0.   0.   1.44]]\n",
      "\n",
      "   [[2.25 0.   0.  ]\n",
      "    [0.   1.44 0.  ]\n",
      "    [0.   0.   1.44]]\n",
      "\n",
      "   [[2.25 0.   0.  ]\n",
      "    [0.   1.44 0.  ]\n",
      "    [0.   0.   1.44]]]\n",
      "\n",
      "\n",
      "  [[[2.25 0.   0.  ]\n",
      "    [0.   1.44 0.  ]\n",
      "    [0.   0.   1.44]]\n",
      "\n",
      "   [[2.25 0.   0.  ]\n",
      "    [0.   1.44 0.  ]\n",
      "    [0.   0.   1.44]]\n",
      "\n",
      "   [[2.25 0.   0.  ]\n",
      "    [0.   1.44 0.  ]\n",
      "    [0.   0.   1.44]]]]]\n"
     ]
    }
   ],
   "source": [
    "shape = (1, 2, 3)\n",
    "n_o, n_e = 1.2, 1.5\n",
    "extraordinary_axis = 'z'\n",
    "\n",
    "# call the function to create the homogeneous phantom\n",
    "phantom = create_homogeneous_phantom(shape, n_o, n_e, extraordinary_axis)\n",
    "\n",
    "print('shape of the phantom =', phantom.shape)\n",
    "print('phantom = \\n', phantom)"
   ]
  },
  {
   "cell_type": "markdown",
   "id": "c8704121",
   "metadata": {},
   "source": [
    "#### **Function 3: create_calcite_crystal**"
   ]
  },
  {
   "cell_type": "markdown",
   "id": "0f8f09cc",
   "metadata": {},
   "source": [
    "*Source Code*"
   ]
  },
  {
   "cell_type": "code",
   "execution_count": null,
   "id": "be623a64",
   "metadata": {},
   "outputs": [],
   "source": [
    "def create_calcite_crystal(\n",
    "    shape: Tuple[int, int, int], extraordinary_axis: Optional[str] = \"z\"\n",
    "):\n",
    "    \"\"\"\n",
    "    Create a calcite crystal phantom.\n",
    "\n",
    "    Args:\n",
    "        shape (tuple): Shape of the phantom (z, y, x)\n",
    "        extraordinary_axis (str): Axis which is extraordinary ('x', 'y', or 'z')\n",
    "\n",
    "    Returns:\n",
    "        jnp.ndarray: 4D array representing the phantom with the\n",
    "                    permittivity tensor at each voxel\n",
    "    \"\"\"\n",
    "    n_o = 1.658\n",
    "    n_e = 1.486\n",
    "    return create_homogeneous_phantom(shape, n_o, n_e, extraordinary_axis)"
   ]
  },
  {
   "cell_type": "markdown",
   "id": "5fe95cae",
   "metadata": {},
   "source": [
    "*Explanation*"
   ]
  },
  {
   "cell_type": "markdown",
   "id": "dcf04182",
   "metadata": {},
   "source": [
    "This function creates a calcite crystal phantom by calling the function `create_homogeneous_phantom` and based on the given inputs:\n",
    "1. `shape` : A tuple representing the shape of the phantom (z, y, x). The number (Integer) of voxels in each dimension is given by `shape[0]`, `shape[1]`, and `shape[2]`, respectively.\n",
    "2. `extraordinary_axis` : A string representing the axis that is extraordinary in the material.\n",
    "The function uses the given ordinary refractive index `n_o` and extraordinary refractive index `n_e` to generate the phantom by simply calling the `create_homogeneous_phantom` function.\n",
    "\n",
    "Let's create a calcite crystal phantom with a shape of (2, 2, 2), and an extraordinary axis of 'z':"
   ]
  },
  {
   "cell_type": "code",
   "execution_count": null,
   "id": "f26acd75",
   "metadata": {},
   "outputs": [
    {
     "name": "stdout",
     "output_type": "stream",
     "text": [
      "shape of the calcite crystal phantom = (2, 2, 2, 3, 3)\n",
      "calcite_crystal =\n",
      " [[[[[2.208196 0.       0.      ]\n",
      "    [0.       2.748964 0.      ]\n",
      "    [0.       0.       2.748964]]\n",
      "\n",
      "   [[2.208196 0.       0.      ]\n",
      "    [0.       2.748964 0.      ]\n",
      "    [0.       0.       2.748964]]]\n",
      "\n",
      "\n",
      "  [[[2.208196 0.       0.      ]\n",
      "    [0.       2.748964 0.      ]\n",
      "    [0.       0.       2.748964]]\n",
      "\n",
      "   [[2.208196 0.       0.      ]\n",
      "    [0.       2.748964 0.      ]\n",
      "    [0.       0.       2.748964]]]]\n",
      "\n",
      "\n",
      "\n",
      " [[[[2.208196 0.       0.      ]\n",
      "    [0.       2.748964 0.      ]\n",
      "    [0.       0.       2.748964]]\n",
      "\n",
      "   [[2.208196 0.       0.      ]\n",
      "    [0.       2.748964 0.      ]\n",
      "    [0.       0.       2.748964]]]\n",
      "\n",
      "\n",
      "  [[[2.208196 0.       0.      ]\n",
      "    [0.       2.748964 0.      ]\n",
      "    [0.       0.       2.748964]]\n",
      "\n",
      "   [[2.208196 0.       0.      ]\n",
      "    [0.       2.748964 0.      ]\n",
      "    [0.       0.       2.748964]]]]]\n"
     ]
    }
   ],
   "source": [
    "shape = (2, 2, 2)\n",
    "extraordinary_axis = 'z'\n",
    "\n",
    "# call the function to create the calcite crystal phantom\n",
    "calcite_crystal = create_calcite_crystal(shape, extraordinary_axis)\n",
    "\n",
    "print('shape of the calcite crystal phantom =', calcite_crystal.shape)\n",
    "print('calcite_crystal =\\n', calcite_crystal)"
   ]
  },
  {
   "cell_type": "markdown",
   "id": "8c32475b",
   "metadata": {},
   "source": [
    "#### **Function 4: create_scattering_potential**"
   ]
  },
  {
   "cell_type": "markdown",
   "id": "a56b7e81",
   "metadata": {},
   "source": [
    "*Source Code*"
   ]
  },
  {
   "cell_type": "code",
   "execution_count": null,
   "id": "5c348ae2",
   "metadata": {},
   "outputs": [],
   "source": [
    "def create_scattering_potential(permittivity_tensor, background_permittivity):\n",
    "    \"\"\"\n",
    "    Create the scattering potential from the permittivity tensor.\n",
    "\n",
    "    Args:\n",
    "        permittivity_tensor (jnp.ndarray): The permittivity tensor of the material.\n",
    "        background_permittivity (float): The permittivity of the background medium.\n",
    "\n",
    "    Returns:\n",
    "        jnp.ndarray: The scattering potential.\n",
    "    \"\"\"\n",
    "    # Calculate the permittivity contrast\n",
    "    contrast = permittivity_tensor - background_permittivity\n",
    "\n",
    "    # Scattering potential is proportional to the permittivity contrast\n",
    "    scattering_potential = contrast / background_permittivity\n",
    "\n",
    "    return scattering_potential"
   ]
  },
  {
   "cell_type": "markdown",
   "id": "dfe26ee0",
   "metadata": {},
   "source": [
    "*Explanation*"
   ]
  },
  {
   "cell_type": "markdown",
   "id": "b8efb1ab",
   "metadata": {},
   "source": [
    "This function is designed to calculate the scattering potential for a given phantom taking the inputs: `permittivity_tensor` and `background_permittivity`. The `permittivity_tensor`, which can be generated by Function 1, should be provided as an array.\n",
    "\n",
    "The code is straightforward. It begins by calculating the `permittivity_contrast`, which is obtained by subtracting the `background_permittivity` from the `permittivity_tensor`. Next, the `scattering_potential` is determined by dividing the `permittivity_contrast` by the `permittivity_tensor`:"
   ]
  },
  {
   "cell_type": "code",
   "execution_count": null,
   "id": "06b4168e",
   "metadata": {},
   "outputs": [
    {
     "name": "stdout",
     "output_type": "stream",
     "text": [
      "scatteriing potential =\n",
      " [[ 1.0454545  -1.         -1.        ]\n",
      " [-1.          0.30909094 -1.        ]\n",
      " [-1.         -1.          0.30909094]]\n"
     ]
    }
   ],
   "source": [
    "n_o, n_e = 1.2, 1.5\n",
    "extraordinary_axis = 'z'\n",
    "\n",
    "# call the function to create the permittivity tensor\n",
    "permittivity_tensor = generate_permittivity_tensor(n_o, n_e, extraordinary_axis)\n",
    "\n",
    "background_permittivity = 1.1 # Define the background_permittivity\n",
    "\n",
    "# Call the function to create the scattering potential\n",
    "scattering_potential = create_scattering_potential(permittivity_tensor, background_permittivity)\n",
    "\n",
    "print('scatteriing potential =\\n', scattering_potential)"
   ]
  },
  {
   "cell_type": "markdown",
   "id": "cc9bc822",
   "metadata": {},
   "source": [
    "Let's dive into the physical background of the code. \n",
    "\n",
    "The permittivity contrast here is straightforward, it is the difference between the actual permittivity of the material and the background permittivity. The scattering potential, on the other hand, is a concept used in wave theory to describe how an inhomogeneity or a discontinuity in a medium scatters an incoming wave. \n",
    "\n",
    "To derive the methematical expression for the scattering potential, we have to start from Maxwell's equations. We consider a monochromatic electromagnetic field with time dependence $exp(-i \\omega t)$, incident on a linear, isotropic, nonmagnetic medium occupying a finite domain with no sources [@Principles_of_Optics]. Then, the Maxwell's equation reads:\n",
    "\n",
    "$$\\nabla \\times \\textbf{E(r)} = i \\omega \\textbf{B(r)} \\tag{2.1.5} $$  \n",
    "$$\\nabla \\cdot \\textbf{D(r)} = 0 \\tag{2.1.6} $$\n",
    "$$\\nabla \\times \\textbf{H(r)} = -i \\omega \\textbf{D(r)} \\tag{2.1.7}$$\n",
    "$$\\nabla \\cdot \\textbf{B(r)} = 0 \\tag{2.1.8}$$\n",
    "\n",
    "Where $\\textbf{E(r)}$ and $\\textbf{H(r)}$ are the electric and magnetic fields, respectively, $\\textbf{D(r)} = \\varepsilon_0 \\varepsilon(r) \\textbf{E(r)}$ is the electric flux density (also called the electric displacement field), and $\\textbf{B(r)} = \\mu_0 \\textbf{H(r)}$ is the magnetic flux density.\n",
    "\n",
    "By taking the curl of the first equation, we get:\n",
    "\n",
    "$$\\nabla \\times (\\nabla \\times \\textbf{E(r)}) = i \\omega \\mu_0 \\nabla \\times \\textbf{H(r)} \\tag{2.1.9}$$\n",
    "\n",
    "Using the vector identity:\n",
    "\n",
    "$$\\nabla \\times (\\nabla \\times \\textbf{E(r)}) = \\nabla(\\nabla \\cdot \\textbf{E(r)}) - \\nabla^2 \\textbf{E(r)} \\tag{2.1.10}$$\n",
    "\n",
    "And:\n",
    "\n",
    "$$\\nabla \\times \\textbf{H(r)} = -i \\omega \\textbf{D(r)} = -i \\omega \\varepsilon_0 \\varepsilon(r) \\textbf{E(r)} \\tag{2.1.11}$$\n",
    "\n",
    "$$\\nabla \\cdot \\textbf{D(r)} = \\varepsilon_0 \\varepsilon(r) \\nabla \\cdot \\textbf{E(r)} + \\varepsilon_0 \\textbf{E(r)} \\nabla \\varepsilon(r) = 0 \\tag{2.1.12}$$\n",
    "\n",
    "We can get the following equation:\n",
    "\n",
    "$$\\nabla^2 \\textbf{E(r)} + \\frac{\\omega^2}{c^2} \\varepsilon(r) \\textbf{E(r)} + \\nabla \\{ \\frac{\\nabla \\varepsilon(r)}{\\varepsilon(r)} \\cdot \\textbf{E(r)} \\} = 0 \\tag{2.1.13}$$\n",
    "\n",
    "Where $c$ is the speed of light in free space ($1/c^2 = \\mu_0 \\varepsilon_0$), and the wavenumber $k = \\omega / c$.\n",
    "\n",
    "We note that the last term on the left of the equation(13) couples the Cartesian components of the electric field. For this reason, the treatment of scattering based on this equation is rather complicated. The equation can be simplified if we assume that the dielectric constant (permittivity) $\\varepsilon(r)$ varies so slowly with position that it is effectively constant over distances of the order of the wavelength $\\lambda = 2 \\pi / k = 2 \\pi c / \\omega$. Under these circumstances, the last term on the left-hand side of the equation(13) may be neglected. We then obtain the equation [@Principles_of_Opticas]:\n",
    "\n",
    "$$\\nabla^2 \\textbf{E(r)} + k^2 \\varepsilon(r) \\textbf{E(r)} = 0 \\tag{2.1.14}$$\n",
    "\n",
    "Next, we can express the permittivity as the sum of a background permittivity $\\varepsilon_B$ and a contrast $\\Delta \\varepsilon(r)$:\n",
    "\n",
    "$$\\Delta \\varepsilon(r) = \\varepsilon(r) - \\varepsilon_B \\tag{2.1.15}$$\n",
    "\n",
    "Thus, we have:\n",
    "\n",
    "$$k^2 \\varepsilon(r) = k^2(\\varepsilon_B + \\Delta \\varepsilon(r)) = k^2 \\varepsilon_B(1 + \\frac{\\Delta \\varepsilon(r)}{\\varepsilon_B}) \\tag{2.1.16}$$\n",
    "\n",
    "It will be convenient to re-write equation(14) in the form:\n",
    "\n",
    "$$\\nabla^2 \\textbf{E(r)} + k^2 \\varepsilon_B \\textbf{E(r)} = - k^2 \\frac{\\Delta \\varepsilon(r)}{\\varepsilon_B} \\textbf{E(r)} = - F(r) \\textbf{E(r)} \\tag{2.1.17}$$\n",
    "\n",
    "The function $F(r)$ is usually called the $\\textbf{scattering potential}$ of the medium. Since $k$ is constant for a monochromatic wave, calculating the $\\Delta \\varepsilon(r) / \\varepsilon_B$ is sufficient to determine the scattering potential. This is why the code includes the line: `scattering_potential = contrast / background_permittivity`."
   ]
  },
  {
   "cell_type": "markdown",
   "id": "0553cb43",
   "metadata": {},
   "source": [
    "#### **Function 5: permittivity_tensor_from_pixel**"
   ]
  },
  {
   "cell_type": "markdown",
   "id": "c9ba7444",
   "metadata": {},
   "source": [
    "*Source Code*"
   ]
  },
  {
   "cell_type": "code",
   "execution_count": null,
   "id": "7ab7b169",
   "metadata": {},
   "outputs": [],
   "source": [
    "def permittivity_tensor_from_pixel(\n",
    "    pixel_value, n_o_base=1.55, n_e_base=1.55, scale=0.5\n",
    "):\n",
    "    # The difference between n_o and n_e increases with the pixel value\n",
    "    n_o = n_o_base + scale * pixel_value\n",
    "    n_e = n_e_base - scale * pixel_value\n",
    "    return generate_permittivity_tensor(n_o, n_e)"
   ]
  },
  {
   "cell_type": "markdown",
   "id": "36a91529",
   "metadata": {},
   "source": [
    "*Explanation*"
   ]
  },
  {
   "cell_type": "markdown",
   "id": "ef836bc7",
   "metadata": {},
   "source": [
    "The function is designed to calculate the ordinary and extraordinary refractive indices `n_o` and `n_e` based on a pixel value and then generates the corresponding permittivity tensor. The function takes the following inputs:\n",
    "1. `pixel_value` : Represents the pixel intensity value(a measure of brightness or color in an image), which modifies the ordinary refractive index `n_o` and extraoedinary refractive index `n_e` of the material. The pixel value should be first normalized to a range between 0 and 1.\n",
    "2. `n_o_base` : The base ordinary refractive index, which is default to 1.55.\n",
    "3. `n_e_base` : The base extraordinary refractive index, which is also default to 1.55.\n",
    "4. `scale` : A scaling factor that determines how the refractive indices change with the pixel value.\n",
    "\n",
    "Ordinarily, in a grayscale image, each pixel has a single value representing the intensity of light at that pixel. The value typically ranges from 0 (black) to 255 (white) in 8-bit images. In color images, each pixel consists of multiple values (usually 3 for RGB images), with each value representing the intensity of the Red, Green, and Blue color channels. Each channel’s intensity is typically in the 0-255 range for 8-bit images. However, since refractive indices cannot be very large or negative, we need to normalize the pixel values to a range between 0 and 1.\n",
    "\n",
    "The line `n_o = n_o_base + scale * pixel_value` calculates the ordinary refractive index, which increases with pixel value. Similarly, the line `n_e = n_e_base + scale * pixel_value` calculates the extraordinary refractive index, which decreases with pixel value. Therefore, an ordinary wave will experience more refraction and an extraordinary wave will experience less refraction.\n",
    "\n",
    "The function finally call the function `generate_permittivity_tensor` to genearate a permittivity tensor based on a pixel value. For example, if we set the pixel value as 0.78, we will have:"
   ]
  },
  {
   "cell_type": "code",
   "execution_count": null,
   "id": "a429160d",
   "metadata": {},
   "outputs": [
    {
     "name": "stdout",
     "output_type": "stream",
     "text": [
      "tensor_from_pixel = \n",
      " <function permittivity_tensor_from_pixel at 0x0000023D306449A0>\n"
     ]
    }
   ],
   "source": [
    "pixel_value = 0.78\n",
    "n_o_base, n_e_base = 1.55, 1.55\n",
    "scale = 0.5\n",
    "\n",
    "n_o = n_o_base + scale * pixel_value\n",
    "n_e = n_e_base - scale * pixel_value\n",
    "\n",
    "tensor_from_pixel = generate_permittivity_tensor(n_o, n_e)\n",
    "\n",
    "print('tensor_from_pixel = \\n', permittivity_tensor_from_pixel)"
   ]
  },
  {
   "cell_type": "markdown",
   "id": "dfcbc339",
   "metadata": {},
   "source": [
    "#### **Function 6: vectorized_permittivity_tensor_from_pixel**"
   ]
  },
  {
   "cell_type": "markdown",
   "id": "3790cf4d",
   "metadata": {},
   "source": [
    "*Source Code*"
   ]
  },
  {
   "cell_type": "code",
   "execution_count": null,
   "id": "258914e3",
   "metadata": {},
   "outputs": [],
   "source": [
    "def vectorized_permittivity_tensor_from_pixel(\n",
    "    img, n_o_base=1.55, n_e_base=1.55, scale=0.5\n",
    "):\n",
    "    vmap_func = jax.vmap(\n",
    "        lambda pixel: permittivity_tensor_from_pixel(pixel, n_o_base, n_e_base, scale)\n",
    "    )\n",
    "    return jax.vmap(vmap_func)(img)"
   ]
  },
  {
   "cell_type": "markdown",
   "id": "b4fef09c",
   "metadata": {},
   "source": [
    "*Explanation*"
   ]
  },
  {
   "cell_type": "markdown",
   "id": "ab72de8c",
   "metadata": {},
   "source": [
    "This function aims to vectorize the `permittivity_tensor_from_pixel` function to operate on an entire 2D image using the `jax.vmap` function, where each pixel in the image is treated as an individual scalar value that is passed to the `permittivity_tensor_from_pixel` function. The function takes the following inputs:\n",
    "1. `img`: An normalized array which can be read from an image using `imageio.imread()`.\n",
    "2. `n_o_base` : The base ordinary refractive index, which is default to 1.55.\n",
    "3. `n_e_base` : The base extraordinary refractive index, which is also default to 1.55.\n",
    "4. `scale` : A scaling factor that determines how the refractive indices change with the pixel value.\n",
    "\n",
    "In the code, a new function `jax.vmap` is used. It's a function in the JAX library that allows you to vectorize a function, meaning it can automatically apply a function over arrays in a batched manner. Instead of manually writing loops to apply a function to every element of an array, `jax.vmap` helps you apply the function efficiently to each element or batch of elements in parallel.\n",
    "\n",
    "For example, we define a function that adds one to the input and call it to do a simple test:"
   ]
  },
  {
   "cell_type": "code",
   "execution_count": null,
   "id": "16dbbd55",
   "metadata": {},
   "outputs": [
    {
     "name": "stdout",
     "output_type": "stream",
     "text": [
      "x = 1\n"
     ]
    }
   ],
   "source": [
    "# Define a function that returns 1 if x >= 0, otherwise 0\n",
    "def threshold_func(x):\n",
    "    return jnp.where(x >=0, 1, 0)\n",
    "\n",
    "# Call the function\n",
    "x = threshold_func(1)\n",
    "\n",
    "print('x =', x)"
   ]
  },
  {
   "cell_type": "markdown",
   "id": "e2cdac0b",
   "metadata": {},
   "source": [
    "Now, we apply this function to each element of an array using `jax.vmap` and use the vectorized function to do a test:"
   ]
  },
  {
   "cell_type": "code",
   "execution_count": null,
   "id": "d0c2e7fe",
   "metadata": {},
   "outputs": [
    {
     "name": "stdout",
     "output_type": "stream",
     "text": [
      "[0 1 0 1 0]\n"
     ]
    }
   ],
   "source": [
    "# Define an array\n",
    "x_array = jnp.array([-1, 2, -3, 4, -5])\n",
    "\n",
    "# Vectorizing the function with vmap:\n",
    "vectorized_threshold = jax.vmap(threshold_func)\n",
    "# Call the vectorized function\n",
    "result_vectorized = vectorized_threshold(x_array)\n",
    "\n",
    "print(result_vectorized)"
   ]
  },
  {
   "cell_type": "markdown",
   "id": "a6333337",
   "metadata": {},
   "source": [
    "`lambda pixel: permittivity_tensor_from_pixel(pixel, n_o_base, n_e_base, scale)` is an anonymous function (lambda function) that takes a single argument `pixel`. For each pixel, it calls `permittivity_tensor_from_pixel(pixel, n_o_base, n_e_base, scale)`, which means it computes the permittivity tensor for specific pixels using the provided values (n_o_base, n_e_base, scale) and passing in the `pixel` value.\n",
    "\n",
    "The `lambda` function in Python is a way to create small, nameless functions. It's often used when you need a simple function for a short operation, without formally defining it using the `def` keyword. The general syntax of a lambda function is `lambda arguments: expression`. For example, we can create a lambda function that adds 1 to a number:"
   ]
  },
  {
   "cell_type": "code",
   "execution_count": null,
   "id": "8067201b",
   "metadata": {},
   "outputs": [
    {
     "name": "stdout",
     "output_type": "stream",
     "text": [
      "add_one = 2\n"
     ]
    }
   ],
   "source": [
    "# Create a lambda function that adds one to the input\n",
    "add_one = lambda x: x + 1\n",
    "print('add_one =', add_one(1))"
   ]
  },
  {
   "cell_type": "markdown",
   "id": "e288cbb1",
   "metadata": {},
   "source": [
    "The first `jax.vmap()` in the source code wraps the lambda function which operates on a single pixel, and transforms it into a vectorized function `vamap_func` that can handle a row of pixels at once. \n",
    "\n",
    "The second one, namely, `jax.vmap(vmap_func)(img)` creates a vectorized version of the function `vmap_func`. Since `vmap_func` is already a function that processes a 1D array of pixels, `jax.vmap(vmap_func)` transforms it into a new function that processes a 2D array(e.g. an entire image). The second set of parentheses applies the vectorized function to the input data `img`.\n",
    "\n",
    "Let's calculate the permittivity tensors supposing we have a 2 $\\times$ 2 image `img` like this:"
   ]
  },
  {
   "cell_type": "code",
   "execution_count": null,
   "id": "72b6f99b",
   "metadata": {},
   "outputs": [
    {
     "name": "stdout",
     "output_type": "stream",
     "text": [
      "tensor =\n",
      " [[2.25 0.   0.  ]\n",
      " [0.   1.44 0.  ]\n",
      " [0.   0.   1.44]]\n"
     ]
    }
   ],
   "source": [
    "# Create an array of a 2x2 image\n",
    "img = jnp.array([[0.28, 0.33], \n",
    "                 [0.77, 0.66]])\n",
    "\n",
    "# Call the vectorized function to the image\n",
    "tensor = vectorized_permittivity_tensor_from_pixel(img)\n",
    "\n",
    "print('tensor =\\n', permittivity_tensor)"
   ]
  },
  {
   "cell_type": "markdown",
   "id": "5265c923",
   "metadata": {},
   "source": [
    "The result is a 4D array of shape `(2, 2, 3, 3)`, since each pixel is converted into a `3x3` tensor. The first and second `2` represent the number of rows and columns in the original image respectively, and the first and second `3` represent the first and second dimension of the 3x3 permittivity tensor respectively for each pixel."
   ]
  },
  {
   "cell_type": "markdown",
   "id": "c024bc25",
   "metadata": {},
   "source": [
    "#### **Function 7: create_homogeneous_scattering_potential** "
   ]
  },
  {
   "cell_type": "markdown",
   "id": "7a553561",
   "metadata": {},
   "source": [
    "*Source Code*"
   ]
  },
  {
   "cell_type": "code",
   "execution_count": null,
   "id": "7b18ab87",
   "metadata": {},
   "outputs": [],
   "source": [
    "def create_homogeneous_scattering_potential(\n",
    "    shape: Tuple[int, int, int], n_o: float, n_e: float, background_permittivity: float\n",
    "):\n",
    "    \"\"\"\n",
    "    Create a homogeneous uniaxial anisotropic scattering potential.\n",
    "\n",
    "    Args:\n",
    "        shape (tuple): Shape of the phantom (z, y, x)\n",
    "        n_o (float): Ordinary refractive index\n",
    "        n_e (float): Extraordinary refractive index\n",
    "        background_permittivity (float): Background permittivity\n",
    "\n",
    "    Returns:\n",
    "        jnp.ndarray: 4D array representing the scattering potential\n",
    "    \"\"\"\n",
    "    permittivity_tensor = create_homogeneous_phantom(shape, n_o, n_e)\n",
    "    scattering_potential = create_scattering_potential(\n",
    "        permittivity_tensor, background_permittivity\n",
    "    )\n",
    "    return scattering_potential"
   ]
  },
  {
   "cell_type": "markdown",
   "id": "070ec8e8",
   "metadata": {},
   "source": [
    "*Explanation*"
   ]
  },
  {
   "cell_type": "markdown",
   "id": "ba80e2a7",
   "metadata": {},
   "source": [
    "This function aims to generate a homogeneous unaxial anisotropic scattering potential for a given 3D shape by simply calling the defined functions `create_homogeneous_phantom` and `create_scattering_potential`. The function takes the following inputs:\n",
    "1. `shape` : A tuple representing the shape of the phantom (z, y, x). The number (Integer) of voxels in each dimension is given by `shape[0]`, `shape[1]`, and `shape[2]`, respectively.\n",
    "2. `n_o` : The ordinary refractive index of the material.\n",
    "3. `n_e` : The extraordinary refractive index of the material.\n",
    "4. `background_permittivity` : Background permittivity of the medium. The scattering potential is calculated based on the difference between the permittivity of the material and the background permittivity.\n",
    "\n",
    "For example:"
   ]
  },
  {
   "cell_type": "code",
   "execution_count": null,
   "id": "422790cd",
   "metadata": {},
   "outputs": [
    {
     "name": "stdout",
     "output_type": "stream",
     "text": [
      "scattering_potential =\n",
      " [[[[[ 0.30208328 -1.         -1.        ]\n",
      "    [-1.          0.30208328 -1.        ]\n",
      "    [-1.         -1.          1.0020832 ]]\n",
      "\n",
      "   [[ 0.30208328 -1.         -1.        ]\n",
      "    [-1.          0.30208328 -1.        ]\n",
      "    [-1.         -1.          1.0020832 ]]\n",
      "\n",
      "   [[ 0.30208328 -1.         -1.        ]\n",
      "    [-1.          0.30208328 -1.        ]\n",
      "    [-1.         -1.          1.0020832 ]]]\n",
      "\n",
      "\n",
      "  [[[ 0.30208328 -1.         -1.        ]\n",
      "    [-1.          0.30208328 -1.        ]\n",
      "    [-1.         -1.          1.0020832 ]]\n",
      "\n",
      "   [[ 0.30208328 -1.         -1.        ]\n",
      "    [-1.          0.30208328 -1.        ]\n",
      "    [-1.         -1.          1.0020832 ]]\n",
      "\n",
      "   [[ 0.30208328 -1.         -1.        ]\n",
      "    [-1.          0.30208328 -1.        ]\n",
      "    [-1.         -1.          1.0020832 ]]]]]\n"
     ]
    }
   ],
   "source": [
    "shape = (1, 2, 3)\n",
    "n_o, n_e = 1.25, 1.55\n",
    "background_permittivity = 1.2\n",
    "\n",
    "# Call the function to create the homogeneous scattering potential\n",
    "scattering_potential = create_homogeneous_scattering_potential(shape, n_o, n_e, background_permittivity)\n",
    "\n",
    "print('scattering_potential =\\n', scattering_potential)"
   ]
  },
  {
   "cell_type": "markdown",
   "id": "158a6867",
   "metadata": {},
   "source": [
    "As the result shows, the function returns an array with a shape of `(1, 2, 3, 3, 3)`. The dimensions `1`, `2`, `3` represent the number of voxels along $z$, $y$, and $x$ directions respectively. The two trailing `3`s correspond to the two dimensions of the permittivity tensors for each voxel. In other words, each voxel in the `shape` is converted to a 2D array representing its permittivity tensor."
   ]
  },
  {
   "cell_type": "markdown",
   "id": "a927a012",
   "metadata": {},
   "source": [
    "#### **Function 8: process_image_to_epsilon_r**"
   ]
  },
  {
   "cell_type": "markdown",
   "id": "435f2aab",
   "metadata": {},
   "source": [
    "*Source Code*"
   ]
  },
  {
   "cell_type": "code",
   "execution_count": null,
   "id": "c2de1eef",
   "metadata": {},
   "outputs": [],
   "source": [
    "def process_image_to_epsilon_r(input_path, n_o=1.658, n_e=1.486):\n",
    "    img = imageio.imread(input_path)\n",
    "    img = img / img.max()\n",
    "    jax_img = jnp.array(img)\n",
    "\n",
    "    n_avg = (n_o + n_e) / 2\n",
    "    scale = (n_o - n_e) / 2\n",
    "    epsilon_img = vectorized_permittivity_tensor_from_pixel(\n",
    "        jax_img, n_avg, n_avg, scale\n",
    "    )\n",
    "\n",
    "    # Tile the epsilon tensor\n",
    "    epsilon_r = jnp.tile(epsilon_img, (10, 1, 1, 1, 1))\n",
    "\n",
    "    return epsilon_r"
   ]
  },
  {
   "cell_type": "markdown",
   "id": "0d78c0de",
   "metadata": {},
   "source": [
    "*Explanation*"
   ]
  },
  {
   "cell_type": "markdown",
   "id": "496dab2e",
   "metadata": {},
   "source": [
    "The function is designed to process an image and convert it into an array of permittivity tensors for further calculations such as being calculated as background permittivity. The function takes three inputs:\n",
    "1. `input_path` : The file path of the image to be processed.\n",
    "2. `n_o` : The ordinary refractive index (default = 1.658).\n",
    "3. `n_e` : The extraordinary refractive index (default = 1.486).\n",
    "\n",
    "To process an image to `epsilon_r`, the image is first read from `input_path` using `imageio.imread` as an array of pixel values (normally, 0-255). These pixel values are then nromalized by dividing them by the maximum value in the image (`img = img / img.max()`), which results in an array of values scaled between 0 and 1. And the normalized image is converted into a JAX array (`jax_img = jnp.array(img)`).\n",
    "\n",
    "Then, the code calculates the average refractive index (`n_avg`) and the scaling factor (`scale`) based on the given ordinary and extraordinary refractive index. Next, the code calls the function `vectorized_permittivity_tensor_from_pixel` to apply to the `jax_img` array, using the calculated `n_avg` and `scale`, which convertes the pixel values into permittivity tensors for each pixel.\n",
    "\n",
    "Finally, the code tiles the epsilon tensor by repeating it 10 times along the first dimension using `jax.tile()`. As the first dimenstion is $z$ direction, the tiling is actually adding depth to the image. And the other dimensions `(1, 1, 1, 1)` indicates that no tiling is done along other dimensions which is $y$, $x$, and the $3 \\times 3$ tensor elements.\n",
    "\n",
    "Suppose we have a normalized $2 \\times 2$ array representing a grayscale image with only 4 pixels, and then calculate the `epsilon_img` and `epsilon_r`:"
   ]
  },
  {
   "cell_type": "code",
   "execution_count": null,
   "id": "dc348c5d",
   "metadata": {},
   "outputs": [
    {
     "name": "stdout",
     "output_type": "stream",
     "text": [
      "epsilon_img =\n",
      " [[[[2.5675511 0.        0.       ]\n",
      "   [0.        2.5675511 0.       ]\n",
      "   [0.        0.        2.3766603]]\n",
      "\n",
      "  [[2.686865  0.        0.       ]\n",
      "   [0.        2.686865  0.       ]\n",
      "   [0.        0.        2.2645257]]]\n",
      "\n",
      "\n",
      " [[[2.5170903 0.        0.       ]\n",
      "   [0.        2.5170903 0.       ]\n",
      "   [0.        0.        2.4257004]]\n",
      "\n",
      "  [[2.7154164 0.        0.       ]\n",
      "   [0.        2.7154164 0.       ]\n",
      "   [0.        0.        2.2384589]]]]\n"
     ]
    }
   ],
   "source": [
    "# Crear a 2 x 2 image array.\n",
    "jax_img = jnp.array([[0.353, 0.781], [0.169, 0.882]])\n",
    "\n",
    "# Calculate n_avg and scale.\n",
    "n_o, n_e = 1.658, 1.486\n",
    "n_avg = (n_o + n_e) / 2\n",
    "scale = (n_o - n_e) / 2\n",
    "\n",
    "# Call the Function 6 to create the epsilon tensor.\n",
    "epsilon_img = vectorized_permittivity_tensor_from_pixel(jax_img, n_avg, n_avg, scale)\n",
    "\n",
    "print('epsilon_img =\\n', epsilon_img)"
   ]
  },
  {
   "cell_type": "code",
   "execution_count": null,
   "id": "5bda842b",
   "metadata": {},
   "outputs": [
    {
     "name": "stdout",
     "output_type": "stream",
     "text": [
      "shape of epsilon_r = (10, 2, 2, 3, 3)\n",
      "epsilon_r =\n",
      " [[[[[2.5675511 0.        0.       ]\n",
      "    [0.        2.5675511 0.       ]\n",
      "    [0.        0.        2.3766603]]\n",
      "\n",
      "   [[2.686865  0.        0.       ]\n",
      "    [0.        2.686865  0.       ]\n",
      "    [0.        0.        2.2645257]]]\n",
      "\n",
      "\n",
      "  [[[2.5170903 0.        0.       ]\n",
      "    [0.        2.5170903 0.       ]\n",
      "    [0.        0.        2.4257004]]\n",
      "\n",
      "   [[2.7154164 0.        0.       ]\n",
      "    [0.        2.7154164 0.       ]\n",
      "    [0.        0.        2.2384589]]]]\n",
      "\n",
      "\n",
      "\n",
      " [[[[2.5675511 0.        0.       ]\n",
      "    [0.        2.5675511 0.       ]\n",
      "    [0.        0.        2.3766603]]\n",
      "\n",
      "   [[2.686865  0.        0.       ]\n",
      "    [0.        2.686865  0.       ]\n",
      "    [0.        0.        2.2645257]]]\n",
      "\n",
      "\n",
      "  [[[2.5170903 0.        0.       ]\n",
      "    [0.        2.5170903 0.       ]\n",
      "    [0.        0.        2.4257004]]\n",
      "\n",
      "   [[2.7154164 0.        0.       ]\n",
      "    [0.        2.7154164 0.       ]\n",
      "    [0.        0.        2.2384589]]]]\n",
      "\n",
      "\n",
      "\n",
      " [[[[2.5675511 0.        0.       ]\n",
      "    [0.        2.5675511 0.       ]\n",
      "    [0.        0.        2.3766603]]\n",
      "\n",
      "   [[2.686865  0.        0.       ]\n",
      "    [0.        2.686865  0.       ]\n",
      "    [0.        0.        2.2645257]]]\n",
      "\n",
      "\n",
      "  [[[2.5170903 0.        0.       ]\n",
      "    [0.        2.5170903 0.       ]\n",
      "    [0.        0.        2.4257004]]\n",
      "\n",
      "   [[2.7154164 0.        0.       ]\n",
      "    [0.        2.7154164 0.       ]\n",
      "    [0.        0.        2.2384589]]]]\n",
      "\n",
      "\n",
      "\n",
      " [[[[2.5675511 0.        0.       ]\n",
      "    [0.        2.5675511 0.       ]\n",
      "    [0.        0.        2.3766603]]\n",
      "\n",
      "   [[2.686865  0.        0.       ]\n",
      "    [0.        2.686865  0.       ]\n",
      "    [0.        0.        2.2645257]]]\n",
      "\n",
      "\n",
      "  [[[2.5170903 0.        0.       ]\n",
      "    [0.        2.5170903 0.       ]\n",
      "    [0.        0.        2.4257004]]\n",
      "\n",
      "   [[2.7154164 0.        0.       ]\n",
      "    [0.        2.7154164 0.       ]\n",
      "    [0.        0.        2.2384589]]]]\n",
      "\n",
      "\n",
      "\n",
      " [[[[2.5675511 0.        0.       ]\n",
      "    [0.        2.5675511 0.       ]\n",
      "    [0.        0.        2.3766603]]\n",
      "\n",
      "   [[2.686865  0.        0.       ]\n",
      "    [0.        2.686865  0.       ]\n",
      "    [0.        0.        2.2645257]]]\n",
      "\n",
      "\n",
      "  [[[2.5170903 0.        0.       ]\n",
      "    [0.        2.5170903 0.       ]\n",
      "    [0.        0.        2.4257004]]\n",
      "\n",
      "   [[2.7154164 0.        0.       ]\n",
      "    [0.        2.7154164 0.       ]\n",
      "    [0.        0.        2.2384589]]]]\n",
      "\n",
      "\n",
      "\n",
      " [[[[2.5675511 0.        0.       ]\n",
      "    [0.        2.5675511 0.       ]\n",
      "    [0.        0.        2.3766603]]\n",
      "\n",
      "   [[2.686865  0.        0.       ]\n",
      "    [0.        2.686865  0.       ]\n",
      "    [0.        0.        2.2645257]]]\n",
      "\n",
      "\n",
      "  [[[2.5170903 0.        0.       ]\n",
      "    [0.        2.5170903 0.       ]\n",
      "    [0.        0.        2.4257004]]\n",
      "\n",
      "   [[2.7154164 0.        0.       ]\n",
      "    [0.        2.7154164 0.       ]\n",
      "    [0.        0.        2.2384589]]]]\n",
      "\n",
      "\n",
      "\n",
      " [[[[2.5675511 0.        0.       ]\n",
      "    [0.        2.5675511 0.       ]\n",
      "    [0.        0.        2.3766603]]\n",
      "\n",
      "   [[2.686865  0.        0.       ]\n",
      "    [0.        2.686865  0.       ]\n",
      "    [0.        0.        2.2645257]]]\n",
      "\n",
      "\n",
      "  [[[2.5170903 0.        0.       ]\n",
      "    [0.        2.5170903 0.       ]\n",
      "    [0.        0.        2.4257004]]\n",
      "\n",
      "   [[2.7154164 0.        0.       ]\n",
      "    [0.        2.7154164 0.       ]\n",
      "    [0.        0.        2.2384589]]]]\n",
      "\n",
      "\n",
      "\n",
      " [[[[2.5675511 0.        0.       ]\n",
      "    [0.        2.5675511 0.       ]\n",
      "    [0.        0.        2.3766603]]\n",
      "\n",
      "   [[2.686865  0.        0.       ]\n",
      "    [0.        2.686865  0.       ]\n",
      "    [0.        0.        2.2645257]]]\n",
      "\n",
      "\n",
      "  [[[2.5170903 0.        0.       ]\n",
      "    [0.        2.5170903 0.       ]\n",
      "    [0.        0.        2.4257004]]\n",
      "\n",
      "   [[2.7154164 0.        0.       ]\n",
      "    [0.        2.7154164 0.       ]\n",
      "    [0.        0.        2.2384589]]]]\n",
      "\n",
      "\n",
      "\n",
      " [[[[2.5675511 0.        0.       ]\n",
      "    [0.        2.5675511 0.       ]\n",
      "    [0.        0.        2.3766603]]\n",
      "\n",
      "   [[2.686865  0.        0.       ]\n",
      "    [0.        2.686865  0.       ]\n",
      "    [0.        0.        2.2645257]]]\n",
      "\n",
      "\n",
      "  [[[2.5170903 0.        0.       ]\n",
      "    [0.        2.5170903 0.       ]\n",
      "    [0.        0.        2.4257004]]\n",
      "\n",
      "   [[2.7154164 0.        0.       ]\n",
      "    [0.        2.7154164 0.       ]\n",
      "    [0.        0.        2.2384589]]]]\n",
      "\n",
      "\n",
      "\n",
      " [[[[2.5675511 0.        0.       ]\n",
      "    [0.        2.5675511 0.       ]\n",
      "    [0.        0.        2.3766603]]\n",
      "\n",
      "   [[2.686865  0.        0.       ]\n",
      "    [0.        2.686865  0.       ]\n",
      "    [0.        0.        2.2645257]]]\n",
      "\n",
      "\n",
      "  [[[2.5170903 0.        0.       ]\n",
      "    [0.        2.5170903 0.       ]\n",
      "    [0.        0.        2.4257004]]\n",
      "\n",
      "   [[2.7154164 0.        0.       ]\n",
      "    [0.        2.7154164 0.       ]\n",
      "    [0.        0.        2.2384589]]]]]\n"
     ]
    }
   ],
   "source": [
    "# Calculate epsilon_r\n",
    "epsilon_r = jnp.tile(epsilon_img, (10, 1, 1, 1, 1))\n",
    "\n",
    "print('shape of epsilon_r =', epsilon_r.shape)\n",
    "print('epsilon_r =\\n', epsilon_r)"
   ]
  },
  {
   "cell_type": "markdown",
   "id": "9da48fe0",
   "metadata": {},
   "source": [
    "As the result shows, the shape of `epsilon_r` is `(10, 2, 2, 3, 3)`. The shape indicates that there are ten `epsilon_img`s in the `epsilon_r` along $z$ direction, each `epsilon_ing` consists of two rows and two columns of tensors, and each tensor consists of three rows and three columns of values."
   ]
  },
  {
   "cell_type": "markdown",
   "id": "80350973",
   "metadata": {},
   "source": [
    "#### **Function 9: calc_scattering_potential**"
   ]
  },
  {
   "cell_type": "markdown",
   "id": "69143de5",
   "metadata": {},
   "source": [
    "*Source Code*"
   ]
  },
  {
   "cell_type": "code",
   "execution_count": null,
   "id": "b0809e6e",
   "metadata": {},
   "outputs": [],
   "source": [
    "def calc_scattering_potential(epsilon_r, refractive_index, wavelength):\n",
    "    \"\"\"\n",
    "    Create the scattering potential from the permittivity tensor.\n",
    "\n",
    "    Args:\n",
    "        epsilon_r (jnp.ndarray): The permittivity tensor of the material.\n",
    "        refractive_index (float): The refractive index of the background medium.\n",
    "        wavelength (float): The wavelength of the light (microns).\n",
    "\n",
    "    Returns:\n",
    "        jnp.ndarray: The scattering potential.\n",
    "    \"\"\"\n",
    "    k_0 = 2 * jnp.pi / wavelength\n",
    "    vol_shape = epsilon_r.shape[:3]\n",
    "    epsilon_m = jnp.tile(jnp.eye(3) * refractive_index**2, (*vol_shape, 1, 1))\n",
    "    scattering_potential = k_0**2 * (epsilon_m - epsilon_r)\n",
    "    return scattering_potential"
   ]
  },
  {
   "cell_type": "markdown",
   "id": "e84145f1",
   "metadata": {},
   "source": [
    "*Explanation*"
   ]
  },
  {
   "cell_type": "markdown",
   "id": "99a154ff",
   "metadata": {},
   "source": [
    "The function calculates the scattering potential from a given permittivity tensor (`epsilon_r`), refractive index, and wavelength:\n",
    "1. `epsilon_r` : The permittivity tensor of the material, which should be a 3D JAX array where each voxel contains a $3 \\times 3$ matrix.\n",
    "2. `refractive_index` : The refractive index of the medium.\n",
    "3. `wavelength` : The wavelength of the incident light, in microns.\n",
    "\n",
    "`k_0 = 2 * jnp.pi / wavelength` aims to calculate the wavenumber $k_0$ according to the equation:\n",
    "$$\n",
    "k_0 = \\frac{\\omega}{c} = \\frac{2 \\pi c}{\\lambda} \\cdot \\frac{1}{c} = \\frac{2 \\pi}{\\lambda}\\tag{2.1.18}\n",
    "$$\n",
    "In the physical science, the wavenumber, also known as repetency is the spatial frequency of a wave, measured in cycles per unit distance (ordinary wavenumber, $1/\\lambda$) or radians per unit distance (angular distance, $2 \\pi /\\lambda$).[@Wavenumber]\n",
    "\n",
    "The line `vol_shape = epsilon_r.shape[:3]` extracts the spatial dimensions of `epsilon_r`, which has the shape `(z, y, x, 3, 3)`, because we then need to create an array of background permittivity `epsilon_m`, with matching spatial dimensions, ensuring it has the same shape as volume represented by `epsilon_r`.\n",
    "\n",
    "`epsilon_r.shape` creates an array returns the shape of the `epsilon_r` array. `epsilon_r.shape[:3]` selects only the first three dimensions of the array shape, which is `z`, `y`, `x`. For example, if the `epsilon_r` has a shape `(4, 5, 6, 3, 3)`:"
   ]
  },
  {
   "cell_type": "code",
   "execution_count": null,
   "id": "0f724ae8",
   "metadata": {},
   "outputs": [
    {
     "name": "stdout",
     "output_type": "stream",
     "text": [
      "vol_shape = (4, 5, 6)\n"
     ]
    }
   ],
   "source": [
    "# Define a shape of the epsilon_r tensor.\n",
    "epsilon_r_shape = (4, 5, 6, 3, 3)\n",
    "\n",
    "#Extract the volume shape from the tensor\n",
    "vol_shape = epsilon_r_shape[:3]\n",
    "\n",
    "print('vol_shape =', vol_shape)"
   ]
  },
  {
   "cell_type": "markdown",
   "id": "75e2a66e",
   "metadata": {},
   "source": [
    "Similarly, we can select any dimensions from the shape:"
   ]
  },
  {
   "cell_type": "code",
   "execution_count": null,
   "id": "781ac578",
   "metadata": {},
   "outputs": [
    {
     "name": "stdout",
     "output_type": "stream",
     "text": [
      "permittivity_shape = (3, 3)\n",
      "middle_shape = (5, 6, 3)\n"
     ]
    }
   ],
   "source": [
    "# Select the last two dimensions of the shape.\n",
    "permittivity_shape = epsilon_r_shape[3:]\n",
    "print('permittivity_shape =', permittivity_shape)\n",
    "\n",
    "# Select the three dimensions in the middle of the shape.\n",
    "middle_shape = epsilon_r_shape[1:4]\n",
    "print('middle_shape =', middle_shape)"
   ]
  },
  {
   "cell_type": "markdown",
   "id": "e51ccdd0",
   "metadata": {},
   "source": [
    "The line `epsilon_m = jnp.tile(jnp.eye(3) * refractive_index**2, (*vol.shape, 1, 1))` create an array of background permittivity tensor using the function `jnp.tile()` in a volume of a given shape (`vol.shape`).\n",
    "\n",
    "`jnp.eye(3)` generates a 3 $\\times$ 3 identity matrix, which is then scaled by the square of the refractive index. This operation produces a diagonal matrix where each diagonal element is equal to `refractive_index**2`: "
   ]
  },
  {
   "cell_type": "code",
   "execution_count": null,
   "id": "89ba37ce",
   "metadata": {},
   "outputs": [
    {
     "name": "stdout",
     "output_type": "stream",
     "text": [
      "diag_matrix =\n",
      " [[1.7689 0.     0.    ]\n",
      " [0.     1.7689 0.    ]\n",
      " [0.     0.     1.7689]]\n"
     ]
    }
   ],
   "source": [
    "refractive_index = 1.33\n",
    "\n",
    "diag_matrix = jnp.eye(3) * refractive_index**2\n",
    "\n",
    "print('diag_matrix =\\n', diag_matrix)"
   ]
  },
  {
   "cell_type": "markdown",
   "id": "b487b49f",
   "metadata": {},
   "source": [
    "Next, `jnp.tile()` is employed to replicate the matrix throughout the volume defined by `vol_shape`, resulting in a tensor with the shape `(*vol_shape, 3, 3)`.\n",
    "\n",
    "In the end, the `scattering_potential` is calculated based on a slightly different definition:\n",
    "$$\n",
    "F(r) = k_0^2 (\\varepsilon_B - \\varepsilon_r) \\tag{2.1.19}\n",
    "$$\n"
   ]
  },
  {
   "cell_type": "markdown",
   "id": "ba87b19a",
   "metadata": {},
   "source": [
    "#### **Function 10: expand_potential_dims**"
   ]
  },
  {
   "cell_type": "markdown",
   "id": "0ae9b19f",
   "metadata": {},
   "source": [
    "*Source Code*"
   ]
  },
  {
   "cell_type": "code",
   "execution_count": null,
   "id": "98a5f567",
   "metadata": {},
   "outputs": [],
   "source": [
    "def expand_potential_dims(tensor):\n",
    "    potential = jnp.expand_dims(tensor, axis=(1, 4))\n",
    "    return potential"
   ]
  },
  {
   "cell_type": "markdown",
   "id": "f13808a2",
   "metadata": {},
   "source": [
    "*Explanation*"
   ]
  },
  {
   "cell_type": "markdown",
   "id": "846499b6",
   "metadata": {},
   "source": [
    "The code defines a function which expands the dimension of the input tensor using `jnp.expand_dims()`. This function inserts two additional dimensions into the input `tensor` at the positions specified by the `axis`.\n",
    "\n",
    "The expression `axis=(1, 4)` indicates that two new dimensions will be inserted at axis 1 (second position) and axis 4 (fifth position). For instance, consider the variable `phantom` in Function 2, which has the shape `(1, 2, 3, 3, 3)`. Let's insert two additional dimensions into it:"
   ]
  },
  {
   "cell_type": "code",
   "execution_count": null,
   "id": "795133e3",
   "metadata": {},
   "outputs": [
    {
     "name": "stdout",
     "output_type": "stream",
     "text": [
      "shape of the tensor = (1, 2, 3, 3, 3)\n",
      "shape of the potential = (1, 1, 2, 3, 1, 3, 3)\n"
     ]
    }
   ],
   "source": [
    "# Assign the phantom tensor to the variable `tensor`\n",
    "tensor = phantom\n",
    "print('shape of the tensor =', tensor.shape)\n",
    "\n",
    "# Expand the dimensions of the tensor\n",
    "potential = jnp.expand_dims(tensor, axis=(1, 4))\n",
    "print('shape of the potential =', potential.shape)"
   ]
  },
  {
   "cell_type": "markdown",
   "id": "b55640b7",
   "metadata": {},
   "source": [
    "It's clear that the function returns the modified tensor, which now has two singleton dimensions at the second and fifth position of the modified tensor."
   ]
  },
  {
   "cell_type": "markdown",
   "id": "ff3fda90",
   "metadata": {},
   "source": [
    "#### **Function 11: generate_dummy_potential**"
   ]
  },
  {
   "cell_type": "markdown",
   "id": "f7f38c97",
   "metadata": {},
   "source": [
    "*Source Code*"
   ]
  },
  {
   "cell_type": "code",
   "execution_count": null,
   "id": "632b603e",
   "metadata": {},
   "outputs": [],
   "source": [
    "def generate_dummy_potential(vol_shape):\n",
    "    potential = expand_potential_dims(jnp.ones((*vol_shape, 3, 3)))\n",
    "    return potential"
   ]
  },
  {
   "cell_type": "markdown",
   "id": "3de04fbf",
   "metadata": {},
   "source": [
    "*Explanation*"
   ]
  },
  {
   "cell_type": "markdown",
   "id": "dc009d0e",
   "metadata": {},
   "source": [
    "The function is employed to create a tensor filled with ones, having a shape based on the input `vol_shape`, and then expands its dimensions using the previously defined `expand_potential_dims` function.\n",
    "\n",
    "The input `vol_shape` should be a tuple defining the 3D dimensions. `3, 3` adds two additional dimensions for a 3 $\\times$ 3 matrix at each point in the volume. The function `jnp.ones()` generates a tensor filled with ones. Suppose `vol_shape = (1, 2, 3)`, then:"
   ]
  },
  {
   "cell_type": "code",
   "execution_count": null,
   "id": "e7b58b1c",
   "metadata": {},
   "outputs": [
    {
     "name": "stdout",
     "output_type": "stream",
     "text": [
      "shape of the potential = (1, 1, 2, 3, 1, 3, 3)\n",
      "potential =\n",
      " [[[[[[[1. 1. 1.]\n",
      "      [1. 1. 1.]\n",
      "      [1. 1. 1.]]]\n",
      "\n",
      "\n",
      "    [[[1. 1. 1.]\n",
      "      [1. 1. 1.]\n",
      "      [1. 1. 1.]]]\n",
      "\n",
      "\n",
      "    [[[1. 1. 1.]\n",
      "      [1. 1. 1.]\n",
      "      [1. 1. 1.]]]]\n",
      "\n",
      "\n",
      "\n",
      "   [[[[1. 1. 1.]\n",
      "      [1. 1. 1.]\n",
      "      [1. 1. 1.]]]\n",
      "\n",
      "\n",
      "    [[[1. 1. 1.]\n",
      "      [1. 1. 1.]\n",
      "      [1. 1. 1.]]]\n",
      "\n",
      "\n",
      "    [[[1. 1. 1.]\n",
      "      [1. 1. 1.]\n",
      "      [1. 1. 1.]]]]]]]\n"
     ]
    }
   ],
   "source": [
    "# Define the shape of the volume.\n",
    "vol_shape = (1, 2, 3)\n",
    "\n",
    "# Call the function to generate the dummy potential.\n",
    "potential = expand_potential_dims(jnp.ones((*vol_shape, 3, 3)))\n",
    "print('shape of the potential =', potential.shape)\n",
    "print('potential =\\n', potential)"
   ]
  },
  {
   "cell_type": "markdown",
   "id": "a4ab00fe",
   "metadata": {},
   "source": [
    "## **Package: functional**"
   ]
  },
  {
   "cell_type": "markdown",
   "id": "fcad1c06",
   "metadata": {},
   "source": [
    "This package is tightly connected to the Elements package. This package provides the building blocks (low-level functions) to construct elements (high-level components) in the Element package. Meanwhile, this package offers greater control and flexibility for custom configurations and possible improvements.\n",
    "\n",
    "These low-level functions are responsible for performing individual operations like computations and transformations for high-level components. The high-level components encapsulate certain low-level functions to become specific component like lenses, phase masks, and propagation mentioned in the last package. These components can have trainable attributes to make them possible for training and optimization in a neural network"
   ]
  },
  {
   "cell_type": "markdown",
   "id": "f12fddeb",
   "metadata": {},
   "source": [
    "### **Module 1: \\_\\_init\\_\\_**"
   ]
  },
  {
   "cell_type": "markdown",
   "id": "db9ac579",
   "metadata": {},
   "source": [
    "#### **Imports**"
   ]
  },
  {
   "cell_type": "markdown",
   "id": "bb8fb546",
   "metadata": {},
   "source": [
    "*Source Code*"
   ]
  },
  {
   "cell_type": "code",
   "execution_count": null,
   "id": "df94d028",
   "metadata": {},
   "outputs": [],
   "source": [
    "from .amplitude_masks import *\n",
    "from .convenience import optical_fft\n",
    "from .lenses import *\n",
    "from .phase_masks import *\n",
    "from .polarizers import *\n",
    "from .propagation import *\n",
    "from .pupils import *\n",
    "from .samples import *\n",
    "from .sensors import *\n",
    "from .sources import *"
   ]
  },
  {
   "cell_type": "markdown",
   "id": "6cc37952",
   "metadata": {},
   "source": [
    "*Explanation*"
   ]
  },
  {
   "cell_type": "markdown",
   "id": "2ce68143",
   "metadata": {},
   "source": [
    "The `__init__` is for package initialization, function aggregation and namespace management.\n",
    "\n",
    "This module tells Python that the directory should be treated as a package so that the modules and functions can be imported correctly. It also allows users to import this package simply by typing `import chromatix.functional` rather than import every function with corresponding commands. Besides, it simplifies imports by letting users can import functions without knowing the structure. For example, a user can directly import a function by typing: \n",
    "\n",
    "`from chromatix.functional import amplitude_change` \n",
    "\n",
    "instead of: \n",
    "\n",
    "`from chromatix.functional.amplitude_mask import amplitude_change`\n"
   ]
  },
  {
   "cell_type": "markdown",
   "id": "1016ef7a",
   "metadata": {},
   "source": [
    "### **Module 2: amplitude_masks**"
   ]
  },
  {
   "cell_type": "markdown",
   "id": "94ee7048",
   "metadata": {},
   "source": [
    "#### **Imports**"
   ]
  },
  {
   "cell_type": "markdown",
   "id": "6eae0dcb",
   "metadata": {},
   "source": [
    "*Source Code*"
   ]
  },
  {
   "cell_type": "code",
   "execution_count": null,
   "id": "5faa63b7",
   "metadata": {},
   "outputs": [],
   "source": [
    "import jax.numpy as jnp\n",
    "from chex import Array, assert_rank\n",
    "\n",
    "from ..field import Field\n",
    "from ..utils.shapes import _broadcast_2d_to_spatial\n",
    "\n",
    "__all__ = [\"amplitude_change\"]"
   ]
  },
  {
   "cell_type": "markdown",
   "id": "c7c6d25c",
   "metadata": {},
   "source": [
    "*Explanation*"
   ]
  },
  {
   "cell_type": "markdown",
   "id": "f2bc7501",
   "metadata": {},
   "source": [
    "`chex.Array` is kind of different from normal `Array`. `chex.Array` is designed to work within the JAX ecosystem, so, to create a `chex.Array`, it's better to use `jax.numpy` rather than `numpy`.\n",
    "\n",
    "`chex.assert_rank(array, rank)` ensures that an array has a specific rank (number of dimensions). If the `array`'s rank is not equal to `rank`, then an `AssertionError` will be returned:"
   ]
  },
  {
   "cell_type": "code",
   "execution_count": 40,
   "id": "324f5d13",
   "metadata": {},
   "outputs": [],
   "source": [
    "from chex import Array, assert_rank\n",
    "import jax.numpy as jnp\n",
    "\n",
    "an_array = jnp.array([[1, 2, 3], [4, 5, 6], [7, 8, 9]])\n",
    "\n",
    "assert_rank(an_array, 2)"
   ]
  },
  {
   "cell_type": "markdown",
   "id": "e7d0f6fb",
   "metadata": {},
   "source": [
    "`Field` is a container describing the chromatic light field at a 2D plane. It's defined as a class with four attributes which are `u` representing the complex field, `_dx` representing the spacing of the sample in `u` to discretizing a continuous field, `_spectrum` representing the wavelengths, and `_spectral_density` representing the weights of the wavelengths.\n",
    "\n",
    "The function `_broadcast_2d_to_spatial(x, ndim)` is used to broadcast the input 2D array `x` to an array with `ndim` dimensions. The additional dimensions are added as `1`s."
   ]
  },
  {
   "cell_type": "markdown",
   "id": "09c12561",
   "metadata": {},
   "source": [
    "#### **Function 1: amplitude_change**"
   ]
  },
  {
   "cell_type": "markdown",
   "id": "f79c8d76",
   "metadata": {},
   "source": [
    "*Source Code*"
   ]
  },
  {
   "cell_type": "code",
   "execution_count": 41,
   "id": "74600eae",
   "metadata": {},
   "outputs": [],
   "source": [
    "def amplitude_change(field: Field, amplitude: Array) -> Field:\n",
    "    \"\"\"\n",
    "    Perturbs ``field`` by ``amplitude``.\n",
    "\n",
    "    Returns a new ``Field`` with the result of the perturbation.\n",
    "\n",
    "    Args:\n",
    "        field: The complex field to be perturbed.\n",
    "        amplitude: The amplitude to apply.\n",
    "    \"\"\"\n",
    "    amplitude = _broadcast_2d_to_spatial(amplitude, field.ndim)\n",
    "    assert_rank(\n",
    "        amplitude,\n",
    "        field.ndim,\n",
    "        custom_message=\"Amplitude must have same ndim as incoming ``Field``.\",\n",
    "    )\n",
    "    return field * amplitude.astype(jnp.complex64)"
   ]
  },
  {
   "cell_type": "markdown",
   "id": "a96ec968",
   "metadata": {},
   "source": [
    "*Explanation*"
   ]
  },
  {
   "cell_type": "markdown",
   "id": "644ca51c",
   "metadata": {},
   "source": [
    "This function perturbs a `Field` object by a given `amplitude`. To perturb a `field` by a `amplitude`, you only need to multiply the `field` by the `amplitude` elements by elements. However, in Python, only when the two arrays have the same rank, the element-wise multiplication can be performed.\n",
    "\n",
    "A `field` has the shape of `(B... H W C [1 | 3])`, but a `amplitude`'s shape is `(H W)`. Therefore, they have different ranks, and the `amplitude` should be broadcast to the same rank as the `field` by calling the function `_broadcast_2d_to_spatial()`.\n",
    "\n",
    "Then, the function `assert_rank()` is called to make sure the broadcast `amplitude` has the same rank as the `field`. Finally, the perturbation is performed by multiplying `field` by the `amplitude`. `amplitude.astype(jnp.complex)` casts the `amplitude` array to a complex type `(jnp.complex64)` to match the type of `field`.\n",
    "\n",
    "Suppose we have a `field` and a `amplitude` like this:"
   ]
  },
  {
   "cell_type": "code",
   "execution_count": null,
   "id": "694b2c3a",
   "metadata": {},
   "outputs": [
    {
     "name": "stdout",
     "output_type": "stream",
     "text": [
      "The number of dimensions of the field = 5\n",
      "shape of field = (1, 3, 3, 1, 1)\n",
      "shape of amplitude = (3, 3)\n",
      "shape of broadcast_amp = (1, 3, 3, 1, 1)\n",
      "broadcast_amp of the type jnp.complex64 =\n",
      " [[[[[0.9+0.j]]\n",
      "\n",
      "   [[0.8+0.j]]\n",
      "\n",
      "   [[0.7+0.j]]]\n",
      "\n",
      "\n",
      "  [[[0.6+0.j]]\n",
      "\n",
      "   [[0.5+0.j]]\n",
      "\n",
      "   [[0.4+0.j]]]\n",
      "\n",
      "\n",
      "  [[[0.3+0.j]]\n",
      "\n",
      "   [[0.2+0.j]]\n",
      "\n",
      "   [[0.1+0.j]]]]]\n"
     ]
    }
   ],
   "source": [
    "from chromatix.utils import _broadcast_2d_to_spatial\n",
    "from chromatix.field import Field\n",
    "import jax.numpy as jnp\n",
    "\n",
    "# Create a 2D complex array (H, W)\n",
    "u_hw = jnp.array([[1 + 1j, 2 + 2j, 3 + 3j], \n",
    "                  [4 + 4j, 5 + 5j, 6 + 6j], \n",
    "                  [7 + 7j, 8 + 8j, 9 + 9j]])\n",
    "\n",
    "# Reshape to (1, H, W, 1, 1)\n",
    "u = u_hw[jnp.newaxis, :, :, jnp.newaxis, jnp.newaxis]\n",
    "\n",
    "field = Field(\n",
    "    u = u,\n",
    "    _dx = jnp.array([[0.01], [0.01]]),# Shape of _dx: (2, 1)\n",
    "    _spectrum = jnp.array([0.55]),\n",
    "    _spectral_density = jnp.array([1.0])\n",
    ")\n",
    "print(\"The number of dimensions of the field =\", field.ndim)\n",
    "print(\"shape of field =\", field.shape)\n",
    "\n",
    "# Define the amplitude\n",
    "amplitude = jnp.array([[0.9, 0.8, 0.7], [0.6, 0.5, 0.4], [0.3, 0.2, 0.1]])\n",
    "print(\"shape of amplitude =\", amplitude.shape)\n",
    "\n",
    "# Try _broadcast_2d_to_spatial\n",
    "broadcast_amp = _broadcast_2d_to_spatial(amplitude, field.ndim)\n",
    "print(\"shape of broadcast_amp =\", broadcast_amp.shape)\n",
    "print(\"broadcast_amp of the type jnp.complex64 =\\n\", broadcast_amp.astype(jnp.complex64))\n"
   ]
  },
  {
   "cell_type": "markdown",
   "id": "52502fe8",
   "metadata": {},
   "source": [
    "Then apply the `amplitude_mask` to the `field`:"
   ]
  },
  {
   "cell_type": "code",
   "execution_count": 42,
   "id": "3feab4ad",
   "metadata": {},
   "outputs": [
    {
     "name": "stdout",
     "output_type": "stream",
     "text": [
      "shape of the perturbed_field = (1, 3, 3, 1, 1)\n",
      "perturbed_field =\n",
      " Field(u=Array([[[[[0.9       +0.9j       ]],\n",
      "\n",
      "         [[1.6       +1.6j       ]],\n",
      "\n",
      "         [[2.1       +2.1j       ]]],\n",
      "\n",
      "\n",
      "        [[[2.4       +2.4j       ]],\n",
      "\n",
      "         [[2.5       +2.5j       ]],\n",
      "\n",
      "         [[2.4       +2.4j       ]]],\n",
      "\n",
      "\n",
      "        [[[2.1000001 +2.1000001j ]],\n",
      "\n",
      "         [[1.6       +1.6j       ]],\n",
      "\n",
      "         [[0.90000004+0.90000004j]]]]], dtype=complex64), _dx=Array([[0.01],\n",
      "       [0.01]], dtype=float32), _spectrum=Array([0.55], dtype=float32), _spectral_density=Array([1.], dtype=float32))\n"
     ]
    }
   ],
   "source": [
    "perturbed_field = amplitude_change(field, amplitude)\n",
    "print(\"shape of the perturbed_field =\", perturbed_field.shape)\n",
    "print(\"perturbed_field =\\n\", perturbed_field)"
   ]
  },
  {
   "cell_type": "markdown",
   "id": "f706c40f",
   "metadata": {},
   "source": [
    "`[2.1000001 +2.1000001j ]` and `[0.90000004+0.90000004j]` are due to floating-point precision limitations inherent in numerical computing, especially when working with 32-bit floats like `float32` and `complex64`.\n",
    "\n",
    "As the result shows, the `field` is perturbed. However, both the real part and the imaginary part of the field is modified which is wrong because only the real part represents the amplitude and the imaginary part represents the phase of the field."
   ]
  },
  {
   "cell_type": "markdown",
   "id": "ca97cabe",
   "metadata": {},
   "source": [
    "*Correction*"
   ]
  },
  {
   "cell_type": "markdown",
   "id": "63d77ad3",
   "metadata": {},
   "source": [
    "Since the original version of the `amplitude_change` perturbed both the amplitude and the phase of the field, it's necessary to do some revision:"
   ]
  },
  {
   "cell_type": "code",
   "execution_count": 43,
   "id": "f7ea2a9b",
   "metadata": {},
   "outputs": [],
   "source": [
    "def amplitude_change_revised(field: Field, amplitude: Array):\n",
    "    \"\"\"\n",
    "    Perturbs only the ``amplitude`` of the field with ``amplitude.\n",
    "\n",
    "    Returns a perturbed ``field`` with modified amplitude and original phase.\n",
    "\n",
    "    Args:\n",
    "        field: an object of the class ``Field`` with the complex ``field.u`` to be perturbed.\n",
    "        amplitude: An array representing the amplitude to apply\n",
    "    \"\"\"\n",
    "\n",
    "    # Broadcast the ``amplitude`` to the same rank as the ``field``\n",
    "    amplitude = _broadcast_2d_to_spatial(amplitude, field.ndim)\n",
    "    assert_rank(\n",
    "        amplitude,\n",
    "        field.ndim,\n",
    "        custom_message=\"Amplitude must have the same ndim as the input ``field``.\")\n",
    "    \n",
    "    # Extract the real part and imaginary part from the input ``field``\n",
    "    amp_field = jnp.real(field.u)\n",
    "    phase_field = jnp.imag(field.u)\n",
    "\n",
    "    # Compute the perturbed ``field``\n",
    "    perturbed_field = amp_field * amplitude + 1j * phase_field\n",
    "\n",
    "    return Field(\n",
    "        u = perturbed_field,\n",
    "        _dx = field._dx,\n",
    "        _spectrum = field._spectrum,\n",
    "        _spectral_density = field._spectral_density\n",
    "    )"
   ]
  },
  {
   "cell_type": "markdown",
   "id": "742338f0",
   "metadata": {},
   "source": [
    "Let's try this revised function:"
   ]
  },
  {
   "cell_type": "code",
   "execution_count": 44,
   "id": "553f24d4",
   "metadata": {},
   "outputs": [
    {
     "name": "stdout",
     "output_type": "stream",
     "text": [
      "field =\n",
      " Field(u=Array([[[[[1.+1.j]],\n",
      "\n",
      "         [[2.+2.j]],\n",
      "\n",
      "         [[3.+3.j]]],\n",
      "\n",
      "\n",
      "        [[[4.+4.j]],\n",
      "\n",
      "         [[5.+5.j]],\n",
      "\n",
      "         [[6.+6.j]]],\n",
      "\n",
      "\n",
      "        [[[7.+7.j]],\n",
      "\n",
      "         [[8.+8.j]],\n",
      "\n",
      "         [[9.+9.j]]]]], dtype=complex64), _dx=Array([[0.01],\n",
      "       [0.01]], dtype=float32), _spectrum=Array([0.55], dtype=float32), _spectral_density=Array([1.], dtype=float32))\n",
      "amplitude =\n",
      " [[0.9 0.8 0.7]\n",
      " [0.6 0.5 0.4]\n",
      " [0.3 0.2 0.1]]\n"
     ]
    }
   ],
   "source": [
    "print(\"field =\\n\", field)\n",
    "print(\"amplitude =\\n\", amplitude)"
   ]
  },
  {
   "cell_type": "code",
   "execution_count": 45,
   "id": "fbef61f9",
   "metadata": {},
   "outputs": [
    {
     "name": "stdout",
     "output_type": "stream",
     "text": [
      "perturbed_field =\n",
      " Field(u=Array([[[[[0.9       +1.j]],\n",
      "\n",
      "         [[1.6       +2.j]],\n",
      "\n",
      "         [[2.1       +3.j]]],\n",
      "\n",
      "\n",
      "        [[[2.4       +4.j]],\n",
      "\n",
      "         [[2.5       +5.j]],\n",
      "\n",
      "         [[2.4       +6.j]]],\n",
      "\n",
      "\n",
      "        [[[2.1000001 +7.j]],\n",
      "\n",
      "         [[1.6       +8.j]],\n",
      "\n",
      "         [[0.90000004+9.j]]]]], dtype=complex64), _dx=Array([[0.01],\n",
      "       [0.01]], dtype=float32), _spectrum=Array([0.55], dtype=float32), _spectral_density=Array([1.], dtype=float32))\n"
     ]
    }
   ],
   "source": [
    "perturbed_field = amplitude_change_revised(field, amplitude)\n",
    "print(\"perturbed_field =\\n\", perturbed_field)"
   ]
  },
  {
   "cell_type": "markdown",
   "id": "9791ca29",
   "metadata": {},
   "source": [
    "As the result shows, this revised function successfully perturbs the input `field`' amplitude. However, in the class `AmplitudeMask`, a `amplitude` is first binarized and then applied to perturb a `field`. In this case, `amplitude_change` and `amplitude_change_revised` will give two different results: "
   ]
  },
  {
   "cell_type": "code",
   "execution_count": 46,
   "id": "a39c5891",
   "metadata": {},
   "outputs": [
    {
     "name": "stdout",
     "output_type": "stream",
     "text": [
      "binarized amplitude =\n",
      " [[1. 1. 1.]\n",
      " [1. 0. 0.]\n",
      " [0. 0. 0.]]\n",
      "perturbed field using original function =\n",
      " Field(u=Array([[[[[1.+1.j]],\n",
      "\n",
      "         [[2.+2.j]],\n",
      "\n",
      "         [[3.+3.j]]],\n",
      "\n",
      "\n",
      "        [[[4.+4.j]],\n",
      "\n",
      "         [[0.+0.j]],\n",
      "\n",
      "         [[0.+0.j]]],\n",
      "\n",
      "\n",
      "        [[[0.+0.j]],\n",
      "\n",
      "         [[0.+0.j]],\n",
      "\n",
      "         [[0.+0.j]]]]], dtype=complex64), _dx=Array([[0.01],\n",
      "       [0.01]], dtype=float32), _spectrum=Array([0.55], dtype=float32), _spectral_density=Array([1.], dtype=float32))\n"
     ]
    }
   ],
   "source": [
    "from chromatix.ops import binarize\n",
    "\n",
    "binarized_amp = binarize(amplitude)\n",
    "print(\"binarized amplitude =\\n\", binarized_amp)\n",
    "\n",
    "perturbed_field1 = amplitude_change(field, binarized_amp)\n",
    "perturbed_field2 = amplitude_change_revised(field, binarized_amp)\n",
    "\n",
    "print(\"perturbed field using original function =\\n\", perturbed_field1)"
   ]
  },
  {
   "cell_type": "code",
   "execution_count": 54,
   "id": "f713ce95",
   "metadata": {},
   "outputs": [
    {
     "name": "stdout",
     "output_type": "stream",
     "text": [
      "perturbed field using revised function =\n",
      " Field(u=Array([[[[[1.+1.j]],\n",
      "\n",
      "         [[2.+2.j]],\n",
      "\n",
      "         [[3.+3.j]]],\n",
      "\n",
      "\n",
      "        [[[4.+4.j]],\n",
      "\n",
      "         [[0.+5.j]],\n",
      "\n",
      "         [[0.+6.j]]],\n",
      "\n",
      "\n",
      "        [[[0.+7.j]],\n",
      "\n",
      "         [[0.+8.j]],\n",
      "\n",
      "         [[0.+9.j]]]]], dtype=complex64), _dx=Array([0.01, 0.01], dtype=float32), _spectrum=Array([0.55], dtype=float32), _spectral_density=Array([1.], dtype=float32))\n"
     ]
    }
   ],
   "source": [
    "print(\"perturbed field using revised function =\\n\", perturbed_field2)"
   ]
  },
  {
   "cell_type": "markdown",
   "id": "b8c9e900",
   "metadata": {},
   "source": [
    "As the results show, the `phase` of the perturbed fields is different. Therefore, in the case that the binarized amplitude is applied and the phase matters, it's better to use the `amplitude_change`. If the amplitude is not binarized and the phase matters, then `amplitude_change_revised` would be better to use."
   ]
  },
  {
   "cell_type": "markdown",
   "id": "2b7a7698",
   "metadata": {},
   "source": [
    "### **Module 3: convenience**"
   ]
  },
  {
   "cell_type": "markdown",
   "id": "fc467bfd",
   "metadata": {},
   "source": [
    "#### **Imports**"
   ]
  },
  {
   "cell_type": "markdown",
   "id": "6dca7c25",
   "metadata": {},
   "source": [
    "*Source Code*"
   ]
  },
  {
   "cell_type": "code",
   "execution_count": 55,
   "id": "3f6e4265",
   "metadata": {},
   "outputs": [],
   "source": [
    "import jax.numpy as jnp\n",
    "\n",
    "from chromatix import Field\n",
    "from chromatix.utils import _squeeze_grid_to_2d\n",
    "from chromatix.utils.fft import fft"
   ]
  },
  {
   "cell_type": "markdown",
   "id": "34e5b0b9",
   "metadata": {},
   "source": [
    "*Explanation*"
   ]
  },
  {
   "cell_type": "markdown",
   "id": "fd5448dc",
   "metadata": {},
   "source": [
    "`_squeeze_grid_to_2d` is a function to take a higher-dimensional array like `(2 B... H W C [1 | 3])` to 2D array of shape `(2 C)` where `C` is the channel dimension. It's useful for vectorial ops on grids.\n",
    "\n",
    "`fft` function is defined to perform a 2D Fast Fourier Transform (FFT) on an input array. The Fourier Transform is a mathematical tool that decomposes a function into its constituent frequencies or spatial frequencies. In the context of wave propagation, FT transforms a function between spatial domain and frequency domain. In Photonics, the Fourier Transform is done by:\n",
    "\n",
    "$$ F(u, v) = \\int_{-\\infin}^{\\infin}f(x, y)e^{-i2\\pi (ux+vy)}dxdy \\tag{2.3.5} $$\n",
    "\n",
    "Where, $F(u, v)$ represents a field in spatial frequency domain and $f(x, y)$ represents a field in space domain. And also, there is inverse Fourier Transform:\n",
    "\n",
    "$$ f(x, y) = \\int_{-\\infin}^{\\infin}F(u, v)e^{i2\\pi (ux+vy)}dudv \\tag{2.3.5} $$\n",
    "\n",
    "A Fast Fourier Transform is an algorithm that computes the Discrete Fourier Transform. It reduces the computational complexity fron $O(N^2)$ to $O(NlogN)$, where N is the number of data points. In other words, FFT increases the efficiency of the computation. For example, there is 1D period function: $f(x \\pm L) = f(x)$. Let's discretize $x$ into a set of discrete points with period $L$ and step size $\\Delta x$:\n",
    "\n",
    "$$\\{x\\} = \\{0, \\Delta x, 2\\Delta x, ..., (N-1)\\Delta x\\} \\tag{2.3.3} $$\n",
    "\n",
    "In the spatial frequency domain, $u$ is discretized into a set of discrete frequencies:\n",
    "\n",
    "$$\\{u\\} = \\{ 0, 1\\cdot \\frac{1}{L}, 2 \\cdot \\frac{1}{L}, ..., [N-1]\\frac{1}{L} \\} \\tag{2.3.4} $$ \n",
    "\n",
    "For Fourier transform calculations, it's common to include the interval beyond the last sample. Thus, we have $\\frac{L}{\\Delta x} = N$, $u = p \\cdot \\Delta u = \\frac {p}{N\\Delta x} (0\\le n \\le N-1 )$, and $x = n\\cdot \\Delta x$. Then, by discretizing the integral, the Discrete (Fast) Fourier transform can be expressed as:\n",
    "\n",
    "$$ F(p\\Delta u) = \\sum_{n=0}^{N-1} e^{-i2\\pi \\frac{np}{N}}f(n\\Delta x)\\Delta x \\tag{2.3.5} $$\n",
    "\n",
    "And inverse Discrete (Fast) Fourier Transform:\n",
    "\n",
    "$$ f(n\\Delta x)= \\sum_{p=0}^{P-1} e^{i2\\pi \\frac{np}{N}} F(p\\Delta u)\\Delta u \\tag{2.3.6}$$\n",
    "\n",
    "This can be extended into 2D FFT and IFFT::\n",
    "\n",
    "$$ F(p\\Delta u, q\\Delta v) = \\Delta x\\Delta y\\sum_{n=0}^{N-1}\\sum_{m=0}^{M-1} e^{-i2\\pi (\\frac{np}{N}+\\frac{mq}{M})}f(n\\Delta x, m\\Delta y) \\tag{2.3.7} $$\n",
    "$$ f(n\\Delta x, m\\Delta y)= \\Delta u\\Delta v\\sum_{p=0}^{P-1}\\sum_{q=0}^{Q-1} e^{i2\\pi (\\frac{np}{N}+\\frac{mq}{M})} F(p\\Delta u, q\\Delta y) \\tag{2.3.8}$$"
   ]
  },
  {
   "cell_type": "markdown",
   "id": "6900240e",
   "metadata": {},
   "source": [
    "#### **Function 1: optical_fft**"
   ]
  },
  {
   "cell_type": "markdown",
   "id": "08546895",
   "metadata": {},
   "source": [
    "*Source Code*"
   ]
  },
  {
   "cell_type": "code",
   "execution_count": null,
   "id": "976234a4",
   "metadata": {},
   "outputs": [],
   "source": [
    "def optical_fft(field: Field, z: float, n: float) -> Field:\n",
    "    \"\"\"\n",
    "    Computes the optical ``fft`` or ``ifft`` on an incoming ``Field`` propagated\n",
    "    by ``z``, depending on the sign of ``z`` (which is a scalar value that may\n",
    "    be positive or negative). If ``z`` is positive an ``fft```will be performed,\n",
    "    otherwise an ``ifft`` (due to the ``1 / (lambda * z)`` term in the single\n",
    "    Fourier transform Fresnel propagation, which requires this behavior).\n",
    "    The ``ifft`` is calculated in terms of the conjugate of the ``fft`` with\n",
    "    appropriate normalization applied so that propagating forwards and then\n",
    "    backwards yields the same ``Field`` up to numerical precision. This function\n",
    "    also appropriately changes the sampling of the ``Field`` that is output\n",
    "    (after propagating to some distance ``z``).\n",
    "    Args:\n",
    "        field: The ``Field`` to be propagated by ``fft``.\n",
    "        z: The distance the ``Field`` will be propagated.\n",
    "        n: Refractive index of the propagation medium.\n",
    "    Returns:\n",
    "        The propagated ``Field``, transformed by ``fft``/``ifft``.\n",
    "    \"\"\"\n",
    "    L_sq = field.spectrum * z / n\n",
    "    du = field.dk * jnp.abs(L_sq)\n",
    "    # Forward transform normalization for z >= 0\n",
    "    norm_fft = (z >= 0) * -1j * jnp.prod(field.dx, axis=0, keepdims=False) / L_sq\n",
    "    # Inverse transform normalization for z < 0\n",
    "    norm_ifft = (\n",
    "        (z < 0)\n",
    "        * -1j  # Sign change because we take the conjugate of the input\n",
    "        * (L_sq / jnp.prod(du, axis=0, keepdims=False))  # Inverse length scale\n",
    "        / jnp.prod(\n",
    "            jnp.array(field.shape)  # Due to a different norm factor for fft and ifft\n",
    "        )\n",
    "    )\n",
    "    # Inverse transform input needs to use the conjugate\n",
    "    fft_input = (norm_fft * field.u) + (norm_ifft * field.conj.u)\n",
    "    fft_output = fft(fft_input, axes=field.spatial_dims, shift=True)\n",
    "    u = (z >= 0) * fft_output + (z < 0) * jnp.conj(fft_output)\n",
    "    return field.replace(u=u, _dx=_squeeze_grid_to_2d(du, field.ndim))"
   ]
  },
  {
   "cell_type": "markdown",
   "id": "c7e95238",
   "metadata": {},
   "source": [
    "*Explanation*"
   ]
  },
  {
   "cell_type": "markdown",
   "id": "316121bc",
   "metadata": {},
   "source": [
    "1. Fresnel Propagation\n",
    "\n",
    "This `optical_fft` function performs a Fresnel propagation on a Field object using a Fast Fourier Transform (FFT) or Inverse Fast Fourier Transform (IFFT) depending on the propagation direction.\n",
    "\n",
    "Suppose there is a field at $z=0$, now, we want to calculate the field which has been propagated by a distance $z$ as the figure below shows:\n",
    "\n",
    "<img src=\"Figures\\Diffraction_geometry.jpg\" alt=\"Neuron\" width=\"30%\" style=\"display: block; margin: 0 auto;\">\n",
    "\n",
    "Under the Fresnel approximation, the field after the propagation of a distance $z$ is given by the convolution of the initial field $u_0(x', y', 0)$ and the response function:\n",
    "\n",
    "$$ h_F(x, y; z) = -\\frac{ike^{ikz}}{2\\pi z} \\exp\\frac{ik}{2z}(x^2 + y^2) = \\frac{e^{ikz}}{i\\lambda z} \\exp[\\frac{i\\pi}{\\lambda z}(x^2 + y^2)] \\tag{2.3.9} $$\n",
    "\n",
    "By doing the convolution, the propagated field $u_F(x, y, z)$ can be expressed as:\n",
    "\n",
    "$$u_F(x, y, z) = \\frac{e^{ikz}}{i\\lambda z} \\iint_{-\\infty}^{\\infty} u_0(x', y', 0) \\exp\\lbrace \\frac{i\\pi}{\\lambda z} \\left[ (x - x')^2 + (y - y')^2 \\right] \\rbrace \\, dx' \\, dy' \\tag{2.3.10} $$\n",
    "\n",
    "Then, we can get rid of the parentheses:\n",
    "\n",
    "$$ (x - x')^2 + (y - y')^2 = x^2 + y^2 -2(xx' + yy') + x'^2 + y'^2 \\tag{2.3.11} $$\n",
    "\n",
    "in which, $x^2+y^2$ can be moved out of the integral, thus we will get:\n",
    "\n",
    "$$u_F(x, y, z) = \\frac{e^{ikz}}{i\\lambda z} e^{\\frac{i\\pi}{\\lambda z}(x^2 + y^2)} \\iint_{-\\infty}^{\\infty} u_0(x', y', 0) e^{\\frac{i \\pi}{\\lambda z} (x'^2 + y'^2)} e^{-i 2\\pi \\left( \\frac{x}{\\lambda z} x' + \\frac{y}{\\lambda z} y' \\right)} \\, dx' \\, dy' \\tag{2.3.12} $$\n",
    "\n",
    "The terms $e^{\\frac{i\\pi}{\\lambda z}(x^2 + y^2)}$ and $e^{\\frac{i \\pi}{\\lambda z} (x'^2 + y'^2)}$ can be interpreted as the quadratic phase factor at the output plane and the input plane.\n",
    "\n",
    "Now, by regarding $ \\frac{x}{\\lambda z}$ and $ \\frac{y}{\\lambda z}$ as $f_x$ and $f_y$, we will have: \n",
    "\n",
    "$$u_F(x, y, z) = \\frac{e^{ikz}}{i \\lambda z} e^{\\frac{i \\pi}{\\lambda z} (x^2 + y^2)} \\mathcal{F} \\left\\{ u_0(x', y', 0) e^{\\frac{i \\pi}{\\lambda z} (x'^2 + y'^2)} \\right\\} \\bigg|_{f_x = \\frac{x}{\\lambda z}, \\; f_y = \\frac{y}{\\lambda z}} \\tag{2.3.13} $$\n",
    "\n",
    "This Fresnel integral describes free space propagation, which means that the refractive index $n_{eff}=1$. If the propagation happens in a medium, the wavelength $\\lambda$ should become $\\lambda/n_{eff}$, since the speed of light in the medium is $v=c/n_{eff}$. Therefore, a more general fresnel integral should be:\n",
    "\n",
    "$$u_F(x, y, z) = \\frac{n_{eff}e^{ikz}}{i \\lambda z} e^{\\frac{i \\pi n_{eff}}{\\lambda z} (x^2 + y^2)} \\mathcal{F} \\left\\{ u_0(x', y', 0) e^{\\frac{i \\pi n_{eff}}{\\lambda z} (x'^2 + y'^2)} \\right\\} \\bigg|_{f_x = \\frac{n_{eff}x}{\\lambda z}, \\; f_y = \\frac{n_{eff}y}{\\lambda z}} \\tag{2.3.14} $$\n",
    "\n",
    "Where $e^{ikz}$ represents the propagation phase factor over a distance $z$, the term $\\frac{1}{i \\lambda z}$ represents the scaling factor due to the propagation distance. Most importantly, $f_x = \\frac{n_{eff}x}{\\lambda z}$ and $f_y = \\frac{n_{eff}y}{\\lambda z}$ represents the spatial frequency coordinates in the Fourier transform and from this we can derive the spatial coordinates of the field $u_F$ as $x=\\frac{f_x\\lambda z}{n_{eff}}$ and $y=\\frac{f_y\\lambda z}{n_{eff}}$ which means the spatial coordinates is scaled with the distance $z$.\n",
    "\n",
    "In the FFT algorithm, taking only the $x$ coordinate as an example, if the spatial coordinates of the initial field is:\n",
    "\n",
    "$$\\{x'\\} = \\{0, \\Delta x', 2\\Delta x', ..., (N-1)\\Delta x'\\} \\tag{2.3.15} $$\n",
    "\n",
    "Including the interval beyond the last sample, we have $N$ samples with the total length of $N\\Delta x'$ in this case. Then in the spatial frequency domain:\n",
    "\n",
    "$$\\{f_x\\} = \\{0, \\frac{1}{N\\Delta x'}, \\frac{2}{N\\Delta x'}, ..., \\frac{N-1}{N\\Delta x'}\\} \\tag{2.3.16} $$\n",
    "\n",
    "Now, according to $x=\\frac{f_x\\lambda z}{n_{eff}}$, we can get the $x$ coordinates of the field $u_F$:\n",
    "\n",
    "$$\\{x\\} = \\{0, \\frac{\\lambda z}{n_{eff}N\\Delta x'}, \\frac{2\\lambda z}{n_{eff}N\\Delta x'}, ..., \\frac{(N-1)\\lambda z}{n_{eff}N\\Delta x'} \\} \\tag{2.3.17} $$\n",
    "\n",
    "And the interval becomes:\n",
    "\n",
    "$$\\Delta x = \\frac{\\lambda z}{n_{eff}N\\Delta x'} \\tag{2.3.18} $$\n",
    "\n",
    "Look back into the source code. `field.spectrum` returns the wavelengths sampled by the complex field, so `L_sp` is the factor $\\frac{\\lambda z}{n_{eff}}$, `field.dk` returns the spatial frequency domain sampling interval, which is mathematically $\\frac{1}{N\\Delta x'}$, and `du` is thus the new spatial sampling interval at the propagated field, namely the $\\Delta x$.\n",
    "\n",
    "Rather than directly calculating the new spatial coordinates, the code calculates the spatial sampling interval at the propagated field, because the samples are discrete on grids and frequencies are implicitly determined by the sampling intervals and the number of data points, and most importantly, scaling frequencies directly is not straightforward and would require resampling or interpolating the frequency bins, which can introduce errors and is inefficient.\n",
    "\n",
    "1. Transform Normalization\n",
    "\n",
    "Next, depending on the direction of $z$, the code calculates the forward transform normalization `norm_fft` and the inverse transform normalization `norm_ifft`.\n",
    "\n",
    "`(z >= 0)` is a boolean expression that evaluates to `True`(1), when $z\\geqslant 0$. `1j` is the imaginary unit. The `jnp.prod()` function calculates the product of array elements over a specified axis. For Example:"
   ]
  },
  {
   "cell_type": "code",
   "execution_count": 53,
   "id": "51c297c4",
   "metadata": {},
   "outputs": [
    {
     "name": "stdout",
     "output_type": "stream",
     "text": [
      "Shape of the complex field = (1, 10, 10, 1, 1)\n",
      "Spatial sampling intervals dx =\n",
      " [[[[[[0.01]]]]]\n",
      "\n",
      "\n",
      "\n",
      "\n",
      " [[[[[0.01]]]]]]\n",
      "Product of the spatial sampling intervals = [[[[[0.0001]]]]]\n"
     ]
    }
   ],
   "source": [
    "from chromatix.field import Field\n",
    "import jax.numpy as jnp\n",
    "import jax.random as jran\n",
    "\n",
    "# Create random keys\n",
    "key1 = jran.PRNGKey(10)\n",
    "key2 = jran.PRNGKey(20)\n",
    "\n",
    "# Create random complex field with shape (10, 10)\n",
    "u_amp = jran.uniform(key1, shape=(10, 10))\n",
    "u_phase = jran.uniform(key2, shape=(10, 10))\n",
    "u = u_amp + 1j * u_phase\n",
    "u = u.reshape(1, 10, 10, 1, 1)\n",
    "\n",
    "# Create a Field object\n",
    "field = Field(\n",
    "    u = u,\n",
    "    _dx = jnp.array([[0.01], [0.01]]), # Shape of _dx: (2, 1), 2 rows and 1 column\n",
    "    _spectrum = jnp.array([0.55]),\n",
    "    _spectral_density = jnp.array([1.0]),\n",
    ")\n",
    "\n",
    "print(\"Shape of the complex field =\", field.u.shape)\n",
    "\n",
    "print(\"Spatial sampling intervals dx =\\n\", field.dx)\n",
    "\n",
    "prod_dx = jnp.prod(field.dx, axis=0, keepdims=False)\n",
    "print(\"Product of the spatial sampling intervals =\", prod_dx)\n"
   ]
  },
  {
   "cell_type": "markdown",
   "id": "86da8f34",
   "metadata": {},
   "source": [
    "`Field.dx` is the spacing of the samples in `u` discretizing a continuous field, it's defined as an array of shape `(2 1... 1 1 C 1)`. Thus, the function `jnp.prod()` calculates $\\Delta x' \\cdot \\Delta y'$, which means the area of a single pixel. Therefore, the `norm_fft` is mathematically:\n",
    "\n",
    "$$ \\text{norm\\_ fft} = \\frac{-i\\Delta x \\Delta y}{\\lambda z} = \\frac{\\Delta x \\Delta y}{i\\lambda z} \\tag{2.3.19} $$\n",
    "\n",
    "It's easy to notice that the `norm_fft` is the product of the FFT's coefficient and the Fresnel propagation coefficient ignoring the exponential terms.\n",
    "\n",
    "In terms of the `norm_ifft`, it's computed in a similar way to `norm_fft`. `(z < 0)` has the same logic with the `(z >= 0)` mentioned before, ensuring that the `norm_ifft` is applied only in the case of backward propagation. Since the code only uses the forward FFT for both forward and inverse transforms (`fft_output = fft(fft_input, axes=field.spatial_dims, shift=True`), it's needed to take the conjugate of the forward FFT input and output to simulate the inverse FFT:\n",
    "\n",
    "$$ \\mathcal{F^{-1}}(f) = \\frac{1}{N}(\\mathcal{F}(f^*))^* \\tag{2.3.20} $$\n",
    "\n",
    "Where $N$ is the total number of samples. The conjugate operation flips the sign of the imaginary part, so, to adjust the phase accordingly, the code multiply `(z < 0)` with `-1j` instead of `1j`. Then for recovering the sampling interval, `du`, which is `\\Delta x` mentioned in 2.3.18, divides the factor `L_sq` and is divide by the total number of samples $N$ (`jnp.prod(jnp.array(field.shape))`) resulting in $\\Delta x'$.\n",
    "\n",
    "3. Applying FFT\n",
    "\n",
    "Finally, the function `fft` is called to perform the FFT on the product of the input field and the normalization term to figure out the propagated field. \n",
    "\n",
    "By the way, all the exponential term $e^{ikz}$, $\\exp{[\\frac{i \\pi n_{eff}}{\\lambda z} (x^2 + y^2)]}$, and $\\exp{[\\frac{-i \\pi n_{eff}}{\\lambda z} (x'^2 + y'^2)]}$ inside the Fourier Transform are ignored, this is because that ordinarily, we only care about the intensity distribution of a field. When calculating the intensity distribution, these three terms won't change the distribution of the intensities.\n",
    "\n",
    "Therefore, this function only applies a simplified version of Fresnel propagation:\n",
    "\n",
    "$$u_F(x, y, z) = \\mathcal{F} \\left\\{ \\frac{n_{eff}}{i \\lambda z} u_0(x', y', 0)\\right\\} \\bigg|_{f_x = \\frac{n_{eff}x}{\\lambda z}, \\; f_y = \\frac{n_{eff}y}{\\lambda z}} \\tag{2.3.21} $$\n",
    "\n",
    "The function `field.replace()` is inherited from the class `Field`'s parent class `struct`. `field.replace(u=u, _dx=_squeeze_grid_to_2d(du, field.ndim))` creates a new `Field` object with the updated `u` attribute and the new `_dx` squeezed into 2D. \n",
    "\n",
    "4. Limitation of Fresnel Propagation\n",
    "\n",
    "The Fresnel propagation formula (2.3.13 and 2.3.14) are derived under Fresnel (paraxial) approximation which can be applied when the wavelength of the field is many orders of magnitude smaller than the relevant physical dimensions like the distance of the propagation ($\\lambda << z$). To determine whether the Fresnel propagation should be applied, Fresnel number is very useful:\n",
    "\n",
    "$$ N_F = \\frac{a^2}{\\lambda z} \\tag{2.3.22} $$\n",
    "\n",
    "Where a is for example radius of the field if the field has a circular shape, and $z$ is the distance of propagation. The Fresnel approximation works well when $N_F \\approx 1$ "
   ]
  },
  {
   "cell_type": "markdown",
   "id": "1a765d6a",
   "metadata": {},
   "source": [
    "### **Module 4: lenses**"
   ]
  },
  {
   "cell_type": "markdown",
   "id": "92096844",
   "metadata": {},
   "source": [
    "#### **Imports**"
   ]
  },
  {
   "cell_type": "markdown",
   "id": "94df83bf",
   "metadata": {},
   "source": [
    "*Source Code*"
   ]
  },
  {
   "cell_type": "code",
   "execution_count": null,
   "id": "307e04f5",
   "metadata": {},
   "outputs": [],
   "source": [
    "from typing import Optional\n",
    "\n",
    "import jax.numpy as jnp\n",
    "\n",
    "from chromatix.functional.convenience import optical_fft\n",
    "\n",
    "from ..field import Field\n",
    "from ..utils import l2_sq_norm\n",
    "from .pupils import circular_pupil"
   ]
  },
  {
   "cell_type": "markdown",
   "id": "4ab9c1f9",
   "metadata": {},
   "source": [
    "*Explanation*"
   ]
  },
  {
   "cell_type": "markdown",
   "id": "ffe41854",
   "metadata": {},
   "source": [
    "The function `l2_sq_norm` returns the sums of squares of the elements in an input array along a certain axis, like $x^2 + y^2 + z^2...$. For exapmle:"
   ]
  },
  {
   "cell_type": "code",
   "execution_count": 13,
   "id": "b8dd7a2d",
   "metadata": {},
   "outputs": [
    {
     "name": "stdout",
     "output_type": "stream",
     "text": [
      "a =   [[1 2 3]\n",
      " [4 5 6]\n",
      " [7 8 9]]\n",
      "L2 squared norm along axis 0 = [ 66  93 126]\n",
      "L2 squared norm along axis 1 = [ 14  77 194]\n"
     ]
    }
   ],
   "source": [
    "from chromatix.utils import l2_sq_norm\n",
    "import numpy as np\n",
    "\n",
    "a = np.array([[1, 2, 3],\n",
    "             [4, 5, 6],\n",
    "             [7, 8, 9]])\n",
    "print(\"a =  \", a)\n",
    "sq_a0 = l2_sq_norm(a, axis=0)\n",
    "sq_a1 = l2_sq_norm(a, axis=1)\n",
    "\n",
    "print(\"L2 squared norm along axis 0 =\", sq_a0)\n",
    "print(\"L2 squared norm along axis 1 =\", sq_a1)"
   ]
  },
  {
   "cell_type": "markdown",
   "id": "c33dd6e0",
   "metadata": {},
   "source": [
    "In Python, axis 0 means the \"row\" axis, Specifying `axis=0` means that the operation will be applied down the rows, effectively working column-wise. `axis=1` means working row-wise.\n",
    "\n",
    "`circular_pupil` applies a circular mask with a radius $w$ as an input to a field by element-wise multiplication. The regions outside the circular mask are zeroed out leaving only the values within the circle."
   ]
  },
  {
   "cell_type": "markdown",
   "id": "14ad7a36",
   "metadata": {},
   "source": [
    "#### **Function 1: thin_lens**"
   ]
  },
  {
   "cell_type": "markdown",
   "id": "1e4b8422",
   "metadata": {},
   "source": [
    "*Source Code*"
   ]
  },
  {
   "cell_type": "code",
   "execution_count": null,
   "id": "7aadbd27",
   "metadata": {},
   "outputs": [],
   "source": [
    "def thin_lens(field: Field, f: float, n: float, NA: Optional[float] = None) -> Field:\n",
    "    \"\"\"\n",
    "    Applies a thin lens placed directly after the incoming ``Field``.\n",
    "\n",
    "    Args:\n",
    "        field: The ``Field`` to which the lens will be applied.\n",
    "        f: Focal length of the lens.\n",
    "        n: Refractive index of the lens.\n",
    "        NA: If provided, the NA of the lens. By default, no pupil is applied\n",
    "            to the incoming ``Field``.\n",
    "\n",
    "    Returns:\n",
    "        The ``Field`` directly after the lens.\n",
    "    \"\"\"\n",
    "    L = jnp.sqrt(field.spectrum * f / n)\n",
    "    phase = -jnp.pi * l2_sq_norm(field.grid) / L**2\n",
    "\n",
    "    if NA is not None:\n",
    "        D = 2 * f * NA / n  # Expression for NA yields width of pupil\n",
    "        field = circular_pupil(field, D)\n",
    "\n",
    "    return field * jnp.exp(1j * phase)"
   ]
  },
  {
   "cell_type": "markdown",
   "id": "8593aeb0",
   "metadata": {},
   "source": [
    "*Explanation*"
   ]
  },
  {
   "cell_type": "markdown",
   "id": "2981816a",
   "metadata": {},
   "source": [
    "This function is to calculate the field after passing a thin lens. In optics, a thin lens has a negligible thickness compared to the radius curvature of the surface, thus, the optical effects due to the thickness of lens can be ignored. In physical optics, by definition, a thin lens transforms a spherical wave into a plane wave. Under paraxial approximation, the response function that transform a spherical wave into a plane wave is:\n",
    "\n",
    "$$ t_L(x, y)=\\exp[-i\\frac{n_{eff}\\pi}{\\lambda f}(x^2+y^2)] \\tag{2.3.23} $$\n",
    "\n",
    "Suppose there is a field $u_-(x, y)$, after it passes through the thin lens, it becomes:\n",
    "\n",
    "$$ u_+(x, y) = u_-(x, y)\\exp[-i\\frac{n_{eff}\\pi}{\\lambda f}(x^2+y^2)] \\tag{2.3.24} $$\n",
    "\n",
    "Where $n_{eff}$ is the refractive index, and $f$ is the focal length of the thin lens. The equation above also means that the thin lens adds a phase to the incoming field.\n",
    "\n",
    "This function takes four arguments, in which, `field` represents a field that is going to pass a thin lens, `n` as well as `f` are used to define the thin lens, and `NA` is short for numerical aperture which is a pupil if provided.\n",
    "\n",
    "`field.spectrum` returns the wavelength of the field, so `L` is equal to $\\sqrt{\\lambda f/n_{eff} }$. `field.grid` returns $x$ and $y$ grid respectively. This grid assumes that the center of the field is the origin and that the elements are sampling from the center:"
   ]
  },
  {
   "cell_type": "code",
   "execution_count": 15,
   "id": "4ef8ddf9",
   "metadata": {},
   "outputs": [
    {
     "name": "stdout",
     "output_type": "stream",
     "text": [
      "The wavelength of the field [[[[[0.55]]]]]\n",
      "The shape of the grid= (2, 1, 5, 5, 1, 1)\n",
      "The squeezed grid of the field =\n",
      " [[[-0.25 -0.25 -0.25 -0.25 -0.25]\n",
      "  [-0.15 -0.15 -0.15 -0.15 -0.15]\n",
      "  [-0.05 -0.05 -0.05 -0.05 -0.05]\n",
      "  [ 0.05  0.05  0.05  0.05  0.05]\n",
      "  [ 0.15  0.15  0.15  0.15  0.15]]\n",
      "\n",
      " [[-0.25 -0.15 -0.05  0.05  0.15]\n",
      "  [-0.25 -0.15 -0.05  0.05  0.15]\n",
      "  [-0.25 -0.15 -0.05  0.05  0.15]\n",
      "  [-0.25 -0.15 -0.05  0.05  0.15]\n",
      "  [-0.25 -0.15 -0.05  0.05  0.15]]]\n"
     ]
    }
   ],
   "source": [
    "from chromatix.field import Field\n",
    "import jax.numpy as jnp\n",
    "import jax.random as jran\n",
    "\n",
    "key = jran.PRNGKey(10)\n",
    "u = jran.uniform(key, shape=(1, 5, 5, 1, 1))\n",
    "\n",
    "field = Field(\n",
    "    u=u,\n",
    "    _dx=jnp.array([[0.1], [0.1]]),\n",
    "    _spectrum=jnp.array([0.55]),\n",
    "    _spectral_density=jnp.array([1.0])\n",
    ")\n",
    "\n",
    "print(\"The wavelength of the field\", field.spectrum)\n",
    "\n",
    "print(\"The shape of the grid=\", field.grid.shape)\n",
    "# For better display, the grid of the field is squeezed\n",
    "print(\"The squeezed grid of the field =\\n\", field.grid.squeeze())"
   ]
  },
  {
   "cell_type": "markdown",
   "id": "1b4f22c0",
   "metadata": {},
   "source": [
    "The first array is the $y$ grid, each row has the same $y$ value. The second array is the $x$ grid, each column has the same $x$ value.\n",
    "\n",
    "`l2_sq_norm(field.grid)` compute the $x[i,j]^2+y[i,j]^2$ at each point on the fields grid representing the distance from the center:"
   ]
  },
  {
   "cell_type": "code",
   "execution_count": null,
   "id": "b46043db",
   "metadata": {},
   "outputs": [
    {
     "name": "stdout",
     "output_type": "stream",
     "text": [
      "The distances =\n",
      " [[0.125 0.085 0.065 0.065 0.085]\n",
      " [0.085 0.045 0.025 0.025 0.045]\n",
      " [0.065 0.025 0.005 0.005 0.025]\n",
      " [0.065 0.025 0.005 0.005 0.025]\n",
      " [0.085 0.045 0.025 0.025 0.045]]\n"
     ]
    }
   ],
   "source": [
    "from chromatix.utils import l2_sq_norm\n",
    "\n",
    "# axis=0 by default, the calculation is applie along batches\n",
    "distances = l2_sq_norm(field.grid.squeeze())\n",
    "print(\"The distances =\\n\", distances)"
   ]
  },
  {
   "cell_type": "markdown",
   "id": "32e07b80",
   "metadata": {},
   "source": [
    "As a result, together with `jnp.pi` and `L**2`, the phase shift as each point is figured out:\n",
    "\n",
    "$$ \\text{phase} = -\\frac{\\pi}{L^2}(x[i, j]^2 + y[i, j]^2) \\tag{2.3.25} $$\n",
    "\n",
    "If `NA` is provided, the diameter `D` of the pupil will be calculated from the `NA`:\n",
    "\n",
    "$$ NA = n_{eff}sin(\\theta) = n_{eff}\\frac{D}{2f} \\tag{2.3.26} $$\n",
    "\n",
    "By calling the function `circular_pupil()`, any values outside this pupil will be set as zero. Finally, this function returns a field with shifted phase."
   ]
  },
  {
   "cell_type": "markdown",
   "id": "5914d441",
   "metadata": {},
   "source": [
    "#### **Function 2: ff_lens**"
   ]
  },
  {
   "cell_type": "markdown",
   "id": "f107b785",
   "metadata": {},
   "source": [
    "*Source Code*"
   ]
  },
  {
   "cell_type": "code",
   "execution_count": null,
   "id": "a27a0d7c",
   "metadata": {},
   "outputs": [],
   "source": [
    "def ff_lens(\n",
    "    field: Field,\n",
    "    f: float,\n",
    "    n: float,\n",
    "    NA: Optional[float] = None,\n",
    "    inverse: bool = False,\n",
    ") -> Field:\n",
    "    \"\"\"\n",
    "    Applies a thin lens placed a distance ``f`` after the incoming ``Field``.\n",
    "\n",
    "    Args:\n",
    "        field: The ``Field`` to which the lens will be applied.\n",
    "        f: Focal length of the lens.\n",
    "        n: Refractive index of the lens.\n",
    "        NA: If provided, the NA of the lens. By default, no pupil is applied\n",
    "            to the incoming ``Field``.\n",
    "\n",
    "    Returns:\n",
    "        The ``Field`` propagated a distance ``f`` after the lens.\n",
    "    \"\"\"\n",
    "    # Pupil\n",
    "    if NA is not None:\n",
    "        D = 2 * f * NA / n  # Expression for NA yields width of pupil\n",
    "        field = circular_pupil(field, D)\n",
    "    if inverse:\n",
    "        # if inverse, propagate over negative distance\n",
    "        f = -f\n",
    "    return optical_fft(field, f, n)"
   ]
  },
  {
   "cell_type": "markdown",
   "id": "0f5a5a82",
   "metadata": {},
   "source": [
    "*Explanation*"
   ]
  },
  {
   "cell_type": "markdown",
   "id": "247db086",
   "metadata": {},
   "source": [
    "The function takes `field`, `f`, `n` and `NA` as arguments, these arguments works as the same as their counterparts in the `thin_lens` function. An additional argument `inverse` is a boolean which determines the direction of propagation. This Finally it returns the field at the focal plane.\n",
    "\n",
    "This function simulates a situation where a field propagates a distance $f$ to a thin lens, then it passes through the thin lens and then propagates another distance $f$ to the focal plane of the lens. This is a typical $2f$ setup:\n",
    "\n",
    "<img src=\"Figures\\2f-setup.jpg\" alt=\"Neuron\" width=\"30%\" style=\"display: block; margin: 0 auto;\">\n",
    "\n",
    "To figure out the field $u(x,y,2f)$, we can directly apply the following formula[@FoMO_Script]:\n",
    "\n",
    "$$ u(x, y, 2f)=\\frac{n_{eff}}{i\\lambda f}exp(2ikf)U_0(f_x, f_y) \\bigg|_{f_x = \\frac{n_{eff}x}{\\lambda f}, \\; f_y = \\frac{n_{eff}y}{\\lambda f}} \\tag{2.3.27} $$\n",
    "\n",
    "where $U_0$ is the Fourier transform of the initial field $u_0$, $f$ is the focal length of the thin lens, $n_{eff}$ is the refractive index, and $k=2\\pi/\\lambda$ is the wavenumber.\n",
    "\n",
    "With the help of the formula, the code becomee simple. It uses two if-clause to determine whether add a pupil and the direction of the propagation. Then it calls the function `optical_fft()` to do Fourier transform to work out the field at the focal plane."
   ]
  },
  {
   "cell_type": "markdown",
   "id": "519fba9b",
   "metadata": {},
   "source": [
    "#### **Function 3: df_lens**"
   ]
  },
  {
   "cell_type": "markdown",
   "id": "28e70b40",
   "metadata": {},
   "source": [
    "*Source Code*"
   ]
  },
  {
   "cell_type": "code",
   "execution_count": null,
   "id": "bf200d14",
   "metadata": {},
   "outputs": [],
   "source": [
    "def df_lens(\n",
    "    field: Field,\n",
    "    d: float,\n",
    "    f: float,\n",
    "    n: float,\n",
    "    NA: Optional[float] = None,\n",
    "    inverse: bool = False,\n",
    ") -> Field:\n",
    "    \"\"\"\n",
    "    Applies a thin lens placed a distance ``d`` after the incoming ``Field``.\n",
    "\n",
    "    Args:\n",
    "        field: The ``Field`` to which the lens will be applied.\n",
    "        d: Distance from the incoming ``Field`` to the lens.\n",
    "        f: Focal length of the lens.\n",
    "        n: Refractive index of the lens.\n",
    "        NA: If provided, the NA of the lens. By default, no pupil is applied\n",
    "            to the incoming ``Field``.\n",
    "\n",
    "    Returns:\n",
    "        The ``Field`` propagated a distance ``f`` after the lens.\n",
    "    \"\"\"\n",
    "    if NA is not None:\n",
    "        D = 2 * f * NA / n  # Expression for NA yields width of pupil\n",
    "        field = circular_pupil(field, D)\n",
    "\n",
    "    if inverse:\n",
    "        # if inverse, propagate over negative distance\n",
    "        f = -d\n",
    "        d = -f\n",
    "    field = optical_fft(field, f, n)\n",
    "\n",
    "    # Phase factor due to distance d from lens\n",
    "    L = jnp.sqrt(jnp.complex64(field.spectrum * f / n))  # Lengthscale L\n",
    "    phase = jnp.pi * (1 - d / f) * l2_sq_norm(field.grid) / jnp.abs(L) ** 2\n",
    "    return field * jnp.exp(1j * phase)"
   ]
  },
  {
   "cell_type": "markdown",
   "id": "225e8578",
   "metadata": {},
   "source": [
    "*Explanation*"
   ]
  },
  {
   "cell_type": "markdown",
   "id": "874045c9",
   "metadata": {},
   "source": [
    "This function simulates a more general case of $2f$ setup, where the first $f$ becomes $d$ meaning that the initial field starts from any distance before the thin lens:\n",
    "\n",
    "<img src=\"Figures\\d-f-setup.jpg\" alt=\"Neuron\" width=\"30%\" style=\"display: block; margin: 0 auto;\">\n",
    "\n",
    "\n",
    "The solution to calculate the field at the focal plane is given by Prof. Joseph Wilfred Goodman in his book <em>Introduction to Fourier Optics</em>:\n",
    "\n",
    "$$u_F(x, y, d+f)=\\frac{n_{eff}}{i\\lambda f}\\exp[i\\frac{n_{eff}\\pi}{\\lambda f}(1-\\frac{d}{f})(x^2+y^2)]U_0(f_x, f_y) \\bigg|_{f_x=\\frac{n_{eff}x}{\\lambda f}, f_y=\\frac{n_{eff}y}{\\lambda f}} \\tag{2.3.28} $$\n",
    "\n",
    "Compared to the formula in the `ff_lens` function, there is an additional phase term. Therefore, besides the same code to do Fourier transform, `phase` is calculated to modify the field:\n",
    "\n",
    "$$\\text{phase} = \\pi(1-\\frac{d}{f})\\frac{x^2+y^2}{\\frac{\\lambda f}{n_{eff}}} = \\frac{n_{eff}\\pi}{\\lambda f}(1-\\frac{d}{f})(x^2+y^2) \\tag{2.3.29}$$"
   ]
  },
  {
   "cell_type": "markdown",
   "id": "a02b517d",
   "metadata": {},
   "source": [
    "### **Module 5: phase_masks**"
   ]
  },
  {
   "cell_type": "markdown",
   "id": "3269cc23",
   "metadata": {},
   "source": [
    "#### **Imports**"
   ]
  },
  {
   "cell_type": "markdown",
   "id": "e263d284",
   "metadata": {},
   "source": [
    "*Source Code*"
   ]
  },
  {
   "cell_type": "code",
   "execution_count": null,
   "id": "8b8f8f98",
   "metadata": {},
   "outputs": [],
   "source": [
    "from typing import Tuple\n",
    "import jax\n",
    "import jax.numpy as jnp\n",
    "from chex import Array, assert_rank\n",
    "from chromatix.field import Field\n",
    "from chromatix.utils.shapes import _broadcast_2d_to_spatial"
   ]
  },
  {
   "cell_type": "markdown",
   "id": "5a79830c",
   "metadata": {},
   "source": [
    "*Explanation*"
   ]
  },
  {
   "cell_type": "markdown",
   "id": "4b1a1f16",
   "metadata": {},
   "source": [
    "`chex.assert_rank(array, rank)` ensures that an array has a specific rank (number of dimensions). If the `array`'s rank is not equal to `rank`, then an `AssertionError` will be returned.\n",
    "\n",
    "The function `_broadcast_2d_to_spatial(x, ndim)` is used to broadcast the input 2D array `x` to an array with `ndim` dimensions. The additional dimensions are added as `1`s. For example:"
   ]
  },
  {
   "cell_type": "code",
   "execution_count": 20,
   "id": "8d83e3d6",
   "metadata": {},
   "outputs": [
    {
     "name": "stdout",
     "output_type": "stream",
     "text": [
      "Dimensions of the broadcast array = 5\n",
      "Shape of the broadcast array = (1, 3, 3, 1, 1)\n",
      "The broadcast array =\n",
      " [[[[[1]]\n",
      "\n",
      "   [[2]]\n",
      "\n",
      "   [[3]]]\n",
      "\n",
      "\n",
      "  [[[4]]\n",
      "\n",
      "   [[5]]\n",
      "\n",
      "   [[6]]]\n",
      "\n",
      "\n",
      "  [[[7]]\n",
      "\n",
      "   [[8]]\n",
      "\n",
      "   [[9]]]]]\n"
     ]
    }
   ],
   "source": [
    "from chromatix.utils import _broadcast_2d_to_spatial\n",
    "import jax.numpy as jnp\n",
    "\n",
    "arr = jnp.array([[1, 2, 3],\n",
    "                 [4, 5, 6],\n",
    "                 [7, 8, 9]])\n",
    "\n",
    "bc_arr = _broadcast_2d_to_spatial(arr, ndim=5)\n",
    "print(\"Dimensions of the broadcast array =\", bc_arr.ndim)\n",
    "print(\"Shape of the broadcast array =\", bc_arr.shape)\n",
    "print(\"The broadcast array =\\n\", bc_arr)"
   ]
  },
  {
   "cell_type": "markdown",
   "id": "b1a0fc17",
   "metadata": {},
   "source": [
    "#### **Function 1: spectrally_modulate_phase**"
   ]
  },
  {
   "cell_type": "markdown",
   "id": "60afc0b0",
   "metadata": {},
   "source": [
    "*Source Code*"
   ]
  },
  {
   "cell_type": "code",
   "execution_count": null,
   "id": "c870148a",
   "metadata": {},
   "outputs": [],
   "source": [
    "def spectrally_modulate_phase(phase: Array, field: Field) -> Array:\n",
    "    \"\"\"Spectrally modulates a given ``phase`` for multiple wavelengths.\"\"\"\n",
    "    central_wavelength = field.spectrum[..., 0, 0].squeeze()\n",
    "    spectral_modulation = central_wavelength / field.spectrum\n",
    "    return phase * spectral_modulation"
   ]
  },
  {
   "cell_type": "markdown",
   "id": "d5c78beb",
   "metadata": {},
   "source": [
    "*Explanation*"
   ]
  },
  {
   "cell_type": "markdown",
   "id": "2bd958a4",
   "metadata": {},
   "source": [
    "This function ensures accurate modeling of optical systems involving multiple wavelengths, since the phase response varies with wavelength when propagating. In optics, the phase shift $\\phi$ introduced by an optical path difference $\\Delta L$ is given by:\n",
    "\n",
    "$$\\phi(\\lambda)=\\frac{2\\pi}{\\lambda}\\Delta L \\tag{2.3.30} $$\n",
    "\n",
    "If the phase shift of a central wavelength $\\lambda_0$ is known, then the phase at any other wavellength $\\lambda$ can be expressed as:\n",
    "\n",
    "$$\\phi(\\lambda)=\\phi_0 \\cdot \\frac{\\lambda_0}{\\lambda} \\tag{2.3.31}$$\n",
    "\n",
    "This scaling accounts for the fact that shorter wavelengths accumulate more phase shift over the same optical path difference compared to longer wavelengths.\n",
    "\n",
    "Therefore, to modulate phases, the function first calculate the `central_wavelength` $\\lambda_0$ by calling `field.spectrum[..., 0, 0].squeeze()`. The ellipsis `...` represents all preceding dimensions, it selects all elements along the spectral dimensions in this context. `0, 0` selects the element at the first position along the dimensions. The `squeeze()` removes any singleton dimensions from the array. For example:"
   ]
  },
  {
   "cell_type": "code",
   "execution_count": 3,
   "id": "e1ff6025",
   "metadata": {},
   "outputs": [
    {
     "name": "stdout",
     "output_type": "stream",
     "text": [
      "The spectrum of the field =\n",
      " [[0.55]\n",
      " [0.63]\n",
      " [0.71]]\n",
      "The central wavelength of the field = 0.55\n"
     ]
    }
   ],
   "source": [
    "from chromatix.field import Field\n",
    "import jax.numpy as jnp\n",
    "\n",
    "field = Field(\n",
    "    u = jnp.array([[1, 2, 3],\n",
    "                   [4, 5, 6],\n",
    "                   [7, 8, 9]]),\n",
    "    _dx = jnp.array([[0.1], [0.1]]),\n",
    "    _spectrum = jnp.array([0.55, 0.63, 0.71]),\n",
    "    _spectral_density = jnp.array([1.0, 1.0, 1.0]),\n",
    ")\n",
    "\n",
    "print(\"The spectrum of the field =\\n\", field.spectrum)\n",
    "print(\"The central wavelength of the field =\", field.spectrum[..., 0, 0].squeeze())"
   ]
  },
  {
   "cell_type": "markdown",
   "id": "bb2a391b",
   "metadata": {},
   "source": [
    "Then, the next line creates an array of modulation factors (`spectral modulation`) for each wavelength component. Finally, the function returns the product of the input phase and the modulation factor."
   ]
  },
  {
   "cell_type": "markdown",
   "id": "569e303a",
   "metadata": {},
   "source": [
    "#### **Function 2: phase_change**"
   ]
  },
  {
   "cell_type": "markdown",
   "id": "68d548fc",
   "metadata": {},
   "source": [
    "*Source Code*"
   ]
  },
  {
   "cell_type": "code",
   "execution_count": null,
   "id": "f88cca69",
   "metadata": {},
   "outputs": [],
   "source": [
    "def phase_change(field: Field, phase: Array, spectrally_modulate: bool = True) -> Field:\n",
    "    \"\"\"\n",
    "    Perturbs ``field`` by ``phase`` (given in radians).\n",
    "\n",
    "    Returns a new ``Field`` with the result of the perturbation.\n",
    "\n",
    "    Args:\n",
    "        field: The complex field to be perturbed.\n",
    "        phase: The phase to apply.\n",
    "    \"\"\"\n",
    "    phase = _broadcast_2d_to_spatial(phase, field.ndim)\n",
    "    assert_rank(\n",
    "        phase,\n",
    "        field.ndim,\n",
    "        custom_message=\"Phase must have same ndim as incoming ``Field``.\",\n",
    "    )\n",
    "    if spectrally_modulate:\n",
    "        phase = spectrally_modulate_phase(phase, field)\n",
    "    return field * jnp.exp(1j * phase)"
   ]
  },
  {
   "cell_type": "markdown",
   "id": "b09cff0f",
   "metadata": {},
   "source": [
    "*Explanation*"
   ]
  },
  {
   "cell_type": "markdown",
   "id": "bd41d220",
   "metadata": {},
   "source": [
    "This function aims to perturb the input `field` by an input `phase` array. To make sure that the multiplication is performed correctly, the `phase` array is broadcast to the same dimension with the input `field` and the function `assert_rank` is used to ensure than the broadcast is right.\n",
    "\n",
    "Then, if the input `spectrally_modulate` is `True`, the `phase` array is modulated according the wavelengths of the `field` by calling the function `spectrally_modulate_phase`. In the end, the function returns the perturbed field."
   ]
  },
  {
   "cell_type": "markdown",
   "id": "3f88594a",
   "metadata": {},
   "source": [
    "#### **Function 3: wrap_phase**"
   ]
  },
  {
   "cell_type": "markdown",
   "id": "8ba424fb",
   "metadata": {},
   "source": [
    "*Source Code*"
   ]
  },
  {
   "cell_type": "code",
   "execution_count": null,
   "id": "2e598cd3",
   "metadata": {},
   "outputs": [],
   "source": [
    "@wrap_phase.defjvp\n",
    "def wrap_phase_jvp(primals: Tuple, tangents: Tuple) -> Tuple:\n",
    "    return wrap_phase(*primals), tangents[0]\n",
    "\n",
    "@jax.custom_jvp\n",
    "def wrap_phase(phase: Array, limits: Tuple[float, float] = (-jnp.pi, jnp.pi)) -> Array:\n",
    "    \"\"\"\n",
    "    Wraps values of ``phase`` to the range given by ``limits``.\n",
    "\n",
    "    Args:\n",
    "        phase: The phase mask to wrap (in radians).\n",
    "        limits: A tuple defining the minimum and maximum value that ``phase``\n",
    "            will be wrapped to.\n",
    "    \"\"\"\n",
    "    phase_min, phase_max = limits\n",
    "    phase = jnp.where(\n",
    "        phase < phase_min,\n",
    "        phase + 2 * jnp.pi * (1 + (phase_min - phase) // (2 * jnp.pi)),\n",
    "        phase,\n",
    "    )\n",
    "    phase = jnp.where(\n",
    "        phase > phase_max,\n",
    "        phase - 2 * jnp.pi * (1 + (phase - phase_max) // (2 * jnp.pi)),\n",
    "        phase,\n",
    "    )\n",
    "    return phase"
   ]
  },
  {
   "cell_type": "markdown",
   "id": "4125e655",
   "metadata": {},
   "source": [
    "*Explanation*"
   ]
  },
  {
   "cell_type": "markdown",
   "id": "3bb82815",
   "metadata": {},
   "source": [
    "`@jax.custom_jvp` is a decorator from JAX to define a function with a custom Jacobian-vector product (JVP) rule. `@wrap_phase.defjvp` is used to define the custom JVP (`wrap_phase_jvp`) for the `wrap_phase` function that has been decorated with `@jax.custom_jvp`. \n",
    "\n",
    "After decorating `wrap_phase` with `@jax.custom_jvp`, the function gains the custom JVP which is defined as the function `wrap_phase_jvp` with `@wrap_phase.defjvp`.\n",
    "\n",
    "The function `wrap_phase_jvp` accepts `primals` and `tangents`. `primals` is a tuple containing the original inputs to `wrap_phase`, namely, `phase` and `limits`. `tangents` is also a tuple containing the tangents (derivatives) of the inputs. This function returns `wrap_phase(*primals)` which is the result of the original `wrap_phase` function applied to the inputs and `tangent[0]`, which is the derivative with respect to the first input (`phase`).\n",
    "\n",
    "`@jax.custom_jvp` can be very useful when the function includes operations that are not differentiable like wrapping, the default automatic differentiation might fail or gives incorrect gradients.\n",
    "\n",
    "The `wrap_phase` function serves to adjust phase values so that they fall within a specified range $(-\\pi, \\pi)$. Wrapping the phase values back ensures continuity and correct interpretation.\n",
    "\n",
    "`phase_min` and `phase_max` retrieve the lower bound ($-\\pi$) and upper bound ($\\pi$) from the `limit`. `jnp.where(condition, x, y)` can efficiently apply element-wise conditional operations without explicit if-clauses and loops. It returns `x` when `condition` is `True`, and `y` when `condition` is `False`.\n",
    "\n",
    "Thus, the first `jnp.where()` adjusts phase values that are less than the `phase_min` to fall within the desired range by adding multiples of $2\\pi$. The floor division ($//$), computes how many full $2\\pi$ cycles fit into the difference, adding $1$ is to ensure that the adjusted phase exceeds `phase_min` after wrapping. It can be expressed as:\n",
    "\n",
    "$$\\text{phase} \\leftarrow \\text{phase}+2\\pi \\times \\lparen 1+\\lfloor \\frac{\\text{phase}_{min} - \\text{phase}}{2\\pi} \\rfloor \\rparen \\tag{2.3.32} $$\n",
    "\n",
    "Similarly, the second `jnp.where()` adjusts phase values that are greater than `phase_max` to fall within the desired range by subtracting multiples of $2\\pi$:\n",
    "\n",
    "$$\\text{phase} \\leftarrow \\text{phase}-2\\pi \\times \\lparen 1+\\lfloor \\frac{\\text{phase} - \\text{phase}_{max}}{2\\pi} \\rfloor \\rparen \\tag{2.3.33} $$\n",
    "\n",
    "For example:"
   ]
  },
  {
   "cell_type": "code",
   "execution_count": 16,
   "id": "5e7cb9ad",
   "metadata": {},
   "outputs": [
    {
     "name": "stdout",
     "output_type": "stream",
     "text": [
      "The number of pi: [-5.  -4.5 -4.  -3.5 -3.  -2.5 -2.  -1.5 -1.  -0.5  0.   0.5  1.   1.5\n",
      "  2.   2.5  3.   3.5  4.   4.5  5. ]\n",
      "Phase array = [-15.70796327 -14.13716694 -12.56637061 -10.99557429  -9.42477796\n",
      "  -7.85398163  -6.28318531  -4.71238898  -3.14159265  -1.57079633\n",
      "   0.           1.57079633   3.14159265   4.71238898   6.28318531\n",
      "   7.85398163   9.42477796  10.99557429  12.56637061  14.13716694\n",
      "  15.70796327]\n",
      "Wrapped phase array = [ 3.1415927 -1.5707964  0.         1.5707964  3.1415927 -1.5707964\n",
      "  0.         1.5707964 -3.1415927 -1.5707964  0.         1.5707964\n",
      "  3.1415927 -1.5707965  0.         1.570796   3.1415925 -1.570797\n",
      "  0.         1.570796   3.141592 ]\n"
     ]
    }
   ],
   "source": [
    "import numpy as np\n",
    "\n",
    "n_pi = np.linspace(-5, 5, 21)\n",
    "print(\"The number of pi:\", n_pi)\n",
    "\n",
    "phase = np.pi * n_pi\n",
    "print(\"Phase array =\", phase)\n",
    "\n",
    "phase_min, phase_max = -np.pi, np.pi\n",
    "phase = jnp.where(\n",
    "    phase < phase_min,\n",
    "    phase + 2 * jnp.pi * (1 + (phase_min - phase) // (2 * jnp.pi)),\n",
    "    phase,\n",
    ")\n",
    "phase = jnp.where(\n",
    "    phase > phase_max,\n",
    "    phase - 2 * jnp.pi * (1 + (phase - phase_max) // (2 * jnp.pi)),\n",
    "    phase,\n",
    ")\n",
    "\n",
    "print(\"Wrapped phase array =\", phase)"
   ]
  },
  {
   "cell_type": "markdown",
   "id": "e7cf4789",
   "metadata": {},
   "source": [
    "### **Module 6: polarizers**"
   ]
  },
  {
   "cell_type": "markdown",
   "id": "fcd7fa18",
   "metadata": {},
   "source": [
    "#### **Imports**"
   ]
  },
  {
   "cell_type": "code",
   "execution_count": null,
   "id": "8160a236",
   "metadata": {},
   "outputs": [],
   "source": [
    "from typing import Union\n",
    "\n",
    "import jax.numpy as jnp\n",
    "from chex import Array\n",
    "\n",
    "from chromatix.utils.utils import matvec\n",
    "\n",
    "from ..field import VectorField"
   ]
  },
  {
   "cell_type": "markdown",
   "id": "8a6e8f01",
   "metadata": {},
   "source": [
    "*Explanation*"
   ]
  },
  {
   "cell_type": "markdown",
   "id": "653e5c4a",
   "metadata": {},
   "source": [
    "The function `matvec` performs batched matrix-vector multiplication in a way that's compatible with broadcasting rules in JAX.\n",
    "\n",
    "The class `VectorField` is a subclass of `Field` and specializes in handling vectorial electromagnetic fields. The object of this class models vectorial electromagnetic fields where the direction and magnitude of the electric field are significant."
   ]
  },
  {
   "cell_type": "markdown",
   "id": "f0488f2b",
   "metadata": {},
   "source": [
    "#### **Function 1: jones_vector**"
   ]
  },
  {
   "cell_type": "markdown",
   "id": "4939c205",
   "metadata": {},
   "source": [
    "*Source Code*"
   ]
  },
  {
   "cell_type": "code",
   "execution_count": null,
   "id": "87fe044a",
   "metadata": {},
   "outputs": [],
   "source": [
    "def jones_vector(theta: float, beta: float) -> Array:\n",
    "    \"\"\"Generates a Jones vector given by [cos(theta), sin(theta)exp(1j*beta)].\n",
    "\n",
    "    Args:\n",
    "        theta (float): Polarization angle.\n",
    "        beta (float): Relative delay between components.\n",
    "\n",
    "    Returns:\n",
    "        Array: Jones vector.\n",
    "    \"\"\"\n",
    "\n",
    "    # Generates a Jones vector with a given beta = alpha_y - alpha_x.\n",
    "    # Assumes alpha_x=0.\n",
    "    return jnp.array(\n",
    "        [0, jnp.sin(theta) * jnp.exp(1j * beta), jnp.cos(theta)], dtype=jnp.complex64\n",
    "    )"
   ]
  },
  {
   "cell_type": "markdown",
   "id": "a5d75f98",
   "metadata": {},
   "source": [
    "*Explanation*"
   ]
  },
  {
   "cell_type": "markdown",
   "id": "4dcbbdbd",
   "metadata": {},
   "source": [
    "This function creates a Jones vector with the inputs `theta` and `beta`, where `theta` is the polarization angle and `beta` is the phase delay between the two components of an electromagnetic wave. The function returns a Jones vector:\n",
    "\n",
    "$$ \\text{\\textbf{J}} = \\begin{bmatrix}\n",
    "                          0\\\\\n",
    "                          \\sin(\\theta)e^{i\\beta}\\\\\n",
    "                          \\cos(\\theta)\n",
    "                          \\end{bmatrix} \\tag{2.3.34} $$\n",
    "\n",
    "The Jones vector describes the polarization of light in free space or another homogeneous isotropic non-attenuating medium, where the light can be properly described as transverse waves[@Jones_calculus]. Setting the propagation direction as the positive $z$-direction, the complex amplitude of the electric field of a wave can be expressed as:\n",
    "\n",
    "$$ \\begin{bmatrix} E_x(t)\\\\ E_y(t)\\\\ 0 \\end{bmatrix}= \\begin{bmatrix} E_{0x}e^{i\\phi_x}\\\\ E_{0y}e^{i\\phi_y} \\\\ 0 \\end{bmatrix} e^{i(kz-wt)} \\tag{2.3.35}$$\n",
    "\n",
    "Since $E_z$ can always be seen as $0$, extracting the part that matters, we can obtain the typical Jones vector:\n",
    "\n",
    "$$ \\textbf{J}=\\begin{bmatrix} E_{0x}e^{i\\phi_x} \\\\ E_{0y}e^{i\\phi_y} \\end{bmatrix} \\tag{2.3.36}$$\n",
    "\n",
    "Furthermore, ordinarily, the angle between $\\textbf{E}$ and $E_x$ is denoted as $\\theta$ like the figure below shows:\n",
    "\n",
    "<img src=\"Figures\\Jonesvector.jpg\" alt=\"Neuron\" width=\"30%\" style=\"display: block; margin: 0 auto;\">\n",
    "\n",
    "and the relative phase delay $\\beta = \\phi_y - \\phi_x$ is of interest, so the Jones vector can be further simplied as:\n",
    "\n",
    "$$\\textbf{J}= E_0\\begin{bmatrix} \\cos{\\theta} \\\\ \\sin{\\theta}e^{i\\beta} \\end{bmatrix} \\rightarrow \\begin{bmatrix} \\cos{\\theta} \\\\ \\sin{\\theta}e^{i\\beta} \\end{bmatrix} \\tag{2.3.37} $$\n",
    "\n",
    "However, the Jones vector returned by this function has an extra $0$ element, and the sequence is inverted, which is not standard for Jones vectors. This is for matching the order $zyx$ and the Jones vector of the class `VectorField`."
   ]
  },
  {
   "cell_type": "markdown",
   "id": "4010c975",
   "metadata": {},
   "source": [
    "#### **Function 2: linear**"
   ]
  },
  {
   "cell_type": "markdown",
   "id": "9b8ac6a7",
   "metadata": {},
   "source": [
    "*Source Code*"
   ]
  },
  {
   "cell_type": "code",
   "execution_count": null,
   "id": "e691d865",
   "metadata": {},
   "outputs": [],
   "source": [
    "def linear(theta: float) -> Array:\n",
    "    \"\"\"Generates a Jones vector for linearly polarized\n",
    "    light with an angle $\\theta$ w.r.t. to the horizontal.\n",
    "\n",
    "    Args:\n",
    "        theta (float): Angle w.r.t horizontal.\n",
    "\n",
    "    Returns:\n",
    "        Array: Linearly polarized Jones vector.\n",
    "    \"\"\"\n",
    "    return jones_vector(theta, 0)"
   ]
  },
  {
   "cell_type": "markdown",
   "id": "f96b8e93",
   "metadata": {},
   "source": [
    "*Explanation*"
   ]
  },
  {
   "cell_type": "markdown",
   "id": "5fda2ba3",
   "metadata": {},
   "source": [
    "This function is for generating a Jones vector for linearly polarized light with an angle $\\theta$ relative to the horizontal axis by calling the function `jones_vector`.\n",
    "\n",
    "Linearly polarized light means that the electric field oscillates in a straight line[@Polarization]:\n",
    "\n",
    "<img src=\"Figures\\Linear Polarizations.png\" alt=\"Neuron\" width=\"30%\" style=\"display: block; margin: 0 auto;\">\n",
    "\n",
    "The phase delay between the two orthogonal components of the field is $0$. Thus, the function returns a Jones vector:\n",
    "\n",
    "$$ \\textbf{J} = \\begin{bmatrix} \\cos(\\theta) \\\\ \\sin(\\theta) \\end{bmatrix} \\tag{2.3.38} $$\n"
   ]
  },
  {
   "cell_type": "markdown",
   "id": "afdb9e55",
   "metadata": {},
   "source": [
    "#### **Function 3: left_circular**"
   ]
  },
  {
   "cell_type": "markdown",
   "id": "46ecde1b",
   "metadata": {},
   "source": [
    "*Source Code*"
   ]
  },
  {
   "cell_type": "code",
   "execution_count": null,
   "id": "f775f750",
   "metadata": {},
   "outputs": [],
   "source": [
    "def left_circular() -> Array:\n",
    "    \"\"\"Generates a Jones vector for left circularly polarized\n",
    "    light.\n",
    "\n",
    "    Returns:\n",
    "        Array: Left circularly polarized Jones vector.\n",
    "    \"\"\"\n",
    "    return jones_vector(jnp.pi / 4, jnp.pi / 2)"
   ]
  },
  {
   "cell_type": "markdown",
   "id": "eead0e85",
   "metadata": {},
   "source": [
    "*Explanation*"
   ]
  },
  {
   "cell_type": "markdown",
   "id": "6aa09d9f",
   "metadata": {},
   "source": [
    "This function generates a Jones vector for left-hand circularly polarized light by calling `jones_vector` with $\\theta = \\frac{\\pi}{4}$ and $\\beta = \\frac{\\pi}{2}$:\n",
    "\n",
    "$$ \\textbf{J} = \\frac{1}{\\sqrt{2}}\\begin{bmatrix} 1 \\\\ -i \\end{bmatrix} \\tag{2.3.39}$$\n",
    "\n",
    "Circular polarization occures when the two orthogonal electric field component vectors are of equal magnitude and are out of phase by exactly $90^\\circ$, or one-quarter wavelength[@Circular_Polarization]. A counterclockwise rotation refers to left-hand circular polarization state and a phase shift of $\\pi/2$, a clockwise rotation corresponds to a right-hand circular polarization state and a phase shift of $-\\pi/2$\n",
    "\n",
    "Here is a figure that shows left-circularly polarized light:\n",
    "\n",
    "<img src=\"Figures\\Left-Circularly Polarized Light.jpg\" alt=\"Neuron\" width=\"30%\" style=\"display: block; margin: 0 auto;\">"
   ]
  },
  {
   "cell_type": "markdown",
   "id": "8b860329",
   "metadata": {},
   "source": [
    "#### **Function 4: right_circular**"
   ]
  },
  {
   "cell_type": "markdown",
   "id": "919402c1",
   "metadata": {},
   "source": [
    "*Source Code*"
   ]
  },
  {
   "cell_type": "code",
   "execution_count": null,
   "id": "e6205870",
   "metadata": {},
   "outputs": [],
   "source": [
    "def right_circular() -> Array:\n",
    "    \"\"\"Generates a Jones vector for right circularly polarized\n",
    "    light.\n",
    "\n",
    "    Returns:\n",
    "        Array: Right circularly polarized Jones vector.\n",
    "    \"\"\"\n",
    "    return jones_vector(jnp.pi / 4, -jnp.pi / 2)"
   ]
  },
  {
   "cell_type": "markdown",
   "id": "7a9fe597",
   "metadata": {},
   "source": [
    "*Explanation*"
   ]
  },
  {
   "cell_type": "markdown",
   "id": "bee7dbd6",
   "metadata": {},
   "source": [
    "As mentioned in the last function, right-hand circular polarization has a phase shift of $-\\pi/2$. Therefore, the Jones vector generated by this function is:\n",
    "\n",
    "$$ \\textbf{J} = \\frac{1}{\\sqrt{2}}\\begin{bmatrix} 1 \\\\ i \\end{bmatrix} \\tag{2.3.40}$$\n",
    "\n",
    "The right-hand circular polarization looks like:\n",
    "\n",
    "<img src=\"Figures\\Right-Circularly Polarized Light.jpg\" alt=\"Neuron\" width=\"30%\" style=\"display: block; margin: 0 auto;\">"
   ]
  },
  {
   "cell_type": "markdown",
   "id": "d989e6d2",
   "metadata": {},
   "source": [
    "#### **Function 5: polarizer**"
   ]
  },
  {
   "cell_type": "markdown",
   "id": "fb60fa56",
   "metadata": {},
   "source": [
    "*Source Code*"
   ]
  },
  {
   "cell_type": "code",
   "execution_count": null,
   "id": "0e9826cf",
   "metadata": {},
   "outputs": [],
   "source": [
    "def polarizer(\n",
    "    field: VectorField,\n",
    "    J00: Union[float, complex, Array],\n",
    "    J01: Union[float, complex, Array],\n",
    "    J10: Union[float, complex, Array],\n",
    "    J11: Union[float, complex, Array],\n",
    ") -> VectorField:\n",
    "    \"\"\"Applies a Jones matrix with given components to the field.\n",
    "    Note that the components here refer to the common choice of coordinate\n",
    "    system and are inverted by us - i.e. J00 refers to Jxx.\n",
    "\n",
    "    Args:\n",
    "        field (VectorField): field to apply polarization to.\n",
    "        J00 (Union[float, complex, Array]): _description_\n",
    "        J01 (Union[float, complex, Array]): _description_\n",
    "        J10 (Union[float, complex, Array]): _description_\n",
    "        J11 (Union[float, complex, Array]): _description_\n",
    "\n",
    "    Returns:\n",
    "        VectorField: Field after polarizer.\n",
    "    \"\"\"\n",
    "    # Invert the axes as our order is zyx\n",
    "    LP = jnp.array([[0, 0, 0], [0, J11, J10], [0, J01, J00]])\n",
    "    LP = LP / jnp.linalg.norm(LP)\n",
    "    return field.replace(u=matvec(LP, field.u))"
   ]
  },
  {
   "cell_type": "markdown",
   "id": "f47132b3",
   "metadata": {},
   "source": [
    "*Explanation*"
   ]
  },
  {
   "cell_type": "markdown",
   "id": "c6d4f20a",
   "metadata": {},
   "source": [
    "This function is deigned to simulate polarizers such as linear polarizer, left circular polarizer, and right circular polarizer according to the values of the inputs `J00`, `J01`, `J10`, and `J11`. These four values constitute a matrix called Jones matrix, applying this matrix to an input vectorial field will polarize the field.\n",
    "\n",
    "Jones matrix is defined as a $2 \\times 2$ complex matrix describing the modification of the polarization state (Jones vector) of a wave:\n",
    "\n",
    "$$\\begin{bmatrix}E'_x\\\\ E'_y\\end{bmatrix} = \\begin{bmatrix}J_{xx}&J_{xy} \\\\ J_{yx}&j_{yy}\\end{bmatrix}\\begin{bmatrix}E_x\\\\ E_y\\end{bmatrix} \\tag{2.3.41} $$\n",
    "\n",
    "`J00`, `J01`, `J10`, and `J11` correspond to $J_{xx}$, $J_{xy}$, $J_{yx}$, and $J_{yy}$ respectively. However, since the coordinate system use $zyx$ order, and it's necessary to pad the Jones matrix with $0$s for accurate calculation, this function generates the Jones matrix `LP` in another way:\n",
    "\n",
    "$$ \\textbf{J} = \\begin{bmatrix}\n",
    "                    0 & 0 & 0 \\\\\n",
    "                    0 & J_{yy} & J_{yx}\\\\\n",
    "                    0 & J_{xy} & J_{xx}\\end{bmatrix} \\tag{2.3.41}$$\n",
    "\n",
    "`jnp.linalg.norm(LP)` computes Frobenius norm of the matrix `LP`. Frobenius norm calculate the root of the sun of the squares of all matrix elements:\n",
    "\n",
    "$$ {\\lVert A \\rVert}_F = \\sqrt{\\sum_{i=1}^m\\sum_{j=1}^{n}{\\lvert a_{ij}\\rvert}^2} \\tag{2.3.42}$$\n",
    "\n",
    "By dividing each element if `LP` by this norm, the `LP` is normalised to ensure that the matrix doen not introduce unintended scaling to the field's amplitude.\n",
    "\n",
    "The function `matvet()` performs batched matrix-vector multiplication of the `LP` and the complex field `field.u` of the object of `VectorField`. Therefore, a new polarized `VectorField` instance is returned in the end.  "
   ]
  },
  {
   "cell_type": "markdown",
   "id": "f6b8a18f",
   "metadata": {},
   "source": [
    "#### **Function 6: linear_polarizer**"
   ]
  },
  {
   "cell_type": "markdown",
   "id": "fcff549d",
   "metadata": {},
   "source": [
    "*Source Code*"
   ]
  },
  {
   "cell_type": "code",
   "execution_count": null,
   "id": "1741717a",
   "metadata": {},
   "outputs": [],
   "source": [
    "def linear_polarizer(field: VectorField, angle: float) -> VectorField:\n",
    "    \"\"\"Applies a linear polarizer with a given angle to the incoming field.\n",
    "\n",
    "    Args:\n",
    "        field (VectorField): incoming field.\n",
    "        angle (float): angle w.r.t to the horizontal.\n",
    "\n",
    "    Returns:\n",
    "        VectorField: outgoing field.\n",
    "    \"\"\"\n",
    "\n",
    "    c, s = jnp.cos(angle), jnp.sin(angle)\n",
    "    J00 = c**2\n",
    "    J11 = s**2\n",
    "    J01 = s * c\n",
    "    J10 = J01\n",
    "    return polarizer(field, J00, J01, J10, J11)"
   ]
  },
  {
   "cell_type": "markdown",
   "id": "9d500520",
   "metadata": {},
   "source": [
    "*Explanation*"
   ]
  },
  {
   "cell_type": "markdown",
   "id": "b07388d3",
   "metadata": {},
   "source": [
    "This function applies a linear polarizer to the input `field` at a given `angle` with respect to the horizontal. A linear polarizer is a polarizer that only allows light in a specific polarization state to pass through. The Jones matrix for a linear polarizer with axis of transmission angle $\\alpha$ from the horizontal is[@Jones_calculus]\n",
    "\n",
    "$$ \\textbf{J} = \\begin{bmatrix} \\cos^2(\\alpha) & \\cos(\\alpha)\\sin(\\alpha)\\\\\n",
    "                 \\cos(\\alpha)\\sin(\\alpha) & \\sin^2(\\alpha)\\end{bmatrix} \\tag{2.3.43}$$\n",
    "\n",
    "Light with any kind of polarization state will be linearly polarized at the angle $\\alpha$ with respect to the horizontal like the figure shows:\n",
    "\n",
    "<img src=\"Figures\\linear polarizer.png\" alt=\"Neuron\" width=\"30%\" style=\"display: block; margin: 0 auto;\">\n",
    "\n",
    "This code of the function `linear_polarizer` simply calculates the four terms of the Jones matrix and passes them to the function `polarizer` to generate the linearly polarized field."
   ]
  },
  {
   "cell_type": "markdown",
   "id": "05f39b04",
   "metadata": {},
   "source": [
    "#### **Function 7: left_circular_polarizer**"
   ]
  },
  {
   "cell_type": "markdown",
   "id": "17aeb962",
   "metadata": {},
   "source": [
    "*Source Code*"
   ]
  },
  {
   "cell_type": "code",
   "execution_count": null,
   "id": "ea65684d",
   "metadata": {},
   "outputs": [],
   "source": [
    "def left_circular_polarizer(field: VectorField) -> VectorField:\n",
    "    \"\"\"Applies a left circular polarizer to the incoming field.\n",
    "\n",
    "    Args:\n",
    "        field (VectorField): incoming field.\n",
    "\n",
    "    Returns:\n",
    "        VectorField: outgoing field.\n",
    "    \"\"\"\n",
    "    J00 = 1\n",
    "    J11 = 1\n",
    "    J01 = -1j\n",
    "    J10 = 1j\n",
    "    return polarizer(field, J00, J01, J10, J11)"
   ]
  },
  {
   "cell_type": "markdown",
   "id": "b839d9c8",
   "metadata": {},
   "source": [
    "*Explanation*"
   ]
  },
  {
   "cell_type": "markdown",
   "id": "8a3b80a0",
   "metadata": {},
   "source": [
    "This function applies a left circular polarizer to the incoming field in the same way as the `linear_polarizer` function. The Jones matrix for left circular polarizer is[@Jones_calculus]:\n",
    "\n",
    "$$ \\textbf{J} = \\begin{bmatrix} 1 & -i\\\\ i & 1 \\end{bmatrix} \\tag{2.3.44}$$"
   ]
  },
  {
   "cell_type": "markdown",
   "id": "4d51fc71",
   "metadata": {},
   "source": [
    "#### **Function 8: right_circular_polarizer**"
   ]
  },
  {
   "cell_type": "markdown",
   "id": "825099e3",
   "metadata": {},
   "source": [
    "*Source Code*"
   ]
  },
  {
   "cell_type": "code",
   "execution_count": null,
   "id": "ed4fc197",
   "metadata": {},
   "outputs": [],
   "source": [
    "def right_circular_polarizer(field: VectorField) -> VectorField:\n",
    "    \"\"\"\n",
    "    Applies a thin RCP polarizer to the incoming ``Field``.\n",
    "\n",
    "    Args:\n",
    "        field: The ``Field`` to which the polarizer will be applied.\n",
    "\n",
    "    Returns:\n",
    "        The ``Field`` directly after the polarizer.\n",
    "    \"\"\"\n",
    "    J00 = 1\n",
    "    J11 = 1\n",
    "    J01 = 1j\n",
    "    J10 = -1j\n",
    "    return polarizer(field, J00, J01, J10, J11)"
   ]
  },
  {
   "cell_type": "markdown",
   "id": "b5a26aba",
   "metadata": {},
   "source": [
    "*Explanation*"
   ]
  },
  {
   "cell_type": "markdown",
   "id": "9009c132",
   "metadata": {},
   "source": [
    "The only difference between this function and the `left_circular_polarizer` is the Jones matrix. The Jones matrix for right circular polarizer is[@Jones_calculus]:\n",
    "\n",
    "$$ \\textbf{J} = \\begin{bmatrix} 1 & i\\\\ -i & 1 \\end{bmatrix} \\tag{2.3.45}$$"
   ]
  },
  {
   "cell_type": "markdown",
   "id": "da1049fc",
   "metadata": {},
   "source": [
    "#### **Function 9: phase_retarder**"
   ]
  },
  {
   "cell_type": "markdown",
   "id": "db3cf795",
   "metadata": {},
   "source": [
    "*Source Code*"
   ]
  },
  {
   "cell_type": "code",
   "execution_count": null,
   "id": "da6dd43f",
   "metadata": {},
   "outputs": [],
   "source": [
    "def phase_retarder(\n",
    "    field: VectorField, theta: float, eta: float, phi: float\n",
    ") -> VectorField:\n",
    "    \"\"\"Applies a general purpose retardation matrix with angle w.r.t horizontal theta,\n",
    "    relative phase change eta and circularity phi.\n",
    "\n",
    "    Args:\n",
    "        field (VectorField): incoming field.\n",
    "        theta (float): angle w.r.t horizonal axis.\n",
    "        eta (float): relative phase retardation.\n",
    "        phi (float): circularity.\n",
    "\n",
    "    Returns:\n",
    "        VectorField: outgoing field.\n",
    "    \"\"\"\n",
    "    s, c = jnp.sin(theta), jnp.cos(theta)\n",
    "    scale = jnp.exp(-1j * eta / 2)\n",
    "    J00 = scale * (c**2 + jnp.exp(1j * eta) * s**2)\n",
    "    J11 = scale * (s**2 + jnp.exp(1j * eta) * c**2)\n",
    "    J01 = scale * (1 - jnp.exp(1j * eta)) * jnp.exp(-1j * phi) * s * c\n",
    "    J10 = scale * (1 - jnp.exp(1j * eta)) * jnp.exp(1j * phi) * s * c\n",
    "    return polarizer(field, J00, J01, J10, J11)"
   ]
  },
  {
   "cell_type": "markdown",
   "id": "c7f9a710",
   "metadata": {},
   "source": [
    "*Explanation*"
   ]
  },
  {
   "cell_type": "markdown",
   "id": "d16726d2",
   "metadata": {},
   "source": [
    "This simulates a phase retarder by applying a general phase retarder Jones matrix to the input field to modify its polarization state. `theta` is the orientation angle of the retarder with respect to the horizontal axis, `phi` is a circularity parameter, representing an additional phase difference that introduces ellipticity, and `eta` is the phase retardation between the fast and slow axes of the retarder.\n",
    "\n",
    "Fast and slow axes exist in birefringent uniaxial crystals. Uniaxial crystals have one crystal axis that is different the other two crystal axes ($n_i \\neq n_j = n_k$). This unique axis is called extraordinary axis or optical axis. The unique axis has different refractive index with the other axes. The axis with smaller refractive index is called fast axis, since light speed is higher along this axis ($v = c/n$), and vice versa. Because of this effect, the orthogonal components of the light experience different phase change($\\eta$) as they exit the uniaxial:\n",
    "\n",
    "$$ \\eta = \\frac{2\\pi}{\\lambda}(n_{slow}-n_{fast})d \\tag{2.3.46}$$\n",
    "\n",
    "where $D$ is the distance that light passes in the crystal. Phase retarders are usually made out of this kind of crystals. \n",
    "\n",
    "Phase retarder can also be represented by Jone matrix. The Jones matrix of this function represents the phase retarder of arbitrary birefringent material[@Jone_calculus]:\n",
    "\n",
    "$$ \\textbf{J} = e^{-\\frac{i \\eta}{2}}\n",
    "\\begin{bmatrix}\n",
    "\\cos^2 \\theta + e^{i \\eta} \\sin^2 \\theta & (1 - e^{i \\eta}) e^{-i \\phi} \\cos \\theta \\sin \\theta \\\\\n",
    "(1 - e^{i \\eta}) e^{i \\phi} \\cos \\theta \\sin \\theta & \\sin^2 \\theta + e^{i \\eta} \\cos^2 \\theta\n",
    "\\end{bmatrix} \\tag{2.3.47}$$\n"
   ]
  },
  {
   "cell_type": "markdown",
   "id": "b4c76a90",
   "metadata": {},
   "source": [
    "#### **Function 9: wave_plate**"
   ]
  },
  {
   "cell_type": "markdown",
   "id": "075e1ac4",
   "metadata": {},
   "source": [
    "*Source Code*"
   ]
  },
  {
   "cell_type": "code",
   "execution_count": null,
   "id": "dc1872b3",
   "metadata": {},
   "outputs": [],
   "source": [
    "def wave_plate(field: VectorField, theta: float, eta: float) -> VectorField:\n",
    "    \"\"\"Applies a general waveplate with angle theta and delay eta to the field.\n",
    "\n",
    "    Args:\n",
    "        field (VectorField): incoming field.\n",
    "        theta (float): angle w.r.t horizontal.\n",
    "        eta (float): relative delay between components.\n",
    "\n",
    "    Returns:\n",
    "        VectorField: outgoing field.\n",
    "    \"\"\"\n",
    "    return phase_retarder(field, theta, eta, phi=0)"
   ]
  },
  {
   "cell_type": "markdown",
   "id": "4ef07502",
   "metadata": {},
   "source": [
    "*Explanation*"
   ]
  },
  {
   "cell_type": "markdown",
   "id": "fc24d7f3",
   "metadata": {},
   "source": [
    "This function simulates a general wave plate, also known as linear phase retarder by calling the `phase_retarder` function but setting `phi=0`. The Jones matrix of the wave plate can be written as:\n",
    "\n",
    "$$ \\textbf{J} = e^{-\\frac{i \\eta}{2}}\n",
    "\\begin{bmatrix}\n",
    "\\cos^2 \\theta + e^{i \\eta} \\sin^2 \\theta & (1 - e^{i \\eta})  \\cos \\theta \\sin \\theta \\\\\n",
    "(1 - e^{i \\eta})  \\cos \\theta \\sin \\theta & \\sin^2 \\theta + e^{i \\eta} \\cos^2 \\theta\n",
    "\\end{bmatrix} \\tag{2.3.47}$$"
   ]
  },
  {
   "cell_type": "markdown",
   "id": "6d41bdb3",
   "metadata": {},
   "source": [
    "#### **Function 10: halfwave_plate**"
   ]
  },
  {
   "cell_type": "markdown",
   "id": "409ce796",
   "metadata": {},
   "source": [
    "*Source Code*"
   ]
  },
  {
   "cell_type": "code",
   "execution_count": null,
   "id": "5ae763d7",
   "metadata": {},
   "outputs": [],
   "source": [
    "def halfwave_plate(field: VectorField, theta: float) -> VectorField:\n",
    "    \"\"\"Applies a halfwave plate with angle theta to the incoming field.\n",
    "\n",
    "    Args:\n",
    "        field (VectorField): incoming field.\n",
    "        theta (float): angle w.r.t. horizontal.\n",
    "\n",
    "    Returns:\n",
    "        VectorField: outgoing field.\n",
    "    \"\"\"\n",
    "    return phase_retarder(field, theta, eta=jnp.pi, phi=0)"
   ]
  },
  {
   "cell_type": "markdown",
   "id": "24aea83b",
   "metadata": {},
   "source": [
    "*Explanation*"
   ]
  },
  {
   "cell_type": "markdown",
   "id": "873d2134",
   "metadata": {},
   "source": [
    "Halfwave plate makes the light's orthogonal components have a phase difference of $\\pi$ (half a wave) after the light passer through the phase retarder. Therefore, the `eta` should be set as $\\pi$. Then, the Jones matrix of the halfwave plate becomes:\n",
    "\n",
    "$$ \\textbf{J} = i\n",
    "\\begin{bmatrix}\n",
    "\\cos^2 \\theta - \\sin^2 \\theta & 2 \\cos \\theta \\sin \\theta \\\\\n",
    "2 \\cos \\theta \\sin \\theta & \\sin^2 \\theta -  \\cos^2 \\theta\n",
    "\\end{bmatrix} \\tag{2.3.47}$$"
   ]
  },
  {
   "cell_type": "markdown",
   "id": "7623373a",
   "metadata": {},
   "source": [
    "#### **Function 11: quarterwave_plate**"
   ]
  },
  {
   "cell_type": "markdown",
   "id": "b451d095",
   "metadata": {},
   "source": [
    "*Source Code*"
   ]
  },
  {
   "cell_type": "code",
   "execution_count": null,
   "id": "09889b2f",
   "metadata": {},
   "outputs": [],
   "source": [
    "def quarterwave_plate(field: VectorField, theta: float) -> VectorField:\n",
    "    \"\"\"Applies a quarterwave plate with angle theta to the incoming field.\n",
    "\n",
    "    Args:\n",
    "        field (VectorField): incoming field.\n",
    "        theta (float): angle w.r.t. horizontal.\n",
    "\n",
    "    Returns:\n",
    "        VectorField: outgoing field.\n",
    "    \"\"\"\n",
    "    return phase_retarder(field, theta, eta=jnp.pi / 2, phi=0)"
   ]
  },
  {
   "cell_type": "markdown",
   "id": "82b01424",
   "metadata": {},
   "source": [
    "*Explanation*"
   ]
  },
  {
   "cell_type": "markdown",
   "id": "f7a51773",
   "metadata": {},
   "source": [
    "Like the halfwave plate, quarterwave plate makes the light's orthogonal components have a phase difference of $\\pi/2$ after the light passer through the phase retarder. Therefore, the `eta` should be set as $\\pi/2$. Then, the Jones matrix of the quarterwave plate becomes:\n",
    "\n",
    "$$ \\textbf{J} = \\frac{i}{\\sqrt{2}}\n",
    "\\begin{bmatrix}\n",
    "\\cos^2 \\theta + i \\sin^2 \\theta & (1-i) \\cos \\theta \\sin \\theta \\\\\n",
    "(1-i) \\cos \\theta \\sin \\theta & \\sin^2 \\theta + i \\cos^2 \\theta\n",
    "\\end{bmatrix} \\tag{2.3.47}$$"
   ]
  },
  {
   "cell_type": "markdown",
   "id": "90a4e418",
   "metadata": {},
   "source": [
    "#### **Function 12: universal_compensator**"
   ]
  },
  {
   "cell_type": "markdown",
   "id": "777e6d38",
   "metadata": {},
   "source": [
    "*Source Code*"
   ]
  },
  {
   "cell_type": "code",
   "execution_count": null,
   "id": "d36c4d75",
   "metadata": {},
   "outputs": [],
   "source": [
    "def universal_compensator(field: VectorField, retA: float, retB: float) -> VectorField:\n",
    "    \"\"\"Applies the Universal Polarizer for the LC-PolScope to the incoming field.\n",
    "\n",
    "    Args:\n",
    "        field (VectorField): incoming field.\n",
    "        retA (float): retardance induced at a 45 deg angle.\n",
    "        retB (float): retardance induced at a 0 deg angle.\n",
    "\n",
    "    Returns:\n",
    "        VectorField: outgoing field.\n",
    "    \"\"\"\n",
    "    field_LP = linear_polarizer(field, 0)\n",
    "    field_retA = wave_plate(field_LP, -jnp.pi / 4, retA)\n",
    "    field_retB = wave_plate(field_retA, 0, retB)\n",
    "    return field_retB"
   ]
  },
  {
   "cell_type": "markdown",
   "id": "79d81b72",
   "metadata": {},
   "source": [
    "*Explanation*"
   ]
  },
  {
   "cell_type": "markdown",
   "id": "35da2efe",
   "metadata": {},
   "source": [
    "The LC-PolScope is short for Liquid Crystal polarizing microscope. It is commonly used for birefringence imaging, analyzing the spatial and temporal variations of the differential phase delay in ordered and transparent materials[@mehta2013polarized]. The LC-PolScope uses a universal polarizer with liquid crystal devices to produce various state of polarization.\n",
    "\n",
    "A universal compensator, also known as universal polarizer, can be used to generate any polarization, from circular to elliptical to linear polarization of any orientation. It's composed of one linear polarizer and two variable retarders.\n",
    "\n",
    "This function simulates the effect of such a universal compensator on an incoming light field. The argument `field` is an object of `VectorField`. `retA` and `retB` are retardance value (phase shift) introduced by a retarder A with an orientation angle $-\\pi/4$ and a retarder B with an orientation angle $0$.\n",
    "\n",
    "The `field` first passes through a linear polarizer which is placed with an angle $0$ with respect to the horizontal axis. This is simulated by the previously defined function `linear polarizer(field, 0)`. Then it passes two retarders A and B with two `wave_plate()` functions. The result of the process is returned in the end. "
   ]
  },
  {
   "cell_type": "markdown",
   "id": "3beb03b6",
   "metadata": {},
   "source": [
    "### **Module 7: propagation**"
   ]
  },
  {
   "cell_type": "markdown",
   "id": "fd97d6ca",
   "metadata": {},
   "source": [
    "#### **Imports**"
   ]
  },
  {
   "cell_type": "markdown",
   "id": "d067c5df",
   "metadata": {},
   "source": [
    "*Source Code*"
   ]
  },
  {
   "cell_type": "code",
   "execution_count": null,
   "id": "0e171f68",
   "metadata": {},
   "outputs": [],
   "source": [
    "from typing import Literal, Tuple, Union\n",
    "\n",
    "import jax\n",
    "import jax.numpy as jnp\n",
    "import numpy as np\n",
    "from chex import Array\n",
    "\n",
    "from chromatix.field import crop, pad\n",
    "from chromatix.functional.convenience import optical_fft\n",
    "from chromatix.utils.fft import fft, ifft\n",
    "\n",
    "from ..field import Field\n",
    "from ..utils import _broadcast_1d_to_grid, _broadcast_1d_to_innermost_batch, l2_sq_norm"
   ]
  },
  {
   "cell_type": "markdown",
   "id": "d39484fc",
   "metadata": {},
   "source": [
    "*Explanation*"
   ]
  },
  {
   "cell_type": "markdown",
   "id": "f58ada22",
   "metadata": {},
   "source": [
    "The `Literal` from `typing` is used to specify that a variable or parameter must be one of a specific set of values. However, because Python is a dynamically typed language, which means type hints like `Literal` are not enforced at runtime, we have to install a type-checking tool like `mypy` to make `Literal` effective.\n",
    "\n",
    "The `crop` function is used to remove a specific number of pixels from the edges of the field along the spatial dimensions. And the `pad` function pads the field with a specific number of pixels along the spatial dimensions of the field.\n",
    "\n",
    "The `optical_fft` function multiplies the incoming field with a normalization factor $\\frac{n_{eff}}{i\\lambda z}$ and the calls the `fft` or `ifft` function to compute the Fourier transformation of the field depending on the field's propagation direction. \n",
    "\n",
    "The function `_broadcast_1d_to_grid` broadcast 1D array of size `2` to `(2 B... H W C 1)`:"
   ]
  },
  {
   "cell_type": "code",
   "execution_count": 7,
   "id": "cb046d7c",
   "metadata": {},
   "outputs": [
    {
     "name": "stdout",
     "output_type": "stream",
     "text": [
      "Dimension of the arr array: 1\n",
      "The shape of arr= (2,)\n",
      "The shape of bc_arr: (2, 1, 1, 1, 1, 1)\n",
      "Dimension of the broadcasted array: 6\n",
      "The broadcast array = [[[[[[1]]]]]\n",
      "\n",
      "\n",
      "\n",
      "\n",
      " [[[[[2]]]]]]\n"
     ]
    }
   ],
   "source": [
    "from chromatix.utils import _broadcast_1d_to_grid\n",
    "import jax.numpy as jnp\n",
    "\n",
    "# Create a 1D array with 2 elements\n",
    "arr = jnp.array([1, 2]) \n",
    "print(\"Dimension of the arr array:\", arr.ndim)\n",
    "print(\"The shape of arr=\", arr.shape)\n",
    "\n",
    "# Broadcast the 1D array\n",
    "bc_arr = _broadcast_1d_to_grid(arr, ndim=5)\n",
    "print(\"The shape of bc_arr:\", bc_arr.shape)\n",
    "print(\"Dimension of the broadcasted array:\", bc_arr.ndim)\n",
    "print(\"The broadcast array =\", bc_arr)"
   ]
  },
  {
   "cell_type": "markdown",
   "id": "41558758",
   "metadata": {},
   "source": [
    "The function `_broadcast_1d_to_innermost_batch` broadcast a 1D array of size `b` to left of `(H W)` in `(B... H W C [1 | 3])`:"
   ]
  },
  {
   "cell_type": "code",
   "execution_count": 10,
   "id": "976efb9a",
   "metadata": {},
   "outputs": [
    {
     "name": "stdout",
     "output_type": "stream",
     "text": [
      "Dimension of the arr array: 1\n",
      "The shape of arr= (3,)\n",
      "The shape of bc_arr: (1, 1, 1, 3, 1, 1, 1, 1)\n",
      "Dimension of the broadcasted array: 8\n",
      "The broadcast array = [[[[[[[[1]]]]\n",
      "\n",
      "\n",
      "\n",
      "    [[[[2]]]]\n",
      "\n",
      "\n",
      "\n",
      "    [[[[3]]]]]]]]\n"
     ]
    }
   ],
   "source": [
    "from chromatix.utils import _broadcast_1d_to_innermost_batch\n",
    "import jax.numpy as jnp\n",
    "\n",
    "# Create a 1D array with 3 elements\n",
    "arr = jnp.array([1, 2, 3]) \n",
    "print(\"Dimension of the arr array:\", arr.ndim)\n",
    "print(\"The shape of arr=\", arr.shape)\n",
    "\n",
    "# Broadcast the 1D array\n",
    "bc_arr = _broadcast_1d_to_innermost_batch(arr, ndim=8)\n",
    "print(\"The shape of bc_arr:\", bc_arr.shape)\n",
    "print(\"Dimension of the broadcasted array:\", bc_arr.ndim)\n",
    "print(\"The broadcast array =\", bc_arr)"
   ]
  },
  {
   "cell_type": "markdown",
   "id": "8709461c",
   "metadata": {},
   "source": [
    "The function `l2_sq_norm` returns the sums of squares of the elements in an input array along a certain axis, like $x^2 + y^2 + z^2...$."
   ]
  },
  {
   "cell_type": "markdown",
   "id": "882c1de5",
   "metadata": {},
   "source": [
    "#### **Function 1: transform_propagate**"
   ]
  },
  {
   "cell_type": "markdown",
   "id": "acf96ed8",
   "metadata": {},
   "source": [
    "*Source Code*"
   ]
  },
  {
   "cell_type": "code",
   "execution_count": null,
   "id": "1163beba",
   "metadata": {},
   "outputs": [],
   "source": [
    "def transform_propagate(\n",
    "    field: Field,\n",
    "    z: float,\n",
    "    n: float,\n",
    "    N_pad: Union[int, Tuple[int, int]],\n",
    "    cval: float = 0,\n",
    "    skip_initial_phase: bool = False,\n",
    "    skip_final_phase: bool = False,\n",
    ") -> Field:\n",
    "    \"\"\"\n",
    "    Fresnel propagate ``field`` for a distance ``z`` using transform method.\n",
    "    This method is also called the single-FFT (SFT-FR) Fresnel propagation\n",
    "    method. Note that this method changes the sampling of the resulting field.\n",
    "    If the distance is negative, the field is propagated back to the source\n",
    "    inverting essentially performing an inverse.\n",
    "\n",
    "    Args:\n",
    "        field: ``Field`` to be propagated.\n",
    "        z: Distance to propagate.\n",
    "        n: A float that defines the refractive index of the medium.\n",
    "        N_pad: A keyword argument integer defining the pad length for\n",
    "            the propagation FFT. Use padding calculator utilities from\n",
    "            ``chromatix.functional.propagation`` to compute the padding.\n",
    "            !!! warning\n",
    "                The pad value hould not be a Jax array, otherwise a\n",
    "                ConcretizationError will arise when traced!\n",
    "        cval: The background value to use when padding the Field. Defaults to 0\n",
    "            for zero padding.\n",
    "        skip_initial_phase: Whether to skip the input phase change (before\n",
    "            Fourier transforming). Defaults to False, in which case the input\n",
    "            phase change is not skipped.\n",
    "        skip_final_phase: Whether to skip the output phase change (after Fourier\n",
    "            transforming). Defaults to False, in which case the output phase\n",
    "            change is not skipped.\n",
    "    \"\"\"\n",
    "    field = pad(field, N_pad, cval=cval)\n",
    "    # Fourier normalization factor\n",
    "    L_sq = field.spectrum * z / n\n",
    "    # New field is optical_fft minus -1j factor\n",
    "    if not skip_initial_phase:\n",
    "        # Calculating input phase change (defining Q1)\n",
    "        input_phase = (jnp.pi / L_sq) * l2_sq_norm(field.grid)\n",
    "        field = field * jnp.exp(1j * input_phase)\n",
    "    field = 1j * optical_fft(field, z, n)\n",
    "    # Calculating output phase change (defining Q2)\n",
    "    if not skip_final_phase:\n",
    "        output_phase = (jnp.pi / L_sq) * l2_sq_norm(field.grid)\n",
    "        field = field * jnp.exp(1j * output_phase)\n",
    "    return crop(field, N_pad)"
   ]
  },
  {
   "cell_type": "markdown",
   "id": "890369fc",
   "metadata": {},
   "source": [
    "*Explanation*"
   ]
  },
  {
   "cell_type": "markdown",
   "id": "63336912",
   "metadata": {},
   "source": [
    "This function performs Fresnel propagation of an optical field over a specific distance using the Single-FFT Fresnel Propagation Method (SFT-FR). This method changes the sampling after propagation due to Single-FFT. If the initial sampling rate is:\n",
    "\n",
    "$$\\{x'\\} = \\{0, \\Delta x', 2\\Delta x', ..., (N-1)\\Delta x'\\} \\tag{2.3.48} $$\n",
    "\n",
    "After propagation, the sampling rate becomes:\n",
    "\n",
    "$$\\{x\\} = \\{0, \\frac{\\lambda z}{n_{eff}N\\Delta x'}, \\frac{2\\lambda z}{n_{eff}N\\Delta x'}, ..., \\frac{(N-1)\\lambda z}{n_{eff}N\\Delta x'} \\} \\tag{2.3.49} $$\n",
    "\n",
    "The `field` is an object of the class `Field`, representing a field that is going to be propagated, `z` and `n` representing the propagation distance and the refractive index of the medium.\n",
    "\n",
    "`N_pad` is the padding size for padding the field and `cval` is the constant value used to pad the field. Padding the field before performing FFT can minimize the edge effects and improve the accuracy of FFT.\n",
    "\n",
    "`skip_initial_phase` and `skip_final_phase` decide whether the initial phase and final phase will be skipped when doing FFT. The two arguments exist because the complete Fresnel propagation formula is:\n",
    "\n",
    "$$u_F(x, y, z) = \\frac{n_{eff}e^{ikz}}{i \\lambda z} e^{\\frac{i \\pi n_{eff}}{\\lambda z} (x^2 + y^2)} \\mathcal{F} \\left\\{ u_0(x', y', 0) e^{\\frac{i \\pi n_{eff}}{\\lambda z} (x'^2 + y'^2)} \\right\\} \\bigg|_{f_x = \\frac{n_{eff}x}{\\lambda z}, \\; f_y = \\frac{n_{eff}y}{\\lambda z}} \\tag{2.3.50} $$\n",
    "\n",
    "but `optical_fft` only performs:\n",
    "\n",
    "$$u_F(x, y, z) = \\mathcal{F} \\left\\{ \\frac{n_{eff}}{i \\lambda z} u_0(x', y', 0)\\right\\} \\bigg|_{f_x = \\frac{n_{eff}x}{\\lambda z}, \\; f_y = \\frac{n_{eff}y}{\\lambda z}} \\tag{2.3.51} $$\n",
    "\n",
    "The initial and final quadratic phase factors $\\frac{ \\pi n_{eff}}{\\lambda z} (x'^2 + y'^2)$ and $\\frac{\\pi n_{eff}}{\\lambda z} (x^2 + y^2)$ are ignored since they only describe the wavefront and won't influence the intensity distribution. Therefore, when phase doesn't matter, `skip_initial_phase` and `skip_final_phase` can be `True` to simplify the computation.\n",
    "\n",
    "`field.spectrum` returns the wavelengths of the field, thus `L_sq` corresponds to the $\\frac{\\lambda z}{n_{eff}}$ in the formula above, The first `l2_sq_norm(field.grid)` returns the $x'^2 + y'^2$ and the second `l2_sq_norm(field.grid)` returns $x^2+y^2$."
   ]
  },
  {
   "cell_type": "markdown",
   "id": "9000afa5",
   "metadata": {},
   "source": [
    "#### **Function 2: compute_sas_precompensation**"
   ]
  },
  {
   "cell_type": "markdown",
   "id": "834d1cce",
   "metadata": {},
   "source": [
    "*Source Code*"
   ]
  },
  {
   "cell_type": "code",
   "execution_count": null,
   "id": "38dcda8c",
   "metadata": {},
   "outputs": [],
   "source": [
    "def compute_sas_precompensation(\n",
    "    field: Field,\n",
    "    z: float,\n",
    "    n: float,\n",
    ") -> Field:\n",
    "    sz = np.array(field.spatial_shape)\n",
    "    kz = 2 * z * jnp.pi * n / field.spectrum\n",
    "    s = field.spectrum * field.k_grid / n\n",
    "    s_sq = s**2\n",
    "    N = _broadcast_1d_to_grid(sz, field.ndim)\n",
    "    pad_factor = 2\n",
    "    L = pad_factor * N * field.dx\n",
    "    t = L / pad_factor / jnp.abs(z) + jnp.abs(s)\n",
    "    W = jnp.prod((s_sq * (2 + 1 / t**2) <= 1), axis=0)\n",
    "    H_AS = jnp.sqrt(\n",
    "        jnp.maximum(0, 1 - jnp.sum(s_sq, axis=0))\n",
    "    )  # NOTE(rh): Or cast to complex? Can W be larger than the free-space limit?\n",
    "    H_Fr = 1 - jnp.sum(s_sq, axis=0) / 2\n",
    "    delta_H = W * jnp.exp(1j * kz * (H_AS - H_Fr))\n",
    "    delta_H = jnp.fft.ifftshift(delta_H, axes=field.spatial_dims)\n",
    "    return delta_H"
   ]
  },
  {
   "cell_type": "markdown",
   "id": "ed181362",
   "metadata": {},
   "source": [
    "*Explanation*"
   ]
  },
  {
   "cell_type": "markdown",
   "id": "20253641",
   "metadata": {},
   "source": [
    "This is to compute the precompensation factor $\\delta_H = W \\cdot e^{i\\Delta H}$ used in the Scaled Angular Spectrum (SAS) method for simulating the propagation of optical fields. This factor corrects for errors introduced by scaling approximations (Fresnel approximation) in the SAS method.\n",
    "\n",
    "The Angular Spectrum Method is different from the Fresnel Propagation Method. To calculate propagated field, Fresnel Propagation only Fourier transform the input field, but the Angular Spectrum Method Fourier transforms the input field and multiplies the transformed field with a transfer function, then inverse Fourier transforms the field like the figure below shows:\n",
    "\n",
    "<img src=\"Figures\\Angular Spectrum Method.jpg\" alt=\"Neuron\" width=\"70%\" style=\"display: block; margin: 0 auto;\">\n",
    "\n",
    "And the propagated field can be figured out using the following formula:\n",
    "\n",
    "$$u_F(x,y,z) = \\iint_{-\\infin}^{\\infin}H_F(k_x, k_y;z)U_0(k_x,k_y)\\exp[i(k_xx+k_yy)]dk_xdk_y \\tag{2.3.52} $$\n",
    "\n",
    "where $U_0(k_x, k_y)$ is the Fourier transform of the field at $z=0$, and the transfer function is :\n",
    "\n",
    "$$H_F(k_x, k_y;z) = e^{ik_zz} = \\exp\\left[iz\\sqrt{k_0^2n^2 - k_x^2 -k_y^2} \\right] \n",
    "                            \\\\= \\exp\\left[i\\frac{2\\pi nz}{\\lambda}\\sqrt{1 - \\left(\\frac{f_x^2\\lambda^2}{n^2} +\\frac{f_y^2 \\lambda^2}{n^2}\\right)} \\right] \\tag{2.3.53} $$\n",
    "\n",
    "However, under Fresnel approximation, $\\sqrt{k_0^2n^2 - k_x^2 -k_y^2}$ could be approximated:\n",
    "\n",
    "$$\\sqrt{k_0^2n^2 - k_x^2 -k_y^2} = k_0n\\left(1-\\frac{k_x^2+k_y^2}{2k_0^2n^2} \\right) \\tag{2.3.54} $$\n",
    "\n",
    "Therefore, the transfer function under Fresnel approximation becomes:\n",
    "\n",
    "$$H_{Fr}(k_x, k_y;z) = \\exp\\left\\{ i\\frac{2\\pi nz}{\\lambda}\\left[1 - \\left(\\frac{f_x^2\\lambda^2}{2n^2} +\\frac{f_y^2 \\lambda^2}{2n^2}\\right)\\right] \\right\\} \\tag{2.3.55}$$\n",
    "\n",
    "As the formula shows, there is a phase difference $\\Delta H$ between the exact trnasfer function $H_F$ and the approximated transfer function $H_{Fr}$:\n",
    "\n",
    "$$\\Delta H = \\frac{2\\pi nz}{\\lambda} \\cdot \\left\\{ \\sqrt{1 - \\left(\\frac{f_x^2\\lambda^2}{n^2} +\\frac{f_y^2 \\lambda^2}{n^2}\\right)} - \\left[1 - \\left(\\frac{f_x^2\\lambda^2}{2n^2} +\\frac{f_y^2 \\lambda^2}{2n^2}\\right)\\right] \\right\\} \\tag{2.3.56}$$\n",
    "\n",
    "According to this equation, we can figure out the precompensation factor $\\delta_H = W \\cdot e^{i\\Delta H}$. Besides, the $W$ is window function that masks out regions where the approximation is invalid.\n",
    "\n",
    "In the code, `field.spatial_shape` returns the height and width of the field, so `sz` retirevs the spatial dimensions of the input field.\n",
    "\n",
    "The `kz` represents the constant $\\frac{2\\pi nz}{\\lambda}$ in the previous formulas. The `field.k_grid` returns the frequency grid for each spatial dimension as an array of shape `(2 B... H W C 1)`, so `s_sq = s**2` computes $\\frac{f_x^2\\lambda^2}{n^2}$ and $\\frac{f_y^2 \\lambda^2}{n^2}$"
   ]
  },
  {
   "cell_type": "code",
   "execution_count": 24,
   "id": "1c3017ce",
   "metadata": {},
   "outputs": [
    {
     "name": "stdout",
     "output_type": "stream",
     "text": [
      "sz = [3 3]\n",
      "The spatial shape of the field = (3, 3)\n",
      "The shape of the frequency grid = (2, 1, 3, 3, 1, 1)\n"
     ]
    }
   ],
   "source": [
    "from chromatix.field import Field\n",
    "import jax.numpy as jnp\n",
    "u = jnp.array([[1, 2, 3],\n",
    "               [4, 5, 6],\n",
    "               [7, 8, 9]])\n",
    "u = u.reshape(1, 3, 3, 1, 1)\n",
    "u = u.astype(jnp.complex64)\n",
    "\n",
    "_dx = jnp.array([[0.1], [0.1]])\n",
    "\n",
    "_spectrum = jnp.array([0.55])\n",
    "\n",
    "_spectral_density = jnp.array([1.0])\n",
    "_spectral_density = _spectral_density.reshape(1, 1, 1, 1, 1)\n",
    "\n",
    "field = Field(\n",
    "    u = u,\n",
    "    _dx = _dx,\n",
    "    _spectrum = _spectrum,\n",
    "    _spectral_density = _spectral_density,\n",
    ")\n",
    "\n",
    "sz = jnp.array(field.spatial_shape)\n",
    "print(\"sz =\", sz)\n",
    "print(\"The spatial shape of the field =\", field.spatial_shape)\n",
    "print(\"The shape of the frequency grid =\", field.k_grid.shape)"
   ]
  },
  {
   "cell_type": "code",
   "execution_count": 20,
   "id": "dd886efd",
   "metadata": {},
   "outputs": [
    {
     "name": "stdout",
     "output_type": "stream",
     "text": [
      "The frequency grid of the field =\n",
      " [[[[[[-5.       ]]\n",
      "\n",
      "    [[-5.       ]]\n",
      "\n",
      "    [[-5.       ]]]\n",
      "\n",
      "\n",
      "   [[[-1.6666666]]\n",
      "\n",
      "    [[-1.6666666]]\n",
      "\n",
      "    [[-1.6666666]]]\n",
      "\n",
      "\n",
      "   [[[ 1.6666666]]\n",
      "\n",
      "    [[ 1.6666666]]\n",
      "\n",
      "    [[ 1.6666666]]]]]\n",
      "\n",
      "\n",
      "\n",
      "\n",
      " [[[[[-5.       ]]\n",
      "\n",
      "    [[-1.6666666]]\n",
      "\n",
      "    [[ 1.6666666]]]\n",
      "\n",
      "\n",
      "   [[[-5.       ]]\n",
      "\n",
      "    [[-1.6666666]]\n",
      "\n",
      "    [[ 1.6666666]]]\n",
      "\n",
      "\n",
      "   [[[-5.       ]]\n",
      "\n",
      "    [[-1.6666666]]\n",
      "\n",
      "    [[ 1.6666666]]]]]]\n"
     ]
    }
   ],
   "source": [
    "print(\"The frequency grid of the field =\\n\", field.k_grid)"
   ]
  },
  {
   "cell_type": "code",
   "execution_count": 28,
   "id": "cdb19161",
   "metadata": {},
   "outputs": [
    {
     "name": "stdout",
     "output_type": "stream",
     "text": [
      "s =\n",
      " [[[[[[-2.0676692 ]]\n",
      "\n",
      "    [[-2.0676692 ]]\n",
      "\n",
      "    [[-2.0676692 ]]]\n",
      "\n",
      "\n",
      "   [[[-0.68922305]]\n",
      "\n",
      "    [[-0.68922305]]\n",
      "\n",
      "    [[-0.68922305]]]\n",
      "\n",
      "\n",
      "   [[[ 0.68922305]]\n",
      "\n",
      "    [[ 0.68922305]]\n",
      "\n",
      "    [[ 0.68922305]]]]]\n",
      "\n",
      "\n",
      "\n",
      "\n",
      " [[[[[-2.0676692 ]]\n",
      "\n",
      "    [[-0.68922305]]\n",
      "\n",
      "    [[ 0.68922305]]]\n",
      "\n",
      "\n",
      "   [[[-2.0676692 ]]\n",
      "\n",
      "    [[-0.68922305]]\n",
      "\n",
      "    [[ 0.68922305]]]\n",
      "\n",
      "\n",
      "   [[[-2.0676692 ]]\n",
      "\n",
      "    [[-0.68922305]]\n",
      "\n",
      "    [[ 0.68922305]]]]]]\n"
     ]
    }
   ],
   "source": [
    "n = 1.33\n",
    "s = field.spectrum * field.k_grid / n\n",
    "print(\"s =\\n\", s)"
   ]
  },
  {
   "cell_type": "markdown",
   "id": "8161e6e1",
   "metadata": {},
   "source": [
    "The parameters `N`, `pad_factor`, `L`, and `t` are for creating the windows function `W`. The `N` represents the number of grid points along each spatial dimension, `pad_factor` is used for zero-padding, and `L` is the physical size of the computational grid after padding. The `t` combines grid size, propagation distance and scaled spatial frequencies to define the windows function `W`. The mathematical expression for `t` is:\n",
    "\n",
    "$$ \\text{t} = \\frac{L}{\\text{pad\\_factor} \\times \\left|z\\right|} + \\left|s\\right| \\tag{2.3.57}$$\n",
    "\n",
    "and the mathematical expression for the windows function:\n",
    "\n",
    "$$W = \\begin{cases} \n",
    "1 & \\text{if } |s|^2 \\left( 2 + \\frac{1}{t^2} \\right) \\leq 1, \\\\\n",
    "0 & \\text{otherwise}.\n",
    "\\end{cases} \\tag{2.3.58} $$"
   ]
  },
  {
   "cell_type": "code",
   "execution_count": 22,
   "id": "98e25636",
   "metadata": {},
   "outputs": [
    {
     "name": "stdout",
     "output_type": "stream",
     "text": [
      "N =  [[[[[[3]]]]]\n",
      "\n",
      "\n",
      "\n",
      "\n",
      " [[[[[3]]]]]]\n"
     ]
    }
   ],
   "source": [
    "from chromatix.utils import _broadcast_1d_to_grid\n",
    "N = _broadcast_1d_to_grid(sz, field.ndim)\n",
    "print(\"N = \", N)"
   ]
  },
  {
   "cell_type": "code",
   "execution_count": 35,
   "id": "19686dd1",
   "metadata": {},
   "outputs": [
    {
     "name": "stdout",
     "output_type": "stream",
     "text": [
      " The physical size L =  [[[[[[0.6]]]]]\n",
      "\n",
      "\n",
      "\n",
      "\n",
      " [[[[[0.6]]]]]]\n",
      "The Windows function W =\n",
      " [[[[[0]]\n",
      "\n",
      "   [[0]]\n",
      "\n",
      "   [[0]]]\n",
      "\n",
      "\n",
      "  [[[0]]\n",
      "\n",
      "   [[0]]\n",
      "\n",
      "   [[0]]]\n",
      "\n",
      "\n",
      "  [[[0]]\n",
      "\n",
      "   [[0]]\n",
      "\n",
      "   [[0]]]]]\n"
     ]
    }
   ],
   "source": [
    "pad_factor = 2\n",
    "L = pad_factor * N * field.dx\n",
    "print(\" The physical size L = \", L)\n",
    "z = 20\n",
    "s_sq = s**2\n",
    "\n",
    "t = L / pad_factor / jnp.abs(z) + jnp.abs(s)\n",
    "W = jnp.prod((s_sq * (2 + 1 / t**2) <= 1), axis=0)\n",
    "print(\"The Windows function W =\\n\", W)"
   ]
  },
  {
   "cell_type": "markdown",
   "id": "02d1dfe6",
   "metadata": {},
   "source": [
    "The `jnp.sum(s_sq, axis=0)` returns the $\\frac{f_x^2\\lambda^2}{n^2} +\\frac{f_y^2 \\lambda^2}{n^2}$ term, so the `H_AS` and the `H_Fr` are the corresponding terms in the formula $2.3.56$ but without the factor $1/4\\pi^2$. Finally, the precompensation factor `delta_H` is computed and shifted by `jnp.fft.ifftshift()` function, which aligns the zero frequency component appropriately for the Fourier transform."
   ]
  },
  {
   "cell_type": "markdown",
   "id": "5090b42c",
   "metadata": {},
   "source": [
    "#### **Function 3: kernel propagate**"
   ]
  },
  {
   "cell_type": "markdown",
   "id": "147b858d",
   "metadata": {},
   "source": [
    "*Source Code*"
   ]
  },
  {
   "cell_type": "code",
   "execution_count": null,
   "id": "7062fabd",
   "metadata": {},
   "outputs": [],
   "source": [
    "def kernel_propagate(field: Field, propagator: Array) -> Field:\n",
    "    \"\"\"\n",
    "    Propagate an incoming ``Field`` by the given propagation kernel\n",
    "    (``propagator``). This amounts to performing a Fourier convolution of the\n",
    "    ``field`` and the ``propagator``.\n",
    "    \"\"\"\n",
    "    axes = field.spatial_dims\n",
    "    u = ifft(fft(field.u, axes=axes) * propagator, axes=axes)\n",
    "    return field.replace(u=u)"
   ]
  },
  {
   "cell_type": "markdown",
   "id": "2a45d8c7",
   "metadata": {},
   "source": [
    "*Explanation*"
   ]
  },
  {
   "cell_type": "markdown",
   "id": "8a57a967",
   "metadata": {},
   "source": [
    "This function simulates the formula $2.3.52$ to propagate a field using a given propagator. The propagator is actually the transfer function $H_F$. The `fft(field.u, axes=axes)` compute the Fourier transform of the field result in the $U_0(k_x, k_y)$. After the propagation in the Fourier space, the field is applied the inverse Fourier transform to the real space, so that the propagated field is figured out.\n",
    "\n",
    "The `field.spatial_dims` returns the dimensions representing the height and width of the field."
   ]
  },
  {
   "cell_type": "markdown",
   "id": "2c28b89c",
   "metadata": {},
   "source": [
    "#### **Function 4: transform_propagate_sas**"
   ]
  },
  {
   "cell_type": "markdown",
   "id": "f29cf2f9",
   "metadata": {},
   "source": [
    "*Source Code*"
   ]
  },
  {
   "cell_type": "code",
   "execution_count": null,
   "id": "e2c82331",
   "metadata": {},
   "outputs": [],
   "source": [
    "def transform_propagate_sas(\n",
    "    field: Field,\n",
    "    z: float,\n",
    "    n: float,\n",
    "    cval: float = 0,\n",
    "    skip_initial_phase: bool = False,\n",
    "    skip_final_phase: bool = False,\n",
    ") -> Field:\n",
    "    \"\"\"\n",
    "    Propagate ``field`` for a distance ``z`` using the scalable angular spectrum\n",
    "    (SAS) method. See https://doi.org/10.1364/OPTICA.497809 It changes the\n",
    "    pixelsize like the transform method, but it is more accurate because it\n",
    "    precompensates the phase error. Since it uses three FFTS, it is slower\n",
    "    than the transform method. Note that the field is automatically padded by a\n",
    "    factor of 2, so the pixelsize is halved.\n",
    "\n",
    "    Note also that a negative propagation distance causes the code to apply\n",
    "    the inverse propagation, i.e. propagating by a positive ``z`` and then\n",
    "    a negative ``z`` would propagate you back to the original ``field``. In\n",
    "    the negative ``z`` case the order of single step Fresnel propagation and\n",
    "    precompensation is reversed.\n",
    "\n",
    "    Args:\n",
    "        field: ``Field`` to be propagated.\n",
    "        z: Distance to propagate.\n",
    "        n: A float that defines the refractive index of the medium.\n",
    "        cval: The background value to use when padding the Field. Defaults to 0\n",
    "            for zero padding.\n",
    "        skip_initial_phase: Whether to skip the input phase change (before\n",
    "            Fourier transforming). Defaults to False, in which case the input\n",
    "            phase change is not skipped.\n",
    "        skip_final_phase: Whether to skip the output phase change (after Fourier\n",
    "            transforming). Defaults to False, in which case the output phase\n",
    "            change is not skipped.\n",
    "    \"\"\"\n",
    "    # Don't change this pad_factor, only 2 is supported\n",
    "    pad_factor = 2\n",
    "    sz = np.array(field.spatial_shape)\n",
    "    N_pad = sz // pad_factor\n",
    "    field = pad(field, N_pad, cval=cval)\n",
    "\n",
    "    def _forward(field: Field, z) -> Tuple[Array, Array]:\n",
    "        delta_H = compute_sas_precompensation(field, z, n)\n",
    "        field = kernel_propagate(field, delta_H)\n",
    "        field = transform_propagate(\n",
    "            field, z, n, 0, 0, skip_initial_phase, skip_final_phase\n",
    "        )\n",
    "        return field.u, field._dx\n",
    "\n",
    "    def _inverse(field: Field, z) -> Tuple[Array, Array]:\n",
    "        field = transform_propagate(\n",
    "            field, z, n, 0, 0, skip_initial_phase, skip_final_phase\n",
    "        )\n",
    "        delta_H = compute_sas_precompensation(field, z, n)\n",
    "        field = kernel_propagate(field, delta_H)\n",
    "        return field.u, field._dx\n",
    "\n",
    "    u, _dx = jax.lax.cond(z >= 0, _forward, _inverse, field, z)\n",
    "    field = field.replace(u=u, _dx=_dx)\n",
    "    return crop(field, N_pad)"
   ]
  },
  {
   "cell_type": "markdown",
   "id": "b5af3f73",
   "metadata": {},
   "source": [
    "*Explanation*"
   ]
  },
  {
   "cell_type": "markdown",
   "id": "73254954",
   "metadata": {},
   "source": [
    "This function offers a method to do the single-FFT Fresnel propagation method (the function `transfor_propagate`) with the precompensation factor `delta_H` returned by the function `compute_sas_precompensation`.\n",
    "\n",
    "The first four lines pad the field with a padding size `N_pad` which is determined by the spatial shape of the field and a constant value `cval`. Padding zeros around the data is useful to avoid edge effects for FFT-based operations. \n",
    "\n",
    "Edge effects are often artifacts or distortions that occur at the edges of a wave field or image during Fourier transforms. The Fourier transform assumes that the input data is periodic, meaning that the values at the right edge wrap around to the left edge, so the edges can create high-frequency artifacts in the frequency domain due to the umsmooth transition from the last to the first value.\n",
    "\n",
    "Inside the function, two nested functions `_forward` and `_inverse` are defined for forward propagation and inverse propagation, respectively. These two functions can be regarded as propagating the field twice. The `_forwward` function propagate the field with the function `kernel_propagate` with the propagator `delta_H`, this is for compensating the difference due to Fresnel approximation. Then it calls the `transform_propagate` to do the \"real\" propagation. The `_inverse` function does the same thing but inversely.\n",
    "\n",
    "Here is how to call a function with nested functions:"
   ]
  },
  {
   "cell_type": "code",
   "execution_count": 40,
   "id": "5c72174d",
   "metadata": {},
   "outputs": [
    {
     "name": "stdout",
     "output_type": "stream",
     "text": [
      "The result is: (5, 6)\n",
      "The result of the first nested function is 5\n",
      "The result of the first nested function is 6\n"
     ]
    }
   ],
   "source": [
    "import numpy as np\n",
    "\n",
    "def plus_and_times(x, y):\n",
    "    def plus(x, y):\n",
    "        return x + y\n",
    "    def times(x, y):\n",
    "        return x * y\n",
    "\n",
    "    sum = plus(x, y)\n",
    "    product = times(x, y)\n",
    "    return sum, product\n",
    "\n",
    "result = plus_and_times(2, 3)\n",
    "print(\"The result is:\", result)\n",
    "print(\"The result of the first nested function is\", result[0])\n",
    "print(\"The result of the first nested function is\", result[1])"
   ]
  },
  {
   "cell_type": "markdown",
   "id": "2e05e76f",
   "metadata": {},
   "source": [
    "In this case, we can manually output the results. The source code conditionally chooses the nested functions depending on the sign of the `z`. The `jax.lax.cond()` returns the `_forward(field, z)` if `z >= 0` is `True`, otherwise it returns the `_inverse(field, z)`.\n",
    "\n",
    "Using `jax.lax.cond()` instead of `if-else` is necessary to avoid JAX to lose track of the computation flow during tracing."
   ]
  },
  {
   "cell_type": "markdown",
   "id": "bcad3fcc",
   "metadata": {},
   "source": [
    "#### **Function 5: compute_transfer_propagator**"
   ]
  },
  {
   "cell_type": "markdown",
   "id": "2dda0e5e",
   "metadata": {},
   "source": [
    "*Source Code*"
   ]
  },
  {
   "cell_type": "code",
   "execution_count": null,
   "id": "50c883f7",
   "metadata": {},
   "outputs": [],
   "source": [
    "def compute_transfer_propagator(\n",
    "    field: Field,\n",
    "    z: Union[float, Array],\n",
    "    n: float,\n",
    "    kykx: Union[Array, Tuple[float, float]] = (0.0, 0.0),\n",
    ") -> Array:\n",
    "    \"\"\"\n",
    "    Compute propagation kernel for Fresnel propagation.\n",
    "    Returns an array that can be multiplied with the Fourier transform of the\n",
    "    incoming Field, as performed by kernel_propagate.\n",
    "\n",
    "    Args:\n",
    "        field: ``Field`` to be propagated.\n",
    "        z: Distance(s) to propagate, either a float or a 1D array.\n",
    "        n: A float that defines the refractive index of the medium.\n",
    "        kykx: If provided, defines the orientation of the propagation. Should\n",
    "            be an array of shape `[2,]` in the format `[ky, kx]`.\n",
    "    \"\"\"\n",
    "    kykx = _broadcast_1d_to_grid(kykx, field.ndim)\n",
    "    z = _broadcast_1d_to_innermost_batch(z, field.ndim)\n",
    "    phase = -jnp.pi * (field.spectrum / n) * z * l2_sq_norm(field.k_grid - kykx)\n",
    "    return jnp.fft.ifftshift(jnp.exp(1j * phase), axes=field.spatial_dims)"
   ]
  },
  {
   "cell_type": "markdown",
   "id": "aeb94356",
   "metadata": {},
   "source": [
    "*Explanation*"
   ]
  },
  {
   "cell_type": "markdown",
   "id": "8eb58cf3",
   "metadata": {},
   "source": [
    "This function computes the propagation kernel (transfer function) for the Fresnel propagation. Normally, Fresnel propagation method propagates a field along the $z$ axis, this function offers a way to propagate a field off the $z$ axis by introducing an array `kykx` which represents the components of the spatial frequency $(f_{x0}, f_{y0})$ along the $x$ axis and the $y$ axis.\n",
    "\n",
    "The `kykx` and the `z` are broadcast to arrays of the same number of dimensions with the input field by calling the functions `_broadcast_1d_to_grid` and `_broadcast_1d_to_innermost_batch`:"
   ]
  },
  {
   "cell_type": "code",
   "execution_count": 9,
   "id": "e26ec746",
   "metadata": {},
   "outputs": [
    {
     "name": "stdout",
     "output_type": "stream",
     "text": [
      "The shape of the field = (1, 3, 3, 1, 1)\n",
      "The shape of the kykx = (2,)\n",
      "The shape of the z = (1,)\n",
      "The shape of the broadcast kykx = (2, 1, 1, 1, 1, 1)\n",
      "The shape of the broadcast z = (1, 1, 1, 1, 1)\n"
     ]
    }
   ],
   "source": [
    "from chromatix.field import Field\n",
    "import jax.numpy as jnp\n",
    "from chromatix.utils import _broadcast_1d_to_grid, _broadcast_1d_to_innermost_batch\n",
    "\n",
    "u = jnp.array([[1, 2, 3],\n",
    "                [4, 5, 6],\n",
    "                [7, 8, 9]])\n",
    "u = u.reshape(1, 3, 3, 1, 1)\n",
    "u = u.astype(jnp.complex64)\n",
    "\n",
    "field = Field(\n",
    "    u = u,\n",
    "    _dx = jnp.array([[0.1], [0.1]]),\n",
    "    _spectrum = jnp.array([0.55]),\n",
    "    _spectral_density = jnp.array([1.0]),\n",
    ")\n",
    "\n",
    "print(\"The shape of the field =\", field.shape)\n",
    "\n",
    "kykx = jnp.array([0.05, 0.05])\n",
    "print(\"The shape of the kykx =\", kykx.shape)\n",
    "\n",
    "z = jnp.array([10])\n",
    "print(\"The shape of the z =\", z.shape)\n",
    "\n",
    "print(\"The shape of the broadcast kykx =\", _broadcast_1d_to_grid(kykx, field.ndim).shape)\n",
    "print(\"The shape of the broadcast z =\", _broadcast_1d_to_innermost_batch(z, field.ndim).shape)"
   ]
  },
  {
   "cell_type": "markdown",
   "id": "733ff837",
   "metadata": {},
   "source": [
    "The parameter `phase` calculates the latter part of the phase of the transfer function in Fresnel approximation $2.3.55$:\n",
    "\n",
    "$$\\frac{2\\pi nz}{\\lambda}\\left[1 - \\left(\\frac{f_x^2\\lambda^2}{2n^2} +\\frac{f_y^2 \\lambda^2}{2n^2}\\right)\\right] =  \\frac{2\\pi nz}{\\lambda} - \\frac{\\pi \\lambda z}{n}  \\cdot \\left(f_x^2 + f_y^2 \\right)\\tag{2.3.59}$$\n",
    "\n",
    "$$ \\text{phase} = -\\frac{\\pi \\lambda z}{n}\\left[ \\left(f_x - f_{x_0}\\right)^2 + \\left(f_y - f_{y_0}\\right)^2 \\right] \\tag{2.3.60}$$\n",
    "\n",
    "The `jnp.fft.ifftshift()` function is used to shift the freqency components at the center to the top-left corner of the array. And the `jnp.exp(1j*phase)` computes the propagation kernel. So, the propagation kernel is computed and shifted to the top-left corner which is necessary for FFT and iFFT."
   ]
  },
  {
   "cell_type": "markdown",
   "id": "1cdd5ef7",
   "metadata": {},
   "source": [
    "#### **Function 6: transfer_propagate**"
   ]
  },
  {
   "cell_type": "markdown",
   "id": "c5872bf4",
   "metadata": {},
   "source": [
    "*Source Code*"
   ]
  },
  {
   "cell_type": "code",
   "execution_count": null,
   "id": "765a1a19",
   "metadata": {},
   "outputs": [],
   "source": [
    "def transfer_propagate(\n",
    "    field: Field,\n",
    "    z: Union[float, Array],\n",
    "    n: float,\n",
    "    N_pad: int,\n",
    "    cval: float = 0,\n",
    "    kykx: Union[Array, Tuple[float, float]] = (0.0, 0.0),\n",
    "    mode: Literal[\"full\", \"same\"] = \"full\",\n",
    ") -> Field:\n",
    "    \"\"\"\n",
    "    Fresnel propagate ``field`` for a distance ``z`` using transfer method. This\n",
    "    method is also called the convolutional Fresnel propagation (CV-FR) method.\n",
    "\n",
    "    Args:\n",
    "        field: ``Field`` to be propagated.\n",
    "        z: Distance(s) to propagate, either a float or a 1D array.\n",
    "        n: A float that defines the refractive index of the medium.\n",
    "        N_pad: A keyword argument integer defining the pad length for\n",
    "            the propagation FFT. Use padding calculator utilities from\n",
    "            ``chromatix.functional.propagation`` to compute the padding.\n",
    "            !!! warning\n",
    "                The pad value hould not be a Jax array, otherwise a\n",
    "                ConcretizationError will arise when traced!\n",
    "        cval: The background value to use when padding the Field. Defaults to 0\n",
    "            for zero padding.\n",
    "        kykx: If provided, defines the orientation of the propagation. Should\n",
    "            be an array of shape `[2,]` in the format [ky, kx].\n",
    "        mode: Either \"full\" or \"same\". If \"same\", the shape of the output\n",
    "            ``Field`` will match the shape of the incoming ``Field``. Defaults\n",
    "            to \"full\", in which case the output shape will include padding.\n",
    "    \"\"\"\n",
    "    field = pad(field, N_pad, cval=cval)\n",
    "    propagator = compute_transfer_propagator(field, z, n, kykx)\n",
    "    field = kernel_propagate(field, propagator)\n",
    "    if mode == \"same\":\n",
    "        field = crop(field, N_pad)\n",
    "    return field"
   ]
  },
  {
   "cell_type": "markdown",
   "id": "7ef57b00",
   "metadata": {},
   "source": [
    "*Explanation*"
   ]
  },
  {
   "cell_type": "markdown",
   "id": "c4c29679",
   "metadata": {},
   "source": [
    "This function simply calls the function `compute_transfer_porpgator` to compute the propagator and the function `kernel_propgate` to compute the propagated field.\n",
    "\n",
    "Because the function `compute_transfer_propagator` computes the propagator under Fresnel approximation, this function can only be applied when the condition of the Fourier approximation is met. To determine whether the condition is met, we can calculate the Fresnel number $N_F$:\n",
    "\n",
    "$$ N_F = \\frac{a^2}{L\\lambda} \\tag{2.3.61} $$\n",
    "\n",
    "where $a$ is the characteristic size (e.g. radius) of the aperture $L$ is the distance of the propagation, and $\\lambda$ is the wavelength of the field. The approximation works well when $N_F$ is approximately $1$."
   ]
  },
  {
   "cell_type": "markdown",
   "id": "749bc3c3",
   "metadata": {},
   "source": [
    "#### **Function 7: compute_exact_propagator**"
   ]
  },
  {
   "cell_type": "markdown",
   "id": "502c35dd",
   "metadata": {},
   "source": [
    "*Source Code*"
   ]
  },
  {
   "cell_type": "code",
   "execution_count": null,
   "id": "0f8eaa92",
   "metadata": {},
   "outputs": [],
   "source": [
    "def compute_exact_propagator(\n",
    "    field: Field,\n",
    "    z: Union[float, Array],\n",
    "    n: float,\n",
    "    kykx: Union[Array, Tuple[float, float]] = (0.0, 0.0),\n",
    ") -> Array:\n",
    "    \"\"\"\n",
    "    Compute propagation kernel for propagation with no Fresnel approximation.\n",
    "\n",
    "    This version of the propagation kernel removes evanescent waves. Returns\n",
    "    an array that can be multiplied with the Fourier transform of the incoming\n",
    "    Field, as performed by kernel_propagate.\n",
    "\n",
    "    Args:\n",
    "        field: ``Field`` to be propagated.\n",
    "        z: Distance(s) to propagate, either a float or an array of shape (Z 1\n",
    "            1 1).\n",
    "        n: A float that defines the refractive index of the medium.\n",
    "        kykx: If provided, defines the orientation of the propagation. Should\n",
    "            be an array of shape `[2,]` in the format `[ky, kx]`.\n",
    "    \"\"\"\n",
    "    kykx = _broadcast_1d_to_grid(kykx, field.ndim)\n",
    "    z = _broadcast_1d_to_innermost_batch(z, field.ndim)\n",
    "    kernel = 1 - (field.spectrum / n) ** 2 * l2_sq_norm(field.k_grid - kykx)\n",
    "    kernel = jnp.maximum(kernel, 0.0)  # removing evanescent waves\n",
    "    phase = 2 * jnp.pi * (jnp.abs(z) * n / field.spectrum) * jnp.sqrt(kernel)\n",
    "    kernel_field = jnp.where(z >= 0, jnp.exp(1j * phase), jnp.conj(jnp.exp(1j * phase)))\n",
    "    return jnp.fft.ifftshift(kernel_field, axes=field.spatial_dims)"
   ]
  },
  {
   "cell_type": "markdown",
   "id": "21bf99aa",
   "metadata": {},
   "source": [
    "*Explanation*"
   ]
  },
  {
   "cell_type": "markdown",
   "id": "55f71b72",
   "metadata": {},
   "source": [
    "This is to compute the transfer function $2.3.53$. `kykx` and `z` are broadcast for the same reason as in the `compute_transfer_propagator` function. The `kernel` is given by:\n",
    "\n",
    "$$\\text{kernel} = 1 - \\frac{\\lambda^2}{n^2} \\left[(f_x - f_{x0})^2 + (f_y - f_{y0})^2 \\right] \\tag{2.3.62} $$\n",
    "\n",
    "So that, the `phase` is given by:\n",
    "\n",
    "$$ \\text{phase} =\\frac{2\\pi nz}{\\lambda}\\sqrt{1 - \\frac{\\lambda^2}{n^2} \\left[(f_x - f_{x0})^2 + (f_y - f_{y0})^2 \\right]} \\tag{2.3.63} $$\n",
    "\n",
    "Since we take the square root of the `kernel`, the `kernel` must not be less than $0$ (`jnp.maximum(kernel, 0.0)`). Otherwise, fields become evanescent fields which decay exponentially.\n",
    "\n",
    "The `kernel_field` calculates the transfer function depending on the sign of `z`. `z >= 0` means that the field propagates forward, so the transfer function is calculated by `jnp.exp(1j*phase)`. And if `z < 0`, then the field propagates backward, so the transfer function is calculated by `jnp.conj(jnp.exp(1j/phase))`, which takes the conjugate of the transfer function to match the fact that the field propagates backward.\n",
    "\n",
    "The `jnp.fft.ifftshift()` shifts the central frequency components to the top-left corner since both FFT and iFFT require the start of calculation to be in the beginning of the array which is the top-left corner. For example:"
   ]
  },
  {
   "cell_type": "code",
   "execution_count": 5,
   "id": "9c39b47a",
   "metadata": {},
   "outputs": [
    {
     "name": "stdout",
     "output_type": "stream",
     "text": [
      "The ifftshifted array = \n",
      " [[5 6 4]\n",
      " [8 9 7]\n",
      " [2 3 1]]\n"
     ]
    }
   ],
   "source": [
    "import jax.numpy as jnp\n",
    "\n",
    "arr = jnp.array([[1, 2, 3],\n",
    "                [4, 5, 6],\n",
    "                [7, 8, 9]])\n",
    "\n",
    "ifftshift_arr = jnp.fft.ifftshift(arr)\n",
    "print(\"The ifftshifted array = \\n\", ifftshift_arr)"
   ]
  },
  {
   "cell_type": "markdown",
   "id": "52772f5f",
   "metadata": {},
   "source": [
    "The `5` at the center is shifted to the top-left corner. Inversely, the `jnp.fft.fftshift` shifts the elements in the top-left corner back to the center:"
   ]
  },
  {
   "cell_type": "code",
   "execution_count": 7,
   "id": "8f0c2249",
   "metadata": {},
   "outputs": [
    {
     "name": "stdout",
     "output_type": "stream",
     "text": [
      "The then fftshifted array = \n",
      " [[1 2 3]\n",
      " [4 5 6]\n",
      " [7 8 9]]\n"
     ]
    }
   ],
   "source": [
    "fftshift_ifftshift_arr = jnp.fft.fftshift(ifftshift_arr)\n",
    "\n",
    "print(\"The then fftshifted array = \\n\", fftshift_ifftshift_arr)"
   ]
  },
  {
   "cell_type": "markdown",
   "id": "62820cb3",
   "metadata": {},
   "source": [
    "#### **Function 8: exact_propagate**"
   ]
  },
  {
   "cell_type": "markdown",
   "id": "ff1aca8c",
   "metadata": {},
   "source": [
    "*Source Code*"
   ]
  },
  {
   "cell_type": "code",
   "execution_count": null,
   "id": "223f7849",
   "metadata": {},
   "outputs": [],
   "source": [
    "def exact_propagate(\n",
    "    field: Field,\n",
    "    z: Union[float, Array],\n",
    "    n: float,\n",
    "    N_pad: int,\n",
    "    cval: float = 0,\n",
    "    kykx: Union[Array, Tuple[float, float]] = (0.0, 0.0),\n",
    "    mode: Literal[\"full\", \"same\"] = \"full\",\n",
    ") -> Field:\n",
    "    \"\"\"\n",
    "    Propagate ``field`` for a distance ``z`` using exact transfer method.\n",
    "\n",
    "    This method removes evanescent waves.\n",
    "\n",
    "    Args:\n",
    "        field: ``Field`` to be propagated.\n",
    "        z: Distance(s) to propagate, either a float or a 1D array.\n",
    "        n: A float that defines the refractive index of the medium.\n",
    "        N_pad: A keyword argument integer defining the pad length for\n",
    "            the propagation FFT. Use padding calculator utilities from\n",
    "            ``chromatix.functional.propagation`` to compute the padding.\n",
    "            !!! warning\n",
    "                The pad value hould not be a Jax array, otherwise a\n",
    "                ConcretizationError will arise when traced!\n",
    "        cval: The background value to use when padding the Field. Defaults to 0\n",
    "            for zero padding.\n",
    "        kykx: If provided, defines the orientation of the propagation. Should\n",
    "            be an array of shape `[2,]` in the format [ky, kx].\n",
    "        mode: Either \"full\" or \"same\". If \"same\", the shape of the output\n",
    "            ``Field`` will match the shape of the incoming ``Field``. Defaults\n",
    "            to \"full\", in which case the output shape will include padding.\n",
    "    \"\"\"\n",
    "    field = pad(field, N_pad, cval=cval)\n",
    "    propagator = compute_exact_propagator(field, z, n, kykx)\n",
    "    field = kernel_propagate(field, propagator)\n",
    "    if mode == \"same\":\n",
    "        field = crop(field, N_pad)\n",
    "    return field\n"
   ]
  },
  {
   "cell_type": "markdown",
   "id": "b6c33437",
   "metadata": {},
   "source": [
    "*Explanation*"
   ]
  },
  {
   "cell_type": "markdown",
   "id": "43361ff6",
   "metadata": {},
   "source": [
    "Like the `transfer_propagate` function, this function is only responsible for padding the field and calling the functions `compute_exact_propagator` and `kernel_propagate` to calculate the propagated field, then cropping the field so that it has the same size as the original field.\n",
    "\n",
    "Since the exact propagator is calculated in no approximation, this function can be applied without any restrictions."
   ]
  },
  {
   "cell_type": "markdown",
   "id": "0b63a628",
   "metadata": {},
   "source": [
    "#### **Function 9: compute_asm_propagator**"
   ]
  },
  {
   "cell_type": "markdown",
   "id": "e2246e31",
   "metadata": {},
   "source": [
    "*Source Code*"
   ]
  },
  {
   "cell_type": "code",
   "execution_count": null,
   "id": "2767955c",
   "metadata": {},
   "outputs": [],
   "source": [
    "def compute_asm_propagator(\n",
    "    field: Field,\n",
    "    z: Union[float, Array],\n",
    "    n: float,\n",
    "    kykx: Union[Array, Tuple[float, float]] = (0.0, 0.0),\n",
    "    bandlimit: bool = False,\n",
    "    shift_yx: Union[Array, Tuple[float, float]] = (0.0, 0.0),\n",
    ") -> Array:\n",
    "    \"\"\"\n",
    "    Compute propagation kernel for propagation with no Fresnel approximation.\n",
    "\n",
    "    This version of the propagation kernel does not remove evanescent waves,\n",
    "    as per the definition of the angular spectrum method. Returns an array\n",
    "    that can be multiplied with the Fourier transform of the incoming Field, as\n",
    "    performed by kernel_propagate.\n",
    "\n",
    "    Args:\n",
    "        field: ``Field`` to be propagated.\n",
    "        z: Distance(s) to propagate, either a float or an array of shape (Z 1\n",
    "            1 1).\n",
    "        n: A float that defines the refractive index of the medium.\n",
    "        kykx: If provided, defines the orientation of the propagation. Should\n",
    "            be an array of shape `[2,]` in the format `[ky, kx]`.\n",
    "        bandlimit: If ``True``, bandlimited the kernel according to \"Band-\n",
    "            Limited Angular Spectrum Method for Numerical Simulation of Free-\n",
    "            Space Propagation in Far and Near Fields\" (2009) by Matsushima and\n",
    "            Shimobaba. Defaults to ``False``.\n",
    "        shift_yx: If provided, defines a shift in microns in the destination\n",
    "            plane. Should be an array of shape `[2,]` in the format `[y, x]`.\n",
    "    \"\"\"\n",
    "    kykx = _broadcast_1d_to_grid(kykx, field.ndim)\n",
    "    z = _broadcast_1d_to_innermost_batch(z, field.ndim)\n",
    "    kernel = 1 - (field.spectrum / n) ** 2 * l2_sq_norm(field.k_grid - kykx)\n",
    "    delay = jnp.sqrt(jnp.complex64(kernel))  # keep evanescent modes\n",
    "    # shift in output plane\n",
    "    shift_yx = _broadcast_1d_to_grid(shift_yx, field.ndim)\n",
    "    out_shift = 2 * jnp.pi * jnp.sum(field.k_grid * shift_yx, axis=0)\n",
    "    # compute field\n",
    "    phase = 2 * jnp.pi * (jnp.abs(z) * n / field.spectrum) * delay + out_shift\n",
    "    kernel_field = jnp.where(z >= 0, jnp.exp(1j * phase), jnp.conj(jnp.exp(1j * phase)))\n",
    "    if bandlimit:\n",
    "        # Table 1 of \"Shifted angular spectrum method for off-axis numerical\n",
    "        # propagation\" (2010) by Matsushima in vectorized form\n",
    "        k_limit_p = ((shift_yx + 1 / (2 * field.dk)) ** (-2) * z**2 + 1) ** (\n",
    "            -1 / 2\n",
    "        ) / field.spectrum\n",
    "        k_limit_n = ((shift_yx - 1 / (2 * field.dk)) ** (-2) * z**2 + 1) ** (\n",
    "            -1 / 2\n",
    "        ) / field.spectrum\n",
    "        k0 = (1 / 2) * (\n",
    "            jnp.sign(shift_yx + field.surface_area) * k_limit_p\n",
    "            + jnp.sign(shift_yx - field.surface_area) * k_limit_n\n",
    "        )\n",
    "        k_width = (\n",
    "            jnp.sign(shift_yx + field.surface_area) * k_limit_p\n",
    "            - jnp.sign(shift_yx - field.surface_area) * k_limit_n\n",
    "        )\n",
    "        k_max = k_width / 2\n",
    "        # obtain rect filter to bandlimit (Eq. 23)\n",
    "        H_filter_yx = jnp.abs(field.k_grid - k0) <= k_max\n",
    "        H_filter = H_filter_yx[0] * H_filter_yx[1]\n",
    "        # apply filter\n",
    "        kernel_field = kernel_field * H_filter\n",
    "    return jnp.fft.ifftshift(kernel_field, axes=field.spatial_dims)"
   ]
  },
  {
   "cell_type": "markdown",
   "id": "181807bf",
   "metadata": {},
   "source": [
    "*Explanation*"
   ]
  },
  {
   "cell_type": "markdown",
   "id": "6fb66db3",
   "metadata": {},
   "source": [
    "This propagation kernel is also without Fresnel approximation, but the phase of the kernel contains a shift in output plane `out_shift` and does not exclude the evanescent waves.\n",
    "\n",
    "The `decay` is given by the square root of the `kernel` keeping the evanescent wave:\n",
    "\n",
    "$$ \\text{decay} = \\sqrt{1 - \\frac{\\lambda^2}{n^2} \\left[(f_x - f_{x0})^2 + (f_y - f_{y0})^2 \\right]} \\tag{2.3.64} $$\n",
    "\n",
    "The argument `shift_yx` defines a shift in micrometers in the output plane. To shift a field in the output plane, an additional phase term should be added to the `phase` according to the shifting property of the Fourier transfrom:\n",
    "\n",
    "$$\\mathcal{F}^{-1}\\{F(k) \\exp{2\\pi i (f_x \\Delta x + f_y \\Delta y)}\\} = f(x - \\Delta x, y - \\Delta y) \\tag{2.3.65} $$\n",
    "\n",
    "where the term $2\\pi(f_x \\Delta x + f_y \\Delta y)$ corresponds to the `out_shift`. Therefore, the `kernel_field` ($H_F$) can be expressed mathematically as the following when `z >= 0`:\n",
    "\n",
    "$$H_F= \\exp\\left\\{i \\left\\{ \\frac{2\\pi nz}{\\lambda}\\sqrt{1 - \\frac{\\lambda^2}{n^2} \\left[(f_x - f_{x0})^2 + (f_y - f_{y0})^2 \\right]} + 2\\pi(f_x \\Delta x + f_y \\Delta y)\\right\\} \\right\\} \\tag{2.3.66}$$\n",
    "\n",
    "Besides, this function applies a bandlimiting filter to the `kernel_field`. This method is an improvement of the angular spectrum method (AS). The AS does not include any approximation of the propagation distance, because the formula thereof is derived directly from the Rayleigh-Sommerfeld equation. However, the AS is not an all-round method, because it produces severe numerical errors due to a sampling problem of the transfer function even in Fresnel regions. The proposed method resolves this problem by limiting the bandwidth of the propagation field and also expands the region in which exact fields can be calculated by the AS.[@Bandlimited_ASM] \n",
    "\n",
    "According to the paper: _Shifted angular spectrum method for off-axis numerical propagation_, to avoid the numerical error like aliasing when simulation, the bandwidth should be limited in a range given by[@Shifted_ASM]:\n",
    "\n",
    "$$f_{x\\_\\text{limit}}^{(\\pm)} \\equiv \\left[ \\left( \\Delta x \\pm \\frac{1}{2 \\Delta f_x} \\right)^{-2} z^2 + 1 \\right]^{-1/2} \\lambda^{-1} \\tag{2.3.67} $$\n",
    "\n",
    "along the $f_x$ axis, the limit along the $f_y$ axis is[@Shifted_ASM]:\n",
    "\n",
    "$$f_{y\\_\\text{limit}}^{(\\pm)} \\equiv \\left[ \\left( \\Delta y \\pm \\frac{1}{2 \\Delta f_y} \\right)^{-2} z^2 + 1 \\right]^{-1/2} \\lambda^{-1} \\tag{2.3.68} $$\n",
    "\n",
    "Therefore, we have a sampling window[@Shifted_ASM]:\n",
    "\n",
    "<img src=\"Figures\\Bandlimit Sampling Window.jpg\" alt=\"Neuron\" width=\"50%\" style=\"display: block; margin: 0 auto;\">\n",
    "\n",
    "The parameter `k_limit_p` calculates the upper limit along the two axes, and `k_limit_n` calculates the lower limit along the two axes:"
   ]
  },
  {
   "cell_type": "code",
   "execution_count": 14,
   "id": "e4a2b17a",
   "metadata": {},
   "outputs": [
    {
     "name": "stdout",
     "output_type": "stream",
     "text": [
      "The frequency spacing field.dk = [[[[[[0.1]]]]]\n",
      "\n",
      "\n",
      "\n",
      "\n",
      " [[[[[0.1]]]]]]\n",
      "The upper limit of the frequency along y and x = [[[[[[0.05452093]]]]]\n",
      "\n",
      "\n",
      "\n",
      "\n",
      " [[[[[0.03635636]]]]]]\n",
      "Shape of the upper limit= (2, 1, 1, 1, 1, 1)\n",
      "The lower limit of the frequency along y and x = [[[[[[0.12696205]]]]]\n",
      "\n",
      "\n",
      "\n",
      "\n",
      " [[[[[0.14499132]]]]]]\n",
      "Shape of the lower limit= (2, 1, 1, 1, 1, 1)\n"
     ]
    }
   ],
   "source": [
    "from chromatix.field import Field\n",
    "import jax.numpy as jnp\n",
    "import jax.random as jran\n",
    "\n",
    "key = jran.PRNGKey(10)\n",
    "u = jran.uniform(key, (1, 100, 100, 1, 1))\n",
    "u = u.astype(jnp.complex64)\n",
    "\n",
    "field = Field(\n",
    "    u=u,\n",
    "    _dx=jnp.array([[0.1], [0.1]]),\n",
    "    _spectrum=jnp.array([0.55]),\n",
    "    _spectral_density=jnp.array([1.0]),\n",
    ")\n",
    "\n",
    "print(\"The frequency spacing field.dk =\", field.dk)\n",
    "\n",
    "shift_yx = jnp.array([-2.0, -3.0])\n",
    "\n",
    "# To avoid broadcasting errors, shift_yx should be reshaped to the same shape as the field.dk\n",
    "shift_yx = shift_yx.reshape(2, 1, 1, 1, 1, 1)\n",
    "z = 100\n",
    "\n",
    "k_limit_p = ((shift_yx + 1 / (2 * field.dk)) ** (-2) * z**2 + 1) ** (-1 / 2) / field.spectrum\n",
    "print(\"The upper limit of the frequency along y and x =\", k_limit_p)\n",
    "print(\"Shape of the upper limit=\", k_limit_p.shape)\n",
    "k_limit_n = ((shift_yx - 1 / (2 * field.dk)) ** (-2) * z**2 + 1) ** (-1 / 2) / field.spectrum\n",
    "print(\"The lower limit of the frequency along y and x =\", k_limit_n)\n",
    "print(\"Shape of the lower limit=\", k_limit_n.shape)"
   ]
  },
  {
   "cell_type": "markdown",
   "id": "41583c25",
   "metadata": {},
   "source": [
    "The`k0` and the `k_width` are also calculated according to the paper: _Shifted angular spectrum method for off-axis numerical propagation_. They represent the central frequency and bandwidth respectively:\n",
    "\n",
    "\n",
    "\\begin{array}{|c|c|c|}\n",
    "\\hline\n",
    "\\text{Case x} & f_{x0} & f_{x\\_\\text{width}} \\\\ \n",
    "\\hline\n",
    "L_x/2 < \\Delta x & (f_{x\\_\\text{limit}}^{(+)} + f_{x\\_\\text{limit}}^{(-)})/2 & f_{x\\_\\text{limit}}^{(+)} - f_{x\\_\\text{limit}}^{(-)} \\\\ \n",
    "\\hline\n",
    "-L_x/2 \\leq \\Delta x < L_x/2 & (f_{x\\_\\text{limit}}^{(+)} - f_{x\\_\\text{limit}}^{(-)})/2 & f_{x\\_\\text{limit}}^{(+)} + f_{x\\_\\text{limit}}^{(-)} \\\\ \n",
    "\\hline\n",
    "\\Delta x \\leq -L_x/2 & -(f_{x\\_\\text{limit}}^{(+)} + f_{x\\_\\text{limit}}^{(-)})/2 & f_{x\\_\\text{limit}}^{(-)} - f_{x\\_\\text{limit}}^{(+)} \\\\ \n",
    "\\hline\n",
    "\\end{array}\n",
    "\n",
    "\\begin{array}{|c|c|c|}\n",
    "\\hline\n",
    "\\text{Case y} & f_{y0} & f_{y\\_\\text{width}} \\\\ \n",
    "\\hline\n",
    "L_y/2 < \\Delta y & (f_{y\\_\\text{limit}}^{(+)} + f_{y\\_\\text{limit}}^{(-)})/2 & f_{y\\_\\text{limit}}^{(+)} - f_{y\\_\\text{limit}}^{(-)} \\\\ \n",
    "\\hline\n",
    "-L_y/2 \\leq \\Delta y < L_y/2 & (f_{y\\_\\text{limit}}^{(+)} - f_{y\\_\\text{limit}}^{(-)})/2 & f_{y\\_\\text{limit}}^{(+)} + f_{y\\_\\text{limit}}^{(-)} \\\\ \n",
    "\\hline\n",
    "\\Delta y \\leq -L_y/2 & -(f_{y\\_\\text{limit}}^{(+)} + f_{y\\_\\text{limit}}^{(-)})/2 & f_{y\\_\\text{limit}}^{(-)} - f_{y\\_\\text{limit}}^{(+)} \\\\ \n",
    "\\hline\n",
    "\\end{array}\n",
    "\n",
    "\n"
   ]
  },
  {
   "cell_type": "code",
   "execution_count": 13,
   "id": "4f58abeb",
   "metadata": {},
   "outputs": [
    {
     "name": "stdout",
     "output_type": "stream",
     "text": [
      "The surface area of the field = [[[[[[10.]]]]]\n",
      "\n",
      "\n",
      "\n",
      "\n",
      " [[[[[10.]]]]]]\n",
      "The center frequency k0 = [[[[[[0.03622056]]]]]\n",
      "\n",
      "\n",
      "\n",
      "\n",
      " [[[[[0.05431748]]]]]]\n"
     ]
    }
   ],
   "source": [
    "surface_area = field.surface_area\n",
    "print(\"The surface area of the field =\", surface_area)\n",
    "\n",
    "k0 = (1 / 2) * (\n",
    "            jnp.sign(shift_yx + field.surface_area) * k_limit_p\n",
    "            + jnp.sign(shift_yx - field.surface_area) * k_limit_n)\n",
    "\n",
    "print(\"The center frequency k0 =\", k0)"
   ]
  },
  {
   "cell_type": "markdown",
   "id": "ca931d5b",
   "metadata": {},
   "source": [
    "Where `jnp.sign(x)` returns the sign of the `x`. `x > 0`, it returns $1$, `x < 0`, it returns $-1$, `x = 0`, it returns $0$. Therefore, by applying `jnp.sign()`, the code can calculate the $f_{x0}$ and $f_{y0}$ of the three cases. And the `k_width` is calculated in the same way.\n",
    "\n",
    "The `k_max` is calculated as half of the width, representing the maximum allowable spatial frequency deviation from the center.\n",
    "\n",
    "`H_filter_yx` creates two boolean arrays with same shape of `field.k_grid`, representing the rectangular filters for the $x$ and $y$ axes that only allows frequencies within the range of [`k0` - `k_max`, `k0` + `k_max`] to pass. `H_filter` is then constructed as the product of the filters for the $x$ and $y$ directions, creating a 2D bandlimiting filter.\n",
    "\n",
    "Finally, we can apply this filter to the `kernel_field` by multiplication and an ifftshifted `kernel_field` is returned.\n"
   ]
  },
  {
   "cell_type": "markdown",
   "id": "c9cccad3",
   "metadata": {},
   "source": [
    "#### **Function 10: asm_propagate**"
   ]
  },
  {
   "cell_type": "markdown",
   "id": "2c24af0b",
   "metadata": {},
   "source": [
    "*Source Code*"
   ]
  },
  {
   "cell_type": "code",
   "execution_count": null,
   "id": "101eef34",
   "metadata": {},
   "outputs": [],
   "source": [
    "def asm_propagate(\n",
    "    field: Field,\n",
    "    z: Union[float, Array],\n",
    "    n: float,\n",
    "    N_pad: int,\n",
    "    cval: float = 0,\n",
    "    kykx: Union[Array, Tuple[float, float]] = (0.0, 0.0),\n",
    "    bandlimit: bool = False,\n",
    "    shift_yx: Union[Array, Tuple[float, float]] = (0.0, 0.0),\n",
    "    mode: Literal[\"full\", \"same\"] = \"full\",\n",
    ") -> Field:\n",
    "    \"\"\"\n",
    "    Propagate ``field`` for a distance ``z`` using angular spectrum method.\n",
    "\n",
    "    This method does not remove evanescent waves.\n",
    "\n",
    "    Args:\n",
    "        field: ``Field`` to be propagated.\n",
    "        z: Distance(s) to propagate, either a float or a 1D array.\n",
    "        n: A float that defines the refractive index of the medium.\n",
    "        N_pad: A keyword argument integer defining the pad length for\n",
    "            the propagation FFT. Use padding calculator utilities from\n",
    "            ``chromatix.functional.propagation`` to compute the padding.\n",
    "            !!! warning\n",
    "                The pad value hould not be a Jax array, otherwise a\n",
    "                ConcretizationError will arise when traced!\n",
    "        cval: The background value to use when padding the Field. Defaults to 0\n",
    "            for zero padding.\n",
    "        kykx: If provided, defines the orientation of the propagation. Should\n",
    "            be an array of shape `[2,]` in the format `[ky, kx]`.\n",
    "        bandlimit: If ``True``, bandlimited the kernel according to \"Band-\n",
    "            Limited Angular Spectrum Method for Numerical Simulation of Free-\n",
    "            Space Propagation in Far and Near Fields\" (2009) by Matsushima and\n",
    "            Shimobaba. Defaults to ``False``.\n",
    "        shift_yx: If provided, defines a shift in microns in the destination\n",
    "            plane. Should be an array of shape `[2,]` in the format `[y, x]`.\n",
    "        mode: Either \"full\" or \"same\". If \"same\", the shape of the output\n",
    "            ``Field`` will match the shape of the incoming ``Field``. Defaults\n",
    "            to \"full\", in which case the output shape will include padding.\n",
    "    \"\"\"\n",
    "    field = pad(field, N_pad, cval=cval)\n",
    "    propagator = compute_asm_propagator(field, z, n, kykx, bandlimit, shift_yx)\n",
    "    field = kernel_propagate(field, propagator)\n",
    "    if mode == \"same\":\n",
    "        field = crop(field, N_pad)\n",
    "    return field"
   ]
  },
  {
   "cell_type": "markdown",
   "id": "93893670",
   "metadata": {},
   "source": [
    "*Explanation*"
   ]
  },
  {
   "cell_type": "markdown",
   "id": "39b609d3",
   "metadata": {},
   "source": [
    "Like the `transfer_propagate` and `exact_propagate` functions, this one mainly calls the `compute_asm_propagator` function and the `kernel_propagate` function to propagate the input field."
   ]
  },
  {
   "cell_type": "markdown",
   "id": "4ab4135a",
   "metadata": {},
   "source": [
    "#### **Function 11: compute_padding_transform**"
   ]
  },
  {
   "cell_type": "markdown",
   "id": "f54abe48",
   "metadata": {},
   "source": [
    "*Source Code*"
   ]
  },
  {
   "cell_type": "code",
   "execution_count": null,
   "id": "d21a4817",
   "metadata": {},
   "outputs": [],
   "source": [
    "def compute_padding_transform(height: int, spectrum: float, dx: float, z: float) -> int:\n",
    "    \"\"\"\n",
    "    Automatically compute the padding required for transform propagation.\n",
    "\n",
    "    Args:\n",
    "        height: Height of the field\n",
    "        spectrum: spectrum of the field\n",
    "        dx: spacing of the field\n",
    "        z: A float that defines the distance to propagate.\n",
    "    \"\"\"\n",
    "    # TODO: works only for square fields\n",
    "    D = height * dx  # height of field in real coordinates\n",
    "    Nf = np.max((D / 2) ** 2 / (spectrum * z))  # Fresnel number\n",
    "    M = height  # height of field in pixels\n",
    "    Q = 2 * np.maximum(1.0, M / (4 * Nf))  # minimum pad ratio * 2\n",
    "    N = (np.ceil((Q * M) / 2) * 2).astype(int)\n",
    "    N_pad = (N - M).astype(int)\n",
    "    return N_pad"
   ]
  },
  {
   "cell_type": "markdown",
   "id": "01ca5d50",
   "metadata": {},
   "source": [
    "*Explanation*"
   ]
  },
  {
   "cell_type": "markdown",
   "id": "d1992196",
   "metadata": {},
   "source": [
    "This to compute the padding for transform propagation. Since the function `transform_propagte` is defined under Fresnel approximation, the `N_pad` must be computed according to the Fresnel number to ensure the accuracy. Here is why:\n",
    "\n",
    "Due to the diffraction and spreading of the wavefront, the spatial extent of the field increases as it propagates. To accurately capture this behavior within a finite computational grid, it's needed to pad the original field. The amount of padding required is mathematically related to the Fresnel number since it quantifies the extent of diffraction and spreading of the wavefront over a propagation distance $z$:\n",
    "\n",
    "$$ N_F = \\frac{a^2}{\\lambda z} \\tag{2.3.69} $$\n",
    "\n",
    "The argument `height` refers to the number of pixels along the $y$ direction, and the `dx` refers to the interval between the pixels. So `D` is the length of the field along $y$ direction.\n",
    "\n",
    "The Fresnel number `Nf` is calculated by replacing the $a$ with the half of the height `D`. The pad ratio is expressed as:\n",
    "\n",
    "$$ Q = 2 \\times max\\left(1, \\frac{M}{4N_f}\\right) \\tag{2.3.70}$$\n",
    "\n",
    "Where the term $M/(4N_f)$ arises from the requirement to scale the grid size based on the Fresnel number. The $1$ is for making a minimal padding in the case that the wavefront doesn't spread too much. Multiplying by $2$ ensures that the padding is symmetric on both sides.\n",
    "\n",
    "The total padded size `N` is then:\n",
    "\n",
    "$$ N = \\left\\lceil \\frac{Q \\times M}{2} \\right\\rceil \\times 2 \\tag{2.3.71}$$\n",
    "\n",
    "The `np.cell()` returns the smallest integer that is greater than or equal to the argument. `.astype(int)` converts the type of the number to `int`. Finally, the padding `N_pad` can be calculated which is the difference between the padded height `N` and the original height `M`."
   ]
  },
  {
   "cell_type": "markdown",
   "id": "a139b1c3",
   "metadata": {},
   "source": [
    "#### **Function 12: compute_padding_transfer**"
   ]
  },
  {
   "cell_type": "markdown",
   "id": "fc730435",
   "metadata": {},
   "source": [
    "*Source Code*"
   ]
  },
  {
   "cell_type": "code",
   "execution_count": 41,
   "id": "3fd4b1a9",
   "metadata": {},
   "outputs": [],
   "source": [
    "def compute_padding_transfer(height: int, spectrum: float, dx: float, z: float) -> int:\n",
    "    \"\"\"\n",
    "    Automatically compute the padding required for transfer propagation.\n",
    "\n",
    "    Args:\n",
    "        height: Height of the field\n",
    "        spectrum: spectrum of the field\n",
    "        dx: spacing of the field\n",
    "        z: A float that defines the distance to propagate.\n",
    "    \"\"\"\n",
    "    # TODO: works only for square fields\n",
    "    D = height * dx  # height of field in real coordinates\n",
    "    Nf = np.max((D / 2) ** 2 / (spectrum * z))  # Fresnel number\n",
    "    M = height  # height of field in pixels\n",
    "    Q = 2 * np.maximum(1.0, M / (4 * Nf))  # minimum pad ratio * 2\n",
    "    N = (np.ceil((Q * M) / 2) * 2).astype(int)\n",
    "    N_pad = (N - M).astype(int)\n",
    "    return N_pad"
   ]
  },
  {
   "cell_type": "markdown",
   "id": "dd18c12b",
   "metadata": {},
   "source": [
    "*Explanation*"
   ]
  },
  {
   "cell_type": "markdown",
   "id": "2f816734",
   "metadata": {},
   "source": [
    "This is totally the same as the function `compute_padding_transform`. "
   ]
  },
  {
   "cell_type": "markdown",
   "id": "a173b31e",
   "metadata": {},
   "source": [
    "#### **Function 13: compute_padding_exact**"
   ]
  },
  {
   "cell_type": "markdown",
   "id": "abece158",
   "metadata": {},
   "source": [
    "*Source Code*"
   ]
  },
  {
   "cell_type": "code",
   "execution_count": 42,
   "id": "aca00f18",
   "metadata": {},
   "outputs": [],
   "source": [
    "def compute_padding_exact(height: int, spectrum: float, dx: float, z: float) -> int:\n",
    "    \"\"\"\n",
    "    Automatically compute the padding required for exact propagation.\n",
    "\n",
    "    Args:\n",
    "        height: Height of the field\n",
    "        spectrum: spectrum of the field\n",
    "        dx: spacing of the field\n",
    "        z: A float that defines the distance to propagate.\n",
    "    \"\"\"\n",
    "    # TODO: works only for square fields\n",
    "    D = height * dx  # height of field in real coordinates\n",
    "    Nf = np.max((D / 2) ** 2 / (spectrum * z))  # Fresnel number\n",
    "    M = height  # height of field in pixels\n",
    "    Q = 2 * np.maximum(1.0, M / (4 * Nf))  # minimum pad ratio * 2\n",
    "    scale = np.max((spectrum / (2 * dx)))\n",
    "    # assert scale < 1, \"Can't do exact transfer when field.dx < lambda / 2\"\n",
    "    Q = Q / np.sqrt(1 - scale**2)  # minimum pad ratio for exact transfer\n",
    "    N = (np.ceil((Q * M) / 2) * 2).astype(int)\n",
    "    N_pad = (N - M).astype(int)\n",
    "    return N_pad"
   ]
  },
  {
   "cell_type": "markdown",
   "id": "8b3abc6b",
   "metadata": {},
   "source": [
    "*Explanation*"
   ]
  },
  {
   "cell_type": "markdown",
   "id": "4c8a4b51",
   "metadata": {},
   "source": [
    "The `N_pad` computed by this function is exclusively for the exact propagation. And the `N_pad` is calculated in the same way as it's calculated in the `compute_padding_transform` function, except for the `Q`.\n",
    "\n",
    "The Q is calculated as:\n",
    "\n",
    "$$ Q = \\frac{ 2 \\times max\\left(1, \\frac{M}{4N_f}\\right)}{\\sqrt{1 - \\text{scale}^2}} \\tag{2.3.72}$$\n",
    "\n",
    "Where the `scale` is equal to $\\lambda/ 2dx$. This factor comes from the exact transfer function. Since the padding should be the same for $x$ and $y$ direction, we can only consider the exact transfer function in $z-x$ plane, then it can be expressed as:\n",
    "\n",
    "$$ H(f_x; z) = \\exp\\left(i\\frac{2\\pi z}{\\lambda} \\sqrt{1 - \\lambda^2f_x^2}\\right) \\tag{2.3.72}$$\n",
    "\n",
    "To avoid the evanescent wave, $\\lambda f_x < 1$ must be ensured. The $f_x$ is the spatial frequency in the $x$ direction. According to the Nyquist sampling theory, the sampling frequency must be greater than twice the frequency of the field:\n",
    "\n",
    "$$ f_s = \\frac{1}{\\Delta x} > 2 f_{x\\_max} \\tag{2.3.73}$$\n",
    "\n",
    "So, we have:\n",
    "\n",
    "$$ f_{x\\_max} < \\frac{1}{2\\Delta x} \\rightarrow \\text{scale} = \\frac{\\lambda}{2 \\Delta x }<1 \\tag{2.3.74}$$\n",
    "\n",
    "The adjustment `Q = Q / np.sqrt(1 - scale**2)` is thus to compensate for the increased spatial extent."
   ]
  },
  {
   "cell_type": "markdown",
   "id": "6eab39e7",
   "metadata": {},
   "source": [
    "### **Module 8: pupils**"
   ]
  },
  {
   "cell_type": "markdown",
   "id": "b2abc7a9",
   "metadata": {},
   "source": [
    "#### **Imports**"
   ]
  },
  {
   "cell_type": "markdown",
   "id": "cd0d0899",
   "metadata": {},
   "source": [
    "*Source Code*"
   ]
  },
  {
   "cell_type": "code",
   "execution_count": null,
   "id": "0bb7751a",
   "metadata": {},
   "outputs": [],
   "source": [
    "from ..field import Field\n",
    "from ..utils import l2_sq_norm, linf_norm"
   ]
  },
  {
   "cell_type": "markdown",
   "id": "5c79d8b0",
   "metadata": {},
   "source": [
    "*Explanation*"
   ]
  },
  {
   "cell_type": "markdown",
   "id": "5ea42178",
   "metadata": {},
   "source": [
    "The function `linf_norm()` takes an array as input, returns the maximum absolute value of the array along one of the axes:"
   ]
  },
  {
   "cell_type": "code",
   "execution_count": 17,
   "id": "e1899335",
   "metadata": {},
   "outputs": [
    {
     "name": "stdout",
     "output_type": "stream",
     "text": [
      "The array arr =\n",
      " [[-1. -3.  2.  1. -3.]\n",
      " [-2. -2. -2. -2. -4.]\n",
      " [ 3. -4. -3.  3.  3.]\n",
      " [-2.  4. -4.  5.  1.]\n",
      " [-4.  2. -3. -2.  5.]]\n",
      "The maximum absolute value of arr is: [4. 4. 4. 5. 5.]\n",
      "The maximum absolute value of arr is: [3. 4. 4. 5. 5.]\n"
     ]
    }
   ],
   "source": [
    "import numpy as np\n",
    "from chromatix.utils import linf_norm\n",
    "\n",
    "arr = (np.random.rand(5, 5) - 0.5) * 10\n",
    "arr = np.ceil(arr)\n",
    "print(\"The array arr =\\n\", arr)\n",
    "\n",
    "print(\"The maximum absolute value of arr is:\", linf_norm(arr, axis = 0))\n",
    "print(\"The maximum absolute value of arr is:\", linf_norm(arr, axis = 1))"
   ]
  },
  {
   "cell_type": "markdown",
   "id": "ed1241bf",
   "metadata": {},
   "source": [
    "#### **Function 1: circular_pupil**"
   ]
  },
  {
   "cell_type": "markdown",
   "id": "776c8eb3",
   "metadata": {},
   "source": [
    "*Source Code*"
   ]
  },
  {
   "cell_type": "code",
   "execution_count": null,
   "id": "7175c750",
   "metadata": {},
   "outputs": [],
   "source": [
    "def circular_pupil(field: Field, w: float) -> Field:\n",
    "    \"\"\"Applies circular pupil with diameter ``w`` to ``field``.\"\"\"\n",
    "    mask = (\n",
    "        l2_sq_norm(field.grid)\n",
    "        <= ((field.spectrum[..., 0, 0] / field.spectrum) * w / 2) ** 2\n",
    "    )\n",
    "    return field * mask"
   ]
  },
  {
   "cell_type": "markdown",
   "id": "3d719949",
   "metadata": {},
   "source": [
    "*Explanation*"
   ]
  },
  {
   "cell_type": "markdown",
   "id": "4a8f7bcb",
   "metadata": {},
   "source": [
    "This function creates a circular mask and applies it to the incoming field. `l2_sq_norm` calculates the squared L2 norm at each point in the field's grid and returns $x^2 + y^2$ representing the squared radial distance from the center of the pupil. "
   ]
  },
  {
   "cell_type": "code",
   "execution_count": 39,
   "id": "e5fa79a9",
   "metadata": {},
   "outputs": [
    {
     "name": "stdout",
     "output_type": "stream",
     "text": [
      "The transposed rounded real field =\n",
      " [[[0.5 0.  0.9 0.9 0.9 0.8 0.6 0.4 0.3 1. ]\n",
      "  [0.3 0.2 0.4 0.1 0.9 0.5 0.5 0.8 0.6 0. ]\n",
      "  [0.7 0.5 0.9 0.8 0.2 0.3 0.9 0.3 0.6 0.2]\n",
      "  [0.2 0.1 0.3 0.  0.8 0.4 0.6 0.6 0.9 0.4]\n",
      "  [0.4 0.2 0.4 0.4 0.7 0.7 0.3 0.1 1.  0.2]\n",
      "  [0.9 0.6 0.2 0.9 0.8 0.7 0.5 0.5 0.6 0.8]\n",
      "  [0.4 0.9 0.  0.9 0.1 0.9 0.2 1.  0.1 0.5]\n",
      "  [0.2 0.4 0.3 0.9 0.8 0.9 0.5 0.8 1.  0.1]\n",
      "  [0.2 1.  0.8 1.  1.  0.1 0.  0.1 0.5 0.2]\n",
      "  [0.4 0.5 1.  0.3 0.4 0.4 0.9 0.3 0.5 0.9]]\n",
      "\n",
      " [[0.2 0.5 0.5 0.9 0.8 0.3 0.1 0.5 0.  0.6]\n",
      "  [1.  0.3 0.9 0.9 0.1 0.4 0.3 0.3 0.7 0.6]\n",
      "  [1.  0.7 0.1 0.8 0.8 0.7 1.  0.3 0.3 0.9]\n",
      "  [0.6 0.4 0.2 0.6 1.  0.4 0.1 0.1 0.5 0.8]\n",
      "  [0.4 0.1 0.6 0.5 0.9 0.3 0.6 1.  0.2 0.7]\n",
      "  [0.4 0.8 0.3 0.8 1.  0.9 0.2 0.7 0.6 0.4]\n",
      "  [0.4 0.5 0.  0.4 0.4 0.3 0.5 1.  0.9 0.3]\n",
      "  [0.8 0.7 0.9 0.6 0.5 0.2 0.3 0.4 0.3 0.5]\n",
      "  [0.  1.  0.9 0.3 0.5 0.5 0.1 1.  0.3 0.5]\n",
      "  [0.8 0.1 0.4 1.  0.6 0.5 0.9 0.5 0.5 0.3]]\n",
      "\n",
      " [[0.  0.6 0.9 0.8 0.2 0.6 0.1 0.8 0.6 0.3]\n",
      "  [0.7 0.  0.3 0.  1.  0.4 0.8 0.6 0.6 0.7]\n",
      "  [0.5 0.3 0.2 0.4 0.5 0.4 1.  0.  0.9 0.9]\n",
      "  [0.8 0.9 0.9 0.7 0.8 0.2 0.8 0.6 0.8 0.6]\n",
      "  [0.6 0.6 0.6 0.1 0.7 0.6 0.3 0.7 0.4 0.7]\n",
      "  [0.8 0.1 0.2 0.8 0.4 0.2 0.9 0.2 0.8 0.4]\n",
      "  [0.2 0.3 0.6 0.6 0.3 0.3 1.  0.1 0.3 0.1]\n",
      "  [0.7 0.2 0.7 0.5 0.7 0.9 0.  0.8 0.6 0.5]\n",
      "  [0.8 0.1 0.7 0.2 1.  0.2 0.3 0.6 0.5 0.8]\n",
      "  [0.2 0.2 0.9 0.1 0.7 0.6 0.4 0.7 0.2 0.3]]]\n"
     ]
    }
   ],
   "source": [
    "from chromatix.utils import l2_sq_norm\n",
    "from chromatix.field import Field\n",
    "import jax.numpy as jnp\n",
    "import jax.random as jran\n",
    "\n",
    "# Generate a random complex field with the shape (1, 10, 10, 1, 1)\n",
    "key = jran.PRNGKey(12)\n",
    "u = jran.uniform(key, (1, 10, 10, 3, 1))\n",
    "u = u.astype(jnp.complex64)\n",
    "\n",
    "# Create a chromatix field object with the given parameters\n",
    "field = Field(\n",
    "    u=u,\n",
    "    _dx=jnp.array([[0.1], [0.1]]),\n",
    "    _spectrum=jnp.array([0.55, 0.44, 0.33]),\n",
    "    _spectral_density=jnp.array([1.0, 0.9, 0.8]),\n",
    ")\n",
    "# Print the array with a fixed number of decimal places.\n",
    "jnp.set_printoptions(precision = 2, suppress = True)\n",
    "\n",
    "# Print the squeeze real field, rounding the elements to two decimal places. \n",
    "print(\"The transposed rounded real field =\\n\", round(field.u.squeeze().real, 1).T)"
   ]
  },
  {
   "cell_type": "code",
   "execution_count": 23,
   "id": "855caec8",
   "metadata": {},
   "outputs": [
    {
     "name": "stdout",
     "output_type": "stream",
     "text": [
      "The y and x grid of the field= \n",
      " [[[-0.45 -0.45 -0.45 -0.45 -0.45 -0.45 -0.45 -0.45 -0.45 -0.45]\n",
      "  [-0.35 -0.35 -0.35 -0.35 -0.35 -0.35 -0.35 -0.35 -0.35 -0.35]\n",
      "  [-0.25 -0.25 -0.25 -0.25 -0.25 -0.25 -0.25 -0.25 -0.25 -0.25]\n",
      "  [-0.15 -0.15 -0.15 -0.15 -0.15 -0.15 -0.15 -0.15 -0.15 -0.15]\n",
      "  [-0.05 -0.05 -0.05 -0.05 -0.05 -0.05 -0.05 -0.05 -0.05 -0.05]\n",
      "  [ 0.05  0.05  0.05  0.05  0.05  0.05  0.05  0.05  0.05  0.05]\n",
      "  [ 0.15  0.15  0.15  0.15  0.15  0.15  0.15  0.15  0.15  0.15]\n",
      "  [ 0.25  0.25  0.25  0.25  0.25  0.25  0.25  0.25  0.25  0.25]\n",
      "  [ 0.35  0.35  0.35  0.35  0.35  0.35  0.35  0.35  0.35  0.35]\n",
      "  [ 0.45  0.45  0.45  0.45  0.45  0.45  0.45  0.45  0.45  0.45]]\n",
      "\n",
      " [[-0.45 -0.35 -0.25 -0.15 -0.05  0.05  0.15  0.25  0.35  0.45]\n",
      "  [-0.45 -0.35 -0.25 -0.15 -0.05  0.05  0.15  0.25  0.35  0.45]\n",
      "  [-0.45 -0.35 -0.25 -0.15 -0.05  0.05  0.15  0.25  0.35  0.45]\n",
      "  [-0.45 -0.35 -0.25 -0.15 -0.05  0.05  0.15  0.25  0.35  0.45]\n",
      "  [-0.45 -0.35 -0.25 -0.15 -0.05  0.05  0.15  0.25  0.35  0.45]\n",
      "  [-0.45 -0.35 -0.25 -0.15 -0.05  0.05  0.15  0.25  0.35  0.45]\n",
      "  [-0.45 -0.35 -0.25 -0.15 -0.05  0.05  0.15  0.25  0.35  0.45]\n",
      "  [-0.45 -0.35 -0.25 -0.15 -0.05  0.05  0.15  0.25  0.35  0.45]\n",
      "  [-0.45 -0.35 -0.25 -0.15 -0.05  0.05  0.15  0.25  0.35  0.45]\n",
      "  [-0.45 -0.35 -0.25 -0.15 -0.05  0.05  0.15  0.25  0.35  0.45]]]\n"
     ]
    }
   ],
   "source": [
    "print(\"The y and x grid of the field= \\n\", field.grid.squeeze())"
   ]
  },
  {
   "cell_type": "code",
   "execution_count": 24,
   "id": "c5069fec",
   "metadata": {},
   "outputs": [
    {
     "name": "stdout",
     "output_type": "stream",
     "text": [
      "The radial distance from the center =\n",
      " [[0.41 0.33 0.27 0.23 0.21 0.21 0.23 0.27 0.33 0.41]\n",
      " [0.33 0.24 0.19 0.14 0.12 0.12 0.14 0.19 0.24 0.33]\n",
      " [0.27 0.19 0.12 0.09 0.06 0.06 0.09 0.12 0.19 0.27]\n",
      " [0.23 0.14 0.09 0.05 0.03 0.03 0.05 0.09 0.14 0.23]\n",
      " [0.21 0.12 0.06 0.03 0.01 0.01 0.03 0.06 0.12 0.21]\n",
      " [0.21 0.12 0.06 0.03 0.01 0.01 0.03 0.06 0.12 0.21]\n",
      " [0.23 0.14 0.09 0.05 0.03 0.03 0.05 0.09 0.14 0.23]\n",
      " [0.27 0.19 0.12 0.09 0.06 0.06 0.09 0.12 0.19 0.27]\n",
      " [0.33 0.24 0.19 0.14 0.12 0.12 0.14 0.19 0.24 0.33]\n",
      " [0.41 0.33 0.27 0.23 0.21 0.21 0.23 0.27 0.33 0.41]]\n"
     ]
    }
   ],
   "source": [
    "print(\"The radial distance from the center =\\n\", l2_sq_norm(field.grid).squeeze())"
   ]
  },
  {
   "cell_type": "markdown",
   "id": "c0ba339a",
   "metadata": {},
   "source": [
    "The `field.spectrum` returns the wavelengths of the field and the `field.spectrum[..., 0, 0]` returns the first element of the wavelength array which usually represents the central wavelength $\\lambda_0$. "
   ]
  },
  {
   "cell_type": "code",
   "execution_count": 11,
   "id": "bb1331f2",
   "metadata": {},
   "outputs": [
    {
     "name": "stdout",
     "output_type": "stream",
     "text": [
      "The wavelengths of the field [[[[[0.55]\n",
      "    [0.44]\n",
      "    [0.33]]]]]\n",
      "The central wavelength of the field [[[0.55]]]\n"
     ]
    }
   ],
   "source": [
    "print(\"The wavelengths of the field\", field.spectrum)\n",
    "print(\"The central wavelength of the field\", field.spectrum[..., 0, 0])"
   ]
  },
  {
   "cell_type": "markdown",
   "id": "45c1da27",
   "metadata": {},
   "source": [
    "Therefore, `((field.spectrum[..., 0, 0] / field.spectrum) * w / 2) ** 2` gives the squared effective radius for the pupil at each wavelength. And by the comparison `<=`, the mask becomes a boolean array. The elements of the mask are `True` (`1`) if the squared radial distance at that grid is less than or equal to the squared effective radius for that wavelength, and `False` (`0`) otherwise. \n",
    "\n",
    "$$ \\text{mask} = \\left( r^2 \\leq \\left(\\frac{\\lambda_0}{\\lambda} \\times \\frac{w}{2} \\right)^2\\right) \\tag{2.3.75} $$\n",
    "\n",
    "Suppose the `w` is `1`, the mask becomes:"
   ]
  },
  {
   "cell_type": "code",
   "execution_count": 25,
   "id": "095871a4",
   "metadata": {},
   "outputs": [
    {
     "name": "stdout",
     "output_type": "stream",
     "text": [
      "The shape of the mask= (1, 10, 10, 3, 1)\n",
      "The shape of squeezed and transposed mask (3, 10, 10)\n",
      "The mask =\n",
      " [[[False False False False False False False False False False]\n",
      "  [False False False False False False False False False False]\n",
      "  [False False False False False False False False False False]\n",
      "  [False False False  True  True  True  True False False False]\n",
      "  [False False False  True  True  True  True False False False]\n",
      "  [False False False  True  True  True  True False False False]\n",
      "  [False False False  True  True  True  True False False False]\n",
      "  [False False False False False False False False False False]\n",
      "  [False False False False False False False False False False]\n",
      "  [False False False False False False False False False False]]\n",
      "\n",
      " [[False False False False False False False False False False]\n",
      "  [False False False False False False False False False False]\n",
      "  [False False False  True  True  True  True False False False]\n",
      "  [False False  True  True  True  True  True  True False False]\n",
      "  [False False  True  True  True  True  True  True False False]\n",
      "  [False False  True  True  True  True  True  True False False]\n",
      "  [False False  True  True  True  True  True  True False False]\n",
      "  [False False False  True  True  True  True False False False]\n",
      "  [False False False False False False False False False False]\n",
      "  [False False False False False False False False False False]]\n",
      "\n",
      " [[False False False False False False False False False False]\n",
      "  [False False False  True  True  True  True False False False]\n",
      "  [False False  True  True  True  True  True  True False False]\n",
      "  [False  True  True  True  True  True  True  True  True False]\n",
      "  [False  True  True  True  True  True  True  True  True False]\n",
      "  [False  True  True  True  True  True  True  True  True False]\n",
      "  [False  True  True  True  True  True  True  True  True False]\n",
      "  [False False  True  True  True  True  True  True False False]\n",
      "  [False False False  True  True  True  True False False False]\n",
      "  [False False False False False False False False False False]]]\n"
     ]
    }
   ],
   "source": [
    "w = 0.5\n",
    "mask = (\n",
    "        l2_sq_norm(field.grid)\n",
    "        <= ((field.spectrum[..., 0, 0] / field.spectrum) * w / 2) ** 2\n",
    "    )\n",
    "print(\"The shape of the mask=\", mask.shape)\n",
    "print(\"The shape of squeezed and transposed mask\", mask.squeeze().T.shape)\n",
    "print(\"The mask =\\n\", mask.squeeze().T)"
   ]
  },
  {
   "cell_type": "markdown",
   "id": "f1e345b1",
   "metadata": {},
   "source": [
    "After squeezing and transposing, we can see clearly that the mask array contains three $10 \\times 10$ arrays representing the mask of each wavelength. The smaller the wavelength is, the larger the pupil is. This models how different wavelengths interact with the aperture in real optical system. Waves with longer wavelength experience more diffraction and lager spot size according to the Airy disk:\n",
    "\n",
    "$$ d_{Airy} = 1.22 \\cdot \\frac{\\lambda f}{D} \\tag{2.3.76} $$\n",
    "\n",
    "where $D = w$ is the diameter of the pupil. So, scaling the diameter according to the wavelength can simulate the diffraction pattern.\n",
    "\n",
    "The function finally returns the masked field by multiplying the field with the mask resulting in a circular field after the pupil."
   ]
  },
  {
   "cell_type": "markdown",
   "id": "140323bd",
   "metadata": {},
   "source": [
    "#### **Function 2: square_pupil**"
   ]
  },
  {
   "cell_type": "markdown",
   "id": "0a115c83",
   "metadata": {},
   "source": [
    "*Source Code*"
   ]
  },
  {
   "cell_type": "code",
   "execution_count": null,
   "id": "91ddfd1d",
   "metadata": {},
   "outputs": [],
   "source": [
    "def square_pupil(field: Field, w: float) -> Field:\n",
    "    \"\"\"Applies square pupil with side length ``w`` to ``field``.\"\"\"\n",
    "    mask = linf_norm(field.grid) <= (field.spectrum[..., 0, 0] / field.spectrum) * w / 2\n",
    "    return field * mask"
   ]
  },
  {
   "cell_type": "markdown",
   "id": "11743d60",
   "metadata": {},
   "source": [
    "*Explanation*"
   ]
  },
  {
   "cell_type": "markdown",
   "id": "e51aff55",
   "metadata": {},
   "source": [
    "This function creates a squared mask similarly to the `circular_pupil` function.\n",
    "\n",
    "The `linf_norm(field.grid)` calculates the L-infinity norm also known as the maximum norm or Chebyshev norm at each grid point. For each point $(x, y)$, the L-infinity norm is calculated as:\n",
    "\n",
    "$$\\|(x, y)\\|_\\infty = \\max(|x|, |y|) \\tag{2.3.76} $$"
   ]
  },
  {
   "cell_type": "code",
   "execution_count": 43,
   "id": "f3023825",
   "metadata": {},
   "outputs": [
    {
     "name": "stdout",
     "output_type": "stream",
     "text": [
      "The shape of the field's grid= (2, 1, 10, 10, 1, 1)\n",
      "The L-infinity norm of the field's grid=\n",
      " [[0.45 0.45 0.45 0.45 0.45 0.45 0.45 0.45 0.45 0.45]\n",
      " [0.45 0.35 0.35 0.35 0.35 0.35 0.35 0.35 0.35 0.45]\n",
      " [0.45 0.35 0.25 0.25 0.25 0.25 0.25 0.25 0.35 0.45]\n",
      " [0.45 0.35 0.25 0.15 0.15 0.15 0.15 0.25 0.35 0.45]\n",
      " [0.45 0.35 0.25 0.15 0.05 0.05 0.15 0.25 0.35 0.45]\n",
      " [0.45 0.35 0.25 0.15 0.05 0.05 0.15 0.25 0.35 0.45]\n",
      " [0.45 0.35 0.25 0.15 0.15 0.15 0.15 0.25 0.35 0.45]\n",
      " [0.45 0.35 0.25 0.25 0.25 0.25 0.25 0.25 0.35 0.45]\n",
      " [0.45 0.35 0.35 0.35 0.35 0.35 0.35 0.35 0.35 0.45]\n",
      " [0.45 0.45 0.45 0.45 0.45 0.45 0.45 0.45 0.45 0.45]]\n"
     ]
    }
   ],
   "source": [
    "from chromatix.utils import linf_norm\n",
    "print(\"The shape of the field's grid=\", field.grid.shape)\n",
    "print(\"The L-infinity norm of the field's grid=\\n\", linf_norm(field.grid).squeeze())"
   ]
  },
  {
   "cell_type": "markdown",
   "id": "a55c5594",
   "metadata": {},
   "source": [
    "This computes the maximum absolute value of the x or y coordinate for each point, effectively measuring the distance from the center to the edges along the grid axes. The mask is generated also as a boolean array where each element is `True` if the maximum absolute coordinate value at that grid point is less or equal to the scaled half side length for the wavelength, and `False` otherwise:"
   ]
  },
  {
   "cell_type": "code",
   "execution_count": 44,
   "id": "b650c99f",
   "metadata": {},
   "outputs": [
    {
     "name": "stdout",
     "output_type": "stream",
     "text": [
      "The mask =\n",
      " [[[False False False False False False False False False False]\n",
      "  [False False False False False False False False False False]\n",
      "  [False False  True  True  True  True  True  True False False]\n",
      "  [False False  True  True  True  True  True  True False False]\n",
      "  [False False  True  True  True  True  True  True False False]\n",
      "  [False False  True  True  True  True  True  True False False]\n",
      "  [False False  True  True  True  True  True  True False False]\n",
      "  [False False  True  True  True  True  True  True False False]\n",
      "  [False False False False False False False False False False]\n",
      "  [False False False False False False False False False False]]\n",
      "\n",
      " [[False False False False False False False False False False]\n",
      "  [False False False False False False False False False False]\n",
      "  [False False  True  True  True  True  True  True False False]\n",
      "  [False False  True  True  True  True  True  True False False]\n",
      "  [False False  True  True  True  True  True  True False False]\n",
      "  [False False  True  True  True  True  True  True False False]\n",
      "  [False False  True  True  True  True  True  True False False]\n",
      "  [False False  True  True  True  True  True  True False False]\n",
      "  [False False False False False False False False False False]\n",
      "  [False False False False False False False False False False]]\n",
      "\n",
      " [[False False False False False False False False False False]\n",
      "  [False  True  True  True  True  True  True  True  True False]\n",
      "  [False  True  True  True  True  True  True  True  True False]\n",
      "  [False  True  True  True  True  True  True  True  True False]\n",
      "  [False  True  True  True  True  True  True  True  True False]\n",
      "  [False  True  True  True  True  True  True  True  True False]\n",
      "  [False  True  True  True  True  True  True  True  True False]\n",
      "  [False  True  True  True  True  True  True  True  True False]\n",
      "  [False  True  True  True  True  True  True  True  True False]\n",
      "  [False False False False False False False False False False]]]\n"
     ]
    }
   ],
   "source": [
    "from chromatix.utils import linf_norm\n",
    "\n",
    "mask = linf_norm(field.grid) <= (field.spectrum[..., 0, 0] / field.spectrum) * w / 2\n",
    "print(\"The mask =\\n\", mask.squeeze().T)"
   ]
  },
  {
   "cell_type": "markdown",
   "id": "98b494bf",
   "metadata": {},
   "source": [
    "Obviously, the field after the pupil will be a smaller square field."
   ]
  },
  {
   "cell_type": "markdown",
   "id": "2424c24a",
   "metadata": {},
   "source": [
    "### **Module 9: samples**"
   ]
  },
  {
   "cell_type": "markdown",
   "id": "706caf79",
   "metadata": {},
   "source": [
    "#### **Imports**"
   ]
  },
  {
   "cell_type": "markdown",
   "id": "1056bc7a",
   "metadata": {},
   "source": [
    "*Source Code*"
   ]
  },
  {
   "cell_type": "code",
   "execution_count": null,
   "id": "a8b6b218",
   "metadata": {},
   "outputs": [],
   "source": [
    "from typing import Optional, Tuple, Union\n",
    "\n",
    "import jax\n",
    "import jax.numpy as jnp\n",
    "from chex import assert_equal_shape, assert_rank\n",
    "from jax import Array\n",
    "\n",
    "from chromatix.field import crop, pad\n",
    "from chromatix.utils.fft import fft, ifft\n",
    "\n",
    "from ..field import ScalarField, VectorField\n",
    "from ..utils import _broadcast_2d_to_spatial, center_pad\n",
    "from .polarizers import polarizer\n",
    "from .propagation import (\n",
    "    compute_asm_propagator,\n",
    "    compute_exact_propagator,\n",
    "    exact_propagate,\n",
    "    kernel_propagate,\n",
    ")"
   ]
  },
  {
   "cell_type": "markdown",
   "id": "051d5005",
   "metadata": {},
   "source": [
    "*Explanation*"
   ]
  },
  {
   "cell_type": "markdown",
   "id": "1f8bb4cd",
   "metadata": {},
   "source": [
    "`Optional` is similar to `Union`, it is used when a value can either be of a certain type or `None`. Therefore, `Optional[X]` is shorthand for `Union[X, None]`, in which, `X` could be types such as `int`, `float`, etc. And a tuple is an immutable sequence of elements that can be of different types.\n",
    "\n",
    "`chex.assert_rank(array, rank)` ensures that an array has a specific rank (number of dimensions). If the `array`'s rank is not equal to `rank`, then an `AssertionError` will be returned. Similarly, `assert_equal_shape` asserts that the input arrays have the same shape:"
   ]
  },
  {
   "cell_type": "code",
   "execution_count": 9,
   "id": "546b0503",
   "metadata": {},
   "outputs": [],
   "source": [
    "from chex import assert_equal_shape\n",
    "import jax.numpy as jnp\n",
    "\n",
    "arr1 = jnp.ones((3, 3))\n",
    "arr2 = jnp.zeros((3, 3))\n",
    "arr3 = jnp.full((3, 4), 2)\n",
    "\n",
    "assert_equal_shape([arr1, arr2])"
   ]
  },
  {
   "cell_type": "markdown",
   "id": "e10fa913",
   "metadata": {},
   "source": [
    "Otherwise, an `AssertionError` will be raised.\n",
    "\n",
    "The `crop` and `pad` are to crop and pad an array. The `fft` and `ifft` do Fourier transform and inverse Fourier transform to an array. The class `ScalarField` and the class `VectorField` are responsible for creating scalar field and vectorial field.\n",
    "\n",
    "The function `_broadcast_2d_to_spatial` can broadcast 2D array of shape `(H W)` to `(B... H W C [1 | 3])`. The function `center_pad(arr, pad_width, cval)` pads the input array with the `pad_width` which determines the length of padding along each axis, and `cval` which determines the value of padding:"
   ]
  },
  {
   "cell_type": "code",
   "execution_count": 11,
   "id": "8521ddc4",
   "metadata": {},
   "outputs": [
    {
     "name": "stdout",
     "output_type": "stream",
     "text": [
      "arr2 = \n",
      " [[0. 0. 0.]\n",
      " [0. 0. 0.]\n",
      " [0. 0. 0.]]\n",
      "The center padded arr2 =\n",
      " [[1. 1. 1. 1. 1. 1. 1.]\n",
      " [1. 1. 0. 0. 0. 1. 1.]\n",
      " [1. 1. 0. 0. 0. 1. 1.]\n",
      " [1. 1. 0. 0. 0. 1. 1.]\n",
      " [1. 1. 1. 1. 1. 1. 1.]]\n"
     ]
    }
   ],
   "source": [
    "from chromatix.utils import center_pad\n",
    "\n",
    "print(\"arr2 = \\n\", arr2)\n",
    "print(\"The center padded arr2 =\\n\", center_pad(arr2, [1, 2], cval =1))\n"
   ]
  },
  {
   "cell_type": "markdown",
   "id": "48ff5876",
   "metadata": {},
   "source": [
    "The function `polarizer` has been explained in the _Module 6: polarizers_. It takes a vectorial field and four Jones matrix elements as arguments and returns the field after polarizer. And the four functions imported from the propagation module are for propagating a field in Angular Spectrum method and exact propagation method. These functions are also explained in the _Module 7: propagation_."
   ]
  },
  {
   "cell_type": "markdown",
   "id": "504c747b",
   "metadata": {},
   "source": [
    "#### **Function 1: jones_sample**"
   ]
  },
  {
   "cell_type": "markdown",
   "id": "94fc1fce",
   "metadata": {},
   "source": [
    "*Source Code*"
   ]
  },
  {
   "cell_type": "code",
   "execution_count": null,
   "id": "b90240bd",
   "metadata": {},
   "outputs": [],
   "source": [
    "def jones_sample(\n",
    "    field: VectorField, absorption: Array, dn: Array, thickness: Union[float, Array]\n",
    ") -> VectorField:\n",
    "    \"\"\"\n",
    "    Perturbs an incoming ``VectorField`` as if it went through a thin sample\n",
    "    object with a given ``absorption``, refractive index change ``dn`` and of\n",
    "    a given ``thickness`` in the same units as the spectrum of the incoming\n",
    "    ``VectorField``. Ignores the incoming field in z direction.\n",
    "\n",
    "    The sample is supposed to follow the thin sample approximation, so the\n",
    "    sample perturbation is calculated for each component in the Jones matrix as:\n",
    "    ``exp(1j * 2 * pi * (dn + 1j * absorption) * thickness / lambda)`` where dn\n",
    "    and absorption are allowed to vary per component of the Jones matrix, but\n",
    "    thickness is assumed to be the same for each component of the Jones matrix.\n",
    "\n",
    "    Returns a ``VectorField`` with the result of the perturbation.\n",
    "\n",
    "    Args:\n",
    "        field: The complex field to be perturbed.\n",
    "        absorption: The sample absorption defined as ``(2 2 B... H W 1 1)`` array\n",
    "        dn: Sample refractive index change ``(2 2 B... H W 1 1)`` array\n",
    "        thickness: Thickness at each sample location as array broadcastable\n",
    "            to ``(B... H W 1 1)``\n",
    "    \"\"\"\n",
    "    assert_rank(\n",
    "        absorption,\n",
    "        field.ndim + 2,\n",
    "        custom_message=\"Absorption must be array of shape ``(2 2 B... H W 1 1)``\",\n",
    "    )\n",
    "    assert_rank(\n",
    "        dn,\n",
    "        field.ndim + 2,\n",
    "        custom_message=\"Refractive index must be array of shape ``(2 2 B... H W 1 1)``\",\n",
    "    )\n",
    "    # Thickness is the same for four elements in Jones Matrix\n",
    "    sample = jnp.exp(\n",
    "        1j * 2 * jnp.pi * (dn + 1j * absorption) * thickness / field.spectrum\n",
    "    )\n",
    "    return polarizer(field, sample[0, 0], sample[0, 1], sample[1, 0], sample[1, 1])"
   ]
  },
  {
   "cell_type": "markdown",
   "id": "7f1baf77",
   "metadata": {},
   "source": [
    "*Explanation*"
   ]
  },
  {
   "cell_type": "markdown",
   "id": "14121171",
   "metadata": {},
   "source": [
    "The `jones_sample` function simulates how an incoming optical `VectorField` (shape of `(B... H W C 3)`) is perturbed when it passes through a thin sample with specified absorption, refractive index change (`dn`), and thickness. To calculation the perturbation, the source code applies thin sample approximation.\n",
    "\n",
    "The thin sample approximation assumes that the thickness $d$ of the sample is far smaller than the wavelength $\\lambda$ of the incoming light: $d \\ll \\lambda$. Then the perturbation $\\text{P}$ introduced by the thin sample can be expressed as:\n",
    "\n",
    "$$ \\text{P} = \\exp\\left[i \\cdot \\frac{2\\pi}{\\lambda}\\cdot d (\\Delta n + A \\cdot i)\\right] \\tag{2.3.77} $$\n",
    "\n",
    "where $\\Delta n$ is the refractive index change and $A$ is the absorption coefficient. Obviously, this pertrubation not only changes the phase of the incoming field buy also the amplitude.\n",
    "\n",
    "The two `assert_rank()` functions are used to ensure that the `absorption` and `dn` have the same number of dimension as the number of the field's dimensions plus $2$ (`(2 2 B... H W 1 1)`). The two leading dimensions `(2, 2)` corresponds to the Jones matrix components `J00`, `J01`, `J10`, and `J11`.\n",
    "\n",
    "The `sample` represents the perturbation $\\text{P}$. This perturbation is applied to the field in the form of Jones matrix by calling the function `polarizer`."
   ]
  },
  {
   "cell_type": "markdown",
   "id": "77048877",
   "metadata": {},
   "source": [
    "#### **Function 2: thin_sample**"
   ]
  },
  {
   "cell_type": "markdown",
   "id": "0e981e73",
   "metadata": {},
   "source": [
    "*Source Code*"
   ]
  },
  {
   "cell_type": "code",
   "execution_count": null,
   "id": "c372065c",
   "metadata": {},
   "outputs": [],
   "source": [
    "def thin_sample(\n",
    "    field: ScalarField, absorption: Array, dn: Array, thickness: Union[float, Array]\n",
    ") -> ScalarField:\n",
    "    \"\"\"\n",
    "    Perturbs an incoming ``ScalarField`` as if it went through a thin sample\n",
    "    object with a given ``absorption``, refractive index change ``dn`` and of\n",
    "    a given ``thickness`` in the same units as the spectrum of the incoming\n",
    "    ``ScalarField``.\n",
    "\n",
    "    The sample is supposed to follow the thin sample approximation, so the\n",
    "    sample perturbation is calculated as:\n",
    "    ``exp(1j * 2 * pi * (dn + 1j * absorption) * thickness / lambda)``.\n",
    "\n",
    "    Returns a ``ScalarField`` with the result of the perturbation.\n",
    "\n",
    "    Args:\n",
    "        field: The complex field to be perturbed.\n",
    "        absorption: The sample absorption defined as ``(B... H W 1 1)`` array\n",
    "        dn: Sample refractive index change ``(B... H W 1 1)`` array\n",
    "        thickness: Thickness at each sample location as array broadcastable\n",
    "            to ``(B... H W 1 1)``\n",
    "    \"\"\"\n",
    "    assert_rank(\n",
    "        absorption,\n",
    "        field.ndim,\n",
    "        custom_message=\"Absorption must have same ndim as incoming ``Field``.\",\n",
    "    )\n",
    "    assert_rank(\n",
    "        dn,\n",
    "        field.ndim,\n",
    "        custom_message=\"Refractive index must have same ndim as incoming ``Field`.`\",\n",
    "    )\n",
    "    sample = jnp.exp(\n",
    "        1j * 2 * jnp.pi * (dn + 1j * absorption) * thickness / field.spectrum\n",
    "    )\n",
    "    return field * sample"
   ]
  },
  {
   "cell_type": "markdown",
   "id": "1b05495e",
   "metadata": {},
   "source": [
    "*Explanation*"
   ]
  },
  {
   "cell_type": "markdown",
   "id": "7c0875b1",
   "metadata": {},
   "source": [
    "This is to simulate the perturbation to an incoming `ScalarField` based on the thin sample approximation ($2. 3. 77$). However, since it applies to a scalar field, using Jones matrix is not necessary. So, the shape of `absorption` and `dn` should be the same as the shape of the incoming field. "
   ]
  },
  {
   "cell_type": "markdown",
   "id": "bad8ec3b",
   "metadata": {},
   "source": [
    "#### **Function 3: multislice_thick_smaple**"
   ]
  },
  {
   "cell_type": "markdown",
   "id": "10b58a2a",
   "metadata": {},
   "source": [
    "*Source Code*"
   ]
  },
  {
   "cell_type": "code",
   "execution_count": null,
   "id": "4b8b0e64",
   "metadata": {},
   "outputs": [],
   "source": [
    "def multislice_thick_sample(\n",
    "    field: ScalarField,\n",
    "    absorption_stack: Array,\n",
    "    dn_stack: Array,\n",
    "    n: float,\n",
    "    thickness_per_slice: float,\n",
    "    N_pad: int,\n",
    "    propagator: Optional[Array] = None,\n",
    "    kykx: Union[Array, Tuple[float, float]] = (0.0, 0.0),\n",
    "    reverse_propagate_distance: Optional[float] = None,\n",
    ") -> ScalarField:\n",
    "    \"\"\"\n",
    "    Perturbs incoming ``ScalarField`` as if it went through a thick sample. The\n",
    "    thick sample is modeled as being made of many thin slices each of a given\n",
    "    thickness. The ``absorption_stack`` and ``dn_stack`` contain the absorbance\n",
    "    and phase delay of each sample slice. Expects that the same sample is being\n",
    "    applied to all elements across the batch of the incoming ``ScalarField``.\n",
    "\n",
    "    A ``propagator`` defining the propagation kernel for the field through each\n",
    "    slice can be provided. By default, a ``propagator`` is calculated inside\n",
    "    the function. After passing through all slices, the field is propagated\n",
    "    backwards to the center of the stack, or by the distances specified by\n",
    "    ``reverse_propagate_distance`` if provided.\n",
    "\n",
    "    Returns a ``ScalarField`` with the result of the perturbation.\n",
    "\n",
    "    Args:\n",
    "        field: The complex field to be perturbed.\n",
    "        absorption_stack: The sample absorption per micrometre for each slice\n",
    "            defined as ``(D H W)`` array, where D is the total number of slices.\n",
    "        dn_stack: sample refractive index change for each slice ``(D H W)`` array.\n",
    "            Shape should be the same that for ``absorption_stack``.\n",
    "        n: Average refractive index of the sample.\n",
    "        thickness_per_slice: How far to propagate for each slice.\n",
    "        N_pad: A keyword argument integer defining the pad length for the\n",
    "            propagation FFT (NOTE: should not be a `jax` ``Array``, otherwise\n",
    "            a ConcretizationError will arise when traced!). Use padding\n",
    "            calculator utilities from ``chromatix.functional.propagation`` to\n",
    "            calculate the padding.\n",
    "        kykx: If provided, defines the orientation of the propagation. Should\n",
    "            be an array of shape `(2,)` in the format ``[ky, kx]``.\n",
    "        reverse_propagate_distance: If provided, propagates field at the end\n",
    "            backwards by this amount from the top of the stack. By default,\n",
    "            field is propagated backwards to the middle of the sample.\n",
    "    \"\"\"\n",
    "    assert_equal_shape([absorption_stack, dn_stack])\n",
    "    field = pad(field, N_pad)\n",
    "    absorption_stack = center_pad(absorption_stack, (0, N_pad, N_pad))\n",
    "    dn_stack = center_pad(dn_stack, (0, N_pad, N_pad))\n",
    "    if propagator is None:\n",
    "        propagator = compute_exact_propagator(field, thickness_per_slice, n, kykx)\n",
    "    # NOTE(ac+dd): Unrolling this loop is much faster than ``jax.scan``-likes.\n",
    "    for absorption, dn in zip(absorption_stack, dn_stack):\n",
    "        absorption = _broadcast_2d_to_spatial(absorption, field.ndim)\n",
    "        dn = _broadcast_2d_to_spatial(dn, field.ndim)\n",
    "        field = thin_sample(field, absorption, dn, thickness_per_slice)\n",
    "        field = kernel_propagate(field, propagator)\n",
    "    # Propagate field backwards to the middle (or chosen distance) of the stack\n",
    "    if reverse_propagate_distance is None:\n",
    "        reverse_propagate_distance = thickness_per_slice * absorption_stack.shape[0] / 2\n",
    "    field = exact_propagate(\n",
    "        field, z=-reverse_propagate_distance, n=n, kykx=kykx, N_pad=0\n",
    "    )\n",
    "    return crop(field, N_pad)"
   ]
  },
  {
   "cell_type": "markdown",
   "id": "724e2523",
   "metadata": {},
   "source": [
    "*Explanation*"
   ]
  },
  {
   "cell_type": "markdown",
   "id": "e73c6cbd",
   "metadata": {},
   "source": [
    "The purpose of this function is to simulate a scalar field propagating through a thick sample by modelling the thick sample as multiple thin samples. Therefore, the thin sample approximation can still be applied here. Every thin sample the field propagates through, the field will experience a perturbation and the propagation is simulated by the exact propagation method (`exact_propagation`).\n",
    "\n",
    "To simulate a thick sample, the shape of the `absorption_stack` and `dn_stack` are designed to be `(D H W)`, where the `D` represents the number of thin sample contained in the thick sample. Therefore, the shape of the `absorption_stack` and `dn_stack` must be the same and this is asserted by the function `assert_equal_shape`.\n",
    "\n",
    "Because the simulation needs to propagate the field which include FFT operations, the field must be padded with the padding size `N_pad` to ensure an accurate calculation of FFT operations. Correspondingly, the `(H W)` of the `absorption_stack` and `dn_stack` must be padded with the same padding size to match the size of the field for perturbing.\n",
    "\n",
    "The function `center_pad(0, N_pad, N_pad)` only pads the height and width of the two arguments. Suppose the thick sample is composed of 3 thin samples:"
   ]
  },
  {
   "cell_type": "code",
   "execution_count": 64,
   "id": "fff4cd51",
   "metadata": {},
   "outputs": [
    {
     "name": "stdout",
     "output_type": "stream",
     "text": [
      "The center padded dn_stack =\n",
      " [[[0 0 0 0 0]\n",
      "  [0 1 1 1 0]\n",
      "  [0 1 1 1 0]\n",
      "  [0 1 1 1 0]\n",
      "  [0 0 0 0 0]]\n",
      "\n",
      " [[0 0 0 0 0]\n",
      "  [0 1 1 1 0]\n",
      "  [0 1 1 1 0]\n",
      "  [0 1 1 1 0]\n",
      "  [0 0 0 0 0]]\n",
      "\n",
      " [[0 0 0 0 0]\n",
      "  [0 1 1 1 0]\n",
      "  [0 1 1 1 0]\n",
      "  [0 1 1 1 0]\n",
      "  [0 0 0 0 0]]]\n"
     ]
    }
   ],
   "source": [
    "import jax.numpy as jnp\n",
    "from chromatix.utils import center_pad\n",
    "\n",
    "N_pad = 1\n",
    "dn_stack = jnp.full((3, 3, 3), 1)\n",
    "dn_stack = center_pad(dn_stack, (0, N_pad, N_pad))\n",
    "print(\"The center padded dn_stack =\\n\", dn_stack)\n"
   ]
  },
  {
   "cell_type": "markdown",
   "id": "4660fdba",
   "metadata": {},
   "source": [
    "If not provided, the `propagator` is default as the exact propagator which is computed by the function `compute_exact_propagator`. Then the function performs the perturbation and propagates the field by iterating over each slice. The function `zip()` combines multiple iterables into a single iterator of tuples:"
   ]
  },
  {
   "cell_type": "code",
   "execution_count": 65,
   "id": "2a8f54fd",
   "metadata": {},
   "outputs": [
    {
     "name": "stdout",
     "output_type": "stream",
     "text": [
      "The zipped absorption and dn stack =\n",
      " [(Array([[0, 0, 0, 0, 0],\n",
      "       [0, 2, 2, 2, 0],\n",
      "       [0, 2, 2, 2, 0],\n",
      "       [0, 2, 2, 2, 0],\n",
      "       [0, 0, 0, 0, 0]], dtype=int32, weak_type=True), Array([[0, 0, 0, 0, 0],\n",
      "       [0, 1, 1, 1, 0],\n",
      "       [0, 1, 1, 1, 0],\n",
      "       [0, 1, 1, 1, 0],\n",
      "       [0, 0, 0, 0, 0]], dtype=int32, weak_type=True)), (Array([[0, 0, 0, 0, 0],\n",
      "       [0, 2, 2, 2, 0],\n",
      "       [0, 2, 2, 2, 0],\n",
      "       [0, 2, 2, 2, 0],\n",
      "       [0, 0, 0, 0, 0]], dtype=int32, weak_type=True), Array([[0, 0, 0, 0, 0],\n",
      "       [0, 1, 1, 1, 0],\n",
      "       [0, 1, 1, 1, 0],\n",
      "       [0, 1, 1, 1, 0],\n",
      "       [0, 0, 0, 0, 0]], dtype=int32, weak_type=True)), (Array([[0, 0, 0, 0, 0],\n",
      "       [0, 2, 2, 2, 0],\n",
      "       [0, 2, 2, 2, 0],\n",
      "       [0, 2, 2, 2, 0],\n",
      "       [0, 0, 0, 0, 0]], dtype=int32, weak_type=True), Array([[0, 0, 0, 0, 0],\n",
      "       [0, 1, 1, 1, 0],\n",
      "       [0, 1, 1, 1, 0],\n",
      "       [0, 1, 1, 1, 0],\n",
      "       [0, 0, 0, 0, 0]], dtype=int32, weak_type=True))]\n"
     ]
    }
   ],
   "source": [
    "absorption_stack = jnp.full((3, 3, 3), 2)\n",
    "absorption_stack = center_pad(absorption_stack, (0, N_pad, N_pad))\n",
    "\n",
    "zipped = zip(absorption_stack, dn_stack)\n",
    "print(\"The zipped absorption and dn stack =\\n\", list(zipped))"
   ]
  },
  {
   "cell_type": "markdown",
   "id": "c64bbd16",
   "metadata": {},
   "source": [
    "The two 3D arrays are zipped into a list of three tuples and each tuple contains a pair of two single slices from the `absorption_stack` and `dn_stack`.\n",
    "\n",
    "Then each slice of the `absorption_stack` and `dn_stack` is broadcast to match the dimensions of the field, allowing element-wise operations. And the perturbation is performed by the function `thin_sample` and the propagation is performed by the function `kernel_propagation`.\n",
    "\n",
    "After the loop, the `field` represents the field at the exit plane. But then, by default, the field is propagated backwards to the center of the thick sample. Therefore, if we want to get the field at the exit plane, the `reverse_propagate_distance` must be set as $0$."
   ]
  },
  {
   "cell_type": "markdown",
   "id": "9905a92f",
   "metadata": {},
   "source": [
    "#### **Function 4: fluorescent_multislice_thick_sample**"
   ]
  },
  {
   "cell_type": "markdown",
   "id": "a9b4ed47",
   "metadata": {},
   "source": [
    "*Source Code*"
   ]
  },
  {
   "cell_type": "code",
   "execution_count": null,
   "id": "0889ee5b",
   "metadata": {},
   "outputs": [],
   "source": [
    "def fluorescent_multislice_thick_sample(\n",
    "    field: ScalarField,\n",
    "    fluorescence_stack: Array,\n",
    "    dn_stack: Array,\n",
    "    n: float,\n",
    "    thickness_per_slice: float,\n",
    "    N_pad: int,\n",
    "    key: jax.random.PRNGKey,\n",
    "    num_samples: int = 1,\n",
    "    propagator_forward: Optional[Array] = None,\n",
    "    propagator_backward: Optional[Array] = None,\n",
    "    kykx: Union[Array, Tuple[float, float]] = (0.0, 0.0),\n",
    ") -> Array:\n",
    "    \"\"\"\n",
    "    Perturbs incoming ``ScalarField`` as if it went through a thick,\n",
    "    transparent, and fluorescent sample, i.e. a sample consisting of some\n",
    "    distribution of fluorophores emitting within a clear (phase only) scattering\n",
    "    volume. The thick sample is modeled as being made of many thin slices each\n",
    "    of a given thickness. The ``fluorescence_stack`` contains the fluorescence\n",
    "    intensities of each sample slice. The ``dn_stack`` contains the phase delay\n",
    "    of each sample slice. Expects that the same sample is being applied to all\n",
    "    elements across the batch of the incoming ``ScalarField``.\n",
    "\n",
    "    This function simulates the incoherent light from fluorophores using a\n",
    "    Monte-Carlo approach in which random phases are applied to the fluorescence\n",
    "    and the resulting propagations are averaged.\n",
    "\n",
    "    A ``propagator_forward`` and a ``propagator_backward`` defining the\n",
    "    propagation kernels for the field going forward and backward through each\n",
    "    slice can be provided. By default, these propagator kernels is calculated\n",
    "    inside the function. After passing through all slices, the field is\n",
    "    propagated backwards slice by slice to compute the scattered fluorescence\n",
    "    intensity.\n",
    "\n",
    "    Returns an ``Array`` with the result of the scattered fluorescence volume.\n",
    "\n",
    "    Args:\n",
    "        field: The complex field to be perturbed.\n",
    "        fluorescence_stack: The sample fluorescence amplitude for each slice\n",
    "            defined as ``(D H W)`` array, where D is the total number of slices.\n",
    "        dn_stack: sample refractive index change for each slice ``(D H W)``\n",
    "            array. Shape should be the same that for ``fluorescence_stack``.\n",
    "        n: Average refractive index of the sample.\n",
    "        thickness_per_slice: How far to propagate for each slice.\n",
    "        N_pad: A keyword argument integer defining the pad length for the\n",
    "            propagation FFT (NOTE: should not be a `jax` ``Array``, otherwise\n",
    "            a ConcretizationError will arise when traced!). Use padding\n",
    "            calculator utilities from ``chromatix.functional.propagation`` to\n",
    "            calculate the padding.\n",
    "        key: A ``PRNGKey`` used to generate the random phases in each sample.\n",
    "        num_samples: The number of Monte-Carlo samples (random phases) to simulate.\n",
    "        propagator_forward: The propagator kernel for the forward propagation through\n",
    "            the sample.\n",
    "        propagator_backward: The propagator kernel for the backward propagation\n",
    "            through the sample.\n",
    "        kykx: If provided, defines the orientation of the propagation. Should\n",
    "            be an array of shape `(2,)` in the format ``[ky, kx]``.\n",
    "    \"\"\"\n",
    "    keys = jax.random.split(key, num=num_samples)\n",
    "    original_field_shape = field.shape\n",
    "    axes = field.spatial_dims\n",
    "    assert_equal_shape([fluorescence_stack, dn_stack])\n",
    "    field = pad(field, N_pad)\n",
    "    dn_stack = center_pad(dn_stack, (0, N_pad, N_pad))\n",
    "    if propagator_forward is None:\n",
    "        propagator_forward = compute_asm_propagator(field, thickness_per_slice, n, kykx)\n",
    "    if propagator_backward is None:\n",
    "        propagator_backward = compute_asm_propagator(\n",
    "            field, -thickness_per_slice, n, kykx\n",
    "        )\n",
    "\n",
    "    def _forward(i, field_and_fluorescence_stack):\n",
    "        (field, fluorescence_stack) = field_and_fluorescence_stack\n",
    "        fluorescence = _broadcast_2d_to_spatial(fluorescence_stack[i], field.ndim)\n",
    "        dn = _broadcast_2d_to_spatial(dn_stack[i], field.ndim)\n",
    "        field = field * jnp.exp(\n",
    "            1j * 2 * jnp.pi * dn * thickness_per_slice / field.spectrum\n",
    "        )\n",
    "        u = ifft(\n",
    "            fft(fluorescence + field.u, axes=axes, shift=False) * propagator_forward,\n",
    "            axes=axes,\n",
    "            shift=False,\n",
    "        )\n",
    "        field = field.replace(u=u)\n",
    "        return field, fluorescence_stack\n",
    "\n",
    "    def _backward(i, field_and_intensity_stack):\n",
    "        (field, intensity_stack) = field_and_intensity_stack\n",
    "        u = field.u * propagator_backward\n",
    "        field = field.replace(u=u)\n",
    "        field_i = field.replace(u=ifft(u, axes=axes, shift=False))\n",
    "        intensity_stack = intensity_stack.at[intensity_stack.shape[0] - 1 - i].add(\n",
    "            crop(field_i, N_pad).intensity[0]\n",
    "        )\n",
    "        return (field, intensity_stack)\n",
    "\n",
    "    def _sample(i, field_and_intensity_stack):\n",
    "        (field, intensity_stack) = field_and_intensity_stack\n",
    "        random_phase_stack = jax.random.uniform(\n",
    "            keys[i], fluorescence_stack.shape, minval=0, maxval=2 * jnp.pi\n",
    "        )\n",
    "        _fluorescence_stack = center_pad(\n",
    "            fluorescence_stack * jnp.exp(1j * random_phase_stack), (0, N_pad, N_pad)\n",
    "        )\n",
    "        (field, _) = jax.lax.fori_loop(\n",
    "            0, _fluorescence_stack.shape[0], _forward, (field, _fluorescence_stack)\n",
    "        )\n",
    "        field = field.replace(u=fft(field.u, axes=axes, shift=False))\n",
    "        (field, intensity_stack) = jax.lax.fori_loop(\n",
    "            0, intensity_stack.shape[0], _backward, (field, intensity_stack)\n",
    "        )\n",
    "        return (field, intensity_stack)\n",
    "\n",
    "    intensity_stack = jnp.zeros(\n",
    "        (fluorescence_stack.shape[0], *original_field_shape[1:])\n",
    "    )\n",
    "    (_, intensity_stack) = jax.lax.fori_loop(\n",
    "        0, num_samples, _sample, (field, intensity_stack)\n",
    "    )\n",
    "    intensity_stack /= num_samples\n",
    "    return intensity_stack"
   ]
  },
  {
   "cell_type": "markdown",
   "id": "9d629db0",
   "metadata": {},
   "source": [
    "*Explanation*"
   ]
  },
  {
   "cell_type": "markdown",
   "id": "67049ce2",
   "metadata": {},
   "source": [
    "1. Basics\n",
    "\n",
    "This function simulates the propagation of a scalar field through a thick, transparent, and fluorescent sample. Similarly to the `multislice_thick_sample`, this sample is also modeled as a stack of thin slices, each slice contributes to fluorescent and phase shifts and ignores the absorption.\n",
    "\n",
    "Fluorescence is one of two kinds of emission of light by a substance that has absorbed light or other electromagnetic radiation[@Fluorescence]. The substances are called fluorophores, and the emitted light is incoherent.\n",
    "\n",
    "This fluorescent effect of the sample is simulated by the argument `fluorescence_stack` which has the same shape as the `dn_stack` representing the fluorescence intensity in each slice.\n",
    "\n",
    "The `dn_stack` is a 3D array of refractive index changes for each slice. `n` is the average refractive index of the sample.\n",
    "\n",
    "The `key` is a random number generator key for generating random phases of the fluorescent light, and it's generated by `jnp.random.PRNGKey(seed)`:"
   ]
  },
  {
   "cell_type": "code",
   "execution_count": 66,
   "id": "471f3a83",
   "metadata": {},
   "outputs": [
    {
     "name": "stdout",
     "output_type": "stream",
     "text": [
      "The key =  [0 5]\n"
     ]
    }
   ],
   "source": [
    "import jax\n",
    "\n",
    "seed = 5\n",
    "key = jax.random.PRNGKey(seed)\n",
    "print(\"The key = \", key)"
   ]
  },
  {
   "cell_type": "markdown",
   "id": "cf7de297",
   "metadata": {},
   "source": [
    "From this key, we can generate random numbers with functions like `jnp.random.uniform()` or `jnp.random.normal()`. And as long as the key doesn't change, the generated random numbers won't change:"
   ]
  },
  {
   "cell_type": "code",
   "execution_count": 68,
   "id": "803b3312",
   "metadata": {},
   "outputs": [
    {
     "name": "stdout",
     "output_type": "stream",
     "text": [
      "The random array =\n",
      " [[-0.75  0.41  0.69]\n",
      " [ 1.97 -1.02  0.2 ]\n",
      " [ 0.29 -1.33  1.08]]\n"
     ]
    }
   ],
   "source": [
    "random_arr = jax.random.normal(key, (3, 3))\n",
    "print(\"The random array =\\n\", random_arr)"
   ]
  },
  {
   "cell_type": "markdown",
   "id": "e71f1c1f",
   "metadata": {},
   "source": [
    "For simulating the incoherent light from fluorophores, here applies the Monte Carlo approach. Monte Carlo methods, or Monte Carlo experiments, are a broad class of computational algorithms that rely on repeated random sampling to obtain numerical results. The underlying concept is to use randomness to solve problems that might be deterministic in principle[@Monte_Carlo].\n",
    "\n",
    "The `num_samples` is the number of Monte Carlo samples to simulate. The function performs multiple simulations with the samples, each with a different set of random phases. For each sample, the resulting intensities are calculated, and these intensities are averaged to obtain the final intensity distribution.\n",
    "\n",
    "The `propagator_forward` and the `propagator_backward` are optional precomputed propagator kernels for forward and backward propagation. By the two if-clause, they are defaulted to Angular Spectrum Method propagator (`compute_asm_propagator`).\n",
    "\n",
    "The `jax.random.split()` function splits the provided `key` into `num_samples` separate keys for generating independent random phases in each Monte Carlo sample, ensuring that each Monte Carlo sample uses different sets of random phases for the fluorescence emission:"
   ]
  },
  {
   "cell_type": "code",
   "execution_count": 70,
   "id": "26f29527",
   "metadata": {},
   "outputs": [
    {
     "name": "stdout",
     "output_type": "stream",
     "text": [
      "The keys are: [[2939540675 3006210766]\n",
      " [3038296040 3076691462]\n",
      " [ 279368646 2516963019]]\n"
     ]
    }
   ],
   "source": [
    "num_samples = 3\n",
    "keys = jax.random.split(key, num = num_samples)\n",
    "\n",
    "print(\"The keys are:\", keys)"
   ]
  },
  {
   "cell_type": "markdown",
   "id": "11d2a514",
   "metadata": {},
   "source": [
    "The `original_field_shape` and the `axes` are to store the shape and axes of the input field for later use. The `assert_equal_shape` is to ensure that the `fluorescence_stack` and `dn_stack` have the same shape to avoid calculation failures. Then the `field` is padded for FFT operations and `dn_stack` is padded for match the size of the `field`.\n",
    "\n",
    "2. def _forward\n",
    "\n",
    "This is a nested function taking `i` and `field_and_fluorescence_stack` as arguments. The `i` is the loop counter used with the function `jax.lax.fori_loop()` in another nested function `_sample`. The input `field_and_fluorescence_stack` is the unpacked output tuple `(field, fluorescence_stack)` of the last iteration of the loop.\n",
    "\n",
    "As the name implies, this function propagates the field forward through a single slice of the thick sample. To achieve this, the `dn_stack[i]` and the `fluorescence_stack[i]` are broadcast to match the dimensionality of the field.\n",
    "\n",
    "Then, the field is multiplied by a phase factor:\n",
    "\n",
    "$$ \\text{Phase Factor} = \\exp\\left(i \\frac{2\\pi}{\\lambda} \\Delta n\\Delta z \\right) \\tag{2.3.78}$$\n",
    "\n",
    "where the $\\Delta n$ is the change of refractive index, and the $\\Delta z$ is the thickness of a slice. Therefore, this phase factor means the phase shift caused by the refractive index difference of a slice.\n",
    "\n",
    "Next, the `u`, which represents the propagated field is computed by Fourier transforms. The sum of the current field `field.u` and the fluorescence from the slice is Fourier transformed to frequency domain, then multiplied by the forward propagator and inverse Fourier transformed back into the space domain. This whole operation is acutally the function `kernel_propagator`.\n",
    "\n",
    "Finally, the updated field `field` and the unchanged fluorescence stack `fluorescence_stack` are returned so the loop can continue.\n",
    "\n",
    "3. def _backward\n",
    "\n",
    "This nested function propagates the field backwards. However, the input field is not in space domain but in freqencey domain, because in the `_sample` function, the field has been Fourier transformed to frequency domain by `field = field.replace(u=fft(field.u, axes=axes, shift=False))` before it's passed to the loop afterwards.\n",
    "\n",
    "The `field = field.replace(u=u)` updates the field with backward-propagated field, which is still in freqencey domain. The `field_i = field.replace(u=ifft(u, axes=axes, shift=False))` computes the field in spatial domain after backward propagation.\n",
    "\n",
    "The `intensity_stack` stores the intensity at the corresponding slice. The combination of `.at[]` method and `.add()` method of `jax.numpy` allows to add values to specific elements at those indices. For example:"
   ]
  },
  {
   "cell_type": "code",
   "execution_count": 3,
   "id": "431914f1",
   "metadata": {},
   "outputs": [
    {
     "name": "stdout",
     "output_type": "stream",
     "text": [
      "[1 2 6 4]\n"
     ]
    }
   ],
   "source": [
    "import jax.numpy as jnp\n",
    "\n",
    "arr = jnp.array([1, 2, 3, 4])\n",
    "\n",
    "arr = arr.at[2].add(3)\n",
    "\n",
    "print(arr)"
   ]
  },
  {
   "cell_type": "markdown",
   "id": "c4e86ad1",
   "metadata": {},
   "source": [
    "The indexing `intensity_stack.shape[0] - 1 - i` ensures that we record intensities in the correct order as we backward propagate from the last slice to the first slice. \n",
    "\n",
    "Then, the updated values `field` and `intensity_stack` are returned and passed to the next iteration. \n",
    "\n",
    "3. def _sample\n",
    "\n",
    "This function calculate Monte Carlo samples. For each Monte Carlo sample, it imposes a random phase (`random_phase_stack`) on the fluorescence. This random phase is generated by the function `jax.random.uniform()` with the same shape as the `fluorescence_stack` and a range of $(0, 2\\pi)$.\n",
    "\n",
    "Then, this phase factor is multiplied with the fluorescent amplitude `fluorescence_stack`, so that we have a complex field for each slice which represents the fluorescent emission. And this complex field is then padded by the function `canter_pad()` to become the `_fluorescence_stack`\n",
    "\n",
    "The line `(field, _) = jax.lax.fori_loop(...)` runs the `_forward` function loop through all slices, simulating forward propagation including fluorescence and phase delays. The `(field, _)` means we are only interested in the `field` part of the returned tuple since the `fluorescence_stack` won't be updated by the `_forward` function. `_` is a convention for ignoring this value.\n",
    "\n",
    "The `jax.lax.fori_loop(lower, upper, body_fun, init_val)` is a functional equivalent of a standard `for` loop. For example:"
   ]
  },
  {
   "cell_type": "code",
   "execution_count": 8,
   "id": "ad5ec287",
   "metadata": {},
   "outputs": [
    {
     "name": "stdout",
     "output_type": "stream",
     "text": [
      "The sum = 15\n"
     ]
    }
   ],
   "source": [
    "import jax\n",
    "\n",
    "def add(i, x):\n",
    "    return x + i\n",
    "\n",
    "# Exclusive of 6\n",
    "sum = jax.lax.fori_loop(0, 6, add, 0)\n",
    "\n",
    "print(\"The sum =\", sum)"
   ]
  },
  {
   "cell_type": "markdown",
   "id": "25481626",
   "metadata": {},
   "source": [
    "Next, the backward propagation is performed in the same way as the forward propagation except for that the `intensity_stack` is updated every time.\n",
    "\n",
    "Back to the main code flow, the `intensity_stack` is initialized as a 3D zero array for storing intensities of each slice. The argument `fluorescence_stack.shape[0]` returns the batch dimension which is the number of slices, the `*original_field_shape[1:]` returns the last two dimensions of the `*original_field_shape` which represents the height and width.\n",
    "\n",
    "Then, another `jax.lax.fori_loop()` runs the `_sample` loop `num_sample` times. After each iteration, `intensity_stack` is incrementally updated. The final `intensity_stack` contains the sum of intensities from all Monte Carlo realizations for each slice. Finally, the `intensity_stack` is divided by the `num_samples`, so that we have the averaged `intensity_stack` as return. This is approach is called the Monte Carlo approach."
   ]
  },
  {
   "cell_type": "markdown",
   "id": "32504369",
   "metadata": {},
   "source": [
    "#### **Function 5: PTFT**"
   ]
  },
  {
   "cell_type": "markdown",
   "id": "bda8336d",
   "metadata": {},
   "source": [
    "*Source Code*"
   ]
  },
  {
   "cell_type": "code",
   "execution_count": null,
   "id": "321ecdfe",
   "metadata": {},
   "outputs": [],
   "source": [
    "# depolarised wave\n",
    "def PTFT(k, km: Array) -> Array:\n",
    "    Q = jnp.zeros((3, 3, *k.shape[1:]))\n",
    "\n",
    "    # Setting diagonal\n",
    "    Q_diag = 1 - k**2 / km**2\n",
    "    Q = Q.at[jnp.diag_indices(3)].set(Q_diag)\n",
    "\n",
    "    # Calculating off-diagonal elements\n",
    "    def q_ij(i, j):\n",
    "        return -k[i] * k[j] / km**2\n",
    "\n",
    "    # Setting upper diagonal\n",
    "    Q = Q.at[0, 1].set(q_ij(0, 1))\n",
    "    Q = Q.at[0, 2].set(q_ij(0, 2))\n",
    "    Q = Q.at[1, 2].set(q_ij(1, 2))\n",
    "\n",
    "    # Setting lower diagonal, mirror symmetry\n",
    "    Q = Q.at[1, 0].set(q_ij(0, 1))\n",
    "    Q = Q.at[2, 0].set(q_ij(0, 2))\n",
    "    Q = Q.at[2, 1].set(q_ij(1, 2))\n",
    "\n",
    "    # We move the axes to the back, easier matmul\n",
    "    return jnp.moveaxis(Q.squeeze(-1), (0, 1), (-2, -1))"
   ]
  },
  {
   "cell_type": "markdown",
   "id": "1e707e3c",
   "metadata": {},
   "source": [
    "*Explanation*"
   ]
  },
  {
   "cell_type": "markdown",
   "id": "a824fe57",
   "metadata": {},
   "source": [
    "This function is to create a projection tensor for transverse wave (PTFT). This projection tensor projects vectors onto the plane perpendicular to the wave vector $\\textbf{k}$. The mathematical form of this projection tensor is:\n",
    "\n",
    "$$Q_{ij} = \\delta_{ij} - \\frac{(k_i \\cdot k_j)}{|k|^2} \\tag{2.3.79} $$\n",
    "\n",
    "where $\\delta_{ij}$ is the Kronecker delta function which returns $1$ if $i=j$ and $0$ otherwise, $k_i$ and $k_j$ are the i-th and j-th components of the wave vector $\\textbf{k}$. In this function $\\textbf{k}=(k_z, k_y, k_x)$, thus, $k_0 = k_z$, $k_1 = k_y$ and $k_3 = k_x$. The magnitude of the wave vector $|k|$ is given by $\\frac{2\\pi n}{\\lambda}$ which is the argument `km`.\n",
    "\n",
    "The argument `k` should be a 3D array with shape `(N_z, N_y, N_x)`:"
   ]
  },
  {
   "cell_type": "code",
   "execution_count": 1,
   "id": "17d298e9",
   "metadata": {},
   "outputs": [
    {
     "name": "stdout",
     "output_type": "stream",
     "text": [
      "The shape of the first k= (2, 1, 5, 5, 1, 1)\n",
      "The shape of the kz = (1, 5, 5, 1, 1)\n",
      "The shape of the final k = (3, 1, 5, 5, 1, 1)\n"
     ]
    }
   ],
   "source": [
    "from chromatix.field import Field\n",
    "import jax.numpy as jnp\n",
    "import jax.random as jran\n",
    "\n",
    "key = jran.PRNGKey(10)\n",
    "u = jran.uniform(key, (1, 5, 5, 1, 1))\n",
    "u = u.astype(jnp.complex64)\n",
    "\n",
    "field = Field(\n",
    "    u=u,\n",
    "    _dx=jnp.array([[0.1], [0.1]]),\n",
    "    _spectrum=jnp.array([0.55]),\n",
    "    _spectral_density=jnp.array([1.0]),\n",
    ")\n",
    "\n",
    "# The argument k is supposed to be calculated like this:\n",
    "# Wavenumber in the free space\n",
    "km = 2 * jnp.pi / field.spectrum\n",
    "# k_y and k_x grid centered by fftshift\n",
    "k = jnp.fft.fftshift(field.k_grid, axes=field.spatial_dims)\n",
    "kz = jnp.sqrt(km**2 - jnp.sum(k**2, axis = 0))\n",
    "k = jnp.concatenate([kz[None, ...], k], axis = 0)\n",
    "\n",
    "print(\"The shape of the first k=\", field.k_grid.shape)\n",
    "print(\"The shape of the kz =\", kz.shape)\n",
    "print(\"The shape of the final k =\", k.shape)"
   ]
  },
  {
   "cell_type": "markdown",
   "id": "8d05d212",
   "metadata": {},
   "source": [
    "Ignoring the singleton dimensions, the $k$ should be a 3D array which contains three $5 \\times 5$ arrays representing the grids of $k_z$, $k_y$ and $k_x$. "
   ]
  },
  {
   "cell_type": "code",
   "execution_count": 7,
   "id": "c85aaff0",
   "metadata": {},
   "outputs": [
    {
     "name": "stdout",
     "output_type": "stream",
     "text": [
      "The shape of the initial Q =  (3, 3, 1, 5, 5, 1, 1)\n",
      "The squeezed Q =\n",
      " [[[[0. 0. 0. 0. 0.]\n",
      "   [0. 0. 0. 0. 0.]\n",
      "   [0. 0. 0. 0. 0.]\n",
      "   [0. 0. 0. 0. 0.]\n",
      "   [0. 0. 0. 0. 0.]]\n",
      "\n",
      "  [[0. 0. 0. 0. 0.]\n",
      "   [0. 0. 0. 0. 0.]\n",
      "   [0. 0. 0. 0. 0.]\n",
      "   [0. 0. 0. 0. 0.]\n",
      "   [0. 0. 0. 0. 0.]]\n",
      "\n",
      "  [[0. 0. 0. 0. 0.]\n",
      "   [0. 0. 0. 0. 0.]\n",
      "   [0. 0. 0. 0. 0.]\n",
      "   [0. 0. 0. 0. 0.]\n",
      "   [0. 0. 0. 0. 0.]]]\n",
      "\n",
      "\n",
      " [[[0. 0. 0. 0. 0.]\n",
      "   [0. 0. 0. 0. 0.]\n",
      "   [0. 0. 0. 0. 0.]\n",
      "   [0. 0. 0. 0. 0.]\n",
      "   [0. 0. 0. 0. 0.]]\n",
      "\n",
      "  [[0. 0. 0. 0. 0.]\n",
      "   [0. 0. 0. 0. 0.]\n",
      "   [0. 0. 0. 0. 0.]\n",
      "   [0. 0. 0. 0. 0.]\n",
      "   [0. 0. 0. 0. 0.]]\n",
      "\n",
      "  [[0. 0. 0. 0. 0.]\n",
      "   [0. 0. 0. 0. 0.]\n",
      "   [0. 0. 0. 0. 0.]\n",
      "   [0. 0. 0. 0. 0.]\n",
      "   [0. 0. 0. 0. 0.]]]\n",
      "\n",
      "\n",
      " [[[0. 0. 0. 0. 0.]\n",
      "   [0. 0. 0. 0. 0.]\n",
      "   [0. 0. 0. 0. 0.]\n",
      "   [0. 0. 0. 0. 0.]\n",
      "   [0. 0. 0. 0. 0.]]\n",
      "\n",
      "  [[0. 0. 0. 0. 0.]\n",
      "   [0. 0. 0. 0. 0.]\n",
      "   [0. 0. 0. 0. 0.]\n",
      "   [0. 0. 0. 0. 0.]\n",
      "   [0. 0. 0. 0. 0.]]\n",
      "\n",
      "  [[0. 0. 0. 0. 0.]\n",
      "   [0. 0. 0. 0. 0.]\n",
      "   [0. 0. 0. 0. 0.]\n",
      "   [0. 0. 0. 0. 0.]\n",
      "   [0. 0. 0. 0. 0.]]]]\n"
     ]
    }
   ],
   "source": [
    "Q = jnp.zeros((3, 3, *k.shape[1:]))\n",
    "print(\"The shape of the initial Q = \", Q.shape)\n",
    "print(\"The squeezed Q =\\n\", Q.squeeze())"
   ]
  },
  {
   "cell_type": "markdown",
   "id": "6711686f",
   "metadata": {},
   "source": [
    "The first two dimensions `(3, 3)` correspond to the matrix indices $(i, j)$ that run over the three vector components. Essentially, `Q` is a collection of $3 \\times 3$ matrices, one for each point defined by `k.shape[1:0]`.\n",
    "\n",
    "`Q_diag` represents the diagonal elements, where $i = j$. `k**2` is element-wise squaring $(k_z^2, k_y^2, k_x^2)$. The line `Q = Q.at[jnp.diag_indices(3)].set(Q_diag)` places these diagonal elements along the main diagonal of the 3x3 part of Q:"
   ]
  },
  {
   "cell_type": "code",
   "execution_count": 13,
   "id": "61dff681",
   "metadata": {},
   "outputs": [
    {
     "name": "stdout",
     "output_type": "stream",
     "text": [
      "The Q with diagonal elements =\n",
      " [[[[0.01532483 0.07662416 0.19922274 0.07662416 0.01532483]\n",
      "   [0.07662416 0.13792342 0.26052207 0.13792342 0.07662416]\n",
      "   [0.19922274 0.26052207 0.38312078 0.26052207 0.19922274]\n",
      "   [0.07662416 0.13792342 0.26052207 0.13792342 0.07662416]\n",
      "   [0.01532483 0.07662416 0.19922274 0.07662416 0.01532483]]\n",
      "\n",
      "  [[0.         0.         0.         0.         0.        ]\n",
      "   [0.         0.         0.         0.         0.        ]\n",
      "   [0.         0.         0.         0.         0.        ]\n",
      "   [0.         0.         0.         0.         0.        ]\n",
      "   [0.         0.         0.         0.         0.        ]]\n",
      "\n",
      "  [[0.         0.         0.         0.         0.        ]\n",
      "   [0.         0.         0.         0.         0.        ]\n",
      "   [0.         0.         0.         0.         0.        ]\n",
      "   [0.         0.         0.         0.         0.        ]\n",
      "   [0.         0.         0.         0.         0.        ]]]\n",
      "\n",
      "\n",
      " [[[0.         0.         0.         0.         0.        ]\n",
      "   [0.         0.         0.         0.         0.        ]\n",
      "   [0.         0.         0.         0.         0.        ]\n",
      "   [0.         0.         0.         0.         0.        ]\n",
      "   [0.         0.         0.         0.         0.        ]]\n",
      "\n",
      "  [[0.9923376  0.9923376  0.9923376  0.9923376  0.9923376 ]\n",
      "   [0.93103826 0.93103826 0.93103826 0.93103826 0.93103826]\n",
      "   [0.8084396  0.8084396  0.8084396  0.8084396  0.8084396 ]\n",
      "   [0.93103826 0.93103826 0.93103826 0.93103826 0.93103826]\n",
      "   [0.9923376  0.9923376  0.9923376  0.9923376  0.9923376 ]]\n",
      "\n",
      "  [[0.         0.         0.         0.         0.        ]\n",
      "   [0.         0.         0.         0.         0.        ]\n",
      "   [0.         0.         0.         0.         0.        ]\n",
      "   [0.         0.         0.         0.         0.        ]\n",
      "   [0.         0.         0.         0.         0.        ]]]\n",
      "\n",
      "\n",
      " [[[0.         0.         0.         0.         0.        ]\n",
      "   [0.         0.         0.         0.         0.        ]\n",
      "   [0.         0.         0.         0.         0.        ]\n",
      "   [0.         0.         0.         0.         0.        ]\n",
      "   [0.         0.         0.         0.         0.        ]]\n",
      "\n",
      "  [[0.         0.         0.         0.         0.        ]\n",
      "   [0.         0.         0.         0.         0.        ]\n",
      "   [0.         0.         0.         0.         0.        ]\n",
      "   [0.         0.         0.         0.         0.        ]\n",
      "   [0.         0.         0.         0.         0.        ]]\n",
      "\n",
      "  [[0.9923376  0.93103826 0.8084396  0.93103826 0.9923376 ]\n",
      "   [0.9923376  0.93103826 0.8084396  0.93103826 0.9923376 ]\n",
      "   [0.9923376  0.93103826 0.8084396  0.93103826 0.9923376 ]\n",
      "   [0.9923376  0.93103826 0.8084396  0.93103826 0.9923376 ]\n",
      "   [0.9923376  0.93103826 0.8084396  0.93103826 0.9923376 ]]]]\n"
     ]
    }
   ],
   "source": [
    "Q_diag = 1 - k**2 / km**2\n",
    "Q = Q.at[jnp.diag_indices(3)].set(Q_diag)\n",
    "print(\"The Q with diagonal elements =\\n\", Q.squeeze())"
   ]
  },
  {
   "cell_type": "markdown",
   "id": "690bb279",
   "metadata": {},
   "source": [
    "The inline function `q_ij` returns the off-diagonal element where $i \\ne j$. Then, the rest of the code sets the upper and lower diagonal elements as the corresponding terms, so that the complete `Q` array is constructed.\n",
    "\n",
    "The `jnp.moveaxis()` function is used to rearrange dimensions so that the last two dimensions of the returned array are the $3 \\times 3$ matrices indices. The `squeeze(-1)` removes the last singleton dimensions that arose from the initial definition:"
   ]
  },
  {
   "cell_type": "code",
   "execution_count": 17,
   "id": "9ee7e75b",
   "metadata": {},
   "outputs": [
    {
     "name": "stdout",
     "output_type": "stream",
     "text": [
      "The shape of the squeezed Q = (3, 3, 1, 5, 5, 1)\n",
      "The shape of the final Q = (1, 5, 5, 1, 3, 3)\n"
     ]
    }
   ],
   "source": [
    "print(\"The shape of the squeezed Q =\", Q.squeeze(-1).shape)\n",
    "print(\"The shape of the final Q =\", jnp.moveaxis(Q.squeeze(-1), (0, 1), (-2, -1)).shape)"
   ]
  },
  {
   "cell_type": "markdown",
   "id": "bb3b2ad7",
   "metadata": {},
   "source": [
    "#### **Function 6: bmatvect**"
   ]
  },
  {
   "cell_type": "markdown",
   "id": "9aa83a87",
   "metadata": {},
   "source": [
    "*Source Code*"
   ]
  },
  {
   "cell_type": "code",
   "execution_count": null,
   "id": "4de605ef",
   "metadata": {},
   "outputs": [],
   "source": [
    "def bmatvec(a, b):\n",
    "    return jnp.matmul(a, b[..., None]).squeeze(-1)"
   ]
  },
  {
   "cell_type": "markdown",
   "id": "96af321b",
   "metadata": {},
   "source": [
    "*Explanation*"
   ]
  },
  {
   "cell_type": "markdown",
   "id": "f835849c",
   "metadata": {},
   "source": [
    "This is to perform the matrix-vector multiplication for the next function `thick_sample_vector`. The arguments `a` would be a matrix, and `b` would be a vector. The `jnp.matmul` performs the matrix multiplication, and `b[..., None]` adds a new axis as the last dimension of `b`, since the `jnp.matmul` requires a column vector rather than a 1D vector."
   ]
  },
  {
   "cell_type": "markdown",
   "id": "a4526039",
   "metadata": {},
   "source": [
    "#### **Function 7: thick_sample_vector**"
   ]
  },
  {
   "cell_type": "markdown",
   "id": "a538f386",
   "metadata": {},
   "source": [
    "*Source Code*"
   ]
  },
  {
   "cell_type": "code",
   "execution_count": null,
   "id": "68b05074",
   "metadata": {},
   "outputs": [],
   "source": [
    "def thick_sample_vector(\n",
    "    field: VectorField, scatter_potential: Array, dz: float, n: float\n",
    ") -> VectorField:\n",
    "    def P_op(u: Array) -> Array:\n",
    "        phase_factor = jnp.exp(1j * kz * dz)\n",
    "        return ifft(bmatvec(Q, phase_factor * fft(u)))\n",
    "\n",
    "    def Q_op(u: Array) -> Array:\n",
    "        return ifft(bmatvec(Q, fft(u)))\n",
    "\n",
    "    def H_op(u: Array) -> Array:\n",
    "        phase_factor = -1j * dz / 2 * jnp.exp(1j * kz * dz) / kz\n",
    "        return ifft(bmatvec(Q, phase_factor * fft(u)))\n",
    "\n",
    "    # Calculating k vector and PTFT\n",
    "    # We shift k to align in k-space so we dont need shift just like Q\n",
    "    km = 2 * jnp.pi * n / field.spectrum\n",
    "    k = jnp.fft.ifftshift(field.k_grid, axes=field.spatial_dims)\n",
    "    kz = jnp.sqrt(km**2 - jnp.sum(k**2, axis=0))\n",
    "    k = jnp.concatenate([kz[None, ...], k], axis=0)\n",
    "    Q = PTFT(k, km)\n",
    "\n",
    "    def propagate_slice(u, potential_slice):\n",
    "        scatter_field = bmatvec(potential_slice, Q_op(u))\n",
    "        return P_op(u) + H_op(scatter_field), None\n",
    "\n",
    "    u, _ = jax.lax.scan(propagate_slice, field.u, scatter_potential)\n",
    "    return field.replace(u=u)"
   ]
  },
  {
   "cell_type": "markdown",
   "id": "d53086d4",
   "metadata": {},
   "source": [
    "*Explanation*"
   ]
  },
  {
   "cell_type": "markdown",
   "id": "895472e8",
   "metadata": {},
   "source": [
    "This function simulates a vectorial wave field with scattering potential propagating through a thick sample. Thus, it takes several arguments where the `field` should be a vectorial field, the `scatter_potential` is an array representing the scattering potential along the sample, the `dz` is the thickness of each slice, and the `n` is the refractive index of the sample.\n",
    "\n",
    "The scattering field can be viewed as a spatially varying scalar field that modifies wave propagation. According to the book _Principles of Optics_, the Helmholtz equation with scattering field can be expressed as[@Principles_of_Optics]:\n",
    "\n",
    "$$ \\nabla^2 U(\\textbf{r}, \\omega) + k^2 U(\\textbf{r}, \\omega) = -4\\pi F(\\textbf{r}, \\omega) U(\\textbf{r}, \\omega) \\tag{2.3.80} $$\n",
    "\n",
    "where\n",
    "\n",
    "$$ F(\\textbf{r}, \\omega) = \\frac{1}{4\\pi}k^2\\left[n^2(\\textbf{r}, \\omega) - 1\\right] \\tag{2.3.81} $$\n",
    "\n",
    "The $F(\\textbf{r}, \\omega)$ is called the scattering potential of the medium. And the field $U(\\textbf{r}, \\omega)$ can be expressed as the sum of the incident field $U^{(i)}(\\textbf{r}, \\omega)$ and of the scattered field $U^{(s)}(\\textbf{r}, \\omega)$:\n",
    "\n",
    "$$ U(\\textbf{r}, \\omega) = U^{(i)}(\\textbf{r}, \\omega) + U^{(s)}(\\textbf{r}, \\omega) \\tag{2.3.82} $$\n",
    "\n",
    "1. def P_op\n",
    "\n",
    "There are four nested functions inside the `thick_sample_vector` function. The first one `P_op` simulates the propagtion of the incident field $U^{(i)}(\\textbf{r}, \\omega)$ along a single slice. The `phase_factor` represents the free-space propagation phase shift over a distance `dz`, also known as the transfer function $H_F$:\n",
    "\n",
    "$$ H_F = \\exp(ik_z\\Delta z) \\tag{2.3.83} $$\n",
    "\n",
    "The `bmatvec(Q, phase_factor * fft(u))` applies the projection operator generated by the function `PTFT` to the field `u` in frequency space to remove any components that are parallel to the direction of propagation. Then the `ifft` performs the inverse Fourier transform to figure out the propagated field.\n",
    "\n",
    "2. def Q_op\n",
    "\n",
    "The second function `Q_op` just applies the projection operator `Q` in the Fourier domain for ensuring that the field `u` has no longitudinal components.\n",
    "\n",
    "3. def H_op\n",
    "\n",
    "This one is to propagate the scattered field. The scattered field $U^{(s)}(\\textbf{r})$ can be expressed as[@Principles_of_Optics]:\n",
    "\n",
    "$$ U^{(s)}(\\textbf{r}) = \\int_V U(\\textbf{r}')F(\\textbf{r}')G(\\textbf{r} - \\textbf{r}')d^3r' \\tag{2.3.84} $$\n",
    "\n",
    "where the $G(\\textbf{r} - \\textbf{r}')$ is Green's function of the Helmholtz equation. The equation above can be seen as a convolution of $U(\\textbf{r})F(\\textbf{r})$ and $G(\\textbf{r})$, thus it can be rewrite as:\n",
    "\n",
    "$$ U^{(s)}(\\textbf{r}) = \\mathcal{F^{-1}}\\left\\{ \\mathcal{F}\\left[U(\\textbf{r})F(\\textbf{r})\\right] \\cdot \\mathcal{F}\\left[G(\\textbf{r})\\right] \\right\\} \\tag{2.3.84} $$\n",
    "\n",
    "where \n",
    "\n",
    "$$ \\mathcal{F}\\left[G(\\textbf{r})\\right] \\backsim \\frac{e^{i k_z z}}{2ik_z} \\tag{2.3.85}$$\n",
    "\n",
    "Since the field propagates through a thick sample, the thick sample is regarded as a combination of thin sample slices, each slice should contribute a small portion of the scattered field, then the scattered field of a single slice can be expressed as:\n",
    "\n",
    "$$ \\Delta U^{(s)}(\\textbf{r}) = \\mathcal{F^{-1}}\\left\\{ \\mathcal{F}\\left[U(\\textbf{r})F(\\textbf{r})\\right] \\cdot \\frac{e^{i k_z z}}{2ik_z}\\Delta z \\right\\} \\tag{2.3.86} $$\n",
    "\n",
    "Now we have the `phase_factor`:\n",
    "\n",
    "$$ \\text{Phase Factor} = \\frac{e^{i k_z z}}{2ik_z}\\Delta z \\tag{2.3.87}$$\n",
    "\n",
    "And the `H_op` is actuallu performing the $2.3.86$ with an additional projection operator `Q`.\n",
    "\n",
    "4. def propagate_slice\n",
    "\n",
    "This part calculates the sum of propagated incident field (`P_op(u)`) and the propagated scattered field (`H_op(scatter_field)`) after each slice. The `scatter_field` is actually the $U(\\textbf{r})F(\\textbf{r})$ by matrix multiplication (`bmatvec`), since the $U(\\textbf{r})$ is projected by the `Q_op`.\n",
    "\n",
    "Finally, the total field at the exit of the thick sample is calculated by the function `jax.lax,scan` which loops over `scatter_potential` and for each slice, calls `propagate_slice`."
   ]
  },
  {
   "cell_type": "markdown",
   "id": "4f5fb9a4",
   "metadata": {},
   "source": [
    "### **Module 10: sensors**"
   ]
  },
  {
   "cell_type": "markdown",
   "id": "58d8a68f",
   "metadata": {},
   "source": [
    "#### **Imports**"
   ]
  },
  {
   "cell_type": "markdown",
   "id": "0a3282fe",
   "metadata": {},
   "source": [
    "*Source Code*"
   ]
  },
  {
   "cell_type": "code",
   "execution_count": null,
   "id": "e1ada850",
   "metadata": {},
   "outputs": [],
   "source": [
    "from typing import Callable, Literal, Optional, Union\n",
    "\n",
    "import jax.numpy as jnp\n",
    "from chex import Array, PRNGKey\n",
    "from jax import vmap\n",
    "from jax.lax import psum\n",
    "\n",
    "from ..field import Field\n",
    "from ..ops import approximate_shot_noise, shot_noise"
   ]
  },
  {
   "cell_type": "markdown",
   "id": "0ee58acf",
   "metadata": {},
   "source": [
    "*Explanation*"
   ]
  },
  {
   "cell_type": "markdown",
   "id": "c4e3c4df",
   "metadata": {},
   "source": [
    "The `jax.vmap` takes a function `f` defined to process a single input, and transform it into a new function that can process multiple inputs simultaneously.\n",
    "\n",
    "The `jax.lax.psum` performs a summation of values across multiple devices (like GPUs) or multiple replicas of a function running in parallel.\n",
    "\n",
    "The `approximate_shot_noise` adds approximate shot noise (photon counting noise) to an image using a Gaussian approximation.It treats each pixel’s intensity as a mean of a Poisson distribution and approximates the resulting Poisson noise with a normal distribution whose variance is equal to the pixel intensity. The output is then clipped to ensure non-negative values.\n",
    "\n",
    "The `shot_noise` simulates the effect of Poisson shot noise in imaging by approximating each pixel’s intensity as if it were drawn from a Poisson distribution. Since each pixel value represents an average photon count, Poisson statistics dictate that the variance of that distribution is equal to the mean."
   ]
  },
  {
   "cell_type": "markdown",
   "id": "63d38ad1",
   "metadata": {},
   "source": [
    "#### **Function 1: basic sensor**"
   ]
  },
  {
   "cell_type": "markdown",
   "id": "0d495e6b",
   "metadata": {},
   "source": [
    "*Source Code*"
   ]
  },
  {
   "cell_type": "code",
   "execution_count": null,
   "id": "beca9641",
   "metadata": {},
   "outputs": [],
   "source": [
    "def basic_sensor(\n",
    "    sensor_input: Union[Field, Array],\n",
    "    shot_noise_mode: Optional[Literal[\"approximate\", \"poisson\"]] = None,\n",
    "    resample_fn: Optional[Callable[[Array, float], Array]] = None,\n",
    "    reduce_axis: Optional[int] = None,\n",
    "    reduce_parallel_axis_name: Optional[str] = None,\n",
    "    input_spacing: Optional[Union[float, Array]] = None,\n",
    "    noise_key: Optional[PRNGKey] = None,\n",
    ") -> Array:\n",
    "    \"\"\"\n",
    "    Produces an intensity image from an incoming ``Field`` or intensity\n",
    "    ``Array`` and simulates shot noise.\n",
    "\n",
    "    Args:\n",
    "        sensor_input: Either the incoming ``Field`` or an intensity ``Array`` to\n",
    "            be sampled by the sensor with shot noise.\n",
    "        shot_noise_mode: What type of shot noise simulation to use. Can be\n",
    "            either \"approximate\", \"poisson\", or None. Defaults to None, in which\n",
    "            case no shot noise is simulated (the sensor is perfect).\n",
    "        resample_fn: If provided, will be called to resample the incoming\n",
    "            ``Field`` to the given ``shape``.\n",
    "        reduce_axis: If provided, the result will be summed along this\n",
    "            dimension.\n",
    "        reduce_parallel_axis_name: If provided, psum along the axis with this\n",
    "            name.\n",
    "        input_spacing: Only needs to be provided if ``sensor_input`` is an\n",
    "            intensity ``Array`` and not a ``Field``. If provided, defines the\n",
    "            spacing of the input to be used for resampling by the sensor.\n",
    "        noise_key: If provided, will be used to generate the shot noise.\n",
    "    \"\"\"\n",
    "    if isinstance(sensor_input, Field):\n",
    "        intensity = sensor_input.intensity\n",
    "        # WARNING(dd): @copypaste(Microscope) Assumes that field has same\n",
    "        # spacing at all wavelengths when calculating intensity!\n",
    "        input_spacing = sensor_input.dx[..., 0, 0].squeeze()\n",
    "    else:\n",
    "        intensity = sensor_input\n",
    "    if resample_fn is not None:\n",
    "        assert input_spacing is not None, \"Must provide input_spacing for intensity\"\n",
    "    if resample_fn is not None:\n",
    "        for i in range(sensor_input.ndim - 4):\n",
    "            resample_fn = vmap(resample_fn, in_axes=(0, None))\n",
    "        image = resample_fn(intensity, input_spacing)\n",
    "    else:\n",
    "        image = intensity\n",
    "    if reduce_axis is not None:\n",
    "        image = jnp.sum(image, axis=reduce_axis, keepdims=True)\n",
    "    if reduce_parallel_axis_name is not None:\n",
    "        image = psum(image, axis_name=reduce_parallel_axis_name)\n",
    "    if shot_noise_mode == \"approximate\":\n",
    "        image = approximate_shot_noise(noise_key, image)\n",
    "    elif shot_noise_mode == \"poisson\":\n",
    "        image = shot_noise(noise_key, image)\n",
    "    return image"
   ]
  },
  {
   "cell_type": "markdown",
   "id": "6bee7dc9",
   "metadata": {},
   "source": [
    "*Explanation*"
   ]
  },
  {
   "cell_type": "markdown",
   "id": "42a8ea16",
   "metadata": {},
   "source": [
    "As the name of the function suggests, this function simulate the behavior of a sensor. The `sensor_input` could be an object of the class `Field` or just an array. If it is a `Field` object, the code extracts the intensity from `field.intensity` and sets the argument `input_spacing` from the field's `dx` attribute (`sensor_input.dx`). If the `sensor_input` is an array, the code just set `intensity = sensor_input`, and the `input_spacing` must be provided.\n",
    "\n",
    "If the `resample_fn` is provided, it must be a function (`Callable`) to resample the `intensity`. And if it's provided, the `input_spacing` must also be provided.\n",
    "\n",
    "If `reduce_axis` is provided, the intensity is summed along the specified axis to reduce the dimensionality of the output. If `reduce_parallel_axis_name` is provided, the intensity is summed across parallel axes with the given name.\n",
    "\n",
    "This `basic_sensor` also simulate shot noise. Depending on the `shot_noise_mode`, the function adds approximate shot noise using the `approximate_shot_noise`, or adds Poisson-distributed shot noise using `shot_noise`, or adds nothing if `shot_noise_mode` is `None`.\n",
    "\n",
    "After all those modifications, the function returns the final intensity image."
   ]
  },
  {
   "cell_type": "markdown",
   "id": "5e36a63f",
   "metadata": {},
   "source": [
    "### **Module 11: sources**"
   ]
  },
  {
   "cell_type": "markdown",
   "id": "9cbed15f",
   "metadata": {},
   "source": [
    "### **Imports**"
   ]
  },
  {
   "cell_type": "markdown",
   "id": "4870e7ff",
   "metadata": {},
   "source": [
    "*Source Code*"
   ]
  },
  {
   "cell_type": "code",
   "execution_count": null,
   "id": "0d3bf8d2",
   "metadata": {},
   "outputs": [],
   "source": [
    "from typing import Callable, Optional, Tuple, Union\n",
    "import numpy as np\n",
    "import jax.numpy as jnp\n",
    "from chex import Array, assert_axis_dimension, assert_equal_shape\n",
    "from chromatix.field import Field, ScalarField, VectorField\n",
    "from chromatix.utils import l2_sq_norm\n",
    "from chromatix.utils.shapes import (\n",
    "    _broadcast_1d_to_grid,\n",
    "    _broadcast_1d_to_innermost_batch,\n",
    "    _broadcast_1d_to_polarization,\n",
    ")\n",
    "from .pupils import circular_pupil"
   ]
  },
  {
   "cell_type": "markdown",
   "id": "8216ee96",
   "metadata": {},
   "source": [
    "*Explanation*"
   ]
  },
  {
   "cell_type": "markdown",
   "id": "30772283",
   "metadata": {},
   "source": [
    "The `assert_axis_dimension` check the size of the specific `axis` in the input array:"
   ]
  },
  {
   "cell_type": "code",
   "execution_count": 2,
   "id": "2173ca68",
   "metadata": {},
   "outputs": [],
   "source": [
    "import jax.numpy as jnp\n",
    "import chex\n",
    "\n",
    "arr = jnp.array([[1, 2, 3], [4, 5, 6]])\n",
    "\n",
    "# This will pass\n",
    "chex.assert_axis_dimension(arr, axis = 0, expected = 2)"
   ]
  },
  {
   "cell_type": "markdown",
   "id": "fdab7b15",
   "metadata": {},
   "source": [
    "`assert_equal_shape` asserts that the input arrays have the same shape.\n",
    "\n",
    "The classes `Field`, `ScalarField`, and `VectorField` create general field, scalar field, and vectorial field respectively. And the `Field` is parent class of `ScalarField` and `VectorField`.\n",
    "\n",
    "The function `l2_sq_norm` returns the sums of squares of the elements in an input array along a certain axis, like $x^2 + y^2 + z^2...$.\n",
    "\n",
    "The function `_broadcast_1d_to_grid` broadcast 1D array of size `2` to `(2 B... H W C 1)`. The function `_broadcast_1d_to_innermost_batch` broadcast a 1D array of size `b` to left of `(H W)` in `(B... H W C [1 | 3])`. The `_broadcast_1d_to_polarization` broadcast a 1D array of size `P` to `(B... H W C [1 | 3])`:"
   ]
  },
  {
   "cell_type": "code",
   "execution_count": 5,
   "id": "cfef253e",
   "metadata": {},
   "outputs": [
    {
     "name": "stdout",
     "output_type": "stream",
     "text": [
      "The shape of the broadcast arr =\n",
      " (1, 1, 1, 1, 1, 3)\n"
     ]
    }
   ],
   "source": [
    "from chromatix.utils import _broadcast_1d_to_polarization\n",
    "import jax.numpy as jnp\n",
    "\n",
    "arr = jnp.array([1, 2, 3])\n",
    "\n",
    "arr_broadcasted = _broadcast_1d_to_polarization(arr, 6)\n",
    "\n",
    "print(\"The shape of the broadcast arr =\\n\", arr_broadcasted.shape)"
   ]
  },
  {
   "cell_type": "markdown",
   "id": "d0228f9d",
   "metadata": {},
   "source": [
    "The function `circular_pupil` applies a circular pupil to the input field, and returns the field after the pupil."
   ]
  },
  {
   "cell_type": "markdown",
   "id": "443e80c0",
   "metadata": {},
   "source": [
    "#### **Function 1: point_source**"
   ]
  },
  {
   "cell_type": "markdown",
   "id": "b4e76bb1",
   "metadata": {},
   "source": [
    "*Source Code*"
   ]
  },
  {
   "cell_type": "code",
   "execution_count": null,
   "id": "6e1c0b62",
   "metadata": {},
   "outputs": [],
   "source": [
    "def point_source(\n",
    "    shape: Tuple[int, int],\n",
    "    dx: Union[float, Array],\n",
    "    spectrum: Union[float, Array],\n",
    "    spectral_density: Union[float, Array],\n",
    "    z: float,\n",
    "    n: float,\n",
    "    power: float = 1.0,\n",
    "    amplitude: Union[float, Array] = 1.0,\n",
    "    pupil: Optional[Callable[[ScalarField], ScalarField]] = None,\n",
    "    scalar: bool = True,\n",
    "    epsilon: float = np.finfo(np.float32).eps,\n",
    ") -> Field:\n",
    "    \"\"\"\n",
    "    Generates field due to point source a distance ``z`` away.\n",
    "\n",
    "    Can also be given ``pupil``.\n",
    "\n",
    "    Args:\n",
    "        shape: The shape (height and width) of the ``Field`` to be created.\n",
    "        dx: The spacing of the samples of the ``Field``.\n",
    "        spectrum: The wavelengths included in the ``Field`` to be created.\n",
    "        spectral_density: The weights of each wavelength in the ``Field`` to\n",
    "            be created.\n",
    "        z: The distance of the point source.\n",
    "        n: Refractive index.\n",
    "        power: The total power that the result should be normalized to,\n",
    "            defaults to 1.0.\n",
    "        amplitude: The amplitude of the electric field. For ``ScalarField`` this\n",
    "            doesnt do anything, but it is required for ``VectorField`` to set\n",
    "            the polarization.\n",
    "        pupil: If provided, will be called on the field to apply a pupil.\n",
    "        scalar: Whether the result should be ``ScalarField`` (if True) or\n",
    "            ``VectorField`` (if False). Defaults to True.\n",
    "        epsilon: Value added to denominators for numerical stability.\n",
    "    \"\"\"\n",
    "    create = ScalarField.create if scalar else VectorField.create\n",
    "    field = create(dx, spectrum, spectral_density, shape=shape)\n",
    "    z = _broadcast_1d_to_innermost_batch(z, field.ndim)\n",
    "    amplitude = _broadcast_1d_to_polarization(amplitude, field.ndim)\n",
    "    L = jnp.sqrt(jnp.complex64(field.spectrum * z / n))\n",
    "    phase = jnp.pi * l2_sq_norm(field.grid) / (L**2 + epsilon)\n",
    "    u = amplitude * -1j / (L**2 + epsilon) * jnp.exp(1j * phase)\n",
    "    field = field.replace(u=u)\n",
    "    if pupil is not None:\n",
    "        field = pupil(field)\n",
    "    return field * jnp.sqrt(power / field.power)\n"
   ]
  },
  {
   "cell_type": "markdown",
   "id": "a0398f35",
   "metadata": {},
   "source": [
    "*Explanation*"
   ]
  },
  {
   "cell_type": "markdown",
   "id": "ae9cbb46",
   "metadata": {},
   "source": [
    "This function can generate a scalar field or vectorial field located at a distance `z` from the point source depending on the value of `scalar`. If `scalar` is `True`, the method `ScalaField.create` is assigned to the variable `create`, otherwise, the method `VectorField.create` is assigned to the variable.\n",
    "\n",
    "Then, the `field` is created by the `create` according to the input arguments `dx`, `spectrum`, `spectral_density` and `shape`, but without the complex field `u`.\n",
    "\n",
    "Since the source is a point source, the field located at a distance `z` from the source should be a spherical wave. Here, the code uses Fresnel diffraction theory to determine the field at a distance `z` from the point source:\n",
    "\n",
    "$$ U(x, y, z) = U(x, y, 0) * h(x, y, z) \\tag{2.3.88} $$\n",
    "\n",
    "where\n",
    "\n",
    "$$ h(x, y, z) = \\frac{e^{ikz}}{i \\lambda z} e^{i\\frac{k}{2z} (x^2 + y^2)} \\tag{2.3.89} $$\n",
    "\n",
    "Thus, the field at the distance `z` from the point source is actually the convolution of the point source and the response function `h(x, y, z)`. The point source can be expressed as the Delta function:\n",
    "\n",
    "$$ \\delta(x, y) = \\begin{cases} \n",
    "0, & x, y \\neq 0 \\\\ \n",
    "\\infty, & x, y = 0 \n",
    "\\end{cases} \\quad and \\quad \\iint_{-\\infty}^\\infty \\delta(x, y) \\, dxdy = 1\n",
    " \\tag{2.3.90} $$ \n",
    "\n",
    "Convolution with a delta function simply reproduces the function it’s convolved with. Therefore, the field at the distance `z` is simply the response function. Consider the refractive index of the medium, the field is:\n",
    "\n",
    "$$ U(x, y, z) = h(x, y, z) = \\frac{ne^{ikz}}{i \\lambda z} e^{i\\frac{n\\pi}{\\lambda z} (x^2 + y^2)} \\tag{2.3.91} $$\n",
    "\n",
    "To achieve this, it's necessary to broadcast the `z` and `amplitude` to a right shape so that the calculations can be performed in a right way.\n",
    "\n",
    "The `L` is calculated by $\\sqrt{\\lambda z/n}$, and the `phase` is:\n",
    "\n",
    "$$ \\text{Phase} = \\frac{\\pi(x^2+y^2)}{\\frac{\\lambda z}{n} + \\text{epsilon}} \\tag{2.3.92} $$\n",
    "\n",
    "where the `epsilon` is a very small positive value added to the `L` to avoid numerical issues like division by zero:"
   ]
  },
  {
   "cell_type": "code",
   "execution_count": 6,
   "id": "fa770179",
   "metadata": {},
   "outputs": [
    {
     "name": "stdout",
     "output_type": "stream",
     "text": [
      "The epsilon = 1.1920929e-07\n"
     ]
    }
   ],
   "source": [
    "import numpy as np\n",
    "print(\"The epsilon =\", np.finfo(np.float32).eps)"
   ]
  },
  {
   "cell_type": "markdown",
   "id": "184b38d4",
   "metadata": {},
   "source": [
    "The complex field `u` in the code is computed as the $2.3.91$ without the rapidly-varying term $e^{ikx}$ but with an additional `amplitude`:\n",
    "\n",
    "$$ \\text{u} = \\text{amplitude} \\cdot \\frac{-i}{\\frac{\\lambda z}{n} + \\text{epsilon}} \\cdot \\exp \\left[i \\frac{\\pi(x^2+y^2)}{\\frac{\\lambda z}{n} + \\text{epsilon}}\\right] \\tag{2.3.93} $$\n",
    "\n",
    "Then, by `field.replace(u=u)`, the whole field is created.\n",
    "\n",
    "If the `pupil` is provided, then a pupil related function like `circular_pupil` will be applied to the field.\n",
    "\n",
    "Finally, the field is multiplied by `jnp.sqrt(power / field.power)` to adjust the total power of the field to `power`. The `field.power` returns the power of the field. Since the power of a field is proportional to the square of the amplitude of the field, to adjust the power of the field, we need to scale the amplitude by the factor which is given by the square root of the division of the desired power and the original power."
   ]
  },
  {
   "cell_type": "markdown",
   "id": "854433a4",
   "metadata": {},
   "source": [
    "#### **Function 2: objective_point_source**"
   ]
  },
  {
   "cell_type": "markdown",
   "id": "364aebec",
   "metadata": {},
   "source": [
    "*Source Code*"
   ]
  },
  {
   "cell_type": "code",
   "execution_count": null,
   "id": "d8fc4fbd",
   "metadata": {},
   "outputs": [],
   "source": [
    "def objective_point_source(\n",
    "    shape: Tuple[int, int],\n",
    "    dx: Union[float, Array],\n",
    "    spectrum: Union[float, Array],\n",
    "    spectral_density: Union[float, Array],\n",
    "    z: float,\n",
    "    f: float,\n",
    "    n: float,\n",
    "    NA: float,\n",
    "    power: float = 1.0,\n",
    "    amplitude: Union[float, Array] = 1.0,\n",
    "    offset: Union[Array, Tuple[float, float]] = (0.0, 0.0),\n",
    "    scalar: bool = True,\n",
    ") -> Field:\n",
    "    \"\"\"\n",
    "    Generates field due to a point source defocused by an amount ``z`` away from\n",
    "    the focal plane, just after passing through a lens with focal length ``f``\n",
    "    and numerical aperture ``NA``.\n",
    "\n",
    "    Args:\n",
    "        shape: The shape (height and width) of the ``Field`` to be created.\n",
    "        dx: The spacing of the samples of the ``Field``.\n",
    "        spectrum: The wavelengths included in the ``Field`` to be created.\n",
    "        spectral_density: The weights of each wavelength in the ``Field`` to\n",
    "            be created.\n",
    "        z: The distance of the point source.\n",
    "        f: Focal length of the objective lens.\n",
    "        n: Refractive index.\n",
    "        NA: The numerical aperture of the objective lens.\n",
    "        power: The total power that the result should be normalized to,\n",
    "            defaults to 1.0.\n",
    "        amplitude: The amplitude of the electric field. For ``ScalarField`` this\n",
    "            doesnt do anything, but it is required for ``VectorField`` to set\n",
    "            the polarization.\n",
    "        offset: The offset of the point source in the plane. Should be an array\n",
    "            of shape `[2,]` in the format `[y, x]`.\n",
    "        scalar: Whether the result should be ``ScalarField`` (if True) or\n",
    "            ``VectorField`` (if False). Defaults to True.\n",
    "    \"\"\"\n",
    "    create = ScalarField.create if scalar else VectorField.create\n",
    "    field = create(dx, spectrum, spectral_density, shape=shape)\n",
    "    z = _broadcast_1d_to_innermost_batch(z, field.ndim)\n",
    "    amplitude = _broadcast_1d_to_polarization(amplitude, field.ndim)\n",
    "    offset = _broadcast_1d_to_grid(offset, field.ndim)\n",
    "    L = jnp.sqrt(field.spectrum * f / n)\n",
    "    phase = -jnp.pi * (z / f) * l2_sq_norm(field.grid - offset) / L**2\n",
    "    u = amplitude * -1j / L**2 * jnp.exp(1j * phase)\n",
    "    field = field.replace(u=u)\n",
    "    D = 2 * f * NA / n\n",
    "    field = circular_pupil(field, D)\n",
    "    return field * jnp.sqrt(power / field.power)"
   ]
  },
  {
   "cell_type": "markdown",
   "id": "715cb806",
   "metadata": {},
   "source": [
    "*Explanation*"
   ]
  },
  {
   "cell_type": "markdown",
   "id": "0c557ced",
   "metadata": {},
   "source": [
    "This function simulates the field that just after passing through a lens with focal length `f` and numerical aperture `NA`. The field is originated from the position which is deviated a distance `z` from the object space's focal plane:\n",
    "\n",
    "<img src=\"Figures\\Objective Point Source.png\" alt=\"Neuron\" width=\"75%\" style=\"display: block; margin: 0 auto;\">\n",
    "\n",
    "As the equation $2.3.91$ suggests, the field right before the lens is the field at a distance $z+f$ away from the point source. So, the field right before the lens can be expressed as (ignoring the $e^{ikz}$):\n",
    "\n",
    "$$ U(x, y, z+f) = -i \\frac{n}{\\lambda (z+f)} e^{i\\frac{n\\pi}{\\lambda (z+f)} (x^2 + y^2)} \\tag{2.3.91} $$\n",
    "\n",
    "The phase shift induced by a thin lens can be expressed as:\n",
    "\n",
    "$$ t_L(x, y) = \\exp\\left[-i\\frac{\\pi n}{\\lambda f}(x^2+y^2)\\right] \\tag{2.3.92} $$\n",
    "\n",
    "Then, the field right after the lens can be expressed as the product of the field before the lens and the phase shift caused by the lens:\n",
    "\n",
    "$$\n",
    "\\begin{aligned}\n",
    "U_L(x, y, z+f) &= U(x, y, z+f) \\cdot t_L(x, y) \\\\ \n",
    "&= -i \\frac{n}{\\lambda (z+f)} \\exp\\left[i\\frac{n\\pi}{\\lambda} (x^2 + y^2)(\\frac{1}{z+f}-\\frac{1}{f})\\right]\n",
    "\\end{aligned}\n",
    "\\tag{2.3.93} $$\n",
    "\n",
    "Approximate the $U_L(x, y, z+f)$ assuming $z \\ll f$:\n",
    "\n",
    "$$\\frac{1}{z+f}-\\frac{1}{f} = \\frac{-z}{(f+z)f} \\approx -\\frac{z}{f^2} \\tag{2.3.94}$$\n",
    "\n",
    "and\n",
    "\n",
    "$$U_L(x, y, z+f) = -i \\frac{n}{\\lambda f} \\exp\\left[-i\\frac{nz\\pi}{\\lambda f^2} (x^2 + y^2)\\right] \\tag{2.3.95}$$\n",
    "\n",
    "In the code, the `L` is calculated by $\\sqrt{\\lambda f/n}$, and the `offset` is considered. The `offset` can be expressed as $\\text{offset}=(x_0, y_0)$. Then, the mathematical expression of the field after the lens becomes:\n",
    "\n",
    "$$U_L(x-x_0, y-y_0, z+f) = \\frac{-i}{L^2} \\exp\\left\\{-i\\frac{z\\pi}{f} \\frac{\\left[(x-x_0)^2 + (y-y_0)^2\\right]}{L^2}\\right\\} \\tag{2.3.95}$$\n",
    "\n",
    "where the `phase` in the code is:\n",
    "\n",
    "$$\\text{Phase} = \\frac{-z\\pi}{f} \\frac{\\left[(x-x_0)^2 + (y-y_0)^2\\right]}{L^2} \\tag{2.3.96}$$\n",
    "\n",
    "The final complex field is the product of the field in $2.3.95$ and the input `amplitude` which is required for `VectorField` to set the polarization.\n",
    "\n",
    "The `D` is the diameter of the lens. It's calculated from the numerical aperture. The definition of the numerical aperture `NA` is:\n",
    "\n",
    "$$ \\text{NA} = n\\sin\\theta = n \\frac{D}{2f} \\tag{2.3.97} $$\n",
    "\n",
    "Because of the existanse of the lens, a circular pupil which simulates the shape of the lens must be applied to the field by calling the function `circualr_pupil`."
   ]
  },
  {
   "cell_type": "markdown",
   "id": "01914ef0",
   "metadata": {},
   "source": [
    "#### **Function 3: plane_wave**"
   ]
  },
  {
   "cell_type": "markdown",
   "id": "4e13b7c7",
   "metadata": {},
   "source": [
    "*Source Code*"
   ]
  },
  {
   "cell_type": "code",
   "execution_count": null,
   "id": "eb5631ea",
   "metadata": {},
   "outputs": [],
   "source": [
    "def plane_wave(\n",
    "    shape: Tuple[int, int],\n",
    "    dx: Union[float, Array],\n",
    "    spectrum: Union[float, Array],\n",
    "    spectral_density: Union[float, Array],\n",
    "    power: float = 1.0,\n",
    "    amplitude: Union[float, Array] = 1.0,\n",
    "    kykx: Union[Array, Tuple[float, float]] = (0.0, 0.0),\n",
    "    pupil: Optional[Callable[[Field], Field]] = None,\n",
    "    scalar: bool = True,\n",
    ") -> Field:\n",
    "    \"\"\"\n",
    "    Generates plane wave of given ``power``.\n",
    "\n",
    "    Can also be given ``pupil`` and ``kykx`` vector to control the angle of the\n",
    "    plane wave.\n",
    "\n",
    "    Args:\n",
    "        shape: The shape (height and width) of the ``Field`` to be created.\n",
    "        dx: The spacing of the samples of the ``Field``.\n",
    "        spectrum: The wavelengths included in the ``Field`` to be created.\n",
    "        spectral_density: The weights of each wavelength in the ``Field`` to\n",
    "            be created.\n",
    "        power: The total power that the result should be normalized to,\n",
    "            defaults to 1.0\n",
    "        amplitude: The amplitude of the electric field. For ``ScalarField`` this\n",
    "            doesnt do anything, but it is required for ``VectorField`` to set\n",
    "            the polarization.\n",
    "        kykx: Defines the orientation of the plane wave. Should be an\n",
    "            array of shape `[2,]` in the format `[ky, kx]`.\n",
    "        pupil: If provided, will be called on the field to apply a pupil.\n",
    "        scalar: Whether the result should be ``ScalarField`` (if True) or\n",
    "            ``VectorField`` (if False). Defaults to True.\n",
    "    \"\"\"\n",
    "    create = ScalarField.create if scalar else VectorField.create\n",
    "    field = create(dx, spectrum, spectral_density, shape=shape)\n",
    "    kykx = _broadcast_1d_to_grid(kykx, field.ndim)\n",
    "    amplitude = _broadcast_1d_to_polarization(amplitude, field.ndim)\n",
    "    u = amplitude * jnp.exp(1j * jnp.sum(kykx * field.grid, axis=0))\n",
    "    field = field.replace(u=u)\n",
    "    if pupil is not None:\n",
    "        field = pupil(field)\n",
    "    return field * jnp.sqrt(power / field.power)"
   ]
  },
  {
   "cell_type": "markdown",
   "id": "52247a05",
   "metadata": {},
   "source": [
    "*Explanation*"
   ]
  },
  {
   "cell_type": "markdown",
   "id": "3100c3c9",
   "metadata": {},
   "source": [
    "This is to create `Field` object simulating a plane wave. A plane wave propagating in free space can be expressed as:\n",
    "\n",
    "$$ U(x, y, z) = A \\exp\\left[i (k_x x + k_y y+ k_z z)\\right] \\tag{2.3.98} $$\n",
    "\n",
    "and if the wave propagates near the $z$ axis, which means that $k_z \\approx k$, $k_z \\ll k_x$ and $k_z \\ll k_y$, the field ignoring the rapidly-varying term $e^{ikz}$ can be expressed as:\n",
    "\n",
    "$$ U(x, y) = A \\exp\\left[i (k_x x + k_y y)\\right] \\tag{2.3.99} $$\n",
    "\n",
    "The argument `kykx` is the components of the wave vector along $x$ and $y$ direction $(k_y, k_x)$. Therefore, the `u` is the $U(x, y)$"
   ]
  },
  {
   "cell_type": "markdown",
   "id": "3050cb30",
   "metadata": {},
   "source": [
    "#### **Function 4: generic_field**"
   ]
  },
  {
   "cell_type": "markdown",
   "id": "7569f83e",
   "metadata": {},
   "source": [
    "*Source Code*"
   ]
  },
  {
   "cell_type": "code",
   "execution_count": null,
   "id": "e7f3e54b",
   "metadata": {},
   "outputs": [],
   "source": [
    "def generic_field(\n",
    "    dx: Union[float, Array],\n",
    "    spectrum: Union[float, Array],\n",
    "    spectral_density: Union[float, Array],\n",
    "    amplitude: Array,\n",
    "    phase: Array,\n",
    "    power: Optional[float] = 1.0,\n",
    "    pupil: Optional[Callable[[ScalarField], ScalarField]] = None,\n",
    "    scalar: bool = True,\n",
    ") -> Field:\n",
    "    \"\"\"\n",
    "    Generates field with arbitrary ``phase`` and ``amplitude``.\n",
    "\n",
    "    Can also be given ``pupil``.\n",
    "\n",
    "    Args:\n",
    "        dx: The spacing of the samples of the ``Field``.\n",
    "        spectrum: The wavelengths included in the ``Field`` to be created.\n",
    "        spectral_density: The weights of each wavelength in the ``Field`` to\n",
    "            be created.\n",
    "        amplitude: The amplitude of the field with shape `(B... H W C [1 | 3])`.\n",
    "        phase: The phase of the field with shape `(B... H W C [1 | 3])`.\n",
    "        power: The total power that the result should be normalized to,\n",
    "            defaults to 1.0.\n",
    "        pupil: If provided, will be called on the field to apply a pupil.\n",
    "        scalar: Whether the result should be ``ScalarField`` (if True) or\n",
    "            ``VectorField`` (if False). Defaults to True.\n",
    "    \"\"\"\n",
    "    create = ScalarField.create if scalar else VectorField.create\n",
    "    assert (\n",
    "        amplitude.ndim >= 5\n",
    "    ), \"Amplitude must have at least 5 dimensions: (B... H W C [1 | 3])\"\n",
    "    assert (\n",
    "        phase.ndim >= 5\n",
    "    ), \"Phase must have at least 5 dimensions: (B... H W C [1 | 3])\"\n",
    "    vectorial_dimension = 1 if scalar else 3\n",
    "    assert_axis_dimension(amplitude, -1, vectorial_dimension)\n",
    "    assert_axis_dimension(phase, -1, vectorial_dimension)\n",
    "    assert_equal_shape([amplitude, phase])\n",
    "    u = amplitude * jnp.exp(1j * phase)\n",
    "    field = create(dx, spectrum, spectral_density, u=u)\n",
    "    if pupil is not None:\n",
    "        field = pupil(field)\n",
    "    return field * jnp.sqrt(power / field.power)"
   ]
  },
  {
   "cell_type": "markdown",
   "id": "a35a2ec4",
   "metadata": {},
   "source": [
    "*Explanation*"
   ]
  },
  {
   "cell_type": "markdown",
   "id": "9605679b",
   "metadata": {},
   "source": [
    "The function creates either a scalar field or vectorial field with a self-defined `phase` which determines the shape of the wavefront.\n",
    "\n",
    "The two `assert` ensures that the `amplitude` and `phase` have the minimum required number of dimensions which is `(B... H W C [1 | 3])`.\n",
    "\n",
    "The variable `vectorial_dimension` will be assigned by `1` or `3` depending on the value of `scalar`. This is the expected value when the `assert_axis_dimension` is called to ensure that the last axis(dimension) of the `amplitude` and `phase` is `1` when the `scalar` is `Ture` and `3` when the `scalar` is `False`.\n",
    "\n",
    "The `assert_equal_shape` ensures that the shape of the `amplitude` and `phase` must be the same, so that they can be correctly combined to create the complex field `u`."
   ]
  },
  {
   "cell_type": "markdown",
   "id": "e2e3633f",
   "metadata": {},
   "source": [
    "## **Package: elements**"
   ]
  },
  {
   "cell_type": "markdown",
   "id": "e7702447",
   "metadata": {},
   "source": [
    "This package defines a lot of classes wrapping corresponding functions in the Functional package to simulated elements in an optical system (such as lens, sensor, amplitude mask and so on) under a neural network framework using libraries like JAX, and Flax.\n",
    "\n",
    "In machine learning, a neural network (also artificial neural network or neural net, abbreviated ANN or NN) is a model inspired by the structure and function of biological neural networks in animal brains.[@Neural_network]\n",
    "\n",
    "An ANN consists of connected units or nodes called artificial neurons, which loosely model the neurons in the brain. These are connected by edges, which model the synapses in the brain. Each artificial neuron receives signals from connected neurons, then processes them and sends a signal to other connected neurons. The \"signal\" is a real number, and the output of each neuron is computed by some non-linear function of the sum of its inputs, called the activation function. The strength of the signal at each connection is determined by a weight, which adjusts during the learning process.[@Neural_network]\n",
    "\n",
    "For example, if we have neuron with two inputs and one output as shown below:[@Neuron]\n",
    "\n",
    "<img src=\"Figures/Neuron.jpg\" alt=\"Neuron\" width=\"30%\" style=\"display: block; margin: 0 auto;\">\n",
    "\n",
    "\n",
    "First, each input is multiplied by a weight $w_1$ and $w_2$:\n",
    "\n",
    "$$x_1 \\rightarrow x_1 \\cdot w_1 \\tag{2.4.1}$$\n",
    "$$x_2 \\rightarrow x_2 \\cdot w_2 \\tag{2.4.2}$$\n",
    "\n",
    "Then, the sum of the two weighted inputs is added with a bias b:\n",
    "\n",
    "$$sum = x_1 \\cdot w_1 + x_2 \\cdot w_2 +b \\tag{2.4.3}$$\n",
    "\n",
    "Finally, the sum is passed through an activation function:\n",
    "\n",
    "$$output = f(sum) \\tag{2.4.4}$$\n",
    "\n",
    "The activation function is used to turn an unbounded input into an output that has a nice, predictable form.[@Neuron]\n",
    "\n",
    "In Jax and Flax, there are several commonly used activation functions such as Sigmoid, ReLU, Softmax.\n",
    "\n",
    "Typically, neurons are aggregated into layers. Different layers may perform different transformations on their inputs. Signals travel from the first layer (the input layer) to the last layer (the output layer), possibly passing through multiple intermediate layers (hidden layers). A network is typically called a deep neural network if it has at least two hidden layers.[@Neural_network]\n"
   ]
  },
  {
   "cell_type": "markdown",
   "id": "6a57d9d3",
   "metadata": {},
   "source": [
    "### **Module 1: \\_\\_init\\_\\_**"
   ]
  },
  {
   "cell_type": "markdown",
   "id": "245262ad",
   "metadata": {},
   "source": [
    "#### **Imports**"
   ]
  },
  {
   "cell_type": "markdown",
   "id": "ebd34b8c",
   "metadata": {},
   "source": [
    "*Souce Code*"
   ]
  },
  {
   "cell_type": "code",
   "execution_count": null,
   "id": "76950a85",
   "metadata": {},
   "outputs": [],
   "source": [
    "from .amplitude_masks import *\n",
    "from .convenience import *\n",
    "from .lenses import *\n",
    "from .phase_masks import *\n",
    "from .propagation import *\n",
    "from .samples import *\n",
    "from .sensors import *\n",
    "from .sources import *\n",
    "from .utils import trainable"
   ]
  },
  {
   "cell_type": "markdown",
   "id": "60c018c4",
   "metadata": {},
   "source": [
    "*Explanation*"
   ]
  },
  {
   "cell_type": "markdown",
   "id": "07c64718",
   "metadata": {},
   "source": [
    "This module is used to mark files in this directory as a package and initialize this package. Besides, it aggregates all modules in this package into a single namespace, so that users can import elements from this package without needing to know the internal structure. \n",
    "\n",
    "The import syntax `from .module_name import *` used in the code, is to bring in all modules, functions, or classes from a package or module located within the same project. These modules are going to be presented in the following parts.\n",
    "\n",
    "The dot `.` indicates a relative import, signifying that the `module_name` is part of the same package as the current module. Additionally, `..` refers to the parent package, while `...` refers to the grandparent package, and so on.\n",
    "\n",
    "The asterisk `*` acts as a wildcard instructing Python to import all functions, classes, variables, etc. from `module_name`. To control what is imported when using `*`, a special variable `__all__` can be applied to define a list of functions, classes, variables, etc. that the module explicitly exports and makes available for import. Alternatively, specific functions or classes can be imported by replacing the `*` with the exact names of the desired items. "
   ]
  },
  {
   "cell_type": "markdown",
   "id": "49b74ce6",
   "metadata": {},
   "source": [
    "### **Module 2: amplitude_masks**"
   ]
  },
  {
   "cell_type": "markdown",
   "id": "c0900fc3",
   "metadata": {},
   "source": [
    "#### **Imports**"
   ]
  },
  {
   "cell_type": "markdown",
   "id": "3dfa508b",
   "metadata": {},
   "source": [
    "*Source Code*"
   ]
  },
  {
   "cell_type": "code",
   "execution_count": null,
   "id": "f897c676",
   "metadata": {},
   "outputs": [],
   "source": [
    "from typing import Callable, Tuple, Union\n",
    "\n",
    "from chex import Array, PRNGKey\n",
    "from flax import linen as nn\n",
    "\n",
    "from chromatix.elements.utils import register\n",
    "\n",
    "from ..field import Field\n",
    "from ..functional.amplitude_masks import amplitude_change\n",
    "from ..ops import binarize\n",
    "\n",
    "__all__ = [\"AmplitudeMask\"]"
   ]
  },
  {
   "cell_type": "markdown",
   "id": "80b5e8e2",
   "metadata": {},
   "source": [
    "*Explanation*"
   ]
  },
  {
   "cell_type": "markdown",
   "id": "2d204053",
   "metadata": {},
   "source": [
    "1. `typing`\n",
    "\n",
    "In Python, `typing` is a standard module that allows you to use type hints to indicate the expected types of variables, function arguments, and return values. `typing` enables developers to specify the types for better code clarity, documentation, and static type checking.\n",
    "\n",
    "`Callable` is used in type annotations to indicate that a particular variable or function parameter is a function or an object that can be called like a function. For example:"
   ]
  },
  {
   "cell_type": "code",
   "execution_count": null,
   "id": "5329e17e",
   "metadata": {},
   "outputs": [
    {
     "name": "stdout",
     "output_type": "stream",
     "text": [
      "7\n"
     ]
    }
   ],
   "source": [
    "from typing import Callable\n",
    "\n",
    "# Define a function that takes a callable as an argument.\n",
    "def afunc(func: Callable[[int, int], int], a: int, b: int):\n",
    "    return func(a, b)\n",
    "\n",
    "def add(x: int, y: int):\n",
    "    return x + y\n",
    "\n",
    "print(afunc(add, 3, 4))"
   ]
  },
  {
   "cell_type": "markdown",
   "id": "1c1c9a6f",
   "metadata": {},
   "source": [
    "In this example, `func` is a callable that takes two integers (int, int) as input and returns an integer (int). And `apply_func` accepts func, an `a`, and `b`, and applies the callable to `a` and `b`.  \n",
    "\n",
    "By the way, Python is a dynamically typed language, meaning that types are not strictly enforced at runtime. The int and Callable in type annotations are simply type hints, used to indicate that the variables are expected to be of a certain type (e.g., int or a callable function). However, these type hints are not mandatory, and Python will not raise an error if variables of other types, such as float, are passed in. \n",
    "\n",
    "A `tuple` in Python is a collection of ordered, immutable elements. This means that once a tuple is created, its elements cannot be changed or updated. Unlike `list`, which is typically used for homogenous collections (elements of the same type), `tuple` can hold elements of different types, making it useful for grouping different kinds of data together.\n",
    "\n",
    "The `Union` is used to specify that a value can be one of multiple specific types at a given time. But it does not mean that the value can hold more than one type at the same time."
   ]
  },
  {
   "cell_type": "markdown",
   "id": "570de689",
   "metadata": {},
   "source": [
    "2. `chex`\n",
    "\n",
    "`Chex` is a library that provides a collection of utilities for JAX and NumPy. It is designed to assist in writing reliable and testable code when working with JAX transformations like `jit`, `grad`, and `vmap`.\n",
    "\n",
    "The imported `Array` is a type alias provided by Chex that represents a JAX array (`jnp.ndarray`), which is similar to a NumPy array but optimized for JAX's transformations and hardware acceleration.\n",
    "\n",
    "`PRNGKey` is a type alias for JAX's pseudo-random number generator key, represented as a JAX array with a specific shape (`jnp.ndarray` of `shape (2,)` and `dtype` `uint32`). It is used to manage random number generation in a reproducible way. The first step for using `PRNGKey` is creating a PRNG key using `jax.random.PRNGKey(seed)`, then the PRNG key can be passed into JAX random number functions like  `jax.random.uniform` and `jax.random.normal`. For example:"
   ]
  },
  {
   "cell_type": "code",
   "execution_count": null,
   "id": "d0c7f0ad",
   "metadata": {},
   "outputs": [
    {
     "name": "stdout",
     "output_type": "stream",
     "text": [
      "key1 = [ 0 20]\n",
      "key2 = [ 0 60]\n",
      "random_number1 = 0.22824931\n",
      "random_number2 = 0.00786821\n"
     ]
    }
   ],
   "source": [
    "import jax.numpy as jnp\n",
    "import jax.random\n",
    "\n",
    "# Create two PRNG keys with different seeds\n",
    "key1 = jax.random.PRNGKey(20)\n",
    "key2 = jax.random.PRNGKey(60)\n",
    "\n",
    "# Generate a random numbers with key1 using `jax.random.uniform`\n",
    "random_number1 = jax.random.uniform(key1)\n",
    "\n",
    "# Generate a random number with key2 using `jax.random.normal`\n",
    "random_number2 = jax.random.normal(key2)\n",
    "\n",
    "print('key1 =', key1)\n",
    "print('key2 =', key2)\n",
    "print('random_number1 =', random_number1)\n",
    "print('random_number2 =', random_number2)"
   ]
  },
  {
   "cell_type": "markdown",
   "id": "5f73f884",
   "metadata": {},
   "source": [
    "`jax.random.PRNGKey(seed)` generates a deterministic pseudo-random number generator (PRNG) key based on the given seed. The seed ensures that the random numbers generated with this key will be the same every time.\n",
    "\n",
    "`jax.random.uniform(key)` generates a random floating-point number uniformly distributed between 0 and 1 using the given PRNG key.`jax.random.normal(key)` generates a random floating-point number from a standard normal distribution (mean 0, standard deviation 1) using the given PRNG key.\n",
    "\n",
    "`chex.PRNGKey` is simply a type hint when defining functions that expect a PRNG key as input, instead of being used to generate a PRNG key. \n",
    "\n",
    "For example:"
   ]
  },
  {
   "cell_type": "code",
   "execution_count": null,
   "id": "f53d21c6",
   "metadata": {},
   "outputs": [
    {
     "name": "stdout",
     "output_type": "stream",
     "text": [
      "random_number = 0.22824931\n"
     ]
    }
   ],
   "source": [
    "import chex\n",
    "\n",
    "# Define a function that returns a random number with a PRNG key.\n",
    "def random_func(key: chex.PRNGKey):\n",
    "    return jax.random.uniform(key)\n",
    "\n",
    "key = jax.random.PRNGKey(20)\n",
    "\n",
    "random_number = random_func(key)\n",
    "print('random_number =', random_number)"
   ]
  },
  {
   "cell_type": "markdown",
   "id": "20c2dd64",
   "metadata": {},
   "source": [
    "As we can see, the code above use a slightly different way to generate a random number, but the PRNG key is the same, so the code outputs the same random number."
   ]
  },
  {
   "cell_type": "markdown",
   "id": "a20e7381",
   "metadata": {},
   "source": [
    "3. `flax`\n",
    "\n",
    "`flax` is a high-performance, JAX-based neural network library which provides a flexible interface to define and train neural networks using JAX’s underlying transformations, such as `jit`, `grad`, and `vmap`. `linen` is the core module of `flax`, providing utilities to define and compose neural network layers and models.\n",
    "\n",
    "4. Others\n",
    "\n",
    "The function `register` will be introduced in the module `utils` of the package `elements` under the project. It is responsible for the registration of attribute in a `Flax` module as either parametrs (trainable) or state variables (non-trainable). \n",
    "\n",
    "The class `Field` will be introduced in the module `field` directly under the project. \n",
    "\n",
    "The function `amplitude_change` will be introduces in the module `amplitude_masks` of the package `functional` under the project. \n",
    "\n",
    "The function `binarize` will be introduced in the module `quantization` of the package `ops` under the project."
   ]
  },
  {
   "cell_type": "markdown",
   "id": "a80a73f6",
   "metadata": {},
   "source": [
    "#### **Class 1: AmplitudeMask**"
   ]
  },
  {
   "cell_type": "markdown",
   "id": "19e0d980",
   "metadata": {},
   "source": [
    "*Source Code*"
   ]
  },
  {
   "cell_type": "code",
   "execution_count": null,
   "id": "7521ceba",
   "metadata": {},
   "outputs": [],
   "source": [
    "class AmplitudeMask(nn.Module):\n",
    "    \"\"\"\n",
    "    Applies an ``amplitude`` mask to an incoming ``Field``.\n",
    "\n",
    "    This element can be placed after any element that returns a ``Field`` or\n",
    "    before any element that accepts a ``Field``.\n",
    "\n",
    "    The ``amplitude`` can be learned (pixel by pixel) by using\n",
    "    ``chromatix.utils.trainable``.\n",
    "\n",
    "    Attributes:\n",
    "        amplitude: The amplitude to be applied. Should have shape `(H W)`.\n",
    "        is_binary: binarize the amplitude mask if True.\n",
    "    \"\"\"\n",
    "\n",
    "    amplitude: Union[Array, Callable[[PRNGKey, Tuple[int, int]], Array]]\n",
    "    is_binary: bool\n",
    "\n",
    "    @nn.compact\n",
    "    def __call__(self, field: Field) -> Field:\n",
    "        \"\"\"Applies ``amplitude`` mask to incoming ``Field``.\"\"\"\n",
    "        amplitude = register(self, \"amplitude\", field.spatial_shape)\n",
    "        if self.is_binary:\n",
    "            amplitude = binarize(amplitude)\n",
    "        return amplitude_change(field, amplitude)"
   ]
  },
  {
   "cell_type": "markdown",
   "id": "8a745309",
   "metadata": {},
   "source": [
    "*Explanation*"
   ]
  },
  {
   "cell_type": "markdown",
   "id": "0a963a69",
   "metadata": {},
   "source": [
    "1. class\n",
    "\n",
    "Unlike `def`, which is a function used to only encapsulate a block of code that performs a specific task, `class` is a blueprint for creating objects. It's used to define objects and model real-world entities, and it allows for grouping data (attributes) and behaviors (methods) together, enabling object-oriented programming. \n",
    "\n",
    "Besides, `class` supports inheritance, which functions don't. Inheritance is core feature of object-oriented programming. Developers can creat a new class that inherit properties and mothods from parent classes by putting the parent class in the parentheses after the class name.\n",
    "\n",
    "Calling a `class` will create an instance or object of that class. This is done by using the class name followed by parentheses, like calling a function. The parentheses can contain arguments if the class's `__init__` method requires them. \n",
    "\n",
    "For example:"
   ]
  },
  {
   "cell_type": "code",
   "execution_count": null,
   "id": "ba171512",
   "metadata": {},
   "outputs": [
    {
     "name": "stdout",
     "output_type": "stream",
     "text": [
      "sum = 7\n"
     ]
    }
   ],
   "source": [
    "class add_two_numbers:\n",
    "    def __init__(self, number1, number2):\n",
    "        #Initialize the attributes\n",
    "        self.number1 = number1\n",
    "        self.number2 = number2\n",
    "    \n",
    "    #Define a method to add two numbers\n",
    "    def add(self):\n",
    "        return self.number1 + self.number2\n",
    "\n",
    "# Create an instance of the class    \n",
    "sum_instance = add_two_numbers(3, 4)\n",
    "print('sum =', sum_instance.add())"
   ]
  },
  {
   "cell_type": "markdown",
   "id": "5dd5a3bd",
   "metadata": {},
   "source": [
    "2. initialization\n",
    "\n",
    "In this example, the code has no parentheses after the class name, since it's not a subclass of any parent class. And the code first defines a function named `__init__` which is called method here. The `__init__` method is commonly (but not necessary) used to accept and initialize attributes (number1, number2) of the class. It is a constructor that is used to set up the initial state of the object. But if no special initialization is needed, you can create classes without the `__init__` method. For example:"
   ]
  },
  {
   "cell_type": "code",
   "execution_count": null,
   "id": "b88b3f8e",
   "metadata": {},
   "outputs": [
    {
     "name": "stdout",
     "output_type": "stream",
     "text": [
      "sum = 11\n"
     ]
    }
   ],
   "source": [
    "class add_two_numbers:\n",
    "    def add(self, number1, number2):\n",
    "        return number1 + number2\n",
    "    \n",
    "sum_instance = add_two_numbers()\n",
    "print('sum =', sum_instance.add(5, 6))"
   ]
  },
  {
   "cell_type": "markdown",
   "id": "d35fc3f4",
   "metadata": {},
   "source": [
    "Beside the `__init__` method, another difference is that the arguments can't be paased into `sum_instance = add_two_numbers()`. This is because the second `add_two_numbers` class has no `__init__` method, which is responsible for accepting and initializing arguments. And the attributes `number1` and `number2` are not part of the class's state until they are explicitly used in the `add` method. However, when using a class with the `__init__` method to create an instance (`sum_instance = add_two_numbers(3, 4)`), the arguments must be passed to match the `__init__` method's signature.\n",
    "\n",
    "3. self\n",
    "\n",
    "Another interesting point is that there is still a keyword `self` in the second `add_two_numbers` class even though it doesn't appear in the rest of the code. This is because that the keyword `self` is used to refer to the instance of the class that is being created or manipulated. And it allows you to access and modify the object's and attributes and methods like `self.number1` and `sum_instance.add()` in the previous example. Without `self`, it's not possible to store values in the attributes of the class and make the attrbutes available to the methods in the class."
   ]
  },
  {
   "cell_type": "markdown",
   "id": "2a78f637",
   "metadata": {},
   "source": [
    "4. nn.Module\n",
    "\n",
    "Now, let's look at the source code. It creates a class `AmplitudeMask` as a subclass of `nn.Module`, meaning it inherits from `nn.Module`.\n",
    "\n",
    "The `nn.Module` is a base class in the Flax library and a core building block for defining custom neural network components such as layer or entire models. Every time you create a new layer or model (subclasses) in Flax, you create a new `nn.Module`.\n",
    "\n",
    "5. attributes\n",
    "\n",
    "The source code then annotates the types of the attributes `amplitude` and `is_binary` as `Union[Array, Callable[[PRNGKey, Tuple[int, int]], Array]]` and `bool`. This means that the `amplitude` can be either an array or a callable that takes a PRNG key and a tuple of two integers as input and returns an array, and the `is_binary` is boolean indicating whether the amplitude should be binarized or not. \n",
    "\n",
    "6. @nn.compact\n",
    "\n",
    "Next, the developer uses a keyword `@nn.compact`. It is the most commonly used *decorator* in Flax used to define layers and operations directly within the *forward pass* method `__call__` of a Flax module.\n",
    "\n",
    "The forward pass means the process of passing input data through the layers of the neural network to compute an output. This is the key operation in neural networks used in training.\n",
    "\n",
    "A decorator in Python is a function that wraps around another function or method, adding extra behavior to it without modifying its structure. Decorators are used by prefixing a function or method definition with an `@` symbol followed by the name of the decorator like the source code shows.\n",
    "\n",
    "With `@nn.compact`, developers are allowed to create instances of layers directly in the forward pass (`__call__` method), and Flax will automatically handle initialization and caching. Without `@nn.compact`, developers need to used a `setup` method to define the layers as attributes and then use those attributes in the `__call__` method.\n",
    "\n",
    "For example："
   ]
  },
  {
   "cell_type": "code",
   "execution_count": null,
   "id": "4f6a03b4",
   "metadata": {},
   "outputs": [],
   "source": [
    "from flax import linen as nn\n",
    "# Without `@nn.compact`\n",
    "class Net(nn.Module):\n",
    "    def setup(self):\n",
    "        self.dense = nn.dense(feature=10)\n",
    "\n",
    "    def __call__(self, x):\n",
    "        x = self.dense(x)\n",
    "        return x"
   ]
  },
  {
   "cell_type": "code",
   "execution_count": null,
   "id": "a047e129",
   "metadata": {},
   "outputs": [],
   "source": [
    "# With `@nn.compact`\n",
    "class Net(nn.Module):\n",
    "    @nn.compact\n",
    "    def __call__(self, x):\n",
    "        x = nn.dense(feature=10)(x)\n",
    "        return x"
   ]
  },
  {
   "cell_type": "markdown",
   "id": "f794abd1",
   "metadata": {},
   "source": [
    "The code above defines a forward pass which takes `x` as the input passed to the model. `x = nn.dense(feature=10)(x)` defines a fully connected (dense) layer in the neural network with 10 output units. It applies a linear transformation to the input: $y = wx + b$, where $w$ is the weight matrix and $b$ is the bias.\n",
    "\n",
    "7. call method\n",
    "\n",
    "The `__call__` method is written with the decorator `@nn.compact` meaning that the method is the core functionality of the module. It accepts a `Field` as input and is responsible for applying the amplitude mask to the `Field` to modify the amplitude of the `Field`. In Chromatix, the `Field` is defined in a module as a container that describes the chromatic light field with complex values at a 2D plane. \n",
    "\n",
    "The line `amplitude = register(self, \"amplitude\", field.spatial_shape)` calls the `register` function built in Chromatix, passing three arguments: `self`, `\"amplitude\"`, and `field.spatial_shape`. `self` refers to the current instance of the` AmplitudeMask` class, which is a subclass of `nn.Module`. `\"amplitude\"` is the name of the parameter that we want to register, namely amplitude mask. `field.spatial_shape` extracts the spatial shape the `Field` as the shape of the amplitude mask.\n",
    "\n",
    "In short words, the `register` function registers the `\"amplitude\"` attributes as a Flax parameter, which is trainable and will be optimized during training or a Flax variable, which is not trainable and will be treated as a fixed state variable.\n",
    "\n",
    "Then, the `if` sentence will judge whether the `is_binary` attrubute of the instance is `True`. If it is, the `amplitude` will be binarized by the function `binarize` meaning that the values are converted into values of 0 or 1.\n",
    "\n",
    "Finally, the `amplitude_change` funtion, which is also defined in Chromatix, modifies the incoming `Field` based on the `amplitude` mask. This operation results in a new field with a modified amplitude, which can be then passed ti possible subsequent elements."
   ]
  },
  {
   "cell_type": "markdown",
   "id": "41a3ee50",
   "metadata": {},
   "source": [
    "### **Module 3：convenience**"
   ]
  },
  {
   "cell_type": "markdown",
   "id": "02865e03",
   "metadata": {},
   "source": [
    "#### **Imports**"
   ]
  },
  {
   "cell_type": "markdown",
   "id": "7d734f41",
   "metadata": {},
   "source": [
    "*Source Code*"
   ]
  },
  {
   "cell_type": "code",
   "execution_count": null,
   "id": "aa66e4c1",
   "metadata": {},
   "outputs": [],
   "source": [
    "from typing import Optional, Tuple, Union\n",
    "\n",
    "import flax.linen as nn\n",
    "import jax.numpy as jnp\n",
    "from chex import Array\n",
    "\n",
    "from ..field import Field\n",
    "from ..ops import binarize, quantize\n",
    "\n",
    "__all__ = [\"Flip\", \"ScaleAndBias\", \"Binarize\", \"Quantize\"]"
   ]
  },
  {
   "cell_type": "markdown",
   "id": "c72e808d",
   "metadata": {},
   "source": [
    "*Explanation*"
   ]
  },
  {
   "cell_type": "markdown",
   "id": "ac78420d",
   "metadata": {},
   "source": [
    "The first line imports `Optional`, `Tuple`, and `Union` from the `typing`. Since `Tuple` and `Union` have been introduced before, let's look at the other one `Optional`. `Optional` is similar to `Union`, it is used when a value can either be of a certain type or `None`. Therefore, `Optional[X]` is shorthand for `Union[X, None]`, in which, `X` could be types such as `int`, `float`, etc.\n",
    "\n",
    "The function `quantize` is defined in the module `quantization` under the package `ops` of Chromatix. It adjusts the input `x` to a specific `bit_depth`, using a surrogate gradient approach.\n",
    "\n",
    "The last line indicates that the classes `Flip`, `ScaleAndBias`, and `Binarize` can be exported and made available for use."
   ]
  },
  {
   "cell_type": "markdown",
   "id": "e0bb3775",
   "metadata": {},
   "source": [
    "#### **Class 1: Flip**"
   ]
  },
  {
   "cell_type": "markdown",
   "id": "d76aadee",
   "metadata": {},
   "source": [
    "*Source Code*"
   ]
  },
  {
   "cell_type": "code",
   "execution_count": null,
   "id": "73d920a6",
   "metadata": {},
   "outputs": [],
   "source": [
    "class Flip(nn.Module):\n",
    "    \"\"\"\n",
    "    This element flips the incoming ``Field`` upside down.\n",
    "\n",
    "    This is useful for situations where an upside down image is formed.\n",
    "    \"\"\"\n",
    "\n",
    "    @nn.compact\n",
    "    def __call__(self, field: Field) -> Field:\n",
    "        # TODO: Add in support for both axes?\n",
    "        return field.replace(u=jnp.flip(field.u, axis=field.spatial_dims[0]))"
   ]
  },
  {
   "cell_type": "markdown",
   "id": "47fed71b",
   "metadata": {},
   "source": [
    "*Explanation*"
   ]
  },
  {
   "cell_type": "markdown",
   "id": "0eef1bfe",
   "metadata": {},
   "source": [
    "As the source code writes, the `Flip` class defines a module that flips an incoming `Field` object upside down along one spatial axis. This class also inherites from `nn.Module` and uses the `@nn.compact` decorator to define the forward pass.\n",
    "\n",
    "The `__call__` method takes a `Field` object as input and returns the flipped `Field`，by using the following functions:\n",
    "1. `jnp.flip(array, axis)`: In this function, the first variable is the array which needs to be flipped, and the second variable is the axis along which the array needs to be flipped. For example:"
   ]
  },
  {
   "cell_type": "code",
   "execution_count": null,
   "id": "269a3bd3",
   "metadata": {},
   "outputs": [
    {
     "name": "stdout",
     "output_type": "stream",
     "text": [
      "upside down flipped array =\n",
      " [[7 8 9]\n",
      " [4 5 6]\n",
      " [1 2 3]]\n",
      "left to right flipped array =\n",
      " [[3 2 1]\n",
      " [6 5 4]\n",
      " [9 8 7]]\n"
     ]
    }
   ],
   "source": [
    "import jax.numpy as jnp\n",
    "\n",
    "# Create a 3x3 array\n",
    "array = jnp.array([[1, 2, 3],\n",
    "                  [4, 5, 6],\n",
    "                  [7, 8, 9]])\n",
    "\n",
    "# Flip the array upside down along axis 0 (vertical axis)\n",
    "flipped_array0 = jnp.flip(array, axis=0)\n",
    "\n",
    "# Flip the array left to right along axis 1 (horizontal axis)\n",
    "flipped_array1 = jnp.flip(array, axis=1)\n",
    "\n",
    "print('upside down flipped array =\\n', flipped_array0)\n",
    "print('left to right flipped array =\\n', flipped_array1)"
   ]
  },
  {
   "cell_type": "markdown",
   "id": "c193ec5d",
   "metadata": {},
   "source": [
    "The source code of `field.spatial.dim` returns the height and width of the field:"
   ]
  },
  {
   "cell_type": "code",
   "execution_count": null,
   "id": "99fe9128",
   "metadata": {},
   "outputs": [],
   "source": [
    "def spatial_dims(self) -> Tuple[int, int]:\n",
    "    \"\"\"Dimensions representing the height and width of the complex field.\"\"\"\n",
    "    return (-4, -3)"
   ]
  },
  {
   "cell_type": "markdown",
   "id": "bc3724cc",
   "metadata": {},
   "source": [
    "Because the shape of the field is `(B... H W C [1 | 3])`, and when Python denotes sequence numbers from right end to left end, it starts from `-1`, the `-4` refers to the dimension of height (`H`) and `-3` refers to the dimension of width (`W`).\n",
    "\n",
    "Therefore, `field.spatial_dims` refers to a tuple that represents the indices of the spatial dimensions within the shape of the `Field` object. And `field.spatial.dim[0]` refers to the index of the first spatial dimension, which also meas the vertical axis along which the data in `field.u` is flipped.\n",
    "\n",
    "4. `field.replace()`: The method `replace()` is not actually defined in the class `Field`, but in its parent class `struct.PyTreeeNode`. Since the class `Field` inherits from its parent class `struct.PyTreeNode`, `Field` also get this method and doesn't need to create a new one. The `replace` method is avaliable to create a new instance of the class with updated attributes and leave all other attributes unchanged, preserving the immutability of the object."
   ]
  },
  {
   "cell_type": "markdown",
   "id": "1c2ef853",
   "metadata": {},
   "source": [
    "#### **Class 2: ScaleAndBias**"
   ]
  },
  {
   "cell_type": "markdown",
   "id": "3c30b55b",
   "metadata": {},
   "source": [
    "*Source Code*"
   ]
  },
  {
   "cell_type": "code",
   "execution_count": null,
   "id": "26b2ecd9",
   "metadata": {},
   "outputs": [],
   "source": [
    "class ScaleAndBias(nn.Module):\n",
    "    \"\"\"\n",
    "    This element applies a ``scale`` and ``bias`` to the incoming ``Field``.\n",
    "\n",
    "    The ``scale`` and ``bias`` can either be scalars or ``Array``s\n",
    "    broadcastable to the shape of the incoming ``Field``.\n",
    "    \"\"\"\n",
    "\n",
    "    bias: Union[float, Array]\n",
    "    scale: Union[float, Array]\n",
    "\n",
    "    @nn.compact\n",
    "    def __call__(self, field: Field) -> Field:\n",
    "        return (field + self.bias) * self.scale"
   ]
  },
  {
   "cell_type": "markdown",
   "id": "9cf066b4",
   "metadata": {},
   "source": [
    "*Explanation*"
   ]
  },
  {
   "cell_type": "markdown",
   "id": "ee4323df",
   "metadata": {},
   "source": [
    "This class simply adds a`bias` to the incoming `field` and multiplies the sum by a `scale`. `bias` and `scale` could be either `float` or `Array`.\n",
    "\n",
    "Suppose we have a `field` object:"
   ]
  },
  {
   "cell_type": "code",
   "execution_count": null,
   "id": "931197f8",
   "metadata": {},
   "outputs": [],
   "source": [
    "from chromatix import Field\n",
    "import jax\n",
    "\n",
    "# Create an instance of the Field class\n",
    "field = Field(u=jnp.array([[1, 2 ,3], [4, 5, 6], [7, 8, 9]]), # Field data\n",
    "              _dx=jnp.array([1.0, 1.0]), # Spacing of the samples\n",
    "              _spectrum=jnp.array([550]), # Wavelengths\n",
    "              _spectral_density=jnp.array([1.0]) # Spectral density of the field\n",
    "              )"
   ]
  },
  {
   "cell_type": "markdown",
   "id": "7fa30539",
   "metadata": {},
   "source": [
    "Then, let's create an instance of the `ScaleAndbias` class and apply it to get an output:"
   ]
  },
  {
   "cell_type": "code",
   "execution_count": null,
   "id": "a0a0171e",
   "metadata": {},
   "outputs": [
    {
     "name": "stdout",
     "output_type": "stream",
     "text": [
      "Old field = [[1 2 3]\n",
      " [4 5 6]\n",
      " [7 8 9]]\n",
      "New field = [[ 3.  5.  7.]\n",
      " [ 9. 11. 13.]\n",
      " [15. 17. 19.]]\n"
     ]
    }
   ],
   "source": [
    "# Create an instance of the class ScaleAndBias\n",
    "scale_and_bias = ScaleAndBias(bias=0.5, scale=2.0)\n",
    "key = jax.random.PRNGKey(0)\n",
    "variables = scale_and_bias.init(key, field)\n",
    "\n",
    "new_field = scale_and_bias.apply(variables, field)\n",
    "\n",
    "print('Old field =', field.u)\n",
    "print('New field =', new_field.u)"
   ]
  },
  {
   "cell_type": "markdown",
   "id": "e9cb483d",
   "metadata": {},
   "source": [
    "#### **Class 3: Binarize**"
   ]
  },
  {
   "cell_type": "markdown",
   "id": "12c4be3a",
   "metadata": {},
   "source": [
    "*Source Code*"
   ]
  },
  {
   "cell_type": "code",
   "execution_count": null,
   "id": "25ffafcd",
   "metadata": {},
   "outputs": [],
   "source": [
    "class Binarize(nn.Module):\n",
    "    \"\"\"\n",
    "    This element binarizes the incoming ``Field``.\n",
    "\n",
    "    See ``chromatix.ops.quantization.binarize`` for more details.\n",
    "    \"\"\"\n",
    "\n",
    "    threshold: float = 0.5\n",
    "\n",
    "    @nn.compact\n",
    "    def __call__(self, field: Field) -> Field:\n",
    "        return field.replace(u=binarize(field.u, self.threshold))"
   ]
  },
  {
   "cell_type": "markdown",
   "id": "94006b57",
   "metadata": {},
   "source": [
    "*Explanation*"
   ]
  },
  {
   "cell_type": "markdown",
   "id": "43f5ecec",
   "metadata": {},
   "source": [
    "This class aims to binarize the incoming `Field` by calling the function `binarize` from `chromatix.ops.quantization`. This function simply converts the input `Field` to a binary format based on a specified threshold. The threshold is set to 0.5 by default, any value bigger than the threshold will be set to 1, and any value smaller than the threshold will be set to 0."
   ]
  },
  {
   "cell_type": "markdown",
   "id": "96b1f9a6",
   "metadata": {},
   "source": [
    "#### **Class 4: Quantize**"
   ]
  },
  {
   "cell_type": "markdown",
   "id": "3aa9d74d",
   "metadata": {},
   "source": [
    "*Source Code*"
   ]
  },
  {
   "cell_type": "code",
   "execution_count": null,
   "id": "d5c41b39",
   "metadata": {},
   "outputs": [],
   "source": [
    "class Quantize(nn.Module):\n",
    "    \"\"\"\n",
    "    This element quantizes the incoming ``Field`` to the given ``bit_depth``.\n",
    "\n",
    "    See ``chromatix.ops.quantization.quantize`` for more details.\n",
    "    \"\"\"\n",
    "\n",
    "    bit_depth: int\n",
    "    range: Optional[Tuple[int, int]] = None\n",
    "\n",
    "    @nn.compact\n",
    "    def __call__(self, field: Field) -> Field:\n",
    "        return field.replace(u=quantize(field.u, self.bit_depth, self.range))"
   ]
  },
  {
   "cell_type": "markdown",
   "id": "d62d1854",
   "metadata": {},
   "source": [
    "*Explanation*"
   ]
  },
  {
   "cell_type": "markdown",
   "id": "b160a9c2",
   "metadata": {},
   "source": [
    "This class applies the `quantize` function from `chromatix.ops.quantization` to the incoming `Field` to quantize the data to a specific bit depth. \n",
    "\n",
    "The class takes two attributes. The `bit_depth` attribute determines the number of bits used to represent the values in the `Field`. This controls how many levels the data is quantized into. For example, if `bit_depth` is 8, the values in the `Field` will be quantized to 8-bit, 256 levels as $2^8 = 256$\n",
    "\n",
    "The `range` attribute is optional meaning that it could be a `Tuple` or `None`. If a `range` is provided (`Tuple`), the function uses the provided minimum and maximum values. If a `range` is not provided (`None`), the minimum value of the range will be set to the minimum value of the input `Field`, and the maximum value will be set to $x_{max} = max(x - x_{min})$"
   ]
  },
  {
   "cell_type": "markdown",
   "id": "ccf11cf1",
   "metadata": {},
   "source": [
    "### **Module 4：lenses**"
   ]
  },
  {
   "cell_type": "markdown",
   "id": "fbcb708c",
   "metadata": {},
   "source": [
    "As the name of this module suggests, this module defines three different types of lenses: thin lens, FFlens, and DFlens by focal length, refractive index, and numerical aperture (NA) of the lens.\n",
    "\n",
    "In optics, a thin lens is a lens with a thickness (distance along the optical axis between the two surfaces of the lens) that is negligible compared to the radii of curvature of the lens surfaces. Lenses whose thickness is not negligible are sometimes called thick lenses.[@Thin_Lens]\n",
    "\n",
    "The thin lens approximation ignores optical effects due to the thickness of lenses and simplifies ray tracing calculations. It is often combined with the paraxial approximation in techniques such as ray transfer matrix analysis.[@Thin_Lens]\n",
    "\n",
    "The focal length of an optical system is a measure of how strongly the system converges or diverges light; it is the inverse of the system's optical power. A positive focal length indicates that a system converges light, while a negative focal length indicates that the system diverges light. A system with a shorter focal length bends the rays more sharply, bringing them to a focus in a shorter distance or diverging them more quickly as shown in the figure below. [@Focal_Length]\n",
    "\n",
    "<img src=\"Figures/Focal Length.png\" alt=\"Neuron\" width=\"50%\" style=\"display: block; margin: 0 auto;\">\n",
    "\n",
    "For the special case of a thin lens in air, a positive focal length is the distance over which initially collimated (parallel) rays are brought to a focus, or alternatively a negative focal length indicates how far in front of the lens a point source must be located to form a collimated beam. For more general optical systems, the focal length has no intuitive meaning; it is simply the inverse of the system's optical power.[@Focal_Length]\n",
    "\n",
    "\n",
    "\n",
    "In optics, the refractive index (or refraction index) of an optical medium is a dimensionless number that gives the indication of the light bending ability of that medium.[@Refractive_Index] The refractive index, n, of a material is defined as $n=c/v$ where c is the speed of light in a vacuum and v is the speed of light in the medium.\n",
    "\n",
    "In optics, the numerical aperture (NA) of an optical system is a dimensionless number that characterizes the range of angles over which the system can accept or emit light. By incorporating index of refraction in its definition, NA has the property that it is constant for a beam as it goes from one material to another. In most areas of optics, and especially in microscopy, the numerical aperture of an optical system such as an objective lens is defined by:[@Numerical_Aperture]\n",
    "\n",
    "$$NA = n \\cdot \\sin\\theta \\tag{2.4.5}$$"
   ]
  },
  {
   "cell_type": "markdown",
   "id": "b762ae9e",
   "metadata": {},
   "source": [
    "#### **Imports**"
   ]
  },
  {
   "cell_type": "markdown",
   "id": "203f0b70",
   "metadata": {},
   "source": [
    "*Source Code*"
   ]
  },
  {
   "cell_type": "code",
   "execution_count": null,
   "id": "402f5717",
   "metadata": {},
   "outputs": [],
   "source": [
    "from typing import Callable, Optional, Union\n",
    "\n",
    "import flax.linen as nn\n",
    "from chex import PRNGKey\n",
    "\n",
    "from chromatix.elements.utils import register\n",
    "\n",
    "from .. import functional as cf\n",
    "from ..field import Field\n",
    "\n",
    "__all__ = [\"ThinLens\", \"FFLens\", \"DFLens\"]"
   ]
  },
  {
   "cell_type": "markdown",
   "id": "be89f4ba",
   "metadata": {},
   "source": [
    "*Explanation*"
   ]
  },
  {
   "cell_type": "markdown",
   "id": "5bd63c17",
   "metadata": {},
   "source": [
    "Here imports a new package `functional` from `chromatix`. Inside this package is a collection of functions that are designed to help build classes in the modules of the package `elements`."
   ]
  },
  {
   "cell_type": "markdown",
   "id": "d88dc42e",
   "metadata": {},
   "source": [
    "#### **Class 1: Thinlens**"
   ]
  },
  {
   "cell_type": "markdown",
   "id": "0827ab2a",
   "metadata": {},
   "source": [
    "*Source Code*"
   ]
  },
  {
   "cell_type": "code",
   "execution_count": null,
   "id": "b7ffa296",
   "metadata": {},
   "outputs": [],
   "source": [
    "class ThinLens(nn.Module):\n",
    "    \"\"\"\n",
    "    Applies a thin lens placed directly after the incoming ``Field``.\n",
    "    This element returns the ``Field`` directly after the lens.\n",
    "\n",
    "    This element can be placed after any element that returns a ``Field`` or\n",
    "    before any element that accepts a ``Field``.\n",
    "\n",
    "    The attributes ``f``, ``n``, and ``NA`` can be learned by using\n",
    "    ``chromatix.utils.trainable``.\n",
    "\n",
    "    Attributes:\n",
    "        f: Focal length of the lens.\n",
    "        n: Refractive index of the lens.\n",
    "        NA: If provided, the NA of the lens. By default, no pupil is applied\n",
    "            to the incoming ``Field``.\n",
    "    \"\"\"\n",
    "\n",
    "    f: Union[float, Callable[[PRNGKey], float]]\n",
    "    n: Union[float, Callable[[PRNGKey], float]]\n",
    "    NA: Optional[Union[float, Callable[[PRNGKey], float]]] = None\n",
    "\n",
    "    @nn.compact\n",
    "    def __call__(self, field: Field) -> Field:\n",
    "        f = register(self, \"f\")\n",
    "        n = register(self, \"n\")\n",
    "        NA = register(self, \"NA\")\n",
    "        return cf.thin_lens(field, f, n, NA)"
   ]
  },
  {
   "cell_type": "markdown",
   "id": "81c70a9b",
   "metadata": {},
   "source": [
    "*Explanation*"
   ]
  },
  {
   "cell_type": "markdown",
   "id": "23f85952",
   "metadata": {},
   "source": [
    "This code defines a `THinlens` class, which is also a neural network class like the classes in the previous modules. It models the behavior of a thin lens in an optical system by taking the three attributes: `f` for focal length, `n` for refractive index, and `NA` for numerical aperture (optionally) to apply the effect of a thin lens to an incoming `Field` and returns the modified `Field`.\n",
    "\n",
    "The attributes `f` and `n` can either be a fixed value (`float`) or a callable that generates a value for dynamic training scenarios. For `NA`, if it's not provided, no pupil is applied to the incoming `Field` and `NA` is `None`, if it is provided, it can also be a fixed value (`float`) or a callable that generates a value for dynamic training scenarios.\n",
    "\n",
    "The thin lens effect is applied to the input `Field` by the `__call__` method. The `register` function is responsible for the registration of attribute in a `Flax` module as either parameters (trainable) or state variables (non-trainable). \n",
    "\n",
    "Trainable refers to attributes of the module that can be updated or learned during training. Parameters are the values that the model learns during training, like weights or biases in neural networks. And state variables are non-trainable values that can change during inference but aren't updated by the optimizer.\n",
    "\n",
    "Finally, the `cf.thin_lens` function applies the thin lens effect to the input `Field` and outputs the modified field."
   ]
  },
  {
   "cell_type": "markdown",
   "id": "4dade9e1",
   "metadata": {},
   "source": [
    "#### **Class 2: FFlens**"
   ]
  },
  {
   "cell_type": "markdown",
   "id": "2bce95d1",
   "metadata": {},
   "source": [
    "*Source Code*"
   ]
  },
  {
   "cell_type": "code",
   "execution_count": null,
   "id": "5e1416a9",
   "metadata": {},
   "outputs": [],
   "source": [
    "class FFLens(nn.Module):\n",
    "    \"\"\"\n",
    "    Applies a thin lens placed a distance ``f`` after the incoming ``Field``.\n",
    "    This element returns the ``Field`` a distance ``f`` after the lens.\n",
    "\n",
    "    This element can be placed after any element that returns a ``Field`` or\n",
    "    before any element that accepts a ``Field``.\n",
    "\n",
    "    The attributes ``f``, ``n``, and ``NA`` can be learned by using\n",
    "    ``chromatix.utils.trainable``.\n",
    "\n",
    "    Attributes:\n",
    "        f: Focal length of the lens.\n",
    "        n: Refractive index of the lens.\n",
    "        NA: If provided, the NA of the lens. By default, no pupil is applied\n",
    "            to the incoming ``Field``.\n",
    "        inverse: Whether to use IFFT (default is False, which uses FFT).\n",
    "    \"\"\"\n",
    "\n",
    "    f: Union[float, Callable[[PRNGKey], float]]\n",
    "    n: Union[float, Callable[[PRNGKey], float]]\n",
    "    NA: Optional[Union[float, Callable[[PRNGKey], float]]] = None\n",
    "    inverse: bool = False\n",
    "\n",
    "    @nn.compact\n",
    "    def __call__(self, field: Field) -> Field:\n",
    "        f = register(self, \"f\")\n",
    "        n = register(self, \"n\")\n",
    "        NA = register(self, \"NA\")\n",
    "        return cf.ff_lens(field, f, n, NA, inverse=self.inverse)"
   ]
  },
  {
   "cell_type": "markdown",
   "id": "bc9fe83e",
   "metadata": {},
   "source": [
    "*Explanation*"
   ]
  },
  {
   "cell_type": "markdown",
   "id": "324ac7fd",
   "metadata": {},
   "source": [
    "This class is used to simulate the case that a field propagates through a thin lens and then a distance `f` after the lens. This means that if the incoming field is a plane wave, the field will converge to a point at the distance `f` from the thin lens.\n",
    "\n",
    "Besides the attribute `f`, `n`, and `NA`, this class also includes the attribute `inverse` to determine whether to use the Inverse Fast Fourier Transform (IFFT) or the Fast Fourier Transform (FFT). If `inverse = False`, FFT will be applied, which means the field propagates normally. If `inverse = True`, IFFT will be applied, which means the field propagates backwards (`f` is negative).\n",
    "\n",
    "Finally, in the `__call__` method, the code call the function `cf.ff_lens`. First the function applies a numerical aperture to the field if provided, and then it propagates the field over a distance `f` of `-f` (if inverse) using FFT or IFFT and outputs the modified field."
   ]
  },
  {
   "cell_type": "markdown",
   "id": "74e0240f",
   "metadata": {},
   "source": [
    "#### **Class 3: DFlens**"
   ]
  },
  {
   "cell_type": "markdown",
   "id": "1504a178",
   "metadata": {},
   "source": [
    "*Source Code*"
   ]
  },
  {
   "cell_type": "code",
   "execution_count": null,
   "id": "fcc4bfff",
   "metadata": {},
   "outputs": [],
   "source": [
    "class DFLens(nn.Module):\n",
    "    \"\"\"\n",
    "    Applies a thin lens placed a distance ``d`` after the incoming ``Field``.\n",
    "    This element returns the ``Field`` a distance ``f`` after the lens.\n",
    "\n",
    "    This element can be placed after any element that returns a ``Field`` or\n",
    "    before any element that accepts a ``Field``.\n",
    "\n",
    "    The attributes ``d``, ``f``, ``n``, and ``NA`` can be learned by using\n",
    "    ``chromatix.utils.trainable``.\n",
    "\n",
    "    Attributes:\n",
    "        d: Distance from the incoming ``Field`` to the lens.\n",
    "        f: Focal length of the lens.\n",
    "        n: Refractive index of the lens.\n",
    "        NA: If provided, the NA of the lens. By default, no pupil is applied\n",
    "            to the incoming ``Field``.\n",
    "        inverse: Whether to use IFFT (default is False, which uses FFT).\n",
    "    \"\"\"\n",
    "\n",
    "    d: Union[float, Callable[[PRNGKey], float]]\n",
    "    f: Union[float, Callable[[PRNGKey], float]]\n",
    "    n: Union[float, Callable[[PRNGKey], float]]\n",
    "    NA: Optional[Union[float, Callable[[PRNGKey], float]]] = None\n",
    "    inverse: bool = False\n",
    "\n",
    "    @nn.compact\n",
    "    def __call__(self, field: Field) -> Field:\n",
    "        d = register(self, \"d\")\n",
    "        f = register(self, \"f\")\n",
    "        n = register(self, \"n\")\n",
    "        NA = register(self, \"NA\")\n",
    "        return cf.df_lens(field, d, f, n, NA, inverse=self.inverse)"
   ]
  },
  {
   "cell_type": "markdown",
   "id": "49a0b61c",
   "metadata": {},
   "source": [
    "*Explanation*"
   ]
  },
  {
   "cell_type": "markdown",
   "id": "08d14a70",
   "metadata": {},
   "source": [
    "This class is totally the same with the `FFlens` class, but it models the case that a field propagates through a thin lens and then a distance `d` after the lens."
   ]
  },
  {
   "cell_type": "markdown",
   "id": "c2d7f370",
   "metadata": {},
   "source": [
    "### **Module 5: phase_masks**"
   ]
  },
  {
   "cell_type": "markdown",
   "id": "04237c0d",
   "metadata": {},
   "source": [
    "#### **Imports**"
   ]
  },
  {
   "cell_type": "markdown",
   "id": "bae4c266",
   "metadata": {},
   "source": [
    "*Source Code*"
   ]
  },
  {
   "cell_type": "code",
   "execution_count": null,
   "id": "d0b05bff",
   "metadata": {},
   "outputs": [],
   "source": [
    "from typing import Callable, Optional, Tuple, Union\n",
    "import jax.numpy as jnp\n",
    "from chex import Array, PRNGKey\n",
    "from flax import linen as nn\n",
    "from jax.scipy.ndimage import map_coordinates\n",
    "from chromatix.field import Field\n",
    "from chromatix.functional import wrap_phase, phase_change\n",
    "from chromatix.utils import seidel_aberrations, zernike_aberrations\n",
    "from chromatix.ops import quantize\n",
    "from chromatix.elements.utils import register\n",
    "\n",
    "__all__ = [\n",
    "    \"PhaseMask\",\n",
    "    \"SpatialLightModulator\",\n",
    "    \"SeidelAberrations\",\n",
    "    \"ZernikeAberrations\",\n",
    "]"
   ]
  },
  {
   "cell_type": "markdown",
   "id": "127b789a",
   "metadata": {},
   "source": [
    "*Explanation*"
   ]
  },
  {
   "cell_type": "markdown",
   "id": "0bf7bc6a",
   "metadata": {},
   "source": [
    "1. `from jax.scipy.ndimage import map_coordinates`: \n",
    "    \n",
    "This line imports a JAX-compatible `map_coordinates` function of the module `ndimage` from `jax.scipy`. It takes an `input` array and a set of `coordinates` (floating point indices indicating locations) and interpolates the values at those coordinates using a given interpolation `order`. For example:"
   ]
  },
  {
   "cell_type": "code",
   "execution_count": null,
   "id": "c5611daa",
   "metadata": {},
   "outputs": [
    {
     "name": "stdout",
     "output_type": "stream",
     "text": [
      "interpolate_values = [4.   3.75]\n"
     ]
    }
   ],
   "source": [
    "import jax.numpy as jnp\n",
    "from jax.scipy.ndimage import map_coordinates\n",
    "\n",
    "data = jnp.array([[1.0, 2.0, 3.0], \n",
    "                   [4.0, 5.0, 6.0], \n",
    "                   [7.0, 8.0, 9.0]])\n",
    "\n",
    "coordinates = jnp.array([[0.5, 1.5],\n",
    "                         [1.5, 2.5]])\n",
    "\n",
    "interpolate_values = map_coordinates(data, coordinates, order=1)\n",
    "\n",
    "print('interpolate_values =', interpolate_values)"
   ]
  },
  {
   "cell_type": "markdown",
   "id": "176bbd3f",
   "metadata": {},
   "source": [
    "Here is how the interpolation works: Each pair of values in the `coordinates` array corresponds to a point in the `data` array at which `map_coordinates` will interpolate. The shape of `coordinates` is `(2, 2)` which means that there are two points needing interpolation, the first point corresponds to the value at `(0.5, 1.5)` in the `data` array, and the second point corresponds to the value at `(1.5, 2.5)` in the `data` array. \n",
    "\n",
    "For the first coordinate `(0.5, 1.5)`, it means that the point in the `data` array is between the first and second rows, the second and third columns. It's thus surrounded by `data[0, 1] = 2`, `data[0, 2] = 3`, `data[1, 1] = 5`, and `data[1, 2] = 6`. \n",
    "\n",
    "As for interpolation, `map_coordinates` first does row interpolation. For row 0.5, the interpolation is done between row 0 and row 1 for both columns 1 and 2. For column 1, the interpolation happens between `data[0, 1] = 2` and `data[1, 1] = 5` with weights 0.5, since the points are at the middle of the rows and columns:\n",
    "\n",
    "$$ interpolatedcol1 = 2 \\times 0.5 + 5 \\times 0.5 = 3.5 \\tag{2.4.6}$$\n",
    "\n",
    "For column 2, the interpolation happens between `data[0, 2] = 3` and `data[1, 2] = 6` with weights 0.5 and 0.5:\n",
    "\n",
    "$$ interpolatedcol1 = 3 \\times 0.5 + 6 \\times 0.5 = 4.5 \\tag{2.4.7}$$\n",
    "\n",
    "Then, the function does column interpolation between the row-interpolated values along the column axis:\n",
    "\n",
    "$$ finalvalue = 3.5 \\times 0.5 + 4.5 \\times 0.5 = 4 \\tag{2.4.8}$$\n",
    "\n",
    "The second point is at `(1.5, 2.5)`, which means it's surrounded by `data[1, 2]`, `data[1, 3]`, `data[2, 2]`. However, `data[2, 3]` and `data[1, 3]` are out of the `data` array. For making interpolations possible, the function handles the out-of-bounds points using `constant` mode by default, which means it sets `data[1, 3] = 0` and `data[2, 3] = 0` by default. Then the final inerpolated value is calculated in the same way as described above.\n",
    "\n",
    "2. `from chromatix.functional import wrap_phase, phase_change`:\n",
    "\n",
    "This line imports the `wrap_phase` and `phase_change` functions from the `phase_masks` module of the `chromatix_functional` package. `phase_change` perturbs a field by a phase and returns a modified field. `wrap_phase` wraps values of a phase to a given limit.\n",
    "\n",
    "3. `from chromatix.utils import seidel_aberrations, zernike_aberrations`:\n",
    "\n",
    "This line imports the functions `seidel_aberrations` and `zernike_aberrations` from the module `initializers` of the `chromatix.utils` package. `seidel_aberrations` is responsible for generating Seidel aberration phase masks, and `zernike_aberrations` is responsible for generating Zernike aberration phase masks.\n",
    "\n",
    "4. Seidel Aberration:\n",
    "\n",
    "In optics, aberration is a property of optical systems, such as lenses, that causes light to be spread out over some region of space rather than focused to a point. Aberrations cause the image formed by a lens to be blurred or distorted, with the nature of the distortion depending on the type of aberration. Aberration can be defined as a departure of the performance of an optical system from the predictions of paraxial optics.[@Optical_Aberration]\n",
    "\n",
    "The most commom types of aberrations are monochromatic aberrations, including tilt, defocus, spherical aberration, coma, astigmatism, field curvature, distortion, and chromatic aberrations, including axial chromatix aberration, lateral chromatix aberration.\n",
    "\n",
    "Seidel aberrations are known as primary or third-order aberrations, including spherical aberration, coma, astigmatism, field curvature, and distortion. These five Seidel can be mathematically expressed using polynomial expansions of the wavefront aberration function in polar coordinates:\n",
    "\n",
    "$$W(\\rho, \\theta) = W_s(\\rho) + W_c(\\rho, \\theta) + W_a(\\rho, \\theta) + W_f(\\rho) + W_d(\\rho) \\tag{2.4.9}$$\n",
    "\n",
    "Where $W$ is the total wavefront, $W_s$ represents spherical aberration, $W_c$ represents coma, $W_a$ represents astigmatism, $W_f$ represents field curvature, and $W_d$ represents distortion.\n",
    "\n",
    "5. Zernike Aberration:\n",
    "\n",
    "Zernike aberrations are a set of orthogonal polynomials used to describe wavefront aberrations in optical systems using polar coordinates. Each Zernike polynomial is defined by the radial order $n$ and the azimuthal frequency $m$:\n",
    "\n",
    "$$Z^m_n(\\rho, \\theta) = R^m_n(\\rho) \\cdot \\cos(m\\theta) \\tag{2.4.10}$$\n",
    "\n",
    "$$Z^{-m}_n(\\rho, \\theta) = R^m_n(\\rho) \\cdot \\sin(m\\theta) \\tag{2.4.11}$$\n",
    "\n",
    "$$R^m_n(\\rho) = \\sum^{(n-m)/2}_{k=0}\\frac{(-1)^k \\cdot (n-k)!}{k! \\cdot (\\frac{n+m}{2}-k)! \\cdot (\\frac{n-m}{2}-k)!} \\cdot \\rho^{n-2k} \\tag{2.4.12}$$\n",
    "\n",
    "Then, the Zernike polynomials can be used to express different types of aberrations:\n",
    "\n",
    "<img src=\"Figures/zernike_aberrations_table.jpg\" alt=\"Neuron\" width=\"50%\" style=\"display: block; margin: 0 auto;\">\n",
    "\n",
    "And the total wavefront aberration is expressed as a sum of Zernike aberrations:\n",
    "\n",
    "$$W(\\rho, \\theta) = \\sum_{n,m}c^m_nZ^m_n(\\rho, \\theta) \\tag{2.4.13}"
   ]
  },
  {
   "cell_type": "markdown",
   "id": "47a0224d",
   "metadata": {},
   "source": [
    "#### **Class 1: PhaseMask**"
   ]
  },
  {
   "cell_type": "markdown",
   "id": "e89bafc4",
   "metadata": {},
   "source": [
    "*Source Code*"
   ]
  },
  {
   "cell_type": "code",
   "execution_count": null,
   "id": "12777792",
   "metadata": {},
   "outputs": [],
   "source": [
    "class PhaseMask(nn.Module):\n",
    "    \"\"\"\n",
    "    Applies a ``phase`` mask to an incoming ``Field``.\n",
    "\n",
    "    This element can be placed after any element that returns a ``Field`` or\n",
    "    before any element that accepts a ``Field``.\n",
    "\n",
    "    This element handles multi-wavelength ``Field``s by assuming that the first\n",
    "    wavelength in the ``spectrum`` of the ``Field`` is the central wavelength\n",
    "    for which the ``phase`` was calculated, and modulates the ``phase`` by the\n",
    "    ratio of other wavelengths in the ``spectrum`` to the central wavelength\n",
    "    appropriately.\n",
    "\n",
    "    The ``phase`` can be learned (pixel by pixel) by using\n",
    "    ``chromatix.utils.trainable``.\n",
    "\n",
    "    Since phase mask initializations might require information about the\n",
    "    pupil of a system, the extra parameters ``n``, ``f``, and ``NA`` can\n",
    "    be specified. These will be passed as arguments to the phase mask\n",
    "    initialization function if ``phase`` is trainable. Note that if any of\n",
    "    these is None, none of them will be passed to the initialization function\n",
    "    and you will get an error.\n",
    "\n",
    "    Attributes:\n",
    "        phase: The phase to be applied. Should have shape `(H W)`.\n",
    "        f: Focal length of the system's objective. Defaults to None.\n",
    "        n: Refractive index of the system's objective. Defaults to None.\n",
    "        NA: The numerical aperture of the system's objective. Defaults to None.\n",
    "    \"\"\"\n",
    "\n",
    "    phase: Union[Array, Callable[[PRNGKey, Tuple[int, int], float, float], Array]]\n",
    "    f: Optional[float] = None\n",
    "    n: Optional[float] = None\n",
    "    NA: Optional[float] = None\n",
    "\n",
    "    @nn.compact\n",
    "    def __call__(self, field: Field) -> Field:\n",
    "        \"\"\"Applies ``phase`` mask to incoming ``Field``.\"\"\"\n",
    "        if all(x is not None for x in [self.n, self.f, self.NA]):\n",
    "            pupil_args = (self.n, self.f, self.NA)\n",
    "        else:\n",
    "            pupil_args = ()\n",
    "\n",
    "        phase = register(\n",
    "            self,\n",
    "            \"phase\",\n",
    "            field.spatial_shape,\n",
    "            field.dx[..., 0, 0].squeeze(),\n",
    "            field.spectrum[..., 0, 0].squeeze(),\n",
    "            *pupil_args,\n",
    "        )\n",
    "\n",
    "        return phase_change(field, phase)"
   ]
  },
  {
   "cell_type": "markdown",
   "id": "81f0368f",
   "metadata": {},
   "source": [
    "*Explanation*"
   ]
  },
  {
   "cell_type": "markdown",
   "id": "13313a43",
   "metadata": {},
   "source": [
    "The code above defines a class `PhaseMask` that inherits from `nn.Module`, indicating it's a neural network class. It's responsible for applying a phase mask to an incoming field and return a modified field. It takes four attributes, `phase`, `f`, `n`, and `NA`. \n",
    "\n",
    "1. Attributes:\n",
    "\n",
    "`f`, `n`, and `NA` are optional and have default values of `None`, meaning that they are often not considered unless a pupil exists and needs to be specified. `phase` could either be a normal 2D array to represent the phase mask directly, or a callable that returns a 2D array. If `phase` is a callable, it can be learned by using `chromatix.utils.trainable` to generate the phase mask for possible optimization.\n",
    "\n",
    "2. Method:\n",
    "\n",
    "Then, as usual, the code defines the `__call__` method, which makes the class callable like a function. The method takes a `Field` object which represents the incoming field and returns a phase-modified `Field`. In the method, an if-clause is applied to check if all the optional attributes `n`, `f`, and `NA` are provided. If provided, it creates a tuple `pupil_args` that contains these values. Otherwise, it assigns an empty tuple to `pupil_arg`， ensuring that the function only passes these arguments if all are defined.\n",
    "\n",
    "Then the code calls a `register` function to initialize or retrieve the `phase` mask depending on whether it's trainable or fixed. The result from this function is the phase mask and stored in the `phase` variable, which will be applied to the `Field`. \n",
    "\n",
    "In the `register` function, `self` is the current instance of `PhaseMask`, `\"phase\"` is the name of the parameter to register, and `field.spatial_shape` calls the method `spatial_shape` in the class `Field` to provide the shape of the field.\n",
    "\n",
    "`field.dx` and `field.spectrum` are the two attributes in the class `Field`. `field.dx` is the spacing of the sample in `field.u` (the complex field) in order to discretizing a continues field, and has a shape of `(2 B... H W C [1 | 3])`. `field.spectrum` is the wavelength sampled by the field with a shape of `(B... H W C [1 | 3])` \n",
    "\n",
    "`[..., 0, 0]` means that the preceding dimensions will be taken as they are, and from the last two dimensions, only the elements at position `[0, 0]` will be taken. For example, the first four dimensions (`(2 B... H W)`) of `field.dx` will be taken wholly, and from the fifth and sixth dimensions (`(C [1 | 3])`), only the first elements (`[0, 0]`) of the two dimensions will be taken.\n",
    "\n",
    "`.squeeze()` is applied to remove any singleton dimensions that might result after indexing `field.dx[..., 0, 0]` and `field.spectrum[..., 0, 0]`, ensuring that the unnecessary extra dimensions are removed. \n",
    "\n",
    "For example:"
   ]
  },
  {
   "cell_type": "code",
   "execution_count": null,
   "id": "7dc98444",
   "metadata": {},
   "outputs": [
    {
     "name": "stdout",
     "output_type": "stream",
     "text": [
      "shape of the input array: (1, 2, 3)\n",
      "input array = \n",
      " [[[1 2 3]\n",
      "  [4 5 6]]]\n",
      "shape of the output array: (2, 3)\n",
      "output array =\n",
      " [[1 2 3]\n",
      " [4 5 6]]\n"
     ]
    }
   ],
   "source": [
    "import numpy as np\n",
    "\n",
    "#Create a 3D array\n",
    "input_array = np.array([[[1, 2, 3], [4, 5, 6]]])\n",
    "\n",
    "print('shape of the input array:', input_array.shape)\n",
    "print('input array = \\n', input_array)\n",
    "\n",
    "#Squeeze the 3D array\n",
    "output_array = np.squeeze(input_array)\n",
    "\n",
    "print('shape of the output array:', output_array.shape)\n",
    "print('output array =\\n', output_array)"
   ]
  },
  {
   "cell_type": "markdown",
   "id": "c49ac8ca",
   "metadata": {},
   "source": [
    "As shown above, the singleton dimension of the `input_array` is removed by `np.squeeze()`, converting the 3D array into a 2D array.\n",
    "\n",
    "`*pupil_args` returns an unpacked `pupil_args` tuple, since `register` needs individual arguments, but `pupil_args` can only be passed as a single argument."
   ]
  },
  {
   "cell_type": "code",
   "execution_count": null,
   "id": "3d3712a2",
   "metadata": {},
   "outputs": [
    {
     "name": "stdout",
     "output_type": "stream",
     "text": [
      "unpacked pupil_args =\n",
      " 1.2 3.5 12\n"
     ]
    }
   ],
   "source": [
    "pupil_args = (1.2, 3.5 , 12)\n",
    "\n",
    "print('unpacked pupil_args =\\n', *pupil_args)"
   ]
  },
  {
   "cell_type": "markdown",
   "id": "5fb25550",
   "metadata": {},
   "source": [
    "Finally, the phase mask is applied to the field using `phase_change` which modifies the phase of the field based on the phase mask."
   ]
  },
  {
   "cell_type": "markdown",
   "id": "8e6c4218",
   "metadata": {},
   "source": [
    "#### **Class 2: SpatialLightModulator**"
   ]
  },
  {
   "cell_type": "markdown",
   "id": "490ff87b",
   "metadata": {},
   "source": [
    "*Source Code*"
   ]
  },
  {
   "cell_type": "code",
   "execution_count": null,
   "id": "9b280753",
   "metadata": {},
   "outputs": [],
   "source": [
    "class SpatialLightModulator(nn.Module):\n",
    "    \"\"\"\n",
    "    Simulates a spatial light modulator (SLM) applied to an incoming ``Field``.\n",
    "\n",
    "    This element can be placed after any element that returns a ``Field`` or\n",
    "    before any element that accepts a ``Field``.\n",
    "\n",
    "    This means that this element acts as if the SLM is phase only and transmits\n",
    "    a ``Field``, rather than reflecting it.\n",
    "\n",
    "    This element handles multi-wavelength ``Field``s by assuming that the first\n",
    "    wavelength in the ``spectrum`` of the ``Field`` is the central wavelength\n",
    "    for which the ``phase`` was calculated, and modulates the ``phase`` by the\n",
    "    ratio of other wavelengths in the ``spectrum`` to the central wavelength\n",
    "    appropriately.\n",
    "\n",
    "    This element also handles the limited phase modulation range of an SLM,\n",
    "    controlled by ``phase_range``.\n",
    "\n",
    "    This element also roughly handles the simulation of the surface of\n",
    "    the SLM by interpolating the phase with the given ``shape`` (which\n",
    "    can be the number of pixels in the SLM) to the shape of the incoming\n",
    "    ``Field``, which is assumed to have a shape larger than the given SLM\n",
    "    ``shape``. The order of the interpolation performed can be controlled with\n",
    "    ``interpolation_order``, but currently only orders of 0 (nearest neighbor)\n",
    "    and 1 (linear interpolation) are supported.\n",
    "\n",
    "    The ``phase`` of the SLM can be learned (pixel by pixel) by using\n",
    "    ``chromatix.utils.trainable``.\n",
    "\n",
    "    Attributes:\n",
    "        phase: The phase to be applied. Should have shape `(H W)`.\n",
    "        shape: The shape of the SLM, provided as (H W).\n",
    "        spacing: The pitch of the SLM pixels.\n",
    "        phase_range: The phase range that the SLM can simulate, provided as\n",
    "            (min, max).\n",
    "        num_bits: The number of bits of precision the phase pixels should be\n",
    "            quantized to. Defaults to None, in which case no quantization is\n",
    "            applied. Otherwise, the phase will be quantized to have\n",
    "            ``2.0 ** num_bits`` values within ``phase_range``.\n",
    "        interpolation_order: The order of interpolation for the SLM pixels to\n",
    "            the shape of the incoming ``Field``. Can be 0 or 1. Defaults to 0.\n",
    "        f: Focal length of the system's objective. Defaults to None.\n",
    "        n: Refractive index of the system's objective. Defaults to None.\n",
    "        NA: The numerical aperture of the system's objective. Defaults to None.\n",
    "    \"\"\"\n",
    "\n",
    "    phase: Union[Array, Callable[[PRNGKey, Tuple[int, int], float, float], Array]]\n",
    "    shape: Tuple[int, int]\n",
    "    spacing: float\n",
    "    phase_range: Tuple[float, float]\n",
    "    num_bits: Optional[Union[int, float]] = None\n",
    "    interpolation_order: int = 0\n",
    "    f: Optional[float] = None\n",
    "    n: Optional[float] = None\n",
    "    NA: Optional[float] = None\n",
    "\n",
    "    @nn.compact\n",
    "    def __call__(self, field: Field) -> Field:\n",
    "        \"\"\"Applies simulated SLM ``phase`` mask to incoming ``Field``.\"\"\"\n",
    "        if all(x is not None for x in [self.n, self.f, self.NA]):\n",
    "            pupil_args = (self.n, self.f, self.NA)\n",
    "        else:\n",
    "            pupil_args = ()\n",
    "\n",
    "        phase = register(\n",
    "            self,\n",
    "            \"phase\",\n",
    "            self.shape,\n",
    "            self.spacing,\n",
    "            field.spectrum[..., 0, 0].squeeze(),\n",
    "            *pupil_args,\n",
    "        )\n",
    "        assert (\n",
    "            phase.shape == self.shape\n",
    "        ), \"Provided phase shape should match provided SLM shape\"\n",
    "        phase = wrap_phase(phase, self.phase_range)\n",
    "        if self.num_bits is not None:\n",
    "            phase = quantize(phase, 2.0**self.num_bits, range=self.phase_range)\n",
    "        field_pixel_grid = jnp.meshgrid(\n",
    "            jnp.linspace(0, self.shape[0] - 1, num=field.spatial_shape[0]) + 0.5,\n",
    "            jnp.linspace(0, self.shape[1] - 1, num=field.spatial_shape[1]) + 0.5,\n",
    "            indexing=\"ij\",\n",
    "        )\n",
    "        phase = map_coordinates(phase, field_pixel_grid, self.interpolation_order)\n",
    "\n",
    "        return phase_change(field, phase)"
   ]
  },
  {
   "cell_type": "markdown",
   "id": "a395d467",
   "metadata": {},
   "source": [
    "*Explanation*"
   ]
  },
  {
   "cell_type": "markdown",
   "id": "e730e2f3",
   "metadata": {},
   "source": [
    "This class simulates spatial light modulator. A spatial light modulator is a device used to control the intensity, phase, or polarization of light. In this case, the code only simulates the modulation of phase.\n",
    "\n",
    "Compared to the class `PhaseMask`, besides the same attributes `phase`, `f`, `n`, and `NA` which act as the same role, this class takes five more attributes, namely, `shape`, `spacing`, `phase_range`, `num_bits`, and `interpolation_order`. \n",
    "\n",
    "`shape` and `spacing` define the size and structure of a spatial light modulator. `shape` is defined as a tuple `(H, W)` representing the size of the spatial light modulator, where H and W are the number of pixels in the height and width directions, respectively. `spacing` defines the pitch, meaning the distance between two pixels.\n",
    "\n",
    "`phase_range` and `num_bits` defines how will the spatial light modulator modulate the phase of the incoming field. `phase_range` is also defined as a tuple, and it defines the range within which the spatial light modulator can modulate the phase. Because the period of a wave is $2\\pi$, the range is usually set between 0 and $2\\pi$, or $-\\pi$ and $\\pi$. `num_bits` is used to quantize the `phase_range`, controlling the precision of phase, namely, the number of discrete phase levels that the spatial light modulator can apply to the incoming field.\n",
    "\n",
    "`interpolation_order` indicates what kind of interpolation the `map_coordinates` should apply. `order = 0` means that `map_coordiantes` applies nearest_neighbor interpolation, which rounds each coordinate to its nearest integer value.\n",
    "\n",
    "For example:"
   ]
  },
  {
   "cell_type": "code",
   "execution_count": null,
   "id": "03a46a4b",
   "metadata": {},
   "outputs": [
    {
     "name": "stdout",
     "output_type": "stream",
     "text": [
      "interpolate_values = [6. 0.]\n"
     ]
    }
   ],
   "source": [
    "data = jnp.array([[1.0, 2.0, 3.0], \n",
    "                   [4.0, 5.0, 6.0], \n",
    "                   [7.0, 8.0, 9.0]])\n",
    "\n",
    "coordinates = jnp.array([[0.5, 1.5],\n",
    "                         [1.5, 2.5]])\n",
    "\n",
    "interpolated_values = map_coordinates(data, coordinates, order=0)\n",
    "\n",
    "print('interpolate_values =', interpolated_values)"
   ]
  },
  {
   "cell_type": "markdown",
   "id": "54d3b4f9",
   "metadata": {},
   "source": [
    "In this example, the `coordinates` is rounded to `[1, 2]` and `[2, 3]` as `order=0`. Accordingly, the `interpolate_value` becomes `data[1, 2] = 6` and `data[2, 3] = 0` (The boundary mode is `constant` by default which means out-of-array values are set to 0).\n",
    "\n",
    "`__call__` method defines what happens when the spatial light modulator is applied to an incoming field. The if-clause and `register` function do the same thing as in the `PhaseMask`. Apart from them, the method then uses clauses to achieve its goal.\n",
    "\n",
    "First, it applies a `assert` statement. The `assert` statement in Python is used as a debugging aid. It tests whether a given condition is `True`, if it is `False`, an `AssertionError` will be raised like this:"
   ]
  },
  {
   "cell_type": "code",
   "execution_count": null,
   "id": "b3db9f21",
   "metadata": {},
   "outputs": [
    {
     "ename": "AssertionError",
     "evalue": "",
     "output_type": "error",
     "traceback": [
      "\u001b[1;31m---------------------------------------------------------------------------\u001b[0m\n",
      "\u001b[1;31mAssertionError\u001b[0m                            Traceback (most recent call last)\n",
      "Cell \u001b[1;32mIn[17], line 3\u001b[0m\n",
      "\u001b[0;32m      1\u001b[0m x \u001b[38;5;241m=\u001b[39m \u001b[38;5;241m5\u001b[39m\n",
      "\u001b[0;32m      2\u001b[0m \u001b[38;5;28;01massert\u001b[39;00m(x\u001b[38;5;241m==\u001b[39m\u001b[38;5;241m5\u001b[39m)\n",
      "\u001b[1;32m----> 3\u001b[0m \u001b[38;5;28;01massert\u001b[39;00m(x\u001b[38;5;241m==\u001b[39m\u001b[38;5;241m1\u001b[39m)\n",
      "\n",
      "\u001b[1;31mAssertionError\u001b[0m: "
     ]
    }
   ],
   "source": [
    "x = 5\n",
    "assert(x==5)\n",
    "assert(x==1)"
   ]
  },
  {
   "cell_type": "markdown",
   "id": "6843434d",
   "metadata": {},
   "source": [
    "Second, it wraps `phase` within the `phase_range` which is typically $(0, 2\\pi)$ or $(-\\pi, \\pi)$ and then quantizes it `num_bits` is provided.\n",
    "\n",
    "Third, it creates `field_pixel_grid` with functions `jnp.meshgrid()` and `jnp.linspace()` in order to generate a grid of pixel coordinates, which is crucial when interpolating values to a field.\n",
    "\n",
    "`jnp.meshgrid()` constructs N-dimensional grid arrays from N 1-dimensional vectors and returns a length-N list of grid arrays.\n",
    "\n",
    "For example:"
   ]
  },
  {
   "cell_type": "code",
   "execution_count": null,
   "id": "617805b2",
   "metadata": {},
   "outputs": [
    {
     "name": "stdout",
     "output_type": "stream",
     "text": [
      "X grid = [[0 0 0 0 0 0 0]\n",
      " [1 1 1 1 1 1 1]\n",
      " [2 2 2 2 2 2 2]\n",
      " [3 3 3 3 3 3 3]\n",
      " [4 4 4 4 4 4 4]\n",
      " [5 5 5 5 5 5 5]]\n",
      "Y grid = [[0 1 2 3 4 5 6]\n",
      " [0 1 2 3 4 5 6]\n",
      " [0 1 2 3 4 5 6]\n",
      " [0 1 2 3 4 5 6]\n",
      " [0 1 2 3 4 5 6]\n",
      " [0 1 2 3 4 5 6]]\n"
     ]
    }
   ],
   "source": [
    "import jax.numpy as jnp\n",
    "\n",
    "x = jnp.array([0, 1, 2, 3, 4, 5])\n",
    "y = jnp.array([0, 1, 2, 3, 4, 5, 6])\n",
    "\n",
    "X, Y = jnp.meshgrid(x, y, indexing = 'ij')\n",
    "\n",
    "print('X grid =', X)\n",
    "print('Y grid =', Y)"
   ]
  },
  {
   "cell_type": "markdown",
   "id": "8f10fadb",
   "metadata": {},
   "source": [
    "`indexing = 'ij'` means the output uses matrix indexing. `indexing = 'xy'` means the output uses cartesian indexing (default).\n",
    "\n",
    "`jnp.linspace()` generates evenly spaced numbers between parameters `start` and `stop`. `num` is the number of points in the output array.\n",
    "\n",
    "For example:"
   ]
  },
  {
   "cell_type": "code",
   "execution_count": null,
   "id": "d51a0cca",
   "metadata": {},
   "outputs": [
    {
     "name": "stdout",
     "output_type": "stream",
     "text": [
      "a =  [0.  0.5 1.  1.5 2.  2.5 3.  3.5 4.  4.5 5. ]\n"
     ]
    }
   ],
   "source": [
    "# Create a 1D array starting from 0, stopping at 5 with 11 elements\n",
    "a = jnp.linspace(0, 5, 11)\n",
    "print('a = ', a)"
   ]
  },
  {
   "cell_type": "markdown",
   "id": "c38c220e",
   "metadata": {},
   "source": [
    "As the output shows, the difference between two neighboring elements is:\n",
    "\n",
    "$$ dif = \\frac{stop - start}{num - 1} \\tag{2.4.14}$$\n",
    "\n",
    "In the source code, `jnp.linspace(0, self.shape[0]-1, sum=field.spatial_shape[0])` creates a 1D array according to the height of the spatial light modulator (`self.shape[0]`), and the height of the incoming field (`field.spatial_shape[0]`). `+ 0.5` term shifts the generated values by half a unit for centering the coordinates within each pixel. This makes the coordinate to the center of each pixel rather than the edge, which is important when interpolating.\n",
    "\n",
    "Finally, the code applies `phase_change()` to apply the calculated phase modulation to the incoming field."
   ]
  },
  {
   "cell_type": "markdown",
   "id": "0880a0da",
   "metadata": {},
   "source": [
    "#### **Class 3: SeidelAberrations**"
   ]
  },
  {
   "cell_type": "markdown",
   "id": "a25a31bf",
   "metadata": {},
   "source": [
    "*Source Code*"
   ]
  },
  {
   "cell_type": "code",
   "execution_count": null,
   "id": "53190f38",
   "metadata": {},
   "outputs": [],
   "source": [
    "class SeidelAberrations(nn.Module):\n",
    "    \"\"\"\n",
    "    Applies Seidel phase polynomial to an incoming ``Field``.\n",
    "\n",
    "    This element can be placed after any element that returns a ``Field`` or\n",
    "    before any element that accepts a ``Field``.\n",
    "\n",
    "    This element handles multi-wavelength ``Field``s by assuming that the first\n",
    "    wavelength in the ``spectrum`` of the ``Field`` is the central wavelength\n",
    "    for which the ``phase`` was calculated, and modulates the ``phase`` by the\n",
    "    ratio of other wavelengths in the ``spectrum`` to the central wavelength\n",
    "    appropriately.\n",
    "\n",
    "    The ``coefficients`` can be learned by using ``chromatix.utils.trainable``.\n",
    "\n",
    "    Attributes:\n",
    "        coefficients: The Seidel coefficients. Should have shape `[5,]`.\n",
    "        f: The focal length.\n",
    "        n: The refractive index.\n",
    "        NA: The numerical aperture. The applied phase will be 0 outside NA.\n",
    "        u: The horizontal position of the object field point\n",
    "        v: The vertical position of the object field point\n",
    "    \"\"\"\n",
    "\n",
    "    coefficients: Union[Array, Callable[[PRNGKey], Array]]\n",
    "    f: float\n",
    "    n: float\n",
    "    NA: float\n",
    "    u: float\n",
    "    v: float\n",
    "\n",
    "    @nn.compact\n",
    "    def __call__(self, field: Field) -> Field:\n",
    "        \"\"\"Applies ``phase`` mask to incoming ``Field``.\"\"\"\n",
    "        coefficients = register(self, \"coefficients\")\n",
    "        phase = seidel_aberrations(\n",
    "            field.spatial_shape,\n",
    "            field.dx[..., 0, 0].squeeze(),\n",
    "            field.spectrum[..., 0, 0].squeeze(),\n",
    "            self.n,\n",
    "            self.f,\n",
    "            self.NA,\n",
    "            coefficients,\n",
    "            self.u,\n",
    "            self.v,\n",
    "        )\n",
    "\n",
    "        return phase_change(field, phase)"
   ]
  },
  {
   "cell_type": "markdown",
   "id": "022b6818",
   "metadata": {},
   "source": [
    "*Explanation*"
   ]
  },
  {
   "cell_type": "markdown",
   "id": "a772655c",
   "metadata": {},
   "source": [
    "This class simulates Seidel aberration and applies a Seidel phase polynomial to a `Field` object. Seidel aberrations are low order optical aberrations that describe how light rays deviate due to imperfection in optical systems. They can be expressed as polynomials.\n",
    "\n",
    "The class takes the following attributes. `coefficients` is a set of coefficients that represent the Seidel aberration terms. Each coefficient corresponds to a specific type of aberration. It could be either an `Array` or `Callable`. When it's a `Callable`, it can be trained in neural network. `f`, `n`, and `NA` represent focal length, refractive index, and numerical aperture respectively. `u` and `v` describe the horizontal and vertical positions of an object field, since aberrations are spatially various causing phase changes vary depending on the positions of object points. They are crucial to calculate Seidel polynomials.\n",
    "\n",
    "In the `__call__` method, the code first registers the `coefficient` as a Flax parameter or variable depending on whether it's trainable. Then, it calls the function `seidel_aberrations` to compute the phase mask on the field's spatial shape, spacing, wavelength, and the object's refractive index, focal length, numerical aperture, Seidel coefficients. Finally, the code applies the phase mask to the incoming field."
   ]
  },
  {
   "cell_type": "markdown",
   "id": "0b09f59b",
   "metadata": {},
   "source": [
    "#### **Class 4: ZernikeAberrations**"
   ]
  },
  {
   "cell_type": "markdown",
   "id": "c5e30fd7",
   "metadata": {},
   "source": [
    "*Source Code*"
   ]
  },
  {
   "cell_type": "code",
   "execution_count": null,
   "id": "315fcbef",
   "metadata": {},
   "outputs": [],
   "source": [
    "class ZernikeAberrations(nn.Module):\n",
    "    \"\"\"\n",
    "    Applies Zernike aberrations to an incoming ``Field``.\n",
    "\n",
    "    This element can be placed after any element that returns a ``Field`` or\n",
    "    before any element that accepts a ``Field``.\n",
    "\n",
    "    This element handles multi-wavelength ``Field``s by assuming that the first\n",
    "    wavelength in the ``spectrum`` of the ``Field`` is the central wavelength\n",
    "    for which the ``phase`` was calculated, and modulates the ``phase`` by the\n",
    "    ratio of other wavelengths in the ``spectrum`` to the central wavelength\n",
    "    appropriately.\n",
    "\n",
    "    Attributes:\n",
    "        coefficients: The Zernike coefficients as a 1D array.\n",
    "        f: The focal length.\n",
    "        n: The refractive index.\n",
    "        NA: The numerical aperture. The applied phase will be 0 outside NA.\n",
    "        ansi_indices: Indices of Zernike polynomials (ANSI indexing). Should\n",
    "            have same length as coefficients.\n",
    "    \"\"\"\n",
    "\n",
    "    coefficients: Union[Array, Callable[[PRNGKey], Array]]\n",
    "    f: float\n",
    "    n: float\n",
    "    NA: float\n",
    "    ansi_indices: Array\n",
    "\n",
    "    @nn.compact\n",
    "    def __call__(self, field: Field) -> Field:\n",
    "        \"\"\"Applies ``phase`` mask to incoming ``Field``.\"\"\"\n",
    "        coefficients = register(self, \"coefficients\")\n",
    "\n",
    "        phase = zernike_aberrations(\n",
    "            field.spatial_shape,\n",
    "            field.dx[..., 0, 0].squeeze(),\n",
    "            field.spectrum[..., 0, 0].squeeze(),\n",
    "            self.n,\n",
    "            self.f,\n",
    "            self.NA,\n",
    "            self.ansi_indices,\n",
    "            coefficients,\n",
    "        )\n",
    "\n",
    "        return phase_change(field, phase)"
   ]
  },
  {
   "cell_type": "markdown",
   "id": "f211dbd9",
   "metadata": {},
   "source": [
    "*Explanation*"
   ]
  },
  {
   "cell_type": "markdown",
   "id": "b3c0c6f7",
   "metadata": {},
   "source": [
    "This class applies Zernike aberrations to an incoming field. Zernike aberrations are a series of polynomials used to express optical aberrations mathematically.\n",
    "\n",
    "Compared to the `SeidelAberrations` class, this class is extremely similar, apart from that this one takes an `ansi_indices` attributes. ANSI is short for American National Standards Institute. The OSA/ANSI indices for Zernike circle polynomials were initially developed by an OSA Standards Taskforce in 1999 to reach consensus recommendations on definitions, conventions, and standards for reporting of optical aberrations of human eyes. It was later standardized in ANSI Z80.28 and ISO 24157 and adopted in some commercial software, such as COMSOL Ray Optics Module.[@Zernike_polynomials_and_their_applications]\n",
    "\n",
    "The Zernike circle polynomials in the OSA/ANSI indices are defined as:[@Zernike_polynomials_and_their_applications]\n",
    "\n",
    "$$Z_j(\\rho, \\theta)=Z_n^m(\\rho, \\theta)=\\begin{cases}\n",
    "                                         N^m_nR_n^{\\lvert m \\rvert}(\\rho)\\cos(m\\theta), & m \\geq 0 \\\\\n",
    "                                         N^m_nR_n^{\\lvert m \\rvert}(\\rho)\\sin(\\lvert m \\rvert\\theta), & m < 0\n",
    "                                        \\end{cases} \\tag{2.4.15}$$\n",
    "\n",
    "Where $n$ is a non-negative integer, $m$ is an integer, $n-\\lvert m \\rvert \\geq 0$ and is even, $j$ is a mode-ordering number starting from 0. The radial polynomial $R_n^m(\\rho)$ is defined as:[@Zernike_polynomials_and_their_applications]\n",
    "\n",
    "$$R^{\\lvert m \\rvert}_n(\\rho) = \\sum^{(n-m)/2}_{s=0}\\frac{(-1)^s \\cdot (n-s)!}{s! \\cdot (\\frac{n+m}{2}-s)! \\cdot (\\frac{n-m}{2}-s)!} \\cdot \\rho^{n-2s} \\tag{2.4.16}$$\n",
    "\n",
    "The normalization factor $N^m_n$ can be written as:[@Zernike_polynomials_and_their_applications]\n",
    "\n",
    "$$N^m_n=\\sqrt{\\frac{2(n+1)}{1+\\delta_{m0}} \\tag{2.4.17}}$$\n",
    "\n",
    "The Zernike circle polynomials under OSA/ANSI indices can be sorted by either the single index $j$, or the double indices $n$ and $m$. To achieve conversion among these indices, one can use the following relations:[@Zernike_polynomials_and_their_applications]\n",
    "\n",
    "$$ j=\\frac{n(n+2)+m}{2} \\tag{2.4.18} $$\n",
    "$$ n=\\lceil \\frac{-3+\\sqrt{9+8j}}{2} \\rceil \\tag{2.4.19} $$\n",
    "$$ m=2j-n(n+2) \\tag{2.4.20} $$\n",
    "\n",
    "Where $\\lceil x \\rceil$ denotes the ceiling function that gives as output the least integer greater than or equal to $x$.\n",
    "\n",
    "The `__call__` method is used when the `ZernikeAberration` object is applied to a `Field` object. It calculates the Zernike phase aberration mask and applies it to the `Field` object"
   ]
  },
  {
   "cell_type": "markdown",
   "id": "607a60b5",
   "metadata": {},
   "source": [
    "### **Module 6: propagation**"
   ]
  },
  {
   "cell_type": "markdown",
   "id": "20462d53",
   "metadata": {},
   "source": [
    "#### **Imports** "
   ]
  },
  {
   "cell_type": "markdown",
   "id": "38a53fe2",
   "metadata": {},
   "source": [
    "*Source Code*"
   ]
  },
  {
   "cell_type": "code",
   "execution_count": null,
   "id": "908f46a8",
   "metadata": {},
   "outputs": [],
   "source": [
    "from typing import Callable, Literal, Optional, Tuple, Union\n",
    "\n",
    "import flax.linen as nn\n",
    "from chex import Array, PRNGKey\n",
    "\n",
    "from chromatix.elements.utils import Trainable, register\n",
    "from chromatix.field import crop, pad\n",
    "\n",
    "from ..field import Field\n",
    "from ..functional import (\n",
    "    asm_propagate,\n",
    "    compute_asm_propagator,\n",
    "    compute_exact_propagator,\n",
    "    compute_transfer_propagator,\n",
    "    exact_propagate,\n",
    "    kernel_propagate,\n",
    "    transfer_propagate,\n",
    "    transform_propagate,\n",
    ")\n",
    "\n",
    "__all__ = [\"Propagate\"]"
   ]
  },
  {
   "cell_type": "markdown",
   "id": "9a76f057",
   "metadata": {},
   "source": [
    "*Explanation*"
   ]
  },
  {
   "cell_type": "markdown",
   "id": "2f828571",
   "metadata": {},
   "source": [
    "Some new modules or packages that are imported in this module:\n",
    "\n",
    "1. `Literal`: This is used to specify that a variable or parameter must be one of a specific set of values. However, because Python is a dynamically typed language, which means type hints like `Literal` are not enforced at runtime, we have to install a type-checking tool like `mypy` to make `Literal` effective.\n",
    "\n",
    "2. `Trainable`: This class is a wrapper class to signal to a `Chromatix` element that a particular value (`val`) should be the initialization for a trainable parameter when used in the context of a neural network model in the `Chromatix` library.\n",
    "\n",
    "3. `crop`: This function is used to remove a specific number of pixels from the edges of the field along the spatial dimensions.\n",
    "\n",
    "4. `pad`: This function pads the field with a specific number of pixels along the spatial dimensions of the field.\n",
    "\n",
    "5. `asm_propagate`: This function is in the `functional` package, which is designed to simulate angular spectrum method (ASM) for wave propagation in an optical system. It handles the propagation of a given field over a specific distance without removing evanescent waves. This function returns the propagated field.\n",
    "\n",
    "6. `compute_asm_propagator`: This function calculates the propagation kernel (propagator) of the ASM without removing evanescent waves and Fresnel approximation for the `asm_propagate` to call. The core idea of the ASM is first transforming the field into angular spectrum by Fourier transform, then multiplying the transformed field by a propagation term which makes phase changes, finally, transforming the propagated field back into spatial domain by Inverse Fourier transform. This process is a well-known technique to numerically simulate wave propagation over a certain distance. In `Chromatix`, such a propagator is also called a propagation kernel.\n",
    "\n",
    "7. `exact_propagate`: This function also simulates the propagation of an incoming field over a specific distance and returns the propagated field, but using the exact propagator which removes the evanescent waves. Evanescent waves are components of the wave that decay exponentially and do not contribute to the far field propagation.\n",
    "\n",
    "8. `compute_exact_propagator`: This function calculates the exact propagation kernel without the Fresnel approximation and removes evanescent waves in the ASM way.\n",
    "\n",
    "9. `transfer_propogate`: This function is used to simulate the Fresnel propagation, which is also ASM, but under Fresnel approximation and returns the propagated field. Fresnel approximation is a common tool used to simplify the cases that the propagation distance is many orders of magnitude larger than the wavelength of the field.\n",
    "\n",
    "10. `compute_transfer_propagator`: As other propagator, this function also computes propagation kernel for Fresnel propagation and returns an array that can be multiplied with the Fourier transform of the incoming field, that is performed by `kernel_propagation`.\n",
    "\n",
    "11. `kernel_propagate`: This function applies a propagation kernel (propagator) to an incoming field. It's responsible for applying Fourier transform to the incoming field, and multiplying the field by a propagator, then applying the inverse Fourier transform to the propagated field, finally, returning the propagated field. Therefore, it's this function which performs the whole ASM process with a given propagator. This function works together with the propogators and `pad`, `crop` to achieve a whole propagation process.\n",
    "\n",
    "12. `transform_propagate`: Rather than using ASM, this function uses a method called single-FFT (SFT-FR) under Fresnel approximation to propagate the field over a specific distance. For the single Fourier transform method, only one Fourier transform is used to calculate the Fresnel diffraction; the sampling interval and sampling range of the output field vary with the propagation distance.[@Single_Fourier_Transform] This is useful in some cases such as a single-lens system, where physically a single lens could be regarded as a Fourier transformer. For example, the Fourier transform of a plane wave (expressed as a constant) is a spot (Delta function mathematically), which is the same as how a convex lens converges a plane incoming wave into a spot at the focal plane."
   ]
  },
  {
   "cell_type": "markdown",
   "id": "7868c745",
   "metadata": {},
   "source": [
    "#### **Class 1: Propagate** "
   ]
  },
  {
   "cell_type": "markdown",
   "id": "4477a82f",
   "metadata": {},
   "source": [
    "*Source Code*"
   ]
  },
  {
   "cell_type": "code",
   "execution_count": null,
   "id": "6e25a57e",
   "metadata": {},
   "outputs": [],
   "source": [
    "class Propagate(nn.Module):\n",
    "    \"\"\"\n",
    "    Free space propagation that can be placed after or between other elements.\n",
    "\n",
    "    This element takes a ``Field`` as input and outputs a ``Field`` that has\n",
    "    been propagated by a distance ``z``. Optionally, the index of refraction of\n",
    "    the propagation medium can be learned.\n",
    "\n",
    "    For example, if this element is constructed as:\n",
    "\n",
    "    ```python\n",
    "    from chromatix.elements import Propagate\n",
    "    Propagate(n=1.33, method='transfer', mode='same')\n",
    "    ```\n",
    "\n",
    "    then this element has no trainable parameters, but if this element is\n",
    "    constructed as:\n",
    "\n",
    "    ```python\n",
    "    from chromatix.elements import Propagate\n",
    "    from chromatix.utils import trainable\n",
    "    Propagate(n=trainable(1.33), method='transfer', mode='same')\n",
    "    ```\n",
    "\n",
    "    then this element has a trainable refractive index, initialized to 1.33.\n",
    "\n",
    "    !!! warning\n",
    "        By default this element caches the propagation kernel using the option\n",
    "        ``cache_propagator``. Please be aware that this kernel gets placed\n",
    "        inside the variables dict when initialising the model, so you'll have to\n",
    "        split the dictionary into trainable parameters and non-trainable state.\n",
    "        See the documentation Training Chromatix Models for more information on\n",
    "        how to do this. If you would like to have a trainable propagation kernel\n",
    "        with your own initialisation, see ``KernelPropagate`` which accepts a\n",
    "        trainable ``propagator``.\n",
    "\n",
    "    Attributes:\n",
    "        z: Distance(s) to propagate.\n",
    "        n: Refractive index.\n",
    "        N_pad: The padding for propagation (will be used as both height and\n",
    "            width padding). To automatically calculate the padding, use padding\n",
    "            calculation functions from  ``chromatix.functional``. This must be\n",
    "            passesd outside of a ``jax.jit``. Defaults to 0 (no padding), which\n",
    "            will cause circular convolutions (edge artifacts) when propagating.\n",
    "        cval: The value to pad with if ``N_pad`` is greater than 0. Defaults\n",
    "            to 0.\n",
    "        kykx: If provided, defines the orientation of the propagation. Should\n",
    "            be an array of shape `[2,]` in the format [ky, kx].\n",
    "        method: The propagation method, which can be \"transform\", \"transfer\",\n",
    "            \"exact\", or \"asm.\" Defaults to \"exact\", which is propagation\n",
    "            without the Fresnel approximation and with evanescent waves\n",
    "            cancelled.\n",
    "        mode: Defines the cropping of the output if the method is \"transfer\" or\n",
    "            \"exact\". Defaults to \"same\", which returns a ``Field`` of the same\n",
    "            shape, unlike the functional methods.\n",
    "        cache_propagator: Whether to compute and store the propagation kernel\n",
    "            or not. If True, ``z`` and ``n`` cannot be trainable. Defaults\n",
    "            to True.\n",
    "    \"\"\"\n",
    "\n",
    "    z: Union[float, Array, Callable[[PRNGKey], Array]]\n",
    "    n: Union[float, Callable[[PRNGKey], Array]]\n",
    "    N_pad: int = 0\n",
    "    cval: float = 0\n",
    "    kykx: Union[Array, Tuple[float, float]] = (0.0, 0.0)\n",
    "    method: Literal[\"transform\", \"transfer\", \"exact\", \"asm\"] = \"exact\"\n",
    "    mode: Literal[\"full\", \"same\"] = \"same\"\n",
    "    cache_propagator: bool = True\n",
    "\n",
    "    @nn.compact\n",
    "    def __call__(self, field: Field) -> Field:\n",
    "        if self.cache_propagator and (\n",
    "            isinstance(self.z, Trainable) or isinstance(self.n, Trainable)\n",
    "        ):\n",
    "            raise ValueError(\"Cannot cache propagation kernel if z or n are trainable.\")\n",
    "        if self.cache_propagator and self.method not in [\"transfer\", \"exact\", \"asm\"]:\n",
    "            raise ValueError(\n",
    "                \"Can only cache kernel for 'transfer', 'exact', or 'asm' methods.\"\n",
    "            )\n",
    "        z = register(self, \"z\")\n",
    "        n = register(self, \"n\")\n",
    "        if self.cache_propagator:\n",
    "            field = pad(field, self.N_pad, cval=self.cval)\n",
    "            propagator_args = (\n",
    "                field,\n",
    "                z,\n",
    "                n,\n",
    "                self.kykx,\n",
    "            )\n",
    "            if self.method == \"transfer\":\n",
    "                propagator = self.variable(\n",
    "                    \"state\",\n",
    "                    \"kernel\",\n",
    "                    lambda: compute_transfer_propagator(*propagator_args),\n",
    "                )\n",
    "            elif self.method == \"exact\":\n",
    "                propagator = self.variable(\n",
    "                    \"state\",\n",
    "                    \"kernel\",\n",
    "                    lambda: compute_exact_propagator(*propagator_args),\n",
    "                )\n",
    "            elif self.method == \"asm\":\n",
    "                propagator = self.variable(\n",
    "                    \"state\",\n",
    "                    \"kernel\",\n",
    "                    lambda: compute_asm_propagator(*propagator_args),\n",
    "                )\n",
    "            field = kernel_propagate(field, propagator.value)\n",
    "            if self.mode == \"same\":\n",
    "                field = crop(field, self.N_pad)\n",
    "            return field\n",
    "        if self.method == \"transform\":\n",
    "            return transform_propagate(\n",
    "                field,\n",
    "                z,\n",
    "                n,\n",
    "                N_pad=self.N_pad,\n",
    "                cval=self.cval,\n",
    "            )\n",
    "        elif self.method == \"transfer\":\n",
    "            return transfer_propagate(\n",
    "                field,\n",
    "                z,\n",
    "                n,\n",
    "                N_pad=self.N_pad,\n",
    "                cval=self.cval,\n",
    "                kykx=self.kykx,\n",
    "                mode=self.mode,\n",
    "            )\n",
    "        elif self.method == \"exact\":\n",
    "            return exact_propagate(\n",
    "                field,\n",
    "                z,\n",
    "                n,\n",
    "                N_pad=self.N_pad,\n",
    "                cval=self.cval,\n",
    "                kykx=self.kykx,\n",
    "                mode=self.mode,\n",
    "            )\n",
    "        elif self.method == \"asm\":\n",
    "            return asm_propagate(\n",
    "                field,\n",
    "                z,\n",
    "                n,\n",
    "                N_pad=self.N_pad,\n",
    "                cval=self.cval,\n",
    "                kykx=self.kykx,\n",
    "                mode=self.mode,\n",
    "            )\n",
    "        else:\n",
    "            raise NotImplementedError(\n",
    "                \"Method must be one of 'transform', 'transfer', or 'exact'.\"\n",
    "            )"
   ]
  },
  {
   "cell_type": "markdown",
   "id": "60634f4c",
   "metadata": {},
   "source": [
    "*Explanation*"
   ]
  },
  {
   "cell_type": "markdown",
   "id": "47f08173",
   "metadata": {},
   "source": [
    "The code above creates a `Propagate` class, which simulates free-space propagation over a distance `z` and is defined by functions in the `functional` package. It takes a `Field` object as input and outputs a propagated field. Besides, it takes several attributes, in which, `z` represents the distance to propagate that could be either a `float`, `array`, or `callable`, and it's trainable when it's a `callable`; `n` is refractive index that could be either a `float`, or a `callable`, it's trainable when it's a `callable`; `N_pad` should be an integer, it's to calculate and add paddings to incoming fields for preventing edge errors during the Fourier transforms; `cval` should be a `float`, which is the background value to use when padding the field with if `N_pad` is greater than 0, and it defaults 0 for zero padding; `kykx`, an array of shape `[2, ]`, means the wavevector $(\\overrightarrow{k})$ along $x$ direction $(\\overrightarrow{k_x})$ and $y$ direction $(\\overrightarrow{k_y})$, which specifies the orientation of propagation; `method` allows you to choose a propagation method from the four defined functions; `mode` defines the cropping of the output if the method is `transfer` or `exact`, and defaults to `same`, which means no cropping; `cache_propagator` is a boolean, which decides whether to cache the computed propagation kernel for efficiency.\n",
    "\n",
    "Within the `__call__` method, the code first uses two if-clauses to judge if caching propagation is disallowed. The first condition check raises a `ValueError` and outputs a hint when `cache_propagator = True` and both or one of `z` and `n` is trainable. `isinstance` is a built-in Python function that checks whether an object is an instance of a specific class or a variable is a specific data type and returns a `True` or `False`. \n",
    "\n",
    "For example:"
   ]
  },
  {
   "cell_type": "code",
   "execution_count": null,
   "id": "ba73e1ac",
   "metadata": {},
   "outputs": [
    {
     "name": "stdout",
     "output_type": "stream",
     "text": [
      "True\n"
     ]
    }
   ],
   "source": [
    "# Check if a variable is an integer\n",
    "x = 1\n",
    "print(isinstance(x, int))"
   ]
  },
  {
   "cell_type": "code",
   "execution_count": null,
   "id": "8cf51475",
   "metadata": {},
   "outputs": [
    {
     "name": "stdout",
     "output_type": "stream",
     "text": [
      "False\n"
     ]
    }
   ],
   "source": [
    "# Check if a variable is a string\n",
    "y = 1\n",
    "print(isinstance(y, str))"
   ]
  },
  {
   "cell_type": "markdown",
   "id": "27d3f36f",
   "metadata": {},
   "source": [
    "Similarly, the second condition check raises a `ValueError` and outputs a hint when `cache_propagator = True` and the `method` is not `transfer`, `exact`, or `asm`.\n",
    "\n",
    "Then, for making this class trainable, `z` and `n` are registered.\n",
    "\n",
    "The third if-clause is designed to cache the propagators according to the method you choose. It first checks if `cache.propagator` is true, if it is, then the input field gets padded. And for simplicity, the code groups the necessary inputs (`field`, `z`, `n`, `self.kykx`) for the propagation computing functions into a tuple, so that, these inputs can easily be passed into any propagator computing functions.\n",
    "\n",
    "After the steps above, the code caches the propagator according to the method you choose. For example, if we choose `transfer`, it will assign the result of `self.variable()` to the variable `propagtor`. `self` refers to the current instance of this class, but `variable` is inherited from the parent class `nn.module`. \n",
    "\n",
    "The first argument within `variable` must be a `string`, which represents the name of the collection where the variable will be stored. If it's `state`, it typically indicates that it's where non-trainable variables are stored. The second argument is the name of the variable being stored within the `state` collection, and this name enables you to access the variable later. \n",
    "\n",
    "The third argument is an initialization function, which is a `lambda` function here, and it's called only when no variables are stored in the collection. A `lambda` function takes no arguments, it's used to defer `compute_transfer_propagator(*propagator_args)`, making it executed only when it's invoked. The kernel that this `lambda` function calculates will be stored in the `state`.\n",
    "\n",
    "Next, after computing and caching the propagators, the code calls the `kernel_propagate` function to calculate the propagated field from the input field. The argument `propagator.value` retrieves the current value of the variable stored in the `state` collection under the name `kernel`. Finally, the propagated field gets cropped according to the chose `mode` and returned.\n",
    "\n",
    "The last if-clause is quite straightforward, it simply calls different functions to propagate the incoming fields according to the chosen `method`. And if the inputs of `method` don't match any of the strings given, an error and a hint will be raised."
   ]
  },
  {
   "cell_type": "markdown",
   "id": "23b60426",
   "metadata": {},
   "source": [
    "#### **Class 2: KernelPropagate** "
   ]
  },
  {
   "cell_type": "markdown",
   "id": "e9a36026",
   "metadata": {},
   "source": [
    "*Source Code*"
   ]
  },
  {
   "cell_type": "code",
   "execution_count": null,
   "id": "ec99fe70",
   "metadata": {},
   "outputs": [],
   "source": [
    "class KernelPropagate(nn.Module):\n",
    "    \"\"\"\n",
    "    Free space propagation with a precomputed propagation kernel.\n",
    "\n",
    "    This element takes a ``Field`` as input and outputs a ``Field`` that has\n",
    "    been propagated by a distance that is already defined by a propagation\n",
    "    kernel. Optionally, this kernel can be a learned parameter using\n",
    "    ``chromatix.utils.trainable``.\n",
    "\n",
    "    All attributes other than the ``propagator`` and ``mode`` will be\n",
    "    sent as arguments to the propagation kernel initialization function if\n",
    "    ``propagator`` is trainable.\n",
    "\n",
    "    Attributes:\n",
    "        propagator: The propagation kernel to use. Can be trainable.\n",
    "        z: Distance(s) to propagate. Defaults to None.\n",
    "        n: Refractive index. Defaults to None.\n",
    "        N_pad: The padding for propagation (will be used as both height and\n",
    "            width padding). To automatically calculate the padding, use padding\n",
    "            calculation functions from  ``chromatix.functional``. This must be\n",
    "            passesd outside of a ``jax.jit``. Defaults to 0 (no padding), which\n",
    "            will cause circular convolutions (edge artifacts) when propagating.\n",
    "        cval: The value to pad with if ``N_pad`` is greater than 0. Defaults\n",
    "            to 0.\n",
    "        kykx: If provided, defines the orientation of the propagation. Should\n",
    "            be an array of shape `[2,]` in the format [ky, kx].\n",
    "        mode: Defines the cropping of the output if the method is \"transfer\" or\n",
    "            \"exact\". Defaults to \"same\", which returns a ``Field`` of the same\n",
    "            shape, unlike the functional methods.\n",
    "    \"\"\"\n",
    "\n",
    "    propagator: Union[Array, Callable[[PRNGKey], Array]]\n",
    "    z: Optional[Union[float, Array]] = None\n",
    "    n: Optional[float] = None\n",
    "    N_pad: int = 0\n",
    "    cval: float = 0\n",
    "    kykx: Union[Array, Tuple[float, float]] = (0.0, 0.0)\n",
    "    mode: Literal[\"full\", \"same\"] = \"same\"\n",
    "\n",
    "    @nn.compact\n",
    "    def __call__(self, field: Field) -> Field:\n",
    "        field = pad(field, self.N_pad, cval=self.cval)\n",
    "        propagator = register(\n",
    "            self,\n",
    "            \"propagator\",\n",
    "            field,\n",
    "            self.z,\n",
    "            self.n,\n",
    "            self.kykx,\n",
    "        )\n",
    "\n",
    "        field = kernel_propagate(field, propagator)\n",
    "        if self.mode == \"same\":\n",
    "            field = crop(field, self.N_pad)\n",
    "        return field"
   ]
  },
  {
   "cell_type": "markdown",
   "id": "5dd45f98",
   "metadata": {},
   "source": [
    "*Explanation*"
   ]
  },
  {
   "cell_type": "markdown",
   "id": "a8e9390b",
   "metadata": {},
   "source": [
    "This class performs free space propagation using a precomputed propagation kernel (propagator) to propagate an incoming field.\n",
    "\n",
    "Unlike the `Propagate` class, in which `z` and `n` is trainable, in this case, only the argument `propagator` could be either trainable and predefined as an array. `z` could be either a float, an array, or `None`, and `n` could be a float or `None`, since they might not be need if they are included in the precomputed kernel. The other four arguments are defined as the same as in the `Propagate`.\n",
    "\n",
    "Then, the `__call__` method first pads the input field as usual, and then registers `propagator` for retrieving the trained `propagator`. Next, the propagated field is computed by calling `kernel_propagate` and cropped and returned."
   ]
  },
  {
   "cell_type": "markdown",
   "id": "57a7712c",
   "metadata": {},
   "source": [
    "### **Module 7: samples**"
   ]
  },
  {
   "cell_type": "markdown",
   "id": "eefe7517",
   "metadata": {},
   "source": [
    "#### **Imports**"
   ]
  },
  {
   "cell_type": "markdown",
   "id": "981ab859",
   "metadata": {},
   "source": [
    "*Source Code*"
   ]
  },
  {
   "cell_type": "code",
   "execution_count": null,
   "id": "42a489b2",
   "metadata": {},
   "outputs": [],
   "source": [
    "from typing import Callable, Union\n",
    "\n",
    "import flax.linen as nn\n",
    "from chex import Array, PRNGKey\n",
    "\n",
    "from ..field import ScalarField\n",
    "from ..functional.samples import thin_sample\n",
    "from .utils import register\n",
    "\n",
    "__all__ = [\"ThinSample\"]"
   ]
  },
  {
   "cell_type": "markdown",
   "id": "55f1b9c0",
   "metadata": {},
   "source": [
    "*Explanation*"
   ]
  },
  {
   "cell_type": "markdown",
   "id": "79887a77",
   "metadata": {},
   "source": [
    "A new function is imported here which is `thin_sample` from the package `functional`. This function returns a perturbed scalar field. Suppose we have a thin sample with properties like absorption (denoted as $A$), refractive index change ($\\Delta n$), and thickness ($d$), then the perturbation ($P$) under thin sample approximation can be expressed as:\n",
    "\n",
    "$$ P = \\exp(i \\cdot \\frac{2\\pi \\cdot d (\\Delta n + A \\cdot i)}{\\lambda}) \\tag{2.4.21} $$\n",
    "\n",
    "where, $i$ is imaginary number, $\\lambda$ is the wavelength. So, this function simulates how a field would behave after passing through a thin sample and returns a perturbed field, which is the product of field times `P`. Furthermore, according to the equation above, it's clearly that the perturbed field contains both phase shift and amplitude attenuation."
   ]
  },
  {
   "cell_type": "markdown",
   "id": "8dd9f2cb",
   "metadata": {},
   "source": [
    "#### **Class 1: ThinSample**"
   ]
  },
  {
   "cell_type": "markdown",
   "id": "100359df",
   "metadata": {},
   "source": [
    "*Source Code*"
   ]
  },
  {
   "cell_type": "code",
   "execution_count": null,
   "id": "6efb4812",
   "metadata": {},
   "outputs": [],
   "source": [
    "class ThinSample(nn.Module):\n",
    "    \"\"\"\n",
    "    Perturbs an incoming ``ScalarField`` as if it went through a thin sample\n",
    "    object with a given ``absorption``, refractive index change ``dn`` and of\n",
    "    a given ``thickness`` in the same units as the spectrum of the incoming\n",
    "    ``ScalarField``.\n",
    "\n",
    "    The sample is supposed to follow the thin sample approximation, so the\n",
    "    sample perturbation is calculated as:\n",
    "    ``exp(1j * 2 * pi * (dn + 1j * absorption) * thickness / lambda)``.\n",
    "\n",
    "    Returns a ``ScalarField`` with the result of the perturbation.\n",
    "\n",
    "    Attributes:\n",
    "        field: The complex field to be perturbed.\n",
    "        absorption: The sample absorption defined as ``(B... H W 1 1)`` array\n",
    "        dn: Sample refractive index change ``(B... H W 1 1)`` array\n",
    "        thickness: Thickness at each sample location as array broadcastable\n",
    "            to ``(B... H W 1 1)``\n",
    "    \"\"\"\n",
    "\n",
    "    absorption: Union[Array, Callable[[PRNGKey], Array]]\n",
    "    dn: Union[Array, Callable[[PRNGKey], Array]]\n",
    "    thickness: Union[Array, Callable[[PRNGKey], Array]]\n",
    "\n",
    "    @nn.compact\n",
    "    def __call__(self, field: ScalarField) -> ScalarField:\n",
    "        absorption = register(self, \"absorption\")\n",
    "        dn = register(self, \"dn\")\n",
    "        thickness = register(self, \"thickness\")\n",
    "        return thin_sample(field, absorption, dn, thickness)"
   ]
  },
  {
   "cell_type": "markdown",
   "id": "2fc6733d",
   "metadata": {},
   "source": [
    "*Explanation*"
   ]
  },
  {
   "cell_type": "markdown",
   "id": "f2e71ea7",
   "metadata": {},
   "source": [
    "This class is basically a wrapper that wraps the function `thin_sample` for training. All the three attributes it takes could be either predefined as an array or a callable for training.\n",
    "\n",
    "In the `__call__` method, the three attributes are registered for retrieving the trained arrays. Next, the function `thin_sample` is called to calculate the perturbed field, which is then returned."
   ]
  },
  {
   "cell_type": "markdown",
   "id": "abd3d5ae",
   "metadata": {},
   "source": [
    "### **Module 8: sensors**"
   ]
  },
  {
   "cell_type": "markdown",
   "id": "5cc0acb2",
   "metadata": {},
   "source": [
    "#### **Import**"
   ]
  },
  {
   "cell_type": "markdown",
   "id": "e3e86f19",
   "metadata": {},
   "source": [
    "*Source Code*"
   ]
  },
  {
   "cell_type": "code",
   "execution_count": null,
   "id": "4d158418",
   "metadata": {},
   "outputs": [],
   "source": [
    "from typing import Literal, Optional, Tuple, Union\n",
    "\n",
    "import flax.linen as nn\n",
    "import jax.numpy as jnp\n",
    "from chex import Array\n",
    "from jax import vmap\n",
    "\n",
    "from ..field import Field\n",
    "from ..functional import basic_sensor\n",
    "from ..ops import init_plane_resample\n",
    "\n",
    "__all__ = [\"BasicSensor\"]"
   ]
  },
  {
   "cell_type": "markdown",
   "id": "bf16dd95",
   "metadata": {},
   "source": [
    "*Explanation*"
   ]
  },
  {
   "cell_type": "markdown",
   "id": "de76a3a2",
   "metadata": {},
   "source": [
    "`jax.vmap`: `vmap` is short for vectorizing map. This function creates a function which maps the input function over argument axes, allowing you to apply a function over a batch of inputs like a loop. It often takes three arguments: `fun`, which is the input function to be vectorized, `in_axes`, which could be an integer, None, or a sequence of values specifying which input array axes to map over. `out_axes` could also be an integer, None, or a sequence of values as a tuple or list.\n",
    "\n",
    "For example:"
   ]
  },
  {
   "cell_type": "code",
   "execution_count": null,
   "id": "c71c77c8",
   "metadata": {},
   "outputs": [
    {
     "name": "stdout",
     "output_type": "stream",
     "text": [
      "Without jax.vmp:\n",
      " [[ 5 12]\n",
      " [21 32]]\n",
      "With jax.vmp:\n",
      " [[[ 5 12]\n",
      "  [ 7 16]]\n",
      "\n",
      " [[15 24]\n",
      "  [21 32]]]\n"
     ]
    }
   ],
   "source": [
    "import jax\n",
    "import jax.numpy as jnp\n",
    "\n",
    "# Create a function named times to multiply two arrays\n",
    "def times(x, y):\n",
    "    return x * y\n",
    "\n",
    "x = jnp.array([[1, 2], \n",
    "               [3, 4]])\n",
    "y = jnp.array([[5, 6], \n",
    "               [7, 8]]) \n",
    "\n",
    "# Create a vectorized version of times to map over the \n",
    "# first dimension of `x` but keep `y` constant for each application \n",
    "batched_times = jax.vmap(times, in_axes=(0, None))\n",
    "\n",
    "result = batched_times(x, y)\n",
    "print('Without jax.vmp:\\n', times(x, y))\n",
    "print('With jax.vmp:\\n', result)"
   ]
  },
  {
   "cell_type": "markdown",
   "id": "a1cfcc1d",
   "metadata": {},
   "source": [
    "In this case, `jax.vmp` is called to vectorize the `times` function. `in_axes=(0, None)` indicates that the batch axis for `x` is the zeroth axis, namely the rows, so `jax.vmp` will iterate over each row in `x`. And `None` for `y` specifies that `y` remains unchanged. Therefore, the `times` function will be replicated over each row of `x` with `y`, returning two results: `times([1, 2], [[5, 6], [7, 8]])` and `times([3, 4], [[5, 6]. [7, 8]])`."
   ]
  },
  {
   "cell_type": "markdown",
   "id": "695ea0d7",
   "metadata": {},
   "source": [
    "`basic_sensor`: This function comes from the module `sensors` in the package `functional`. It's to create an intensity image from an incoming field or an intensity array and add shot noise to the image."
   ]
  },
  {
   "cell_type": "markdown",
   "id": "1e8fe728",
   "metadata": {},
   "source": [
    "`init_plane_resample`: This function returns a function named `op` depending on the chosen method. And the `op` resamples 2D planes to the specific output shape and spacing."
   ]
  },
  {
   "cell_type": "markdown",
   "id": "cc99004e",
   "metadata": {},
   "source": [
    "#### **Class 1: Basic Sensor**"
   ]
  },
  {
   "cell_type": "markdown",
   "id": "86bfac0a",
   "metadata": {},
   "source": [
    "*Source Code*"
   ]
  },
  {
   "cell_type": "code",
   "execution_count": null,
   "id": "c3236d94",
   "metadata": {},
   "outputs": [],
   "source": [
    "class BasicSensor(nn.Module):\n",
    "    \"\"\"\n",
    "    Produces an intensity image from an incoming ``Field`` with shot noise.\n",
    "    Optionally, can also accept an intensity Array if ``input_spacing`` is\n",
    "    specified.\n",
    "\n",
    "    Attributes:\n",
    "        shape: The shape in pixels of the sensor. Should be of the form `(H W)`.\n",
    "        spacing: The pitch of the sensor pixels.\n",
    "        shot_noise_mode: What type of shot noise simulation to use. Defaults to\n",
    "            None, in which case no shot noise is simulated.\n",
    "        resampling_method: What kind of sampling to use when resampling the\n",
    "            incoming ``Field`` to the pitch of the sensor. Can be either\n",
    "            `'pooling'` which uses sum pooling (for downsampling only) or any\n",
    "            method supported by ``jax.image.scale_and_translate`` (`'linear'`,\n",
    "            `'cubic'`, `'lanczos3'`, or `'lanczos5'`). If ``None``, then no\n",
    "            resampling will occur.\n",
    "        reduce_axis: If provided, the result will be summed along this\n",
    "            dimension.\n",
    "        reduce_parallel_axis_name: If provided, psum along the axis with this\n",
    "            name.\n",
    "    \"\"\"\n",
    "\n",
    "    shape: Tuple[int, int]\n",
    "    spacing: Union[float, Array]\n",
    "    shot_noise_mode: Optional[Literal[\"approximate\", \"poisson\"]] = None\n",
    "    resampling_method: Optional[str] = \"linear\"\n",
    "    reduce_axis: Optional[int] = None\n",
    "    reduce_parallel_axis_name: Optional[str] = None\n",
    "\n",
    "    def setup(self):\n",
    "        if self.resampling_method is not None:\n",
    "            self.resample_fn = init_plane_resample(\n",
    "                self.shape, self.spacing, self.resampling_method\n",
    "            )\n",
    "\n",
    "    def __call__(\n",
    "        self,\n",
    "        sensor_input: Union[Field, Array],\n",
    "        input_spacing: Optional[Union[float, Array]] = None,\n",
    "        resample: bool = True,\n",
    "    ) -> Array:\n",
    "        \"\"\"\n",
    "        Resample the given ``sensor_input`` to the pixels of the sensor and\n",
    "        potentially reduce the result and add shot noise.\n",
    "\n",
    "        Args:\n",
    "            sensor_input: The incoming ``Field`` or intensity ``Array``.\n",
    "            input_spacing: The spacing of the input, only required if resampling\n",
    "                is required and the input is an ``Array``.\n",
    "            resample: Whether to perform resampling or not. Only matters if\n",
    "                ``resampling_method`` is ``None``. Defaults to ``True``.\n",
    "        \"\"\"\n",
    "        if isinstance(sensor_input, Field):\n",
    "            # WARNING(dd): @copypaste(Microscope) Assumes that field has same\n",
    "            # spacing at all wavelengths when calculating intensity!\n",
    "            input_spacing = sensor_input.dx[..., 0, 0].squeeze()\n",
    "        input_spacing = jnp.atleast_1d(input_spacing)\n",
    "        if resample and self.resampling_method is not None:\n",
    "            resample_fn = self.resample_fn\n",
    "        else:\n",
    "            resample_fn = None\n",
    "        if self.shot_noise_mode is not None:\n",
    "            noise_key = self.make_rng(\"noise\")\n",
    "        else:\n",
    "            noise_key = None\n",
    "        return basic_sensor(\n",
    "            sensor_input,\n",
    "            self.shot_noise_mode,\n",
    "            resample_fn,\n",
    "            self.reduce_axis,\n",
    "            self.reduce_parallel_axis_name,\n",
    "            input_spacing=input_spacing,\n",
    "            noise_key=noise_key,\n",
    "        )\n",
    "\n",
    "    def resample(self, resample_input: Array, input_spacing: float) -> Array:\n",
    "        \"\"\"\n",
    "        Resample the given ``resample_input`` to the pixels of the sensor.\n",
    "\n",
    "        Args:\n",
    "            resample_input: The ``Array`` to resample of shape ``(B... H W 1 1)``\n",
    "            input_spacing: The spacing of the input\n",
    "        \"\"\"\n",
    "        if self.resampling_method is not None:\n",
    "            resample_fn = self.resample_fn\n",
    "            for i in range(resample_input.ndim - 4):\n",
    "                resample_fn = vmap(resample_fn, in_axes=(0, None))\n",
    "            return resample_fn(resample_input, input_spacing)\n",
    "        else:\n",
    "            return resample_input"
   ]
  },
  {
   "cell_type": "markdown",
   "id": "bf944987",
   "metadata": {},
   "source": [
    "*Explanantion*"
   ]
  },
  {
   "cell_type": "markdown",
   "id": "06e9e88a",
   "metadata": {},
   "source": [
    "This newly defined class `BasiceSensor` also inherits from `nn.Module` as usual for neural network. The aim is to produce an image representing the intensity of the incoming field with optional shot noise. This class includes three methods, when an object of this class is called, only the methods `setup` and `__call__` will be invoked directly since they perform the main work of the class.But he `resample` method only runs when it's specifically called to provide optional functionality.\n",
    "\n",
    "1. Attributes:\n",
    "\n",
    "This class takes six attributes in total. The first two attributes `shape` and `spacing` indicate the size of the sensor (the number of pixels in $x$ and $y$ direction), which should be of shape `(H, W)`, and the spacing between pixels (pitch), which could be a float or an array if the spacing varies. \n",
    "\n",
    "Then, `shot_noise_mode` allows the user to specify the type of noise which should be added to the intensity image. The choices are `approximate` which is Gaussian noise, `poisson` which is Poisson noise, and `None` which means no noise is added to the intensity image. The approximate noise refers to any noise that approximates real-world noise, and it's often modeled by Gaussian noise. The Poisson noise is a type of statistical noise that arises naturally when measuring low-intensity light and governed by Poisson distribution.\n",
    "\n",
    "Next, `resampling_method` allows you to choose a resampling approach (`linear`, `None`) to adjust the incoming data to fit. Finally, if `reduce_axis` and `reduce_parallel_axis_name` are provided, they specify axes for summing.\n",
    "\n",
    "2. `setup` Method:\n",
    "\n",
    "Unlike the previous classes which use `@compact` to do initialization, this method chooses the `setup` method for creating and configuring any attributes that depend on other parameters or conditions. This method runs when the class is instantiated.\n",
    "\n",
    "Here, this method uses an if-clause to check if `self.resampling_method` is set. If it's set, the method will create and initialize a new attribute `self.resample_fn` by calling an imported function `init_plane_resample` which reshapes the sensor (object of this class) and adjusts the pitch according to the chose resample method. Therefore, `self.resample_fn` expects an input of the shape `[H, W, spacing, method]`\n",
    "\n",
    "3. `__call__` Method:\n",
    "\n",
    "This method takes three inputs to perform the main operation of the `BasicSensor`. `sensor_input` could either be an object of the class `Field` or a self-defined `Array` which represents the intensity. `input_spacing` is an optional parameter specifying the spacing of the input samples. It's only required when resampling is required and the input is an array. `resample` is a boolean that determines whether resampling is applied. \\\n",
    "\n",
    "To perform the main operation, this method first handles the `input_spacing`. Therefore, it first checks if the input is a field by calling `isinstance(object, classinfo)`. This function only returns `True` and `False`. If the input `object` is of the class or type indicated by `classinfo`, it returns `True`, instead, it returns `False`. Then, Suppose the input is a field, the spacing of the field `sensor_input.dx[..., 0, 0]` will be squeezed (removes any singleton dimensions) and then assigned to `input_spacing`.\n",
    "\n",
    "The `input_spacing` will be checked if it's at least one-dimensional by the function `jnp.atleast_1d()`. This function will return the original input array, if it has at least one dimension, otherwise, it converts the input into a one_dimensional array. For example:"
   ]
  },
  {
   "cell_type": "code",
   "execution_count": null,
   "id": "a5c902e4",
   "metadata": {},
   "outputs": [
    {
     "name": "stdout",
     "output_type": "stream",
     "text": [
      "arr = [1 2 3]\n",
      "a = [1]\n"
     ]
    }
   ],
   "source": [
    "import jax.numpy as jnp\n",
    "\n",
    "arr = jnp.array([1, 2, 3])\n",
    "a = 1\n",
    "\n",
    "print('arr =', jnp.atleast_1d(arr))\n",
    "print('a =', jnp.atleast_1d(a))"
   ]
  },
  {
   "cell_type": "markdown",
   "id": "7386aca0",
   "metadata": {},
   "source": [
    "Then, this method handles the resampling. At first, it checks if the argument `resample` is `True` and if the attribute `reampling_method` is not `None` (meaning `self.resample_fn` is initialized in `setup`). When both conditions are satisfied, `self.resample_fn`, which is the resampling function initialized in `setup`, will be assigned to the local variable `resample_fn`. Otherwise, there will be no resampling function.\n",
    "\n",
    "Next, it's the turn of the shot noise. If `self.shot_noise_mode` is checked as not `None`, meaning that it's `\"appraoximate\"` or `\"poisson\"`, the method generates a `noise_key` by calling the function `self.make_rng(\"noise\")`. This function is inherited from `nn.Module` to generate a reproducible random key. If `shot_noise_mode` is `None`, then `noise_key` is set to `None`.\n",
    "\n",
    "Finally, after setting the three arguments, the method calls the external function to return the intensity image.\n",
    "\n",
    "4. `resample` Method:\n",
    "\n",
    "This method is designed to adjust the spatial resolution of an input array (`resample_input`) based on the input spacing (`input_spacing`). This is necessary when the input data has a different resolution than the sensor's pixels.\n",
    "\n",
    "The resampling only works when the `self.resampling_method` is not set to `None`. When a resampling method is set, the method assigns `self.resample_fn`, which is initialized in `setup` to `resample_fn`\n",
    "\n",
    "Then, since `resample_input` has a shape of `(B... H W 1 1)`, the loop `for i in range(resample_input.ndim - 4)` only iterates over batch dimensions (`B...`). Therefore, the loop will apply the function `resample_fn` to each `H x W` slice across the batch dimension, meaning that `resample_fn` is now able to handle multidimensional inputs. Next, the vectorized `resample_fn` can be called to resample the `resample_input`."
   ]
  },
  {
   "cell_type": "markdown",
   "id": "1f11ecdc",
   "metadata": {},
   "source": [
    "### **Module 9: Sources**"
   ]
  },
  {
   "cell_type": "markdown",
   "id": "f9a4057b",
   "metadata": {},
   "source": [
    "#### **Imports**"
   ]
  },
  {
   "cell_type": "markdown",
   "id": "6cb7e688",
   "metadata": {},
   "source": [
    "*Source Code*"
   ]
  },
  {
   "cell_type": "code",
   "execution_count": null,
   "id": "4fdc7426",
   "metadata": {},
   "outputs": [],
   "source": [
    "from typing import Callable, Optional, Tuple, Union\n",
    "import numpy as np\n",
    "import flax.linen as nn\n",
    "from chex import Array, PRNGKey\n",
    "from chromatix.elements.utils import register\n",
    "from chromatix.field import Field\n",
    "from chromatix.functional.sources import (\n",
    "    generic_field,\n",
    "    objective_point_source,\n",
    "    plane_wave,\n",
    "    point_source,\n",
    ")\n",
    "\n",
    "__all__ = [\"PointSource\", \"ObjectivePointSource\", \"PlaneWave\", \"GenericField\"]"
   ]
  },
  {
   "cell_type": "markdown",
   "id": "ba03ccab",
   "metadata": {},
   "source": [
    "*Explanation*"
   ]
  },
  {
   "cell_type": "markdown",
   "id": "1e8b2054",
   "metadata": {},
   "source": [
    "`numpy`: This package `numpy` is short for Numerical Python. It's a powerful library for numerical and scientific computing and the foundation for many scientific and machine learning libraries like SciPy and JAX. It offers all kinds of functions to help create arrays like `np.array()`, `np.arange()`, and `np.ones()` and do calculations like `sum()`, `mean()`. Besides, it can handle linear algebra operations by the module `np.linalg` such as determinant calculation and eigenvalue computations.\n",
    " \n",
    "`generic_field`: This function generates an optical field with given amplitude, spectrum, spectral density, phase, and pupil. It supports the creation of scalar and vector fields with optional pupil.\n",
    "\n",
    "`objective_point_source`: This function models the optical field generated by a point source located at a defocused position relative to the focal plane of an objective lens with focal length and numerical aperture. It produces a field after passing through the lens, accounting for the point source's offset and lens parameters.\n",
    "\n",
    "`plane_wave`: As the name suggests, this function models a plane wave with the given shape, wavelength, amplitude, wavevector, and pupil. With pupil and wavevector, it allows the control of the angle of the plane wave.\n",
    "\n",
    "`point_source`: This function models the optical field generated by a point source at a certain distance from the observation plane, factoring in the medium's refractive index and optional modifications through a pipil function. This is typically to be used to create spherical wavefront emanating from a point source."
   ]
  },
  {
   "cell_type": "markdown",
   "id": "ed99dcd8",
   "metadata": {},
   "source": [
    "#### **Class 1:PointSource**"
   ]
  },
  {
   "cell_type": "markdown",
   "id": "23ce2c63",
   "metadata": {},
   "source": [
    "*Source Code*"
   ]
  },
  {
   "cell_type": "code",
   "execution_count": null,
   "id": "19b16b39",
   "metadata": {},
   "outputs": [],
   "source": [
    "class PointSource(nn.Module):\n",
    "    \"\"\"\n",
    "    Generates field due to point source a distance ``z`` away.\n",
    "\n",
    "    Can also be given ``pupil``.\n",
    "\n",
    "    The attributes ``z``, ``n``, ``power``, and ``amplitude`` can be learned by\n",
    "    using ``chromatix.utils.trainable``.\n",
    "\n",
    "    Attributes:\n",
    "        shape: The shape (height and width) of the ``Field`` to be created.\n",
    "        dx: The spacing of the samples of the ``Field``.\n",
    "        spectrum: The wavelengths included in the ``Field`` to be created.\n",
    "        spectral_density: The weights of each wavelength in the ``Field`` to\n",
    "            be created.\n",
    "        z: The distance of the point source.\n",
    "        n: Refractive index.\n",
    "        power: The total power that the result should be normalized to,\n",
    "            defaults to 1.0.\n",
    "        amplitude: The amplitude of the electric field. For ``ScalarField`` this\n",
    "            doesnt do anything, but it is required for ``VectorField`` to set\n",
    "            the polarization.\n",
    "        pupil: If provided, will be called on the field to apply a pupil.\n",
    "        scalar: Whether the result should be ``ScalarField`` (if True) or\n",
    "            ``VectorField`` (if False). Defaults to True.\n",
    "        epsilon: Value added to denominators for numerical stability.\n",
    "    \"\"\"\n",
    "\n",
    "    shape: Tuple[int, int]\n",
    "    dx: Union[float, Array]\n",
    "    spectrum: Union[float, Array]\n",
    "    spectral_density: Union[float, Array]\n",
    "    z: Union[float, Callable[[PRNGKey], float]]\n",
    "    n: Union[float, Callable[[PRNGKey], float]]\n",
    "    power: Union[float, Callable[[PRNGKey], float]] = 1.0\n",
    "    amplitude: Union[float, Array, Callable[[PRNGKey], Array]] = 1.0\n",
    "    pupil: Optional[Callable[[Field], Field]] = None\n",
    "    scalar: bool = True\n",
    "    epsilon: float = np.finfo(np.float32).eps,\n",
    "\n",
    "    @nn.compact\n",
    "    def __call__(self) -> Field:\n",
    "        power = register(self, \"power\")\n",
    "        z = register(self, \"z\")\n",
    "        n = register(self, \"n\")\n",
    "        amplitude = register(self, \"amplitude\")\n",
    "        return point_source(\n",
    "            self.shape,\n",
    "            self.dx,\n",
    "            self.spectrum,\n",
    "            self.spectral_density,\n",
    "            z,\n",
    "            n,\n",
    "            power,\n",
    "            amplitude,\n",
    "            self.pupil,\n",
    "            self.scalar,\n",
    "            self.epsilon\n",
    "        )"
   ]
  },
  {
   "cell_type": "markdown",
   "id": "cad7681e",
   "metadata": {},
   "source": [
    "*Explanation*"
   ]
  },
  {
   "cell_type": "markdown",
   "id": "25249f49",
   "metadata": {},
   "source": [
    "This `PointSource` class extends from `nn.Module` and acts as a learnable version of the `point_source` function allowing some attributes to be learned. There are totally eleven attributes are defined to design the class:\n",
    "\n",
    "`shape` and `dx` specifies the size and the grid spacing for the output field. `spectrum` and `spectrum_density` indicate the wavelength and the weighting of each wavelength. Among the other attributes, `z` which represents the spatial distance for the point source, `n` which represents the refractive index, `power` which specifies the desired total power, `amplitude` which means the amplitude of the field, could be either a fixed value or a trainable value to be learned. \n",
    "\n",
    "Besides, `pupil` which applies a pupil modulation to the field, is a callable that needs to be provided. In other words, it's a function that takes a `Field` object as input and returns a modifies `Field` object. Therefore, to apply such a pupil to the object of `PointSource`, a function that describes this pupil is needed.\n",
    "\n",
    "For example:"
   ]
  },
  {
   "cell_type": "code",
   "execution_count": null,
   "id": "dffdb7e1",
   "metadata": {},
   "outputs": [],
   "source": [
    "import numpy as np\n",
    "\n",
    "def circular_pupil(field: np.ndarray, radius: float) -> np.ndarray:\n",
    "    \"\"\"\n",
    "    Applies a circular pupil mask to the field.\n",
    "\n",
    "    Args:\n",
    "        field (np.ndarray): The input field represented as a 2D array.\n",
    "        radius (float): Radius of the pupil in units consistent with field dimensions.\n",
    "    \n",
    "    Returns:\n",
    "        np.ndarray: The modified field with the circular pupil applied.\n",
    "    \"\"\"\n",
    "    height, width = field.shape\n",
    "    \n",
    "    # Create index grids for x and y\n",
    "    y, x = np.ogrid[:height, :width]\n",
    "    center = (height // 2, width // 2)\n",
    "    radii = np.sqrt((y - center[0])**2 + (x - center[1])**2)\n",
    "    \n",
    "    # Create a boolean mask based on the distance\n",
    "    mask = radii <= radius\n",
    "\n",
    "    # Apply mask by multiplication\n",
    "    return field * mask"
   ]
  },
  {
   "cell_type": "markdown",
   "id": "abf2113f",
   "metadata": {},
   "source": [
    "`scalar` determines whether the result is scalar (if True), or vectorial (if False). `epsilon` is a small value added for numerical stability to avoid division by zero.\n",
    "\n",
    "`epsilon: float` suggests that `epsilon` should be of type `float`. `np.finfo(np.float32).eps` represents the smallest positive number for the `np.float32` type. `np.finfo(np.float32)` is used to get information about the properties of the 32-bit floating-point type like:"
   ]
  },
  {
   "cell_type": "code",
   "execution_count": null,
   "id": "9c3c82a5",
   "metadata": {},
   "outputs": [
    {
     "name": "stdout",
     "output_type": "stream",
     "text": [
      "Machine parameters for float32\n",
      "---------------------------------------------------------------\n",
      "precision =   6   resolution = 1.0000000e-06\n",
      "machep =    -23   eps =        1.1920929e-07\n",
      "negep =     -24   epsneg =     5.9604645e-08\n",
      "minexp =   -126   tiny =       1.1754944e-38\n",
      "maxexp =    128   max =        3.4028235e+38\n",
      "nexp =        8   min =        -max\n",
      "smallest_normal = 1.1754944e-38   smallest_subnormal = 1.4012985e-45\n",
      "---------------------------------------------------------------\n",
      "\n"
     ]
    }
   ],
   "source": [
    "import numpy as np\n",
    "print(np.finfo(np.float32))"
   ]
  },
  {
   "cell_type": "markdown",
   "id": "6744fbfe",
   "metadata": {},
   "source": [
    "Therefore, `np.finfo(float32.eps).eps` is:"
   ]
  },
  {
   "cell_type": "code",
   "execution_count": null,
   "id": "2bc0b898",
   "metadata": {},
   "outputs": [
    {
     "name": "stdout",
     "output_type": "stream",
     "text": [
      "epsilon = 1.1920929e-07\n"
     ]
    }
   ],
   "source": [
    "print(\"epsilon =\", np.finfo(np.float32).eps)"
   ]
  },
  {
   "cell_type": "markdown",
   "id": "8b23e390",
   "metadata": {},
   "source": [
    "The `__call__` method is a compact function that defines how the point source generates a field when invoked. Inside the method, it registers `power`, `z`, `n`, and `amplitude` for making them be trained. Then, the core functionality is handled by calling the `point_source()` function. This function takes in the attributes of the class and returns a modified field.\n",
    "\n",
    "To integrate the `pupil` into an object of `PointSource`, you can use a lambda function to pass the `circular_pupil` function as the `pupil` argument:"
   ]
  },
  {
   "cell_type": "code",
   "execution_count": null,
   "id": "6204c684",
   "metadata": {},
   "outputs": [],
   "source": [
    "point_source = PointSource(\n",
    "    shape = (512, 512),\n",
    "    dx = 0.1,\n",
    "    spectrum = 0.55,\n",
    "    spectral_density = 1.0,\n",
    "    z = 100.0,\n",
    "    n = 1.33,\n",
    "    power = 1.0,\n",
    "    amplitude = 1.0,\n",
    "    pupil = lambda field: circular_pupil(field, radius = 50),\n",
    "    scalar = True)"
   ]
  },
  {
   "cell_type": "markdown",
   "id": "b1a06e87",
   "metadata": {},
   "source": [
    "#### **Class 2:ObjectivePointSource**"
   ]
  },
  {
   "cell_type": "markdown",
   "id": "c43c5777",
   "metadata": {},
   "source": [
    "*Source Code*"
   ]
  },
  {
   "cell_type": "code",
   "execution_count": null,
   "id": "13ef2dc2",
   "metadata": {},
   "outputs": [],
   "source": [
    "class ObjectivePointSource(nn.Module):\n",
    "    \"\"\"\n",
    "    Generates field due to a point source defocused by an amount ``z`` away from\n",
    "    the focal plane, just after passing through a lens with focal length ``f``\n",
    "    and numerical aperture ``NA``.\n",
    "\n",
    "    The attributes ``f``, ``n``, ``NA``, and ``power`` can be learned by using\n",
    "    ``chromatix.utils.trainable``.\n",
    "\n",
    "    Attributes:\n",
    "        shape: The shape (height and width) of the ``Field`` to be created.\n",
    "        dx: The spacing of the samples of the ``Field``.\n",
    "        spectrum: The wavelengths included in the ``Field`` to be created.\n",
    "        spectral_density: The weights of each wavelength in the ``Field`` to\n",
    "            be created.\n",
    "        f: Focal length of the objective lens.\n",
    "        n: Refractive index.\n",
    "        NA: The numerical aperture of the objective lens.\n",
    "        power: The total power that the result should be normalized to,\n",
    "            defaults to 1.0.\n",
    "        amplitude: The amplitude of the electric field. For ``ScalarField`` this\n",
    "            doesnt do anything, but it is required for ``VectorField`` to set\n",
    "            the polarization.\n",
    "        offset: The offset (y and x) in spatial coordinates of the point source.\n",
    "            Defaults to (0, 0) for no offset (a centered point source).\n",
    "        scalar: Whether the result should be ``ScalarField`` (if True) or\n",
    "            ``VectorField`` (if False). Defaults to True.\n",
    "    \"\"\"\n",
    "\n",
    "    shape: Tuple[int, int]\n",
    "    dx: Union[float, Array]\n",
    "    spectrum: Union[float, Array]\n",
    "    spectral_density: Union[float, Array]\n",
    "    f: Union[float, Callable[[PRNGKey], float]]\n",
    "    n: Union[float, Callable[[PRNGKey], float]]\n",
    "    NA: Union[float, Callable[[PRNGKey], float]]\n",
    "    power: Union[float, Callable[[PRNGKey], float]] = 1.0\n",
    "    amplitude: Union[float, Array, Callable[[PRNGKey], Array]] = 1.0\n",
    "    offset: Union[Array, Tuple[float, float]] = (0.0, 0.0)\n",
    "    scalar: bool = True\n",
    "\n",
    "    @nn.compact\n",
    "    def __call__(self, z: float) -> Field:\n",
    "        f = register(self, \"f\")\n",
    "        n = register(self, \"n\")\n",
    "        NA = register(self, \"NA\")\n",
    "        power = register(self, \"power\")\n",
    "        amplitude = register(self, \"amplitude\")\n",
    "        offset = register(self, \"offset\")\n",
    "\n",
    "        return objective_point_source(\n",
    "            self.shape,\n",
    "            self.dx,\n",
    "            self.spectrum,\n",
    "            self.spectral_density,\n",
    "            z,\n",
    "            f,\n",
    "            n,\n",
    "            NA,\n",
    "            power,\n",
    "            amplitude,\n",
    "            offset,\n",
    "            self.scalar,\n",
    "        )"
   ]
  },
  {
   "cell_type": "markdown",
   "id": "0e398a1b",
   "metadata": {},
   "source": [
    "*Explanation*"
   ]
  },
  {
   "cell_type": "markdown",
   "id": "c9458127",
   "metadata": {},
   "source": [
    "This class is designed with the defined function `object_point_source` to simulate a field in the image space of a lens from a point source in the object space of the lens, and the point source is positioned a distance `z` away from the focal plane in the object space. In other words, if `z = 0`, the point source is at the focal plane in the object space of the lens, and the returned field by this class is a plane wave.\n",
    "\n",
    "Compared to the `PointSource` class, this class has the same structure and takes similar attributes. In this class, `z` represents the distance between the position of the point source and the focal plane of the lens, and it's passed as an argument to the `__call__` method rather than an attribute of the class, so that it's not trainable now, but it can be varied dynamically without changing the whole object. Additionally, the `pupil` attribute in the last class is replaced by `NA` which is the Numerical Aperture of the lens. NA is a dimensionless number which characterizes the range of angles over which the system can accept. It is defined by:\n",
    "\n",
    "$$ NA = n \\cdot \\sin(\\theta) \\tag{2.4.22}$$\n",
    "\n",
    "Where $n$ is the refractive index and $\\theta$ is the half angle of the maximun cane of light as shown in the figure below:\n",
    "\n",
    "<img src=\"Figures\\Numerical_aperture.jpg\" alt=\"Neuron\" width=\"30%\" style=\"display: block; margin: 0 auto;\">\n",
    "\n",
    "`NA` could be either learned from a model training or a fixed value. And this class has a new attribute `offset`. It represents the offset of the point source in $x-y$ plane, allowing the lens to be illuminated by the point source from all angles. Besides, other attributes remain the same as in the last class.\n",
    "\n",
    "The `__call__` method in this class takes the additional `z` as input and registers `f`, `n`, `NA`, `power`, `amplitude`, and `offset` as trainable parameters, indicating that the can be learned to optimize. Finally, It calls the function `objective_point_source` to compute and output the output field."
   ]
  },
  {
   "cell_type": "markdown",
   "id": "1f7c0e34",
   "metadata": {},
   "source": [
    "#### **Class 3:PlaneWave**"
   ]
  },
  {
   "cell_type": "markdown",
   "id": "ecf197ec",
   "metadata": {},
   "source": [
    "*Source Code*"
   ]
  },
  {
   "cell_type": "code",
   "execution_count": null,
   "id": "3dce86ec",
   "metadata": {},
   "outputs": [],
   "source": [
    "class PlaneWave(nn.Module):\n",
    "    \"\"\"\n",
    "    Generates plane wave of given ``phase`` and ``power``.\n",
    "\n",
    "    Can also be given ``pupil`` and ``kykx`` vector to control the angle of the\n",
    "    plane wave.\n",
    "\n",
    "    The attributes ``kykx``, ``power``, and ``amplitude`` can be learned by\n",
    "    using ``chromatix.utils.trainable``.\n",
    "\n",
    "    Attributes:\n",
    "        shape: The shape (height and width) of the ``Field`` to be created.\n",
    "        dx: The spacing of the samples of the ``Field``.\n",
    "        spectrum: The wavelengths included in the ``Field`` to be created.\n",
    "        spectral_density: The weights of each wavelength in the ``Field`` to\n",
    "            be created.\n",
    "        power: The total power that the result should be normalized to,\n",
    "            defaults to 1.0.\n",
    "        amplitude: The amplitude of the electric field. For ``ScalarField`` this\n",
    "            doesnt do anything, but it is required for ``VectorField`` to set\n",
    "            the polarization.\n",
    "        kykx: Defines the orientation of the plane wave. Should be an\n",
    "            array of shape `[2,]` in the format [ky, kx].\n",
    "        pupil: If provided, will be called on the field to apply a pupil.\n",
    "        scalar: Whether the result should be ``ScalarField`` (if True) or\n",
    "            ``VectorField`` (if False). Defaults to True.\n",
    "    \"\"\"\n",
    "\n",
    "    shape: Tuple[int, int]\n",
    "    dx: Union[float, Array]\n",
    "    spectrum: Union[float, Array]\n",
    "    spectral_density: Union[float, Array]\n",
    "    power: Union[float, Callable[[PRNGKey], float]] = 1.0\n",
    "    amplitude: Union[float, Array, Callable[[PRNGKey], Array]] = 1.0\n",
    "    kykx: Union[Array, Tuple[float, float]] = (0.0, 0.0)\n",
    "    pupil: Optional[Callable[[Field], Field]] = None\n",
    "    scalar: bool = True\n",
    "\n",
    "    @nn.compact\n",
    "    def __call__(self) -> Field:\n",
    "        kykx = register(self, \"kykx\")\n",
    "        power = register(self, \"power\")\n",
    "        amplitude = register(self, \"amplitude\")\n",
    "        return plane_wave(\n",
    "            self.shape,\n",
    "            self.dx,\n",
    "            self.spectrum,\n",
    "            self.spectral_density,\n",
    "            power,\n",
    "            amplitude,\n",
    "            kykx,\n",
    "            self.pupil,\n",
    "            self.scalar,\n",
    "        )"
   ]
  },
  {
   "cell_type": "markdown",
   "id": "a996ee72",
   "metadata": {},
   "source": [
    "*Explanation*"
   ]
  },
  {
   "cell_type": "markdown",
   "id": "d575aa96",
   "metadata": {},
   "source": [
    "This class is defined to simulate a plane wave with given attributes and the function `plane_wave`. It takes nine attributes in total, in which, `kykx` represents the wavevector of the plane wave, indicating the wave's orientation, other attributes are the same as their counterparts in the class `PointSource`.\n",
    "\n",
    "Typically, a plane wave in Cartesian coordinates can be expressed as:\n",
    "\n",
    "$$ E(x, y, z) = E_0 \\cdot exp[i(k_xx+k_yy+k_zz)] \\tag{2.4.23}$$\n",
    "$$ \\vec{k} = \\vec{k_x} + \\vec{k_y} + \\vec{k_z} \\tag{2.4.24}$$\n",
    "$$ k = \\sqrt{(k_x^2 + k_y^2 + k_z^2)} \\tag{2.4.25}$$\n",
    "\n",
    "where $E_0$ represents the amplitude of this plane wave. $exp[i(k_xx+k_yy+k_zz)]$ represent the phase of this plane wave. Since $z$ direction is the propagation direction of the wave, by changing $k_x$ and $k_y$, one can change the orientation of the wave.\n",
    "\n",
    "Then, the `__call__` method registers `kykx`, `power`, and `amplitude`, so that they can be optimized and learned during training process. The method finally calls the `plane_wave` function to generate the field."
   ]
  },
  {
   "cell_type": "markdown",
   "id": "7dfefe06",
   "metadata": {},
   "source": [
    "#### **Class 4: GenericField**"
   ]
  },
  {
   "cell_type": "markdown",
   "id": "9dcde20f",
   "metadata": {},
   "source": [
    "*Source Code*"
   ]
  },
  {
   "cell_type": "code",
   "execution_count": null,
   "id": "7a2278d9",
   "metadata": {},
   "outputs": [],
   "source": [
    "class GenericField(nn.Module):\n",
    "    \"\"\"\n",
    "    Generates field with arbitrary ``phase`` and ``amplitude``.\n",
    "\n",
    "    Can also be given ``pupil``.\n",
    "\n",
    "    The attributes ``amplitude``, ``phase``, and ``power`` can be learned by\n",
    "    using ``chromatix.utils.trainable``.\n",
    "\n",
    "    Attributes:\n",
    "        dx: The spacing of the samples of the ``Field``.\n",
    "        spectrum: The wavelengths included in the ``Field`` to be created.\n",
    "        spectral_density: The weights of each wavelength in the ``Field`` to\n",
    "            be created.\n",
    "        amplitude: The amplitude of the field with shape `(B... H W C [1 | 3])`.\n",
    "        phase: The phase of the field with shape `(B... H W C [1 | 3])`.\n",
    "        power: The total power that the result should be normalized to,\n",
    "            defaults to 1.0.\n",
    "        pupil: If provided, will be called on the field to apply a pupil.\n",
    "        scalar: Whether the result should be ``ScalarField`` (if True) or\n",
    "            ``VectorField`` (if False). Defaults to True.\n",
    "    \"\"\"\n",
    "\n",
    "    dx: Union[float, Array]\n",
    "    spectrum: Union[float, Array]\n",
    "    spectral_density: Union[float, Array]\n",
    "    amplitude: Union[Array, Callable[[PRNGKey], Array]]\n",
    "    phase: Union[Array, Callable[[PRNGKey], Array]]\n",
    "    power: Union[float, Callable[[PRNGKey], float]] = 1.0\n",
    "    pupil: Optional[Callable[[Field], Field]] = None\n",
    "    scalar: bool = True\n",
    "\n",
    "    @nn.compact\n",
    "    def __call__(self) -> Field:\n",
    "        amplitude = register(self, \"amplitude\")\n",
    "        phase = register(self, \"phase\")\n",
    "        power = register(self, \"power\")\n",
    "\n",
    "        return generic_field(\n",
    "            self.dx,\n",
    "            self.spectrum,\n",
    "            self.spectral_density,\n",
    "            amplitude,\n",
    "            phase,\n",
    "            power,\n",
    "            self.pupil,\n",
    "            self.scalar,\n",
    "        )"
   ]
  },
  {
   "cell_type": "markdown",
   "id": "f522b3e6",
   "metadata": {},
   "source": [
    "*Explanation*"
   ]
  },
  {
   "cell_type": "markdown",
   "id": "5b5c9439",
   "metadata": {},
   "source": [
    "This is a class built upon the `generic_field` function that can be used to generate an electromagnetic field with arbitrary amplitude and phase. Among the attributes, `amplitude`, `phase`, and `power` are trainable, thus, these values can be optimized during a learning process. \n",
    "\n",
    "Because this generic field is based on the arbitrary `phase` and `amplitude` which means that the shape of the field is also determined by the `phase` and `amplitude`, the parameter `shape` is inferred from the dimensions of the `phase` and `amplitude` rather than given as an attribute. Other attributes work as the same as their counterpart in the `PointSource` class. \n",
    "\n",
    "The `__call__` method takes charge to register `amplitude`, `phase`, `power` and call the `generic_field` function to generate fields."
   ]
  },
  {
   "cell_type": "markdown",
   "id": "c973590e",
   "metadata": {},
   "source": [
    "### **Module 10: utils**"
   ]
  },
  {
   "cell_type": "markdown",
   "id": "f30f6c97",
   "metadata": {},
   "source": [
    "This module contains a class and several functions that are frequently used or called in the previous modules. They essential for training attributes in the previous classes."
   ]
  },
  {
   "cell_type": "markdown",
   "id": "3ce8544a",
   "metadata": {},
   "source": [
    "#### **Imports**"
   ]
  },
  {
   "cell_type": "markdown",
   "id": "c61bd863",
   "metadata": {},
   "source": [
    "*Source Code*"
   ]
  },
  {
   "cell_type": "code",
   "execution_count": null,
   "id": "0a87fbb5",
   "metadata": {},
   "outputs": [],
   "source": [
    "from dataclasses import dataclass\n",
    "from typing import Any, Callable\n",
    "\n",
    "from chex import Array, PRNGKey\n",
    "from flax import linen as nn"
   ]
  },
  {
   "cell_type": "markdown",
   "id": "00242a53",
   "metadata": {},
   "source": [
    "*Explanation*"
   ]
  },
  {
   "cell_type": "markdown",
   "id": "ca545d1a",
   "metadata": {},
   "source": [
    "`from dataclasses import dataclass` imports a special function `dataclass` which is also called a decorator. A decorator is a special kind of function that takes another function or method as input, wraps it in additional functionality without changing the input function's core functionality, and then returns the modified function. `@decorator_name` is used as a syntactic shortcut to apply decorators.\n",
    "\n",
    "For example:"
   ]
  },
  {
   "cell_type": "code",
   "execution_count": null,
   "id": "b056ff7d",
   "metadata": {},
   "outputs": [
    {
     "name": "stdout",
     "output_type": "stream",
     "text": [
      "This output is from the decorator\n",
      "Sum = 3\n",
      "We are added functionality\n"
     ]
    }
   ],
   "source": [
    "def a_decorator(func):\n",
    "    def wrap(x, y):\n",
    "        print(\"This output is from the decorator\")\n",
    "        func(x, y)\n",
    "        print(\"We are added functionality\")\n",
    "    return wrap\n",
    "\n",
    "@a_decorator\n",
    "def add_output(x, y):\n",
    "    return print(\"Sum =\",x + y)\n",
    "\n",
    "add_output(1, 2)"
   ]
  },
  {
   "cell_type": "markdown",
   "id": "03f6e4f3",
   "metadata": {},
   "source": [
    "In this example, the function `a_decorator` is the decorator function that takes a function as input and returns a wrapped function `wrap`. The `wrap` function that defined inside the `a_decorator` function is responsible for adding extra functionality to the input function. Therefore, this `wrap` function is actually the modified function that is going to be returned by the `a_decorator` function.\n",
    "\n",
    "Then, a new function `add_output(x, y)` is created with the decorator by adding `@a_decorator` above the `add_output(x, y)` function. Now, when we call the `add_output(x, y)`, what we actually call is `wrap(x, y)`. Therefore, the function defined inside a decorator function (`wrap(x, y)` in this case) must have the same arguments as the function that is decorated (`add_output(x, y)` in this case).\n",
    "\n",
    "`dataclass` is such a decorated function that is provided by the module `dataclasses`. The `dataclasses` module is part of the standard library in Python. It only offers one decorator which is `dataclass` and several functions for automatically adding generated special methods such as `__init__`, `__repr__`, and `__eq__` by default.\n",
    "\n",
    "The benefit of using `@dataclass` is that it simplifies the creation of classes. For example, this is a class created in a traditional way:"
   ]
  },
  {
   "cell_type": "code",
   "execution_count": null,
   "id": "4a9dc23a",
   "metadata": {},
   "outputs": [
    {
     "name": "stdout",
     "output_type": "stream",
     "text": [
      "AddClass(x=1, y=2)\n",
      "3\n"
     ]
    }
   ],
   "source": [
    "class AddClass:\n",
    "    # Constructor Method\n",
    "    def __init__(self, x, y):\n",
    "        self.x = x\n",
    "        self.y = y\n",
    "\n",
    "    # Representation Method\n",
    "    def __repr__(self):\n",
    "        return f\"AddClass(x={self.x}, y={self.y})\" # An f-string represting a object\n",
    "    \n",
    "    # Equality Method\n",
    "    def __eq__(self, other):\n",
    "        if isinstance(other, AddClass):\n",
    "            return self.x == other.x and self.y == other.y\n",
    "        return False\n",
    "\n",
    "    def add(self):\n",
    "       return self.x + self.y\n",
    "    \n",
    "# Create an object of AddClass\n",
    "add_class = AddClass(1, 2)\n",
    "print(add_class)\n",
    "print(add_class.add())"
   ]
  },
  {
   "cell_type": "markdown",
   "id": "6881a051",
   "metadata": {},
   "source": [
    "In this example, a class named `AddClass` is created. It includes four methods. The first method `__init__` is a constructor method for initializing object attributes. This method is automatically called whenever a new `AddClass` object is created. Inside this method, `self.x = x` and `self.y = y` assign the values of `x` and `y` to the object attributes `self.x` and `self.y`, so that when the object is created like `add_class = AddClass(1, 2)`, the method sets `self.x = 1` and `self.y = 2`.\n",
    "\n",
    "The second method `__repr__` is the representation method which is to return a string to represent the object. `f\"AddClass(x={self.x}, y={self.y})\"` is an f-string that formats the output to `a` and `b` values inside the string. Then, when you print an object like `print(add_class)`, the object's string representation will be output like `AddClass(x=1, y=2)`.\n",
    "\n",
    "The third method `__eq__` is the equality method, which does equality comparison based on attribute values. `other` is another object of this class or another class which is being compared to the current object represented as `self`. In this case, only when the two objects have the same attributes and are of the same class, the method will return `Ture`. For example:"
   ]
  },
  {
   "cell_type": "code",
   "execution_count": null,
   "id": "b2dd06ed",
   "metadata": {},
   "outputs": [
    {
     "name": "stdout",
     "output_type": "stream",
     "text": [
      "add_class=add_class1 is: True\n",
      "add_class=add_class2 is: False\n"
     ]
    }
   ],
   "source": [
    "add_class1 = AddClass(1, 2)\n",
    "add_class2 = AddClass(3, 4)\n",
    "\n",
    "print(\"add_class=add_class1 is:\", add_class == add_class1)\n",
    "print(\"add_class=add_class2 is:\", add_class == add_class2)"
   ]
  },
  {
   "cell_type": "markdown",
   "id": "315f7439",
   "metadata": {},
   "source": [
    "Thanks to the decorator `@dataclass`, we don't need to write all the three methods line by line, but add the decorator above this class like this:"
   ]
  },
  {
   "cell_type": "code",
   "execution_count": null,
   "id": "a0e5ebdd",
   "metadata": {},
   "outputs": [
    {
     "name": "stdout",
     "output_type": "stream",
     "text": [
      "AddClass1(x=1, y=2)\n",
      "add_class_1 = add_class_2 is: False\n",
      "result of add_class_1.add() = 3\n"
     ]
    }
   ],
   "source": [
    "from dataclasses import dataclass\n",
    "\n",
    "@dataclass\n",
    "class AddClass1:\n",
    "    # It's necessary to define the type of the attributes\n",
    "    # Otherwise, a name error will be raised\n",
    "    x: int\n",
    "    y: int\n",
    "    def add(self):\n",
    "        return self.x + self.y\n",
    "    \n",
    "add_class_1 = AddClass1(1, 2)\n",
    "add_class_2 = AddClass1(3, 4)\n",
    "print(add_class_1)\n",
    "print(\"add_class_1 = add_class_2 is:\", add_class_1 == add_class_2)\n",
    "print(\"result of add_class_1.add() =\", add_class_1.add())"
   ]
  },
  {
   "cell_type": "markdown",
   "id": "9d1ed7a9",
   "metadata": {},
   "source": [
    "As the code shows, the decorator `@dataclass` simplifies the code by eliminating the need for boilerplate.\n",
    "\n",
    "The `Any` type means literally any type. Once a variable or parameter is indicated as `Any`, it can be any type like `str`, `int`, `float`, `array`, etc."
   ]
  },
  {
   "cell_type": "markdown",
   "id": "0a8af3e0",
   "metadata": {},
   "source": [
    "#### **Class 1: Trainable**"
   ]
  },
  {
   "cell_type": "markdown",
   "id": "32d56cc3",
   "metadata": {},
   "source": [
    "*Source Code*"
   ]
  },
  {
   "cell_type": "code",
   "execution_count": null,
   "id": "088e960a",
   "metadata": {},
   "outputs": [],
   "source": [
    "@dataclass\n",
    "class Trainable:\n",
    "    \"\"\"\n",
    "    Wrapper class to signal to a Chromatix element that ``val`` should be the\n",
    "    initialization for a trainable parameter.\n",
    "    \"\"\"\n",
    "\n",
    "    val: Any"
   ]
  },
  {
   "cell_type": "markdown",
   "id": "b1fe296b",
   "metadata": {},
   "source": [
    "*Explanation*"
   ]
  },
  {
   "cell_type": "markdown",
   "id": "a5ab88a9",
   "metadata": {},
   "source": [
    "This `Trainable` class is used to mark and store a value (`val`) as a trainable parameter which should be learned and optimized. The `Any` type makes this `val` flexible to be any type. It can be easily used like:"
   ]
  },
  {
   "cell_type": "code",
   "execution_count": null,
   "id": "cb6f2b63",
   "metadata": {},
   "outputs": [
    {
     "name": "stdout",
     "output_type": "stream",
     "text": [
      "a = Trainable(val=0.1)\n"
     ]
    }
   ],
   "source": [
    "# Mark `a` as a trainable parameter and initialize it to 0.1\n",
    "a = Trainable(0.1)\n",
    "\n",
    "print(\"a =\", a)"
   ]
  },
  {
   "cell_type": "markdown",
   "id": "1becc754",
   "metadata": {},
   "source": [
    "#### **Function 1: trainable**"
   ]
  },
  {
   "cell_type": "markdown",
   "id": "54bc1a44",
   "metadata": {},
   "source": [
    "*Source Code*"
   ]
  },
  {
   "cell_type": "code",
   "execution_count": null,
   "id": "4fdcae44",
   "metadata": {},
   "outputs": [],
   "source": [
    "def trainable(x: Any, rng: bool = True) -> Trainable:\n",
    "    \"\"\"\n",
    "    Returns ``x`` wrapped in a ``Trainable`` object to signal to a\n",
    "    Chromatix element that ``x`` should be used to initialize a trainable\n",
    "    parameter. If ``x`` is already a function, then this function will be\n",
    "    used as the initializer. If ``x`` is a function that does not accept a\n",
    "    ``jax.random.PRNGKey``, then setting ``rng`` to ``False`` will wrap ``x``\n",
    "    so that the arguments for ``x`` are accepted after the ``PRNGKey`` argument.\n",
    "    This is useful since many Chromatix functions you might want to use as\n",
    "    initialization functions don't accept ``PRNGKey`` arguments. Note that this\n",
    "    argument does not matter if ``x`` is already an ``Array`` that can be used\n",
    "    as an initialization directly.\n",
    "\n",
    "    When a supported Chromatix element is constructed with this wrapper as its\n",
    "    attribute, it will automatically turn that attribute into a parameter to\n",
    "    be optimized. Thus, this function is a convenient way to set the attribute\n",
    "    of an optical element in Chromatix as a trainable parameter initialized\n",
    "    to the value defined by ``x``. Any element that has potentially trainable\n",
    "    parameters will be documented as such.\n",
    "\n",
    "    For example, we can initialize a trainable phase mask (allowing for the\n",
    "    optimization of the pixels of the phase mask for arbitrary tasks) with this\n",
    "    function in two different ways:\n",
    "\n",
    "    ```python\n",
    "    from chromatix.utils import trainable\n",
    "    from chromatix.functional import potato_chip\n",
    "    from chromatix.elements import PhaseMask\n",
    "\n",
    "    phase_mask = PhaseMask(\n",
    "        phase=trainable(\n",
    "            potato_chip(\n",
    "                shape=(3840, 3840),\n",
    "                spacing=0.3,\n",
    "                wavelength=0.5,\n",
    "                n=1.33,\n",
    "                f=100,\n",
    "                NA=0.8\n",
    "            )\n",
    "        )\n",
    "    )\n",
    "    params = phase_mask.init()\n",
    "    ```\n",
    "\n",
    "    This example directly calls ``potato_chip`` to create a trainable phase\n",
    "    mask with the given shape. If there is a mismatch between the shape of an\n",
    "    incoming ``Field`` and the shape of the ``phase``, then an error will occur\n",
    "    at runtime. For many applications, the shape of the ``Field`` will be known\n",
    "    and fixed, so this style of initialization is convenient. The second way is\n",
    "    slightly more complex but also more robust to these shape issues, and does\n",
    "    not require declaring the shapes twice:\n",
    "\n",
    "    ```python\n",
    "    from chromatix.utils import trainable\n",
    "    from chromatix.functional import potato_chip\n",
    "    from chromatix.elements import PhaseMask\n",
    "    from functools import partial\n",
    "\n",
    "    phase_mask = PhaseMask(\n",
    "        phase=trainable(\n",
    "            partial(\n",
    "                potato_chip, spacing=0.3, wavelength=0.5, n=1.33, f=100, NA=0.8\n",
    "            ),\n",
    "            rng=False\n",
    "        )\n",
    "    )\n",
    "    ```\n",
    "\n",
    "    When ``PhaseMask`` initializes its parameters, it automatically passes\n",
    "    a ``jax.random.PRNGKey`` and the spatial shape of the input ``Field``,\n",
    "    which were ignored in the previous example because the initial ``phase``\n",
    "    was an ``Array`` constructed by ``potato_chip``. This example uses\n",
    "    ``functools.partial`` to create a phase mask initialization function that\n",
    "    only accepts a shape, which is wrapped by ``trainable`` to also accept\n",
    "    a ``jax.random.PRNGKey`` as its first argument. Now, when ``PhaseMask``\n",
    "    initializes its parameters, it will call this initialization function,\n",
    "    which uses the shape of the input ``Field`` to calculate the initial phase.\n",
    "    This matches the signature of the common ``jax.nn.initializers``, which\n",
    "    also accept a ``jax.random.PRNGKey`` and a shape.\n",
    "\n",
    "    Args:\n",
    "        x: The value that will be used to initialize the trainable\n",
    "            parameter.\n",
    "        rng: Whether the initializer function ``x`` needs a ``PRNGKey`` or not.\n",
    "            If ``True``, assumes that the function ``x`` has a ``PRNGKey`` as\n",
    "            its first argument, and does not modify ``x``. If ``False``, wraps\n",
    "            the initializer function ``x`` to ignore the ``PRNGKey`` argument\n",
    "            passed by Flax. If ``x`` is not callable, then this argument doesn't\n",
    "            matter and is ignored. Defaults to ``True``.\n",
    "\n",
    "    Returns:\n",
    "        A function that takes a ``jax.random.PRNGKey`` as its first parameter.\n",
    "    \"\"\"\n",
    "    init = x\n",
    "    if callable(x) and not rng:\n",
    "\n",
    "        def no_rng_x(key: PRNGKey, *args, **kwargs) -> Array:\n",
    "            return x(*args, **kwargs)\n",
    "\n",
    "        init = no_rng_x\n",
    "    return Trainable(init)"
   ]
  },
  {
   "cell_type": "markdown",
   "id": "32046984",
   "metadata": {},
   "source": [
    "*Explanation*"
   ]
  },
  {
   "cell_type": "markdown",
   "id": "b44efa7f",
   "metadata": {},
   "source": [
    "This function wraps an input `x` into a `Trainable` object to signal to a `Chromatix` element (lenses, sensors and so on, defined in the previous modules) that `x` should be used to initialize a trainable parameter.\n",
    "\n",
    "Depending on the type of `x`, the `trainable` function handle it differently. If `x` is an array or a direct value, it will be stored in an object of `Trainable` class and assigned to a parameter to initialize the parameter. \n",
    "\n",
    "When `x` is a function (a callable), it acts as an initializer function which produces an initial value to initialize a parameter based on its inputs like the `potato_chip` function displayed in the source code. \n",
    "\n",
    "The second input `rng` of the `trainable` function is to determine whether `x` requires a `PRNGKey` when it's an initializer function. When `rng=False`, the `no_rng_x` function defined inside the if-clause will be called to remove `PRNGKey` from `x`'s inputs. Then, this `no_rng_x` will be assigned to `init` and returned as an attribute of a `Trainable` object. "
   ]
  },
  {
   "cell_type": "markdown",
   "id": "179f80f6",
   "metadata": {},
   "source": [
    "#### **Function 2: register**"
   ]
  },
  {
   "cell_type": "markdown",
   "id": "bdeaea28",
   "metadata": {},
   "source": [
    "*Source Code*"
   ]
  },
  {
   "cell_type": "code",
   "execution_count": null,
   "id": "543b8db6",
   "metadata": {},
   "outputs": [],
   "source": [
    "def register(\n",
    "    module: nn.Module,\n",
    "    name: str,\n",
    "    *args,\n",
    ") -> Any:\n",
    "    \"\"\"\n",
    "    Registers the attribute `module.{name}` as a Flax parameter or variable\n",
    "    depending on whether the attribute is of type `Trainable`. Only for internal\n",
    "    use in Chromatix elements.\n",
    "\n",
    "    The name of the parameter becomes `_{name}` in the Flax variable dictionary\n",
    "    (either under `\"params\"` or `\"state\"`). Supports initializing both with\n",
    "    callables (*args are passed as arguments) and fixed values.\n",
    "    \"\"\"\n",
    "    try:\n",
    "        init = getattr(module, name)\n",
    "    except AttributeError:\n",
    "        print(\"Variable does not exist.\")\n",
    "\n",
    "    if isinstance(init, Trainable):\n",
    "        return module.param(f\"_{name}\", parse_init(init.val), *args)\n",
    "    else:\n",
    "        return module.variable(\n",
    "            \"state\",\n",
    "            f\"_{name}\",\n",
    "            parse_init(init),\n",
    "            *args,\n",
    "        ).value\n"
   ]
  },
  {
   "cell_type": "markdown",
   "id": "bef9f559",
   "metadata": {},
   "source": [
    "*Explanation*"
   ]
  },
  {
   "cell_type": "markdown",
   "id": "d981d540",
   "metadata": {},
   "source": [
    "This function is most frequently used in the previous classes, since it's used to register attributes of a Flax module, namely the classes defined with `nn.Module` after the class name, as trainable parameters or fixed state variables. This function is intended to integrate those classes with `nn.Module` into the Flax framework.\n",
    "\n",
    "The parameter `module: nn.Module` means this input should be an object of a Flax module such as an object of the `PointSource` class. `name` represents the name of the attribute to be registered. `*args` is additional arguments that may be needed for initialization. Therefore, to register an attribute inside a subclass of `nn.Module`, you just type `register(self, attribute_name)`, where `self` in the class represents the object of this class.\n",
    "\n",
    "The `try` and `except` keywords are part of Python's exception handling mechanism. Inside the `try` block, you can put the code that might raise an error. If the code inside `try` block does raise an error, the code inside the `except` block will be executed. For example:"
   ]
  },
  {
   "cell_type": "code",
   "execution_count": null,
   "id": "a03d1236",
   "metadata": {},
   "outputs": [
    {
     "name": "stdout",
     "output_type": "stream",
     "text": [
      "Error\n",
      "a = 1.0\n"
     ]
    }
   ],
   "source": [
    "for i in range(2):    \n",
    "    try:\n",
    "        a = 1 / i\n",
    "        print(\"a =\", a)\n",
    "    except:\n",
    "        print(\"Error\")"
   ]
  },
  {
   "cell_type": "markdown",
   "id": "199364ea",
   "metadata": {},
   "source": [
    "The `getattr(module, name)` retrieves the attribute from the given module (an object of a class) like this:"
   ]
  },
  {
   "cell_type": "code",
   "execution_count": null,
   "id": "d3bdc803",
   "metadata": {},
   "outputs": [
    {
     "name": "stdout",
     "output_type": "stream",
     "text": [
      "The retrieved attribute = 2\n"
     ]
    }
   ],
   "source": [
    "from dataclasses import dataclass\n",
    "\n",
    "@dataclass\n",
    "class AddClass1:\n",
    "    # It's necessary to define the type of the attributes\n",
    "    # Otherwise, a name error will be raised\n",
    "    x: int\n",
    "    y: int\n",
    "    def add(self):\n",
    "        return self.x + self.y\n",
    "\n",
    "add_class_attr = AddClass1(2, 3)\n",
    "attr = getattr(add_class_attr, 'x')\n",
    "print(\"The retrieved attribute =\", attr)"
   ]
  },
  {
   "cell_type": "markdown",
   "id": "73bc1bb8",
   "metadata": {},
   "source": [
    "Therefore, the `try`-`except` part is responsible for retrieving attributes from the given module, if the attribute does not exist, then raises an error. The retrieve attribute is then assigned to `init`.\n",
    "\n",
    "Next an if-clause is applied to judge whether the `init` is a `Trainable` or not. If it's trainable, then `module.param()` will be called to register this trainable parameter under `\"params\"` collection within Flax's internal dictionary. Those registered attributes will be optimized during training by Flax. \n",
    "\n",
    "In the source code, the first input `f\"_{name}\"` means that the name of this parameter will be `_{name}` like `_attr`. The second input is `parse_init(init.val)`. This function returns a function that returns `init.val` if `init.val` is not a function, if `init.val` is a function, then it will be returned directly. `*args` is additionally needed arguments.\n",
    "\n",
    "If the attribute is not a `Trainable`, it is treated as a non-trainable state variable by calling `module.variable()`.\n",
    "\n",
    "`module.variable()` works similarly to `module.param()`. It registers the attribute as a state variable under `\"state\"` collection. The variable is not going to be trained. The `.value` is used to access the value of the variable. Therefore, in this case, the return is not the registered state variable, but just the value it holds."
   ]
  },
  {
   "cell_type": "markdown",
   "id": "96f49809",
   "metadata": {},
   "source": [
    "#### **Function 3: parse_init**"
   ]
  },
  {
   "cell_type": "markdown",
   "id": "8bae0dd8",
   "metadata": {},
   "source": [
    "*Source Code*"
   ]
  },
  {
   "cell_type": "code",
   "execution_count": null,
   "id": "f24362d8",
   "metadata": {},
   "outputs": [],
   "source": [
    "def parse_init(x: Any) -> Callable:\n",
    "    \"\"\"\n",
    "    Returns a function that returns ``x`` if ``x`` is not a function, otherwise\n",
    "    simply returns the function ``x``.\n",
    "\n",
    "    Args:\n",
    "        x: The value or function that initializes a variable.\n",
    "\n",
    "    Returns:\n",
    "        A function that will be used as an initializer to a variable.\n",
    "    \"\"\"\n",
    "\n",
    "    def init(*args) -> Any:\n",
    "        return x\n",
    "\n",
    "    return x if callable(x) else init"
   ]
  },
  {
   "cell_type": "markdown",
   "id": "e840dd80",
   "metadata": {},
   "source": [
    "*Explanation*"
   ]
  },
  {
   "cell_type": "markdown",
   "id": "ccc28713",
   "metadata": {},
   "source": [
    "This function simply defines an inner function `init()` to turn `x` into an initializer function when `x` is not a function.\n",
    "\n",
    "Therefore, regardless of whether `x` is a value or a function, the return is always a function that is used as an initializer in the `register` function."
   ]
  },
  {
   "cell_type": "markdown",
   "id": "85058271",
   "metadata": {},
   "source": [
    "## **Package: systems**"
   ]
  },
  {
   "cell_type": "markdown",
   "id": "3d144310",
   "metadata": {},
   "source": [
    "### **Module 1: \\_\\_init\\_\\_**"
   ]
  },
  {
   "cell_type": "markdown",
   "id": "d2db763e",
   "metadata": {},
   "source": [
    "*Source Code*"
   ]
  },
  {
   "cell_type": "code",
   "execution_count": null,
   "id": "9f042efe",
   "metadata": {},
   "outputs": [],
   "source": [
    "from .microscopes import *\n",
    "from .optical_system import OpticalSystem"
   ]
  },
  {
   "cell_type": "markdown",
   "id": "dc4deaae",
   "metadata": {},
   "source": [
    "*Explanation*"
   ]
  },
  {
   "cell_type": "markdown",
   "id": "65a51563",
   "metadata": {},
   "source": [
    "The `__init__` is for package initialization, function aggregation and namespace management like the `__init__` above."
   ]
  },
  {
   "cell_type": "markdown",
   "id": "fa5d018a",
   "metadata": {},
   "source": [
    "### **Module 2: optical_system**"
   ]
  },
  {
   "cell_type": "markdown",
   "id": "4bc6aa1d",
   "metadata": {},
   "source": [
    "*Source Code*"
   ]
  },
  {
   "cell_type": "code",
   "execution_count": null,
   "id": "cc4f8886",
   "metadata": {},
   "outputs": [],
   "source": [
    "from __future__ import annotations\n",
    "\n",
    "from typing import Any, Callable, Sequence, Union\n",
    "\n",
    "from chex import Array\n",
    "from flax import linen as nn\n",
    "\n",
    "from ..field import Field\n",
    "\n",
    "\n",
    "class OpticalSystem(nn.Module):\n",
    "    \"\"\"\n",
    "    Combines a sequence of optical elements into a single ``Module``.\n",
    "\n",
    "    Takes a sequence of functions or ``Module``s (any ``Callable``) and calls\n",
    "    them in sequence, assuming each element of the sequence only accepts a\n",
    "    ``Field`` as input and returns a ``Field`` as output, with the exception of\n",
    "    the first element of the sequence, which can take any arguments necessary\n",
    "    (e.g. to allow an element from ``chromatix.elements.sources`` to initialize\n",
    "    a ``Field``) and the last element of the sequence, which may return an\n",
    "    ``Array``. This is intended to mirror the style of deep learning libraries\n",
    "    that describe a neural network as a sequence of layers, allowing for an\n",
    "    optical system to be described conveniently as a list of elements.\n",
    "\n",
    "    Attributes:\n",
    "        elements: A sequence of optical elements describing the system.\n",
    "    \"\"\"\n",
    "\n",
    "    elements: Sequence[Callable]\n",
    "\n",
    "    @nn.compact\n",
    "    def __call__(self, *args: Any, **kwargs: Any) -> Union[Field, Array]:\n",
    "        \"\"\"Returns the result of calling all elements in sequence.\"\"\"\n",
    "        field = self.elements[0](*args, **kwargs)  # allow field to be initialized\n",
    "        for element in self.elements[1:]:\n",
    "            field = element(field)\n",
    "        return field"
   ]
  },
  {
   "cell_type": "markdown",
   "id": "ba83d9da",
   "metadata": {},
   "source": [
    "*Explanation*"
   ]
  },
  {
   "cell_type": "markdown",
   "id": "6e3b4b34",
   "metadata": {},
   "source": [
    "This `OpticalSystem` inherits from a Flax `nn.Module` and the aim is to combine a sequence of optical elements defined in the elements package in to a single module. Therefore, it can simulate a complex optical system which accepts a field as input, and the field will be manipulated by the sequence of elements one by one, then returned as the output of the optical system.\n",
    "\n",
    "The attribute of this class is `elements` which should be a list of optical elements to define the system's behavior step by step. The first element of the list must be a class that generates a `Field` object like the classes `Field`, `PointSource`, `PlaneWave`, `ObjectivePointSource` and so on.\n",
    "\n",
    "`@nn.compact` is a Flax decorator. It's commonly used to define layers and operations directly within the forward pass method `__call__` of a Flax module. And the `__call__` method is invoked when calling an object of this class like a function.\n",
    "\n",
    "Inside the `__call__` method, `field = self.elements[0](*args, **kwargs)` calls the first class of the list to create an object named `field`. Then, the for loop lets the `field` to be manipulated by the following classes.\n",
    "\n",
    "Here is an example about how to create an optical system:"
   ]
  },
  {
   "cell_type": "code",
   "execution_count": 4,
   "id": "630eabe1",
   "metadata": {},
   "outputs": [
    {
     "ename": "",
     "evalue": "",
     "output_type": "error",
     "traceback": [
      "\u001b[1;31mThe Kernel crashed while executing code in the current cell or a previous cell. \n",
      "\u001b[1;31mPlease review the code in the cell(s) to identify a possible cause of the failure. \n",
      "\u001b[1;31mClick <a href='https://aka.ms/vscodeJupyterKernelCrash'>here</a> for more info. \n",
      "\u001b[1;31mView Jupyter <a href='command:jupyter.viewOutput'>log</a> for further details."
     ]
    }
   ],
   "source": [
    "import jax.numpy as jnp\n",
    "import chromatix.elements as ce\n",
    "from chromatix.systems import OpticalSystem\n",
    "\n",
    "shape = (256, 256) # Shape of the plane wave\n",
    "dx = jnp.array([[0.1], [0.1]]) # Sampling interval\n",
    "spectrum = jnp.array([0.55]) # Wavelength of the plane wave\n",
    "spectral_density = jnp.array([1.0]) # Weight of the wavelength\n",
    "\n",
    "f = 5 # The focal length of the lens\n",
    "n = 1.33 # The refractive index of the system\n",
    "\n",
    "# Create an optical system with an incoming plane wave and a lens\n",
    "optical_system = OpticalSystem([\n",
    "    ce.PlaneWave(shape, dx, spectrum, spectral_density),\n",
    "    ce.FFLens(f, n)\n",
    "])"
   ]
  },
  {
   "cell_type": "markdown",
   "id": "66dafa11",
   "metadata": {},
   "source": [
    "In this case, we create an optical system with only one lens. The `FFLens` simulates a field propagating from the front focal plane to the back focal plane of the lens."
   ]
  }
 ],
 "metadata": {
  "celltoolbar": "Edit Metadata",
  "kernelspec": {
   "display_name": "Python 3",
   "language": "python",
   "name": "python3"
  },
  "language_info": {
   "codemirror_mode": {
    "name": "ipython",
    "version": 3
   },
   "file_extension": ".py",
   "mimetype": "text/x-python",
   "name": "python",
   "nbconvert_exporter": "python",
   "pygments_lexer": "ipython3",
   "version": "3.12.1"
  },
  "toc-autonumbering": false,
  "toc-showcode": false,
  "toc-showmarkdowntxt": false,
  "toc-showtags": false
 },
 "nbformat": 4,
 "nbformat_minor": 5
}
