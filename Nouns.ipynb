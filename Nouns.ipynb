{
 "cells": [
  {
   "cell_type": "markdown",
   "metadata": {},
   "source": [
    "**Package**\n",
    "\n",
    "Definition: A **collection** of related modules, organized into a directory structure. A package is essentially a folder that contains multiple Python modules, and often a special `__init__.py` file.\n",
    "\n",
    "Purpose: Organize modules into a larger, related collection for easy management.\n",
    "\n",
    "Example:\n",
    "\n",
    "my_package/\n",
    "    __init__.py\n",
    "    module1.py\n",
    "    module2.py\n",
    "\n",
    "Usage:\n",
    "\n",
    "    from my_package import module1\n"
   ]
  },
  {
   "cell_type": "markdown",
   "metadata": {},
   "source": [
    "**Module**\n",
    "\n",
    "A module in Python is a **file** that contains Python code and can include functions, classes, and variables. It is used to organize code into reusable pieces.\n",
    "\n",
    "Definition: A file with a `.py` extension that contains Python code.\n",
    "\n",
    "Purpose: Group related code together so it can be reused and organized more easily.\n",
    "\n",
    "Usage: Modules can be imported into other scripts to use the functions, classes, and variables they define.\n",
    "\n",
    "For example, a file: math_utils.py:"
   ]
  },
  {
   "cell_type": "code",
   "execution_count": 3,
   "metadata": {},
   "outputs": [],
   "source": [
    "# math_utils.py\n",
    "def add(a, b):\n",
    "    return a + b\n",
    "\n",
    "class Calculator:\n",
    "    def multiply(self, a, b):\n",
    "        return a * b"
   ]
  },
  {
   "cell_type": "code",
   "execution_count": null,
   "metadata": {},
   "outputs": [],
   "source": [
    "#Importing the module\n",
    "import math_utils\n",
    "\n",
    "result = math_utils.add(5, 3)\n",
    "cal = math_utils.Calculator()"
   ]
  },
  {
   "cell_type": "markdown",
   "metadata": {},
   "source": [
    "**Class**\n",
    "\n",
    "A class in Python is a **blueprint** for creating objects. It defines the structure (attributes) and behavior (methods) that the objects will have.\n",
    "\n",
    "Definition: A blueprint or template that defines the attributes (data) and methods (behavior) that objects created from the class will have.\n",
    "\n",
    "Purpose: Model real-world entities, encapsulate data, and group related functionalities.\n",
    "\n",
    "Usage: Classes are used to create objects that share common properties and behaviors.\n",
    "\n",
    "A class can represent a single layer (like a convolutional or dense layer), a collection of layers (like a block of layers), or even an entire neural network.\n",
    "\n",
    "For example, in frameworks like PyTorch or TensorFlow, you define layers and networks using classes (nn.Linear for a dense layer, or Net for the entire network)."
   ]
  },
  {
   "cell_type": "markdown",
   "metadata": {},
   "source": [
    "**Object**\n",
    "\n",
    "An object is an **instance** of a class. It is a concrete manifestation of the class, with its own set of data attributes and behaviors.\n",
    "\n",
    "Definition: A concrete entity created from a class. Objects represent specific instances of a class.\n",
    "\n",
    "Purpose: Represent actual instances with real data, created using the blueprint defined by the class.\n",
    "\n",
    "Usage: An object allows you to interact with the class's attributes and methods."
   ]
  },
  {
   "cell_type": "markdown",
   "metadata": {},
   "source": [
    "**Instance**\n",
    "\n",
    "An instance is another term for an object. It specifically refers to a unique realization of a class.\n",
    "\n",
    "Definition: An individual, unique object created from a class.\n",
    "\n",
    "Purpose: Emphasize that the object is a single occurrence of the class.\n",
    "\n",
    "Usage: Instances of a class can have different attribute values, even though they share the same structure."
   ]
  },
  {
   "cell_type": "markdown",
   "metadata": {},
   "source": [
    "**Method**\n",
    "\n",
    "In **object-oriented programming (OOP)**, a method is simply a **function** that is defined inside a class. A method defines behavior that an object of that class can execute.\n",
    "\n",
    "Purpose: Represent behaviors specific to the objects of a class.\n",
    "\n",
    "Methods, particularly the __call__ or forward method, define the operations performed by layers, such as how data moves through neurons and how transformations occur. However, methods do not directly represent neurons.\n",
    "\n",
    "The neurons in a neural network are mathematical units that perform operations (e.g., weighted sums followed by activation functions). These neurons are part of what a method, like forward, computes.\n",
    "\n",
    "Methods define how input data flows through the network’s layers and how each layer’s neurons operate on the data."
   ]
  },
  {
   "cell_type": "markdown",
   "metadata": {},
   "source": [
    "**Forward Pass**\n",
    "\n",
    "The forward pass is implemented as a **method** in the class representing the **neural network**. For instance, in PyTorch, the forward pass is typically defined in the `forward()` method, and in Flax, it's usually in the `__call__()` method. When you call a neural network object with some input, it invokes the method that implements the forward pass.\n",
    "\n",
    "**Differences with Method**: **Forward pass** is a specific concept related to the flow of input through the network's layers to produce an output. **Method** is A more general concept in programming that refers to any function defined within a class.\n"
   ]
  },
  {
   "cell_type": "markdown",
   "metadata": {},
   "source": [
    "**Attribute**\n",
    "\n",
    "Definition: A **variable** that is bound to an instance (object) of a class.\n",
    "\n",
    "Purpose: Represent the state or properties of an object."
   ]
  },
  {
   "cell_type": "markdown",
   "metadata": {},
   "source": [
    "**Relations**\n",
    "\n",
    "Classes are defined in modules, and modules can be grouped into packages.\n",
    "\n",
    "Classes are blueprints for creating objects (or instances).\n",
    "\n",
    "Objects are created from classes and can have their own attributes (data) and methods (functions)."
   ]
  }
 ],
 "metadata": {
  "kernelspec": {
   "display_name": "Python 3",
   "language": "python",
   "name": "python3"
  },
  "language_info": {
   "codemirror_mode": {
    "name": "ipython",
    "version": 3
   },
   "file_extension": ".py",
   "mimetype": "text/x-python",
   "name": "python",
   "nbconvert_exporter": "python",
   "pygments_lexer": "ipython3",
   "version": "3.12.6"
  }
 },
 "nbformat": 4,
 "nbformat_minor": 2
}
