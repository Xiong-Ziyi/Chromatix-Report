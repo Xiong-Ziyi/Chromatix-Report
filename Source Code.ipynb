{
 "cells": [
  {
   "cell_type": "markdown",
   "id": "aa86d613",
   "metadata": {},
   "source": [
    "# **Chapter 1: Introduction**"
   ]
  },
  {
   "cell_type": "markdown",
   "id": "d15302d7-7bd3-436c-90d8-9364169bec55",
   "metadata": {},
   "source": [
    "# **Chapter 2: Project Source Code**"
   ]
  },
  {
   "cell_type": "markdown",
   "id": "74915b6e",
   "metadata": {},
   "source": [
    "## **Package 1: Data**"
   ]
  },
  {
   "cell_type": "markdown",
   "id": "25c8c679",
   "metadata": {},
   "source": [
    "### **Module 1: objects**"
   ]
  },
  {
   "cell_type": "markdown",
   "id": "155b6d43-a261-4755-97b4-93dd0b1870dd",
   "metadata": {},
   "source": [
    "The following code aims to define the various types of patterns and images that can be generated using the Chromatix library. The authors of this library have implemented three functions that facilitate the creation of specific visual outputs: radial patterns, phase patterns, and grayscale images."
   ]
  },
  {
   "cell_type": "markdown",
   "id": "5dd2b786",
   "metadata": {
    "tags": []
   },
   "source": [
    "#### **Imports**"
   ]
  },
  {
   "cell_type": "markdown",
   "id": "6540d05a",
   "metadata": {},
   "source": [
    "*Source Code*"
   ]
  },
  {
   "cell_type": "code",
   "execution_count": 4,
   "id": "d70cc101",
   "metadata": {},
   "outputs": [],
   "source": [
    "import imageio\n",
    "import jax.numpy as jnp\n",
    "import matplotlib.pyplot as plt\n",
    "from skimage import img_as_ubyte"
   ]
  },
  {
   "cell_type": "markdown",
   "id": "cef7731a",
   "metadata": {},
   "source": [
    "*Explanation*"
   ]
  },
  {
   "cell_type": "markdown",
   "id": "f6a5a4f4-5165-45fc-a171-edd4678d8bcc",
   "metadata": {},
   "source": [
    "To create the necessary functions, four key libraries are imported:\n",
    "\n",
    "1. `imageio`: A versatile tool for reading (input) and saving (output) images in various formats. When an image is read using ' imageio ', it is stored as an array, allowing for easy manipulation and processing.\n",
    "2. `jax.numpy`: Part of the JAX library, this module extends NumPy by enabling automatic differentiation and allows code execution on GPUs and TPUs. It's ideal for performing array operations while leveraging the power of automatic differentiation.\n",
    "3. `matplotlib.pyplot`: A widely used plotting library in Python that provides a Matlab-like interface for creating static, animated, and interactive visualizations.\n",
    "4. `img_as_ubyte` (from `skimage`): A function that converts images to an unsigned byte format (0-255). This is essential for ensuring your data is in the correct format for display or saving."
   ]
  },
  {
   "cell_type": "markdown",
   "id": "e2313fb1-a443-4b43-9576-77a5d5c77b80",
   "metadata": {
    "tags": []
   },
   "source": [
    "#### **Function 1: creat_radial_pattern**"
   ]
  },
  {
   "cell_type": "markdown",
   "id": "de874cf7",
   "metadata": {},
   "source": [
    "*Source Code*"
   ]
  },
  {
   "cell_type": "code",
   "execution_count": 5,
   "id": "0dee40e5",
   "metadata": {},
   "outputs": [],
   "source": [
    "def create_radial_pattern(shape):\n",
    "    \"\"\"\n",
    "    Create a basic radial pattern image.\n",
    "\n",
    "    Args:\n",
    "        shape (tuple): Shape of the image (height, width).\n",
    "\n",
    "    Returns:\n",
    "        jnp.ndarray: Radial pattern image.\n",
    "    \"\"\"\n",
    "    # Create a grid of coordinates\n",
    "    y, x = jnp.indices(shape)\n",
    "\n",
    "    # Calculate the center of the image\n",
    "    center_y, center_x = shape[0] // 2, shape[1] // 2\n",
    "\n",
    "    # Compute the distances from the center\n",
    "    distances = jnp.sqrt((x - center_x) ** 2 + (y - center_y) ** 2)\n",
    "\n",
    "    # Normalize distances to range [0, 2*pi] for phase pattern\n",
    "    max_distance = jnp.sqrt(center_x**2 + center_y**2)\n",
    "    phase_pattern = (distances / max_distance) * 2 * jnp.pi\n",
    "\n",
    "    return phase_pattern"
   ]
  },
  {
   "cell_type": "markdown",
   "id": "b0c6e5aa",
   "metadata": {},
   "source": [
    "*Explanation*"
   ]
  },
  {
   "cell_type": "markdown",
   "id": "5e320a39-fc2e-4625-9de4-16723f8cfd8b",
   "metadata": {},
   "source": [
    "In Python, the keyword `def` is used to define a function, which is a reusable block of code designed to perform a specific task. In this context, the author defines a function named `create_radial_pattern` with an argument `shape` that can be passed when calling the function.\n",
    "\n",
    "The docstring, located between the two sets of triple quotation marks, explains the purpose, arguments, and return value of this function. It indicates that the function is used to create a basic radial pattern image, and the return value (output) will be an array.\n",
    "\n",
    "The argument `shape` is expected to be a tuple with two elements. A tuple is a built-in data structure in Python used to store an ordered collection of items, defined by placing a comma-separated sequence of elements within parentheses. Tuples are immutable, meaning that once they are created, their elements cannot be changed, added, or removed."
   ]
  },
  {
   "cell_type": "code",
   "execution_count": 6,
   "id": "dc7f4b1c-5114-4841-a514-131a915216e4",
   "metadata": {
    "tags": []
   },
   "outputs": [],
   "source": [
    "# Example:\n",
    "shape = (4, 6) # height is 4, and width is 6"
   ]
  },
  {
   "cell_type": "markdown",
   "id": "a8c70fad-5943-483e-a650-1c26f37d0bd4",
   "metadata": {},
   "source": [
    "The first line of this function creats a grid of coordinate indices using `y, x = jnp.indices(shape)`. This function returns two arrays named $y$ and $x$ respectively."
   ]
  },
  {
   "cell_type": "code",
   "execution_count": 7,
   "id": "739598bb-2df9-4b75-bcd0-7eef21bb5450",
   "metadata": {
    "tags": []
   },
   "outputs": [
    {
     "name": "stdout",
     "output_type": "stream",
     "text": [
      "y= [[0 0 0 0 0 0]\n",
      " [1 1 1 1 1 1]\n",
      " [2 2 2 2 2 2]\n",
      " [3 3 3 3 3 3]]\n",
      "x= [[0 1 2 3 4 5]\n",
      " [0 1 2 3 4 5]\n",
      " [0 1 2 3 4 5]\n",
      " [0 1 2 3 4 5]]\n"
     ]
    }
   ],
   "source": [
    "# Example\n",
    "y, x = jnp.indices(shape) # shape = (4, 6)\n",
    "\n",
    "print('y=', y)\n",
    "print('x=', x)"
   ]
  },
  {
   "cell_type": "markdown",
   "id": "f02c6791-648c-40b8-b9f8-6a2e651ff136",
   "metadata": {
    "tags": []
   },
   "source": [
    "In this context, the $y$ array corresponds to the row indices (e.g., 4 rows: 0, 1, 2, 3), and the $x$ array corresponds to the column indices (e.g., 6 columns: 0, 1, 2, 3, 4, 5).\n",
    "\n",
    "Since the function's purpose is to create radial patterns, it's necessary to determine the center of the coordinate grid. The author calculates the center's indices using `shape[0]//2` and `shape[1]//2`. \n",
    "\n",
    "Here, `shape[0]` and `shape[1]` return the first and second elements of the shape tuple, respectively. The operator `$//$` is used for floor division, which means it divides the number and then rounds down to the nearest integer. Thus, for our example, `center_y` and `center_x` would be 2 and 3, respectively.\n",
    "\n",
    "To normalize the distance to range [0, $2\\pi$], the code first calculates the distances between all points and the center using `jnp.sqrt()`, which returns the square roots of the input values. The mathematical equation used here is: \n",
    "\n",
    "$$ distance=\\sqrt{(x-x_{center})^2+(y-y_{center})^2} \\tag{2.1.1}$$\n",
    "\n",
    "Since both $x$ and $y$ are arrays, the resulting $distance$ is also an array. This array contains the distances from each point in the grid to the center, which will be used to generate the radial pattern."
   ]
  },
  {
   "cell_type": "code",
   "execution_count": 8,
   "id": "f38c476e-aedc-40b4-b96e-c189e55fc98c",
   "metadata": {
    "tags": []
   },
   "outputs": [
    {
     "name": "stdout",
     "output_type": "stream",
     "text": [
      "distance =\n",
      " [[3.6055512 2.828427  2.236068  2.        2.236068  2.828427 ]\n",
      " [3.1622777 2.236068  1.4142135 1.        1.4142135 2.236068 ]\n",
      " [3.        2.        1.        0.        1.        2.       ]\n",
      " [3.1622777 2.236068  1.4142135 1.        1.4142135 2.236068 ]]\n"
     ]
    }
   ],
   "source": [
    "# Calculate the position of the center.\n",
    "center_y, center_x = shape[0]//2, shape[1]//2 \n",
    "\n",
    "# Calculate the distances between all other points and the center.\n",
    "distance = jnp.sqrt((x - center_x)**2 + (y - center_y)**2) \n",
    "\n",
    "print('distance =\\n', distance)"
   ]
  },
  {
   "cell_type": "markdown",
   "id": "77cb60e4-3b85-48e8-bae8-5f2b0e6d2bb1",
   "metadata": {},
   "source": [
    "As observed in the result above, the calculated center isn't exactly at the geometric center of the coordinate grid due to the use of floor division. This rounding down places the center slightly off from the true midpoint. However, with larger height and width values, this discrepancy becomes negligible.\n",
    "\n",
    "Next, the code calculates `max_distance`, which represents the distance from the center to the origin of the coordinate grid (i.e., the top-left corner at (0, 0)). This value serves as a reference for normalizing other distances within the grid.\n",
    "\n",
    "Finally, the `phase_pattern` is calculated using the equation: \n",
    "\n",
    "$$phase=2\\pi \\times \\frac{distance}{maxdistance} \\tag{2.1.2}$$\n",
    "\n",
    "By applying this equation, the function generates an array where each element represents the phase at that point in the grid, normalized to the range $[0, 2\\pi]$. This array is the output of the function."
   ]
  },
  {
   "cell_type": "code",
   "execution_count": 9,
   "id": "bf4acd41-0398-4c11-8b9b-8a9a7d6aebb3",
   "metadata": {
    "tags": []
   },
   "outputs": [
    {
     "name": "stdout",
     "output_type": "stream",
     "text": [
      "max_distance= 3.6055512\n",
      "phase_pattern =\n",
      " [[6.2831855 4.928936  3.8966663 3.4852843 3.8966663 4.928936 ]\n",
      " [5.5107183 3.8966663 2.464468  1.7426422 2.464468  3.8966663]\n",
      " [5.2279267 3.4852843 1.7426422 0.        1.7426422 3.4852843]\n",
      " [5.5107183 3.8966663 2.464468  1.7426422 2.464468  3.8966663]]\n"
     ]
    }
   ],
   "source": [
    "# Calculate the maximal distance which is from the center to the left-top point.\n",
    "max_distance = jnp.sqrt(center_x**2 + center_y**2) \n",
    "\n",
    "# Normalize the distance to the range [0, 2*pi].\n",
    "phase_pattern = (distance / max_distance) * 2 * jnp.pi \n",
    "\n",
    "print('max_distance=', max_distance)\n",
    "print('phase_pattern =\\n', phase_pattern)"
   ]
  },
  {
   "cell_type": "markdown",
   "id": "31303007-d557-47dd-85fa-33a4a79f4587",
   "metadata": {},
   "source": [
    "As observed in the results above, the first element ' 6.2831855 ' corresponds to $2\\pi$, while all other elements are values smaller than $2\\pi$ and larger than 0. This confirms that all elements in the array are normalized within the range $[0, 2\\pi]$"
   ]
  },
  {
   "cell_type": "markdown",
   "id": "5b611cb3-007f-4d28-8230-c73258b4c1b2",
   "metadata": {},
   "source": [
    "#### **Function 2: save_phase_pattern**"
   ]
  },
  {
   "cell_type": "markdown",
   "id": "e92e9bbb",
   "metadata": {},
   "source": [
    "*Source Code*"
   ]
  },
  {
   "cell_type": "code",
   "execution_count": 10,
   "id": "bec231b6",
   "metadata": {},
   "outputs": [],
   "source": [
    "def save_phase_pattern():\n",
    "    # Create the radial pattern\n",
    "    shape = (512, 512)\n",
    "    radial_pattern = create_radial_pattern(shape)\n",
    "\n",
    "    # Save the pattern as a PNG file\n",
    "    plt.imshow(radial_pattern, cmap=\"hsv\")\n",
    "    plt.colorbar()\n",
    "    plt.title(\"Radial Phase Pattern\")\n",
    "    plt.axis(\"off\")  # Hide the axis\n",
    "    plt.savefig(\"data/radial_pattern.png\", bbox_inches=\"tight\", pad_inches=0)\n",
    "    plt.show()"
   ]
  },
  {
   "cell_type": "markdown",
   "id": "1a2f82e4",
   "metadata": {},
   "source": [
    "*Explanation*"
   ]
  },
  {
   "cell_type": "markdown",
   "id": "91cc8810-9a7b-4727-895c-3f3960d50e10",
   "metadata": {},
   "source": [
    "As the name suggests, this function is designed to save and output the phase pattern generated by the first function.\n",
    "\n",
    "The line `shape = (512, 512)` defines the dimensions of the pattern. Then, the line `radial_pattern = create_radial_pattern(shape)` calls the first function to create a radial phase pattern. This pattern is stored in the variable `radial_pattern` as a 512×512 array."
   ]
  },
  {
   "cell_type": "code",
   "execution_count": 11,
   "id": "102c0bce-9ecb-4b9f-8f1b-c63a3b796b37",
   "metadata": {
    "tags": []
   },
   "outputs": [
    {
     "name": "stdout",
     "output_type": "stream",
     "text": [
      "radial_pattern =\n",
      " [[6.2831855 6.2709255 6.25869   ... 6.246479  6.25869   6.2709255]\n",
      " [6.2709255 6.2586417 6.246382  ... 6.2341466 6.246382  6.2586417]\n",
      " [6.25869   6.246382  6.234098  ... 6.2218385 6.234098  6.246382 ]\n",
      " ...\n",
      " [6.246479  6.2341466 6.2218385 ... 6.209554  6.2218385 6.2341466]\n",
      " [6.25869   6.246382  6.234098  ... 6.2218385 6.234098  6.246382 ]\n",
      " [6.2709255 6.2586417 6.246382  ... 6.2341466 6.246382  6.2586417]]\n"
     ]
    }
   ],
   "source": [
    "# Set the height and width as 512.\n",
    "shape = (512, 512) \n",
    "\n",
    "# Call the function 'creat_radial_pattern()' to creat a redial pattern according the defined shape.\n",
    "radial_pattern = create_radial_pattern(shape) \n",
    "\n",
    "print('radial_pattern =\\n', radial_pattern)"
   ]
  },
  {
   "cell_type": "markdown",
   "id": "1326ce76-1e17-4a86-961a-92d951a099ac",
   "metadata": {
    "tags": []
   },
   "source": [
    "Then, to save and show the image, the library `matplotlib.pyplot` is applied.\n",
    "\n",
    "`plt.imshow()` is a versatile tool for image visualization in Python. It converts scalar data in an array into colors based on a specified colormap, allowing for the visual representation of scalar values.\n",
    "\n",
    "For instance, the line `plt.imshow(radial_pattern, cmap=\"hsv\")` converts the scalar values in the `radial_pattern` array into a 2D image using the `hsv` colormap, which maps the data to hues corresponding to the HSV (Hue, Saturation, Value) color model. Besides `hsv`, there are many other colormaps available, such as `gray`, `coolwarm`, and more.\n",
    "\n",
    "Additionally, `plt.imshow()` offers various parameters to customize the image, including options for interpolation, aspect ratio, transparency (`alpha`), and more, as shown in the code below. These parameters provide flexibility in how the data is visually presented.\n",
    "\n",
    "Furthermore, you can enhance the figure by adding a colorbar, title, and controlling the axis using the commands `plt.colorbar()`, `plt.title()`, and `plt.axis()`.\n",
    "\n",
    "To save the figure, the `plt.savefig()` function is used. The argument `data/radial_pattern.png` specifies the filename, format, and location where the file will be saved. The parameter ` \\bbox_inches=\"tight\"` ensures that the bounding box of the figure is tightly fitted around the actual content, minimizing any extra whitespace. Additionally, `pad_inches=0` specifies that no padding will be added around the figure, ensuring a clean and compact output.\n",
    "\n",
    "Finally, `plt.show()` is required to display the figure on the screen. Without this command, the figure won't appear in script or non-interactive environments. It ensures that the visualization is rendered and visible to the user."
   ]
  },
  {
   "cell_type": "code",
   "execution_count": 12,
   "id": "3ea2637d-541c-46db-b5a0-87377bad4108",
   "metadata": {
    "tags": []
   },
   "outputs": [
    {
     "data": {
      "image/png": "[encoded data removed]",
      "text/plain": [
       "<Figure size 640x480 with 2 Axes>"
      ]
     },
     "metadata": {},
     "output_type": "display_data"
    }
   ],
   "source": [
    "# Creat a figure of the array 'radial_pattern' according to the colormap \"hsv\", \n",
    "# setting interpolation as \"nearest\", aspect ratio as 1:1, and no transparency.\n",
    "plt.imshow(radial_pattern, cmap=\"hsv\", interpolation=\"nearest\", aspect=\"equal\", alpha=1)\n",
    "plt.colorbar() # Show colorbar.\n",
    "plt.title(\"Radial Phase Pattern\") # Set a title.\n",
    "plt.axis(\"off\") # Hide the axis\n",
    "# Save the figure as .png file in the folder 'data' without any extra whitespace\n",
    "plt.savefig(\"data/radial_pattern.png\", bbox_inches=\"tight\", pad_inches=0) \n",
    "plt.show() # Show the figure"
   ]
  },
  {
   "cell_type": "markdown",
   "id": "3c57a051-0e0e-4950-96d0-6bda0ffb69ae",
   "metadata": {
    "tags": []
   },
   "source": [
    "#### **Function 3: normalize_grayscale_image**"
   ]
  },
  {
   "cell_type": "markdown",
   "id": "f0ff3349",
   "metadata": {},
   "source": [
    "*Source Code*"
   ]
  },
  {
   "cell_type": "code",
   "execution_count": 13,
   "id": "1ff8c1f6",
   "metadata": {},
   "outputs": [],
   "source": [
    "def normalize_grayscale_image(input_path, output_path):\n",
    "    # Read the image\n",
    "    img = imageio.imread(input_path)\n",
    "\n",
    "    # Normalize the grayscale image\n",
    "    normalized_img = img / img.max()\n",
    "\n",
    "    # Convert the normalized image to 8-bit unsigned integer format\n",
    "    normalized_img_ubyte = img_as_ubyte(normalized_img)\n",
    "\n",
    "    # Save the normalized grayscale image as a PNG\n",
    "    imageio.imsave(output_path, normalized_img_ubyte)"
   ]
  },
  {
   "cell_type": "markdown",
   "id": "a903a463",
   "metadata": {},
   "source": [
    "*Explanation*"
   ]
  },
  {
   "cell_type": "markdown",
   "id": "3d487141-4e61-4d98-b119-6d311715cf7a",
   "metadata": {},
   "source": [
    "This function takes the following inputs:\n",
    "1. `input_path` : The path to the input image file which should be a string.\n",
    "2. `output_path` : The path to the output image file where the processed image should be saved, should be a string.\n",
    "\n",
    "This function reads an image from a specified path, storing it as an array of values. The values are then normalized to the range $[0, 1]$ and converted to an unsigned byte format (0-255). Finally, the processed image is saved to another specified path. \n",
    "\n",
    "The line `img = imageio.imread(input_path)` reads an image from `input_path`. By narmalizing it, an array of values in the range $[0, 1]$ is output:"
   ]
  },
  {
   "cell_type": "code",
   "execution_count": 14,
   "id": "69044ab1-4ef2-47c1-bcc6-5d7b8050ffd5",
   "metadata": {
    "scrolled": true,
    "tags": []
   },
   "outputs": [
    {
     "name": "stdout",
     "output_type": "stream",
     "text": [
      "normalized_img =\n",
      " [[[0.04526749 0.04526749 0.04938272]\n",
      "  [0.04526749 0.04526749 0.04938272]\n",
      "  [0.04526749 0.04526749 0.04938272]\n",
      "  ...\n",
      "  [0.04526749 0.04526749 0.04938272]\n",
      "  [0.04526749 0.04526749 0.04938272]\n",
      "  [0.04526749 0.04526749 0.04938272]]\n",
      "\n",
      " [[0.04526749 0.04526749 0.04938272]\n",
      "  [0.0781893  0.08230453 0.08230453]\n",
      "  [0.07407407 0.07407407 0.0781893 ]\n",
      "  ...\n",
      "  [0.90946502 0.90946502 0.90946502]\n",
      "  [0.88065844 0.88065844 0.88477366]\n",
      "  [0.85596708 0.8600823  0.8600823 ]]\n",
      "\n",
      " [[0.04526749 0.04526749 0.04938272]\n",
      "  [0.07407407 0.07407407 0.07407407]\n",
      "  [0.07407407 0.07407407 0.07407407]\n",
      "  ...\n",
      "  [0.93415638 0.93415638 0.9382716 ]\n",
      "  [0.91358025 0.91358025 0.91358025]\n",
      "  [0.88888889 0.88888889 0.88888889]]\n",
      "\n",
      " ...\n",
      "\n",
      " [[0.04526749 0.04526749 0.04938272]\n",
      "  [0.91358025 0.91358025 0.91358025]\n",
      "  [0.9382716  0.9382716  0.94238683]\n",
      "  ...\n",
      "  [0.06584362 0.06584362 0.06584362]\n",
      "  [0.06995885 0.06995885 0.07407407]\n",
      "  [0.07407407 0.07407407 0.07407407]]\n",
      "\n",
      " [[0.04526749 0.04526749 0.04938272]\n",
      "  [0.91769547 0.91769547 0.9218107 ]\n",
      "  [0.94238683 0.94238683 0.94238683]\n",
      "  ...\n",
      "  [0.06584362 0.06584362 0.06584362]\n",
      "  [0.06995885 0.06995885 0.06995885]\n",
      "  [0.06995885 0.06995885 0.07407407]]\n",
      "\n",
      " [[0.04526749 0.04526749 0.04938272]\n",
      "  [0.88888889 0.88888889 0.88888889]\n",
      "  [0.91358025 0.91358025 0.91358025]\n",
      "  ...\n",
      "  [0.06995885 0.06995885 0.07407407]\n",
      "  [0.07407407 0.07407407 0.07407407]\n",
      "  [0.07407407 0.07407407 0.07407407]]]\n"
     ]
    },
    {
     "name": "stderr",
     "output_type": "stream",
     "text": [
      "C:\\Users\\shown\\AppData\\Local\\Temp\\ipykernel_4180\\2356471255.py:5: DeprecationWarning: Starting with ImageIO v3 the behavior of this function will switch to that of iio.v3.imread. To keep the current behavior (and make this warning disappear) use `import imageio.v2 as imageio` or call `imageio.v2.imread` directly.\n",
      "  img = imageio.imread(input_path)\n"
     ]
    }
   ],
   "source": [
    "# The path leads to a grayscale image.\n",
    "input_path = 'data/grayscale image.png' \n",
    "\n",
    "# Read the image as an array.\n",
    "img = imageio.imread(input_path) \n",
    "\n",
    "# Normalized the array of the image to the range [0, 1].\n",
    "normalized_img = img / img.max() \n",
    "\n",
    "print('normalized_img =\\n', normalized_img)"
   ]
  },
  {
   "cell_type": "markdown",
   "id": "877065a2",
   "metadata": {},
   "source": [
    "As abserved, the values are all normalized to the range $[0, 1]$ as expected."
   ]
  },
  {
   "cell_type": "code",
   "execution_count": 15,
   "id": "a96c8708-ada9-47cd-a231-36537b222e59",
   "metadata": {
    "scrolled": true,
    "tags": []
   },
   "outputs": [
    {
     "name": "stdout",
     "output_type": "stream",
     "text": [
      "normalized_img_ubyte =\n",
      " [[[ 12  12  13]\n",
      "  [ 12  12  13]\n",
      "  [ 12  12  13]\n",
      "  ...\n",
      "  [ 12  12  13]\n",
      "  [ 12  12  13]\n",
      "  [ 12  12  13]]\n",
      "\n",
      " [[ 12  12  13]\n",
      "  [ 20  21  21]\n",
      "  [ 19  19  20]\n",
      "  ...\n",
      "  [232 232 232]\n",
      "  [225 225 226]\n",
      "  [218 219 219]]\n",
      "\n",
      " [[ 12  12  13]\n",
      "  [ 19  19  19]\n",
      "  [ 19  19  19]\n",
      "  ...\n",
      "  [238 238 239]\n",
      "  [233 233 233]\n",
      "  [227 227 227]]\n",
      "\n",
      " ...\n",
      "\n",
      " [[ 12  12  13]\n",
      "  [233 233 233]\n",
      "  [239 239 240]\n",
      "  ...\n",
      "  [ 17  17  17]\n",
      "  [ 18  18  19]\n",
      "  [ 19  19  19]]\n",
      "\n",
      " [[ 12  12  13]\n",
      "  [234 234 235]\n",
      "  [240 240 240]\n",
      "  ...\n",
      "  [ 17  17  17]\n",
      "  [ 18  18  18]\n",
      "  [ 18  18  19]]\n",
      "\n",
      " [[ 12  12  13]\n",
      "  [227 227 227]\n",
      "  [233 233 233]\n",
      "  ...\n",
      "  [ 18  18  19]\n",
      "  [ 19  19  19]\n",
      "  [ 19  19  19]]]\n"
     ]
    }
   ],
   "source": [
    "# Convert the normalized image to 8-bit unsigned integer format(0-255).\n",
    "normalized_img_ubyte = img_as_ubyte(normalized_img) \n",
    "\n",
    "print('normalized_img_ubyte =\\n', normalized_img_ubyte)"
   ]
  },
  {
   "cell_type": "markdown",
   "id": "f49efb98-39f0-499e-843d-8eda0618db0c",
   "metadata": {},
   "source": [
    "At the end, the line `imageio.imsave(output_path, normalized_img_ubyte)` saves the last array to a new path specified by the variable `output_path`."
   ]
  },
  {
   "cell_type": "markdown",
   "id": "f5347869-c50d-4d5b-932a-23b9719bea54",
   "metadata": {},
   "source": [
    "### **Module 2: permittivity_tensors**"
   ]
  },
  {
   "cell_type": "markdown",
   "id": "8feb5574",
   "metadata": {},
   "source": [
    "This part introduces a series of functions to create permittivity tensor, scattering potential and so on."
   ]
  },
  {
   "cell_type": "markdown",
   "id": "446870aa-994b-456a-9e5f-c79af23dec50",
   "metadata": {},
   "source": [
    "#### **Imports**"
   ]
  },
  {
   "cell_type": "markdown",
   "id": "6f9fe0d9",
   "metadata": {},
   "source": [
    "*Source Code*"
   ]
  },
  {
   "cell_type": "code",
   "execution_count": 16,
   "id": "369194c3",
   "metadata": {},
   "outputs": [],
   "source": [
    "# %% Imports\n",
    "from typing import Optional, Tuple\n",
    "import imageio\n",
    "import jax\n",
    "import jax.numpy as jnp"
   ]
  },
  {
   "cell_type": "markdown",
   "id": "a71a3b63",
   "metadata": {},
   "source": [
    "*Explanation*"
   ]
  },
  {
   "cell_type": "markdown",
   "id": "aa52da50-aa76-4ee6-a6a7-1a735e418ed4",
   "metadata": {},
   "source": [
    "1. `typing` : A powerful tool to support type hints that allow developers to indicate the expected types of variables, function parameters, and return values in their code. It's beneficial in large projects, where it can prevent bugs and make the code easier to understand. `Optional` is one of the type hints which is used to indicate that a value could either be of a specific type or `none `. `Tuple` is used to specify the types of elements in a tuple. A tuple is an immutable sequence of elements that can be of different types.\n",
    "2. `imageio` : A versatile tool for reading (input) and saving (output) images in various formats. When an image is read using `imageio`, it is stored as an array, allowing for easy manipulation and processing.\n",
    "3. `jax` : A library designed to facilitate high-performance numerical computing, particularly for machine learning and scientific computing applications. `JAX` enables automatic differentiation, just-in-time (JIT) compilation, and efficient parallelization on both CPUs and GPUs. Additionally, it offers a Numpy-like API (`jax.numpy`)."
   ]
  },
  {
   "cell_type": "markdown",
   "id": "aa5bf058-9954-4ab6-a8fa-9a967a365054",
   "metadata": {},
   "source": [
    "#### **Function 1: generate_permittivity_tensor**"
   ]
  },
  {
   "cell_type": "markdown",
   "id": "b01e1210",
   "metadata": {},
   "source": [
    "*Source Code*"
   ]
  },
  {
   "cell_type": "code",
   "execution_count": 17,
   "id": "2a14bd70",
   "metadata": {},
   "outputs": [],
   "source": [
    "def generate_permittivity_tensor(\n",
    "    n_o: float, n_e: float, extraordinary_axis: Optional[str] = \"x\"\n",
    "):\n",
    "    \"\"\"\n",
    "    Generate the permittivity tensor for a uniaxial anisotropic material.\n",
    "\n",
    "    Args:\n",
    "        n_o (float): Ordinary refractive index\n",
    "        n_e (float): Extraordinary refractive index\n",
    "        extraordinary_axis (str): Axis which is extraordinary ('x', 'y', or 'z')\n",
    "\n",
    "    Returns:\n",
    "        jnp.ndarray: Permittivity tensor with the order of axes as zyx\n",
    "    \"\"\"\n",
    "    epsilon_o = n_o**2\n",
    "    epsilon_e = n_e**2\n",
    "    if extraordinary_axis == \"z\":\n",
    "        epsilon_tensor = jnp.array(\n",
    "            [[epsilon_e, 0, 0], [0, epsilon_o, 0], [0, 0, epsilon_o]]\n",
    "        )\n",
    "    elif extraordinary_axis == \"y\":\n",
    "        epsilon_tensor = jnp.array(\n",
    "            [[epsilon_o, 0, 0], [0, epsilon_e, 0], [0, 0, epsilon_o]]\n",
    "        )\n",
    "    elif extraordinary_axis == \"x\":\n",
    "        epsilon_tensor = jnp.array(\n",
    "            [[epsilon_o, 0, 0], [0, epsilon_o, 0], [0, 0, epsilon_e]]\n",
    "        )\n",
    "    else:\n",
    "        raise ValueError(\"extraordinary_axis must be one of 'x', 'y', or 'z'\")\n",
    "    return epsilon_tensor"
   ]
  },
  {
   "cell_type": "markdown",
   "id": "7cfd754b",
   "metadata": {},
   "source": [
    "*Explanation*"
   ]
  },
  {
   "cell_type": "markdown",
   "id": "5fffed86-630a-4d73-be05-f70fe7ff9d96",
   "metadata": {},
   "source": [
    "This function creates a permittivity tensor for an anisotropic material with the following inputs: \n",
    "1. `n_o` : $n_o=\\sqrt{\\varepsilon_0}$ for ordinary refractive index. \n",
    "2. `n_e` : $n_e=\\sqrt{\\varepsilon_e}$ ' for extraordinary refractive index.\n",
    "3. `extraordinary_axis`: A string indicating the axis that is extraordinary in the material. It can be either $z$, $y$, or $x$, depending on the desired extraordinary axis and permittivity tensor.\n",
    "\n",
    "For example, if we set `n_o = 1.2`, `n_e = 1.5`, and `extraordinary_axis = 'z'`, the permittivity tensor will have the following form:"
   ]
  },
  {
   "cell_type": "code",
   "execution_count": 18,
   "id": "6b4c7fc8",
   "metadata": {},
   "outputs": [
    {
     "name": "stdout",
     "output_type": "stream",
     "text": [
      "[[2.25 0.   0.  ]\n",
      " [0.   1.44 0.  ]\n",
      " [0.   0.   1.44]]\n"
     ]
    }
   ],
   "source": [
    "n_o, n_e = 1.2, 1.5\n",
    "extraordinary_axis = 'z'\n",
    "\n",
    "# call the function to create the permittivity tensor\n",
    "permittivity_tensor = generate_permittivity_tensor(n_o, n_e, extraordinary_axis)\n",
    "\n",
    "print(permittivity_tensor)"
   ]
  },
  {
   "cell_type": "markdown",
   "id": "17715d3e",
   "metadata": {},
   "source": [
    "Permittivity, denoted by $\\varepsilon$ is a crucial parameter in electromagenetism. It's a property of material describing how the material respond to an electric field and a measure of the electric polarizability of a dielectric material. A material with high permittivity polarizes more in response to an applied electric field than a material with low permittivity, thereby storing more energy in the material [@Permittivity]. In vacuum, the vacuum permittivity (also called electric constant) $\\varepsilon_0$ is approximately $8.854 \\times 10^{12} F/m$. \n",
    "\n",
    "By the way, there is permeability which is the measure of magnetization produced in a material in response to an applied magnetic field. Permeability is typically represented by $\\mu$. The magnetic permeability of vacuum (also called magnetic constant) $\\mu_0$ is approximately $4 \\times 10^{-7} H/m$ [@Permeability]. By the way, the speed of light in vacuum $c$ is related to the magnetic constant and the electric constant by the equation: \n",
    "\n",
    "$$c = \\frac{1}{\\sqrt{\\mu_0 \\epsilon_0}} \\approx 299,792,458 m/s \\tag{2.1.3}$$\n",
    "\n",
    "The reason for using a tensor to represent the permittivity is that in an anisotropic material (particularly crystals), the atoms have a periodic distribution with different symmetries in different directions. This results in different permittivities along different axes. Since the electric field in Cartesian coordinates also has three components, the permittivity tensor must be a $3 \\times 3$ matrix.\n",
    "\n",
    "However, in general, anisotropic media can be characterized by three independent permittivity elements in the principle coordinate system [@FoMO_Script]:\n",
    "\n",
    "$$(\\varepsilon_{ij}) = \\begin{bmatrix} \\varepsilon_1(\\omega) & 0 & 0 \\\\\n",
    "                                        0 & \\varepsilon_2(\\omega) & 9 \\\\\n",
    "                                        0 & 0 & \\varepsilon_3(\\omega) \\end{bmatrix} \\tag{2.1.4}$$\n",
    "\n",
    "where $\\omega$ is the angular frequency of the electromagnetic wave, $\\varepsilon_1(\\omega)$, $\\varepsilon_2(\\omega)$, and $\\varepsilon_3(\\omega)$ are the permittivities along the $z$, $y$, and $x$ axes, respectively.\n",
    "\n",
    "A uniaxial crystal has two crystallographically equivalent directions, which means that two of the permittivity elements are equal. These are called the ordinary dielectric constants, $\\epsilon_o$. The third permittivity element, which is different, is called the extraordinary dielectric constant, $\\epsilon_e$. Correspondingly, the crystal has ordinary axes and an extraordinary axis, also known as the optical axis."
   ]
  },
  {
   "cell_type": "markdown",
   "id": "c8a1e385",
   "metadata": {},
   "source": [
    "#### **Function 2: create_homogeneous_phantom**"
   ]
  },
  {
   "cell_type": "markdown",
   "id": "9e048d2c",
   "metadata": {},
   "source": [
    "*Source Code*"
   ]
  },
  {
   "cell_type": "code",
   "execution_count": 19,
   "id": "6cb95a0f",
   "metadata": {},
   "outputs": [],
   "source": [
    "def create_homogeneous_phantom(\n",
    "    shape: Tuple[int, int, int],\n",
    "    n_o: float,\n",
    "    n_e: float,\n",
    "    extraordinary_axis: Optional[str] = \"x\",\n",
    "):\n",
    "    \"\"\"\n",
    "    Create a homogeneous uniaxial anisotropic phantom.\n",
    "\n",
    "    Args:\n",
    "        shape (tuple): Shape of the phantom (z, y, x)\n",
    "        n_o (float): Ordinary refractive index\n",
    "        n_e (float): Extraordinary refractive index\n",
    "        extraordinary_axis (str): Axis which is extraordinary ('x', 'y', or 'z')\n",
    "\n",
    "    Returns:\n",
    "        jnp.ndarray: 4D array representing the phantom with the\n",
    "                    permittivity tensor at each voxel\n",
    "    \"\"\"\n",
    "    epsilon_tensor = generate_permittivity_tensor(n_o, n_e, extraordinary_axis)\n",
    "    phantom = jnp.tile(epsilon_tensor, (*shape, 1, 1))\n",
    "    return phantom"
   ]
  },
  {
   "cell_type": "markdown",
   "id": "432a0d73",
   "metadata": {},
   "source": [
    "*Explanation*"
   ]
  },
  {
   "cell_type": "markdown",
   "id": "4838c6ca",
   "metadata": {},
   "source": [
    "The code within this function is responsible for creating a homogeneous uniaxial anisotropic phantom, represented by a 4D array that holds the permittivity tensor at each voxel in a 3D volume. A voxel is a term derived from ' volumetric pixel ', representing a value on a regular grid in three-dimensional space, and it is the smallest unit of a 3D space.\n",
    "\n",
    "The function takes the following inputs:\n",
    "1. `shape` : A tuple representing the shape of the phantom (z, y, x). The number (Integer) of voxels in each dimension is given by `shape[0]`, `shape[1]`, and `shape[2]`, respectively.\n",
    "2. `n_o` : The ordinary refractive index of the material.\n",
    "3. `n_e` : The extraordinary refractive index of the material.\n",
    "4. `extraordinary_axis` : A string representing the axis that is extraordinary in the material\n",
    "\n",
    "The line `epsilon_tensor = generate_permittivity_tensor(n_o, n_e, extraordinary_axis)` calls the Function 1 to generate a permittivity tensor based on the given inputs. \n",
    "\n",
    "Next, the line `phantom = jnp.tile(epsilon_tensor, (*shape, 1, 1))` creates a 4D array called `phantom` by replicating the `epsilon_tensor` across the 3D shape specified by `shape` (the `*` operator is used to unpack the `shape` tuple and pass its elements as separate arguments to `jnp.tile()`). As a result, each voxel in the 3D space is assigned the same 3 $\\times$ 3 permittivity tensor, making the material homogeneous. The resulting array has a shape of `(z, y, x, 3, 3)`. \n",
    "\n",
    "The reason this resulting array is referred to as a 4D array rather than a 5D array is that the last two dimensions `(3, 3)`, which represent the permittivity tensor, are typically interpreted as a single entity associated with each voxel rather than as independent dimensions. Therefore, while the array is technically stored in memory as a 5D array, it's treated as a 4D array conceptually.\n",
    "\n",
    "To make it more clear, the `jnp.tile(A, reps)` function is used to replicate the array `A` along specific dimensions, with the argument `reps` being a tuple that specifies the number of repetitions for each dimension. In our case, `epsilon_tensor` is the array to be replicated, and `(*shape, 1, 1)` indicates that the array should be repeated `z`, `y`, and `x` times along the first three dimensions, and 1 time along the fourth and fifth dimensions (This ensures that the 3 $\\times$ 3 structure of `epsilon_tensor` is preserved).\n",
    "\n",
    "For example, if we set `shape = (1, 2, 3)`, `n_0 = 1.2`, `n_e = 1.5`, `extraordinary_axis = 'z'`, the resulting phantom will have the following shape:"
   ]
  },
  {
   "cell_type": "code",
   "execution_count": 20,
   "id": "b82fccd0",
   "metadata": {},
   "outputs": [
    {
     "name": "stdout",
     "output_type": "stream",
     "text": [
      "shape of the phantom = (1, 2, 3, 3, 3)\n",
      "phantom = \n",
      " [[[[[2.25 0.   0.  ]\n",
      "    [0.   1.44 0.  ]\n",
      "    [0.   0.   1.44]]\n",
      "\n",
      "   [[2.25 0.   0.  ]\n",
      "    [0.   1.44 0.  ]\n",
      "    [0.   0.   1.44]]\n",
      "\n",
      "   [[2.25 0.   0.  ]\n",
      "    [0.   1.44 0.  ]\n",
      "    [0.   0.   1.44]]]\n",
      "\n",
      "\n",
      "  [[[2.25 0.   0.  ]\n",
      "    [0.   1.44 0.  ]\n",
      "    [0.   0.   1.44]]\n",
      "\n",
      "   [[2.25 0.   0.  ]\n",
      "    [0.   1.44 0.  ]\n",
      "    [0.   0.   1.44]]\n",
      "\n",
      "   [[2.25 0.   0.  ]\n",
      "    [0.   1.44 0.  ]\n",
      "    [0.   0.   1.44]]]]]\n"
     ]
    }
   ],
   "source": [
    "shape = (1, 2, 3)\n",
    "n_o, n_e = 1.2, 1.5\n",
    "extraordinary_axis = 'z'\n",
    "\n",
    "# call the function to create the homogeneous phantom\n",
    "phantom = create_homogeneous_phantom(shape, n_o, n_e, extraordinary_axis)\n",
    "\n",
    "print('shape of the phantom =', phantom.shape)\n",
    "print('phantom = \\n', phantom)"
   ]
  },
  {
   "cell_type": "markdown",
   "id": "dc1fdbe3",
   "metadata": {},
   "source": [
    "#### **Function 3: create_calcite_crystal**"
   ]
  },
  {
   "cell_type": "markdown",
   "id": "8dead68c",
   "metadata": {},
   "source": [
    "*Source Code*"
   ]
  },
  {
   "cell_type": "code",
   "execution_count": 21,
   "id": "71b321f4",
   "metadata": {},
   "outputs": [],
   "source": [
    "def create_calcite_crystal(\n",
    "    shape: Tuple[int, int, int], extraordinary_axis: Optional[str] = \"z\"\n",
    "):\n",
    "    \"\"\"\n",
    "    Create a calcite crystal phantom.\n",
    "\n",
    "    Args:\n",
    "        shape (tuple): Shape of the phantom (z, y, x)\n",
    "        extraordinary_axis (str): Axis which is extraordinary ('x', 'y', or 'z')\n",
    "\n",
    "    Returns:\n",
    "        jnp.ndarray: 4D array representing the phantom with the\n",
    "                    permittivity tensor at each voxel\n",
    "    \"\"\"\n",
    "    n_o = 1.658\n",
    "    n_e = 1.486\n",
    "    return create_homogeneous_phantom(shape, n_o, n_e, extraordinary_axis)"
   ]
  },
  {
   "cell_type": "markdown",
   "id": "2f42ef16",
   "metadata": {},
   "source": [
    "*Explanation*"
   ]
  },
  {
   "cell_type": "markdown",
   "id": "c76e1272",
   "metadata": {},
   "source": [
    "This function creates a calcite crystal phantom by calling the function `create_homogeneous_phantom` and based on the given inputs:\n",
    "1. `shape` : A tuple representing the shape of the phantom (z, y, x). The number (Integer) of voxels in each dimension is given by `shape[0]`, `shape[1]`, and `shape[2]`, respectively.\n",
    "2. `extraordinary_axis` : A string representing the axis that is extraordinary in the material.\n",
    "The function uses the given ordinary refractive index `n_o` and extraordinary refractive index `n_e` to generate the phantom by simply calling the `create_homogeneous_phantom` function.\n",
    "\n",
    "Let's create a calcite crystal phantom with a shape of (2, 2, 2), and an extraordinary axis of 'z':"
   ]
  },
  {
   "cell_type": "code",
   "execution_count": 22,
   "id": "2fdd5bb1",
   "metadata": {},
   "outputs": [
    {
     "name": "stdout",
     "output_type": "stream",
     "text": [
      "shape of the calcite crystal phantom = (2, 2, 2, 3, 3)\n",
      "calcite_crystal =\n",
      " [[[[[2.208196 0.       0.      ]\n",
      "    [0.       2.748964 0.      ]\n",
      "    [0.       0.       2.748964]]\n",
      "\n",
      "   [[2.208196 0.       0.      ]\n",
      "    [0.       2.748964 0.      ]\n",
      "    [0.       0.       2.748964]]]\n",
      "\n",
      "\n",
      "  [[[2.208196 0.       0.      ]\n",
      "    [0.       2.748964 0.      ]\n",
      "    [0.       0.       2.748964]]\n",
      "\n",
      "   [[2.208196 0.       0.      ]\n",
      "    [0.       2.748964 0.      ]\n",
      "    [0.       0.       2.748964]]]]\n",
      "\n",
      "\n",
      "\n",
      " [[[[2.208196 0.       0.      ]\n",
      "    [0.       2.748964 0.      ]\n",
      "    [0.       0.       2.748964]]\n",
      "\n",
      "   [[2.208196 0.       0.      ]\n",
      "    [0.       2.748964 0.      ]\n",
      "    [0.       0.       2.748964]]]\n",
      "\n",
      "\n",
      "  [[[2.208196 0.       0.      ]\n",
      "    [0.       2.748964 0.      ]\n",
      "    [0.       0.       2.748964]]\n",
      "\n",
      "   [[2.208196 0.       0.      ]\n",
      "    [0.       2.748964 0.      ]\n",
      "    [0.       0.       2.748964]]]]]\n"
     ]
    }
   ],
   "source": [
    "shape = (2, 2, 2)\n",
    "extraordinary_axis = 'z'\n",
    "\n",
    "# call the function to create the calcite crystal phantom\n",
    "calcite_crystal = create_calcite_crystal(shape, extraordinary_axis)\n",
    "\n",
    "print('shape of the calcite crystal phantom =', calcite_crystal.shape)\n",
    "print('calcite_crystal =\\n', calcite_crystal)"
   ]
  },
  {
   "cell_type": "markdown",
   "id": "ed71b61d",
   "metadata": {},
   "source": [
    "#### **Function 4: create_scattering_potential**"
   ]
  },
  {
   "cell_type": "markdown",
   "id": "cf1d8d12",
   "metadata": {},
   "source": [
    "*Source Code*"
   ]
  },
  {
   "cell_type": "code",
   "execution_count": 23,
   "id": "79f2bd00",
   "metadata": {},
   "outputs": [],
   "source": [
    "def create_scattering_potential(permittivity_tensor, background_permittivity):\n",
    "    \"\"\"\n",
    "    Create the scattering potential from the permittivity tensor.\n",
    "\n",
    "    Args:\n",
    "        permittivity_tensor (jnp.ndarray): The permittivity tensor of the material.\n",
    "        background_permittivity (float): The permittivity of the background medium.\n",
    "\n",
    "    Returns:\n",
    "        jnp.ndarray: The scattering potential.\n",
    "    \"\"\"\n",
    "    # Calculate the permittivity contrast\n",
    "    contrast = permittivity_tensor - background_permittivity\n",
    "\n",
    "    # Scattering potential is proportional to the permittivity contrast\n",
    "    scattering_potential = contrast / background_permittivity\n",
    "\n",
    "    return scattering_potential"
   ]
  },
  {
   "cell_type": "markdown",
   "id": "264afb6d",
   "metadata": {},
   "source": [
    "*Explanation*"
   ]
  },
  {
   "cell_type": "markdown",
   "id": "3b31d418",
   "metadata": {},
   "source": [
    "This function is designed to calculate the scattering potential for a given phantom taking the inputs: `permittivity_tensor` and `background_permittivity`. The `permittivity_tensor`, which can be generated by Function 1, should be provided as an array.\n",
    "\n",
    "The code is straightforward. It begins by calculating the `permittivity_contrast`, which is obtained by subtracting the `background_permittivity` from the `permittivity_tensor`. Next, the `scattering_potential` is determined by dividing the `permittivity_contrast` by the `permittivity_tensor`:"
   ]
  },
  {
   "cell_type": "code",
   "execution_count": 24,
   "id": "b2a3e886",
   "metadata": {},
   "outputs": [
    {
     "name": "stdout",
     "output_type": "stream",
     "text": [
      "scatteriing potential =\n",
      " [[ 1.0454545  -1.         -1.        ]\n",
      " [-1.          0.30909094 -1.        ]\n",
      " [-1.         -1.          0.30909094]]\n"
     ]
    }
   ],
   "source": [
    "n_o, n_e = 1.2, 1.5\n",
    "extraordinary_axis = 'z'\n",
    "\n",
    "# call the function to create the permittivity tensor\n",
    "permittivity_tensor = generate_permittivity_tensor(n_o, n_e, extraordinary_axis)\n",
    "\n",
    "background_permittivity = 1.1 # Define the background_permittivity\n",
    "\n",
    "# Call the function to create the scattering potential\n",
    "scattering_potential = create_scattering_potential(permittivity_tensor, background_permittivity)\n",
    "\n",
    "print('scatteriing potential =\\n', scattering_potential)"
   ]
  },
  {
   "cell_type": "markdown",
   "id": "0b19825b",
   "metadata": {},
   "source": [
    "Let's dive into the physical background of the code. \n",
    "\n",
    "The permittivity contrast here is straightforward, it is the difference between the actual permittivity of the material and the background permittivity. The scattering potential, on the other hand, is a concept used in wave theory to describe how an inhomogeneity or a discontinuity in a medium scatters an incoming wave. \n",
    "\n",
    "To derive the methematical expression for the scattering potential, we have to start from Maxwell's equations. We consider a monochromatic electromagnetic field with time dependence $exp(-i \\omega t)$, incident on a linear, isotropic, nonmagnetic medium occupying a finite domain with no sources [@Principles_of_Optics]. Then, the Maxwell's equation reads:\n",
    "\n",
    "$$\\nabla \\times \\textbf{E(r)} = i \\omega \\textbf{B(r)} \\tag{2.1.5} $$  \n",
    "$$\\nabla \\cdot \\textbf{D(r)} = 0 \\tag{2.1.6} $$\n",
    "$$\\nabla \\times \\textbf{H(r)} = -i \\omega \\textbf{D(r)} \\tag{2.1.7}$$\n",
    "$$\\nabla \\cdot \\textbf{B(r)} = 0 \\tag{2.1.8}$$\n",
    "\n",
    "Where $\\textbf{E(r)}$ and $\\textbf{H(r)}$ are the electric and magnetic fields, respectively, $\\textbf{D(r)} = \\varepsilon_0 \\varepsilon(r) \\textbf{E(r)}$ is the electric flux density (also called the electric displacement field), and $\\textbf{B(r)} = \\mu_0 \\textbf{H(r)}$ is the magnetic flux density.\n",
    "\n",
    "By taking the curl of the first equation, we get:\n",
    "\n",
    "$$\\nabla \\times (\\nabla \\times \\textbf{E(r)}) = i \\omega \\mu_0 \\nabla \\times \\textbf{H(r)} \\tag{2.1.9}$$\n",
    "\n",
    "Using the vector identity:\n",
    "\n",
    "$$\\nabla \\times (\\nabla \\times \\textbf{E(r)}) = \\nabla(\\nabla \\cdot \\textbf{E(r)}) - \\nabla^2 \\textbf{E(r)} \\tag{2.1.10}$$\n",
    "\n",
    "And:\n",
    "\n",
    "$$\\nabla \\times \\textbf{H(r)} = -i \\omega \\textbf{D(r)} = -i \\omega \\varepsilon_0 \\varepsilon(r) \\textbf{E(r)} \\tag{2.1.11}$$\n",
    "\n",
    "$$\\nabla \\cdot \\textbf{D(r)} = \\varepsilon_0 \\varepsilon(r) \\nabla \\cdot \\textbf{E(r)} + \\varepsilon_0 \\textbf{E(r)} \\nabla \\varepsilon(r) = 0 \\tag{2.1.12}$$\n",
    "\n",
    "We can get the following equation:\n",
    "\n",
    "$$\\nabla^2 \\textbf{E(r)} + \\frac{\\omega^2}{c^2} \\varepsilon(r) \\textbf{E(r)} + \\nabla \\{ \\frac{\\nabla \\varepsilon(r)}{\\varepsilon(r)} \\cdot \\textbf{E(r)} \\} = 0 \\tag{2.1.13}$$\n",
    "\n",
    "Where $c$ is the speed of light in free space ($1/c^2 = \\mu_0 \\varepsilon_0$), and the wavenumber $k = \\omega / c$.\n",
    "\n",
    "We note that the last term on the left of the equation(13) couples the Cartesian components of the electric field. For this reason, the treatment of scattering based on this equation is rather complicated. The equation can be simplified if we assume that the dielectric constant (permittivity) $\\varepsilon(r)$ varies so slowly with position that it is effectively constant over distances of the order of the wavelength $\\lambda = 2 \\pi / k = 2 \\pi c / \\omega$. Under these circumstances, the last term on the left-hand side of the equation(13) may be neglected. We then obtain the equation [@Principles_of_Opticas]:\n",
    "\n",
    "$$\\nabla^2 \\textbf{E(r)} + k^2 \\varepsilon(r) \\textbf{E(r)} = 0 \\tag{2.1.14}$$\n",
    "\n",
    "Next, we can express the permittivity as the sum of a background permittivity $\\varepsilon_B$ and a contrast $\\Delta \\varepsilon(r)$:\n",
    "\n",
    "$$\\Delta \\varepsilon(r) = \\varepsilon(r) - \\varepsilon_B \\tag{2.1.15}$$\n",
    "\n",
    "Thus, we have:\n",
    "\n",
    "$$k^2 \\varepsilon(r) = k^2(\\varepsilon_B + \\Delta \\varepsilon(r)) = k^2 \\varepsilon_B(1 + \\frac{\\Delta \\varepsilon(r)}{\\varepsilon_B}) \\tag{2.1.16}$$\n",
    "\n",
    "It will be convenient to re-write equation(14) in the form:\n",
    "\n",
    "$$\\nabla^2 \\textbf{E(r)} + k^2 \\varepsilon_B \\textbf{E(r)} = - k^2 \\frac{\\Delta \\varepsilon(r)}{\\varepsilon_B} \\textbf{E(r)} = - F(r) \\textbf{E(r)} \\tag{2.1.17}$$\n",
    "\n",
    "The function $F(r)$ is usually called the $\\textbf{scattering potential}$ of the medium. Since $k$ is constant for a monochromatic wave, calculating the $\\Delta \\varepsilon(r) / \\varepsilon_B$ is sufficient to determine the scattering potential. This is why the code includes the line: `scattering_potential = contrast / background_permittivity`."
   ]
  },
  {
   "cell_type": "markdown",
   "id": "ca17d4fd",
   "metadata": {},
   "source": [
    "#### **Function 5: permittivity_tensor_from_pixel**"
   ]
  },
  {
   "cell_type": "markdown",
   "id": "a23b7354",
   "metadata": {},
   "source": [
    "*Source Code*"
   ]
  },
  {
   "cell_type": "code",
   "execution_count": 25,
   "id": "bde760fc",
   "metadata": {},
   "outputs": [],
   "source": [
    "def permittivity_tensor_from_pixel(\n",
    "    pixel_value, n_o_base=1.55, n_e_base=1.55, scale=0.5\n",
    "):\n",
    "    # The difference between n_o and n_e increases with the pixel value\n",
    "    n_o = n_o_base + scale * pixel_value\n",
    "    n_e = n_e_base - scale * pixel_value\n",
    "    return generate_permittivity_tensor(n_o, n_e)"
   ]
  },
  {
   "cell_type": "markdown",
   "id": "033e63a1",
   "metadata": {},
   "source": [
    "*Explanation*"
   ]
  },
  {
   "cell_type": "markdown",
   "id": "729a6123",
   "metadata": {},
   "source": [
    "The function is designed to calculate the ordinary and extraordinary refractive indices `n_o` and `n_e` based on a pixel value and then generates the corresponding permittivity tensor. The function takes the following inputs:\n",
    "1. `pixel_value` : Represents the pixel intensity value(a measure of brightness or color in an image), which modifies the ordinary refractive index `n_o` and extraoedinary refractive index `n_e` of the material. The pixel value should be first normalized to a range between 0 and 1.\n",
    "2. `n_o_base` : The base ordinary refractive index, which is default to 1.55.\n",
    "3. `n_e_base` : The base extraordinary refractive index, which is also default to 1.55.\n",
    "4. `scale` : A scaling factor that determines how the refractive indices change with the pixel value.\n",
    "\n",
    "Ordinarily, in a grayscale image, each pixel has a single value representing the intensity of light at that pixel. The value typically ranges from 0 (black) to 255 (white) in 8-bit images. In color images, each pixel consists of multiple values (usually 3 for RGB images), with each value representing the intensity of the Red, Green, and Blue color channels. Each channel’s intensity is typically in the 0-255 range for 8-bit images. However, since refractive indices cannot be very large or negative, we need to normalize the pixel values to a range between 0 and 1.\n",
    "\n",
    "The line `n_o = n_o_base + scale * pixel_value` calculates the ordinary refractive index, which increases with pixel value. Similarly, the line `n_e = n_e_base + scale * pixel_value` calculates the extraordinary refractive index, which decreases with pixel value. Therefore, an ordinary wave will experience more refraction and an extraordinary wave will experience less refraction.\n",
    "\n",
    "The function finally call the function `generate_permittivity_tensor` to genearate a permittivity tensor based on a pixel value. For example, if we set the pixel value as 0.78, we will have:"
   ]
  },
  {
   "cell_type": "code",
   "execution_count": 26,
   "id": "d615697a",
   "metadata": {},
   "outputs": [
    {
     "name": "stdout",
     "output_type": "stream",
     "text": [
      "tensor_from_pixel = \n",
      " <function permittivity_tensor_from_pixel at 0x0000023D306449A0>\n"
     ]
    }
   ],
   "source": [
    "pixel_value = 0.78\n",
    "n_o_base, n_e_base = 1.55, 1.55\n",
    "scale = 0.5\n",
    "\n",
    "n_o = n_o_base + scale * pixel_value\n",
    "n_e = n_e_base - scale * pixel_value\n",
    "\n",
    "tensor_from_pixel = generate_permittivity_tensor(n_o, n_e)\n",
    "\n",
    "print('tensor_from_pixel = \\n', permittivity_tensor_from_pixel)"
   ]
  },
  {
   "cell_type": "markdown",
   "id": "2388ede8",
   "metadata": {},
   "source": [
    "#### **Function 6: vectorized_permittivity_tensor_from_pixel**"
   ]
  },
  {
   "cell_type": "markdown",
   "id": "00bae2e5",
   "metadata": {},
   "source": [
    "*Source Code*"
   ]
  },
  {
   "cell_type": "code",
   "execution_count": 27,
   "id": "cec0bacd",
   "metadata": {},
   "outputs": [],
   "source": [
    "def vectorized_permittivity_tensor_from_pixel(\n",
    "    img, n_o_base=1.55, n_e_base=1.55, scale=0.5\n",
    "):\n",
    "    vmap_func = jax.vmap(\n",
    "        lambda pixel: permittivity_tensor_from_pixel(pixel, n_o_base, n_e_base, scale)\n",
    "    )\n",
    "    return jax.vmap(vmap_func)(img)"
   ]
  },
  {
   "cell_type": "markdown",
   "id": "9eb1f182",
   "metadata": {},
   "source": [
    "*Explanation*"
   ]
  },
  {
   "cell_type": "markdown",
   "id": "6c83bdb2",
   "metadata": {},
   "source": [
    "This function aims to vectorize the `permittivity_tensor_from_pixel` function to operate on an entire 2D image using the `jax.vmap` function, where each pixel in the image is treated as an individual scalar value that is passed to the `permittivity_tensor_from_pixel` function. The function takes the following inputs:\n",
    "1. `img`: An normalized array which can be read from an image using `imageio.imread()`.\n",
    "2. `n_o_base` : The base ordinary refractive index, which is default to 1.55.\n",
    "3. `n_e_base` : The base extraordinary refractive index, which is also default to 1.55.\n",
    "4. `scale` : A scaling factor that determines how the refractive indices change with the pixel value.\n",
    "\n",
    "In the code, a new function `jax.vmap` is used. It's a function in the JAX library that allows you to vectorize a function, meaning it can automatically apply a function over arrays in a batched manner. Instead of manually writing loops to apply a function to every element of an array, `jax.vmap` helps you apply the function efficiently to each element or batch of elements in parallel.\n",
    "\n",
    "For example, we define a function that adds one to the input and call it to do a simple test:"
   ]
  },
  {
   "cell_type": "code",
   "execution_count": 28,
   "id": "9e9ffb15",
   "metadata": {},
   "outputs": [
    {
     "name": "stdout",
     "output_type": "stream",
     "text": [
      "x = 1\n"
     ]
    }
   ],
   "source": [
    "# Define a function that returns 1 if x >= 0, otherwise 0\n",
    "def threshold_func(x):\n",
    "    return jnp.where(x >=0, 1, 0)\n",
    "\n",
    "# Call the function\n",
    "x = threshold_func(1)\n",
    "\n",
    "print('x =', x)"
   ]
  },
  {
   "cell_type": "markdown",
   "id": "5de17d27",
   "metadata": {},
   "source": [
    "Now, we apply this function to each element of an array using `jax.vmap` and use the vectorized function to do a test:"
   ]
  },
  {
   "cell_type": "code",
   "execution_count": 29,
   "id": "44b2b3d0",
   "metadata": {},
   "outputs": [
    {
     "name": "stdout",
     "output_type": "stream",
     "text": [
      "[0 1 0 1 0]\n"
     ]
    }
   ],
   "source": [
    "# Define an array\n",
    "x_array = jnp.array([-1, 2, -3, 4, -5])\n",
    "\n",
    "# Vectorizing the function with vmap:\n",
    "vectorized_threshold = jax.vmap(threshold_func)\n",
    "# Call the vectorized function\n",
    "result_vectorized = vectorized_threshold(x_array)\n",
    "\n",
    "print(result_vectorized)"
   ]
  },
  {
   "cell_type": "markdown",
   "id": "cfa2a0f0",
   "metadata": {},
   "source": [
    "`lambda pixel: permittivity_tensor_from_pixel(pixel, n_o_base, n_e_base, scale)` is an anonymous function (lambda function) that takes a single argument `pixel`. For each pixel, it calls `permittivity_tensor_from_pixel(pixel, n_o_base, n_e_base, scale)`, which means it computes the permittivity tensor for specific pixels using the provided values (n_o_base, n_e_base, scale) and passing in the `pixel` value.\n",
    "\n",
    "The `lambda` function in Python is a way to create small, nameless functions. It's often used when you need a simple function for a short operation, without formally defining it using the `def` keyword. The general syntax of a lambda function is `lambda arguments: expression`. For example, we can create a lambda function that adds 1 to a number:"
   ]
  },
  {
   "cell_type": "code",
   "execution_count": 30,
   "id": "d3cfb202",
   "metadata": {},
   "outputs": [
    {
     "name": "stdout",
     "output_type": "stream",
     "text": [
      "add_one = 2\n"
     ]
    }
   ],
   "source": [
    "# Create a lambda function that adds one to the input\n",
    "add_one = lambda x: x + 1\n",
    "print('add_one =', add_one(1))"
   ]
  },
  {
   "cell_type": "markdown",
   "id": "c2de0185",
   "metadata": {},
   "source": [
    "The first `jax.vmap()` in the source code wraps the lambda function which operates on a single pixel, and transforms it into a vectorized function `vamap_func` that can handle a row of pixels at once. \n",
    "\n",
    "The second one, namely, `jax.vmap(vmap_func)(img)` creates a vectorized version of the function `vmap_func`. Since `vmap_func` is already a function that processes a 1D array of pixels, `jax.vmap(vmap_func)` transforms it into a new function that processes a 2D array(e.g. an entire image). The second set of parentheses applies the vectorized function to the input data `img`.\n",
    "\n",
    "Let's calculate the permittivity tensors supposing we have a 2 $\\times$ 2 image `img` like this:"
   ]
  },
  {
   "cell_type": "code",
   "execution_count": 31,
   "id": "fbd5a93e",
   "metadata": {},
   "outputs": [
    {
     "name": "stdout",
     "output_type": "stream",
     "text": [
      "tensor =\n",
      " [[2.25 0.   0.  ]\n",
      " [0.   1.44 0.  ]\n",
      " [0.   0.   1.44]]\n"
     ]
    }
   ],
   "source": [
    "# Create an array of a 2x2 image\n",
    "img = jnp.array([[0.28, 0.33], \n",
    "                 [0.77, 0.66]])\n",
    "\n",
    "# Call the vectorized function to the image\n",
    "tensor = vectorized_permittivity_tensor_from_pixel(img)\n",
    "\n",
    "print('tensor =\\n', permittivity_tensor)"
   ]
  },
  {
   "cell_type": "markdown",
   "id": "870ca231",
   "metadata": {},
   "source": [
    "The result is a 4D array of shape `(2, 2, 3, 3)`, since each pixel is converted into a `3x3` tensor. The first and second `2` represent the number of rows and columns in the original image respectively, and the first and second `3` represent the first and second dimension of the 3x3 permittivity tensor respectively for each pixel."
   ]
  },
  {
   "cell_type": "markdown",
   "id": "57d99f20",
   "metadata": {},
   "source": [
    "#### **Function 7: create_homogeneous_scattering_potential** "
   ]
  },
  {
   "cell_type": "markdown",
   "id": "e12c0890",
   "metadata": {},
   "source": [
    "*Source Code*"
   ]
  },
  {
   "cell_type": "code",
   "execution_count": 32,
   "id": "2f6bbb3d",
   "metadata": {},
   "outputs": [],
   "source": [
    "def create_homogeneous_scattering_potential(\n",
    "    shape: Tuple[int, int, int], n_o: float, n_e: float, background_permittivity: float\n",
    "):\n",
    "    \"\"\"\n",
    "    Create a homogeneous uniaxial anisotropic scattering potential.\n",
    "\n",
    "    Args:\n",
    "        shape (tuple): Shape of the phantom (z, y, x)\n",
    "        n_o (float): Ordinary refractive index\n",
    "        n_e (float): Extraordinary refractive index\n",
    "        background_permittivity (float): Background permittivity\n",
    "\n",
    "    Returns:\n",
    "        jnp.ndarray: 4D array representing the scattering potential\n",
    "    \"\"\"\n",
    "    permittivity_tensor = create_homogeneous_phantom(shape, n_o, n_e)\n",
    "    scattering_potential = create_scattering_potential(\n",
    "        permittivity_tensor, background_permittivity\n",
    "    )\n",
    "    return scattering_potential"
   ]
  },
  {
   "cell_type": "markdown",
   "id": "7276dffa",
   "metadata": {},
   "source": [
    "*Explanation*"
   ]
  },
  {
   "cell_type": "markdown",
   "id": "911a4e93",
   "metadata": {},
   "source": [
    "This function aims to generate a homogeneous unaxial anisotropic scattering potential for a given 3D shape by simply calling the defined functions `create_homogeneous_phantom` and `create_scattering_potential`. The function takes the following inputs:\n",
    "1. `shape` : A tuple representing the shape of the phantom (z, y, x). The number (Integer) of voxels in each dimension is given by `shape[0]`, `shape[1]`, and `shape[2]`, respectively.\n",
    "2. `n_o` : The ordinary refractive index of the material.\n",
    "3. `n_e` : The extraordinary refractive index of the material.\n",
    "4. `background_permittivity` : Background permittivity of the medium. The scattering potential is calculated based on the difference between the permittivity of the material and the background permittivity.\n",
    "\n",
    "For example:"
   ]
  },
  {
   "cell_type": "code",
   "execution_count": 33,
   "id": "77f5a4c8",
   "metadata": {},
   "outputs": [
    {
     "name": "stdout",
     "output_type": "stream",
     "text": [
      "scattering_potential =\n",
      " [[[[[ 0.30208328 -1.         -1.        ]\n",
      "    [-1.          0.30208328 -1.        ]\n",
      "    [-1.         -1.          1.0020832 ]]\n",
      "\n",
      "   [[ 0.30208328 -1.         -1.        ]\n",
      "    [-1.          0.30208328 -1.        ]\n",
      "    [-1.         -1.          1.0020832 ]]\n",
      "\n",
      "   [[ 0.30208328 -1.         -1.        ]\n",
      "    [-1.          0.30208328 -1.        ]\n",
      "    [-1.         -1.          1.0020832 ]]]\n",
      "\n",
      "\n",
      "  [[[ 0.30208328 -1.         -1.        ]\n",
      "    [-1.          0.30208328 -1.        ]\n",
      "    [-1.         -1.          1.0020832 ]]\n",
      "\n",
      "   [[ 0.30208328 -1.         -1.        ]\n",
      "    [-1.          0.30208328 -1.        ]\n",
      "    [-1.         -1.          1.0020832 ]]\n",
      "\n",
      "   [[ 0.30208328 -1.         -1.        ]\n",
      "    [-1.          0.30208328 -1.        ]\n",
      "    [-1.         -1.          1.0020832 ]]]]]\n"
     ]
    }
   ],
   "source": [
    "shape = (1, 2, 3)\n",
    "n_o, n_e = 1.25, 1.55\n",
    "background_permittivity = 1.2\n",
    "\n",
    "# Call the function to create the homogeneous scattering potential\n",
    "scattering_potential = create_homogeneous_scattering_potential(shape, n_o, n_e, background_permittivity)\n",
    "\n",
    "print('scattering_potential =\\n', scattering_potential)"
   ]
  },
  {
   "cell_type": "markdown",
   "id": "3931be36",
   "metadata": {},
   "source": [
    "As the result shows, the function returns an array with a shape of `(1, 2, 3, 3, 3)`. The dimensions `1`, `2`, `3` represent the number of voxels along $z$, $y$, and $x$ directions respectively. The two trailing `3`s correspond to the two dimensions of the permittivity tensors for each voxel. In other words, each voxel in the `shape` is converted to a 2D array representing its permittivity tensor."
   ]
  },
  {
   "cell_type": "markdown",
   "id": "22fc0d8f",
   "metadata": {},
   "source": [
    "#### **Function 8: process_image_to_epsilon_r**"
   ]
  },
  {
   "cell_type": "markdown",
   "id": "1c794262",
   "metadata": {},
   "source": [
    "*Source Code*"
   ]
  },
  {
   "cell_type": "code",
   "execution_count": 34,
   "id": "c0d4a372",
   "metadata": {},
   "outputs": [],
   "source": [
    "def process_image_to_epsilon_r(input_path, n_o=1.658, n_e=1.486):\n",
    "    img = imageio.imread(input_path)\n",
    "    img = img / img.max()\n",
    "    jax_img = jnp.array(img)\n",
    "\n",
    "    n_avg = (n_o + n_e) / 2\n",
    "    scale = (n_o - n_e) / 2\n",
    "    epsilon_img = vectorized_permittivity_tensor_from_pixel(\n",
    "        jax_img, n_avg, n_avg, scale\n",
    "    )\n",
    "\n",
    "    # Tile the epsilon tensor\n",
    "    epsilon_r = jnp.tile(epsilon_img, (10, 1, 1, 1, 1))\n",
    "\n",
    "    return epsilon_r"
   ]
  },
  {
   "cell_type": "markdown",
   "id": "a2d7a9b2",
   "metadata": {},
   "source": [
    "*Explanation*"
   ]
  },
  {
   "cell_type": "markdown",
   "id": "a4316848",
   "metadata": {},
   "source": [
    "The function is designed to process an image and convert it into an array of permittivity tensors for further calculations such as being calculated as background permittivity. The function takes three inputs:\n",
    "1. `input_path` : The file path of the image to be processed.\n",
    "2. `n_o` : The ordinary refractive index (default = 1.658).\n",
    "3. `n_e` : The extraordinary refractive index (default = 1.486).\n",
    "\n",
    "To process an image to `epsilon_r`, the image is first read from `input_path` using `imageio.imread` as an array of pixel values (normally, 0-255). These pixel values are then nromalized by dividing them by the maximum value in the image (`img = img / img.max()`), which results in an array of values scaled between 0 and 1. And the normalized image is converted into a JAX array (`jax_img = jnp.array(img)`).\n",
    "\n",
    "Then, the code calculates the average refractive index (`n_avg`) and the scaling factor (`scale`) based on the given ordinary and extraordinary refractive index. Next, the code calls the function `vectorized_permittivity_tensor_from_pixel` to apply to the `jax_img` array, using the calculated `n_avg` and `scale`, which convertes the pixel values into permittivity tensors for each pixel.\n",
    "\n",
    "Finally, the code tiles the epsilon tensor by repeating it 10 times along the first dimension using `jax.tile()`. As the first dimenstion is $z$ direction, the tiling is actually adding depth to the image. And the other dimensions `(1, 1, 1, 1)` indicates that no tiling is done along other dimensions which is $y$, $x$, and the $3 \\times 3$ tensor elements.\n",
    "\n",
    "Suppose we have a normalized $2 \\times 2$ array representing a grayscale image with only 4 pixels, and then calculate the `epsilon_img` and `epsilon_r`:"
   ]
  },
  {
   "cell_type": "code",
   "execution_count": 35,
   "id": "98824e03",
   "metadata": {},
   "outputs": [
    {
     "name": "stdout",
     "output_type": "stream",
     "text": [
      "epsilon_img =\n",
      " [[[[2.5675511 0.        0.       ]\n",
      "   [0.        2.5675511 0.       ]\n",
      "   [0.        0.        2.3766603]]\n",
      "\n",
      "  [[2.686865  0.        0.       ]\n",
      "   [0.        2.686865  0.       ]\n",
      "   [0.        0.        2.2645257]]]\n",
      "\n",
      "\n",
      " [[[2.5170903 0.        0.       ]\n",
      "   [0.        2.5170903 0.       ]\n",
      "   [0.        0.        2.4257004]]\n",
      "\n",
      "  [[2.7154164 0.        0.       ]\n",
      "   [0.        2.7154164 0.       ]\n",
      "   [0.        0.        2.2384589]]]]\n"
     ]
    }
   ],
   "source": [
    "# Crear a 2 x 2 image array.\n",
    "jax_img = jnp.array([[0.353, 0.781], [0.169, 0.882]])\n",
    "\n",
    "# Calculate n_avg and scale.\n",
    "n_o, n_e = 1.658, 1.486\n",
    "n_avg = (n_o + n_e) / 2\n",
    "scale = (n_o - n_e) / 2\n",
    "\n",
    "# Call the Function 6 to create the epsilon tensor.\n",
    "epsilon_img = vectorized_permittivity_tensor_from_pixel(jax_img, n_avg, n_avg, scale)\n",
    "\n",
    "print('epsilon_img =\\n', epsilon_img)"
   ]
  },
  {
   "cell_type": "code",
   "execution_count": 36,
   "id": "7d647d26",
   "metadata": {},
   "outputs": [
    {
     "name": "stdout",
     "output_type": "stream",
     "text": [
      "shape of epsilon_r = (10, 2, 2, 3, 3)\n",
      "epsilon_r =\n",
      " [[[[[2.5675511 0.        0.       ]\n",
      "    [0.        2.5675511 0.       ]\n",
      "    [0.        0.        2.3766603]]\n",
      "\n",
      "   [[2.686865  0.        0.       ]\n",
      "    [0.        2.686865  0.       ]\n",
      "    [0.        0.        2.2645257]]]\n",
      "\n",
      "\n",
      "  [[[2.5170903 0.        0.       ]\n",
      "    [0.        2.5170903 0.       ]\n",
      "    [0.        0.        2.4257004]]\n",
      "\n",
      "   [[2.7154164 0.        0.       ]\n",
      "    [0.        2.7154164 0.       ]\n",
      "    [0.        0.        2.2384589]]]]\n",
      "\n",
      "\n",
      "\n",
      " [[[[2.5675511 0.        0.       ]\n",
      "    [0.        2.5675511 0.       ]\n",
      "    [0.        0.        2.3766603]]\n",
      "\n",
      "   [[2.686865  0.        0.       ]\n",
      "    [0.        2.686865  0.       ]\n",
      "    [0.        0.        2.2645257]]]\n",
      "\n",
      "\n",
      "  [[[2.5170903 0.        0.       ]\n",
      "    [0.        2.5170903 0.       ]\n",
      "    [0.        0.        2.4257004]]\n",
      "\n",
      "   [[2.7154164 0.        0.       ]\n",
      "    [0.        2.7154164 0.       ]\n",
      "    [0.        0.        2.2384589]]]]\n",
      "\n",
      "\n",
      "\n",
      " [[[[2.5675511 0.        0.       ]\n",
      "    [0.        2.5675511 0.       ]\n",
      "    [0.        0.        2.3766603]]\n",
      "\n",
      "   [[2.686865  0.        0.       ]\n",
      "    [0.        2.686865  0.       ]\n",
      "    [0.        0.        2.2645257]]]\n",
      "\n",
      "\n",
      "  [[[2.5170903 0.        0.       ]\n",
      "    [0.        2.5170903 0.       ]\n",
      "    [0.        0.        2.4257004]]\n",
      "\n",
      "   [[2.7154164 0.        0.       ]\n",
      "    [0.        2.7154164 0.       ]\n",
      "    [0.        0.        2.2384589]]]]\n",
      "\n",
      "\n",
      "\n",
      " [[[[2.5675511 0.        0.       ]\n",
      "    [0.        2.5675511 0.       ]\n",
      "    [0.        0.        2.3766603]]\n",
      "\n",
      "   [[2.686865  0.        0.       ]\n",
      "    [0.        2.686865  0.       ]\n",
      "    [0.        0.        2.2645257]]]\n",
      "\n",
      "\n",
      "  [[[2.5170903 0.        0.       ]\n",
      "    [0.        2.5170903 0.       ]\n",
      "    [0.        0.        2.4257004]]\n",
      "\n",
      "   [[2.7154164 0.        0.       ]\n",
      "    [0.        2.7154164 0.       ]\n",
      "    [0.        0.        2.2384589]]]]\n",
      "\n",
      "\n",
      "\n",
      " [[[[2.5675511 0.        0.       ]\n",
      "    [0.        2.5675511 0.       ]\n",
      "    [0.        0.        2.3766603]]\n",
      "\n",
      "   [[2.686865  0.        0.       ]\n",
      "    [0.        2.686865  0.       ]\n",
      "    [0.        0.        2.2645257]]]\n",
      "\n",
      "\n",
      "  [[[2.5170903 0.        0.       ]\n",
      "    [0.        2.5170903 0.       ]\n",
      "    [0.        0.        2.4257004]]\n",
      "\n",
      "   [[2.7154164 0.        0.       ]\n",
      "    [0.        2.7154164 0.       ]\n",
      "    [0.        0.        2.2384589]]]]\n",
      "\n",
      "\n",
      "\n",
      " [[[[2.5675511 0.        0.       ]\n",
      "    [0.        2.5675511 0.       ]\n",
      "    [0.        0.        2.3766603]]\n",
      "\n",
      "   [[2.686865  0.        0.       ]\n",
      "    [0.        2.686865  0.       ]\n",
      "    [0.        0.        2.2645257]]]\n",
      "\n",
      "\n",
      "  [[[2.5170903 0.        0.       ]\n",
      "    [0.        2.5170903 0.       ]\n",
      "    [0.        0.        2.4257004]]\n",
      "\n",
      "   [[2.7154164 0.        0.       ]\n",
      "    [0.        2.7154164 0.       ]\n",
      "    [0.        0.        2.2384589]]]]\n",
      "\n",
      "\n",
      "\n",
      " [[[[2.5675511 0.        0.       ]\n",
      "    [0.        2.5675511 0.       ]\n",
      "    [0.        0.        2.3766603]]\n",
      "\n",
      "   [[2.686865  0.        0.       ]\n",
      "    [0.        2.686865  0.       ]\n",
      "    [0.        0.        2.2645257]]]\n",
      "\n",
      "\n",
      "  [[[2.5170903 0.        0.       ]\n",
      "    [0.        2.5170903 0.       ]\n",
      "    [0.        0.        2.4257004]]\n",
      "\n",
      "   [[2.7154164 0.        0.       ]\n",
      "    [0.        2.7154164 0.       ]\n",
      "    [0.        0.        2.2384589]]]]\n",
      "\n",
      "\n",
      "\n",
      " [[[[2.5675511 0.        0.       ]\n",
      "    [0.        2.5675511 0.       ]\n",
      "    [0.        0.        2.3766603]]\n",
      "\n",
      "   [[2.686865  0.        0.       ]\n",
      "    [0.        2.686865  0.       ]\n",
      "    [0.        0.        2.2645257]]]\n",
      "\n",
      "\n",
      "  [[[2.5170903 0.        0.       ]\n",
      "    [0.        2.5170903 0.       ]\n",
      "    [0.        0.        2.4257004]]\n",
      "\n",
      "   [[2.7154164 0.        0.       ]\n",
      "    [0.        2.7154164 0.       ]\n",
      "    [0.        0.        2.2384589]]]]\n",
      "\n",
      "\n",
      "\n",
      " [[[[2.5675511 0.        0.       ]\n",
      "    [0.        2.5675511 0.       ]\n",
      "    [0.        0.        2.3766603]]\n",
      "\n",
      "   [[2.686865  0.        0.       ]\n",
      "    [0.        2.686865  0.       ]\n",
      "    [0.        0.        2.2645257]]]\n",
      "\n",
      "\n",
      "  [[[2.5170903 0.        0.       ]\n",
      "    [0.        2.5170903 0.       ]\n",
      "    [0.        0.        2.4257004]]\n",
      "\n",
      "   [[2.7154164 0.        0.       ]\n",
      "    [0.        2.7154164 0.       ]\n",
      "    [0.        0.        2.2384589]]]]\n",
      "\n",
      "\n",
      "\n",
      " [[[[2.5675511 0.        0.       ]\n",
      "    [0.        2.5675511 0.       ]\n",
      "    [0.        0.        2.3766603]]\n",
      "\n",
      "   [[2.686865  0.        0.       ]\n",
      "    [0.        2.686865  0.       ]\n",
      "    [0.        0.        2.2645257]]]\n",
      "\n",
      "\n",
      "  [[[2.5170903 0.        0.       ]\n",
      "    [0.        2.5170903 0.       ]\n",
      "    [0.        0.        2.4257004]]\n",
      "\n",
      "   [[2.7154164 0.        0.       ]\n",
      "    [0.        2.7154164 0.       ]\n",
      "    [0.        0.        2.2384589]]]]]\n"
     ]
    }
   ],
   "source": [
    "# Calculate epsilon_r\n",
    "epsilon_r = jnp.tile(epsilon_img, (10, 1, 1, 1, 1))\n",
    "\n",
    "print('shape of epsilon_r =', epsilon_r.shape)\n",
    "print('epsilon_r =\\n', epsilon_r)"
   ]
  },
  {
   "cell_type": "markdown",
   "id": "0c93b4f5",
   "metadata": {},
   "source": [
    "As the result shows, the shape of `epsilon_r` is `(10, 2, 2, 3, 3)`. The shape indicates that there are ten `epsilon_img`s in the `epsilon_r` along $z$ direction, each `epsilon_ing` consists of two rows and two columns of tensors, and each tensor consists of three rows and three columns of values."
   ]
  },
  {
   "cell_type": "markdown",
   "id": "96d3eff6",
   "metadata": {},
   "source": [
    "#### **Function 9: calc_scattering_potential**"
   ]
  },
  {
   "cell_type": "markdown",
   "id": "57afd64d",
   "metadata": {},
   "source": [
    "*Source Code*"
   ]
  },
  {
   "cell_type": "code",
   "execution_count": 37,
   "id": "2e6e7523",
   "metadata": {},
   "outputs": [],
   "source": [
    "def calc_scattering_potential(epsilon_r, refractive_index, wavelength):\n",
    "    \"\"\"\n",
    "    Create the scattering potential from the permittivity tensor.\n",
    "\n",
    "    Args:\n",
    "        epsilon_r (jnp.ndarray): The permittivity tensor of the material.\n",
    "        refractive_index (float): The refractive index of the background medium.\n",
    "        wavelength (float): The wavelength of the light (microns).\n",
    "\n",
    "    Returns:\n",
    "        jnp.ndarray: The scattering potential.\n",
    "    \"\"\"\n",
    "    k_0 = 2 * jnp.pi / wavelength\n",
    "    vol_shape = epsilon_r.shape[:3]\n",
    "    epsilon_m = jnp.tile(jnp.eye(3) * refractive_index**2, (*vol_shape, 1, 1))\n",
    "    scattering_potential = k_0**2 * (epsilon_m - epsilon_r)\n",
    "    return scattering_potential"
   ]
  },
  {
   "cell_type": "markdown",
   "id": "05078a66",
   "metadata": {},
   "source": [
    "*Explanation*"
   ]
  },
  {
   "cell_type": "markdown",
   "id": "a6845a73",
   "metadata": {},
   "source": [
    "The function calculates the scattering potential from a given permittivity tensor (`epsilon_r`), refractive index, and wavelength:\n",
    "1. `epsilon_r` : The permittivity tensor of the material, which should be a 3D JAX array where each voxel contains a $3 \\times 3$ matrix.\n",
    "2. `refractive_index` : The refractive index of the medium.\n",
    "3. `wavelength` : The wavelength of the incident light, in microns.\n",
    "\n",
    "`k_0 = 2 * jnp.pi / wavelength` aims to calculate the wavenumber $k_0$ according to the equation:\n",
    "$$\n",
    "k_0 = \\frac{\\omega}{c} = \\frac{2 \\pi c}{\\lambda} \\cdot \\frac{1}{c} = \\frac{2 \\pi}{\\lambda}\\tag{2.1.18}\n",
    "$$\n",
    "In the physical science, the wavenumber, also known as repetency is the spatial frequency of a wave, measured in cycles per unit distance (ordinary wavenumber, $1/\\lambda$) or radians per unit distance (angular distance, $2 \\pi /\\lambda$).[@Wavenumber]\n",
    "\n",
    "The line `vol_shape = epsilon_r.shape[:3]` extracts the spatial dimensions of `epsilon_r`, which has the shape `(z, y, x, 3, 3)`, because we then need to create an array of background permittivity `epsilon_m`, with matching spatial dimensions, ensuring it has the same shape as volume represented by `epsilon_r`.\n",
    "\n",
    "`epsilon_r.shape` creates an array returns the shape of the `epsilon_r` array. `epsilon_r.shape[:3]` selects only the first three dimensions of the array shape, which is `z`, `y`, `x`. For example, if the `epsilon_r` has a shape `(4, 5, 6, 3, 3)`:"
   ]
  },
  {
   "cell_type": "code",
   "execution_count": 38,
   "id": "028d3a55",
   "metadata": {},
   "outputs": [
    {
     "name": "stdout",
     "output_type": "stream",
     "text": [
      "vol_shape = (4, 5, 6)\n"
     ]
    }
   ],
   "source": [
    "# Define a shape of the epsilon_r tensor.\n",
    "epsilon_r_shape = (4, 5, 6, 3, 3)\n",
    "\n",
    "#Extract the volume shape from the tensor\n",
    "vol_shape = epsilon_r_shape[:3]\n",
    "\n",
    "print('vol_shape =', vol_shape)"
   ]
  },
  {
   "cell_type": "markdown",
   "id": "6badb19e",
   "metadata": {},
   "source": [
    "Similarly, we can select any dimensions from the shape:"
   ]
  },
  {
   "cell_type": "code",
   "execution_count": 39,
   "id": "77ff2b1a",
   "metadata": {},
   "outputs": [
    {
     "name": "stdout",
     "output_type": "stream",
     "text": [
      "permittivity_shape = (3, 3)\n",
      "middle_shape = (5, 6, 3)\n"
     ]
    }
   ],
   "source": [
    "# Select the last two dimensions of the shape.\n",
    "permittivity_shape = epsilon_r_shape[3:]\n",
    "print('permittivity_shape =', permittivity_shape)\n",
    "\n",
    "# Select the three dimensions in the middle of the shape.\n",
    "middle_shape = epsilon_r_shape[1:4]\n",
    "print('middle_shape =', middle_shape)"
   ]
  },
  {
   "cell_type": "markdown",
   "id": "0ddcca3a",
   "metadata": {},
   "source": [
    "The line `epsilon_m = jnp.tile(jnp.eye(3) * refractive_index**2, (*vol.shape, 1, 1))` create an array of background permittivity tensor using the function `jnp.tile()` in a volume of a given shape (`vol.shape`).\n",
    "\n",
    "`jnp.eye(3)` generates a 3 $\\times$ 3 identity matrix, which is then scaled by the square of the refractive index. This operation produces a diagonal matrix where each diagonal element is equal to `refractive_index**2`: "
   ]
  },
  {
   "cell_type": "code",
   "execution_count": 42,
   "id": "f9196077",
   "metadata": {},
   "outputs": [
    {
     "name": "stdout",
     "output_type": "stream",
     "text": [
      "diag_matrix =\n",
      " [[1.7689 0.     0.    ]\n",
      " [0.     1.7689 0.    ]\n",
      " [0.     0.     1.7689]]\n"
     ]
    }
   ],
   "source": [
    "refractive_index = 1.33\n",
    "\n",
    "diag_matrix = jnp.eye(3) * refractive_index**2\n",
    "\n",
    "print('diag_matrix =\\n', diag_matrix)"
   ]
  },
  {
   "cell_type": "markdown",
   "id": "80b6c281",
   "metadata": {},
   "source": [
    "Next, `jnp.tile()` is employed to replicate the matrix throughout the volume defined by `vol_shape`, resulting in a tensor with the shape `(*vol_shape, 3, 3)`.\n",
    "\n",
    "In the end, the `scattering_potential` is calculated based on a slightly different definition:\n",
    "$$\n",
    "F(r) = k_0^2 (\\varepsilon_B - \\varepsilon_r) \\tag{2.1.19}\n",
    "$$\n"
   ]
  },
  {
   "cell_type": "markdown",
   "id": "3e68f739",
   "metadata": {},
   "source": [
    "#### **Function 10: expand_potential_dims**"
   ]
  },
  {
   "cell_type": "markdown",
   "id": "5649765f",
   "metadata": {},
   "source": [
    "*Source Code*"
   ]
  },
  {
   "cell_type": "code",
   "execution_count": 40,
   "id": "51d6028a",
   "metadata": {},
   "outputs": [],
   "source": [
    "def expand_potential_dims(tensor):\n",
    "    potential = jnp.expand_dims(tensor, axis=(1, 4))\n",
    "    return potential"
   ]
  },
  {
   "cell_type": "markdown",
   "id": "c34dd2d9",
   "metadata": {},
   "source": [
    "*Explanation*"
   ]
  },
  {
   "cell_type": "markdown",
   "id": "74471486",
   "metadata": {},
   "source": [
    "The code defines a function which expands the dimension of the input tensor using `jnp.expand_dims()`. This function inserts two additional dimensions into the input `tensor` at the positions specified by the `axis`.\n",
    "\n",
    "The expression `axis=(1, 4)` indicates that two new dimensions will be inserted at axis 1 (second position) and axis 4 (fifth position). For instance, consider the variable `phantom` in Function 2, which has the shape `(1, 2, 3, 3, 3)`. Let's insert two additional dimensions into it:"
   ]
  },
  {
   "cell_type": "code",
   "execution_count": 49,
   "id": "1d3629e9",
   "metadata": {},
   "outputs": [
    {
     "name": "stdout",
     "output_type": "stream",
     "text": [
      "shape of the tensor = (1, 2, 3, 3, 3)\n",
      "shape of the potential = (1, 1, 2, 3, 1, 3, 3)\n"
     ]
    }
   ],
   "source": [
    "# Assign the phantom tensor to the variable `tensor`\n",
    "tensor = phantom\n",
    "print('shape of the tensor =', tensor.shape)\n",
    "\n",
    "# Expand the dimensions of the tensor\n",
    "potential = jnp.expand_dims(tensor, axis=(1, 4))\n",
    "print('shape of the potential =', potential.shape)"
   ]
  },
  {
   "cell_type": "markdown",
   "id": "cdc56eb9",
   "metadata": {},
   "source": [
    "It's clear that the function returns the modified tensor, which now has two singleton dimensions at the second and fifth position of the modified tensor."
   ]
  },
  {
   "cell_type": "markdown",
   "id": "bfcf5968",
   "metadata": {},
   "source": [
    "#### **Function 11: generate_dummy_potential**"
   ]
  },
  {
   "cell_type": "markdown",
   "id": "f575cc15",
   "metadata": {},
   "source": [
    "*Source Code*"
   ]
  },
  {
   "cell_type": "code",
   "execution_count": 41,
   "id": "fc1152f8",
   "metadata": {},
   "outputs": [],
   "source": [
    "def generate_dummy_potential(vol_shape):\n",
    "    potential = expand_potential_dims(jnp.ones((*vol_shape, 3, 3)))\n",
    "    return potential"
   ]
  },
  {
   "cell_type": "markdown",
   "id": "8a8a9ec4",
   "metadata": {},
   "source": [
    "*Explanation*"
   ]
  },
  {
   "cell_type": "markdown",
   "id": "452e4233",
   "metadata": {},
   "source": [
    "The function is employed to create a tensor filled with ones, having a shape based on the input `vol_shape`, and then expands its dimensions using the previously defined `expand_potential_dims` function.\n",
    "\n",
    "The input `vol_shape` should be a tuple defining the 3D dimensions. `3, 3` adds two additional dimensions for a 3 $\\times$ 3 matrix at each point in the volume. The function `jnp.ones()` generates a tensor filled with ones. Suppose `vol_shape = (1, 2, 3)`, then:"
   ]
  },
  {
   "cell_type": "code",
   "execution_count": 50,
   "id": "da422f01",
   "metadata": {},
   "outputs": [
    {
     "name": "stdout",
     "output_type": "stream",
     "text": [
      "shape of the potential = (1, 1, 2, 3, 1, 3, 3)\n",
      "potential =\n",
      " [[[[[[[1. 1. 1.]\n",
      "      [1. 1. 1.]\n",
      "      [1. 1. 1.]]]\n",
      "\n",
      "\n",
      "    [[[1. 1. 1.]\n",
      "      [1. 1. 1.]\n",
      "      [1. 1. 1.]]]\n",
      "\n",
      "\n",
      "    [[[1. 1. 1.]\n",
      "      [1. 1. 1.]\n",
      "      [1. 1. 1.]]]]\n",
      "\n",
      "\n",
      "\n",
      "   [[[[1. 1. 1.]\n",
      "      [1. 1. 1.]\n",
      "      [1. 1. 1.]]]\n",
      "\n",
      "\n",
      "    [[[1. 1. 1.]\n",
      "      [1. 1. 1.]\n",
      "      [1. 1. 1.]]]\n",
      "\n",
      "\n",
      "    [[[1. 1. 1.]\n",
      "      [1. 1. 1.]\n",
      "      [1. 1. 1.]]]]]]]\n"
     ]
    }
   ],
   "source": [
    "# Define the shape of the volume.\n",
    "vol_shape = (1, 2, 3)\n",
    "\n",
    "# Call the function to generate the dummy potential.\n",
    "potential = expand_potential_dims(jnp.ones((*vol_shape, 3, 3)))\n",
    "print('shape of the potential =', potential.shape)\n",
    "print('potential =\\n', potential)"
   ]
  },
  {
   "cell_type": "markdown",
   "id": "d0725a8e",
   "metadata": {},
   "source": [
    "## **Package 2: Elements**"
   ]
  },
  {
   "attachments": {
    "image.png": {
     "image/png": "[encoded data removed]"
    }
   },
   "cell_type": "markdown",
   "id": "a9c5bcc1",
   "metadata": {},
   "source": [
    "This Section defines a lot of classes, functions to simulated elements in an optical system (such as lens, sensor, amplitude mask and so on) in a neural network framework using libraries like JAX, and Flax.\n",
    "\n",
    "In machine learning, a neural network (also artificial neural network or neural net, abbreviated ANN or NN) is a model inspired by the structure and function of biological neural networks in animal brains.[@Neural_network]\n",
    "\n",
    "An ANN consists of connected units or nodes called artificial neurons, which loosely model the neurons in the brain. These are connected by edges, which model the synapses in the brain. Each artificial neuron receives signals from connected neurons, then processes them and sends a signal to other connected neurons. The \"signal\" is a real number, and the output of each neuron is computed by some non-linear function of the sum of its inputs, called the activation function. The strength of the signal at each connection is determined by a weight, which adjusts during the learning process.[@Neural_network]\n",
    "\n",
    "For example, if we have neuron with two inputs and one output as shown below:[@Neuron]\n",
    "\n",
    "![image.png](attachment:image.png)\n",
    "\n",
    "First, each input is multiplied by a weight $w_1$ and $w_2$:\n",
    "\n",
    "$$x_1 \\rightarrow x_1 \\cdot w_1 \\tag{2.2.1}$$\n",
    "$$x_2 \\rightarrow x_2 \\cdot w_2 \\tag{2.2.2}$$\n",
    "\n",
    "Then, the sum of the two weighted inputs is added with a bias b:\n",
    "\n",
    "$$sum = x_1 \\cdot w_1 + x_2 \\cdot w_2 +b \\tag{2.2.3}$$\n",
    "\n",
    "Finally, the sum is passed through an activation function:\n",
    "\n",
    "$$output = f(sum) \\tag{2.2.4}$$\n",
    "\n",
    "The activation function is used to turn an unbounded input into an output that has a nice, predictable form.[@Neuron]\n",
    "\n",
    "In Jax and Flax, there are several commonly used activation functions such as Sigmoid, ReLU, Softmax.\n",
    "\n",
    "Typically, neurons are aggregated into layers. Different layers may perform different transformations on their inputs. Signals travel from the first layer (the input layer) to the last layer (the output layer), possibly passing through multiple intermediate layers (hidden layers). A network is typically called a deep neural network if it has at least two hidden layers.[@Neural_network]\n"
   ]
  },
  {
   "cell_type": "markdown",
   "id": "5179c514",
   "metadata": {},
   "source": [
    "### **Module 1: init**"
   ]
  },
  {
   "cell_type": "markdown",
   "id": "f8a936a7",
   "metadata": {},
   "source": [
    "#### **Imports**"
   ]
  },
  {
   "cell_type": "markdown",
   "id": "f3d19c3e",
   "metadata": {},
   "source": [
    "*Souce Code*"
   ]
  },
  {
   "cell_type": "code",
   "execution_count": null,
   "id": "8496d7b5",
   "metadata": {},
   "outputs": [],
   "source": [
    "from .amplitude_masks import *\n",
    "from .convenience import *\n",
    "from .lenses import *\n",
    "from .phase_masks import *\n",
    "from .propagation import *\n",
    "from .samples import *\n",
    "from .sensors import *\n",
    "from .sources import *\n",
    "from .utils import trainable"
   ]
  },
  {
   "cell_type": "markdown",
   "id": "0445e72e",
   "metadata": {},
   "source": [
    "*Explanation*"
   ]
  },
  {
   "cell_type": "markdown",
   "id": "20f0b8c6",
   "metadata": {},
   "source": [
    "The import syntax `from .module_name import *` used in the code, is to bring in all modules, functions, or classes from a package or module located within the same project. These modules are going to be presented in the following parts.\n",
    "\n",
    "The dot `.` indicates a relative import, signifying that the `module_name` is part of the same package as the current module. Additionally, `..` refers to the parent package, while `...` refers to the grandparent package, and so on.\n",
    "\n",
    "The asterisk `*` acts as a wildcard instructing Python to import all functions, classes, variables, etc. from `module_name`. To control what is imported when using `*`, a special variable `__all__` can be applied to define a list of functions, classes, variables, etc. that the module explicitly exports and makes available for import. Alternatively, specific functions or classes can be imported by replacing the `*` with the exact names of the desired items. "
   ]
  },
  {
   "cell_type": "markdown",
   "id": "7a67f486",
   "metadata": {},
   "source": [
    "### **Module 2: amplitude_masks**"
   ]
  },
  {
   "cell_type": "markdown",
   "id": "fcbd5ae0",
   "metadata": {},
   "source": [
    "#### **Imports**"
   ]
  },
  {
   "cell_type": "markdown",
   "id": "f292e615",
   "metadata": {},
   "source": [
    "*Source Code*"
   ]
  },
  {
   "cell_type": "code",
   "execution_count": null,
   "id": "82e91147",
   "metadata": {},
   "outputs": [],
   "source": [
    "from typing import Callable, Tuple, Union\n",
    "\n",
    "from chex import Array, PRNGKey\n",
    "from flax import linen as nn\n",
    "\n",
    "from chromatix.elements.utils import register\n",
    "\n",
    "from ..field import Field\n",
    "from ..functional.amplitude_masks import amplitude_change\n",
    "from ..ops import binarize\n",
    "\n",
    "__all__ = [\"AmplitudeMask\"]"
   ]
  },
  {
   "cell_type": "markdown",
   "id": "50ac6e9a",
   "metadata": {},
   "source": [
    "*Explanation*"
   ]
  },
  {
   "cell_type": "markdown",
   "id": "7122f852",
   "metadata": {},
   "source": [
    "In Python, `typing` is a standard module that allows you to use type hints to indicate the expected types of variables, function arguments, and return values. `typing` enables developers to specify the types for better code clarity, documentation, and static type checking.\n",
    "\n",
    "`Callable` is used in type annotations to indicate that a particular variable or function parameter is a function or an object that can be called like a function. For example:"
   ]
  },
  {
   "cell_type": "code",
   "execution_count": 4,
   "id": "807ee8e4",
   "metadata": {},
   "outputs": [
    {
     "name": "stdout",
     "output_type": "stream",
     "text": [
      "7\n"
     ]
    }
   ],
   "source": [
    "from typing import Callable\n",
    "\n",
    "# Define a function that takes a callable as an argument.\n",
    "def afunc(func: Callable[[int, int], int], a: int, b: int):\n",
    "    return func(a, b)\n",
    "\n",
    "def add(x: int, y: int):\n",
    "    return x + y\n",
    "\n",
    "print(afunc(add, 3, 4))"
   ]
  },
  {
   "cell_type": "markdown",
   "id": "0773c832",
   "metadata": {},
   "source": [
    "In this example, `func` is a callable that takes two integers (int, int) as input and returns an integer (int). And `apply_func` accepts func, an `a`, and `b`, and applies the callable to `a` and `b`.  \n",
    "\n",
    "By the way, Python is a dynamically typed language, meaning that types are not strictly enforced at runtime. The int and Callable in type annotations are simply type hints, used to indicate that the variables are expected to be of a certain type (e.g., int or a callable function). However, these type hints are not mandatory, and Python will not raise an error if variables of other types, such as float, are passed in. \n",
    "\n",
    "A `tuple` in Python is a collection of ordered, immutable elements. This means that once a tuple is created, its elements cannot be changed or updated. Unlike `list`, which is typically used for homogenous collections (elements of the same type), `tuple` can hold elements of different types, making it useful for grouping different kinds of data together.\n",
    "\n",
    "The `Union` is used to specify that a value can be one of multiple specific types at a given time. But it does not mean that the value can hold more than one type at the same time."
   ]
  },
  {
   "cell_type": "markdown",
   "id": "65e9a1e3",
   "metadata": {},
   "source": [
    "`Chex` is a library that provides a collection of utilities for JAX and NumPy. It is designed to assist in writing reliable and testable code when working with JAX transformations like `jit`, `grad`, and `vmap`.\n",
    "\n",
    "The imported `Array` is a type alias provided by Chex that represents a JAX array (`jnp.ndarray`), which is similar to a NumPy array but optimized for JAX's transformations and hardware acceleration.\n",
    "\n",
    "`PRNGKey` is a type alias for JAX's pseudo-random number generator key, represented as a JAX array with a specific shape (`jnp.ndarray` of `shape (2,)` and `dtype` `uint32`). It is used to manage random number generation in a reproducible way. The first step for using `PRNGKey` is creating a PRNG key using `jax.random.PRNGKey(seed)`, then the PRNG key can be passed into JAX random number functions like  `jax.random.uniform` and `jax.random.normal`. For example:"
   ]
  },
  {
   "cell_type": "code",
   "execution_count": 10,
   "id": "28757f85",
   "metadata": {},
   "outputs": [
    {
     "name": "stdout",
     "output_type": "stream",
     "text": [
      "key1 = [ 0 20]\n",
      "key2 = [ 0 60]\n",
      "random_number1 = 0.22824931\n",
      "random_number2 = 0.00786821\n"
     ]
    }
   ],
   "source": [
    "import jax.numpy as jnp\n",
    "import jax.random\n",
    "\n",
    "# Create two PRNG keys with different seeds\n",
    "key1 = jax.random.PRNGKey(20)\n",
    "key2 = jax.random.PRNGKey(60)\n",
    "\n",
    "# Generate a random numbers with key1 using `jax.random.uniform`\n",
    "random_number1 = jax.random.uniform(key1)\n",
    "\n",
    "# Generate a random number with key2 using `jax.random.normal`\n",
    "random_number2 = jax.random.normal(key2)\n",
    "\n",
    "print('key1 =', key1)\n",
    "print('key2 =', key2)\n",
    "print('random_number1 =', random_number1)\n",
    "print('random_number2 =', random_number2)"
   ]
  },
  {
   "cell_type": "markdown",
   "id": "997f045c",
   "metadata": {},
   "source": [
    "`jax.random.PRNGKey(seed)` generates a deterministic pseudo-random number generator (PRNG) key based on the given seed. The seed ensures that the random numbers generated with this key will be the same every time.\n",
    "\n",
    "`jax.random.uniform(key)` generates a random floating-point number uniformly distributed between 0 and 1 using the given PRNG key.`jax.random.normal(key)` generates a random floating-point number from a standard normal distribution (mean 0, standard deviation 1) using the given PRNG key.\n",
    "\n",
    "`chex.PRNGKey` is simply a type hint when defining functions that expect a PRNG key as input, instead of being used to generate a PRNG key. \n",
    "\n",
    "For example:"
   ]
  },
  {
   "cell_type": "code",
   "execution_count": 11,
   "id": "f5367052",
   "metadata": {},
   "outputs": [
    {
     "name": "stdout",
     "output_type": "stream",
     "text": [
      "random_number = 0.22824931\n"
     ]
    }
   ],
   "source": [
    "import chex\n",
    "\n",
    "# Define a function that returns a random number with a PRNG key.\n",
    "def random_func(key: chex.PRNGKey):\n",
    "    return jax.random.uniform(key)\n",
    "\n",
    "key = jax.random.PRNGKey(20)\n",
    "\n",
    "random_number = random_func(key)\n",
    "print('random_number =', random_number)"
   ]
  },
  {
   "cell_type": "markdown",
   "id": "b9db4191",
   "metadata": {},
   "source": [
    "As we can see, the code above use a slightly different way to generate a random number, but the PRNG key is the same, so the code outputs the same random number."
   ]
  },
  {
   "cell_type": "markdown",
   "id": "c17437e1",
   "metadata": {},
   "source": [
    "`flax` is a high-performance, JAX-based neural network library which provides a flexible interface to define and train neural networks using JAX’s underlying transformations, such as `jit`, `grad`, and `vmap`. `linen` is the core module of `flax`, providing utilities to define and compose neural network layers and models.\n",
    "\n",
    "The function `register` will be introduced in the module `utils` of the package `elements` under the project. It is responsible for the registration of attribute in a `Flax` module as either parametrs (trainable) or state variables (non-trainable). \n",
    "\n",
    "The class `Field` will be introduced in the module `field` directly under the project. \n",
    "\n",
    "The function `amplitude_change` will be introduces in the module `amplitude_masks` of the package `functional` under the project. \n",
    "\n",
    "The function `binarize` will be introduced in the module `quantization` of the package `ops` under the project."
   ]
  },
  {
   "cell_type": "markdown",
   "id": "d4f45e94",
   "metadata": {},
   "source": [
    "#### **Class 1: AmplitudeMask**"
   ]
  },
  {
   "cell_type": "markdown",
   "id": "dc126042",
   "metadata": {},
   "source": [
    "*Source Code*"
   ]
  },
  {
   "cell_type": "code",
   "execution_count": null,
   "id": "f3ec79a4",
   "metadata": {},
   "outputs": [],
   "source": [
    "class AmplitudeMask(nn.Module):\n",
    "    \"\"\"\n",
    "    Applies an ``amplitude`` mask to an incoming ``Field``.\n",
    "\n",
    "    This element can be placed after any element that returns a ``Field`` or\n",
    "    before any element that accepts a ``Field``.\n",
    "\n",
    "    The ``amplitude`` can be learned (pixel by pixel) by using\n",
    "    ``chromatix.utils.trainable``.\n",
    "\n",
    "    Attributes:\n",
    "        amplitude: The amplitude to be applied. Should have shape `(H W)`.\n",
    "        is_binary: binarize the amplitude mask if True.\n",
    "    \"\"\"\n",
    "\n",
    "    amplitude: Union[Array, Callable[[PRNGKey, Tuple[int, int]], Array]]\n",
    "    is_binary: bool\n",
    "\n",
    "    @nn.compact\n",
    "    def __call__(self, field: Field) -> Field:\n",
    "        \"\"\"Applies ``amplitude`` mask to incoming ``Field``.\"\"\"\n",
    "        amplitude = register(self, \"amplitude\", field.spatial_shape)\n",
    "        if self.is_binary:\n",
    "            amplitude = binarize(amplitude)\n",
    "        return amplitude_change(field, amplitude)"
   ]
  },
  {
   "cell_type": "markdown",
   "id": "655da230",
   "metadata": {},
   "source": [
    "*Explanation*"
   ]
  },
  {
   "cell_type": "markdown",
   "id": "afd7661a",
   "metadata": {},
   "source": [
    "1. class\n",
    "\n",
    "Unlike `def`, which is a function used to only encapsulate a block of code that performs a specific task, `class` is a blueprint for creating objects. It's used to define objects and model real-world entities, and it allows for grouping data (attributes) and behaviors (methods) together, enabling object-oriented programming. \n",
    "\n",
    "Besides, `class` supports inheritance, which functions don't. Inheritance is core feature of object-oriented programming. Developers can creat a new class that inherit properties and mothods from parent classes by putting the parent class in the parentheses after the class name.\n",
    "\n",
    "Calling a `class` will create an instance or object of that class. This is done by using the class name followed by parentheses, like calling a function. The parentheses can contain arguments if the class's `__init__` method requires them. \n",
    "\n",
    "For example:"
   ]
  },
  {
   "cell_type": "code",
   "execution_count": 9,
   "id": "bde91870",
   "metadata": {},
   "outputs": [
    {
     "name": "stdout",
     "output_type": "stream",
     "text": [
      "sum = 7\n"
     ]
    }
   ],
   "source": [
    "class add_two_numbers:\n",
    "    def __init__(self, number1, number2):\n",
    "        #Initialize the attributes\n",
    "        self.number1 = number1\n",
    "        self.number2 = number2\n",
    "    \n",
    "    #Define a method to add two numbers\n",
    "    def add(self):\n",
    "        return self.number1 + self.number2\n",
    "\n",
    "# Create an instance of the class    \n",
    "sum_instance = add_two_numbers(3, 4)\n",
    "print('sum =', sum_instance.add())"
   ]
  },
  {
   "cell_type": "markdown",
   "id": "e74468c4",
   "metadata": {},
   "source": [
    "2. initialization\n",
    "\n",
    "In this example, the code has no parentheses after the class name, since it's not a subclass of any parent class. And the code first defines a function named `__init__` which is called method here. The `__init__` method is commonly (but not necessary) used to accept and initialize attributes (number1, number2) of the class. It is a constructor that is used to set up the initial state of the object. But if no special initialization is needed, you can create classes without the `__init__` method. For example:"
   ]
  },
  {
   "cell_type": "code",
   "execution_count": 1,
   "id": "24a55e1f",
   "metadata": {},
   "outputs": [
    {
     "name": "stdout",
     "output_type": "stream",
     "text": [
      "sum = 11\n"
     ]
    }
   ],
   "source": [
    "class add_two_numbers:\n",
    "    def add(self, number1, number2):\n",
    "        return number1 + number2\n",
    "    \n",
    "sum_instance = add_two_numbers()\n",
    "print('sum =', sum_instance.add(5, 6))"
   ]
  },
  {
   "cell_type": "markdown",
   "id": "1d487343",
   "metadata": {},
   "source": [
    "Beside the `__init__` method, another difference is that the arguments can't be paased into `sum_instance = add_two_numbers()`. This is because the second `add_two_numbers` class has no `__init__` method, which is responsible for accepting and initializing arguments. And the attributes `number1` and `number2` are not part of the class's state until they are explicitly used in the `add` method. However, when using a class with the `__init__` method to create an instance (`sum_instance = add_two_numbers(3, 4)`), the arguments must be passed to match the `__init__` method's signature.\n",
    "\n",
    "3. self\n",
    "\n",
    "Another interesting point is that there is still a keyword `self` in the second `add_two_numbers` class even though it doesn't appear in the rest of the code. This is because that the keyword `self` is used to refer to the instance of the class that is being created or manipulated. And it allows you to access and modify the object's and attributes and methods like `self.number1` and `sum_instance.add()` in the previous example. Without `self`, it's not possible to store values in the attributes of the class and make the attrbutes available to the methods in the class."
   ]
  },
  {
   "cell_type": "markdown",
   "id": "f75b6b69",
   "metadata": {},
   "source": [
    "4. nn.Module\n",
    "\n",
    "Now, let's look at the source code. It creates a class `AmplitudeMask` as a subclass of `nn.Module`, meaning it inherits from `nn.Module`.\n",
    "\n",
    "The `nn.Module` is a base class in the Flax library and a core building block for defining custom neural network components such as layer or entire models. Every time you create a new layer or model (subclasses) in Flax, you create a new `nn.Module`.\n",
    "\n",
    "5. attributes\n",
    "\n",
    "The source code then annotates the types of the attributes `amplitude` and `is_binary` as `Union[Array, Callable[[PRNGKey, Tuple[int, int]], Array]]` and `bool`. This means that the `amplitude` can be either an array or a callable that takes a PRNG key and a tuple of two integers as input and returns an array, and the `is_binary` is boolean indicating whether the amplitude should be binarized or not. \n",
    "\n",
    "6. @nn.compact\n",
    "\n",
    "Next, the developer uses a keyword `@nn.compact`. It is the most commomly used *decorator* in Flax used to define layers and opertions directly within the *forward pass* method `__call__` of a Flax module.\n",
    "\n",
    "The forward pass means the process of passing input data through the layers of the neural network to compute an output. This is the key operation in neural networks used in training.\n",
    "\n",
    "A decorator in Python is a function that wraps around another function or method, adding extra behavior to it without modifying its structure. Decorators are used by prefixing a function or method definition with an `@` symbol followed by the name of the decorator like the source code shows.\n",
    "\n",
    "With `@nn.compact`, developers are allowed to create instances of layers directly in the forward pass (`__call__` method), and Flax will automatically handle initialization and caching. Without `@nn.compact`, developers need to used a `setup` method to define the layers as attributes and then use those attributes in the `__call__` method.\n",
    "\n",
    "For example："
   ]
  },
  {
   "cell_type": "code",
   "execution_count": 2,
   "id": "be0404b0",
   "metadata": {},
   "outputs": [],
   "source": [
    "from flax import linen as nn\n",
    "# Without `@nn.compact`\n",
    "class Net(nn.Module):\n",
    "    def setup(self):\n",
    "        self.dense = nn.dense(feature=10)\n",
    "\n",
    "    def __call__(self, x):\n",
    "        x = self.dense(x)\n",
    "        return x"
   ]
  },
  {
   "cell_type": "code",
   "execution_count": 5,
   "id": "bbe546b9",
   "metadata": {},
   "outputs": [],
   "source": [
    "# With `@nn.compact`\n",
    "class Net(nn.Module):\n",
    "    @nn.compact\n",
    "    def __call__(self, x):\n",
    "        x = nn.dense(feature=10)(x)\n",
    "        return x"
   ]
  },
  {
   "cell_type": "markdown",
   "id": "a980330f",
   "metadata": {},
   "source": [
    "The code above defines a forward pass which takes `x` as the input passed to the model. `x = nn.dense(feature=10)(x)` defines a fully connected (dense) layer in the neural network with 10 output units. It applies a linear transformation to the input: $y = wx + b$, where $w$ is the weight matrix and $b$ is the bias.\n",
    "\n",
    "7. call method\n",
    "\n",
    "The `__call__` method is written with the decorator `@nn.compact` meaning that the method is the core functionality of the module. It accepts a `Field` as input and is responsible for applying the amplitude mask to the `Field` to modify the amplitude of the `Field`. In Chromatix, the `Field` is defined in a module as a container that describes the chromatic light field with complex values at a 2D plane. \n",
    "\n",
    "The line `amplitude = register(self, \"amplitude\", field.spatial_shape)` calls the `register` function built in Chromatix, passing three arguments: `self`, `\"amplitude\"`, and `field.spatial_shape`. `self` refers to the current instance of the` AmplitudeMask` class, which is a subclass of `nn.Module`. `\"amplitude\"` is the name of the parameter that we want to register, namely amplitude mask. `field.spatial_shape` extracts the spatial shape the `Field` as the shape of the amplitude mask.\n",
    "\n",
    "In short words, the `register` function registers the `\"amplitude\"` attributes as a Flax parameter, which is trainable and will be optimized during training or a Flax variable, which is not trainable and will be treated as a fixed state variable.\n",
    "\n",
    "Then, the `if` sentence will judge whether the `is_binary` attrubute of the instance is `True`. If it is, the `amplitude` will be binarized by the function `binarize` meaning that the values are converted into values of 0 or 1.\n",
    "\n",
    "Finally, the `amplitude_change` funtion, which is also defined in Chromatix, modifies the incoming `Field` based on the `amplitude` mask. This operation results in a new field with a modified amplitude, which can be then passed ti possible subsequent elements."
   ]
  },
  {
   "cell_type": "markdown",
   "id": "6346936b",
   "metadata": {},
   "source": [
    "### **Module 3：convenience**"
   ]
  },
  {
   "cell_type": "markdown",
   "id": "4901a622",
   "metadata": {},
   "source": [
    "#### **Imports**"
   ]
  },
  {
   "cell_type": "markdown",
   "id": "f900082d",
   "metadata": {},
   "source": [
    "*Source Code*"
   ]
  },
  {
   "cell_type": "code",
   "execution_count": null,
   "id": "7316c1ab",
   "metadata": {},
   "outputs": [],
   "source": [
    "from typing import Optional, Tuple, Union\n",
    "\n",
    "import flax.linen as nn\n",
    "import jax.numpy as jnp\n",
    "from chex import Array\n",
    "\n",
    "from ..field import Field\n",
    "from ..ops import binarize, quantize\n",
    "\n",
    "__all__ = [\"Flip\", \"ScaleAndBias\", \"Binarize\", \"Quantize\"]"
   ]
  },
  {
   "cell_type": "markdown",
   "id": "8f706293",
   "metadata": {},
   "source": [
    "*Explanation*"
   ]
  },
  {
   "cell_type": "markdown",
   "id": "6ba5470f",
   "metadata": {},
   "source": [
    "The first line imports `Optional`, `Tuple`, and `Union` from the `typing`. Since `Tuple` and `Union` have been introduced before, let's look at the other one `Optional`. `Optional` is similar to `Union`, it is used when a value can either be of a certain type or `None`. Therefore, `Optional[X]` is shorthand for `Union[X, None]`, in which, `X` could be types such as `int`, `float`, etc.\n",
    "\n",
    "The function `quantize` is defined in the module `quantization` under the package `ops` of Chromatix. It adjusts the input `x` to a specific `bit_depth`, using a surrogate gradient approach.\n",
    "\n",
    "The last line indicates that the classes `Flip`, `ScaleAndBias`, and `Binarize` can be exported and made available for use."
   ]
  },
  {
   "cell_type": "markdown",
   "id": "c23cbd3d",
   "metadata": {},
   "source": [
    "#### **Class 1: Flip**"
   ]
  },
  {
   "cell_type": "markdown",
   "id": "4ac7ddd6",
   "metadata": {},
   "source": [
    "*Source Code*"
   ]
  },
  {
   "cell_type": "code",
   "execution_count": null,
   "id": "2fc0970d",
   "metadata": {},
   "outputs": [],
   "source": [
    "class Flip(nn.Module):\n",
    "    \"\"\"\n",
    "    This element flips the incoming ``Field`` upside down.\n",
    "\n",
    "    This is useful for situations where an upside down image is formed.\n",
    "    \"\"\"\n",
    "\n",
    "    @nn.compact\n",
    "    def __call__(self, field: Field) -> Field:\n",
    "        # TODO: Add in support for both axes?\n",
    "        return field.replace(u=jnp.flip(field.u, axis=field.spatial_dims[0]))"
   ]
  },
  {
   "cell_type": "markdown",
   "id": "cb99873d",
   "metadata": {},
   "source": [
    "*Explanation*"
   ]
  },
  {
   "cell_type": "markdown",
   "id": "6b771a11",
   "metadata": {},
   "source": [
    "As the source code writes, the `Flip` class defines a module that flips an incoming `Field` object upside down along one spatial axis. This class also inherites from `nn.Module` and uses the `@nn.compact` decorator to define the forward pass.\n",
    "\n",
    "The `__call__` method takes a `Field` object as input and returns the flipped `Field`，by using the following functions:\n",
    "1. `jnp.flip(array, axis)`: In this function, the first variable is the array which needs to be flipped, and the second variable is the axis along which the array needs to be flipped. For example:"
   ]
  },
  {
   "cell_type": "code",
   "execution_count": null,
   "id": "1e343b2d",
   "metadata": {},
   "outputs": [
    {
     "name": "stdout",
     "output_type": "stream",
     "text": [
      "upside down flipped array =\n",
      " [[7 8 9]\n",
      " [4 5 6]\n",
      " [1 2 3]]\n",
      "left to right flipped array =\n",
      " [[3 2 1]\n",
      " [6 5 4]\n",
      " [9 8 7]]\n"
     ]
    }
   ],
   "source": [
    "import jax.numpy as jnp\n",
    "\n",
    "# Create a 3x3 array\n",
    "array = jnp.array([[1, 2, 3],\n",
    "                  [4, 5, 6],\n",
    "                  [7, 8, 9]])\n",
    "\n",
    "# Flip the array upside down along axis 0 (vertical axis)\n",
    "flipped_array0 = jnp.flip(array, axis=0)\n",
    "\n",
    "# Flip the array left to right along axis 1 (horizontal axis)\n",
    "flipped_array1 = jnp.flip(array, axis=1)\n",
    "\n",
    "print('upside down flipped array =\\n', flipped_array0)\n",
    "print('left to right flipped array =\\n', flipped_array1)"
   ]
  },
  {
   "cell_type": "markdown",
   "id": "384bc1c2",
   "metadata": {},
   "source": [
    "The source code of `field.spatial.dim` returns the height and width of the field:"
   ]
  },
  {
   "cell_type": "code",
   "execution_count": 3,
   "id": "56051894",
   "metadata": {},
   "outputs": [],
   "source": [
    "def spatial_dims(self) -> Tuple[int, int]:\n",
    "    \"\"\"Dimensions representing the height and width of the complex field.\"\"\"\n",
    "    return (-4, -3)"
   ]
  },
  {
   "cell_type": "markdown",
   "id": "c1df6335",
   "metadata": {},
   "source": [
    "Because the shape of the field is `(B... H W C [1 | 3])`, and when Python denotes sequence numbers from right end to left end, it starts from `-1`, the `-4` refers to the dimension of height (`H`) and `-3` refers to the dimension of width (`W`).\n",
    "\n",
    "Therefore, `field.spatial_dims` refers to a tuple that represents the indices of the spatial dimensions within the shape of the `Field` object. And `field.spatial.dim[0]` refers to the index of the first spatial dimension, which also meas the vertical axis along which the data in `field.u` is flipped.\n",
    "\n",
    "4. `field.replace()`: The method `replace()` is not actually defined in the class `Field`, but in its parent class `struct.PyTreeeNode`. Since the class `Field` inherits from its parent class `struct.PyTreeNode`, `Field` also get this method and doesn't need to create a new one. The `replace` method is avaliable to create a new instance of the class with updated attributes and leave all other attributes unchanged, preserving the immutability of the object."
   ]
  },
  {
   "cell_type": "markdown",
   "id": "00b4eb6d",
   "metadata": {},
   "source": [
    "#### **Class 2: ScaleAndBias**"
   ]
  },
  {
   "cell_type": "markdown",
   "id": "f5775d3b",
   "metadata": {},
   "source": [
    "*Source Code*"
   ]
  },
  {
   "cell_type": "code",
   "execution_count": null,
   "id": "da9ee084",
   "metadata": {},
   "outputs": [],
   "source": [
    "class ScaleAndBias(nn.Module):\n",
    "    \"\"\"\n",
    "    This element applies a ``scale`` and ``bias`` to the incoming ``Field``.\n",
    "\n",
    "    The ``scale`` and ``bias`` can either be scalars or ``Array``s\n",
    "    broadcastable to the shape of the incoming ``Field``.\n",
    "    \"\"\"\n",
    "\n",
    "    bias: Union[float, Array]\n",
    "    scale: Union[float, Array]\n",
    "\n",
    "    @nn.compact\n",
    "    def __call__(self, field: Field) -> Field:\n",
    "        return (field + self.bias) * self.scale"
   ]
  },
  {
   "cell_type": "markdown",
   "id": "39b9b6bb",
   "metadata": {},
   "source": [
    "*Explanation*"
   ]
  },
  {
   "cell_type": "markdown",
   "id": "c70de1f1",
   "metadata": {},
   "source": [
    "This class simply adds a`bias` to the incoming `field` and multiplies the sum by a `scale`. `bias` and `scale` could be either `float` or `Array`.\n",
    "\n",
    "Suppose we have a `field` object:"
   ]
  },
  {
   "cell_type": "code",
   "execution_count": null,
   "id": "aeaa3fe8",
   "metadata": {},
   "outputs": [],
   "source": [
    "from chromatix import Field\n",
    "import jax\n",
    "\n",
    "# Create an instance of the Field class\n",
    "field = Field(u=jnp.array([[1, 2 ,3], [4, 5, 6], [7, 8, 9]]), # Field data\n",
    "              _dx=jnp.array([1.0, 1.0]), # Spacing of the samples\n",
    "              _spectrum=jnp.array([550]), # Wavelengths\n",
    "              _spectral_density=jnp.array([1.0]) # Spectral density of the field\n",
    "              )"
   ]
  },
  {
   "cell_type": "markdown",
   "id": "40888dce",
   "metadata": {},
   "source": [
    "Then, let's create an instance of the `ScaleAndbias` class and apply it to get an output:"
   ]
  },
  {
   "cell_type": "code",
   "execution_count": null,
   "id": "a5f5b9cc",
   "metadata": {},
   "outputs": [
    {
     "name": "stdout",
     "output_type": "stream",
     "text": [
      "Old field = [[1 2 3]\n",
      " [4 5 6]\n",
      " [7 8 9]]\n",
      "New field = [[ 3.  5.  7.]\n",
      " [ 9. 11. 13.]\n",
      " [15. 17. 19.]]\n"
     ]
    }
   ],
   "source": [
    "# Create an instance of the class ScaleAndBias\n",
    "scale_and_bias = ScaleAndBias(bias=0.5, scale=2.0)\n",
    "key = jax.random.PRNGKey(0)\n",
    "variables = scale_and_bias.init(key, field)\n",
    "\n",
    "new_field = scale_and_bias.apply(variables, field)\n",
    "\n",
    "print('Old field =', field.u)\n",
    "print('New field =', new_field.u)"
   ]
  },
  {
   "cell_type": "markdown",
   "id": "9fc4f938",
   "metadata": {},
   "source": [
    "#### **Class 3: Binarize**"
   ]
  },
  {
   "cell_type": "markdown",
   "id": "4abaf457",
   "metadata": {},
   "source": [
    "*Source Code*"
   ]
  },
  {
   "cell_type": "code",
   "execution_count": null,
   "id": "6138c027",
   "metadata": {},
   "outputs": [],
   "source": [
    "class Binarize(nn.Module):\n",
    "    \"\"\"\n",
    "    This element binarizes the incoming ``Field``.\n",
    "\n",
    "    See ``chromatix.ops.quantization.binarize`` for more details.\n",
    "    \"\"\"\n",
    "\n",
    "    threshold: float = 0.5\n",
    "\n",
    "    @nn.compact\n",
    "    def __call__(self, field: Field) -> Field:\n",
    "        return field.replace(u=binarize(field.u, self.threshold))"
   ]
  },
  {
   "cell_type": "markdown",
   "id": "311c675b",
   "metadata": {},
   "source": [
    "*Explanation*"
   ]
  },
  {
   "cell_type": "markdown",
   "id": "5cd10a63",
   "metadata": {},
   "source": [
    "This class aims to binarize the incoming `Field` by calling the function `binarize` from `chromatix.ops.quantization`. This function simply converts the input `Field` to a binary format based on a specified threshold. The threshold is set to 0.5 by default, any value bigger than the threshold will be set to 1, and any value smaller than the threshold will be set to 0."
   ]
  },
  {
   "cell_type": "markdown",
   "id": "c8c640c7",
   "metadata": {},
   "source": [
    "#### **Class 4: Quantize**"
   ]
  },
  {
   "cell_type": "markdown",
   "id": "25a3a4f2",
   "metadata": {},
   "source": [
    "*Source Code*"
   ]
  },
  {
   "cell_type": "code",
   "execution_count": null,
   "id": "0a2fe6bd",
   "metadata": {},
   "outputs": [],
   "source": [
    "class Quantize(nn.Module):\n",
    "    \"\"\"\n",
    "    This element quantizes the incoming ``Field`` to the given ``bit_depth``.\n",
    "\n",
    "    See ``chromatix.ops.quantization.quantize`` for more details.\n",
    "    \"\"\"\n",
    "\n",
    "    bit_depth: int\n",
    "    range: Optional[Tuple[int, int]] = None\n",
    "\n",
    "    @nn.compact\n",
    "    def __call__(self, field: Field) -> Field:\n",
    "        return field.replace(u=quantize(field.u, self.bit_depth, self.range))"
   ]
  },
  {
   "cell_type": "markdown",
   "id": "c7163774",
   "metadata": {},
   "source": [
    "*Explanation*"
   ]
  },
  {
   "cell_type": "markdown",
   "id": "9dae0010",
   "metadata": {},
   "source": [
    "This class applies the `quantize` function from `chromatix.ops.quantization` to the incoming `Field` to quantize the data to a specific bit depth. \n",
    "\n",
    "The class takes two attributes. The `bit_depth` attribute determines the number of bits used to represent the values in the `Field`. This controls how many levels the data is quantized into. For example, if `bit_depth` is 8, the values in the `Field` will be quantized to 8-bit, 256 levels as $2^8 = 256$\n",
    "\n",
    "The `range` attribute is optional meaning that it could be a `Tuple` or `None`. If a `range` is provided (`Tuple`), the function uses the provided minimum and maximum values. If a `range` is not provided (`None`), the minimum value of the range will be set to the minimum value of the input `Field`, and the maximum value will be set to $x_{max} = max(x - x_{min})$"
   ]
  },
  {
   "cell_type": "markdown",
   "id": "5c5abd7a",
   "metadata": {},
   "source": [
    "### **Module 4：lenses**"
   ]
  },
  {
   "attachments": {
    "Focal Length.jpg": {
     "image/jpeg": "[encoded data removed]"
    }
   },
   "cell_type": "markdown",
   "id": "52a671f5",
   "metadata": {},
   "source": [
    "As the name of this module suggests, this module defines three different types of lenses: thin lens, FFlens, and DFlens by focal length, refractive index, and numerical aperture (NA) of the lens.\n",
    "\n",
    "In optics, a thin lens is a lens with a thickness (distance along the optical axis between the two surfaces of the lens) that is negligible compared to the radii of curvature of the lens surfaces. Lenses whose thickness is not negligible are sometimes called thick lenses.[@Thin_Lens]\n",
    "\n",
    "The thin lens approximation ignores optical effects due to the thickness of lenses and simplifies ray tracing calculations. It is often combined with the paraxial approximation in techniques such as ray transfer matrix analysis.[@Thin_Lens]\n",
    "\n",
    "The focal length of an optical system is a measure of how strongly the system converges or diverges light; it is the inverse of the system's optical power. A positive focal length indicates that a system converges light, while a negative focal length indicates that the system diverges light. A system with a shorter focal length bends the rays more sharply, bringing them to a focus in a shorter distance or diverging them more quickly as shown in the figure below. [@Focal_Length]\n",
    "\n",
    "![Focal Length.jpg](<attachment:Focal Length.jpg>)\n",
    "\n",
    "For the special case of a thin lens in air, a positive focal length is the distance over which initially collimated (parallel) rays are brought to a focus, or alternatively a negative focal length indicates how far in front of the lens a point source must be located to form a collimated beam. For more general optical systems, the focal length has no intuitive meaning; it is simply the inverse of the system's optical power.[@Focal_Length]\n",
    "\n",
    "\n",
    "\n",
    "In optics, the refractive index (or refraction index) of an optical medium is a dimensionless number that gives the indication of the light bending ability of that medium.[@Refractive_Index] The refractive index, n, of a material is defined as $n=c/v$ where c is the speed of light in a vacuum and v is the speed of light in the medium.\n",
    "\n",
    "In optics, the numerical aperture (NA) of an optical system is a dimensionless number that characterizes the range of angles over which the system can accept or emit light. By incorporating index of refraction in its definition, NA has the property that it is constant for a beam as it goes from one material to another. In most areas of optics, and especially in microscopy, the numerical aperture of an optical system such as an objective lens is defined by:[@Numerical_Aperture]\n",
    "\n",
    "$$NA = n \\cdot \\sin\\theta \\tag{2.2.5}$$"
   ]
  },
  {
   "cell_type": "markdown",
   "id": "9c3db6e9",
   "metadata": {},
   "source": [
    "#### **Imports**"
   ]
  },
  {
   "cell_type": "markdown",
   "id": "4305a937",
   "metadata": {},
   "source": [
    "*Source Code*"
   ]
  },
  {
   "cell_type": "code",
   "execution_count": null,
   "id": "0145b8ba",
   "metadata": {},
   "outputs": [],
   "source": [
    "from typing import Callable, Optional, Union\n",
    "\n",
    "import flax.linen as nn\n",
    "from chex import PRNGKey\n",
    "\n",
    "from chromatix.elements.utils import register\n",
    "\n",
    "from .. import functional as cf\n",
    "from ..field import Field\n",
    "\n",
    "__all__ = [\"ThinLens\", \"FFLens\", \"DFLens\"]"
   ]
  },
  {
   "cell_type": "markdown",
   "id": "d99d893e",
   "metadata": {},
   "source": [
    "*Explanation*"
   ]
  },
  {
   "cell_type": "markdown",
   "id": "24e6730f",
   "metadata": {},
   "source": [
    "Here imports a new package `functional` from `chromatix`. Inside this package is a collection of functions that are designed to help build classes in the modules of the package `elements`."
   ]
  },
  {
   "cell_type": "markdown",
   "id": "761fada7",
   "metadata": {},
   "source": [
    "#### **Class 1: Thinlens**"
   ]
  },
  {
   "cell_type": "markdown",
   "id": "3a1a7ebb",
   "metadata": {},
   "source": [
    "*Source Code*"
   ]
  },
  {
   "cell_type": "code",
   "execution_count": null,
   "id": "667eaa77",
   "metadata": {},
   "outputs": [],
   "source": [
    "class ThinLens(nn.Module):\n",
    "    \"\"\"\n",
    "    Applies a thin lens placed directly after the incoming ``Field``.\n",
    "    This element returns the ``Field`` directly after the lens.\n",
    "\n",
    "    This element can be placed after any element that returns a ``Field`` or\n",
    "    before any element that accepts a ``Field``.\n",
    "\n",
    "    The attributes ``f``, ``n``, and ``NA`` can be learned by using\n",
    "    ``chromatix.utils.trainable``.\n",
    "\n",
    "    Attributes:\n",
    "        f: Focal length of the lens.\n",
    "        n: Refractive index of the lens.\n",
    "        NA: If provided, the NA of the lens. By default, no pupil is applied\n",
    "            to the incoming ``Field``.\n",
    "    \"\"\"\n",
    "\n",
    "    f: Union[float, Callable[[PRNGKey], float]]\n",
    "    n: Union[float, Callable[[PRNGKey], float]]\n",
    "    NA: Optional[Union[float, Callable[[PRNGKey], float]]] = None\n",
    "\n",
    "    @nn.compact\n",
    "    def __call__(self, field: Field) -> Field:\n",
    "        f = register(self, \"f\")\n",
    "        n = register(self, \"n\")\n",
    "        NA = register(self, \"NA\")\n",
    "        return cf.thin_lens(field, f, n, NA)"
   ]
  },
  {
   "cell_type": "markdown",
   "id": "c81c5cde",
   "metadata": {},
   "source": [
    "*Explanation*"
   ]
  },
  {
   "cell_type": "markdown",
   "id": "50057200",
   "metadata": {},
   "source": [
    "This code defines a `THinlens` class, which is also a neural network class like the classes in the previous modules. It models the behavior of a thin lens in an optical system by taking the three attributes: `f` for focal length, `n` for refractive index, and `NA` for numerical aperture (optionally) to apply the effect of a thin lens to an incoming `Field` and returns the modified `Field`.\n",
    "\n",
    "The attributes `f` and `n` can either be a fixed value (`float`) or a callable that generates a value for dynamic training scenarios. For `NA`, if it's not provided, no pupil is applied to the incoming `Field` and `NA` is `None`, if it is provided, it can also be a fixed value (`float`) or a callable that generates a value for dynamic training scenarios.\n",
    "\n",
    "The thin lens effect is applied to the input `Field` by the `__call__` method. The `register` function is responsible for the registration of attribute in a `Flax` module as either parameters (trainable) or state variables (non-trainable). \n",
    "\n",
    "Trainable refers to attributes of the module that can be updated or learned during training. Parameters are the values that the model learns during training, like weights or biases in neural networks. And state variables are non-trainable values that can change during inference but aren't updated by the optimizer.\n",
    "\n",
    "Finally, the `cf.thin_lens` function applies the thin lens effect to the input `Field` and outputs the modified field."
   ]
  },
  {
   "cell_type": "markdown",
   "id": "293d4d30",
   "metadata": {},
   "source": [
    "#### **Class 2: FFlens**"
   ]
  },
  {
   "cell_type": "markdown",
   "id": "e76f5c06",
   "metadata": {},
   "source": [
    "*Source Code*"
   ]
  },
  {
   "cell_type": "code",
   "execution_count": null,
   "id": "321c182d",
   "metadata": {},
   "outputs": [],
   "source": [
    "class FFLens(nn.Module):\n",
    "    \"\"\"\n",
    "    Applies a thin lens placed a distance ``f`` after the incoming ``Field``.\n",
    "    This element returns the ``Field`` a distance ``f`` after the lens.\n",
    "\n",
    "    This element can be placed after any element that returns a ``Field`` or\n",
    "    before any element that accepts a ``Field``.\n",
    "\n",
    "    The attributes ``f``, ``n``, and ``NA`` can be learned by using\n",
    "    ``chromatix.utils.trainable``.\n",
    "\n",
    "    Attributes:\n",
    "        f: Focal length of the lens.\n",
    "        n: Refractive index of the lens.\n",
    "        NA: If provided, the NA of the lens. By default, no pupil is applied\n",
    "            to the incoming ``Field``.\n",
    "        inverse: Whether to use IFFT (default is False, which uses FFT).\n",
    "    \"\"\"\n",
    "\n",
    "    f: Union[float, Callable[[PRNGKey], float]]\n",
    "    n: Union[float, Callable[[PRNGKey], float]]\n",
    "    NA: Optional[Union[float, Callable[[PRNGKey], float]]] = None\n",
    "    inverse: bool = False\n",
    "\n",
    "    @nn.compact\n",
    "    def __call__(self, field: Field) -> Field:\n",
    "        f = register(self, \"f\")\n",
    "        n = register(self, \"n\")\n",
    "        NA = register(self, \"NA\")\n",
    "        return cf.ff_lens(field, f, n, NA, inverse=self.inverse)"
   ]
  },
  {
   "cell_type": "markdown",
   "id": "6420b50d",
   "metadata": {},
   "source": [
    "*Explanation*"
   ]
  },
  {
   "cell_type": "markdown",
   "id": "aee2c464",
   "metadata": {},
   "source": [
    "This class is used to simulate the case that a field propagates through a thin lens and then a distance `f` after the lens. This means that if the incoming field is a plane wave, the field will converge to a point at the distance `f` from the thin lens.\n",
    "\n",
    "Besides the attribute `f`, `n`, and `NA`, this class also includes the attribute `inverse` to determine whether to use the Inverse Fast Fourier Transform (IFFT) or the Fast Fourier Transform (FFT). If `inverse = False`, FFT will be applied, which means the field propagates normally. If `inverse = True`, IFFT will be applied, which means the field propagates backwards (`f` is negative).\n",
    "\n",
    "Finally, in the `__call__` method, the code call the function `cf.ff_lens`. First the function applies a numerical aperture to the field if provided, and then it propagates the field over a distance `f` of `-f` (if inverse) using FFT or IFFT and outputs the modified field."
   ]
  },
  {
   "cell_type": "markdown",
   "id": "158c8dd4",
   "metadata": {},
   "source": [
    "#### **Class 3: DFlens**"
   ]
  },
  {
   "cell_type": "markdown",
   "id": "23b10287",
   "metadata": {},
   "source": [
    "*Source Code*"
   ]
  },
  {
   "cell_type": "code",
   "execution_count": null,
   "id": "5e60e549",
   "metadata": {},
   "outputs": [],
   "source": [
    "class DFLens(nn.Module):\n",
    "    \"\"\"\n",
    "    Applies a thin lens placed a distance ``d`` after the incoming ``Field``.\n",
    "    This element returns the ``Field`` a distance ``f`` after the lens.\n",
    "\n",
    "    This element can be placed after any element that returns a ``Field`` or\n",
    "    before any element that accepts a ``Field``.\n",
    "\n",
    "    The attributes ``d``, ``f``, ``n``, and ``NA`` can be learned by using\n",
    "    ``chromatix.utils.trainable``.\n",
    "\n",
    "    Attributes:\n",
    "        d: Distance from the incoming ``Field`` to the lens.\n",
    "        f: Focal length of the lens.\n",
    "        n: Refractive index of the lens.\n",
    "        NA: If provided, the NA of the lens. By default, no pupil is applied\n",
    "            to the incoming ``Field``.\n",
    "        inverse: Whether to use IFFT (default is False, which uses FFT).\n",
    "    \"\"\"\n",
    "\n",
    "    d: Union[float, Callable[[PRNGKey], float]]\n",
    "    f: Union[float, Callable[[PRNGKey], float]]\n",
    "    n: Union[float, Callable[[PRNGKey], float]]\n",
    "    NA: Optional[Union[float, Callable[[PRNGKey], float]]] = None\n",
    "    inverse: bool = False\n",
    "\n",
    "    @nn.compact\n",
    "    def __call__(self, field: Field) -> Field:\n",
    "        d = register(self, \"d\")\n",
    "        f = register(self, \"f\")\n",
    "        n = register(self, \"n\")\n",
    "        NA = register(self, \"NA\")\n",
    "        return cf.df_lens(field, d, f, n, NA, inverse=self.inverse)"
   ]
  },
  {
   "cell_type": "markdown",
   "id": "f6d15866",
   "metadata": {},
   "source": [
    "*Explanation*"
   ]
  },
  {
   "cell_type": "markdown",
   "id": "81f2c1c9",
   "metadata": {},
   "source": [
    "This class is totally the same with the `FFlens` class, but it models the case that a field propagates through a thin lens and then a distance `d` after the lens."
   ]
  },
  {
   "cell_type": "markdown",
   "id": "b70b7ccf",
   "metadata": {},
   "source": [
    "### **Module 5: phase_masks**"
   ]
  },
  {
   "cell_type": "markdown",
   "id": "86cac296",
   "metadata": {},
   "source": [
    "#### **Imports**"
   ]
  },
  {
   "cell_type": "markdown",
   "id": "d538ef7a",
   "metadata": {},
   "source": [
    "*Source Code*"
   ]
  },
  {
   "cell_type": "code",
   "execution_count": null,
   "id": "a21c9638",
   "metadata": {},
   "outputs": [],
   "source": [
    "from typing import Callable, Optional, Tuple, Union\n",
    "import jax.numpy as jnp\n",
    "from chex import Array, PRNGKey\n",
    "from flax import linen as nn\n",
    "from jax.scipy.ndimage import map_coordinates\n",
    "from chromatix.field import Field\n",
    "from chromatix.functional import wrap_phase, phase_change\n",
    "from chromatix.utils import seidel_aberrations, zernike_aberrations\n",
    "from chromatix.ops import quantize\n",
    "from chromatix.elements.utils import register\n",
    "\n",
    "__all__ = [\n",
    "    \"PhaseMask\",\n",
    "    \"SpatialLightModulator\",\n",
    "    \"SeidelAberrations\",\n",
    "    \"ZernikeAberrations\",\n",
    "]"
   ]
  },
  {
   "cell_type": "markdown",
   "id": "67b542de",
   "metadata": {},
   "source": [
    "*Explanation*"
   ]
  },
  {
   "cell_type": "markdown",
   "id": "3b4aa165",
   "metadata": {},
   "source": [
    "1. `from jax.scipy.ndimage import map_coordinates`: \n",
    "    \n",
    "This line imports a JAX-compatible `map_coordinates` function of the module `ndimage` from `jax.scipy`. It takes an `input` array and a set of `coordinates` (floating point indices indicating locations) and interpolates the values at those coordinates using a given interpolation `order`. For example:"
   ]
  },
  {
   "cell_type": "code",
   "execution_count": 12,
   "id": "7cd53189",
   "metadata": {},
   "outputs": [
    {
     "name": "stdout",
     "output_type": "stream",
     "text": [
      "interpolate_values = [4.   3.75]\n"
     ]
    }
   ],
   "source": [
    "import jax.numpy as jnp\n",
    "from jax.scipy.ndimage import map_coordinates\n",
    "\n",
    "data = jnp.array([[1.0, 2.0, 3.0], \n",
    "                   [4.0, 5.0, 6.0], \n",
    "                   [7.0, 8.0, 9.0]])\n",
    "\n",
    "coordinates = jnp.array([[0.5, 1.5],\n",
    "                         [1.5, 2.5]])\n",
    "\n",
    "interpolate_values = map_coordinates(data, coordinates, order=1)\n",
    "\n",
    "print('interpolate_values =', interpolate_values)"
   ]
  },
  {
   "attachments": {
    "zernike_aberrations_table.jpg": {
     "image/jpeg": "[encoded data removed]"
    }
   },
   "cell_type": "markdown",
   "id": "753ebb9c",
   "metadata": {},
   "source": [
    "Here is how the interpolation works: Each pair of values in the `coordinates` array corresponds to a point in the `data` array at which `map_coordinates` will interpolate. The shape of `coordinates` is `(2, 2)` which means that there are two points needing interpolation, the first point corresponds to the value at `(0.5, 1.5)` in the `data` array, and the second point corresponds to the value at `(1.5, 2.5)` in the `data` array. \n",
    "\n",
    "For the first coordinate `(0.5, 1.5)`, it means that the point in the `data` array is between the first and second rows, the second and third columns. It's thus surrounded by `data[0, 1] = 2`, `data[0, 2] = 3`, `data[1, 1] = 5`, and `data[1, 2] = 6`. \n",
    "\n",
    "As for interpolation, `map_coordinates` first does row interpolation. For row 0.5, the interpolation is done between row 0 and row 1 for both columns 1 and 2. For column 1, the interpolation happens between `data[0, 1] = 2` and `data[1, 1] = 5` with weights 0.5, since the points are at the middle of the rows and columns:\n",
    "\n",
    "$$ interpolatedcol1 = 2 \\times 0.5 + 5 \\times 0.5 = 3.5 \\tag{2.2.6}$$\n",
    "\n",
    "For column 2, the interpolation happens between `data[0, 2] = 3` and `data[1, 2] = 6` with weights 0.5 and 0.5:\n",
    "\n",
    "$$ interpolatedcol1 = 3 \\times 0.5 + 6 \\times 0.5 = 4.5 \\tag{2.2.7}$$\n",
    "\n",
    "Then, the function does column interpolation between the row-interpolated values along the column axis:\n",
    "\n",
    "$$ finalvalue = 3.5 \\times 0.5 + 4.5 \\times 0.5 = 4 \\tag{2.2.8}$$\n",
    "\n",
    "The second point is at `(1.5, 2.5)`, which means it's surrounded by `data[1, 2]`, `data[1, 3]`, `data[2, 2]`. However, `data[2, 3]` and `data[1, 3]` are out of the `data` array. For making interpolations possible, the function handles the out-of-bounds points using `constant` mode by default, which means it sets `data[1, 3] = 0` and `data[2, 3] = 0` by default. Then the final inerpolated value is calculated in the same way as described above.\n",
    "\n",
    "2. `from chromatix.functional import wrap_phase, phase_change`:\n",
    "\n",
    "This line imports the `wrap_phase` and `phase_change` functions from the `phase_masks` module of the `chromatix_functional` package. `phase_change` perturbs a field by a phase and returns a modified field. `wrap_phase` wraps values of a phase to a given limit.\n",
    "\n",
    "3. `from chromatix.utils import seidel_aberrations, zernike_aberrations`:\n",
    "\n",
    "This line imports the functions `seidel_aberrations` and `zernike_aberrations` from the module `initializers` of the `chromatix.utils` package. `seidel_aberrations` is responsible for generating Seidel aberration phase masks, and `zernike_aberrations` is responsible for generating Zernike aberration phase masks.\n",
    "\n",
    "4. Seidel Aberration:\n",
    "\n",
    "In optics, aberration is a property of optical systems, such as lenses, that causes light to be spread out over some region of space rather than focused to a point. Aberrations cause the image formed by a lens to be blurred or distorted, with the nature of the distortion depending on the type of aberration. Aberration can be defined as a departure of the performance of an optical system from the predictions of paraxial optics.[@Optical_Aberration]\n",
    "\n",
    "The most commom types of aberrations are monochromatic aberrations, including tilt, defocus, spherical aberration, coma, astigmatism, field curvature, distortion, and chromatic aberrations, including axial chromatix aberration, lateral chromatix aberration.\n",
    "\n",
    "Seidel aberrations are known as primary or third-order aberrations, including spherical aberration, coma, astigmatism, field curvature, and distortion. These five Seidel can be mathematically expressed using polynomial expansions of the wavefront aberration function in polar coordinates:\n",
    "\n",
    "$$W(\\rho, \\theta) = W_s(\\rho) + W_c(\\rho, \\theta) + W_a(\\rho, \\theta) + W_f(\\rho) + W_d(\\rho) \\tag{2.2.9}$$\n",
    "\n",
    "Where $W$ is the total wavefront, $W_s$ represents spherical aberration, $W_c$ represents coma, $W_a$ represents astigmatism, $W_f$ represents field curvature, and $W_d$ represents distortion.\n",
    "\n",
    "5. Zernike Aberration:\n",
    "\n",
    "Zernike aberrations are a set of orthogonal polynomials used to describe wavefront aberrations in optical systems using polar coordinates. Each Zernike polynomial is defined by the radial order $n$ and the azimuthal frequency $m$:\n",
    "\n",
    "$$Z^m_n(\\rho, \\theta) = R^m_n(\\rho) \\cdot \\cos(m\\theta) \\tag{2.2.10}$$\n",
    "\n",
    "$$Z^{-m}_n(\\rho, \\theta) = R^m_n(\\rho) \\cdot \\sin(m\\theta) \\tag{2.2.11}$$\n",
    "\n",
    "$$R^m_n(\\rho) = \\sum^{(n-m)/2}_{k=0}\\frac{(-1)^k \\cdot (n-k)!}{k! \\cdot (\\frac{n+m}{2}-k)! \\cdot (\\frac{n-m}{2}-k)!} \\cdot \\rho^{n-2k} \\tag{2.2.12}$$\n",
    "\n",
    "Then, the Zernike polynomials can be used to express different types of aberrations:\n",
    "\n",
    "![zernike_aberrations_table.jpg](attachment:zernike_aberrations_table.jpg)\n",
    "\n",
    "And the total wavefront aberration is expressed as a sum of Zernike aberrations:\n",
    "\n",
    "$$W(\\rho, \\theta) = \\sum_{n,m}c^m_nZ^m_n(\\rho, \\theta) \\tag{2.2.13}"
   ]
  },
  {
   "cell_type": "markdown",
   "id": "223cca1b",
   "metadata": {},
   "source": [
    "#### **Class 1: PhaseMask**"
   ]
  },
  {
   "cell_type": "markdown",
   "id": "75361c2f",
   "metadata": {},
   "source": [
    "*Source Code*"
   ]
  },
  {
   "cell_type": "code",
   "execution_count": null,
   "id": "ce4196a1",
   "metadata": {},
   "outputs": [],
   "source": [
    "class PhaseMask(nn.Module):\n",
    "    \"\"\"\n",
    "    Applies a ``phase`` mask to an incoming ``Field``.\n",
    "\n",
    "    This element can be placed after any element that returns a ``Field`` or\n",
    "    before any element that accepts a ``Field``.\n",
    "\n",
    "    This element handles multi-wavelength ``Field``s by assuming that the first\n",
    "    wavelength in the ``spectrum`` of the ``Field`` is the central wavelength\n",
    "    for which the ``phase`` was calculated, and modulates the ``phase`` by the\n",
    "    ratio of other wavelengths in the ``spectrum`` to the central wavelength\n",
    "    appropriately.\n",
    "\n",
    "    The ``phase`` can be learned (pixel by pixel) by using\n",
    "    ``chromatix.utils.trainable``.\n",
    "\n",
    "    Since phase mask initializations might require information about the\n",
    "    pupil of a system, the extra parameters ``n``, ``f``, and ``NA`` can\n",
    "    be specified. These will be passed as arguments to the phase mask\n",
    "    initialization function if ``phase`` is trainable. Note that if any of\n",
    "    these is None, none of them will be passed to the initialization function\n",
    "    and you will get an error.\n",
    "\n",
    "    Attributes:\n",
    "        phase: The phase to be applied. Should have shape `(H W)`.\n",
    "        f: Focal length of the system's objective. Defaults to None.\n",
    "        n: Refractive index of the system's objective. Defaults to None.\n",
    "        NA: The numerical aperture of the system's objective. Defaults to None.\n",
    "    \"\"\"\n",
    "\n",
    "    phase: Union[Array, Callable[[PRNGKey, Tuple[int, int], float, float], Array]]\n",
    "    f: Optional[float] = None\n",
    "    n: Optional[float] = None\n",
    "    NA: Optional[float] = None\n",
    "\n",
    "    @nn.compact\n",
    "    def __call__(self, field: Field) -> Field:\n",
    "        \"\"\"Applies ``phase`` mask to incoming ``Field``.\"\"\"\n",
    "        if all(x is not None for x in [self.n, self.f, self.NA]):\n",
    "            pupil_args = (self.n, self.f, self.NA)\n",
    "        else:\n",
    "            pupil_args = ()\n",
    "\n",
    "        phase = register(\n",
    "            self,\n",
    "            \"phase\",\n",
    "            field.spatial_shape,\n",
    "            field.dx[..., 0, 0].squeeze(),\n",
    "            field.spectrum[..., 0, 0].squeeze(),\n",
    "            *pupil_args,\n",
    "        )\n",
    "\n",
    "        return phase_change(field, phase)"
   ]
  },
  {
   "cell_type": "markdown",
   "id": "20c01b7b",
   "metadata": {},
   "source": [
    "*Explanation*"
   ]
  },
  {
   "cell_type": "markdown",
   "id": "d3853a1c",
   "metadata": {},
   "source": [
    "The code above defines a class `PhaseMask` that inherits from `nn.Module`, indicating it's a neural network class. It's responsible for applying a phase mask to an incoming field and return a modified field. It takes four attributes, `phase`, `f`, `n`, and `NA`. \n",
    "\n",
    "1. Attributes:\n",
    "\n",
    "`f`, `n`, and `NA` are optional and have default values of `None`, meaning that they are often not considered unless a pupil exists and needs to be specified. `phase` could either be a normal 2D array to represent the phase mask directly, or a callable that returns a 2D array. If `phase` is a callable, it can be learned by using `chromatix.utils.trainable` to generate the phase mask for possible optimization.\n",
    "\n",
    "2. Method:\n",
    "\n",
    "Then, as usual, the code defines the `__call__` method, which makes the class callable like a function. The method takes a `Field` object which represents the incoming field and returns a phase-modified `Field`. In the method, an if-clause is applied to check if all the optional attributes `n`, `f`, and `NA` are provided. If provided, it creates a tuple `pupil_args` that contains these values. Otherwise, it assigns an empty tuple to `pupil_arg`， ensuring that the function only passes these arguments if all are defined.\n",
    "\n",
    "Then the code calls a `register` function to initialize or retrieve the `phase` mask depending on whether it's trainable or fixed. The result from this function is the phase mask and stored in the `phase` variable, which will be applied to the `Field`. \n",
    "\n",
    "In the `register` function, `self` is the current instance of `PhaseMask`, `\"phase\"` is the name of the parameter to register, and `field.spatial_shape` calls the method `spatial_shape` in the class `Field` to provide the shape of the field.\n",
    "\n",
    "`field.dx` and `field.spectrum` are the two attributes in the class `Field`. `field.dx` is the spacing of the sample in `field.u` (the complex field) in order to discretizing a continues field, and has a shape of `(2 B... H W C [1 | 3])`. `field.spectrum` is the wavelength sampled by the field with a shape of `(B... H W C [1 | 3])` \n",
    "\n",
    "`[..., 0, 0]` means that the preceding dimensions will be taken as they are, and from the last two dimensions, only the elements at position `[0, 0]` will be taken. For example, the first four dimensions (`(2 B... H W)`) of `field.dx` will be taken wholly, and from the fifth and sixth dimensions (`(C [1 | 3])`), only the first elements (`[0, 0]`) of the two dimensions will be taken.\n",
    "\n",
    "`.squeeze()` is applied to remove any singleton dimensions that might result after indexing `field.dx[..., 0, 0]` and `field.spectrum[..., 0, 0]`, ensuring that the unnecessary extra dimensions are removed. \n",
    "\n",
    "For example:"
   ]
  },
  {
   "cell_type": "code",
   "execution_count": 5,
   "id": "ae1e54df",
   "metadata": {},
   "outputs": [
    {
     "name": "stdout",
     "output_type": "stream",
     "text": [
      "shape of the input array: (1, 2, 3)\n",
      "input array = \n",
      " [[[1 2 3]\n",
      "  [4 5 6]]]\n",
      "shape of the output array: (2, 3)\n",
      "output array =\n",
      " [[1 2 3]\n",
      " [4 5 6]]\n"
     ]
    }
   ],
   "source": [
    "import numpy as np\n",
    "\n",
    "#Create a 3D array\n",
    "input_array = np.array([[[1, 2, 3], [4, 5, 6]]])\n",
    "\n",
    "print('shape of the input array:', input_array.shape)\n",
    "print('input array = \\n', input_array)\n",
    "\n",
    "#Squeeze the 3D array\n",
    "output_array = np.squeeze(input_array)\n",
    "\n",
    "print('shape of the output array:', output_array.shape)\n",
    "print('output array =\\n', output_array)"
   ]
  },
  {
   "cell_type": "markdown",
   "id": "db7e49f1",
   "metadata": {},
   "source": [
    "As shown above, the singleton dimension of the `input_array` is removed by `np.squeeze()`, converting the 3D array into a 2D array.\n",
    "\n",
    "`*pupil_args` returns an unpacked `pupil_args` tuple, since `register` needs individual arguments, but `pupil_args` can only be passed as a single argument."
   ]
  },
  {
   "cell_type": "code",
   "execution_count": 4,
   "id": "1625386b",
   "metadata": {},
   "outputs": [
    {
     "name": "stdout",
     "output_type": "stream",
     "text": [
      "unpacked pupil_args =\n",
      " 1.2 3.5 12\n"
     ]
    }
   ],
   "source": [
    "pupil_args = (1.2, 3.5 , 12)\n",
    "\n",
    "print('unpacked pupil_args =\\n', *pupil_args)"
   ]
  },
  {
   "cell_type": "markdown",
   "id": "92d3ee04",
   "metadata": {},
   "source": [
    "Finally, the phase mask is applied to the field using `phase_change` which modifies the phase of the field based on the phase mask."
   ]
  },
  {
   "cell_type": "markdown",
   "id": "f3cdcf84",
   "metadata": {},
   "source": [
    "#### **Class 2: SpatialLightModulator**"
   ]
  },
  {
   "cell_type": "markdown",
   "id": "b157b645",
   "metadata": {},
   "source": [
    "*Source Code*"
   ]
  },
  {
   "cell_type": "code",
   "execution_count": null,
   "id": "1ff151af",
   "metadata": {},
   "outputs": [],
   "source": [
    "class SpatialLightModulator(nn.Module):\n",
    "    \"\"\"\n",
    "    Simulates a spatial light modulator (SLM) applied to an incoming ``Field``.\n",
    "\n",
    "    This element can be placed after any element that returns a ``Field`` or\n",
    "    before any element that accepts a ``Field``.\n",
    "\n",
    "    This means that this element acts as if the SLM is phase only and transmits\n",
    "    a ``Field``, rather than reflecting it.\n",
    "\n",
    "    This element handles multi-wavelength ``Field``s by assuming that the first\n",
    "    wavelength in the ``spectrum`` of the ``Field`` is the central wavelength\n",
    "    for which the ``phase`` was calculated, and modulates the ``phase`` by the\n",
    "    ratio of other wavelengths in the ``spectrum`` to the central wavelength\n",
    "    appropriately.\n",
    "\n",
    "    This element also handles the limited phase modulation range of an SLM,\n",
    "    controlled by ``phase_range``.\n",
    "\n",
    "    This element also roughly handles the simulation of the surface of\n",
    "    the SLM by interpolating the phase with the given ``shape`` (which\n",
    "    can be the number of pixels in the SLM) to the shape of the incoming\n",
    "    ``Field``, which is assumed to have a shape larger than the given SLM\n",
    "    ``shape``. The order of the interpolation performed can be controlled with\n",
    "    ``interpolation_order``, but currently only orders of 0 (nearest neighbor)\n",
    "    and 1 (linear interpolation) are supported.\n",
    "\n",
    "    The ``phase`` of the SLM can be learned (pixel by pixel) by using\n",
    "    ``chromatix.utils.trainable``.\n",
    "\n",
    "    Attributes:\n",
    "        phase: The phase to be applied. Should have shape `(H W)`.\n",
    "        shape: The shape of the SLM, provided as (H W).\n",
    "        spacing: The pitch of the SLM pixels.\n",
    "        phase_range: The phase range that the SLM can simulate, provided as\n",
    "            (min, max).\n",
    "        num_bits: The number of bits of precision the phase pixels should be\n",
    "            quantized to. Defaults to None, in which case no quantization is\n",
    "            applied. Otherwise, the phase will be quantized to have\n",
    "            ``2.0 ** num_bits`` values within ``phase_range``.\n",
    "        interpolation_order: The order of interpolation for the SLM pixels to\n",
    "            the shape of the incoming ``Field``. Can be 0 or 1. Defaults to 0.\n",
    "        f: Focal length of the system's objective. Defaults to None.\n",
    "        n: Refractive index of the system's objective. Defaults to None.\n",
    "        NA: The numerical aperture of the system's objective. Defaults to None.\n",
    "    \"\"\"\n",
    "\n",
    "    phase: Union[Array, Callable[[PRNGKey, Tuple[int, int], float, float], Array]]\n",
    "    shape: Tuple[int, int]\n",
    "    spacing: float\n",
    "    phase_range: Tuple[float, float]\n",
    "    num_bits: Optional[Union[int, float]] = None\n",
    "    interpolation_order: int = 0\n",
    "    f: Optional[float] = None\n",
    "    n: Optional[float] = None\n",
    "    NA: Optional[float] = None\n",
    "\n",
    "    @nn.compact\n",
    "    def __call__(self, field: Field) -> Field:\n",
    "        \"\"\"Applies simulated SLM ``phase`` mask to incoming ``Field``.\"\"\"\n",
    "        if all(x is not None for x in [self.n, self.f, self.NA]):\n",
    "            pupil_args = (self.n, self.f, self.NA)\n",
    "        else:\n",
    "            pupil_args = ()\n",
    "\n",
    "        phase = register(\n",
    "            self,\n",
    "            \"phase\",\n",
    "            self.shape,\n",
    "            self.spacing,\n",
    "            field.spectrum[..., 0, 0].squeeze(),\n",
    "            *pupil_args,\n",
    "        )\n",
    "        assert (\n",
    "            phase.shape == self.shape\n",
    "        ), \"Provided phase shape should match provided SLM shape\"\n",
    "        phase = wrap_phase(phase, self.phase_range)\n",
    "        if self.num_bits is not None:\n",
    "            phase = quantize(phase, 2.0**self.num_bits, range=self.phase_range)\n",
    "        field_pixel_grid = jnp.meshgrid(\n",
    "            jnp.linspace(0, self.shape[0] - 1, num=field.spatial_shape[0]) + 0.5,\n",
    "            jnp.linspace(0, self.shape[1] - 1, num=field.spatial_shape[1]) + 0.5,\n",
    "            indexing=\"ij\",\n",
    "        )\n",
    "        phase = map_coordinates(phase, field_pixel_grid, self.interpolation_order)\n",
    "\n",
    "        return phase_change(field, phase)"
   ]
  },
  {
   "cell_type": "markdown",
   "id": "4427ffdd",
   "metadata": {},
   "source": [
    "*Explanation*"
   ]
  },
  {
   "cell_type": "markdown",
   "id": "81d0b8ff",
   "metadata": {},
   "source": [
    "This class simulates spatial light modulator. A spatial light modulator is a device used to control the intensity, phase, or polarization of light. In this case, the code only simulates the modulation of phase.\n",
    "\n",
    "Compared to the class `PhaseMask`, besides the same attributes `phase`, `f`, `n`, and `NA` which act as the same role, this class takes five more attributes, namely, `shape`, `spacing`, `phase_range`, `num_bits`, and `interpolation_order`. \n",
    "\n",
    "`shape` and `spacing` define the size and structure of a spatial light modulator. `shape` is defined as a tuple `(H, W)` representing the size of the spatial light modulator, where H and W are the number of pixels in the height and width directions, respectively. `spacing` defines the pitch, meaning the distance between two pixels.\n",
    "\n",
    "`phase_range` and `num_bits` defines how will the spatial light modulator modulate the phase of the incoming field. `phase_range` is also defined as a tuple, and it defines the range within which the spatial light modulator can modulate the phase. Because the period of a wave is $2\\pi$, the range is usually set between 0 and $2\\pi$, or $-\\pi$ and $\\pi$. `num_bits` is used to quantize the `phase_range`, controlling the precision of phase, namely, the number of discrete phase levels that the spatial light modulator can apply to the incoming field.\n",
    "\n",
    "`interpolation_order` indicates what kind of interpolation the `map_coordinates` should apply. `order = 0` means that `map_coordiantes` applies nearest_neighbor interpolation, which rounds each coordinate to its nearest integer value.\n",
    "\n",
    "For example:"
   ]
  },
  {
   "cell_type": "code",
   "execution_count": 14,
   "id": "b67a1010",
   "metadata": {},
   "outputs": [
    {
     "name": "stdout",
     "output_type": "stream",
     "text": [
      "interpolate_values = [6. 0.]\n"
     ]
    }
   ],
   "source": [
    "data = jnp.array([[1.0, 2.0, 3.0], \n",
    "                   [4.0, 5.0, 6.0], \n",
    "                   [7.0, 8.0, 9.0]])\n",
    "\n",
    "coordinates = jnp.array([[0.5, 1.5],\n",
    "                         [1.5, 2.5]])\n",
    "\n",
    "interpolated_values = map_coordinates(data, coordinates, order=0)\n",
    "\n",
    "print('interpolate_values =', interpolated_values)"
   ]
  },
  {
   "cell_type": "markdown",
   "id": "f8b9caeb",
   "metadata": {},
   "source": [
    "In this example, the `coordinates` is rounded to `[1, 2]` and `[2, 3]` as `order=0`. Accordingly, the `interpolate_value` becomes `data[1, 2] = 6` and `data[2, 3] = 0` (The boundary mode is `constant` by default which means out-of-array values are set to 0).\n",
    "\n",
    "`__call__` method defines what happens when the spatial light modulator is applied to an incoming field. The if-clause and `register` function do the same thing as in the `PhaseMask`. Apart from them, the method then uses clauses to achieve its goal.\n",
    "\n",
    "First, it applies a `assert` statement. The `assert` statement in Python is used as a debugging aid. It tests whether a given condition is `True`, if it is `False`, an `AssertionError` will be raised like this:"
   ]
  },
  {
   "cell_type": "code",
   "execution_count": 17,
   "id": "d6d66305",
   "metadata": {},
   "outputs": [
    {
     "ename": "AssertionError",
     "evalue": "",
     "output_type": "error",
     "traceback": [
      "\u001b[1;31m---------------------------------------------------------------------------\u001b[0m",
      "\u001b[1;31mAssertionError\u001b[0m                            Traceback (most recent call last)",
      "Cell \u001b[1;32mIn[17], line 3\u001b[0m\n\u001b[0;32m      1\u001b[0m x \u001b[38;5;241m=\u001b[39m \u001b[38;5;241m5\u001b[39m\n\u001b[0;32m      2\u001b[0m \u001b[38;5;28;01massert\u001b[39;00m(x\u001b[38;5;241m==\u001b[39m\u001b[38;5;241m5\u001b[39m)\n\u001b[1;32m----> 3\u001b[0m \u001b[38;5;28;01massert\u001b[39;00m(x\u001b[38;5;241m==\u001b[39m\u001b[38;5;241m1\u001b[39m)\n",
      "\u001b[1;31mAssertionError\u001b[0m: "
     ]
    }
   ],
   "source": [
    "x = 5\n",
    "assert(x==5)\n",
    "assert(x==1)"
   ]
  },
  {
   "cell_type": "markdown",
   "id": "d4312ed1",
   "metadata": {},
   "source": [
    "Second, it wraps `phase` within the `phase_range` which is typically $(0, 2\\pi)$ or $(-\\pi, \\pi)$ and then quantizes it `num_bits` is provided.\n",
    "\n",
    "Third, it creates `field_pixel_grid` with functions `jnp.meshgrid()` and `jnp.linspace()` in order to generate a grid of pixel coordinates, which is crucial when interpolating values to a field.\n",
    "\n",
    "`jnp.meshgrid()` constructs N-dimensional grid arrays from N 1-dimensional vectors and returns a length-N list of grid arrays.\n",
    "\n",
    "For example:"
   ]
  },
  {
   "cell_type": "code",
   "execution_count": 2,
   "id": "0906a0ad",
   "metadata": {},
   "outputs": [
    {
     "name": "stdout",
     "output_type": "stream",
     "text": [
      "X grid = [[0 0 0 0 0 0 0]\n",
      " [1 1 1 1 1 1 1]\n",
      " [2 2 2 2 2 2 2]\n",
      " [3 3 3 3 3 3 3]\n",
      " [4 4 4 4 4 4 4]\n",
      " [5 5 5 5 5 5 5]]\n",
      "Y grid = [[0 1 2 3 4 5 6]\n",
      " [0 1 2 3 4 5 6]\n",
      " [0 1 2 3 4 5 6]\n",
      " [0 1 2 3 4 5 6]\n",
      " [0 1 2 3 4 5 6]\n",
      " [0 1 2 3 4 5 6]]\n"
     ]
    }
   ],
   "source": [
    "import jax.numpy as jnp\n",
    "\n",
    "x = jnp.array([0, 1, 2, 3, 4, 5])\n",
    "y = jnp.array([0, 1, 2, 3, 4, 5, 6])\n",
    "\n",
    "X, Y = jnp.meshgrid(x, y, indexing = 'ij')\n",
    "\n",
    "print('X grid =', X)\n",
    "print('Y grid =', Y)"
   ]
  },
  {
   "cell_type": "markdown",
   "id": "9b9f2b54",
   "metadata": {},
   "source": [
    "`indexing = 'ij'` means the output uses matrix indexing. `indexing = 'xy'` means the output uses cartesian indexing (default).\n",
    "\n",
    "`jnp.linspace()` generates evenly spaced numbers between parameters `start` and `stop`. `num` is the number of points in the output array.\n",
    "\n",
    "For example:"
   ]
  },
  {
   "cell_type": "code",
   "execution_count": 15,
   "id": "48ccda26",
   "metadata": {},
   "outputs": [
    {
     "name": "stdout",
     "output_type": "stream",
     "text": [
      "a =  [0.  0.5 1.  1.5 2.  2.5 3.  3.5 4.  4.5 5. ]\n"
     ]
    }
   ],
   "source": [
    "# Create a 1D array starting from 0, stopping at 5 with 11 elements\n",
    "a = jnp.linspace(0, 5, 11)\n",
    "print('a = ', a)"
   ]
  },
  {
   "cell_type": "markdown",
   "id": "f756cd45",
   "metadata": {},
   "source": [
    "As the output shows, the difference between two neighboring elements is:\n",
    "\n",
    "$$ dif = \\frac{stop - start}{num - 1} \\tag{2.2.14}$$\n",
    "\n",
    "In the source code, `jnp.linspace(0, self.shape[0]-1, sum=field.spatial_shape[0])` creates a 1D array according to the height of the spatial light modulator (`self.shape[0]`), and the height of the incoming field (`field.spatial_shape[0]`). `+ 0.5` term shifts the generated values by half a unit for centering the coordinates within each pixel. This makes the coordinate to the center of each pixel rather than the edge, which is important when interpolating.\n",
    "\n",
    "Finally, the code applies `phase_change()` to apply the calculated phase modulation to the incoming field."
   ]
  },
  {
   "cell_type": "markdown",
   "id": "06877ea3",
   "metadata": {},
   "source": [
    "#### **Class 3: SeidelAberrations**"
   ]
  },
  {
   "cell_type": "markdown",
   "id": "cdeaf39b",
   "metadata": {},
   "source": [
    "*Source Code*"
   ]
  },
  {
   "cell_type": "code",
   "execution_count": null,
   "id": "9124835c",
   "metadata": {},
   "outputs": [],
   "source": [
    "class SeidelAberrations(nn.Module):\n",
    "    \"\"\"\n",
    "    Applies Seidel phase polynomial to an incoming ``Field``.\n",
    "\n",
    "    This element can be placed after any element that returns a ``Field`` or\n",
    "    before any element that accepts a ``Field``.\n",
    "\n",
    "    This element handles multi-wavelength ``Field``s by assuming that the first\n",
    "    wavelength in the ``spectrum`` of the ``Field`` is the central wavelength\n",
    "    for which the ``phase`` was calculated, and modulates the ``phase`` by the\n",
    "    ratio of other wavelengths in the ``spectrum`` to the central wavelength\n",
    "    appropriately.\n",
    "\n",
    "    The ``coefficients`` can be learned by using ``chromatix.utils.trainable``.\n",
    "\n",
    "    Attributes:\n",
    "        coefficients: The Seidel coefficients. Should have shape `[5,]`.\n",
    "        f: The focal length.\n",
    "        n: The refractive index.\n",
    "        NA: The numerical aperture. The applied phase will be 0 outside NA.\n",
    "        u: The horizontal position of the object field point\n",
    "        v: The vertical position of the object field point\n",
    "    \"\"\"\n",
    "\n",
    "    coefficients: Union[Array, Callable[[PRNGKey], Array]]\n",
    "    f: float\n",
    "    n: float\n",
    "    NA: float\n",
    "    u: float\n",
    "    v: float\n",
    "\n",
    "    @nn.compact\n",
    "    def __call__(self, field: Field) -> Field:\n",
    "        \"\"\"Applies ``phase`` mask to incoming ``Field``.\"\"\"\n",
    "        coefficients = register(self, \"coefficients\")\n",
    "        phase = seidel_aberrations(\n",
    "            field.spatial_shape,\n",
    "            field.dx[..., 0, 0].squeeze(),\n",
    "            field.spectrum[..., 0, 0].squeeze(),\n",
    "            self.n,\n",
    "            self.f,\n",
    "            self.NA,\n",
    "            coefficients,\n",
    "            self.u,\n",
    "            self.v,\n",
    "        )\n",
    "\n",
    "        return phase_change(field, phase)"
   ]
  },
  {
   "cell_type": "markdown",
   "id": "403621fa",
   "metadata": {},
   "source": [
    "*Explanation*"
   ]
  },
  {
   "cell_type": "markdown",
   "id": "6d547166",
   "metadata": {},
   "source": [
    "This class simulates Seidel aberration and applies a Seidel phase polynomial to a `Field` object. Seidel aberrations are low order optical aberrations that describe how light rays deviate due to imperfection in optical systems. They can be expressed as polynomials.\n",
    "\n",
    "The class takes the following attributes. `coefficients` is a set of coefficients that represent the Seidel aberration terms. Each coefficient corresponds to a specific type of aberration. It could be either an `Array` or `Callable`. When it's a `Callable`, it can be trained in neural network. `f`, `n`, and `NA` represent focal length, refractive index, and numerical aperture respectively. `u` and `v` describe the horizontal and vertical positions of an object field, since aberrations are spatially various causing phase changes vary depending on the positions of object points. They are crucial to calculate Seidel polynomials.\n",
    "\n",
    "In the `__call__` method, the code first registers the `coefficient` as a Flax parameter or variable depending on whether it's trainable. Then, it calls the function `seidel_aberrations` to compute the phase mask on the field's spatial shape, spacing, wavelength, and the object's refractive index, focal length, numerical aperture, Seidel coefficients. Finally, the code applies the phase mask to the incoming field."
   ]
  },
  {
   "cell_type": "markdown",
   "id": "9cac1253",
   "metadata": {},
   "source": [
    "#### **Class 4: ZernikeAberrations**"
   ]
  },
  {
   "cell_type": "markdown",
   "id": "98bd915d",
   "metadata": {},
   "source": [
    "*Source Code*"
   ]
  },
  {
   "cell_type": "code",
   "execution_count": null,
   "id": "b6231e32",
   "metadata": {},
   "outputs": [],
   "source": [
    "class ZernikeAberrations(nn.Module):\n",
    "    \"\"\"\n",
    "    Applies Zernike aberrations to an incoming ``Field``.\n",
    "\n",
    "    This element can be placed after any element that returns a ``Field`` or\n",
    "    before any element that accepts a ``Field``.\n",
    "\n",
    "    This element handles multi-wavelength ``Field``s by assuming that the first\n",
    "    wavelength in the ``spectrum`` of the ``Field`` is the central wavelength\n",
    "    for which the ``phase`` was calculated, and modulates the ``phase`` by the\n",
    "    ratio of other wavelengths in the ``spectrum`` to the central wavelength\n",
    "    appropriately.\n",
    "\n",
    "    Attributes:\n",
    "        coefficients: The Zernike coefficients as a 1D array.\n",
    "        f: The focal length.\n",
    "        n: The refractive index.\n",
    "        NA: The numerical aperture. The applied phase will be 0 outside NA.\n",
    "        ansi_indices: Indices of Zernike polynomials (ANSI indexing). Should\n",
    "            have same length as coefficients.\n",
    "    \"\"\"\n",
    "\n",
    "    coefficients: Union[Array, Callable[[PRNGKey], Array]]\n",
    "    f: float\n",
    "    n: float\n",
    "    NA: float\n",
    "    ansi_indices: Array\n",
    "\n",
    "    @nn.compact\n",
    "    def __call__(self, field: Field) -> Field:\n",
    "        \"\"\"Applies ``phase`` mask to incoming ``Field``.\"\"\"\n",
    "        coefficients = register(self, \"coefficients\")\n",
    "\n",
    "        phase = zernike_aberrations(\n",
    "            field.spatial_shape,\n",
    "            field.dx[..., 0, 0].squeeze(),\n",
    "            field.spectrum[..., 0, 0].squeeze(),\n",
    "            self.n,\n",
    "            self.f,\n",
    "            self.NA,\n",
    "            self.ansi_indices,\n",
    "            coefficients,\n",
    "        )\n",
    "\n",
    "        return phase_change(field, phase)"
   ]
  },
  {
   "cell_type": "markdown",
   "id": "87077df4",
   "metadata": {},
   "source": [
    "*Explanation*"
   ]
  },
  {
   "cell_type": "markdown",
   "id": "1de629fb",
   "metadata": {},
   "source": [
    "This class applies Zernike aberrations to an incoming field. Zernike aberrations are a series of polynomials used to express optical aberrations mathematically.\n",
    "\n",
    "Compared to the `SeidelAberrations` class, this class is extremely similar, apart from that this one takes an `ansi_indices` attributes. ANSI is short for American National Standards Institute. The OSA/ANSI indices for Zernike circle polynomials were initially developed by an OSA Standards Taskforce in 1999 to reach consensus recommendations on definitions, conventions, and standards for reporting of optical aberrations of human eyes. It was later standardized in ANSI Z80.28 and ISO 24157 and adopted in some commercial software, such as COMSOL Ray Optics Module.[@Zernike_polynomials_and_their_applications]\n",
    "\n",
    "The Zernike circle polynomials in the OSA/ANSI indices are defined as:[@Zernike_polynomials_and_their_applications]\n",
    "\n",
    "$$Z_j(\\rho, \\theta)=Z_n^m(\\rho, \\theta)=\\begin{cases}\n",
    "                                         N^m_nR_n^{\\lvert m \\rvert}(\\rho)\\cos(m\\theta), & m \\geq 0 \\\\\n",
    "                                         N^m_nR_n^{\\lvert m \\rvert}(\\rho)\\sin(\\lvert m \\rvert\\theta), & m < 0\n",
    "                                        \\end{cases} \\tag{2.2.15}$$\n",
    "\n",
    "Where $n$ is a non-negative integer, $m$ is an integer, $n-\\lvert m \\rvert \\geq 0$ and is even, $j$ is a mode-ordering number starting from 0. The radial polynomial $R_n^m(\\rho)$ is defined as:[@Zernike_polynomials_and_their_applications]\n",
    "\n",
    "$$R^{\\lvert m \\rvert}_n(\\rho) = \\sum^{(n-m)/2}_{s=0}\\frac{(-1)^s \\cdot (n-s)!}{s! \\cdot (\\frac{n+m}{2}-s)! \\cdot (\\frac{n-m}{2}-s)!} \\cdot \\rho^{n-2s} \\tag{2.2.16}$$\n",
    "\n",
    "The normalization factor $N^m_n$ can be written as:[@Zernike_polynomials_and_their_applications]\n",
    "\n",
    "$$N^m_n=\\sqrt{\\frac{2(n+1)}{1+\\delta_{m0}} \\tag{2.2.17}}$$\n",
    "\n",
    "The Zernike circle polynomials under OSA/ANSI indices can be sorted by either the single index $j$, or the double indices $n$ and $m$. To achieve conversion among these indices, one can use the following relations:[@Zernike_polynomials_and_their_applications]\n",
    "\n",
    "$$ j=\\frac{n(n+2)+m}{2} \\tag{2.2.18} $$\n",
    "$$ n=\\lceil \\frac{-3+\\sqrt{9+8j}}{2} \\rceil \\tag{2.2.19} $$\n",
    "$$ m=2j-n(n+2) \\tag{2.2.10} $$\n",
    "\n",
    "Where $\\lceil x \\rceil$ denotes the ceiling function that gives as output the least integer greater than or equal to $x$.\n",
    "\n",
    "The `__call__` method is used when the `ZernikeAberration` object is applied to a `Field` object. It calculates the Zernike phase aberration mask and applies it to the `Field` object"
   ]
  },
  {
   "cell_type": "markdown",
   "id": "3668c814",
   "metadata": {},
   "source": [
    "### **Module 6: propagation**"
   ]
  },
  {
   "cell_type": "markdown",
   "id": "e4acc5bb",
   "metadata": {},
   "source": [
    "#### **imports** "
   ]
  },
  {
   "cell_type": "markdown",
   "id": "d3fd2f31",
   "metadata": {},
   "source": [
    "*Source Code*"
   ]
  },
  {
   "cell_type": "code",
   "execution_count": null,
   "id": "60bcc607",
   "metadata": {},
   "outputs": [],
   "source": [
    "from typing import Callable, Literal, Optional, Tuple, Union\n",
    "\n",
    "import flax.linen as nn\n",
    "from chex import Array, PRNGKey\n",
    "\n",
    "from chromatix.elements.utils import Trainable, register\n",
    "from chromatix.field import crop, pad\n",
    "\n",
    "from ..field import Field\n",
    "from ..functional import (\n",
    "    asm_propagate,\n",
    "    compute_asm_propagator,\n",
    "    compute_exact_propagator,\n",
    "    compute_transfer_propagator,\n",
    "    exact_propagate,\n",
    "    kernel_propagate,\n",
    "    transfer_propagate,\n",
    "    transform_propagate,\n",
    ")\n",
    "\n",
    "__all__ = [\"Propagate\"]"
   ]
  },
  {
   "cell_type": "markdown",
   "id": "82f76599",
   "metadata": {},
   "source": [
    "*Explanation*"
   ]
  },
  {
   "cell_type": "markdown",
   "id": "71a4368f",
   "metadata": {},
   "source": [
    "Some new modules or packages that are imported in this module:\n",
    "\n",
    "1. `Literal`: This is used to specify that a variable or parameter must be one of a specific set of values. However, because Python is a dynamically typed language, which means type hints like `Literal` are not enforced at runtime, we have to install a type-checking tool like `mypy` to make `Literal` effective.\n",
    "\n",
    "2. `Trainable`: This class is a wrapper class to signal to a `Chromatix` element that a particular value (`val`) should be the initialization for a trainable parameter when used in the context of a neural network model in the `Chromatix` library.\n",
    "\n",
    "3. `crop`: This function is used to remove a specific number of pixels from the edges of the field along the spatial dimensions.\n",
    "\n",
    "4. `pad`: This function pads the field with a specific number of pixels along the spatial dimensions of the field.\n",
    "\n",
    "5. `asm_propagate`: This function is in the `functional` package, which is designed to simulate angular spectrum method (ASM) for wave propagation in an optical system. It handles the propagation of a given field over a specific distance without removing evanescent waves. This function returns the propagated field.\n",
    "\n",
    "6. `compute_asm_propagator`: This function calculates the propagation kernel (propagator) of the ASM without removing evanescent waves and Fresnel approximation for the `asm_propagate` to call. The core idea of the ASM is first transforming the field into angular spectrum by Fourier transform, then multiplying the transformed field by a propagation term which makes phase changes, finally, transforming the propagated field back into spatial domain by Inverse Fourier transform. This process is a well-known technique to numerically simulate wave propagation over a certain distance. In `Chromatix`, such a propagator is also called a propagation kernel.\n",
    "\n",
    "7. `exact_propagate`: This function also simulates the propagation of an incoming field over a specific distance and returns the propagated field, but using the exact propagator which removes the evanescent waves. Evanescent waves are components of the wave that decay exponentially and do not contribute to the far field propagation.\n",
    "\n",
    "8. `compute_exact_propagator`: This function calculates the exact propagation kernel without the Fresnel approximation and removes evanescent waves in the ASM way.\n",
    "\n",
    "9. `transfer_propogate`: This function is used to simulate the Fresnel propagation, which is also ASM, but under Fresnel approximation and returns the propagated field. Fresnel approximation is a common tool used to simplify the cases that the propagation distance is many orders of magnitude larger than the wavelength of the field.\n",
    "\n",
    "10. `compute_transfer_propagator`: As other propagator, this function also computes propagation kernel for Fresnel propagation and returns an array that can be multiplied with the Fourier transform of the incoming field, that is performed by `kernel_propagation`.\n",
    "\n",
    "11. `kernel_propagate`: This function applies a propagation kernel (propagator) to an incoming field. It's responsible for applying Fourier transform to the incoming field, and multiplying the field by a propagator, then applying the inverse Fourier transform to the propagated field, finally, returning the propagated field. Therefore, it's this function which performs the whole ASM process with a given propagator. This function works together with the propogators and `pad`, `crop` to achieve a whole propagation process.\n",
    "\n",
    "12. `transform_propagate`: Rather than using ASM, this function uses a method called single-FFT (SFT-FR) under Fresnel approximation to propagate the field over a specific distance. For the single Fourier transform method, only one Fourier transform is used to calculate the Fresnel diffraction; the sampling interval and sampling range of the output field vary with the propagation distance.[@Single_Fourier_Transform]"
   ]
  },
  {
   "cell_type": "markdown",
   "id": "da8c9872",
   "metadata": {},
   "source": [
    "#### **Class 1: Propagate** "
   ]
  },
  {
   "cell_type": "markdown",
   "id": "80eadc4e",
   "metadata": {},
   "source": [
    "*Source Code*"
   ]
  },
  {
   "cell_type": "code",
   "execution_count": null,
   "id": "fc9cf172",
   "metadata": {},
   "outputs": [],
   "source": [
    "class Propagate(nn.Module):\n",
    "    \"\"\"\n",
    "    Free space propagation that can be placed after or between other elements.\n",
    "\n",
    "    This element takes a ``Field`` as input and outputs a ``Field`` that has\n",
    "    been propagated by a distance ``z``. Optionally, the index of refraction of\n",
    "    the propagation medium can be learned.\n",
    "\n",
    "    For example, if this element is constructed as:\n",
    "\n",
    "    ```python\n",
    "    from chromatix.elements import Propagate\n",
    "    Propagate(n=1.33, method='transfer', mode='same')\n",
    "    ```\n",
    "\n",
    "    then this element has no trainable parameters, but if this element is\n",
    "    constructed as:\n",
    "\n",
    "    ```python\n",
    "    from chromatix.elements import Propagate\n",
    "    from chromatix.utils import trainable\n",
    "    Propagate(n=trainable(1.33), method='transfer', mode='same')\n",
    "    ```\n",
    "\n",
    "    then this element has a trainable refractive index, initialized to 1.33.\n",
    "\n",
    "    !!! warning\n",
    "        By default this element caches the propagation kernel using the option\n",
    "        ``cache_propagator``. Please be aware that this kernel gets placed\n",
    "        inside the variables dict when initialising the model, so you'll have to\n",
    "        split the dictionary into trainable parameters and non-trainable state.\n",
    "        See the documentation Training Chromatix Models for more information on\n",
    "        how to do this. If you would like to have a trainable propagation kernel\n",
    "        with your own initialisation, see ``KernelPropagate`` which accepts a\n",
    "        trainable ``propagator``.\n",
    "\n",
    "    Attributes:\n",
    "        z: Distance(s) to propagate.\n",
    "        n: Refractive index.\n",
    "        N_pad: The padding for propagation (will be used as both height and\n",
    "            width padding). To automatically calculate the padding, use padding\n",
    "            calculation functions from  ``chromatix.functional``. This must be\n",
    "            passesd outside of a ``jax.jit``. Defaults to 0 (no padding), which\n",
    "            will cause circular convolutions (edge artifacts) when propagating.\n",
    "        cval: The value to pad with if ``N_pad`` is greater than 0. Defaults\n",
    "            to 0.\n",
    "        kykx: If provided, defines the orientation of the propagation. Should\n",
    "            be an array of shape `[2,]` in the format [ky, kx].\n",
    "        method: The propagation method, which can be \"transform\", \"transfer\",\n",
    "            \"exact\", or \"asm.\" Defaults to \"exact\", which is propagation\n",
    "            without the Fresnel approximation and with evanescent waves\n",
    "            cancelled.\n",
    "        mode: Defines the cropping of the output if the method is \"transfer\" or\n",
    "            \"exact\". Defaults to \"same\", which returns a ``Field`` of the same\n",
    "            shape, unlike the functional methods.\n",
    "        cache_propagator: Whether to compute and store the propagation kernel\n",
    "            or not. If True, ``z`` and ``n`` cannot be trainable. Defaults\n",
    "            to True.\n",
    "    \"\"\"\n",
    "\n",
    "    z: Union[float, Array, Callable[[PRNGKey], Array]]\n",
    "    n: Union[float, Callable[[PRNGKey], Array]]\n",
    "    N_pad: int = 0\n",
    "    cval: float = 0\n",
    "    kykx: Union[Array, Tuple[float, float]] = (0.0, 0.0)\n",
    "    method: Literal[\"transform\", \"transfer\", \"exact\", \"asm\"] = \"exact\"\n",
    "    mode: Literal[\"full\", \"same\"] = \"same\"\n",
    "    cache_propagator: bool = True\n",
    "\n",
    "    @nn.compact\n",
    "    def __call__(self, field: Field) -> Field:\n",
    "        if self.cache_propagator and (\n",
    "            isinstance(self.z, Trainable) or isinstance(self.n, Trainable)\n",
    "        ):\n",
    "            raise ValueError(\"Cannot cache propagation kernel if z or n are trainable.\")\n",
    "        if self.cache_propagator and self.method not in [\"transfer\", \"exact\", \"asm\"]:\n",
    "            raise ValueError(\n",
    "                \"Can only cache kernel for 'transfer', 'exact', or 'asm' methods.\"\n",
    "            )\n",
    "        z = register(self, \"z\")\n",
    "        n = register(self, \"n\")\n",
    "        if self.cache_propagator:\n",
    "            field = pad(field, self.N_pad, cval=self.cval)\n",
    "            propagator_args = (\n",
    "                field,\n",
    "                z,\n",
    "                n,\n",
    "                self.kykx,\n",
    "            )\n",
    "            if self.method == \"transfer\":\n",
    "                propagator = self.variable(\n",
    "                    \"state\",\n",
    "                    \"kernel\",\n",
    "                    lambda: compute_transfer_propagator(*propagator_args),\n",
    "                )\n",
    "            elif self.method == \"exact\":\n",
    "                propagator = self.variable(\n",
    "                    \"state\",\n",
    "                    \"kernel\",\n",
    "                    lambda: compute_exact_propagator(*propagator_args),\n",
    "                )\n",
    "            elif self.method == \"asm\":\n",
    "                propagator = self.variable(\n",
    "                    \"state\",\n",
    "                    \"kernel\",\n",
    "                    lambda: compute_asm_propagator(*propagator_args),\n",
    "                )\n",
    "            field = kernel_propagate(field, propagator.value)\n",
    "            if self.mode == \"same\":\n",
    "                field = crop(field, self.N_pad)\n",
    "            return field\n",
    "        if self.method == \"transform\":\n",
    "            return transform_propagate(\n",
    "                field,\n",
    "                z,\n",
    "                n,\n",
    "                N_pad=self.N_pad,\n",
    "                cval=self.cval,\n",
    "            )\n",
    "        elif self.method == \"transfer\":\n",
    "            return transfer_propagate(\n",
    "                field,\n",
    "                z,\n",
    "                n,\n",
    "                N_pad=self.N_pad,\n",
    "                cval=self.cval,\n",
    "                kykx=self.kykx,\n",
    "                mode=self.mode,\n",
    "            )\n",
    "        elif self.method == \"exact\":\n",
    "            return exact_propagate(\n",
    "                field,\n",
    "                z,\n",
    "                n,\n",
    "                N_pad=self.N_pad,\n",
    "                cval=self.cval,\n",
    "                kykx=self.kykx,\n",
    "                mode=self.mode,\n",
    "            )\n",
    "        elif self.method == \"asm\":\n",
    "            return asm_propagate(\n",
    "                field,\n",
    "                z,\n",
    "                n,\n",
    "                N_pad=self.N_pad,\n",
    "                cval=self.cval,\n",
    "                kykx=self.kykx,\n",
    "                mode=self.mode,\n",
    "            )\n",
    "        else:\n",
    "            raise NotImplementedError(\n",
    "                \"Method must be one of 'transform', 'transfer', or 'exact'.\"\n",
    "            )"
   ]
  },
  {
   "cell_type": "markdown",
   "id": "1f22bdcf",
   "metadata": {},
   "source": [
    "*Explanation*"
   ]
  },
  {
   "cell_type": "markdown",
   "id": "eb5ee7aa",
   "metadata": {},
   "source": [
    "The code above creates a `Propagate` class, which simulates free-space propagation over a distance `z` and is defined by functions in the `functional` package. It takes a `Field` object as input and outputs a propagated field."
   ]
  },
  {
   "cell_type": "markdown",
   "id": "7a8e22ce",
   "metadata": {},
   "source": [
    "#### **Class 2: KernelPropagate** "
   ]
  },
  {
   "cell_type": "markdown",
   "id": "d66af91f",
   "metadata": {},
   "source": [
    "*Source Code*"
   ]
  },
  {
   "cell_type": "code",
   "execution_count": null,
   "id": "6b56c826",
   "metadata": {},
   "outputs": [],
   "source": [
    "class KernelPropagate(nn.Module):\n",
    "    \"\"\"\n",
    "    Free space propagation with a precomputed propagation kernel.\n",
    "\n",
    "    This element takes a ``Field`` as input and outputs a ``Field`` that has\n",
    "    been propagated by a distance that is already defined by a propagation\n",
    "    kernel. Optionally, this kernel can be a learned parameter using\n",
    "    ``chromatix.utils.trainable``.\n",
    "\n",
    "    All attributes other than the ``propagator`` and ``mode`` will be\n",
    "    sent as arguments to the propagation kernel initialization function if\n",
    "    ``propagator`` is trainable.\n",
    "\n",
    "    Attributes:\n",
    "        propagator: The propagation kernel to use. Can be trainable.\n",
    "        z: Distance(s) to propagate. Defaults to None.\n",
    "        n: Refractive index. Defaults to None.\n",
    "        N_pad: The padding for propagation (will be used as both height and\n",
    "            width padding). To automatically calculate the padding, use padding\n",
    "            calculation functions from  ``chromatix.functional``. This must be\n",
    "            passesd outside of a ``jax.jit``. Defaults to 0 (no padding), which\n",
    "            will cause circular convolutions (edge artifacts) when propagating.\n",
    "        cval: The value to pad with if ``N_pad`` is greater than 0. Defaults\n",
    "            to 0.\n",
    "        kykx: If provided, defines the orientation of the propagation. Should\n",
    "            be an array of shape `[2,]` in the format [ky, kx].\n",
    "        mode: Defines the cropping of the output if the method is \"transfer\" or\n",
    "            \"exact\". Defaults to \"same\", which returns a ``Field`` of the same\n",
    "            shape, unlike the functional methods.\n",
    "    \"\"\"\n",
    "\n",
    "    propagator: Union[Array, Callable[[PRNGKey], Array]]\n",
    "    z: Optional[Union[float, Array]] = None\n",
    "    n: Optional[float] = None\n",
    "    N_pad: int = 0\n",
    "    cval: float = 0\n",
    "    kykx: Union[Array, Tuple[float, float]] = (0.0, 0.0)\n",
    "    mode: Literal[\"full\", \"same\"] = \"same\"\n",
    "\n",
    "    @nn.compact\n",
    "    def __call__(self, field: Field) -> Field:\n",
    "        field = pad(field, self.N_pad, cval=self.cval)\n",
    "        propagator = register(\n",
    "            self,\n",
    "            \"propagator\",\n",
    "            field,\n",
    "            self.z,\n",
    "            self.n,\n",
    "            self.kykx,\n",
    "        )\n",
    "\n",
    "        field = kernel_propagate(field, propagator)\n",
    "        if self.mode == \"same\":\n",
    "            field = crop(field, self.N_pad)\n",
    "        return field"
   ]
  },
  {
   "cell_type": "markdown",
   "id": "00439429",
   "metadata": {},
   "source": [
    "*Explanation*"
   ]
  },
  {
   "cell_type": "markdown",
   "id": "6a4ea46d",
   "metadata": {},
   "source": []
  }
 ],
 "metadata": {
  "celltoolbar": "Edit Metadata",
  "kernelspec": {
   "display_name": "Python 3",
   "language": "python",
   "name": "python3"
  },
  "language_info": {
   "codemirror_mode": {
    "name": "ipython",
    "version": 3
   },
   "file_extension": ".py",
   "mimetype": "text/x-python",
   "name": "python",
   "nbconvert_exporter": "python",
   "pygments_lexer": "ipython3",
   "version": "3.12.6"
  },
  "toc-autonumbering": false,
  "toc-showcode": false,
  "toc-showmarkdowntxt": false,
  "toc-showtags": false
 },
 "nbformat": 4,
 "nbformat_minor": 5
}
